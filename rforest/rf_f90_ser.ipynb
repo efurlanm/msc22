{
 "cells": [
  {
   "cell_type": "markdown",
   "metadata": {},
   "source": [
    "# RANDOM FOREST F90 SERIAL\n",
    "\n",
    "- Uses **PARF** - Parallel random forest (RF) algorithm, MPI-enabled, implemented in Fortran, CLI. By Goran Topić and Tomislav Šmuc, from Ruđer Bošković Institute, Croatia : https://www.irb.hr/eng/Scientific-Support-Centres/Centre-for-Informatics-and-Computing/Projects2/IT-projects/PARF\n",
    "\n",
    "- Dataset from : https://www.kaggle.com/sakhawat18/asteroid-dataset (converted to arff using Weka. Attributes dropped: id, spkid, full_name, pdes, name, prefix, orbit_id, equinox. The class attribute was placed in the last position.)\n",
    "\n",
    "- Instances: train: 66.000, test: 34.000"
   ]
  },
  {
   "cell_type": "markdown",
   "metadata": {
    "tags": []
   },
   "source": [
    "#### Copy files to /scratch"
   ]
  },
  {
   "cell_type": "code",
   "execution_count": 11,
   "metadata": {},
   "outputs": [],
   "source": [
    "%%bash\n",
    "SCR=/scratch${PWD#\"/prj\"}\n",
    "mkdir $SCR\n",
    "cp -r parf/datasets $SCR\n",
    "cp parf/parf/parf $SCR\n",
    "cp parf/parf/parf-s $SCR"
   ]
  },
  {
   "cell_type": "markdown",
   "metadata": {},
   "source": [
    "#### Slurm batch script"
   ]
  },
  {
   "cell_type": "code",
   "execution_count": 6,
   "metadata": {},
   "outputs": [
    {
     "name": "stdout",
     "output_type": "stream",
     "text": [
      "Writing rfs6.srm\n"
     ]
    }
   ],
   "source": [
    "%%writefile rfs6.srm\n",
    "#!/bin/bash\n",
    "#SBATCH --job-name rfs6         # Job name\n",
    "#SBATCH --partition cpu_small  # Select partition\n",
    "#SBATCH --ntasks=1             # Total tasks\n",
    "#SBATCH --time=00:05:00        # Limit execution time\n",
    "#SBATCH --exclusive            # Exclusive acccess to nodes\n",
    "\n",
    "echo '========================================'\n",
    "echo '- Job ID:' $SLURM_JOB_ID\n",
    "echo '- Tasks per node:' $SLURM_NTASKS_PER_NODE\n",
    "echo '- # of nodes in the job:' $SLURM_JOB_NUM_NODES\n",
    "echo '- # of tasks:' $SLURM_NTASKS\n",
    "echo '- Dir from which sbatch was invoked:' ${SLURM_SUBMIT_DIR##*/}\n",
    "cd $SLURM_SUBMIT_DIR\n",
    "echo -n '- List of nodes allocated to the job: '\n",
    "nodeset -e $SLURM_JOB_NODELIST\n",
    "\n",
    "# Environment\n",
    "echo '-- modules ----------------------------'\n",
    "SCR=/scratch${PWD#\"/prj\"}\n",
    "DT1=datasets/asteroid-train-66k.arff\n",
    "DT2=datasets/asteroid-test-34k.arff\n",
    "EXEC=\"parf-s -t \"$DT1\" -a \"$DT2\n",
    "\n",
    "# Start\n",
    "echo '-- run --------------------------------'\n",
    "echo '$ srun -n' $SLURM_NTASKS ${EXEC##*/}\n",
    "echo '-- output -----------------------------'\n",
    "srun -n $SLURM_NTASKS $EXEC\n",
    "echo '~~ end ~~~~~~~~~~~~~~~~~~~~~~~~~~~~~~~~'"
   ]
  },
  {
   "cell_type": "markdown",
   "metadata": {},
   "source": [
    "<hr style=\"height:10px;border-width:0;background-color:green\">"
   ]
  },
  {
   "cell_type": "markdown",
   "metadata": {},
   "source": [
    "## Run"
   ]
  },
  {
   "cell_type": "code",
   "execution_count": 7,
   "metadata": {},
   "outputs": [
    {
     "name": "stdout",
     "output_type": "stream",
     "text": [
      "Submitted batch job 1344896\n",
      "Submitted batch job 1344897\n",
      "Submitted batch job 1344898\n"
     ]
    }
   ],
   "source": [
    "%%bash\n",
    "sbatch rfs6.srm\n",
    "sbatch rfs6.srm\n",
    "sbatch rfs6.srm"
   ]
  },
  {
   "cell_type": "code",
   "execution_count": 2,
   "metadata": {},
   "outputs": [
    {
     "name": "stdout",
     "output_type": "stream",
     "text": [
      "========================================\n",
      "- Job ID: 1344896\n",
      "- Tasks per node:\n",
      "- # of nodes in the job: 1\n",
      "- # of tasks: 1\n",
      "- Dir from which sbatch was invoked: rf\n",
      "- List of nodes allocated to the job: sdumont1278\n",
      "-- modules ----------------------------\n",
      "-- run --------------------------------\n",
      "$ srun -n 1 asteroid-test-34k.arff\n",
      "-- output -----------------------------\n",
      "Trainset classification error is   0.06% of   66000 (kappa: 0.9908 )\n",
      " Testset classification error is   0.62% of   34000 (kappa: 0.9064 )\n",
      "T: 136.8559  |  N: 1\n",
      "~~ end ~~~~~~~~~~~~~~~~~~~~~~~~~~~~~~~~\n",
      "========================================\n",
      "- Job ID: 1344897\n",
      "- Tasks per node:\n",
      "- # of nodes in the job: 1\n",
      "- # of tasks: 1\n",
      "- Dir from which sbatch was invoked: rf\n",
      "- List of nodes allocated to the job: sdumont1437\n",
      "-- modules ----------------------------\n",
      "-- run --------------------------------\n",
      "$ srun -n 1 asteroid-test-34k.arff\n",
      "-- output -----------------------------\n",
      "Trainset classification error is   0.06% of   66000 (kappa: 0.9908 )\n",
      " Testset classification error is   0.58% of   34000 (kappa: 0.9118 )\n",
      "T: 140.7614  |  N: 1\n",
      "~~ end ~~~~~~~~~~~~~~~~~~~~~~~~~~~~~~~~\n",
      "========================================\n",
      "- Job ID: 1344898\n",
      "- Tasks per node:\n",
      "- # of nodes in the job: 1\n",
      "- # of tasks: 1\n",
      "- Dir from which sbatch was invoked: rf\n",
      "- List of nodes allocated to the job: sdumont1444\n",
      "-- modules ----------------------------\n",
      "-- run --------------------------------\n",
      "$ srun -n 1 asteroid-test-34k.arff\n",
      "-- output -----------------------------\n",
      "Trainset classification error is   0.06% of   66000 (kappa: 0.9913 )\n",
      " Testset classification error is   0.47% of   34000 (kappa: 0.9292 )\n",
      "T: 135.4580  |  N: 1\n",
      "~~ end ~~~~~~~~~~~~~~~~~~~~~~~~~~~~~~~~\n"
     ]
    }
   ],
   "source": [
    "%%bash\n",
    "cat /scratch${PWD#\"/prj\"}/slurm-1344896.out\n",
    "cat /scratch${PWD#\"/prj\"}/slurm-1344897.out\n",
    "cat /scratch${PWD#\"/prj\"}/slurm-1344898.out"
   ]
  },
  {
   "cell_type": "code",
   "execution_count": null,
   "metadata": {},
   "outputs": [],
   "source": []
  },
  {
   "cell_type": "code",
   "execution_count": 9,
   "metadata": {},
   "outputs": [
    {
     "name": "stdout",
     "output_type": "stream",
     "text": [
      "33\n"
     ]
    }
   ],
   "source": [
    "! squeue -u $(whoami) -h -t pending,running -r | wc -l"
   ]
  },
  {
   "cell_type": "code",
   "execution_count": 10,
   "metadata": {},
   "outputs": [
    {
     "name": "stdout",
     "output_type": "stream",
     "text": [
      "385\n"
     ]
    }
   ],
   "source": [
    "! squeue --partition=cpu_small -h -t pending,running -r | wc -l"
   ]
  },
  {
   "cell_type": "code",
   "execution_count": 8,
   "metadata": {},
   "outputs": [
    {
     "name": "stdout",
     "output_type": "stream",
     "text": [
      "             JOBID  PARTITION  ST  TIME NODES CPUS\n",
      "           1344896  cpu_small  PD  0:00     1    1\n",
      "           1344897  cpu_small  PD  0:00     1    1\n",
      "           1344898  cpu_small  PD  0:00     1    1\n"
     ]
    }
   ],
   "source": [
    "! squeue -n rfs6 -o \"%.18i  %.9P  %.2t %.5M %.5D %.4C\""
   ]
  },
  {
   "cell_type": "code",
   "execution_count": 1,
   "metadata": {},
   "outputs": [
    {
     "name": "stdout",
     "output_type": "stream",
     "text": [
      "             JOBID  PARTITION  ST  TIME NODES CPUS\n"
     ]
    }
   ],
   "source": [
    "! squeue -n rfs6 -o \"%.18i  %.9P  %.2t %.5M %.5D %.4C\""
   ]
  },
  {
   "cell_type": "markdown",
   "metadata": {},
   "source": [
    "<hr style=\"height:10px;border-width:0;background-color:red\">"
   ]
  },
  {
   "cell_type": "code",
   "execution_count": null,
   "metadata": {},
   "outputs": [],
   "source": []
  }
 ],
 "metadata": {
  "kernelspec": {
   "display_name": "Python 3 (ipykernel)",
   "language": "python",
   "name": "python3"
  },
  "language_info": {
   "codemirror_mode": {
    "name": "ipython",
    "version": 3
   },
   "file_extension": ".py",
   "mimetype": "text/x-python",
   "name": "python",
   "nbconvert_exporter": "python",
   "pygments_lexer": "ipython3",
   "version": "3.8.13"
  }
 },
 "nbformat": 4,
 "nbformat_minor": 4
}
