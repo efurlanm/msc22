{
 "cells": [
  {
   "cell_type": "markdown",
   "id": "90cc1db9",
   "metadata": {},
   "source": [
    "# RANDOM FOREST CYTHON SERIAL\n",
    "\n",
    "Preloaded:\n",
    "\n",
    "    source /scratch/xxx/rfcs/env2/etc/profile.d/conda.sh\n",
    "    conda activate /scratch/xxx/rfcs/env2"
   ]
  },
  {
   "cell_type": "code",
   "execution_count": 7,
   "id": "f96ce272",
   "metadata": {},
   "outputs": [],
   "source": [
    "%load_ext cython"
   ]
  },
  {
   "cell_type": "code",
   "execution_count": 9,
   "id": "fa69d9e5",
   "metadata": {},
   "outputs": [
    {
     "name": "stdout",
     "output_type": "stream",
     "text": [
      "Writing rfcs.pyx\n"
     ]
    }
   ],
   "source": [
    "%%writefile rfcs.pyx\n",
    "#cython: boundscheck=False, wraparound=False, cdivision=True\n",
    "#cython: initializedcheck=False, language_level=3, infer_types=True\n",
    "def rfcsf(trainset, testset) :\n",
    "    import pandas as pd\n",
    "    import numpy as np\n",
    "    import sys\n",
    "    from scipy.io import arff\n",
    "    from sklearn.impute import SimpleImputer\n",
    "    from sklearn.ensemble import RandomForestClassifier\n",
    "    from sklearn import metrics\n",
    "\n",
    "    data = arff.loadarff(trainset)\n",
    "    df = pd.DataFrame(data[0])\n",
    "    df = df.replace(b'N', 0)\n",
    "    df = df.replace(b'Y', 1)\n",
    "    df['class'] = df['class'].str.decode('utf-8').fillna(df['class'])\n",
    "    y_train = df['class']\n",
    "    X_train = df.drop(columns=['class'])\n",
    "    imp = SimpleImputer(missing_values = np.nan, strategy = 'mean')\n",
    "    df2 = pd.DataFrame(imp.fit_transform(X_train))\n",
    "    df2.columns = X_train.columns\n",
    "    df2.index = X_train.index\n",
    "    X_train = df2\n",
    "\n",
    "    datat = arff.loadarff(testset)\n",
    "    df = pd.DataFrame(datat[0])\n",
    "    df = df.replace(b'N', 0)\n",
    "    df = df.replace(b'Y', 1)\n",
    "    df['class'] = df['class'].str.decode('utf-8').fillna(df['class'])\n",
    "    y_test = df['class']\n",
    "    X_test = df.drop(columns = ['class'])\n",
    "    imp = SimpleImputer(missing_values = np.nan, strategy = 'mean')\n",
    "    df2 = pd.DataFrame(imp.fit_transform(X_test))\n",
    "    df2.columns = X_test.columns\n",
    "    df2.index = X_test.index\n",
    "    X_test = df2\n",
    "\n",
    "    clf = RandomForestClassifier(n_estimators = 100)\n",
    "    clf.fit(X_train, y_train)\n",
    "    y_pred_test  = clf.predict(X_test)\n",
    "    y_pred_train = clf.predict(X_train)\n",
    "    accu = metrics.accuracy_score(y_train, y_pred_train, normalize = False)\n",
    "    trtrsi = y_train.size\n",
    "    trperr = ((trtrsi - accu) / (trtrsi)) * 100\n",
    "    trkapp = metrics.cohen_kappa_score(y_train, y_pred_train)\n",
    "    \n",
    "    accu = metrics.accuracy_score(y_test, y_pred_test, normalize = False)\n",
    "    tetrsi = y_test.size\n",
    "    teperr = ((tetrsi - accu) / (tetrsi)) * 100\n",
    "    tekapp = metrics.cohen_kappa_score(y_test, y_pred_test)\n",
    "    \n",
    "    return trtrsi, trperr, trkapp, tetrsi, teperr, tekapp"
   ]
  },
  {
   "cell_type": "code",
   "execution_count": 10,
   "id": "e601d2a1",
   "metadata": {},
   "outputs": [
    {
     "name": "stdout",
     "output_type": "stream",
     "text": [
      "Writing setups.py\n"
     ]
    }
   ],
   "source": [
    "%%writefile setups.py\n",
    "from distutils.core import setup\n",
    "from distutils.extension import Extension\n",
    "from Cython.Distutils import build_ext\n",
    "setup(\n",
    "    name='rfcs',\n",
    "    ext_modules=[\n",
    "        Extension('rfcs',\n",
    "            sources=['rfcs.pyx'],\n",
    "            extra_compile_args=['-O3']\n",
    "        )\n",
    "    ],\n",
    "    cmdclass = {'build_ext': build_ext}\n",
    ")"
   ]
  },
  {
   "cell_type": "code",
   "execution_count": 11,
   "id": "12e42279",
   "metadata": {},
   "outputs": [
    {
     "name": "stdout",
     "output_type": "stream",
     "text": [
      "running build_ext\n",
      "cythoning rfcs.pyx to rfcs.c\n",
      "building 'rfcs' extension\n",
      "creating build\n",
      "creating build/temp.linux-x86_64-3.8\n",
      "/scratch/ampemi/xxxx.xxxx/env2/bin/x86_64-conda_cos6-linux-gnu-cc -Wno-unused-result -Wsign-compare -DNDEBUG -fwrapv -O2 -Wall -Wstrict-prototypes -march=nocona -mtune=haswell -ftree-vectorize -fPIC -fstack-protector-strong -fno-plt -O2 -pipe -march=nocona -mtune=haswell -ftree-vectorize -fPIC -fstack-protector-strong -fno-plt -O2 -pipe -march=nocona -mtune=haswell -ftree-vectorize -fPIC -fstack-protector-strong -fno-plt -O2 -ffunction-sections -pipe -isystem /scratch/ampemi/xxxx.xxxx/env2/include -I/scratch/app/openmpi/4.0_gnu/include -DNDEBUG -D_FORTIFY_SOURCE=2 -O2 -isystem /scratch/ampemi/xxxx.xxxx/env2/include -fPIC -I/scratch/ampemi/xxxx.xxxx/env2/include/python3.8 -c rfcs.c -o build/temp.linux-x86_64-3.8/rfcs.o -O3\n",
      "x86_64-conda_cos6-linux-gnu-gcc -pthread -shared -Wl,-O2 -Wl,--sort-common -Wl,--as-needed -Wl,-z,relro -Wl,-z,now -Wl,-rpath,/scratch/ampemi/xxxx.xxxx/env2/lib -L/scratch/ampemi/xxxx.xxxx/env2/lib -Wl,-O2 -Wl,--sort-common -Wl,--as-needed -Wl,-z,relro -Wl,-z,now -Wl,-rpath,/scratch/ampemi/xxxx.xxxx/env2/lib -L/scratch/ampemi/xxxx.xxxx/env2/lib -L/scratch/app/openmpi/4.0_gnu/lib -Wl,-O2 -Wl,--sort-common -Wl,--as-needed -Wl,-z,relro -Wl,-z,now -Wl,--disable-new-dtags -Wl,--gc-sections -Wl,-rpath,/scratch/ampemi/xxxx.xxxx/env2/lib -Wl,-rpath-link,/scratch/ampemi/xxxx.xxxx/env2/lib -L/scratch/ampemi/xxxx.xxxx/env2/lib -march=nocona -mtune=haswell -ftree-vectorize -fPIC -fstack-protector-strong -fno-plt -O2 -ffunction-sections -pipe -isystem /scratch/ampemi/xxxx.xxxx/env2/include -I/scratch/app/openmpi/4.0_gnu/include -DNDEBUG -D_FORTIFY_SOURCE=2 -O2 -isystem /scratch/ampemi/xxxx.xxxx/env2/include build/temp.linux-x86_64-3.8/rfcs.o -o /prj/ampemi/xxxx.xxxx/rf/rfcs.cpython-38-x86_64-linux-gnu.so\n"
     ]
    }
   ],
   "source": [
    "%%bash\n",
    "rm -f rfcs*.so\n",
    "python setups.py build_ext --inplace"
   ]
  },
  {
   "cell_type": "code",
   "execution_count": 12,
   "id": "8f0caa4c",
   "metadata": {},
   "outputs": [
    {
     "name": "stdout",
     "output_type": "stream",
     "text": [
      "rfcs.cpython-38-x86_64-linux-gnu.so\n"
     ]
    }
   ],
   "source": [
    "! ls rfcs*.so"
   ]
  },
  {
   "cell_type": "code",
   "execution_count": 18,
   "id": "322d0ef2",
   "metadata": {},
   "outputs": [
    {
     "name": "stdout",
     "output_type": "stream",
     "text": [
      "Help on module rfcs:\n",
      "\n",
      "NAME\n",
      "    rfcs\n",
      "\n",
      "FUNCTIONS\n",
      "    rfcsf(...)\n",
      "\n",
      "DATA\n",
      "    __test__ = {}\n",
      "\n",
      "FILE\n",
      "    /prj/ampemi/xxxx.xxxx/rf/rfcs.cpython-38-x86_64-linux-gnu.so\n",
      "\n",
      "\n"
     ]
    }
   ],
   "source": [
    "import rfcs\n",
    "help(rfcs)"
   ]
  },
  {
   "cell_type": "code",
   "execution_count": 2,
   "id": "a86a20d9",
   "metadata": {},
   "outputs": [
    {
     "name": "stdout",
     "output_type": "stream",
     "text": [
      "Overwriting rfcsc6.py\n"
     ]
    }
   ],
   "source": [
    "%%writefile rfcsc6.py\n",
    "from time import time\n",
    "from rfcs import rfcsf\n",
    "\n",
    "t0 = time()\n",
    "trainset = \"datasets/asteroid-train-66k.arff\"\n",
    "testset  = \"datasets/asteroid-test-34k.arff\"\n",
    "trtrsi, trperr, trkapp, tetrsi, teperr, tekapp = rfcsf(trainset, testset)\n",
    "t1 = time() - t0\n",
    "print(f'Trainset classification error is {trperr:.2f}% ',\n",
    "      f'of {trtrsi} (kappa: {trkapp:.4f})')\n",
    "print(f' Testset classification error is {teperr:.2f}% ',\n",
    "      f'of {tetrsi} (kappa: {tekapp:.4f})')\n",
    "print(f\"T: {t1:.4f}\")"
   ]
  },
  {
   "cell_type": "code",
   "execution_count": 4,
   "id": "22dd7359",
   "metadata": {},
   "outputs": [],
   "source": [
    "! cp rfcs*.* /scratch${PWD#\"/prj\"}"
   ]
  },
  {
   "cell_type": "code",
   "execution_count": 13,
   "id": "4c470138",
   "metadata": {},
   "outputs": [
    {
     "name": "stdout",
     "output_type": "stream",
     "text": [
      "Overwriting rfcs6.srm\n"
     ]
    }
   ],
   "source": [
    "%%writefile rfcs6.srm\n",
    "#!/bin/bash\n",
    "#SBATCH --job-name rfcs6        # Job name\n",
    "#SBATCH --partition cpu_small  # Select partition\n",
    "#SBATCH --ntasks=1             # Total tasks\n",
    "#SBATCH --time=00:05:00        # Limit execution time\n",
    "#SBATCH --exclusive            # Exclusive acccess to nodes\n",
    "\n",
    "echo '========================================'\n",
    "echo '- Job ID:' $SLURM_JOB_ID\n",
    "echo '- Tasks per node:' $SLURM_NTASKS_PER_NODE\n",
    "echo '- # of nodes in the job:' $SLURM_JOB_NUM_NODES\n",
    "echo '- # of tasks:' $SLURM_NTASKS\n",
    "echo '- Dir from which sbatch was invoked:' ${SLURM_SUBMIT_DIR##*/}\n",
    "cd $SLURM_SUBMIT_DIR\n",
    "echo -n '- List of nodes allocated to the job: '\n",
    "nodeset -e $SLURM_JOB_NODELIST\n",
    "\n",
    "# Environment\n",
    "cd\n",
    "dir=/scratch${PWD#\"/prj\"}\n",
    "cd $dir\n",
    "source $dir/env2/etc/profile.d/conda.sh\n",
    "conda activate $dir/env2\n",
    "cd rf\n",
    "\n",
    "# Executable config\n",
    "EXEC=\"python rfcsc6.py\"\n",
    "\n",
    "# Start\n",
    "echo '$ srun --mpi=pmi2 -n' $SLURM_NTASKS ${EXEC##*/}\n",
    "echo '-- output -----------------------------'\n",
    "srun --mpi=pmi2 -n $SLURM_NTASKS $EXEC\n",
    "echo '~~ end ~~~~~~~~~~~~~~~~~~~~~~~~~~~~~~~~'"
   ]
  },
  {
   "cell_type": "markdown",
   "id": "d0e48fda-081e-48a4-abc9-5bccdbf68bd9",
   "metadata": {},
   "source": [
    "<hr style=\"height:10px;border-width:0;background-color:green\">"
   ]
  },
  {
   "cell_type": "markdown",
   "id": "85822ff3",
   "metadata": {},
   "source": [
    "## Run"
   ]
  },
  {
   "cell_type": "code",
   "execution_count": 1,
   "id": "0b9ca2ff",
   "metadata": {},
   "outputs": [
    {
     "name": "stdout",
     "output_type": "stream",
     "text": [
      "Submitted batch job 1347031\n",
      "Submitted batch job 1347032\n",
      "Submitted batch job 1347033\n"
     ]
    }
   ],
   "source": [
    "%%bash\n",
    "sbatch rfcs6.srm\n",
    "sbatch rfcs6.srm\n",
    "sbatch rfcs6.srm"
   ]
  },
  {
   "cell_type": "code",
   "execution_count": 2,
   "id": "c99df532",
   "metadata": {},
   "outputs": [
    {
     "name": "stdout",
     "output_type": "stream",
     "text": [
      "========================================\n",
      "- Job ID: 1347031\n",
      "- Tasks per node:\n",
      "- # of nodes in the job: 1\n",
      "- # of tasks: 1\n",
      "- Dir from which sbatch was invoked: rf\n",
      "- List of nodes allocated to the job: sdumont1477\n",
      "$ srun --mpi=pmi2 -n 1 python rfcsc6.py\n",
      "-- output -----------------------------\n",
      "Trainset classification error is 0.00%  of 66000 (kappa: 1.0000)\n",
      " Testset classification error is 0.00%  of 34000 (kappa: 0.9997)\n",
      "T: 29.3792\n",
      "~~ end ~~~~~~~~~~~~~~~~~~~~~~~~~~~~~~~~\n",
      "========================================\n",
      "- Job ID: 1347032\n",
      "- Tasks per node:\n",
      "- # of nodes in the job: 1\n",
      "- # of tasks: 1\n",
      "- Dir from which sbatch was invoked: rf\n",
      "- List of nodes allocated to the job: sdumont1437\n",
      "$ srun --mpi=pmi2 -n 1 python rfcsc6.py\n",
      "-- output -----------------------------\n",
      "Trainset classification error is 0.00%  of 66000 (kappa: 1.0000)\n",
      " Testset classification error is 0.01%  of 34000 (kappa: 0.9991)\n",
      "T: 30.5746\n",
      "~~ end ~~~~~~~~~~~~~~~~~~~~~~~~~~~~~~~~\n",
      "========================================\n",
      "- Job ID: 1347033\n",
      "- Tasks per node:\n",
      "- # of nodes in the job: 1\n",
      "- # of tasks: 1\n",
      "- Dir from which sbatch was invoked: rf\n",
      "- List of nodes allocated to the job: sdumont1438\n",
      "$ srun --mpi=pmi2 -n 1 python rfcsc6.py\n",
      "-- output -----------------------------\n",
      "Trainset classification error is 0.00%  of 66000 (kappa: 1.0000)\n",
      " Testset classification error is 0.00%  of 34000 (kappa: 0.9997)\n",
      "T: 28.4117\n",
      "~~ end ~~~~~~~~~~~~~~~~~~~~~~~~~~~~~~~~\n"
     ]
    }
   ],
   "source": [
    "%%bash\n",
    "cat /scratch${PWD#\"/prj\"}/slurm-1347031.out\n",
    "cat /scratch${PWD#\"/prj\"}/slurm-1347032.out\n",
    "cat /scratch${PWD#\"/prj\"}/slurm-1347033.out"
   ]
  },
  {
   "cell_type": "code",
   "execution_count": 16,
   "id": "da360f48",
   "metadata": {},
   "outputs": [
    {
     "name": "stdout",
     "output_type": "stream",
     "text": [
      "96\n"
     ]
    }
   ],
   "source": [
    "! squeue -u $(whoami) -h -t pending,running -r | wc -l"
   ]
  },
  {
   "cell_type": "code",
   "execution_count": 17,
   "id": "7a21a3cb",
   "metadata": {},
   "outputs": [
    {
     "name": "stdout",
     "output_type": "stream",
     "text": [
      "449\n"
     ]
    }
   ],
   "source": [
    "! squeue --partition=cpu_small -h -t pending,running -r | wc -l"
   ]
  },
  {
   "cell_type": "markdown",
   "id": "d839c9ff-fbe2-4a25-9129-e59f45906631",
   "metadata": {},
   "source": [
    "<hr style=\"height:10px;border-width:0;background-color:red\">"
   ]
  },
  {
   "cell_type": "markdown",
   "id": "52f55f90-185e-411b-9d63-4c46097d8008",
   "metadata": {},
   "source": [
    "## Version"
   ]
  },
  {
   "cell_type": "code",
   "execution_count": 1,
   "id": "035f2da7",
   "metadata": {},
   "outputs": [
    {
     "name": "stdout",
     "output_type": "stream",
     "text": [
      "Python 3.8.5\n"
     ]
    }
   ],
   "source": [
    "! python --version"
   ]
  },
  {
   "cell_type": "code",
   "execution_count": 2,
   "id": "16c39d6e",
   "metadata": {},
   "outputs": [
    {
     "name": "stdout",
     "output_type": "stream",
     "text": [
      "Cython version 0.29.21\n"
     ]
    }
   ],
   "source": [
    "! cython --version"
   ]
  }
 ],
 "metadata": {
  "kernelspec": {
   "display_name": "Python 3 (ipykernel)",
   "language": "python",
   "name": "python3"
  },
  "language_info": {
   "codemirror_mode": {
    "name": "ipython",
    "version": 3
   },
   "file_extension": ".py",
   "mimetype": "text/x-python",
   "name": "python",
   "nbconvert_exporter": "python",
   "pygments_lexer": "ipython3",
   "version": "3.8.13"
  }
 },
 "nbformat": 4,
 "nbformat_minor": 5
}
