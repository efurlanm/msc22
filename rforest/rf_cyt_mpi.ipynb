{
 "cells": [
  {
   "cell_type": "markdown",
   "metadata": {},
   "source": [
    "# RANDOM FOREST CYTHON MPI"
   ]
  },
  {
   "cell_type": "code",
   "execution_count": 1,
   "metadata": {},
   "outputs": [
    {
     "name": "stdout",
     "output_type": "stream",
     "text": [
      "Overwriting rfcm.pyx\n"
     ]
    }
   ],
   "source": [
    "%%writefile rfcm.pyx\n",
    "#cython: boundscheck=False, wraparound=False, cdivision=True\n",
    "#cython: initializedcheck=False, language_level=3, infer_types=True\n",
    "def rfcmf(trainset, testset) :\n",
    "    import logging, os, sys, datetime\n",
    "    import pandas as pd, numpy as np\n",
    "    from sklearn.impute import SimpleImputer\n",
    "    from sklearn.ensemble import RandomForestClassifier\n",
    "    from sklearn import metrics\n",
    "    from scipy.io import arff\n",
    "    import ipyparallel as ipp\n",
    "    from ipyparallel.joblib import IPythonParallelBackend\n",
    "    from joblib import Parallel, parallel_backend\n",
    "    from joblib import register_parallel_backend\n",
    "    from joblib import delayed, cpu_count\n",
    "    from time import time\n",
    "    t = time()\n",
    "\n",
    "    # Get & prepare data\n",
    "    data = arff.loadarff(trainset)\n",
    "    df = pd.DataFrame(data[0])\n",
    "    df = df.replace(b'N', 0)\n",
    "    df = df.replace(b'Y', 1)\n",
    "    df['class'] = df['class'].str.decode('utf-8').fillna(df['class'])\n",
    "    y_train = df['class']\n",
    "    X_train = df.drop(columns=['class'])\n",
    "    imp = SimpleImputer(missing_values = np.nan, strategy = 'mean')\n",
    "    df2 = pd.DataFrame(imp.fit_transform(X_train))\n",
    "    df2.columns = X_train.columns\n",
    "    df2.index = X_train.index\n",
    "    X_train = df2\n",
    "\n",
    "    datat = arff.loadarff(testset)\n",
    "    df = pd.DataFrame(datat[0])\n",
    "    df = df.replace(b'N', 0)\n",
    "    df = df.replace(b'Y', 1)\n",
    "    df['class'] = df['class'].str.decode('utf-8').fillna(df['class'])\n",
    "    y_test = df['class']\n",
    "    X_test = df.drop(columns = ['class'])\n",
    "    imp = SimpleImputer(missing_values = np.nan, strategy = 'mean')\n",
    "    df2 = pd.DataFrame(imp.fit_transform(X_test))\n",
    "    df2.columns = X_test.columns\n",
    "    df2.index = X_test.index\n",
    "    X_test = df2\n",
    "\n",
    "    clf = RandomForestClassifier(n_estimators = 100)\n",
    "    with parallel_backend('ipyparallel') :\n",
    "        clf.fit(X_train, y_train)\n",
    "    y_pred_test  = clf.predict(X_test)\n",
    "    y_pred_train = clf.predict(X_train)\n",
    "    accu = metrics.accuracy_score(y_train, y_pred_train,\n",
    "                                  normalize = False)\n",
    "    trtrsi = y_train.size\n",
    "    trperr = ((trtrsi - accu) / (trtrsi)) * 100\n",
    "    trkapp = metrics.cohen_kappa_score(y_train, y_pred_train)\n",
    "    \n",
    "    accu = metrics.accuracy_score(y_test, y_pred_test, \n",
    "                                  normalize = False)\n",
    "    tetrsi = y_test.size\n",
    "    teperr = ((tetrsi - accu) / (tetrsi)) * 100\n",
    "    tekapp = metrics.cohen_kappa_score(y_test, y_pred_test)\n",
    "\n",
    "    return trtrsi, trperr, trkapp, tetrsi, teperr, tekapp"
   ]
  },
  {
   "cell_type": "code",
   "execution_count": 2,
   "metadata": {},
   "outputs": [
    {
     "name": "stdout",
     "output_type": "stream",
     "text": [
      "Overwriting setups.py\n"
     ]
    }
   ],
   "source": [
    "%%writefile setups.py\n",
    "from distutils.core import setup\n",
    "from distutils.extension import Extension\n",
    "from Cython.Distutils import build_ext\n",
    "setup(\n",
    "    name='rfcm',\n",
    "    ext_modules=[\n",
    "        Extension('rfcm',\n",
    "            sources=['rfcm.pyx'],\n",
    "            extra_compile_args=['-O3']\n",
    "        )\n",
    "    ],\n",
    "    cmdclass = {'build_ext': build_ext}\n",
    ")"
   ]
  },
  {
   "cell_type": "code",
   "execution_count": 3,
   "metadata": {},
   "outputs": [
    {
     "name": "stdout",
     "output_type": "stream",
     "text": [
      "running build_ext\n",
      "cythoning rfcm.pyx to rfcm.c\n",
      "building 'rfcm' extension\n",
      "/scratch/ampemi/xxxx.xxxx/env2/bin/x86_64-conda_cos6-linux-gnu-cc -Wno-unused-result -Wsign-compare -DNDEBUG -fwrapv -O2 -Wall -Wstrict-prototypes -march=nocona -mtune=haswell -ftree-vectorize -fPIC -fstack-protector-strong -fno-plt -O2 -pipe -march=nocona -mtune=haswell -ftree-vectorize -fPIC -fstack-protector-strong -fno-plt -O2 -pipe -march=nocona -mtune=haswell -ftree-vectorize -fPIC -fstack-protector-strong -fno-plt -O2 -ffunction-sections -pipe -isystem /scratch/ampemi/xxxx.xxxx/env2/include -DNDEBUG -D_FORTIFY_SOURCE=2 -O2 -isystem /scratch/ampemi/xxxx.xxxx/env2/include -fPIC -I/scratch/ampemi/xxxx.xxxx/env2/include/python3.8 -c rfcm.c -o build/temp.linux-x86_64-3.8/rfcm.o -O3\n",
      "x86_64-conda_cos6-linux-gnu-gcc -pthread -shared -Wl,-O2 -Wl,--sort-common -Wl,--as-needed -Wl,-z,relro -Wl,-z,now -Wl,-rpath,/scratch/ampemi/xxxx.xxxx/env2/lib -L/scratch/ampemi/xxxx.xxxx/env2/lib -Wl,-O2 -Wl,--sort-common -Wl,--as-needed -Wl,-z,relro -Wl,-z,now -Wl,-rpath,/scratch/ampemi/xxxx.xxxx/env2/lib -L/scratch/ampemi/xxxx.xxxx/env2/lib -Wl,-O2 -Wl,--sort-common -Wl,--as-needed -Wl,-z,relro -Wl,-z,now -Wl,--disable-new-dtags -Wl,--gc-sections -Wl,-rpath,/scratch/ampemi/xxxx.xxxx/env2/lib -Wl,-rpath-link,/scratch/ampemi/xxxx.xxxx/env2/lib -L/scratch/ampemi/xxxx.xxxx/env2/lib -march=nocona -mtune=haswell -ftree-vectorize -fPIC -fstack-protector-strong -fno-plt -O2 -ffunction-sections -pipe -isystem /scratch/ampemi/xxxx.xxxx/env2/include -DNDEBUG -D_FORTIFY_SOURCE=2 -O2 -isystem /scratch/ampemi/xxxx.xxxx/env2/include build/temp.linux-x86_64-3.8/rfcm.o -o /prj/ampemi/xxxx.xxxx/rf/rfcm.cpython-38-x86_64-linux-gnu.so\n"
     ]
    }
   ],
   "source": [
    "%%bash\n",
    "rm -f rfcm*.so  # clean\n",
    "python setups.py build_ext --inplace --quiet"
   ]
  },
  {
   "cell_type": "code",
   "execution_count": 14,
   "metadata": {},
   "outputs": [
    {
     "name": "stdout",
     "output_type": "stream",
     "text": [
      "-rwxr-xr-x 1 1,3M Set 28 14:02 rfcm.cpython-38-x86_64-linux-gnu.so\n"
     ]
    }
   ],
   "source": [
    "! ls -gGh rfcm*.so"
   ]
  },
  {
   "cell_type": "code",
   "execution_count": 15,
   "metadata": {},
   "outputs": [
    {
     "name": "stdout",
     "output_type": "stream",
     "text": [
      "Help on module rfcm:\n",
      "\n",
      "NAME\n",
      "    rfcm\n",
      "\n",
      "FUNCTIONS\n",
      "    rfcmf(...)\n",
      "\n",
      "DATA\n",
      "    __test__ = {}\n",
      "\n",
      "FILE\n",
      "    /prj/ampemi/xxxx.xxxx/rf/rfcm.cpython-38-x86_64-linux-gnu.so\n",
      "\n",
      "\n"
     ]
    }
   ],
   "source": [
    "import rfcm\n",
    "help(rfcm)"
   ]
  },
  {
   "cell_type": "code",
   "execution_count": 5,
   "metadata": {},
   "outputs": [
    {
     "name": "stdout",
     "output_type": "stream",
     "text": [
      "Overwriting rfcmc6.py\n"
     ]
    }
   ],
   "source": [
    "%%writefile rfcmc6.py\n",
    "import argparse\n",
    "from time import time\n",
    "from rfcm import rfcmf\n",
    "import ipyparallel as ipp\n",
    "from ipyparallel.joblib import IPythonParallelBackend\n",
    "from joblib import Parallel, parallel_backend\n",
    "from joblib import register_parallel_backend\n",
    "from joblib import delayed, cpu_count\n",
    "\n",
    "t0 = time()\n",
    "trainset = \"datasets/asteroid-train-66k.arff\"\n",
    "testset  = \"datasets/asteroid-test-34k.arff\"\n",
    "parser = argparse.ArgumentParser()\n",
    "parser.add_argument(\"-p\", \"--profile\", required=True,\n",
    "    help=\"Name of IPython profile to use\")\n",
    "profile = parser.parse_args().profile\n",
    "\n",
    "# Prepare the engines\n",
    "c = ipp.Client(profile = profile)\n",
    "ncli = len(c.ids)\n",
    "bview = c.load_balanced_view()\n",
    "register_parallel_backend('ipyparallel',\n",
    "    lambda : IPythonParallelBackend(view = bview) )\n",
    "\n",
    "( trtrsi, trperr, trkapp, tetrsi, teperr, tekapp\n",
    "    ) = rfcmf(trainset, testset)\n",
    "\n",
    "# Shutdown the engines\n",
    "c.shutdown(hub=True, block=False)\n",
    "\n",
    "# Result\n",
    "t1 = time() - t0\n",
    "print(f'Trainset classification error is {trperr:.2f}% ',\n",
    "      f'of {trtrsi} (kappa: {trkapp:.4f})')\n",
    "print(f' Testset classification error is {teperr:.2f}% ',\n",
    "      f'of {tetrsi} (kappa: {tekapp:.4f})')\n",
    "print(f\"T: {t1:.4f}  |  N: {ncli:0g}\")"
   ]
  },
  {
   "cell_type": "markdown",
   "metadata": {},
   "source": [
    "## Copy to /scratch"
   ]
  },
  {
   "cell_type": "code",
   "execution_count": 6,
   "metadata": {},
   "outputs": [],
   "source": [
    "! cp rfcm* /scratch${PWD#/prj}"
   ]
  },
  {
   "cell_type": "markdown",
   "metadata": {},
   "source": [
    "## SLURM script"
   ]
  },
  {
   "cell_type": "code",
   "execution_count": 7,
   "metadata": {},
   "outputs": [
    {
     "name": "stdout",
     "output_type": "stream",
     "text": [
      "Overwriting rfcm6.srm\n"
     ]
    }
   ],
   "source": [
    "%%writefile rfcm6.srm\n",
    "#!/bin/bash -l\n",
    "#SBATCH --job-name rfcm6        # Job name\n",
    "#SBATCH --partition cpu_small  # Select partition\n",
    "#SBATCH --ntasks=1             # Total tasks(CPUs)\n",
    "#SBATCH --time=00:10:00        # Limit execution time\n",
    "#SBATCH --exclusive            # Exclusive acccess to nodes\n",
    "\n",
    "echo '========================================'\n",
    "echo '- Job ID:' $SLURM_JOB_ID\n",
    "echo '- # of nodes in the job:' $SLURM_JOB_NUM_NODES\n",
    "echo '- # of tasks:' $SLURM_NTASKS\n",
    "echo '- Dir from which sbatch was invoked:' ${SLURM_SUBMIT_DIR##*/}\n",
    "cd $SLURM_SUBMIT_DIR\n",
    "echo -n '- Nodes allocated to the job: '\n",
    "nodeset -e $SLURM_JOB_NODELIST\n",
    "\n",
    "# get path\n",
    "RF=/scratch${PWD#/prj}\n",
    "SCR=${RF%/rf}\n",
    "\n",
    "# path to a directory which IPython will use for user data\n",
    "export IPYTHONSCR=$SCR/.ipython\n",
    "              \n",
    "# Load Python environment and MPI module\n",
    "source $SCR/env2/etc/profile.d/conda.sh\n",
    "conda activate $SCR/env2\n",
    "module load openmpi/gnu/4.0.1\n",
    "\n",
    "echo -n '<1. starting ipython>        ' && date\n",
    "# create a new ipython profile appended with the job id number\n",
    "PROFILE=job_${SLURM_JOB_ID}\n",
    "ipython profile create ${PROFILE} --parallel --quiet\n",
    "\n",
    "echo -n '<2. starting ipcontroller>   ' && date\n",
    "# run ipcontroler on one core\n",
    "ipcontroller --ip=\"*\" --profile=${PROFILE} --quiet &\n",
    "sleep 10\n",
    "\n",
    "echo -n '<3. starting srun ipengine>  ' && date\n",
    "# run ipengine on each available core\n",
    "srun --mpi=pmi2 -n $SLURM_NTASKS \\\n",
    "    ipengine --location=$(hostname) --profile=${PROFILE} --quiet &\n",
    "sleep 25\n",
    "\n",
    "# Executable\n",
    "EXEC='rfcmc6.py'\n",
    "\n",
    "# run the script\n",
    "echo -n '<4. starting python script > ' && date\n",
    "echo '-- output -----------------------------'\n",
    "python ${EXEC} --profile ${PROFILE}\n",
    "echo '-- end --------------------------------'\n",
    "echo -n '<5. quit>                    ' && date"
   ]
  },
  {
   "cell_type": "markdown",
   "metadata": {},
   "source": [
    "## Check"
   ]
  },
  {
   "cell_type": "code",
   "execution_count": 8,
   "metadata": {},
   "outputs": [
    {
     "name": "stdout",
     "output_type": "stream",
     "text": [
      "Submitted batch job 1366933\n"
     ]
    }
   ],
   "source": [
    "! sbatch --partition cpu_dev --ntasks=96 rfcm6.srm"
   ]
  },
  {
   "cell_type": "code",
   "execution_count": 9,
   "metadata": {},
   "outputs": [
    {
     "name": "stdout",
     "output_type": "stream",
     "text": [
      "          START_TIME    JOBID PARTITION  NAME ST  TIME NODES CPUS\n",
      " 2021-09-28T14:35:33  1366933   cpu_dev rfcm6  R  0:00     4   96\n"
     ]
    }
   ],
   "source": [
    "! squeue --name=rfcm6 --partition=cpu_dev --format=\"%.20S %.8i %.9P %.5j %.2t %.5M %.5D %.4C\""
   ]
  },
  {
   "cell_type": "code",
   "execution_count": 11,
   "metadata": {},
   "outputs": [
    {
     "name": "stdout",
     "output_type": "stream",
     "text": [
      "          START_TIME    JOBID PARTITION  NAME ST  TIME NODES CPUS\n"
     ]
    }
   ],
   "source": [
    "! squeue --name=rfcm6 --partition=cpu_dev --format=\"%.20S %.8i %.9P %.5j %.2t %.5M %.5D %.4C\""
   ]
  },
  {
   "cell_type": "code",
   "execution_count": 12,
   "metadata": {},
   "outputs": [
    {
     "name": "stdout",
     "output_type": "stream",
     "text": [
      "========================================\n",
      "- Job ID: 1366933\n",
      "- # of nodes in the job: 4\n",
      "- # of tasks: 96\n",
      "- Dir from which sbatch was invoked: rf\n",
      "- Nodes allocated to the job: sdumont1249 sdumont1250 sdumont1251 sdumont1252\n",
      "<1. starting ipython>        Ter Set 28 14:35:40 -03 2021\n",
      "<2. starting ipcontroller>   Ter Set 28 14:35:58 -03 2021\n",
      "<3. starting srun ipengine>  Ter Set 28 14:36:08 -03 2021\n",
      "<4. starting python script > Ter Set 28 14:36:33 -03 2021\n",
      "-- output -----------------------------\n",
      "Trainset classification error is 0.00%  of 66000 (kappa: 1.0000)\n",
      " Testset classification error is 0.00%  of 34000 (kappa: 0.9997)\n",
      "T: 16.0892  |  N: 96\n",
      "-- end --------------------------------\n",
      "<5. quit>                    Ter Set 28 14:36:51 -03 2021\n"
     ]
    }
   ],
   "source": [
    "! cat /scratch${PWD#/prj}/slurm-1366933.out"
   ]
  },
  {
   "cell_type": "code",
   "execution_count": null,
   "metadata": {},
   "outputs": [],
   "source": []
  },
  {
   "cell_type": "markdown",
   "metadata": {},
   "source": [
    "<hr style=\"height:10px;border-width:0;background-color:green\">"
   ]
  },
  {
   "cell_type": "markdown",
   "metadata": {},
   "source": [
    "## Run"
   ]
  },
  {
   "cell_type": "markdown",
   "metadata": {},
   "source": [
    "### 1 of (1, 4, 16, 24, 48, 72, 96)"
   ]
  },
  {
   "cell_type": "code",
   "execution_count": 13,
   "metadata": {
    "scrolled": true
   },
   "outputs": [
    {
     "name": "stdout",
     "output_type": "stream",
     "text": [
      "Submitted batch job 1366936\n",
      "Submitted batch job 1366937\n",
      "Submitted batch job 1366938\n",
      "Submitted batch job 1366939\n"
     ]
    }
   ],
   "source": [
    "%%bash\n",
    "sbatch --ntasks=1 rfcm6.srm\n",
    "sbatch --ntasks=1 rfcm6.srm\n",
    "sbatch --ntasks=1 rfcm6.srm\n",
    "sbatch --ntasks=1 rfcm6.srm"
   ]
  },
  {
   "cell_type": "code",
   "execution_count": 8,
   "metadata": {},
   "outputs": [
    {
     "name": "stdout",
     "output_type": "stream",
     "text": [
      "========================================\n",
      "- Job ID: 1366936\n",
      "- # of nodes in the job: 1\n",
      "- # of tasks: 1\n",
      "- Dir from which sbatch was invoked: rf\n",
      "- Nodes allocated to the job: sdumont1455\n",
      "<1. starting ipython>        Ter Set 28 19:10:16 -03 2021\n",
      "<2. starting ipcontroller>   Ter Set 28 19:10:33 -03 2021\n",
      "<3. starting srun ipengine>  Ter Set 28 19:10:43 -03 2021\n",
      "<4. starting python script > Ter Set 28 19:11:08 -03 2021\n",
      "-- output -----------------------------\n",
      "Trainset classification error is 0.00%  of 66000 (kappa: 1.0000)\n",
      " Testset classification error is 0.00%  of 34000 (kappa: 0.9997)\n",
      "T: 57.1904  |  N: 1\n",
      "-- end --------------------------------\n",
      "<5. quit>                    Ter Set 28 19:12:09 -03 2021\n",
      "srun: Job step aborted: Waiting up to 302 seconds for job step to finish.\n",
      "slurmstepd: error: *** STEP 1366936.0 ON sdumont1455 CANCELLED AT 2021-09-28T19:12:09 ***\n",
      "srun: error: sdumont1455: task 0: Terminated\n",
      "========================================\n",
      "- Job ID: 1366937\n",
      "- # of nodes in the job: 1\n",
      "- # of tasks: 1\n",
      "- Dir from which sbatch was invoked: rf\n",
      "- Nodes allocated to the job: sdumont1481\n",
      "<1. starting ipython>        Ter Set 28 23:50:16 -03 2021\n",
      "<2. starting ipcontroller>   Ter Set 28 23:50:57 -03 2021\n",
      "<3. starting srun ipengine>  Ter Set 28 23:51:07 -03 2021\n",
      "<4. starting python script > Ter Set 28 23:51:32 -03 2021\n",
      "-- output -----------------------------\n",
      "Trainset classification error is 0.00%  of 66000 (kappa: 1.0000)\n",
      " Testset classification error is 0.00%  of 34000 (kappa: 0.9997)\n",
      "T: 69.4756  |  N: 1\n",
      "-- end --------------------------------\n",
      "<5. quit>                    Ter Set 28 23:52:46 -03 2021\n",
      "srun: Job step aborted: Waiting up to 302 seconds for job step to finish.\n",
      "slurmstepd: error: *** STEP 1366937.0 ON sdumont1481 CANCELLED AT 2021-09-28T23:52:46 ***\n",
      "========================================\n",
      "- Job ID: 1366938\n",
      "- # of nodes in the job: 1\n",
      "- # of tasks: 1\n",
      "- Dir from which sbatch was invoked: rf\n",
      "- Nodes allocated to the job: sdumont1503\n",
      "<1. starting ipython>        Ter Set 28 23:50:18 -03 2021\n",
      "<2. starting ipcontroller>   Ter Set 28 23:50:57 -03 2021\n",
      "<3. starting srun ipengine>  Ter Set 28 23:51:07 -03 2021\n",
      "<4. starting python script > Ter Set 28 23:51:32 -03 2021\n",
      "-- output -----------------------------\n",
      "Trainset classification error is 0.00%  of 66000 (kappa: 1.0000)\n",
      " Testset classification error is 0.00%  of 34000 (kappa: 0.9997)\n",
      "T: 70.0104  |  N: 1\n",
      "-- end --------------------------------\n",
      "<5. quit>                    Ter Set 28 23:52:46 -03 2021\n",
      "========================================\n",
      "- Job ID: 1366939\n",
      "- # of nodes in the job: 1\n",
      "- # of tasks: 1\n",
      "- Dir from which sbatch was invoked: rf\n",
      "- Nodes allocated to the job: sdumont1481\n",
      "<1. starting ipython>        Ter Set 28 23:52:57 -03 2021\n",
      "<2. starting ipcontroller>   Ter Set 28 23:53:04 -03 2021\n",
      "<3. starting srun ipengine>  Ter Set 28 23:53:14 -03 2021\n",
      "<4. starting python script > Ter Set 28 23:53:39 -03 2021\n",
      "-- output -----------------------------\n",
      "Trainset classification error is 0.00%  of 66000 (kappa: 1.0000)\n",
      " Testset classification error is 0.01%  of 34000 (kappa: 0.9994)\n",
      "T: 29.9012  |  N: 1\n",
      "-- end --------------------------------\n",
      "<5. quit>                    Ter Set 28 23:54:10 -03 2021\n",
      "srun: Job step aborted: Waiting up to 302 seconds for job step to finish.\n",
      "slurmstepd: error: *** STEP 1366939.0 ON sdumont1481 CANCELLED AT 2021-09-28T23:54:10 ***\n",
      "srun: error: sdumont1481: task 0: Terminated\n"
     ]
    }
   ],
   "source": [
    "%%bash\n",
    "cat /scratch${PWD#\"/prj\"}/slurm-1366936.out\n",
    "cat /scratch${PWD#\"/prj\"}/slurm-1366937.out\n",
    "cat /scratch${PWD#\"/prj\"}/slurm-1366938.out\n",
    "cat /scratch${PWD#\"/prj\"}/slurm-1366939.out"
   ]
  },
  {
   "cell_type": "markdown",
   "metadata": {},
   "source": [
    "<hr style=\"height:10px;border-width:0;background-color:green\">"
   ]
  },
  {
   "cell_type": "markdown",
   "metadata": {},
   "source": [
    "### 4 of (1, 4, 16, 24, 48, 72, 96)"
   ]
  },
  {
   "cell_type": "code",
   "execution_count": 14,
   "metadata": {
    "scrolled": true
   },
   "outputs": [
    {
     "name": "stdout",
     "output_type": "stream",
     "text": [
      "Submitted batch job 1366940\n",
      "Submitted batch job 1366941\n",
      "Submitted batch job 1366942\n",
      "Submitted batch job 1366943\n"
     ]
    }
   ],
   "source": [
    "%%bash\n",
    "sbatch --ntasks=4 rfcm6.srm\n",
    "sbatch --ntasks=4 rfcm6.srm\n",
    "sbatch --ntasks=4 rfcm6.srm\n",
    "sbatch --ntasks=4 rfcm6.srm"
   ]
  },
  {
   "cell_type": "code",
   "execution_count": 7,
   "metadata": {},
   "outputs": [
    {
     "name": "stdout",
     "output_type": "stream",
     "text": [
      "========================================\n",
      "- Job ID: 1366940\n",
      "- # of nodes in the job: 1\n",
      "- # of tasks: 4\n",
      "- Dir from which sbatch was invoked: rf\n",
      "- Nodes allocated to the job: sdumont1503\n",
      "<1. starting ipython>        Ter Set 28 23:52:57 -03 2021\n",
      "<2. starting ipcontroller>   Ter Set 28 23:53:04 -03 2021\n",
      "<3. starting srun ipengine>  Ter Set 28 23:53:14 -03 2021\n",
      "<4. starting python script > Ter Set 28 23:53:39 -03 2021\n",
      "-- output -----------------------------\n",
      "Trainset classification error is 0.00%  of 66000 (kappa: 1.0000)\n",
      " Testset classification error is 0.00%  of 34000 (kappa: 0.9997)\n",
      "T: 18.3048  |  N: 4\n",
      "-- end --------------------------------\n",
      "<5. quit>                    Ter Set 28 23:53:59 -03 2021\n",
      "srun: Job step aborted: Waiting up to 302 seconds for job step to finish.\n",
      "slurmstepd: error: *** STEP 1366940.0 ON sdumont1503 CANCELLED AT 2021-09-28T23:53:59 ***\n",
      "srun: error: sdumont1503: tasks 0-3: Terminated\n",
      "========================================\n",
      "- Job ID: 1366941\n",
      "- # of nodes in the job: 1\n",
      "- # of tasks: 4\n",
      "- Dir from which sbatch was invoked: rf\n",
      "- Nodes allocated to the job: sdumont1284\n",
      "<1. starting ipython>        Ter Set 28 23:56:20 -03 2021\n",
      "<2. starting ipcontroller>   Ter Set 28 23:56:34 -03 2021\n",
      "<3. starting srun ipengine>  Ter Set 28 23:56:44 -03 2021\n",
      "<4. starting python script > Ter Set 28 23:57:09 -03 2021\n",
      "-- output -----------------------------\n",
      "Trainset classification error is 0.00%  of 66000 (kappa: 1.0000)\n",
      " Testset classification error is 0.00%  of 34000 (kappa: 0.9997)\n",
      "T: 29.4035  |  N: 4\n",
      "-- end --------------------------------\n",
      "<5. quit>                    Ter Set 28 23:57:40 -03 2021\n",
      "srun: Job step aborted: Waiting up to 302 seconds for job step to finish.\n",
      "slurmstepd: error: *** STEP 1366941.0 ON sdumont1284 CANCELLED AT 2021-09-28T23:57:41 ***\n",
      "========================================\n",
      "- Job ID: 1366942\n",
      "- # of nodes in the job: 1\n",
      "- # of tasks: 4\n",
      "- Dir from which sbatch was invoked: rf\n",
      "- Nodes allocated to the job: sdumont1284\n",
      "<1. starting ipython>        Ter Set 28 23:58:03 -03 2021\n",
      "<2. starting ipcontroller>   Ter Set 28 23:58:14 -03 2021\n",
      "<3. starting srun ipengine>  Ter Set 28 23:58:24 -03 2021\n",
      "<4. starting python script > Ter Set 28 23:58:49 -03 2021\n",
      "-- output -----------------------------\n",
      "Trainset classification error is 0.00%  of 66000 (kappa: 1.0000)\n",
      " Testset classification error is 0.00%  of 34000 (kappa: 0.9997)\n",
      "T: 20.0790  |  N: 4\n",
      "-- end --------------------------------\n",
      "<5. quit>                    Ter Set 28 23:59:11 -03 2021\n",
      "========================================\n",
      "- Job ID: 1366943\n",
      "- # of nodes in the job: 1\n",
      "- # of tasks: 4\n",
      "- Dir from which sbatch was invoked: rf\n",
      "- Nodes allocated to the job: sdumont1284\n",
      "<1. starting ipython>        Qua Set 29 00:00:21 -03 2021\n",
      "<2. starting ipcontroller>   Qua Set 29 00:00:27 -03 2021\n",
      "<3. starting srun ipengine>  Qua Set 29 00:00:37 -03 2021\n",
      "<4. starting python script > Qua Set 29 00:01:02 -03 2021\n",
      "-- output -----------------------------\n",
      "Trainset classification error is 0.00%  of 66000 (kappa: 1.0000)\n",
      " Testset classification error is 0.01%  of 34000 (kappa: 0.9994)\n",
      "T: 27.6327  |  N: 4\n",
      "-- end --------------------------------\n",
      "<5. quit>                    Qua Set 29 00:01:32 -03 2021\n"
     ]
    }
   ],
   "source": [
    "%%bash\n",
    "cat /scratch${PWD#\"/prj\"}/slurm-1366940.out\n",
    "cat /scratch${PWD#\"/prj\"}/slurm-1366941.out\n",
    "cat /scratch${PWD#\"/prj\"}/slurm-1366942.out\n",
    "cat /scratch${PWD#\"/prj\"}/slurm-1366943.out"
   ]
  },
  {
   "cell_type": "markdown",
   "metadata": {},
   "source": [
    "<hr style=\"height:10px;border-width:0;background-color:green\">"
   ]
  },
  {
   "cell_type": "markdown",
   "metadata": {},
   "source": [
    "### 16 of (1, 4, 16, 24, 48, 72, 96)"
   ]
  },
  {
   "cell_type": "code",
   "execution_count": 15,
   "metadata": {
    "scrolled": true
   },
   "outputs": [
    {
     "name": "stdout",
     "output_type": "stream",
     "text": [
      "Submitted batch job 1366944\n",
      "Submitted batch job 1366945\n",
      "Submitted batch job 1366946\n",
      "Submitted batch job 1366947\n"
     ]
    }
   ],
   "source": [
    "%%bash\n",
    "sbatch --ntasks=16 rfcm6.srm\n",
    "sbatch --ntasks=16 rfcm6.srm\n",
    "sbatch --ntasks=16 rfcm6.srm\n",
    "sbatch --ntasks=16 rfcm6.srm"
   ]
  },
  {
   "cell_type": "code",
   "execution_count": 6,
   "metadata": {},
   "outputs": [
    {
     "name": "stdout",
     "output_type": "stream",
     "text": [
      "========================================\n",
      "- Job ID: 1366944\n",
      "- # of nodes in the job: 1\n",
      "- # of tasks: 16\n",
      "- Dir from which sbatch was invoked: rf\n",
      "- Nodes allocated to the job: sdumont1284\n",
      "<1. starting ipython>        Qua Set 29 00:02:09 -03 2021\n",
      "<2. starting ipcontroller>   Qua Set 29 00:02:17 -03 2021\n",
      "<3. starting srun ipengine>  Qua Set 29 00:02:27 -03 2021\n",
      "<4. starting python script > Qua Set 29 00:02:52 -03 2021\n",
      "-- output -----------------------------\n",
      "Trainset classification error is 0.00%  of 66000 (kappa: 1.0000)\n",
      " Testset classification error is 0.00%  of 34000 (kappa: 0.9997)\n",
      "T: 15.1444  |  N: 16\n",
      "-- end --------------------------------\n",
      "<5. quit>                    Qua Set 29 00:03:09 -03 2021\n",
      "srun: Job step aborted: Waiting up to 302 seconds for job step to finish.\n",
      "slurmstepd: error: *** STEP 1366944.0 ON sdumont1284 CANCELLED AT 2021-09-29T00:03:09 ***\n",
      "srun: error: sdumont1284: tasks 0-11: Terminated\n",
      "========================================\n",
      "- Job ID: 1366945\n",
      "- # of nodes in the job: 1\n",
      "- # of tasks: 16\n",
      "- Dir from which sbatch was invoked: rf\n",
      "- Nodes allocated to the job: sdumont1284\n",
      "<1. starting ipython>        Qua Set 29 00:03:19 -03 2021\n",
      "<2. starting ipcontroller>   Qua Set 29 00:03:25 -03 2021\n",
      "<3. starting srun ipengine>  Qua Set 29 00:03:35 -03 2021\n",
      "<4. starting python script > Qua Set 29 00:04:00 -03 2021\n",
      "-- output -----------------------------\n",
      "Trainset classification error is 0.00%  of 66000 (kappa: 1.0000)\n",
      " Testset classification error is 0.00%  of 34000 (kappa: 0.9997)\n",
      "T: 14.8621  |  N: 16\n",
      "-- end --------------------------------\n",
      "<5. quit>                    Qua Set 29 00:04:16 -03 2021\n",
      "srun: Job step aborted: Waiting up to 302 seconds for job step to finish.\n",
      "slurmstepd: error: *** STEP 1366945.0 ON sdumont1284 CANCELLED AT 2021-09-29T00:04:16 ***\n",
      "srun: error: sdumont1284: tasks 0-11: Terminated\n",
      "========================================\n",
      "- Job ID: 1366946\n",
      "- # of nodes in the job: 1\n",
      "- # of tasks: 16\n",
      "- Dir from which sbatch was invoked: rf\n",
      "- Nodes allocated to the job: sdumont1284\n",
      "<1. starting ipython>        Qua Set 29 00:05:01 -03 2021\n",
      "<2. starting ipcontroller>   Qua Set 29 00:05:08 -03 2021\n",
      "<3. starting srun ipengine>  Qua Set 29 00:05:18 -03 2021\n",
      "<4. starting python script > Qua Set 29 00:05:43 -03 2021\n",
      "-- output -----------------------------\n",
      "Trainset classification error is 0.00%  of 66000 (kappa: 1.0000)\n",
      " Testset classification error is 0.00%  of 34000 (kappa: 0.9997)\n",
      "T: 15.2333  |  N: 16\n",
      "-- end --------------------------------\n",
      "<5. quit>                    Qua Set 29 00:06:00 -03 2021\n",
      "srun: Job step aborted: Waiting up to 302 seconds for job step to finish.\n",
      "slurmstepd: error: *** STEP 1366946.0 ON sdumont1284 CANCELLED AT 2021-09-29T00:06:00 ***\n",
      "srun: error: sdumont1284: tasks 0-15: Terminated\n",
      "========================================\n",
      "- Job ID: 1366947\n",
      "- # of nodes in the job: 1\n",
      "- # of tasks: 16\n",
      "- Dir from which sbatch was invoked: rf\n",
      "- Nodes allocated to the job: sdumont1284\n",
      "<1. starting ipython>        Qua Set 29 00:06:42 -03 2021\n",
      "<2. starting ipcontroller>   Qua Set 29 00:06:50 -03 2021\n",
      "<3. starting srun ipengine>  Qua Set 29 00:07:00 -03 2021\n",
      "<4. starting python script > Qua Set 29 00:07:25 -03 2021\n",
      "-- output -----------------------------\n",
      "Trainset classification error is 0.00%  of 66000 (kappa: 1.0000)\n",
      " Testset classification error is 0.01%  of 34000 (kappa: 0.9994)\n",
      "T: 15.5915  |  N: 16\n",
      "-- end --------------------------------\n",
      "<5. quit>                    Qua Set 29 00:07:42 -03 2021\n"
     ]
    }
   ],
   "source": [
    "%%bash\n",
    "cat /scratch${PWD#\"/prj\"}/slurm-1366944.out\n",
    "cat /scratch${PWD#\"/prj\"}/slurm-1366945.out\n",
    "cat /scratch${PWD#\"/prj\"}/slurm-1366946.out\n",
    "cat /scratch${PWD#\"/prj\"}/slurm-1366947.out"
   ]
  },
  {
   "cell_type": "markdown",
   "metadata": {},
   "source": [
    "<hr style=\"height:10px;border-width:0;background-color:green\">"
   ]
  },
  {
   "cell_type": "markdown",
   "metadata": {},
   "source": [
    "### 24 of (1, 4, 16, 24, 48, 72, 96)"
   ]
  },
  {
   "cell_type": "code",
   "execution_count": 16,
   "metadata": {
    "scrolled": true
   },
   "outputs": [
    {
     "name": "stdout",
     "output_type": "stream",
     "text": [
      "Submitted batch job 1366948\n",
      "Submitted batch job 1366949\n",
      "Submitted batch job 1366950\n",
      "Submitted batch job 1366951\n"
     ]
    }
   ],
   "source": [
    "%%bash\n",
    "sbatch --ntasks=24 rfcm6.srm\n",
    "sbatch --ntasks=24 rfcm6.srm\n",
    "sbatch --ntasks=24 rfcm6.srm\n",
    "sbatch --ntasks=24 rfcm6.srm"
   ]
  },
  {
   "cell_type": "code",
   "execution_count": 5,
   "metadata": {},
   "outputs": [
    {
     "name": "stdout",
     "output_type": "stream",
     "text": [
      "========================================\n",
      "- Job ID: 1366948\n",
      "- # of nodes in the job: 1\n",
      "- # of tasks: 24\n",
      "- Dir from which sbatch was invoked: rf\n",
      "- Nodes allocated to the job: sdumont1284\n",
      "<1. starting ipython>        Qua Set 29 00:07:52 -03 2021\n",
      "<2. starting ipcontroller>   Qua Set 29 00:07:59 -03 2021\n",
      "<3. starting srun ipengine>  Qua Set 29 00:08:09 -03 2021\n",
      "<4. starting python script > Qua Set 29 00:08:34 -03 2021\n",
      "-- output -----------------------------\n",
      "Trainset classification error is 0.00%  of 66000 (kappa: 1.0000)\n",
      " Testset classification error is 0.00%  of 34000 (kappa: 0.9997)\n",
      "T: 15.7684  |  N: 24\n",
      "-- end --------------------------------\n",
      "<5. quit>                    Qua Set 29 00:08:52 -03 2021\n",
      "========================================\n",
      "- Job ID: 1366949\n",
      "- # of nodes in the job: 1\n",
      "- # of tasks: 24\n",
      "- Dir from which sbatch was invoked: rf\n",
      "- Nodes allocated to the job: sdumont1284\n",
      "<1. starting ipython>        Qua Set 29 00:09:03 -03 2021\n",
      "<2. starting ipcontroller>   Qua Set 29 00:09:08 -03 2021\n",
      "<3. starting srun ipengine>  Qua Set 29 00:09:18 -03 2021\n",
      "<4. starting python script > Qua Set 29 00:09:43 -03 2021\n",
      "-- output -----------------------------\n",
      "Trainset classification error is 0.00%  of 66000 (kappa: 1.0000)\n",
      " Testset classification error is 0.00%  of 34000 (kappa: 0.9997)\n",
      "T: 15.5658  |  N: 24\n",
      "-- end --------------------------------\n",
      "<5. quit>                    Qua Set 29 00:10:00 -03 2021\n",
      "srun: Job step aborted: Waiting up to 302 seconds for job step to finish.\n",
      "slurmstepd: error: *** STEP 1366949.0 ON sdumont1284 CANCELLED AT 2021-09-29T00:10:00 ***\n",
      "========================================\n",
      "- Job ID: 1366950\n",
      "- # of nodes in the job: 1\n",
      "- # of tasks: 24\n",
      "- Dir from which sbatch was invoked: rf\n",
      "- Nodes allocated to the job: sdumont1284\n",
      "<1. starting ipython>        Qua Set 29 00:10:14 -03 2021\n",
      "<2. starting ipcontroller>   Qua Set 29 00:10:17 -03 2021\n",
      "<3. starting srun ipengine>  Qua Set 29 00:10:27 -03 2021\n",
      "<4. starting python script > Qua Set 29 00:10:52 -03 2021\n",
      "-- output -----------------------------\n",
      "Trainset classification error is 0.00%  of 66000 (kappa: 1.0000)\n",
      " Testset classification error is 0.00%  of 34000 (kappa: 0.9997)\n",
      "T: 14.8990  |  N: 24\n",
      "-- end --------------------------------\n",
      "<5. quit>                    Qua Set 29 00:11:09 -03 2021\n",
      "srun: Job step aborted: Waiting up to 302 seconds for job step to finish.\n",
      "slurmstepd: error: *** STEP 1366950.0 ON sdumont1284 CANCELLED AT 2021-09-29T00:11:09 ***\n",
      "========================================\n",
      "- Job ID: 1366951\n",
      "- # of nodes in the job: 1\n",
      "- # of tasks: 24\n",
      "- Dir from which sbatch was invoked: rf\n",
      "- Nodes allocated to the job: sdumont1284\n",
      "<1. starting ipython>        Qua Set 29 00:11:23 -03 2021\n",
      "<2. starting ipcontroller>   Qua Set 29 00:11:28 -03 2021\n",
      "<3. starting srun ipengine>  Qua Set 29 00:11:38 -03 2021\n",
      "<4. starting python script > Qua Set 29 00:12:03 -03 2021\n",
      "-- output -----------------------------\n",
      "Trainset classification error is 0.00%  of 66000 (kappa: 1.0000)\n",
      " Testset classification error is 0.00%  of 34000 (kappa: 0.9997)\n",
      "T: 14.3076  |  N: 24\n",
      "-- end --------------------------------\n",
      "<5. quit>                    Qua Set 29 00:12:19 -03 2021\n",
      "srun: Job step aborted: Waiting up to 302 seconds for job step to finish.\n",
      "slurmstepd: error: *** STEP 1366951.0 ON sdumont1284 CANCELLED AT 2021-09-29T00:12:19 ***\n"
     ]
    }
   ],
   "source": [
    "%%bash\n",
    "cat /scratch${PWD#\"/prj\"}/slurm-1366948.out\n",
    "cat /scratch${PWD#\"/prj\"}/slurm-1366949.out\n",
    "cat /scratch${PWD#\"/prj\"}/slurm-1366950.out\n",
    "cat /scratch${PWD#\"/prj\"}/slurm-1366951.out"
   ]
  },
  {
   "cell_type": "markdown",
   "metadata": {},
   "source": [
    "<hr style=\"height:10px;border-width:0;background-color:green\">"
   ]
  },
  {
   "cell_type": "markdown",
   "metadata": {},
   "source": [
    "### 48 of (1, 4, 16, 24, 48, 72, 96)"
   ]
  },
  {
   "cell_type": "code",
   "execution_count": 17,
   "metadata": {
    "scrolled": true
   },
   "outputs": [
    {
     "name": "stdout",
     "output_type": "stream",
     "text": [
      "Submitted batch job 1366952\n",
      "Submitted batch job 1366953\n",
      "Submitted batch job 1366954\n",
      "Submitted batch job 1366955\n"
     ]
    }
   ],
   "source": [
    "%%bash\n",
    "sbatch --ntasks=48 rfcm6.srm\n",
    "sbatch --ntasks=48 rfcm6.srm\n",
    "sbatch --ntasks=48 rfcm6.srm\n",
    "sbatch --ntasks=48 rfcm6.srm"
   ]
  },
  {
   "cell_type": "code",
   "execution_count": 4,
   "metadata": {},
   "outputs": [
    {
     "name": "stdout",
     "output_type": "stream",
     "text": [
      "========================================\n",
      "- Job ID: 1366952\n",
      "- # of nodes in the job: 2\n",
      "- # of tasks: 48\n",
      "- Dir from which sbatch was invoked: rf\n",
      "- Nodes allocated to the job: sdumont1284 sdumont1472\n",
      "<1. starting ipython>        Qua Set 29 00:12:34 -03 2021\n",
      "<2. starting ipcontroller>   Qua Set 29 00:12:39 -03 2021\n",
      "<3. starting srun ipengine>  Qua Set 29 00:12:49 -03 2021\n",
      "<4. starting python script > Qua Set 29 00:13:14 -03 2021\n",
      "-- output -----------------------------\n",
      "Trainset classification error is 0.00%  of 66000 (kappa: 1.0000)\n",
      " Testset classification error is 0.00%  of 34000 (kappa: 0.9997)\n",
      "T: 16.8985  |  N: 48\n",
      "-- end --------------------------------\n",
      "<5. quit>                    Qua Set 29 00:13:33 -03 2021\n",
      "srun: Job step aborted: Waiting up to 302 seconds for job step to finish.\n",
      "slurmstepd: error: *** STEP 1366952.0 ON sdumont1284 CANCELLED AT 2021-09-29T00:13:33 ***\n",
      "========================================\n",
      "- Job ID: 1366953\n",
      "- # of nodes in the job: 2\n",
      "- # of tasks: 48\n",
      "- Dir from which sbatch was invoked: rf\n",
      "- Nodes allocated to the job: sdumont1284 sdumont1472\n",
      "<1. starting ipython>        Qua Set 29 00:13:45 -03 2021\n",
      "<2. starting ipcontroller>   Qua Set 29 00:13:51 -03 2021\n",
      "<3. starting srun ipengine>  Qua Set 29 00:14:01 -03 2021\n",
      "<4. starting python script > Qua Set 29 00:14:26 -03 2021\n",
      "-- output -----------------------------\n",
      "Trainset classification error is 0.00%  of 66000 (kappa: 1.0000)\n",
      " Testset classification error is 0.01%  of 34000 (kappa: 0.9994)\n",
      "T: 15.4789  |  N: 48\n",
      "-- end --------------------------------\n",
      "<5. quit>                    Qua Set 29 00:14:43 -03 2021\n",
      "srun: Job step aborted: Waiting up to 302 seconds for job step to finish.\n",
      "slurmstepd: error: *** STEP 1366953.0 ON sdumont1284 CANCELLED AT 2021-09-29T00:14:43 ***\n",
      "========================================\n",
      "- Job ID: 1366954\n",
      "- # of nodes in the job: 2\n",
      "- # of tasks: 48\n",
      "- Dir from which sbatch was invoked: rf\n",
      "- Nodes allocated to the job: sdumont1284 sdumont1472\n",
      "<1. starting ipython>        Qua Set 29 00:15:29 -03 2021\n",
      "<2. starting ipcontroller>   Qua Set 29 00:15:34 -03 2021\n",
      "<3. starting srun ipengine>  Qua Set 29 00:15:44 -03 2021\n",
      "<4. starting python script > Qua Set 29 00:16:09 -03 2021\n",
      "-- output -----------------------------\n",
      "Trainset classification error is 0.00%  of 66000 (kappa: 1.0000)\n",
      " Testset classification error is 0.01%  of 34000 (kappa: 0.9994)\n",
      "T: 20.7566  |  N: 48\n",
      "-- end --------------------------------\n",
      "<5. quit>                    Qua Set 29 00:16:32 -03 2021\n",
      "========================================\n",
      "- Job ID: 1366955\n",
      "- # of nodes in the job: 2\n",
      "- # of tasks: 48\n",
      "- Dir from which sbatch was invoked: rf\n",
      "- Nodes allocated to the job: sdumont1284 sdumont1455\n",
      "<1. starting ipython>        Qua Set 29 00:17:15 -03 2021\n",
      "<2. starting ipcontroller>   Qua Set 29 00:17:23 -03 2021\n",
      "<3. starting srun ipengine>  Qua Set 29 00:17:33 -03 2021\n",
      "<4. starting python script > Qua Set 29 00:17:58 -03 2021\n",
      "-- output -----------------------------\n",
      "Trainset classification error is 0.00%  of 66000 (kappa: 1.0000)\n",
      " Testset classification error is 0.00%  of 34000 (kappa: 0.9997)\n",
      "T: 16.0266  |  N: 48\n",
      "-- end --------------------------------\n",
      "<5. quit>                    Qua Set 29 00:18:16 -03 2021\n",
      "srun: Job step aborted: Waiting up to 302 seconds for job step to finish.\n",
      "slurmstepd: error: *** STEP 1366955.0 ON sdumont1284 CANCELLED AT 2021-09-29T00:18:16 ***\n"
     ]
    }
   ],
   "source": [
    "%%bash\n",
    "cat /scratch${PWD#\"/prj\"}/slurm-1366952.out\n",
    "cat /scratch${PWD#\"/prj\"}/slurm-1366953.out\n",
    "cat /scratch${PWD#\"/prj\"}/slurm-1366954.out\n",
    "cat /scratch${PWD#\"/prj\"}/slurm-1366955.out"
   ]
  },
  {
   "cell_type": "markdown",
   "metadata": {},
   "source": [
    "<hr style=\"height:10px;border-width:0;background-color:green\">"
   ]
  },
  {
   "cell_type": "markdown",
   "metadata": {},
   "source": [
    "### 72 of (1, 4, 16, 24, 48, 72, 96)"
   ]
  },
  {
   "cell_type": "code",
   "execution_count": 18,
   "metadata": {
    "scrolled": true
   },
   "outputs": [
    {
     "name": "stdout",
     "output_type": "stream",
     "text": [
      "Submitted batch job 1366956\n",
      "Submitted batch job 1366957\n",
      "Submitted batch job 1366958\n",
      "Submitted batch job 1366959\n"
     ]
    }
   ],
   "source": [
    "%%bash\n",
    "sbatch --ntasks=72 rfcm6.srm\n",
    "sbatch --ntasks=72 rfcm6.srm\n",
    "sbatch --ntasks=72 rfcm6.srm\n",
    "sbatch --ntasks=72 rfcm6.srm"
   ]
  },
  {
   "cell_type": "code",
   "execution_count": 3,
   "metadata": {},
   "outputs": [
    {
     "name": "stdout",
     "output_type": "stream",
     "text": [
      "========================================\n",
      "- Job ID: 1366956\n",
      "- # of nodes in the job: 3\n",
      "- # of tasks: 72\n",
      "- Dir from which sbatch was invoked: rf\n",
      "- Nodes allocated to the job: sdumont1284 sdumont1455 sdumont1466\n",
      "<1. starting ipython>        Qua Set 29 00:18:25 -03 2021\n",
      "<2. starting ipcontroller>   Qua Set 29 00:18:29 -03 2021\n",
      "<3. starting srun ipengine>  Qua Set 29 00:18:39 -03 2021\n",
      "<4. starting python script > Qua Set 29 00:19:04 -03 2021\n",
      "-- output -----------------------------\n",
      "Trainset classification error is 0.00%  of 66000 (kappa: 1.0000)\n",
      " Testset classification error is 0.00%  of 34000 (kappa: 0.9997)\n",
      "T: 15.5817  |  N: 72\n",
      "-- end --------------------------------\n",
      "<5. quit>                    Qua Set 29 00:19:21 -03 2021\n",
      "========================================\n",
      "- Job ID: 1366957\n",
      "- # of nodes in the job: 3\n",
      "- # of tasks: 72\n",
      "- Dir from which sbatch was invoked: rf\n",
      "- Nodes allocated to the job: sdumont1284 sdumont1455 sdumont1466\n",
      "<1. starting ipython>        Qua Set 29 00:19:33 -03 2021\n",
      "<2. starting ipcontroller>   Qua Set 29 00:19:37 -03 2021\n",
      "<3. starting srun ipengine>  Qua Set 29 00:19:47 -03 2021\n",
      "<4. starting python script > Qua Set 29 00:20:12 -03 2021\n",
      "-- output -----------------------------\n",
      "Trainset classification error is 0.00%  of 66000 (kappa: 1.0000)\n",
      " Testset classification error is 0.00%  of 34000 (kappa: 0.9997)\n",
      "T: 15.5621  |  N: 72\n",
      "-- end --------------------------------\n",
      "<5. quit>                    Qua Set 29 00:20:30 -03 2021\n",
      "srun: Job step aborted: Waiting up to 302 seconds for job step to finish.\n",
      "slurmstepd: error: *** STEP 1366957.0 ON sdumont1284 CANCELLED AT 2021-09-29T00:20:30 ***\n",
      "========================================\n",
      "- Job ID: 1366958\n",
      "- # of nodes in the job: 3\n",
      "- # of tasks: 72\n",
      "- Dir from which sbatch was invoked: rf\n",
      "- Nodes allocated to the job: sdumont1284 sdumont1455 sdumont1466\n",
      "<1. starting ipython>        Qua Set 29 00:21:14 -03 2021\n",
      "<2. starting ipcontroller>   Qua Set 29 00:21:18 -03 2021\n",
      "<3. starting srun ipengine>  Qua Set 29 00:21:28 -03 2021\n",
      "<4. starting python script > Qua Set 29 00:21:53 -03 2021\n",
      "-- output -----------------------------\n",
      "Trainset classification error is 0.00%  of 66000 (kappa: 1.0000)\n",
      " Testset classification error is 0.00%  of 34000 (kappa: 0.9997)\n",
      "T: 15.5859  |  N: 72\n",
      "-- end --------------------------------\n",
      "<5. quit>                    Qua Set 29 00:22:10 -03 2021\n",
      "srun: Job step aborted: Waiting up to 302 seconds for job step to finish.\n",
      "slurmstepd: error: *** STEP 1366958.0 ON sdumont1284 CANCELLED AT 2021-09-29T00:22:11 ***\n",
      "========================================\n",
      "- Job ID: 1366959\n",
      "- # of nodes in the job: 3\n",
      "- # of tasks: 72\n",
      "- Dir from which sbatch was invoked: rf\n",
      "- Nodes allocated to the job: sdumont1284 sdumont1455 sdumont1466\n",
      "<1. starting ipython>        Qua Set 29 00:22:25 -03 2021\n",
      "<2. starting ipcontroller>   Qua Set 29 00:22:29 -03 2021\n",
      "<3. starting srun ipengine>  Qua Set 29 00:22:39 -03 2021\n",
      "<4. starting python script > Qua Set 29 00:23:04 -03 2021\n",
      "-- output -----------------------------\n",
      "Trainset classification error is 0.00%  of 66000 (kappa: 1.0000)\n",
      " Testset classification error is 0.01%  of 34000 (kappa: 0.9994)\n",
      "T: 17.1399  |  N: 72\n",
      "-- end --------------------------------\n",
      "<5. quit>                    Qua Set 29 00:23:22 -03 2021\n"
     ]
    }
   ],
   "source": [
    "%%bash\n",
    "cat /scratch${PWD#\"/prj\"}/slurm-1366956.out\n",
    "cat /scratch${PWD#\"/prj\"}/slurm-1366957.out\n",
    "cat /scratch${PWD#\"/prj\"}/slurm-1366958.out\n",
    "cat /scratch${PWD#\"/prj\"}/slurm-1366959.out"
   ]
  },
  {
   "cell_type": "markdown",
   "metadata": {},
   "source": [
    "<hr style=\"height:10px;border-width:0;background-color:green\">"
   ]
  },
  {
   "cell_type": "markdown",
   "metadata": {},
   "source": [
    "### 96 of (1, 4, 16, 24, 48, 72, 96)"
   ]
  },
  {
   "cell_type": "code",
   "execution_count": 19,
   "metadata": {
    "scrolled": true
   },
   "outputs": [
    {
     "name": "stdout",
     "output_type": "stream",
     "text": [
      "Submitted batch job 1366960\n",
      "Submitted batch job 1366961\n",
      "Submitted batch job 1366962\n",
      "Submitted batch job 1366963\n"
     ]
    }
   ],
   "source": [
    "%%bash\n",
    "sbatch --ntasks=96  rfcm6.srm\n",
    "sbatch --ntasks=96  rfcm6.srm\n",
    "sbatch --ntasks=96  rfcm6.srm\n",
    "sbatch --ntasks=96  rfcm6.srm"
   ]
  },
  {
   "cell_type": "code",
   "execution_count": 2,
   "metadata": {},
   "outputs": [
    {
     "name": "stdout",
     "output_type": "stream",
     "text": [
      "========================================\n",
      "- Job ID: 1366960\n",
      "- # of nodes in the job: 4\n",
      "- # of tasks: 96\n",
      "- Dir from which sbatch was invoked: rf\n",
      "- Nodes allocated to the job: sdumont1284 sdumont1455 sdumont1466 sdumont1472\n",
      "<1. starting ipython>        Qua Set 29 00:24:05 -03 2021\n",
      "<2. starting ipcontroller>   Qua Set 29 00:24:11 -03 2021\n",
      "<3. starting srun ipengine>  Qua Set 29 00:24:21 -03 2021\n",
      "<4. starting python script > Qua Set 29 00:24:46 -03 2021\n",
      "-- output -----------------------------\n",
      "Trainset classification error is 0.00%  of 66000 (kappa: 1.0000)\n",
      " Testset classification error is 0.00%  of 34000 (kappa: 0.9997)\n",
      "T: 16.7496  |  N: 96\n",
      "-- end --------------------------------\n",
      "<5. quit>                    Qua Set 29 00:25:04 -03 2021\n",
      "slurmstepd: error: *** STEP 1366960.0 ON sdumont1284 CANCELLED AT 2021-09-29T00:25:04 ***\n",
      "srun: Job step aborted: Waiting up to 302 seconds for job step to finish.\n",
      "========================================\n",
      "- Job ID: 1366961\n",
      "- # of nodes in the job: 4\n",
      "- # of tasks: 96\n",
      "- Dir from which sbatch was invoked: rf\n",
      "- Nodes allocated to the job: sdumont1284 sdumont1455 sdumont1466 sdumont1472\n",
      "<1. starting ipython>        Qua Set 29 00:25:16 -03 2021\n",
      "<2. starting ipcontroller>   Qua Set 29 00:25:20 -03 2021\n",
      "<3. starting srun ipengine>  Qua Set 29 00:25:30 -03 2021\n",
      "<4. starting python script > Qua Set 29 00:25:55 -03 2021\n",
      "-- output -----------------------------\n",
      "Trainset classification error is 0.00%  of 66000 (kappa: 1.0000)\n",
      " Testset classification error is 0.01%  of 34000 (kappa: 0.9994)\n",
      "T: 17.8962  |  N: 96\n",
      "-- end --------------------------------\n",
      "<5. quit>                    Qua Set 29 00:26:15 -03 2021\n",
      "srun: Job step aborted: Waiting up to 302 seconds for job step to finish.\n",
      "slurmstepd: error: *** STEP 1366961.0 ON sdumont1284 CANCELLED AT 2021-09-29T00:26:15 ***\n",
      "========================================\n",
      "- Job ID: 1366962\n",
      "- # of nodes in the job: 4\n",
      "- # of tasks: 96\n",
      "- Dir from which sbatch was invoked: rf\n",
      "- Nodes allocated to the job: sdumont1284 sdumont1455 sdumont1466 sdumont1472\n",
      "<1. starting ipython>        Qua Set 29 00:27:32 -03 2021\n",
      "<2. starting ipcontroller>   Qua Set 29 00:27:37 -03 2021\n",
      "<3. starting srun ipengine>  Qua Set 29 00:27:47 -03 2021\n",
      "<4. starting python script > Qua Set 29 00:28:12 -03 2021\n",
      "-- output -----------------------------\n",
      "Trainset classification error is 0.00%  of 66000 (kappa: 1.0000)\n",
      " Testset classification error is 0.00%  of 34000 (kappa: 0.9997)\n",
      "T: 16.0256  |  N: 96\n",
      "-- end --------------------------------\n",
      "<5. quit>                    Qua Set 29 00:28:29 -03 2021\n",
      "srun: Job step aborted: Waiting up to 302 seconds for job step to finish.\n",
      "slurmstepd: error: *** STEP 1366962.0 ON sdumont1284 CANCELLED AT 2021-09-29T00:28:30 ***\n",
      "========================================\n",
      "- Job ID: 1366963\n",
      "- # of nodes in the job: 4\n",
      "- # of tasks: 96\n",
      "- Dir from which sbatch was invoked: rf\n",
      "- Nodes allocated to the job: sdumont1284 sdumont1455 sdumont1466 sdumont1472\n",
      "<1. starting ipython>        Qua Set 29 00:28:42 -03 2021\n",
      "<2. starting ipcontroller>   Qua Set 29 00:28:45 -03 2021\n",
      "<3. starting srun ipengine>  Qua Set 29 00:28:55 -03 2021\n",
      "<4. starting python script > Qua Set 29 00:29:20 -03 2021\n",
      "-- output -----------------------------\n",
      "Trainset classification error is 0.00%  of 66000 (kappa: 1.0000)\n",
      " Testset classification error is 0.01%  of 34000 (kappa: 0.9994)\n",
      "T: 14.7996  |  N: 96\n",
      "-- end --------------------------------\n",
      "<5. quit>                    Qua Set 29 00:29:37 -03 2021\n",
      "slurmstepd: error: *** STEP 1366963.0 ON sdumont1284 CANCELLED AT 2021-09-29T00:29:37 ***\n",
      "srun: Job step aborted: Waiting up to 302 seconds for job step to finish.\n"
     ]
    }
   ],
   "source": [
    "%%bash\n",
    "cat /scratch${PWD#\"/prj\"}/slurm-1366960.out\n",
    "cat /scratch${PWD#\"/prj\"}/slurm-1366961.out\n",
    "cat /scratch${PWD#\"/prj\"}/slurm-1366962.out\n",
    "cat /scratch${PWD#\"/prj\"}/slurm-1366963.out"
   ]
  },
  {
   "cell_type": "code",
   "execution_count": null,
   "metadata": {},
   "outputs": [],
   "source": []
  },
  {
   "cell_type": "code",
   "execution_count": 26,
   "metadata": {},
   "outputs": [
    {
     "name": "stdout",
     "output_type": "stream",
     "text": [
      "          START_TIME    JOBID PARTITION  NAME ST  TIME NODES CPUS\n",
      "                 N/A  1366936 cpu_small rfcm6 PD  0:00     1    1\n",
      "                 N/A  1366937 cpu_small rfcm6 PD  0:00     1    1\n",
      "                 N/A  1366938 cpu_small rfcm6 PD  0:00     1    1\n",
      "                 N/A  1366939 cpu_small rfcm6 PD  0:00     1    1\n",
      "                 N/A  1366940 cpu_small rfcm6 PD  0:00     1    4\n",
      "                 N/A  1366941 cpu_small rfcm6 PD  0:00     1    4\n",
      "                 N/A  1366942 cpu_small rfcm6 PD  0:00     1    4\n",
      "                 N/A  1366943 cpu_small rfcm6 PD  0:00     1    4\n",
      "                 N/A  1366944 cpu_small rfcm6 PD  0:00     1   16\n",
      "                 N/A  1366945 cpu_small rfcm6 PD  0:00     1   16\n",
      "                 N/A  1366946 cpu_small rfcm6 PD  0:00     1   16\n",
      "                 N/A  1366947 cpu_small rfcm6 PD  0:00     1   16\n",
      "                 N/A  1366948 cpu_small rfcm6 PD  0:00     1   24\n",
      "                 N/A  1366949 cpu_small rfcm6 PD  0:00     1   24\n",
      "                 N/A  1366950 cpu_small rfcm6 PD  0:00     1   24\n",
      "                 N/A  1366951 cpu_small rfcm6 PD  0:00     1   24\n",
      "                 N/A  1366952 cpu_small rfcm6 PD  0:00     2   48\n",
      "                 N/A  1366953 cpu_small rfcm6 PD  0:00     2   48\n",
      "                 N/A  1366954 cpu_small rfcm6 PD  0:00     2   48\n",
      "                 N/A  1366955 cpu_small rfcm6 PD  0:00     2   48\n",
      "                 N/A  1366956 cpu_small rfcm6 PD  0:00     3   72\n",
      "                 N/A  1366957 cpu_small rfcm6 PD  0:00     3   72\n",
      "                 N/A  1366958 cpu_small rfcm6 PD  0:00     3   72\n",
      "                 N/A  1366959 cpu_small rfcm6 PD  0:00     3   72\n",
      "                 N/A  1366960 cpu_small rfcm6 PD  0:00     4   96\n",
      "                 N/A  1366961 cpu_small rfcm6 PD  0:00     4   96\n",
      "                 N/A  1366962 cpu_small rfcm6 PD  0:00     4   96\n",
      "                 N/A  1366963 cpu_small rfcm6 PD  0:00     4   96\n"
     ]
    }
   ],
   "source": [
    "! squeue --start --user=$(whoami) --format=\"%.20S %.8i %.9P %.5j %.2t %.5M %.5D %.4C\""
   ]
  },
  {
   "cell_type": "code",
   "execution_count": 1,
   "metadata": {},
   "outputs": [
    {
     "name": "stdout",
     "output_type": "stream",
     "text": [
      "          START_TIME    JOBID PARTITION  NAME ST  TIME NODES CPUS\n"
     ]
    }
   ],
   "source": [
    "! squeue --start --user=$(whoami) --format=\"%.20S %.8i %.9P %.5j %.2t %.5M %.5D %.4C\""
   ]
  },
  {
   "cell_type": "code",
   "execution_count": 23,
   "metadata": {},
   "outputs": [
    {
     "name": "stdout",
     "output_type": "stream",
     "text": [
      "28\n"
     ]
    }
   ],
   "source": [
    "! squeue -u $(whoami) -h -r | wc -l    # 100 é o máximo por projeto"
   ]
  },
  {
   "cell_type": "code",
   "execution_count": 24,
   "metadata": {},
   "outputs": [
    {
     "name": "stdout",
     "output_type": "stream",
     "text": [
      "359\n"
     ]
    }
   ],
   "source": [
    "! squeue --partition=cpu_small -h -r | wc -l"
   ]
  },
  {
   "cell_type": "markdown",
   "metadata": {},
   "source": [
    "<hr style=\"height:10px;border-width:0;background-color:red\">"
   ]
  },
  {
   "cell_type": "code",
   "execution_count": null,
   "metadata": {},
   "outputs": [],
   "source": []
  }
 ],
 "metadata": {
  "kernelspec": {
   "display_name": "Python 3 (ipykernel)",
   "language": "python",
   "name": "python3"
  },
  "language_info": {
   "codemirror_mode": {
    "name": "ipython",
    "version": 3
   },
   "file_extension": ".py",
   "mimetype": "text/x-python",
   "name": "python",
   "nbconvert_exporter": "python",
   "pygments_lexer": "ipython3",
   "version": "3.8.13"
  }
 },
 "nbformat": 4,
 "nbformat_minor": 4
}
