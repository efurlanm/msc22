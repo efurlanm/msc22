{
 "cells": [
  {
   "cell_type": "markdown",
   "id": "adfe52ce-95c9-48c6-b223-be4c07d1d8bd",
   "metadata": {
    "tags": []
   },
   "source": [
    "# Connection to the SDumont\n",
    "\n",
    "- Don't forget to turn on the VPN first, using the system's network manager"
   ]
  },
  {
   "cell_type": "markdown",
   "id": "93871d67-7f95-44d2-84ad-4e50ce8ddfd2",
   "metadata": {},
   "source": [
    "Connect:"
   ]
  },
  {
   "cell_type": "code",
   "execution_count": 1,
   "id": "6ef9d773-9d6d-45f6-9350-22cde194ad8c",
   "metadata": {},
   "outputs": [
    {
     "name": "stdout",
     "output_type": "stream",
     "text": [
      "sdumont14\n"
     ]
    }
   ],
   "source": [
    "%%bash\n",
    "ssh -Nf sd\n",
    "ssh -T sd <<'EOF'\n",
    "hostname\n",
    "module load anaconda3\n",
    "source /scratch/app/anaconda3/2020.11/etc/profile.d/conda.sh\n",
    "conda activate --stack /scratch${HOME#/prj}/env01\n",
    "syncthing --no-browser --gui-address=0.0.0.0:28863 > ~/28863.log 2>&1 &\n",
    "cd ~/Sync\n",
    "jupyter-lab --no-browser --port=35655 --ip=0.0.0.0 --NotebookApp.token=\"\" > ~/35655.log 2>&1 &\n",
    "EOF\n",
    "ssh -NfTL 8385:localhost:28863 sd\n",
    "ssh -NfTL 8889:localhost:35655 sd"
   ]
  },
  {
   "cell_type": "markdown",
   "id": "2e9a061c-5ba3-4b24-af8e-1a1a0f6b8456",
   "metadata": {},
   "source": [
    "Access to JL and ST is done using the web browser and the addresses:\n",
    "- JL: http://localhost:8889  \n",
    "- ST: http://localhost:8385"
   ]
  },
  {
   "cell_type": "markdown",
   "id": "d5c024df-6248-4112-ad87-7b0fb7be15ae",
   "metadata": {
    "tags": []
   },
   "source": [
    "Disconnect:"
   ]
  },
  {
   "cell_type": "code",
   "execution_count": 2,
   "id": "d8f3bdad-246a-448e-812b-d5ce80f9f96f",
   "metadata": {},
   "outputs": [],
   "source": [
    "%%bash\n",
    "ssh sd 'pkill -u ${USER} -f syncthing'\n",
    "ssh sd 'pkill -u ${USER} -f jupyter'\n",
    "ssh -O exit sd\n",
    "pkill -f 8385:\n",
    "pkill -f 8889:"
   ]
  },
  {
   "cell_type": "markdown",
   "id": "f0242ebc-589a-4b06-8416-a3206650b006",
   "metadata": {},
   "source": [
    "- Don't forget to turn off the VPN, using the system's network manager"
   ]
  }
 ],
 "metadata": {
  "kernelspec": {
   "display_name": "Python 3 (ipykernel)",
   "language": "python",
   "name": "python3"
  },
  "language_info": {
   "codemirror_mode": {
    "name": "ipython",
    "version": 3
   },
   "file_extension": ".py",
   "mimetype": "text/x-python",
   "name": "python",
   "nbconvert_exporter": "python",
   "pygments_lexer": "ipython3",
   "version": "3.9.7"
  }
 },
 "nbformat": 4,
 "nbformat_minor": 5
}
