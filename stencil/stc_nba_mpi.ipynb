{
 "cells": [
  {
   "cell_type": "markdown",
   "metadata": {},
   "source": [
    "# Stencil Numba MPI"
   ]
  },
  {
   "cell_type": "code",
   "execution_count": 1,
   "metadata": {},
   "outputs": [
    {
     "name": "stdout",
     "output_type": "stream",
     "text": [
      "Python 3.7.3\n"
     ]
    }
   ],
   "source": [
    "! python --version"
   ]
  },
  {
   "cell_type": "code",
   "execution_count": 2,
   "metadata": {},
   "outputs": [
    {
     "name": "stdout",
     "output_type": "stream",
     "text": [
      "0.41.0\n"
     ]
    }
   ],
   "source": [
    "import numba\n",
    "print(numba.__version__)"
   ]
  },
  {
   "cell_type": "code",
   "execution_count": 10,
   "metadata": {},
   "outputs": [
    {
     "name": "stdout",
     "output_type": "stream",
     "text": [
      "CPU(s):                24\n",
      "Thread(s) per core:    1\n",
      "Core(s) per socket:    12\n",
      "NUMA node(s):          2\n",
      "Model name:            Intel(R) Xeon(R) CPU E5-2695 v2 @ 2.40GHz\n",
      "CPU MHz:               2849.707\n"
     ]
    }
   ],
   "source": [
    "# Mostra os recursos do nó de login\n",
    "! lscpu | head -n 15 | grep \"Model \\|CPU(s):\\|Thre\\|Core\\|NUMA\\|MHz\""
   ]
  },
  {
   "cell_type": "markdown",
   "metadata": {},
   "source": [
    "# Numba CPU Paralelo\n",
    "24 núcleos\n",
    "Testando o funcionamento no nó de login, antes de usar o arquivo de lote"
   ]
  },
  {
   "cell_type": "code",
   "execution_count": 26,
   "metadata": {},
   "outputs": [
    {
     "name": "stdout",
     "output_type": "stream",
     "text": [
      "Heat = 1500.0000 | Tempo = 22.1503 | Thread count = 1\n"
     ]
    }
   ],
   "source": [
    "import numpy as np\n",
    "import time\n",
    "from mpi4py import MPI   \n",
    "\n",
    "from numba import jit, prange, config\n",
    "config.DUMP_ASSEMBLY = 0\n",
    "config.NUMBA_ENABLE_AVX = 1\n",
    "config.NUMBA_NUM_THREADS = 1\n",
    "\n",
    "@jit('(float64[:,:],float64[:,:])', nopython=True, parallel=True, nogil=True) \n",
    "def kernel1(anew, aold) :\n",
    "    anew[1:-1, 1:-1] = ( aold[1:-1, 1:-1] * 0.5 + \n",
    "                       ( aold[2:  , 1:-1] + aold[ :-2, 1:-1] +\n",
    "                         aold[1:-1, 2:  ] + aold[1:-1,  :-2] ) * 0.125 )\n",
    "\n",
    "\n",
    "n            = 4800    # nxn grid (4800,1,500)=1500; (100,1,10)=30\n",
    "energy       = 1.0     # energy to be injected per iteration\n",
    "niters       = 500     # number of iterations\n",
    "\n",
    "nsources     = 3       # sources of energy\n",
    "size         = n + 2\n",
    "heat         = np.zeros((1), np.float64)     # system total heat\n",
    "anew         = np.zeros((size, size), np.float64)\n",
    "aold         = np.zeros((size, size), np.float64)\n",
    "sources      = np.empty((3,2), np.int32)\n",
    "sources[:,:] = [ [n//2, n//2], [n//3, n//3], [n*4//5, n*8//9] ]\n",
    "niters       = (niters+1) // 2\n",
    "\n",
    "comm = MPI.COMM_WORLD\n",
    "mpirank = comm.rank\n",
    "mpisize = comm.size\n",
    "\n",
    "# cria e inicializa as fontes de calor\n",
    "nsources = 3\n",
    "sources = np.zeros((nsources, 2), np.intc)\n",
    "sources[:,:] = [ [n//2, n//2], [n//3, n//3], [n*4//5, n*8//9] ]\n",
    "\n",
    "# sources in my area, local to my rank\n",
    "locnsources = 0\n",
    "locsources = np.empty((nsources,2), np.intc)\n",
    "\n",
    "rheat = np.zeros(1, np.double)\n",
    "bheat = np.zeros(1, np.double)\n",
    "\n",
    "# determine my coordinates (x,y)\n",
    "pdims = MPI.Compute_dims(mpisize, 2)\n",
    "px    = pdims[0]\n",
    "py    = pdims[1]\n",
    "rx    = mpirank % px\n",
    "ry    = mpirank // px\n",
    "\n",
    "# determine my four neighbors\n",
    "north = (ry - 1) * px + rx\n",
    "if (ry - 1) < 0 :\n",
    "    north = MPI.PROC_NULL\n",
    "south = (ry + 1) * px + rx\n",
    "if (ry + 1) >= py :\n",
    "    south = MPI.PROC_NULL\n",
    "west = ry * px + rx - 1\n",
    "if (rx - 1) < 0 :\n",
    "    west = MPI.PROC_NULL\n",
    "east = ry * px + rx + 1\n",
    "if (rx + 1) >= px :\n",
    "    east = MPI.PROC_NULL\n",
    "\n",
    "# decompose the domain\n",
    "bx = n // px            # block size in x\n",
    "by = n // py            # block size in y\n",
    "offx = rx * bx + 1      # offset in x\n",
    "offy = ry * by + 1      # offset in y\n",
    "\n",
    "# determine which sources are in my patch\n",
    "for i in range(nsources) :\n",
    "    locx = sources[i, 0] - offx\n",
    "    locy = sources[i, 1] - offy\n",
    "    if(locx >= 0 and locx <= bx and locy >= 0 and locy <= by) :\n",
    "        locsources[locnsources, 0] = locx + 2 - 1\n",
    "        locsources[locnsources, 1] = locy + 2 - 1\n",
    "        locnsources += 1\n",
    "\n",
    "# working arrays with 1-wide halo zones\n",
    "anew = np.zeros((bx+2, by+2), np.double)\n",
    "aold = np.zeros((bx+2, by+2), np.double)\n",
    "\n",
    "if not mpirank : t0 = time.time()\n",
    "\n",
    "for iters in range(niters) :\n",
    "    # exchange data with neighbors\n",
    "    if north != MPI.PROC_NULL :\n",
    "        r1=comm.irecv(source=north, tag=1)\n",
    "        s1=comm.isend(aold[1, 1:bx+1], dest=north, tag=1)\n",
    "    if south != MPI.PROC_NULL :\n",
    "        r2=comm.irecv(source=south, tag=1)\n",
    "        s2=comm.isend(aold[bx, 1:bx+1], dest=south, tag=1)\n",
    "    if east != MPI.PROC_NULL :\n",
    "        r3 = comm.irecv(source=east, tag=1)\n",
    "        s3 = comm.isend(aold[1:bx+1, bx], dest=east, tag=1)\n",
    "    if west != MPI.PROC_NULL :\n",
    "        r4 = comm.irecv(source=west, tag=1)\n",
    "        s4 = comm.isend(aold[1:bx+1, 1], dest=west, tag=1)\n",
    "    # wait\n",
    "    if north != MPI.PROC_NULL :\n",
    "        s1.wait()\n",
    "        aold[0, 1:bx+1] = r1.wait()\n",
    "    if south != MPI.PROC_NULL :\n",
    "        s2.wait()\n",
    "        aold[bx+1, 1:bx+1] = r2.wait()\n",
    "    if east != MPI.PROC_NULL :\n",
    "        s3.wait()\n",
    "        aold[1:bx+1, bx+1] = r3.wait()\n",
    "    if west != MPI.PROC_NULL :\n",
    "        s4.wait\n",
    "        aold[1:bx+1, 0] = r4.wait()\n",
    "\n",
    "    # update grid\n",
    "    kernel1(anew, aold)\n",
    "\n",
    "    # refresh heat sources\n",
    "    for i in range(locnsources) :\n",
    "        anew[locsources[i, 0]-1, locsources[i, 1]-1] += energy\n",
    "\n",
    "    # exchange data with neighbors\n",
    "    if north != MPI.PROC_NULL :\n",
    "        r1=comm.irecv(source=north, tag=1)\n",
    "        s1=comm.isend(anew[1, 1:bx+1], dest=north, tag=1)\n",
    "    if south != MPI.PROC_NULL :\n",
    "        r2=comm.irecv(source=south, tag=1)\n",
    "        s2=comm.isend(anew[bx, 1:bx+1], dest=south, tag=1)\n",
    "    if east != MPI.PROC_NULL :\n",
    "        r3 = comm.irecv(source=east, tag=1)\n",
    "        s3 = comm.isend(anew[1:bx+1, bx], dest=east, tag=1)\n",
    "    if west != MPI.PROC_NULL :\n",
    "        r4 = comm.irecv(source=west, tag=1)\n",
    "        s4 = comm.isend(anew[1:bx+1, 1], dest=west, tag=1)\n",
    "    # wait\n",
    "    if north != MPI.PROC_NULL :\n",
    "        s1.wait()\n",
    "        anew[0, 1:bx+1] = r1.wait()\n",
    "    if south != MPI.PROC_NULL :\n",
    "        s2.wait()\n",
    "        anew[bx+1, 1:bx+1] = r2.wait()\n",
    "    if east != MPI.PROC_NULL :\n",
    "        s3.wait()\n",
    "        anew[1:bx+1, bx+1] = r3.wait()\n",
    "    if west != MPI.PROC_NULL :\n",
    "        s4.wait\n",
    "        anew[1:bx+1, 0] = r4.wait()\n",
    "\n",
    "    # update grid\n",
    "    kernel1(aold, anew)\n",
    "\n",
    "    # refresh heat sources\n",
    "    for i in range(locnsources) :\n",
    "        aold[locsources[i, 0]-1, locsources[i, 1]-1] += energy \n",
    "\n",
    "# get final heat in the system\n",
    "bheat[0] = np.sum(aold[1:-1, 1:-1])\n",
    "comm.Reduce(bheat, rheat)\n",
    "\n",
    "if not mpirank :\n",
    "    t0 = time.time() - t0\n",
    "    print(\"Heat = %0.4f | Tempo = %0.4f | Thread count = %d\"\n",
    "          %(rheat[0], t0, config.NUMBA_NUM_THREADS))"
   ]
  },
  {
   "cell_type": "markdown",
   "metadata": {},
   "source": [
    "# Rodando em um nó de execução\n",
    "Grava o arquivo fonte:"
   ]
  },
  {
   "cell_type": "code",
   "execution_count": 3,
   "metadata": {},
   "outputs": [
    {
     "name": "stdout",
     "output_type": "stream",
     "text": [
      "Overwriting st-nu-par.py\n"
     ]
    }
   ],
   "source": [
    "%%writefile st-nu-par.py\n",
    "import numpy as np\n",
    "import time\n",
    "from mpi4py import MPI   \n",
    "\n",
    "from numba import jit, prange, config\n",
    "config.DUMP_ASSEMBLY = 0\n",
    "config.NUMBA_ENABLE_AVX = 1\n",
    "config.NUMBA_NUM_THREADS = 1\n",
    "\n",
    "@jit('(float64[:,:],float64[:,:])', nopython=True, parallel=True, nogil=True) \n",
    "def kernel1(anew, aold) :\n",
    "    anew[1:-1, 1:-1] = ( aold[1:-1, 1:-1] * 0.5 + \n",
    "                       ( aold[2:  , 1:-1] + aold[ :-2, 1:-1] +\n",
    "                         aold[1:-1, 2:  ] + aold[1:-1,  :-2] ) * 0.125 )\n",
    "\n",
    "\n",
    "n            = 4800    # nxn grid (4800,1,500)=1500; (100,1,10)=30\n",
    "energy       = 1.0     # energy to be injected per iteration\n",
    "niters       = 500     # number of iterations\n",
    "\n",
    "nsources     = 3       # sources of energy\n",
    "size         = n + 2\n",
    "heat         = np.zeros((1), np.float64)     # system total heat\n",
    "anew         = np.zeros((size, size), np.float64)\n",
    "aold         = np.zeros((size, size), np.float64)\n",
    "sources      = np.empty((3,2), np.int32)\n",
    "sources[:,:] = [ [n//2, n//2], [n//3, n//3], [n*4//5, n*8//9] ]\n",
    "niters       = (niters+1) // 2\n",
    "\n",
    "comm = MPI.COMM_WORLD\n",
    "mpirank = comm.rank\n",
    "mpisize = comm.size\n",
    "\n",
    "# cria e inicializa as fontes de calor\n",
    "nsources = 3\n",
    "sources = np.zeros((nsources, 2), np.intc)\n",
    "sources[:,:] = [ [n//2, n//2], [n//3, n//3], [n*4//5, n*8//9] ]\n",
    "\n",
    "# sources in my area, local to my rank\n",
    "locnsources = 0\n",
    "locsources = np.empty((nsources,2), np.intc)\n",
    "\n",
    "rheat = np.zeros(1, np.double)\n",
    "bheat = np.zeros(1, np.double)\n",
    "\n",
    "# determine my coordinates (x,y)\n",
    "pdims = MPI.Compute_dims(mpisize, 2)\n",
    "px    = pdims[0]\n",
    "py    = pdims[1]\n",
    "rx    = mpirank % px\n",
    "ry    = mpirank // px\n",
    "\n",
    "# determine my four neighbors\n",
    "north = (ry - 1) * px + rx\n",
    "if (ry - 1) < 0 :\n",
    "    north = MPI.PROC_NULL\n",
    "south = (ry + 1) * px + rx\n",
    "if (ry + 1) >= py :\n",
    "    south = MPI.PROC_NULL\n",
    "west = ry * px + rx - 1\n",
    "if (rx - 1) < 0 :\n",
    "    west = MPI.PROC_NULL\n",
    "east = ry * px + rx + 1\n",
    "if (rx + 1) >= px :\n",
    "    east = MPI.PROC_NULL\n",
    "\n",
    "# decompose the domain\n",
    "bx = n // px            # block size in x\n",
    "by = n // py            # block size in y\n",
    "offx = rx * bx + 1      # offset in x\n",
    "offy = ry * by + 1      # offset in y\n",
    "\n",
    "# determine which sources are in my patch\n",
    "for i in range(nsources) :\n",
    "    locx = sources[i, 0] - offx\n",
    "    locy = sources[i, 1] - offy\n",
    "    if(locx >= 0 and locx <= bx and locy >= 0 and locy <= by) :\n",
    "        locsources[locnsources, 0] = locx + 2 - 1\n",
    "        locsources[locnsources, 1] = locy + 2 - 1\n",
    "        locnsources += 1\n",
    "\n",
    "# working arrays with 1-wide halo zones\n",
    "anew = np.zeros((bx+2, by+2), np.double)\n",
    "aold = np.zeros((bx+2, by+2), np.double)\n",
    "\n",
    "if not mpirank : t0 = time.time()\n",
    "\n",
    "for iters in range(niters) :\n",
    "    # exchange data with neighbors\n",
    "    if north != MPI.PROC_NULL :\n",
    "        r1=comm.irecv(source=north, tag=1)\n",
    "        s1=comm.isend(aold[1, 1:bx+1], dest=north, tag=1)\n",
    "    if south != MPI.PROC_NULL :\n",
    "        r2=comm.irecv(source=south, tag=1)\n",
    "        s2=comm.isend(aold[bx, 1:bx+1], dest=south, tag=1)\n",
    "    if east != MPI.PROC_NULL :\n",
    "        r3 = comm.irecv(source=east, tag=1)\n",
    "        s3 = comm.isend(aold[1:bx+1, bx], dest=east, tag=1)\n",
    "    if west != MPI.PROC_NULL :\n",
    "        r4 = comm.irecv(source=west, tag=1)\n",
    "        s4 = comm.isend(aold[1:bx+1, 1], dest=west, tag=1)\n",
    "    # wait\n",
    "    if north != MPI.PROC_NULL :\n",
    "        s1.wait()\n",
    "        aold[0, 1:bx+1] = r1.wait()\n",
    "    if south != MPI.PROC_NULL :\n",
    "        s2.wait()\n",
    "        aold[bx+1, 1:bx+1] = r2.wait()\n",
    "    if east != MPI.PROC_NULL :\n",
    "        s3.wait()\n",
    "        aold[1:bx+1, bx+1] = r3.wait()\n",
    "    if west != MPI.PROC_NULL :\n",
    "        s4.wait\n",
    "        aold[1:bx+1, 0] = r4.wait()\n",
    "\n",
    "    # update grid\n",
    "    kernel1(anew, aold)\n",
    "\n",
    "    # refresh heat sources\n",
    "    for i in range(locnsources) :\n",
    "        anew[locsources[i, 0]-1, locsources[i, 1]-1] += energy\n",
    "\n",
    "    # exchange data with neighbors\n",
    "    if north != MPI.PROC_NULL :\n",
    "        r1=comm.irecv(source=north, tag=1)\n",
    "        s1=comm.isend(anew[1, 1:bx+1], dest=north, tag=1)\n",
    "    if south != MPI.PROC_NULL :\n",
    "        r2=comm.irecv(source=south, tag=1)\n",
    "        s2=comm.isend(anew[bx, 1:bx+1], dest=south, tag=1)\n",
    "    if east != MPI.PROC_NULL :\n",
    "        r3 = comm.irecv(source=east, tag=1)\n",
    "        s3 = comm.isend(anew[1:bx+1, bx], dest=east, tag=1)\n",
    "    if west != MPI.PROC_NULL :\n",
    "        r4 = comm.irecv(source=west, tag=1)\n",
    "        s4 = comm.isend(anew[1:bx+1, 1], dest=west, tag=1)\n",
    "    # wait\n",
    "    if north != MPI.PROC_NULL :\n",
    "        s1.wait()\n",
    "        anew[0, 1:bx+1] = r1.wait()\n",
    "    if south != MPI.PROC_NULL :\n",
    "        s2.wait()\n",
    "        anew[bx+1, 1:bx+1] = r2.wait()\n",
    "    if east != MPI.PROC_NULL :\n",
    "        s3.wait()\n",
    "        anew[1:bx+1, bx+1] = r3.wait()\n",
    "    if west != MPI.PROC_NULL :\n",
    "        s4.wait\n",
    "        anew[1:bx+1, 0] = r4.wait()\n",
    "\n",
    "    # update grid\n",
    "    kernel1(aold, anew)\n",
    "\n",
    "    # refresh heat sources\n",
    "    for i in range(locnsources) :\n",
    "        aold[locsources[i, 0]-1, locsources[i, 1]-1] += energy \n",
    "\n",
    "# get final heat in the system\n",
    "bheat[0] = np.sum(aold[1:-1, 1:-1])\n",
    "comm.Reduce(bheat, rheat)\n",
    "\n",
    "if not mpirank :\n",
    "    t1 = MPI.Wtime() - t0\n",
    "    print('Heat={:0.4f} | Tempo={:0.4f} | MPISize={:d} | Dim={:d},{:d} | bx,by={:d},{:d}'\n",
    "          .format(rheat[0], t1, mpisize, pdims[0], pdims[1], bx, by))"
   ]
  },
  {
   "cell_type": "markdown",
   "metadata": {},
   "source": [
    "### Testa a execução"
   ]
  },
  {
   "cell_type": "code",
   "execution_count": 2,
   "metadata": {},
   "outputs": [
    {
     "name": "stdout",
     "output_type": "stream",
     "text": [
      "Heat = 1500.0000 | Tempo = 22.1751 | Thread count = 1\n"
     ]
    }
   ],
   "source": [
    "%%bash\n",
    "mpiexec -n 1 python st-nu-par.py"
   ]
  },
  {
   "cell_type": "code",
   "execution_count": 17,
   "metadata": {},
   "outputs": [
    {
     "name": "stdout",
     "output_type": "stream",
     "text": [
      "Heat=1500.0000 | Tempo=26.5325 | MPISize=4 | Dim=2,2 | bx,by=2400,2400\n"
     ]
    }
   ],
   "source": [
    "%%bash\n",
    "mpiexec -n 4 python st-nu-par.py"
   ]
  },
  {
   "cell_type": "code",
   "execution_count": 18,
   "metadata": {},
   "outputs": [
    {
     "name": "stdout",
     "output_type": "stream",
     "text": [
      "Heat=1500.0000 | Tempo=3.8493 | MPISize=9 | Dim=3,3 | bx,by=1600,1600\n"
     ]
    }
   ],
   "source": [
    "%%bash\n",
    "mpiexec -n 9 python st-nu-par.py"
   ]
  },
  {
   "cell_type": "markdown",
   "metadata": {},
   "source": [
    "### Copia para scratch"
   ]
  },
  {
   "cell_type": "code",
   "execution_count": 1,
   "metadata": {},
   "outputs": [],
   "source": [
    "%%bash\n",
    "a='/ampemi/xxxx.xxxx/stnc/Numba'\n",
    "s='/prj'$a\n",
    "d='/scratch'$a\n",
    "cp  $s/st-nu-par.py  $d"
   ]
  },
  {
   "cell_type": "code",
   "execution_count": 13,
   "metadata": {},
   "outputs": [
    {
     "name": "stdout",
     "output_type": "stream",
     "text": [
      "Overwriting st-nu-par_81.srm\n"
     ]
    }
   ],
   "source": [
    "%%writefile st-nu-par_81.srm\n",
    "#!/bin/bash\n",
    "# limites das filas (1,0 UA):\n",
    "#   cpu_dev  : 20 min.,  1-4  nós, 1/1   tarefas em exec/fila máximo\n",
    "#   cpu_small: 72 horas, 1-20 nós, 16/96 tarefas em exec/fila máximo\n",
    "# 1x1=1, 2x2=4, 3x3=9, 4x4=16, 6x6=36, 7x7=49, 8x8=64, 9x9=81\n",
    "\n",
    "#SBATCH --ntasks=81            #Total de tarefas\n",
    "#SBATCH -J stnupar             #Nome do job, 8 caracteres\n",
    "#SBATCH -p cpu_small           #Fila (partition) a ser utilizada\n",
    "#SBATCH --time=00:02:00        #Tempo max. de execução 5 minutos\n",
    "#SBATCH --exclusive            #Utilização exclusiva dos nós\n",
    "# #SBATCH --nodes=1              #Qtd de nós\n",
    "# #SBATCH --ntasks-per-node=1    #Qtd de tarefas por nó ($SLURM_NTASKS_PER_NODE)\n",
    "\n",
    "echo '========================================'\n",
    "echo '- Job ID:' $SLURM_JOB_ID\n",
    "echo '- Tarefas por no:' $SLURM_NTASKS_PER_NODE\n",
    "echo '- Qtd. de nos:' $SLURM_JOB_NUM_NODES\n",
    "echo '- Tot. de tarefas:' $SLURM_NTASKS\n",
    "echo '- Nos alocados:' $SLURM_JOB_NODELIST\n",
    "nodeset -e $SLURM_JOB_NODELIST\n",
    "echo '- diretorio onde sbatch foi chamado ($SLURM_SUBMIT_DIR):'\n",
    "echo $SLURM_SUBMIT_DIR\n",
    "cd $SLURM_SUBMIT_DIR\n",
    "\n",
    "#Entra no diretório de trabalho\n",
    "d='/scratch/ampemi/xxxx.xxxx/stnc/Numba'\n",
    "cd $d\n",
    "\n",
    "#Modulos\n",
    "#module load mpi/openmpi3-x86_64\n",
    "module load anaconda3/2018.12\n",
    "\n",
    "#Executavel\n",
    "EXEC='python st-nu-par.py'\n",
    "\n",
    "#Dispara a execucao\n",
    "#=======================================#\n",
    "# ATENÇÃO! precisa do \"--mpi=pmi2\"      #\n",
    "#=======================================#\n",
    "echo '-- srun -------------------------------'\n",
    "echo '$ srun --mpi=pmi2 -n' $SLURM_NTASKS $EXEC\n",
    "srun --mpi=pmi2 -n $SLURM_NTASKS $EXEC\n",
    "echo '-- FIM --------------------------------'"
   ]
  },
  {
   "cell_type": "markdown",
   "metadata": {},
   "source": [
    "### Testa a execução"
   ]
  },
  {
   "cell_type": "code",
   "execution_count": 45,
   "metadata": {},
   "outputs": [
    {
     "name": "stdout",
     "output_type": "stream",
     "text": [
      "Heat=1500.0000 | Tempo=21.8506 | MPISize=1 | Dim=1,1 | bx,by=4800,4800\n"
     ]
    }
   ],
   "source": [
    "%%bash\n",
    "d='/scratch/ampemi/xxxx.xxxx/stnc/Numba'\n",
    "cd $d\n",
    "mpiexec -n 1 python st-nu-par.py"
   ]
  },
  {
   "cell_type": "code",
   "execution_count": 31,
   "metadata": {},
   "outputs": [
    {
     "name": "stdout",
     "output_type": "stream",
     "text": [
      "Heat=1500.0000 | Tempo=27.0193 | MPISize=4 | Dim=2,2 | bx,by=2400,2400\n"
     ]
    }
   ],
   "source": [
    "%%bash\n",
    "d='/scratch/ampemi/xxxx.xxxx/stnc/Numba'\n",
    "cd $d\n",
    "mpiexec -n 4 python st-nu-par.py"
   ]
  },
  {
   "cell_type": "code",
   "execution_count": 47,
   "metadata": {},
   "outputs": [
    {
     "name": "stdout",
     "output_type": "stream",
     "text": [
      "Heat=1500.0000 | Tempo=3.7629 | MPISize=9 | Dim=3,3 | bx,by=1600,1600\n"
     ]
    }
   ],
   "source": [
    "%%bash\n",
    "d='/scratch/ampemi/xxxx.xxxx/stnc/Numba'\n",
    "cd $d\n",
    "mpiexec -n 9 python st-nu-par.py"
   ]
  },
  {
   "cell_type": "markdown",
   "metadata": {},
   "source": [
    "<hr style=\"height:10px;border-width:0;background-color:green\">"
   ]
  },
  {
   "cell_type": "markdown",
   "metadata": {},
   "source": [
    "### Envia para execução"
   ]
  },
  {
   "cell_type": "code",
   "execution_count": 4,
   "metadata": {},
   "outputs": [
    {
     "name": "stdout",
     "output_type": "stream",
     "text": [
      "Submitted batch job 777730\n"
     ]
    }
   ],
   "source": [
    "%%bash\n",
    "sbatch st-nu-par_04.srm"
   ]
  },
  {
   "cell_type": "code",
   "execution_count": 5,
   "metadata": {},
   "outputs": [
    {
     "name": "stdout",
     "output_type": "stream",
     "text": [
      "             JOBID PARTITION     NAME     USER ST       TIME  NODES NODELIST(REASON)\n"
     ]
    }
   ],
   "source": [
    "! squeue -n stnupar"
   ]
  },
  {
   "cell_type": "code",
   "execution_count": 6,
   "metadata": {},
   "outputs": [
    {
     "name": "stdout",
     "output_type": "stream",
     "text": [
      "========================================\n",
      "- Job ID: 777730\n",
      "- Tarefas por no:\n",
      "- Qtd. de nos: 1\n",
      "- Tot. de tarefas: 4\n",
      "- Nos alocados: sdumont1099\n",
      "sdumont1099\n",
      "- diretorio onde sbatch foi chamado ($SLURM_SUBMIT_DIR):\n",
      "/prj/ampemi/xxxx.xxxx/stnc/Numba\n",
      "-- srun -------------------------------\n",
      "$ srun --mpi=pmi2 -n 4 python st-nu-par.py\n",
      "Heat=1500.0000 | Tempo=7.6107 | MPISize=4 | Dim=2,2 | bx,by=2400,2400\n",
      "-- FIM --------------------------------\n"
     ]
    }
   ],
   "source": [
    "%%bash\n",
    "d='/scratch/ampemi/xxxx.xxxx/stnc/Numba'\n",
    "cat $d/slurm-777730.out"
   ]
  },
  {
   "cell_type": "code",
   "execution_count": 16,
   "metadata": {},
   "outputs": [
    {
     "name": "stdout",
     "output_type": "stream",
     "text": [
      "Submitted batch job 777755\n",
      "Submitted batch job 777757\n",
      "Submitted batch job 777758\n",
      "Submitted batch job 777759\n",
      "Submitted batch job 777760\n",
      "Submitted batch job 777761\n",
      "Submitted batch job 777762\n"
     ]
    }
   ],
   "source": [
    "%%bash\n",
    "# 1x1=1, 2x2=4, 3x3=9, 4x4=16, 6x6=36, 7x7=49, 8x8=64, 9x9=81\n",
    "sbatch st-nu-par_01.srm\n",
    "sbatch st-nu-par_09.srm\n",
    "sbatch st-nu-par_16.srm\n",
    "sbatch st-nu-par_36.srm\n",
    "sbatch st-nu-par_49.srm\n",
    "sbatch st-nu-par_64.srm\n",
    "sbatch st-nu-par_81.srm"
   ]
  },
  {
   "cell_type": "code",
   "execution_count": 18,
   "metadata": {},
   "outputs": [
    {
     "name": "stdout",
     "output_type": "stream",
     "text": [
      "             JOBID PARTITION     NAME     USER ST       TIME  NODES NODELIST(REASON)\n"
     ]
    }
   ],
   "source": [
    "! squeue -n stnupar"
   ]
  },
  {
   "cell_type": "code",
   "execution_count": 19,
   "metadata": {},
   "outputs": [
    {
     "name": "stdout",
     "output_type": "stream",
     "text": [
      "========================================\n",
      "- Job ID: 777755\n",
      "- Tarefas por no:\n",
      "- Qtd. de nos: 1\n",
      "- Tot. de tarefas: 1\n",
      "- Nos alocados: sdumont1084\n",
      "sdumont1084\n",
      "- diretorio onde sbatch foi chamado ($SLURM_SUBMIT_DIR):\n",
      "/prj/ampemi/xxxx.xxxx/stnc/Numba\n",
      "-- srun -------------------------------\n",
      "$ srun --mpi=pmi2 -n 1 python st-nu-par.py\n",
      "Heat=1500.0000 | Tempo=30.4845 | MPISize=1 | Dim=1,1 | bx,by=4800,4800\n",
      "-- FIM --------------------------------\n",
      "========================================\n",
      "- Job ID: 777757\n",
      "- Tarefas por no:\n",
      "- Qtd. de nos: 1\n",
      "- Tot. de tarefas: 9\n",
      "- Nos alocados: sdumont1099\n",
      "sdumont1099\n",
      "- diretorio onde sbatch foi chamado ($SLURM_SUBMIT_DIR):\n",
      "/prj/ampemi/xxxx.xxxx/stnc/Numba\n",
      "-- srun -------------------------------\n",
      "$ srun --mpi=pmi2 -n 9 python st-nu-par.py\n",
      "Heat=1500.0000 | Tempo=6.3707 | MPISize=9 | Dim=3,3 | bx,by=1600,1600\n",
      "-- FIM --------------------------------\n",
      "========================================\n",
      "- Job ID: 777758\n",
      "- Tarefas por no:\n",
      "- Qtd. de nos: 1\n",
      "- Tot. de tarefas: 16\n",
      "- Nos alocados: sdumont1261\n",
      "sdumont1261\n",
      "- diretorio onde sbatch foi chamado ($SLURM_SUBMIT_DIR):\n",
      "/prj/ampemi/xxxx.xxxx/stnc/Numba\n",
      "-- srun -------------------------------\n",
      "$ srun --mpi=pmi2 -n 16 python st-nu-par.py\n",
      "Heat=1500.0000 | Tempo=4.7900 | MPISize=16 | Dim=4,4 | bx,by=1200,1200\n",
      "-- FIM --------------------------------\n",
      "========================================\n",
      "- Job ID: 777759\n",
      "- Tarefas por no:\n",
      "- Qtd. de nos: 2\n",
      "- Tot. de tarefas: 36\n",
      "- Nos alocados: sdumont[1373-1374]\n",
      "sdumont1373 sdumont1374\n",
      "- diretorio onde sbatch foi chamado ($SLURM_SUBMIT_DIR):\n",
      "/prj/ampemi/xxxx.xxxx/stnc/Numba\n",
      "-- srun -------------------------------\n",
      "$ srun --mpi=pmi2 -n 36 python st-nu-par.py\n",
      "Heat=1500.0000 | Tempo=2.2966 | MPISize=36 | Dim=6,6 | bx,by=800,800\n",
      "-- FIM --------------------------------\n",
      "========================================\n",
      "- Job ID: 777760\n",
      "- Tarefas por no:\n",
      "- Qtd. de nos: 3\n",
      "- Tot. de tarefas: 49\n",
      "- Nos alocados: sdumont[1170-1172]\n",
      "sdumont1170 sdumont1171 sdumont1172\n",
      "- diretorio onde sbatch foi chamado ($SLURM_SUBMIT_DIR):\n",
      "/prj/ampemi/xxxx.xxxx/stnc/Numba\n",
      "-- srun -------------------------------\n",
      "$ srun --mpi=pmi2 -n 49 python st-nu-par.py\n",
      "Heat=1500.0000 | Tempo=2.5868 | MPISize=49 | Dim=7,7 | bx,by=685,685\n",
      "-- FIM --------------------------------\n",
      "========================================\n",
      "- Job ID: 777761\n",
      "- Tarefas por no:\n",
      "- Qtd. de nos: 3\n",
      "- Tot. de tarefas: 64\n",
      "- Nos alocados: sdumont[1181-1183]\n",
      "sdumont1181 sdumont1182 sdumont1183\n",
      "- diretorio onde sbatch foi chamado ($SLURM_SUBMIT_DIR):\n",
      "/prj/ampemi/xxxx.xxxx/stnc/Numba\n",
      "-- srun -------------------------------\n",
      "$ srun --mpi=pmi2 -n 64 python st-nu-par.py\n",
      "Heat=1500.0000 | Tempo=2.5600 | MPISize=64 | Dim=8,8 | bx,by=600,600\n",
      "-- FIM --------------------------------\n",
      "========================================\n",
      "- Job ID: 777762\n",
      "- Tarefas por no:\n",
      "- Qtd. de nos: 4\n",
      "- Tot. de tarefas: 81\n",
      "- Nos alocados: sdumont[1341-1344]\n",
      "sdumont1341 sdumont1342 sdumont1343 sdumont1344\n",
      "- diretorio onde sbatch foi chamado ($SLURM_SUBMIT_DIR):\n",
      "/prj/ampemi/xxxx.xxxx/stnc/Numba\n",
      "-- srun -------------------------------\n",
      "$ srun --mpi=pmi2 -n 81 python st-nu-par.py\n",
      "Heat=1500.0000 | Tempo=2.1167 | MPISize=81 | Dim=9,9 | bx,by=533,533\n",
      "-- FIM --------------------------------\n"
     ]
    }
   ],
   "source": [
    "%%bash\n",
    "d='/scratch/ampemi/xxxx.xxxx/stnc/Numba'\n",
    "cat $d/slurm-777755.out  #01\n",
    "cat $d/slurm-777757.out  #09\n",
    "cat $d/slurm-777758.out  #16\n",
    "cat $d/slurm-777759.out  #36\n",
    "cat $d/slurm-777760.out  #49\n",
    "cat $d/slurm-777761.out  #64\n",
    "cat $d/slurm-777762.out  #81"
   ]
  },
  {
   "cell_type": "code",
   "execution_count": 1,
   "metadata": {},
   "outputs": [
    {
     "name": "stdout",
     "output_type": "stream",
     "text": [
      "st-nu-par_01.srm  st-nu-par_09.srm  st-nu-par_36.srm  st-nu-par_64.srm\n",
      "st-nu-par_04.srm  st-nu-par_16.srm  st-nu-par_49.srm  st-nu-par_81.srm\n"
     ]
    }
   ],
   "source": [
    "! ls st-nu-par_*.srm"
   ]
  },
  {
   "cell_type": "code",
   "execution_count": 2,
   "metadata": {},
   "outputs": [
    {
     "name": "stdout",
     "output_type": "stream",
     "text": [
      "Submitted batch job 778875\n"
     ]
    }
   ],
   "source": [
    "%%bash\n",
    "# 1x1=1, 2x2=4, 3x3=9, 4x4=16, 6x6=36, 7x7=49, 8x8=64, 9x9=81\n",
    "sbatch st-nu-par_04.srm"
   ]
  },
  {
   "cell_type": "code",
   "execution_count": 4,
   "metadata": {},
   "outputs": [
    {
     "name": "stdout",
     "output_type": "stream",
     "text": [
      "             JOBID PARTITION     NAME     USER ST       TIME  NODES NODELIST(REASON)\n",
      "            778875 cpu_small  stnupar xxxx. PD       0:00      1 (Priority)\n"
     ]
    }
   ],
   "source": [
    "! squeue -n stnupar"
   ]
  },
  {
   "cell_type": "code",
   "execution_count": 1,
   "metadata": {},
   "outputs": [
    {
     "name": "stdout",
     "output_type": "stream",
     "text": [
      "========================================\n",
      "- Job ID: 778875\n",
      "- Tarefas por no:\n",
      "- Qtd. de nos: 1\n",
      "- Tot. de tarefas: 4\n",
      "- Nos alocados: sdumont1128\n",
      "sdumont1128\n",
      "- diretorio onde sbatch foi chamado ($SLURM_SUBMIT_DIR):\n",
      "/prj/ampemi/xxxx.xxxx/stnc/Numba\n",
      "-- srun -------------------------------\n",
      "$ srun --mpi=pmi2 -n 4 python st-nu-par.py\n",
      "Heat=1500.0000 | Tempo=7.5322 | MPISize=4 | Dim=2,2 | bx,by=2400,2400\n",
      "-- FIM --------------------------------\n"
     ]
    }
   ],
   "source": [
    "%%bash\n",
    "d='/scratch/ampemi/xxxx.xxxx/stnc/Numba'\n",
    "cat $d/slurm-778875.out"
   ]
  },
  {
   "cell_type": "markdown",
   "metadata": {},
   "source": [
    "<hr style=\"height:10px;border-width:0;background-color:green\">"
   ]
  },
  {
   "cell_type": "markdown",
   "metadata": {},
   "source": [
    "# Segunda tomada de tempo"
   ]
  },
  {
   "cell_type": "code",
   "execution_count": 1,
   "metadata": {},
   "outputs": [
    {
     "name": "stdout",
     "output_type": "stream",
     "text": [
      "65\n"
     ]
    }
   ],
   "source": [
    "! squeue -u xxxx.xxxx | grep -c ^    # limite 96"
   ]
  },
  {
   "cell_type": "code",
   "execution_count": 3,
   "metadata": {},
   "outputs": [
    {
     "name": "stdout",
     "output_type": "stream",
     "text": [
      "Submitted batch job 788106\n",
      "Submitted batch job 788107\n",
      "Submitted batch job 788108\n",
      "Submitted batch job 788109\n",
      "Submitted batch job 788110\n",
      "Submitted batch job 788111\n",
      "Submitted batch job 788112\n"
     ]
    }
   ],
   "source": [
    "%%bash\n",
    "# 1x1=1, 2x2=4, 3x3=9, 4x4=16, 6x6=36, 7x7=49, 8x8=64, 9x9=81\n",
    "sbatch st-nu-par_01.srm\n",
    "sbatch st-nu-par_04.srm\n",
    "sbatch st-nu-par_09.srm\n",
    "sbatch st-nu-par_16.srm\n",
    "sbatch st-nu-par_36.srm\n",
    "sbatch st-nu-par_49.srm\n",
    "sbatch st-nu-par_64.srm\n",
    "sbatch st-nu-par_81.srm"
   ]
  },
  {
   "cell_type": "code",
   "execution_count": 7,
   "metadata": {},
   "outputs": [
    {
     "name": "stdout",
     "output_type": "stream",
     "text": [
      "Submitted batch job 788313\n"
     ]
    }
   ],
   "source": [
    "%%bash\n",
    "# 1x1=1, 2x2=4, 3x3=9, 4x4=16, 6x6=36, 7x7=49, 8x8=64, 9x9=81\n",
    "#sbatch st-nu-par_01.srm\n",
    "sbatch st-nu-par_04.srm\n",
    "#sbatch st-nu-par_09.srm\n",
    "#sbatch st-nu-par_16.srm\n",
    "#sbatch st-nu-par_36.srm\n",
    "#sbatch st-nu-par_49.srm\n",
    "#sbatch st-nu-par_64.srm\n",
    "#sbatch st-nu-par_81.srm"
   ]
  },
  {
   "cell_type": "code",
   "execution_count": 4,
   "metadata": {},
   "outputs": [
    {
     "name": "stdout",
     "output_type": "stream",
     "text": [
      "             JOBID PARTITION     NAME     USER ST       TIME  NODES NODELIST(REASON)\n",
      "            788106 cpu_small  stnupar xxxx. PD       0:00      1 (Resources)\n",
      "            788107 cpu_small  stnupar xxxx. PD       0:00      1 (Resources)\n",
      "            788108 cpu_small  stnupar xxxx. PD       0:00      1 (Resources)\n",
      "            788109 cpu_small  stnupar xxxx. PD       0:00      2 (Resources)\n",
      "            788110 cpu_small  stnupar xxxx. PD       0:00      3 (Resources)\n",
      "            788111 cpu_small  stnupar xxxx. PD       0:00      3 (Resources)\n",
      "            788112 cpu_small  stnupar xxxx. PD       0:00      4 (Resources)\n"
     ]
    }
   ],
   "source": [
    "! squeue -n stnupar"
   ]
  },
  {
   "cell_type": "code",
   "execution_count": 8,
   "metadata": {},
   "outputs": [
    {
     "name": "stdout",
     "output_type": "stream",
     "text": [
      "             JOBID PARTITION     NAME     USER ST       TIME  NODES NODELIST(REASON)\n",
      "            788313 cpu_small  stnupar xxxx. PD       0:00      1 (Priority)\n"
     ]
    }
   ],
   "source": [
    "! squeue -n stnupar"
   ]
  },
  {
   "cell_type": "code",
   "execution_count": 13,
   "metadata": {},
   "outputs": [
    {
     "name": "stdout",
     "output_type": "stream",
     "text": [
      "========================================\n",
      "- Job ID: 788106\n",
      "- Tarefas por no:\n",
      "- Qtd. de nos: 1\n",
      "- Tot. de tarefas: 1\n",
      "- Nos alocados: sdumont1149\n",
      "sdumont1149\n",
      "- diretorio onde sbatch foi chamado ($SLURM_SUBMIT_DIR):\n",
      "/prj/ampemi/xxxx.xxxx/stnc/Numba\n",
      "-- srun -------------------------------\n",
      "$ srun --mpi=pmi2 -n 1 python st-nu-par.py\n",
      "Heat=1500.0000 | Tempo=30.5498 | MPISize=1 | Dim=1,1 | bx,by=4800,4800\n",
      "-- FIM --------------------------------\n",
      "========================================\n",
      "- Job ID: 788313\n",
      "- Tarefas por no:\n",
      "- Qtd. de nos: 1\n",
      "- Tot. de tarefas: 4\n",
      "- Nos alocados: sdumont1083\n",
      "sdumont1083\n",
      "- diretorio onde sbatch foi chamado ($SLURM_SUBMIT_DIR):\n",
      "/prj/ampemi/xxxx.xxxx/stnc/Numba\n",
      "-- srun -------------------------------\n",
      "$ srun --mpi=pmi2 -n 4 python st-nu-par.py\n",
      "Heat=1500.0000 | Tempo=8.4644 | MPISize=4 | Dim=2,2 | bx,by=2400,2400\n",
      "-- FIM --------------------------------\n",
      "========================================\n",
      "- Job ID: 788107\n",
      "- Tarefas por no:\n",
      "- Qtd. de nos: 1\n",
      "- Tot. de tarefas: 9\n",
      "- Nos alocados: sdumont1149\n",
      "sdumont1149\n",
      "- diretorio onde sbatch foi chamado ($SLURM_SUBMIT_DIR):\n",
      "/prj/ampemi/xxxx.xxxx/stnc/Numba\n",
      "-- srun -------------------------------\n",
      "$ srun --mpi=pmi2 -n 9 python st-nu-par.py\n",
      "Heat=1500.0000 | Tempo=6.3008 | MPISize=9 | Dim=3,3 | bx,by=1600,1600\n",
      "-- FIM --------------------------------\n",
      "========================================\n",
      "- Job ID: 788108\n",
      "- Tarefas por no:\n",
      "- Qtd. de nos: 1\n",
      "- Tot. de tarefas: 16\n",
      "- Nos alocados: sdumont1149\n",
      "sdumont1149\n",
      "- diretorio onde sbatch foi chamado ($SLURM_SUBMIT_DIR):\n",
      "/prj/ampemi/xxxx.xxxx/stnc/Numba\n",
      "-- srun -------------------------------\n",
      "$ srun --mpi=pmi2 -n 16 python st-nu-par.py\n",
      "Heat=1500.0000 | Tempo=4.7216 | MPISize=16 | Dim=4,4 | bx,by=1200,1200\n",
      "-- FIM --------------------------------\n",
      "========================================\n",
      "- Job ID: 788109\n",
      "- Tarefas por no:\n",
      "- Qtd. de nos: 2\n",
      "- Tot. de tarefas: 36\n",
      "- Nos alocados: sdumont[1083,1149]\n",
      "sdumont1083 sdumont1149\n",
      "- diretorio onde sbatch foi chamado ($SLURM_SUBMIT_DIR):\n",
      "/prj/ampemi/xxxx.xxxx/stnc/Numba\n",
      "-- srun -------------------------------\n",
      "$ srun --mpi=pmi2 -n 36 python st-nu-par.py\n",
      "Heat=1500.0000 | Tempo=5.2114 | MPISize=36 | Dim=6,6 | bx,by=800,800\n",
      "-- FIM --------------------------------\n",
      "========================================\n",
      "- Job ID: 788110\n",
      "- Tarefas por no:\n",
      "- Qtd. de nos: 3\n",
      "- Tot. de tarefas: 49\n",
      "- Nos alocados: sdumont[1083,1149,1272]\n",
      "sdumont1083 sdumont1149 sdumont1272\n",
      "- diretorio onde sbatch foi chamado ($SLURM_SUBMIT_DIR):\n",
      "/prj/ampemi/xxxx.xxxx/stnc/Numba\n",
      "-- srun -------------------------------\n",
      "$ srun --mpi=pmi2 -n 49 python st-nu-par.py\n",
      "Heat=1500.0000 | Tempo=3.6385 | MPISize=49 | Dim=7,7 | bx,by=685,685\n",
      "-- FIM --------------------------------\n",
      "========================================\n",
      "- Job ID: 788111\n",
      "- Tarefas por no:\n",
      "- Qtd. de nos: 3\n",
      "- Tot. de tarefas: 64\n",
      "- Nos alocados: sdumont[1083,1149,1272]\n",
      "sdumont1083 sdumont1149 sdumont1272\n",
      "- diretorio onde sbatch foi chamado ($SLURM_SUBMIT_DIR):\n",
      "/prj/ampemi/xxxx.xxxx/stnc/Numba\n",
      "-- srun -------------------------------\n",
      "$ srun --mpi=pmi2 -n 64 python st-nu-par.py\n",
      "Heat=1500.0000 | Tempo=1.4989 | MPISize=64 | Dim=8,8 | bx,by=600,600\n",
      "-- FIM --------------------------------\n",
      "========================================\n",
      "- Job ID: 788112\n",
      "- Tarefas por no:\n",
      "- Qtd. de nos: 4\n",
      "- Tot. de tarefas: 81\n",
      "- Nos alocados: sdumont[1083,1149,1272,1391]\n",
      "sdumont1083 sdumont1149 sdumont1272 sdumont1391\n",
      "- diretorio onde sbatch foi chamado ($SLURM_SUBMIT_DIR):\n",
      "/prj/ampemi/xxxx.xxxx/stnc/Numba\n",
      "-- srun -------------------------------\n",
      "$ srun --mpi=pmi2 -n 81 python st-nu-par.py\n",
      "Heat=1500.0000 | Tempo=2.0236 | MPISize=81 | Dim=9,9 | bx,by=533,533\n",
      "-- FIM --------------------------------\n"
     ]
    }
   ],
   "source": [
    "%%bash\n",
    "d='/scratch/ampemi/xxxx.xxxx/stnc/Numba'\n",
    "cat $d/slurm-788106.out  #01\n",
    "cat $d/slurm-788313.out  #04\n",
    "cat $d/slurm-788107.out  #09\n",
    "cat $d/slurm-788108.out  #16\n",
    "cat $d/slurm-788109.out  #36\n",
    "cat $d/slurm-788110.out  #49\n",
    "cat $d/slurm-788111.out  #64\n",
    "cat $d/slurm-788112.out  #81"
   ]
  },
  {
   "cell_type": "markdown",
   "metadata": {},
   "source": [
    "<hr style=\"height:10px;border-width:0;background-color:green\">"
   ]
  },
  {
   "cell_type": "markdown",
   "metadata": {},
   "source": [
    "# Terceira tomada de tempo"
   ]
  },
  {
   "cell_type": "code",
   "execution_count": 8,
   "metadata": {},
   "outputs": [
    {
     "name": "stdout",
     "output_type": "stream",
     "text": [
      "79\n"
     ]
    }
   ],
   "source": [
    "! squeue -u ${USER} | grep -c ^    # limite 96"
   ]
  },
  {
   "cell_type": "code",
   "execution_count": 6,
   "metadata": {},
   "outputs": [
    {
     "name": "stdout",
     "output_type": "stream",
     "text": [
      "Submitted batch job 788113\n",
      "Submitted batch job 788114\n",
      "Submitted batch job 788115\n",
      "Submitted batch job 788116\n",
      "Submitted batch job 788117\n",
      "Submitted batch job 788118\n",
      "Submitted batch job 788119\n"
     ]
    }
   ],
   "source": [
    "%%bash\n",
    "# 1x1=1, 2x2=4, 3x3=9, 4x4=16, 6x6=36, 7x7=49, 8x8=64, 9x9=81\n",
    "sbatch st-nu-par_01.srm\n",
    "sbatch st-nu-par_09.srm\n",
    "sbatch st-nu-par_16.srm\n",
    "sbatch st-nu-par_36.srm\n",
    "sbatch st-nu-par_49.srm\n",
    "sbatch st-nu-par_64.srm\n",
    "sbatch st-nu-par_81.srm"
   ]
  },
  {
   "cell_type": "code",
   "execution_count": 9,
   "metadata": {},
   "outputs": [
    {
     "name": "stdout",
     "output_type": "stream",
     "text": [
      "Submitted batch job 788314\n"
     ]
    }
   ],
   "source": [
    "%%bash\n",
    "# 1x1=1, 2x2=4, 3x3=9, 4x4=16, 6x6=36, 7x7=49, 8x8=64, 9x9=81\n",
    "#sbatch st-nu-par_01.srm\n",
    "sbatch st-nu-par_04.srm\n",
    "#sbatch st-nu-par_09.srm\n",
    "#sbatch st-nu-par_16.srm\n",
    "#sbatch st-nu-par_36.srm\n",
    "#sbatch st-nu-par_49.srm\n",
    "#sbatch st-nu-par_64.srm\n",
    "#sbatch st-nu-par_81.srm"
   ]
  },
  {
   "cell_type": "code",
   "execution_count": 7,
   "metadata": {},
   "outputs": [
    {
     "name": "stdout",
     "output_type": "stream",
     "text": [
      "             JOBID PARTITION     NAME     USER ST       TIME  NODES NODELIST(REASON)\n",
      "            788106 cpu_small  stnupar xxxx. PD       0:00      1 (Resources)\n",
      "            788107 cpu_small  stnupar xxxx. PD       0:00      1 (Resources)\n",
      "            788108 cpu_small  stnupar xxxx. PD       0:00      1 (Resources)\n",
      "            788109 cpu_small  stnupar xxxx. PD       0:00      2 (Resources)\n",
      "            788110 cpu_small  stnupar xxxx. PD       0:00      3 (Resources)\n",
      "            788111 cpu_small  stnupar xxxx. PD       0:00      3 (Resources)\n",
      "            788112 cpu_small  stnupar xxxx. PD       0:00      4 (Resources)\n",
      "            788113 cpu_small  stnupar xxxx. PD       0:00      1 (Resources)\n",
      "            788114 cpu_small  stnupar xxxx. PD       0:00      1 (Resources)\n",
      "            788115 cpu_small  stnupar xxxx. PD       0:00      1 (Resources)\n",
      "            788116 cpu_small  stnupar xxxx. PD       0:00      2 (Resources)\n",
      "            788117 cpu_small  stnupar xxxx. PD       0:00      3 (Resources)\n",
      "            788118 cpu_small  stnupar xxxx. PD       0:00      3 (Resources)\n",
      "            788119 cpu_small  stnupar xxxx. PD       0:00      4 (Resources)\n"
     ]
    }
   ],
   "source": [
    "! squeue -n stnupar"
   ]
  },
  {
   "cell_type": "code",
   "execution_count": 11,
   "metadata": {},
   "outputs": [
    {
     "name": "stdout",
     "output_type": "stream",
     "text": [
      "             JOBID PARTITION     NAME     USER ST       TIME  NODES NODELIST(REASON)\n"
     ]
    }
   ],
   "source": [
    "! squeue -n stnupar"
   ]
  },
  {
   "cell_type": "code",
   "execution_count": 12,
   "metadata": {},
   "outputs": [
    {
     "name": "stdout",
     "output_type": "stream",
     "text": [
      "========================================\n",
      "- Job ID: 788113\n",
      "- Tarefas por no:\n",
      "- Qtd. de nos: 1\n",
      "- Tot. de tarefas: 1\n",
      "- Nos alocados: sdumont1149\n",
      "sdumont1149\n",
      "- diretorio onde sbatch foi chamado ($SLURM_SUBMIT_DIR):\n",
      "/prj/ampemi/xxxx.xxxx/stnc/Numba\n",
      "-- srun -------------------------------\n",
      "$ srun --mpi=pmi2 -n 1 python st-nu-par.py\n",
      "Heat=1500.0000 | Tempo=30.5408 | MPISize=1 | Dim=1,1 | bx,by=4800,4800\n",
      "-- FIM --------------------------------\n",
      "========================================\n",
      "- Job ID: 788314\n",
      "- Tarefas por no:\n",
      "- Qtd. de nos: 1\n",
      "- Tot. de tarefas: 4\n",
      "- Nos alocados: sdumont1083\n",
      "sdumont1083\n",
      "- diretorio onde sbatch foi chamado ($SLURM_SUBMIT_DIR):\n",
      "/prj/ampemi/xxxx.xxxx/stnc/Numba\n",
      "-- srun -------------------------------\n",
      "$ srun --mpi=pmi2 -n 4 python st-nu-par.py\n",
      "Heat=1500.0000 | Tempo=8.4508 | MPISize=4 | Dim=2,2 | bx,by=2400,2400\n",
      "-- FIM --------------------------------\n",
      "========================================\n",
      "- Job ID: 788114\n",
      "- Tarefas por no:\n",
      "- Qtd. de nos: 1\n",
      "- Tot. de tarefas: 9\n",
      "- Nos alocados: sdumont1149\n",
      "sdumont1149\n",
      "- diretorio onde sbatch foi chamado ($SLURM_SUBMIT_DIR):\n",
      "/prj/ampemi/xxxx.xxxx/stnc/Numba\n",
      "-- srun -------------------------------\n",
      "$ srun --mpi=pmi2 -n 9 python st-nu-par.py\n",
      "Heat=1500.0000 | Tempo=6.3199 | MPISize=9 | Dim=3,3 | bx,by=1600,1600\n",
      "-- FIM --------------------------------\n",
      "========================================\n",
      "- Job ID: 788115\n",
      "- Tarefas por no:\n",
      "- Qtd. de nos: 1\n",
      "- Tot. de tarefas: 16\n",
      "- Nos alocados: sdumont1149\n",
      "sdumont1149\n",
      "- diretorio onde sbatch foi chamado ($SLURM_SUBMIT_DIR):\n",
      "/prj/ampemi/xxxx.xxxx/stnc/Numba\n",
      "-- srun -------------------------------\n",
      "$ srun --mpi=pmi2 -n 16 python st-nu-par.py\n",
      "Heat=1500.0000 | Tempo=8.0606 | MPISize=16 | Dim=4,4 | bx,by=1200,1200\n",
      "-- FIM --------------------------------\n",
      "========================================\n",
      "- Job ID: 788116\n",
      "- Tarefas por no:\n",
      "- Qtd. de nos: 2\n",
      "- Tot. de tarefas: 36\n",
      "- Nos alocados: sdumont[1083,1149]\n",
      "sdumont1083 sdumont1149\n",
      "- diretorio onde sbatch foi chamado ($SLURM_SUBMIT_DIR):\n",
      "/prj/ampemi/xxxx.xxxx/stnc/Numba\n",
      "-- srun -------------------------------\n",
      "$ srun --mpi=pmi2 -n 36 python st-nu-par.py\n",
      "Heat=1500.0000 | Tempo=2.1516 | MPISize=36 | Dim=6,6 | bx,by=800,800\n",
      "-- FIM --------------------------------\n",
      "========================================\n",
      "- Job ID: 788117\n",
      "- Tarefas por no:\n",
      "- Qtd. de nos: 3\n",
      "- Tot. de tarefas: 49\n",
      "- Nos alocados: sdumont[1083,1149,1272]\n",
      "sdumont1083 sdumont1149 sdumont1272\n",
      "- diretorio onde sbatch foi chamado ($SLURM_SUBMIT_DIR):\n",
      "/prj/ampemi/xxxx.xxxx/stnc/Numba\n",
      "-- srun -------------------------------\n",
      "$ srun --mpi=pmi2 -n 49 python st-nu-par.py\n",
      "Heat=1500.0000 | Tempo=1.8016 | MPISize=49 | Dim=7,7 | bx,by=685,685\n",
      "-- FIM --------------------------------\n",
      "========================================\n",
      "- Job ID: 788118\n",
      "- Tarefas por no:\n",
      "- Qtd. de nos: 3\n",
      "- Tot. de tarefas: 64\n",
      "- Nos alocados: sdumont[1083,1149,1272]\n",
      "sdumont1083 sdumont1149 sdumont1272\n",
      "- diretorio onde sbatch foi chamado ($SLURM_SUBMIT_DIR):\n",
      "/prj/ampemi/xxxx.xxxx/stnc/Numba\n",
      "-- srun -------------------------------\n",
      "$ srun --mpi=pmi2 -n 64 python st-nu-par.py\n",
      "Heat=1500.0000 | Tempo=1.3110 | MPISize=64 | Dim=8,8 | bx,by=600,600\n",
      "-- FIM --------------------------------\n",
      "========================================\n",
      "- Job ID: 788119\n",
      "- Tarefas por no:\n",
      "- Qtd. de nos: 4\n",
      "- Tot. de tarefas: 81\n",
      "- Nos alocados: sdumont[1083,1149,1272,1391]\n",
      "sdumont1083 sdumont1149 sdumont1272 sdumont1391\n",
      "- diretorio onde sbatch foi chamado ($SLURM_SUBMIT_DIR):\n",
      "/prj/ampemi/xxxx.xxxx/stnc/Numba\n",
      "-- srun -------------------------------\n",
      "$ srun --mpi=pmi2 -n 81 python st-nu-par.py\n",
      "Heat=1500.0000 | Tempo=2.0563 | MPISize=81 | Dim=9,9 | bx,by=533,533\n",
      "-- FIM --------------------------------\n"
     ]
    }
   ],
   "source": [
    "%%bash\n",
    "d='/scratch/ampemi/xxxx.xxxx/stnc/Numba'\n",
    "cat $d/slurm-788113.out  #01\n",
    "cat $d/slurm-788314.out  #04\n",
    "cat $d/slurm-788114.out  #09\n",
    "cat $d/slurm-788115.out  #16\n",
    "cat $d/slurm-788116.out  #36\n",
    "cat $d/slurm-788117.out  #49\n",
    "cat $d/slurm-788118.out  #64\n",
    "cat $d/slurm-788119.out  #81"
   ]
  },
  {
   "cell_type": "code",
   "execution_count": null,
   "metadata": {},
   "outputs": [],
   "source": []
  }
 ],
 "metadata": {
  "kernelspec": {
   "display_name": "Python 3 (ipykernel)",
   "language": "python",
   "name": "python3"
  },
  "language_info": {
   "codemirror_mode": {
    "name": "ipython",
    "version": 3
   },
   "file_extension": ".py",
   "mimetype": "text/x-python",
   "name": "python",
   "nbconvert_exporter": "python",
   "pygments_lexer": "ipython3",
   "version": "3.8.13"
  }
 },
 "nbformat": 4,
 "nbformat_minor": 4
}
