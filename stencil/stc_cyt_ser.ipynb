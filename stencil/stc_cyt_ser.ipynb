{
 "cells": [
  {
   "cell_type": "markdown",
   "metadata": {},
   "source": [
    "# Stencil Cython Serial"
   ]
  },
  {
   "cell_type": "markdown",
   "metadata": {},
   "source": [
    "Checking directives and parameters:"
   ]
  },
  {
   "cell_type": "markdown",
   "metadata": {},
   "source": [
    "### Compiler directives\n",
    "- **boundscheck (True / False)**: If set to False, Cython is free to assume that indexing operations ([]-operator) in the code will not cause any IndexErrors to be raised. Lists, tuples, and strings are affected only if the index can be determined to be non-negative (or if wraparound is False). Conditions which would normally trigger an IndexError may instead cause segfaults or data corruption if this is set to False. Default is True.\n",
    "- **wraparound (True / False)**: In Python, arrays and sequences can be indexed relative to the end. For example, A[-1] indexes the last value of a list. In C, negative indexing is not supported. If set to False, Cython is allowed to neither check for nor correctly handle negative indices, possibly causing segfaults or data corruption. If bounds checks are enabled (the default, see boundschecks above), negative indexing will usually raise an IndexError for indices that Cython evaluates itself. However, these cases can be difficult to recognise in user code to distinguish them from indexing or slicing that is evaluated by the underlying Python array or sequence object and thus continues to support wrap-around indices. It is therefore safest to apply this option only to code that does not process negative indices at all. Default is True.\n",
    "- **cdivision (True / False)**: If set to False, Cython will adjust the remainder and quotient operators C types to match those of Python ints (which differ when the operands have opposite signs) and raise a ZeroDivisionError when the right operand is 0. This has up to a 35% speed penalty. If set to True, no checks are performed. See CEP 516. Default is False.\n",
    "- **initializedcheck (True / False)**: If set to True, Cython checks that a memoryview is initialized whenever its elements are accessed or assigned to. Setting this to False disables these checks. Default is True.\n",
    "- **language_level (2/3/3str)**: Globally set the Python language level to be used for module compilation. Default is compatibility with Python 2. To enable Python 3 source code semantics, set this to 3 (or 3str) at the start of a module or pass the “-3” or “–3str” command line options to the compiler. The 3str option enables Python 3 semantics but does not change the str type and unprefixed string literals to unicode when the compiled code runs in Python 2.x. Note that cimported files inherit this setting from the module being compiled, unless they explicitly set their own language level. Included source files always inherit this setting.\n",
    "- **infer_types (True / False)**: Infer types of untyped variables in function bodies. Default is None, indicating that only safe (semantically-unchanging) inferences are allowed. In particular, inferring integral types for variables used in arithmetic expressions is considered unsafe (due to possible overflow) and must be explicitly requested.\n",
    "\n",
    "Source: https://cython.readthedocs.io/en/latest/src/userguide/source_files_and_compilation.html"
   ]
  },
  {
   "cell_type": "code",
   "execution_count": 2,
   "metadata": {},
   "outputs": [],
   "source": [
    "%reload_ext Cython"
   ]
  },
  {
   "cell_type": "code",
   "execution_count": 5,
   "metadata": {},
   "outputs": [
    {
     "data": {
      "text/plain": [
       "\u001b[0;31mDocstring:\u001b[0m\n",
       "::\n",
       "\n",
       "  %cython [-a] [-+] [-3] [-2] [-f] [-c COMPILE_ARGS]\n",
       "              [--link-args LINK_ARGS] [-l LIB] [-n NAME] [-L dir] [-I INCLUDE]\n",
       "              [-S SRC] [--pgo] [--verbose]\n",
       "\n",
       "Compile and import everything from a Cython code cell.\n",
       "\n",
       "The contents of the cell are written to a `.pyx` file in the\n",
       "directory `IPYTHONDIR/cython` using a filename with the hash of the\n",
       "code. This file is then cythonized and compiled. The resulting module\n",
       "is imported and all of its symbols are injected into the user's\n",
       "namespace. The usage is similar to that of `%%cython_pyximport` but\n",
       "you don't have to pass a module name::\n",
       "\n",
       "    %%cython\n",
       "    def f(x):\n",
       "        return 2.0*x\n",
       "\n",
       "To compile OpenMP codes, pass the required  `--compile-args`\n",
       "and `--link-args`.  For example with gcc::\n",
       "\n",
       "    %%cython --compile-args=-fopenmp --link-args=-fopenmp\n",
       "    ...\n",
       "\n",
       "To enable profile guided optimisation, pass the ``--pgo`` option.\n",
       "Note that the cell itself needs to take care of establishing a suitable\n",
       "profile when executed. This can be done by implementing the functions to\n",
       "optimise, and then calling them directly in the same cell on some realistic\n",
       "training data like this::\n",
       "\n",
       "    %%cython --pgo\n",
       "    def critical_function(data):\n",
       "        for item in data:\n",
       "            ...\n",
       "\n",
       "    # execute function several times to build profile\n",
       "    from somewhere import some_typical_data\n",
       "    for _ in range(100):\n",
       "        critical_function(some_typical_data)\n",
       "\n",
       "In Python 3.5 and later, you can distinguish between the profile and\n",
       "non-profile runs as follows::\n",
       "\n",
       "    if \"_pgo_\" in __name__:\n",
       "        ...  # execute critical code here\n",
       "\n",
       "optional arguments:\n",
       "  -a, --annotate        Produce a colorized HTML version of the source.\n",
       "  -+, --cplus           Output a C++ rather than C file.\n",
       "  -3                    Select Python 3 syntax.\n",
       "  -2                    Select Python 2 syntax.\n",
       "  -f, --force           Force the compilation of a new module, even if the\n",
       "                        source has been previously compiled.\n",
       "  -c COMPILE_ARGS, --compile-args COMPILE_ARGS\n",
       "                        Extra flags to pass to compiler via the\n",
       "                        `extra_compile_args` Extension flag (can be specified\n",
       "                        multiple times).\n",
       "  --link-args LINK_ARGS\n",
       "                        Extra flags to pass to linker via the\n",
       "                        `extra_link_args` Extension flag (can be specified\n",
       "                        multiple times).\n",
       "  -l LIB, --lib LIB     Add a library to link the extension against (can be\n",
       "                        specified multiple times).\n",
       "  -n NAME, --name NAME  Specify a name for the Cython module.\n",
       "  -L dir                Add a path to the list of library directories (can be\n",
       "                        specified multiple times).\n",
       "  -I INCLUDE, --include INCLUDE\n",
       "                        Add a path to the list of include directories (can be\n",
       "                        specified multiple times).\n",
       "  -S SRC, --src SRC     Add a path to the list of src files (can be specified\n",
       "                        multiple times).\n",
       "  --pgo                 Enable profile guided optimisation in the C compiler.\n",
       "                        Compiles the cell twice and executes it in between to\n",
       "                        generate a runtime profile.\n",
       "  --verbose             Print debug information like generated .c/.cpp file\n",
       "                        location and exact gcc/g++ command invoked.\n",
       "\u001b[0;31mFile:\u001b[0m      /scratch/app/anaconda3/2018.12/lib/python3.7/site-packages/Cython/Build/IpythonMagic.py\n"
      ]
     },
     "metadata": {},
     "output_type": "display_data"
    }
   ],
   "source": [
    "%%cython?"
   ]
  },
  {
   "cell_type": "markdown",
   "metadata": {},
   "source": [
    "Write source file to disk:"
   ]
  },
  {
   "cell_type": "code",
   "execution_count": 6,
   "metadata": {},
   "outputs": [
    {
     "name": "stdout",
     "output_type": "stream",
     "text": [
      "Overwriting scs.pyx\n"
     ]
    }
   ],
   "source": [
    "%%writefile scs.pyx\n",
    "#cython: boundscheck=False, wraparound=False, cdivision=True\n",
    "#cython: initializedcheck=False, language_level=3, infer_types=True\n",
    "\n",
    "cpdef st(int n, double energy, int niters):\n",
    "    from time import time\n",
    "    import numpy as np\n",
    "\n",
    "    # definição de variáveis\n",
    "    cdef double      heat      = 0.0\n",
    "    cdef double      t         = 0.0\n",
    "    cdef Py_ssize_t  size      = n + 2\n",
    "    cdef Py_ssize_t  sizeStart = 1\n",
    "    cdef Py_ssize_t  sizeEnd   = n + 1\n",
    "    cdef Py_ssize_t  iters, i, j\n",
    "\n",
    "    t = time()\n",
    "    \n",
    "    # cria e inicializa as matrizes com zeros e memoryview\n",
    "    cdef double[:,::1] mvaold = np.zeros((size, size), np.double)\n",
    "    cdef double[:,::1] mvanew = np.zeros((size, size), np.double)\n",
    "    cdef Py_ssize_t    nsources  = 3      # qde de fontes\n",
    "    cdef    int[:,::1] mvsources = np.empty( (nsources,2), np.intc)\n",
    "\n",
    "    # inicializa 3 fontes de calor\n",
    "    mvsources[0,0] = mvsources[0,1] = n/2\n",
    "    mvsources[1,0] = mvsources[1,1] = n/3\n",
    "    mvsources[2,0] = n*4/5\n",
    "    mvsources[2,1] = n*8/9\n",
    "\n",
    "    niters = (niters + 1) // 2\n",
    "    for iters in range(niters) :\n",
    "        # iteracao impar\n",
    "        for i in range(sizeStart, sizeEnd) :\n",
    "            for j in range(sizeStart, sizeEnd) :\n",
    "                mvanew[i,j] = ( mvaold[i,j] / 2.0 +\n",
    "                              ( mvaold[i-1,j] + mvaold[i+1,j] +\n",
    "                                mvaold[i,j-1] + mvaold[i,j+1] ) / 8.0 )\n",
    "        for i in range(nsources) :\n",
    "            mvanew[mvsources[i,0], mvsources[i,1]] += energy\n",
    "        # iteracao par\n",
    "        for i in range(sizeStart, sizeEnd) :\n",
    "            for j in range(sizeStart, sizeEnd) :\n",
    "                mvaold[i,j] = ( mvanew[i,j] / 2.0 +\n",
    "                              ( mvanew[i-1,j] + mvanew[i+1,j] +\n",
    "                                mvanew[i,j-1] + mvanew[i,j+1] ) / 8.0 )\n",
    "        for i in range(nsources) :\n",
    "            mvaold[mvsources[i,0], mvsources[i,1]] += energy\n",
    "    # calcula o total de energia\n",
    "    for i in range(sizeStart, sizeEnd) :\n",
    "        for j in range(sizeStart, sizeEnd) :\n",
    "            heat += mvaold[i,j]\n",
    "    t = time() - t\n",
    "#    print(\"Heat = %0.4f | Tempo = %0.4f\" %(heat, t))\n",
    "    return heat, t"
   ]
  },
  {
   "cell_type": "code",
   "execution_count": 7,
   "metadata": {},
   "outputs": [
    {
     "name": "stdout",
     "output_type": "stream",
     "text": [
      "Overwriting setup.py\n"
     ]
    }
   ],
   "source": [
    "%%writefile setup.py\n",
    "from setuptools import setup\n",
    "from Cython.Build import cythonize\n",
    "\n",
    "setup(\n",
    "    ext_modules = cythonize(\"scs.pyx\", force=True)\n",
    ")"
   ]
  },
  {
   "cell_type": "markdown",
   "metadata": {},
   "source": [
    "Python core code that calls the Cython module:"
   ]
  },
  {
   "cell_type": "code",
   "execution_count": 9,
   "metadata": {},
   "outputs": [
    {
     "name": "stdout",
     "output_type": "stream",
     "text": [
      "Overwriting st-cy-seq.py\n"
     ]
    }
   ],
   "source": [
    "%%writefile st-cy-seq.py\n",
    "from time import time\n",
    "tp = time()\n",
    "import scs\n",
    "\n",
    "n            = 4800    # nxn grid; 4800,1,500→1500; 100,1,10→30 [4800]\n",
    "energy       = 1.0     # energy to be injected per iteration [1.0]\n",
    "niters       = 500     # number of iterations [500]\n",
    "\n",
    "heat, t = scs.st(n, energy, niters)\n",
    "tp = time() - tp\n",
    "print(\"Heat = %0.4f | Tempo = %0.4f | TempoPyt = %0.4f\" %(heat, t, tp))"
   ]
  },
  {
   "cell_type": "markdown",
   "metadata": {},
   "source": [
    "Build (GCC):"
   ]
  },
  {
   "cell_type": "code",
   "execution_count": 11,
   "metadata": {},
   "outputs": [
    {
     "name": "stdout",
     "output_type": "stream",
     "text": [
      "[1/1] Cythonizing scs.pyx\n",
      "running build_ext\n",
      "building 'scs' extension\n",
      "gcc -pthread -B /scratch/app/anaconda3/2018.12/compiler_compat -Wl,--sysroot=/ -Wsign-compare -DNDEBUG -g -fwrapv -O3 -Wall -Wstrict-prototypes -fPIC -I/scratch/app/anaconda3/2018.12/include/python3.7m -c scs.c -o build/temp.linux-x86_64-3.7/scs.o\n",
      "gcc -pthread -shared -B /scratch/app/anaconda3/2018.12/compiler_compat -L/scratch/app/anaconda3/2018.12/lib -Wl,-rpath=/scratch/app/anaconda3/2018.12/lib -Wl,--no-as-needed -Wl,--sysroot=/ build/temp.linux-x86_64-3.7/scs.o -o build/lib.linux-x86_64-3.7/scs.cpython-37m-x86_64-linux-gnu.so\n",
      "copying build/lib.linux-x86_64-3.7/scs.cpython-37m-x86_64-linux-gnu.so -> \n"
     ]
    }
   ],
   "source": [
    "%%bash\n",
    "rm scs.*.so  # clean\n",
    "python setup.py build_ext --inplace"
   ]
  },
  {
   "cell_type": "code",
   "execution_count": 15,
   "metadata": {
    "scrolled": true
   },
   "outputs": [
    {
     "name": "stdout",
     "output_type": "stream",
     "text": [
      "Overwriting scriptshell.sh\n"
     ]
    }
   ],
   "source": [
    "%%writefile scriptshell.sh\n",
    "#!/bin/sh\n",
    "time python st-cy-seq.py"
   ]
  },
  {
   "cell_type": "markdown",
   "metadata": {},
   "source": [
    "Copy the files to be executed to the scratch area:"
   ]
  },
  {
   "cell_type": "code",
   "execution_count": 17,
   "metadata": {},
   "outputs": [],
   "source": [
    "%%bash\n",
    "s='/prj/ampemi/xxxx.xxxx/stnc/Cython'\n",
    "d='/scratch/ampemi/xxxx.xxxx/stnc/Cython'\n",
    "rm $d/scs.*.so\n",
    "cp  $s/scs.*.so  $s/st-cy-seq.py  $s/scriptshell.sh  $d"
   ]
  },
  {
   "cell_type": "code",
   "execution_count": 19,
   "metadata": {},
   "outputs": [
    {
     "name": "stdout",
     "output_type": "stream",
     "text": [
      "Overwriting st-cy-seq.srm\n"
     ]
    }
   ],
   "source": [
    "%%writefile st-cy-seq.srm\n",
    "#!/bin/bash\n",
    "#SBATCH -p cpu_small           # Select partition\n",
    "#SBATCH --ntasks=1             # Total tasks(CPUs)\n",
    "#SBATCH --nodes=1              # Number of nodes\n",
    "#SBATCH --ntasks-per-node=1    # Number of tasks per node\n",
    "#SBATCH -J stcyseq             # Job name\n",
    "#SBATCH --time=00:02:00        # Limit execution time\n",
    "\n",
    "echo '========================================'\n",
    "echo '- Stencil Cython Serial'\n",
    "echo '- Job ID:' $SLURM_JOB_ID\n",
    "echo '- Tasks per node:' $SLURM_NTASKS_PER_NODE\n",
    "echo '- Number of nodes:' $SLURM_JOB_NUM_NODES\n",
    "echo '- Total tasks:' $SLURM_NTASKS\n",
    "echo '- Nodes alocated:' $SLURM_JOB_NODELIST\n",
    "echo '- Directory where sbatch was called ($SLURM_SUBMIT_DIR):'\n",
    "echo $SLURM_SUBMIT_DIR\n",
    "cd $SLURM_SUBMIT_DIR\n",
    "\n",
    "# Working dir\n",
    "cd /scratch/ampemi/xxxx.xxxx/stnc/Cython\n",
    "\n",
    "# Executable\n",
    "EXEC='sh scriptshell.sh'\n",
    "\n",
    "# Run\n",
    "echo '-- srun -------------------------------'\n",
    "echo '$ time srun -n ' $SLURM_NTASKS $EXEC\n",
    "srun -n $SLURM_NTASKS $EXEC\n",
    "echo '-- END --------------------------------'"
   ]
  },
  {
   "cell_type": "markdown",
   "metadata": {},
   "source": [
    "<hr style=\"height:10px;border-width:0;background-color:green\">"
   ]
  },
  {
   "cell_type": "code",
   "execution_count": 20,
   "metadata": {},
   "outputs": [
    {
     "name": "stdout",
     "output_type": "stream",
     "text": [
      "Submitted batch job 772612\n",
      "Submitted batch job 772613\n",
      "Submitted batch job 772614\n",
      "             JOBID PARTITION     NAME     USER ST       TIME  NODES NODELIST(REASON)\n",
      "            772612 cpu_small  stcyseq xxxx. PD       0:00      1 (Priority)\n",
      "            772613 cpu_small  stcyseq xxxx. PD       0:00      1 (Priority)\n",
      "            772614 cpu_small  stcyseq xxxx. PD       0:00      1 (Priority)\n"
     ]
    }
   ],
   "source": [
    "%%bash\n",
    "sbatch st-cy-seq.srm\n",
    "sbatch st-cy-seq.srm\n",
    "sbatch st-cy-seq.srm\n",
    "squeue -n stcyseq"
   ]
  },
  {
   "cell_type": "code",
   "execution_count": 1,
   "metadata": {},
   "outputs": [
    {
     "name": "stdout",
     "output_type": "stream",
     "text": [
      "========================================\n",
      "- Stencil Cython Serial\n",
      "- Job ID: 772612\n",
      "- Tasks per node: 1\n",
      "- Number of nodes: 1\n",
      "- Total tasks: 1\n",
      "- Nodes alocated: sdumont1407\n",
      "- Directory where sbatch was called ($SLURM_SUBMIT_DIR):\n",
      "/prj/ampemi/xxxx.xxxx/stnc/Cython\n",
      "-- srun -------------------------------\n",
      "$ time srun -n  1 sh scriptshell.sh\n",
      "Heat = 1500.0000 | Tempo = 23.9847 | TempoPyt = 29.4011\n",
      "\n",
      "real\t0m29.715s\n",
      "user\t0m24.100s\n",
      "sys\t0m0.335s\n",
      "-- END --------------------------------\n",
      "========================================\n",
      "- Stencil Cython Serial\n",
      "- Job ID: 772613\n",
      "- Tasks per node: 1\n",
      "- Number of nodes: 1\n",
      "- Total tasks: 1\n",
      "- Nodes alocated: sdumont1407\n",
      "- Directory where sbatch was called ($SLURM_SUBMIT_DIR):\n",
      "/prj/ampemi/xxxx.xxxx/stnc/Cython\n",
      "-- srun -------------------------------\n",
      "$ time srun -n  1 sh scriptshell.sh\n",
      "Heat = 1500.0000 | Tempo = 23.9444 | TempoPyt = 24.6716\n",
      "\n",
      "real\t0m24.811s\n",
      "user\t0m24.077s\n",
      "sys\t0m0.255s\n",
      "-- END --------------------------------\n",
      "========================================\n",
      "- Stencil Cython Serial\n",
      "- Job ID: 772614\n",
      "- Tasks per node: 1\n",
      "- Number of nodes: 1\n",
      "- Total tasks: 1\n",
      "- Nodes alocated: sdumont1407\n",
      "- Directory where sbatch was called ($SLURM_SUBMIT_DIR):\n",
      "/prj/ampemi/xxxx.xxxx/stnc/Cython\n",
      "-- srun -------------------------------\n",
      "$ time srun -n  1 sh scriptshell.sh\n",
      "Heat = 1500.0000 | Tempo = 23.9926 | TempoPyt = 24.7009\n",
      "\n",
      "real\t0m24.830s\n",
      "user\t0m24.041s\n",
      "sys\t0m0.332s\n",
      "-- END --------------------------------\n"
     ]
    }
   ],
   "source": [
    "%%bash\n",
    "b='/stnc/Cython'\n",
    "d='/scratch/ampemi/xxxx.xxxx'$b\n",
    "cat $d/slurm-772612.out\n",
    "cat $d/slurm-772613.out\n",
    "cat $d/slurm-772614.out"
   ]
  },
  {
   "cell_type": "markdown",
   "metadata": {},
   "source": [
    "<hr style=\"height:10px;border-width:0;background-color:red\">"
   ]
  },
  {
   "cell_type": "code",
   "execution_count": 2,
   "metadata": {},
   "outputs": [
    {
     "name": "stdout",
     "output_type": "stream",
     "text": [
      "Cython version 0.29.20\n"
     ]
    }
   ],
   "source": [
    "! cython --version"
   ]
  },
  {
   "cell_type": "code",
   "execution_count": 2,
   "metadata": {},
   "outputs": [
    {
     "name": "stdout",
     "output_type": "stream",
     "text": [
      "ifort (IFORT) 19.0.3.199 20190206\n",
      "Copyright (C) 1985-2019 Intel Corporation.  All rights reserved.\n",
      "\n"
     ]
    }
   ],
   "source": [
    "! ifort --version"
   ]
  },
  {
   "cell_type": "code",
   "execution_count": 3,
   "metadata": {},
   "outputs": [
    {
     "name": "stdout",
     "output_type": "stream",
     "text": [
      "icc (ICC) 19.0.3.199 20190206\n",
      "Copyright (C) 1985-2019 Intel Corporation.  All rights reserved.\n",
      "\n"
     ]
    }
   ],
   "source": [
    "! icc --version"
   ]
  }
 ],
 "metadata": {
  "kernelspec": {
   "display_name": "Python 3 (ipykernel)",
   "language": "python",
   "name": "python3"
  },
  "language_info": {
   "codemirror_mode": {
    "name": "ipython",
    "version": 3
   },
   "file_extension": ".py",
   "mimetype": "text/x-python",
   "name": "python",
   "nbconvert_exporter": "python",
   "pygments_lexer": "ipython3",
   "version": "3.8.13"
  }
 },
 "nbformat": 4,
 "nbformat_minor": 4
}
