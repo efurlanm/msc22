{
 "cells": [
  {
   "cell_type": "markdown",
   "metadata": {},
   "source": [
    "# RF NUMBA MPI 66 k"
   ]
  },
  {
   "cell_type": "markdown",
   "metadata": {},
   "source": [
    "## Test\n",
    "\n",
    "in a terminal:\n",
    "\n",
    "    ipython profile create mpi --parallel\n",
    "    ipcontroller --ip=\"*\" --profile=mpi --quiet &\n",
    "    mpirun -n 4 ipengine --location=$(hostname) --profile=mpi --quiet &"
   ]
  },
  {
   "cell_type": "code",
   "execution_count": 3,
   "metadata": {},
   "outputs": [
    {
     "name": "stdout",
     "output_type": "stream",
     "text": [
      "Overwriting rfam6.py\n"
     ]
    }
   ],
   "source": [
    "%%writefile rfam6.py\n",
    "import argparse, logging, os, sys, datetime\n",
    "import pandas as pd, numpy as np\n",
    "from joblib import ( Parallel, parallel_backend, \n",
    "                     register_parallel_backend )\n",
    "from joblib import delayed, cpu_count\n",
    "from sklearn.impute import SimpleImputer\n",
    "from sklearn.ensemble import RandomForestClassifier\n",
    "from sklearn import metrics\n",
    "from scipy.io import arff\n",
    "import ipyparallel as ipp\n",
    "from ipyparallel.joblib import IPythonParallelBackend\n",
    "from numba import jit, objmode\n",
    "from time import time\n",
    "t0 = time()\n",
    "\n",
    "def eng01(clf, X_train, y_train) :\n",
    "    with parallel_backend('ipyparallel') :\n",
    "        clf.fit(X_train, y_train)\n",
    "    return clf\n",
    "\n",
    "@jit(forceobj=True)\n",
    "def rfamf(trainset, testset) :\n",
    "\n",
    "    # Get & prepare data\n",
    "    data = arff.loadarff(trainset)\n",
    "    df = pd.DataFrame(data[0])\n",
    "    df = df.replace(b'N', 0)\n",
    "    df = df.replace(b'Y', 1)\n",
    "    df['class'] = df['class'].str.decode('utf-8').fillna(df['class'])\n",
    "    y_train = df['class']\n",
    "    X_train = df.drop(columns=['class'])\n",
    "    imp = SimpleImputer(missing_values = np.nan, strategy = 'mean')\n",
    "    df2 = pd.DataFrame(imp.fit_transform(X_train))\n",
    "    df2.columns = X_train.columns\n",
    "    df2.index = X_train.index\n",
    "    X_train = df2\n",
    "\n",
    "    datat = arff.loadarff(testset)\n",
    "    df = pd.DataFrame(datat[0])\n",
    "    df = df.replace(b'N', 0)\n",
    "    df = df.replace(b'Y', 1)\n",
    "    df['class'] = df['class'].str.decode('utf-8').fillna(df['class'])\n",
    "    y_test = df['class']\n",
    "    X_test = df.drop(columns = ['class'])\n",
    "    imp = SimpleImputer(missing_values = np.nan, strategy = 'mean')\n",
    "    df2 = pd.DataFrame(imp.fit_transform(X_test))\n",
    "    df2.columns = X_test.columns\n",
    "    df2.index = X_test.index\n",
    "    X_test = df2\n",
    "\n",
    "    clf = RandomForestClassifier(n_estimators = 100)\n",
    "    clf = eng01(clf, X_train, y_train)\n",
    "    y_pred_test  = clf.predict(X_test)\n",
    "    y_pred_train = clf.predict(X_train)\n",
    "    accu = metrics.accuracy_score(y_train, y_pred_train,\n",
    "                                  normalize = False)\n",
    "    trtrsi = y_train.size\n",
    "    trperr = ((trtrsi - accu) / (trtrsi)) * 100\n",
    "    trkapp = metrics.cohen_kappa_score(y_train, y_pred_train)\n",
    "    \n",
    "    accu = metrics.accuracy_score(y_test, y_pred_test, \n",
    "                                  normalize = False)\n",
    "    tetrsi = y_test.size\n",
    "    teperr = ((tetrsi - accu) / (tetrsi)) * 100\n",
    "    tekapp = metrics.cohen_kappa_score(y_test, y_pred_test)\n",
    "\n",
    "    return trtrsi, trperr, trkapp, tetrsi, teperr, tekapp\n",
    "\n",
    "# Main\n",
    "trainset = \"datasets/asteroid-train-66k.arff\"\n",
    "testset  = \"datasets/asteroid-test-34k.arff\"\n",
    "parser = argparse.ArgumentParser()\n",
    "parser.add_argument(\"-p\", \"--profile\", required=True,\n",
    "    help=\"Name of IPython profile to use\")\n",
    "profile = parser.parse_args().profile\n",
    "\n",
    "# Prepare the engines\n",
    "c = ipp.Client(profile = profile)\n",
    "ncli = len(c.ids)\n",
    "bview = c.load_balanced_view()\n",
    "register_parallel_backend('ipyparallel',\n",
    "    lambda : IPythonParallelBackend(view = bview) )\n",
    "\n",
    "# Call Numba Code\n",
    "( trtrsi, trperr, trkapp, tetrsi, teperr, tekapp,\n",
    "     ) = rfamf(trainset, testset)\n",
    "\n",
    "# Shutdown the engines\n",
    "c.shutdown(hub=True, block=False)\n",
    "\n",
    "# Result\n",
    "t1 = time() - t0\n",
    "print(f'Trainset classification error is {trperr:.2f}% ',\n",
    "      f'of {trtrsi} (kappa: {trkapp:.4f})')\n",
    "print(f' Testset classification error is {teperr:.2f}% ',\n",
    "      f'of {tetrsi} (kappa: {tekapp:.4f})')\n",
    "print(f\"T: {t1:.4f}  |  N: {ncli:0g}\")"
   ]
  },
  {
   "cell_type": "code",
   "execution_count": null,
   "metadata": {},
   "outputs": [],
   "source": [
    "! time python rfam6.py -p mpi"
   ]
  },
  {
   "cell_type": "code",
   "execution_count": null,
   "metadata": {},
   "outputs": [],
   "source": [
    "import ipyparallel as ipp\n",
    "from ipyparallel.joblib import IPythonParallelBackend\n",
    "c = ipp.Client(profile = 'mpi')\n",
    "c.shutdown(hub=True, block=False)"
   ]
  },
  {
   "cell_type": "code",
   "execution_count": null,
   "metadata": {},
   "outputs": [],
   "source": []
  },
  {
   "cell_type": "markdown",
   "metadata": {},
   "source": [
    "## Copy to /scratch"
   ]
  },
  {
   "cell_type": "code",
   "execution_count": 4,
   "metadata": {},
   "outputs": [],
   "source": [
    "! cp rfam6* /scratch${PWD#/prj}"
   ]
  },
  {
   "cell_type": "markdown",
   "metadata": {},
   "source": [
    "## SLURM script"
   ]
  },
  {
   "cell_type": "code",
   "execution_count": 2,
   "metadata": {},
   "outputs": [
    {
     "name": "stdout",
     "output_type": "stream",
     "text": [
      "Overwriting rfam6.srm\n"
     ]
    }
   ],
   "source": [
    "%%writefile rfam6.srm\n",
    "#!/bin/bash -l\n",
    "#   -l option tells bash to read all the various \"profile\" scripts, from\n",
    "#      /etc and from your home directory. Bash normally only does this\n",
    "#      for interactive sessions\n",
    "\n",
    "#SBATCH --job-name rfam6        # Job name\n",
    "#SBATCH --partition cpu_small  # Select partition\n",
    "#SBATCH --ntasks=1             # Total tasks(CPUs)\n",
    "#SBATCH --time=00:10:00        # Limit execution time\n",
    "#SBATCH --exclusive            # Exclusive acccess to nodes\n",
    "\n",
    "echo '========================================'\n",
    "echo '- Job ID:' $SLURM_JOB_ID\n",
    "echo '- # of nodes in the job:' $SLURM_JOB_NUM_NODES\n",
    "echo '- # of tasks:' $SLURM_NTASKS\n",
    "echo '- Dir from which sbatch was invoked:' ${SLURM_SUBMIT_DIR##*/}\n",
    "echo -n '- Nodes allocated to the job: '\n",
    "nodeset -e $SLURM_JOB_NODELIST\n",
    "\n",
    "# Set path\n",
    "cd\n",
    "SCR=/scratch${PWD#/prj}\n",
    "cd $SCR/rf\n",
    "# path to a directory which IPython will use for user data\n",
    "export IPYTHONDIR=$SCR/.ipython\n",
    "              \n",
    "# Load Python environment and MPI module\n",
    "source $SCR/env2/etc/profile.d/conda.sh\n",
    "conda activate $SCR/env2\n",
    "module load openmpi/gnu/4.0.1\n",
    "\n",
    "echo -n '<1. starting ipython>        ' && date\n",
    "# create a new ipython profile appended with the job id number\n",
    "PROFILE=job_${SLURM_JOB_ID}\n",
    "ipython profile create ${PROFILE} --parallel --quiet\n",
    "\n",
    "echo -n '<2. starting ipcontroller>   ' && date\n",
    "# run ipcontroler on one core\n",
    "ipcontroller --ip=\"*\" --profile=${PROFILE} --quiet &\n",
    "sleep 10\n",
    "\n",
    "echo -n '<3. starting srun ipengine>  ' && date\n",
    "# run ipengine on each available core\n",
    "srun --mpi=pmi2 -n $SLURM_NTASKS \\\n",
    "    ipengine --location=$(hostname) --profile=${PROFILE} --quiet &\n",
    "sleep 25\n",
    "\n",
    "# Executable\n",
    "EXEC='rfam6.py'\n",
    "\n",
    "# run the script\n",
    "echo -n '<4. starting python script > ' && date\n",
    "echo '-- output -----------------------------'\n",
    "python ${EXEC} --profile ${PROFILE}\n",
    "echo '-- end --------------------------------'\n",
    "echo -n '<5. quit>                    ' && date"
   ]
  },
  {
   "cell_type": "markdown",
   "metadata": {},
   "source": [
    "## Check"
   ]
  },
  {
   "cell_type": "code",
   "execution_count": 8,
   "metadata": {},
   "outputs": [],
   "source": [
    "! scancel 1357077"
   ]
  },
  {
   "cell_type": "code",
   "execution_count": 9,
   "metadata": {},
   "outputs": [
    {
     "name": "stdout",
     "output_type": "stream",
     "text": [
      "Submitted batch job 1357078\n"
     ]
    }
   ],
   "source": [
    "! sbatch --partition cpu_dev --ntasks=96 rfam6.srm"
   ]
  },
  {
   "cell_type": "code",
   "execution_count": 10,
   "metadata": {},
   "outputs": [
    {
     "name": "stdout",
     "output_type": "stream",
     "text": [
      "          START_TIME    JOBID PARTITION  NAME ST  TIME NODES CPUS\n",
      " 2021-09-20T19:50:51  1357078   cpu_dev rfam6  R  0:02     4   96\n"
     ]
    }
   ],
   "source": [
    "! squeue --name=rfam6 --partition=cpu_dev --format=\"%.20S %.8i %.9P %.5j %.2t %.5M %.5D %.4C\""
   ]
  },
  {
   "cell_type": "code",
   "execution_count": 13,
   "metadata": {},
   "outputs": [
    {
     "name": "stdout",
     "output_type": "stream",
     "text": [
      "          START_TIME    JOBID PARTITION  NAME ST  TIME NODES CPUS\n"
     ]
    }
   ],
   "source": [
    "! squeue --name=rfam6 --partition=cpu_dev --format=\"%.20S %.8i %.9P %.5j %.2t %.5M %.5D %.4C\""
   ]
  },
  {
   "cell_type": "code",
   "execution_count": 14,
   "metadata": {},
   "outputs": [
    {
     "name": "stdout",
     "output_type": "stream",
     "text": [
      "========================================\n",
      "- Job ID: 1357078\n",
      "- # of nodes in the job: 4\n",
      "- # of tasks: 96\n",
      "- Dir from which sbatch was invoked: rf\n",
      "- Nodes allocated to the job: sdumont1243 sdumont1244 sdumont1245 sdumont1246\n",
      "<1. starting ipython>        Seg Set 20 19:50:52 -03 2021\n",
      "<2. starting ipcontroller>   Seg Set 20 19:51:04 -03 2021\n",
      "<3. starting srun ipengine>  Seg Set 20 19:51:14 -03 2021\n",
      "<4. starting python script > Seg Set 20 19:51:39 -03 2021\n",
      "-- output -----------------------------\n",
      "Trainset classification error is 0.00%  of 66000 (kappa: 1.0000)\n",
      " Testset classification error is 0.00%  of 34000 (kappa: 0.9997)\n",
      "T: 19.4812  |  N: 96\n",
      "-- end --------------------------------\n",
      "<5. quit>                    Seg Set 20 19:53:07 -03 2021\n"
     ]
    }
   ],
   "source": [
    "! cat /scratch${PWD#/prj}/slurm-1357078.out"
   ]
  },
  {
   "cell_type": "markdown",
   "metadata": {},
   "source": [
    "## Run"
   ]
  },
  {
   "cell_type": "markdown",
   "metadata": {},
   "source": [
    "### 1 of (1, 4, 16, 24, 48, 72, 96)"
   ]
  },
  {
   "cell_type": "code",
   "execution_count": 15,
   "metadata": {
    "scrolled": true
   },
   "outputs": [
    {
     "name": "stdout",
     "output_type": "stream",
     "text": [
      "Submitted batch job 1357090\n",
      "Submitted batch job 1357091\n",
      "Submitted batch job 1357092\n"
     ]
    }
   ],
   "source": [
    "%%bash\n",
    "sbatch --ntasks=1 rfam6.srm\n",
    "sbatch --ntasks=1 rfam6.srm\n",
    "sbatch --ntasks=1 rfam6.srm"
   ]
  },
  {
   "cell_type": "code",
   "execution_count": 2,
   "metadata": {},
   "outputs": [
    {
     "name": "stdout",
     "output_type": "stream",
     "text": [
      "========================================\n",
      "- Job ID: 1357090\n",
      "- # of nodes in the job: 1\n",
      "- # of tasks: 1\n",
      "- Dir from which sbatch was invoked: rf\n",
      "- Nodes allocated to the job: sdumont1479\n",
      "<1. starting ipython>        Ter Set 21 02:12:48 -03 2021\n",
      "<2. starting ipcontroller>   Ter Set 21 02:13:04 -03 2021\n",
      "<3. starting srun ipengine>  Ter Set 21 02:13:14 -03 2021\n",
      "<4. starting python script > Ter Set 21 02:13:39 -03 2021\n",
      "-- output -----------------------------\n",
      "Trainset classification error is 0.00%  of 66000 (kappa: 1.0000)\n",
      " Testset classification error is 0.00%  of 34000 (kappa: 0.9997)\n",
      "T: 35.2194  |  N: 1\n",
      "-- end --------------------------------\n",
      "<5. quit>                    Ter Set 21 02:14:57 -03 2021\n",
      "========================================\n",
      "- Job ID: 1357091\n",
      "- # of nodes in the job: 1\n",
      "- # of tasks: 1\n",
      "- Dir from which sbatch was invoked: rf\n",
      "- Nodes allocated to the job: sdumont1480\n",
      "<1. starting ipython>        Ter Set 21 02:12:48 -03 2021\n",
      "<2. starting ipcontroller>   Ter Set 21 02:13:04 -03 2021\n",
      "<3. starting srun ipengine>  Ter Set 21 02:13:14 -03 2021\n",
      "<4. starting python script > Ter Set 21 02:13:39 -03 2021\n",
      "-- output -----------------------------\n",
      "Trainset classification error is 0.00%  of 66000 (kappa: 1.0000)\n",
      " Testset classification error is 0.00%  of 34000 (kappa: 0.9997)\n",
      "T: 35.3775  |  N: 1\n",
      "-- end --------------------------------\n",
      "<5. quit>                    Ter Set 21 02:14:57 -03 2021\n",
      "========================================\n",
      "- Job ID: 1357092\n",
      "- # of nodes in the job: 1\n",
      "- # of tasks: 1\n",
      "- Dir from which sbatch was invoked: rf\n",
      "- Nodes allocated to the job: sdumont1470\n",
      "<1. starting ipython>        Ter Set 21 02:16:07 -03 2021\n",
      "<2. starting ipcontroller>   Ter Set 21 02:16:13 -03 2021\n",
      "<3. starting srun ipengine>  Ter Set 21 02:16:23 -03 2021\n",
      "<4. starting python script > Ter Set 21 02:16:48 -03 2021\n",
      "-- output -----------------------------\n",
      "Trainset classification error is 0.00%  of 66000 (kappa: 1.0000)\n",
      " Testset classification error is 0.00%  of 34000 (kappa: 0.9997)\n",
      "T: 30.2195  |  N: 1\n",
      "-- end --------------------------------\n",
      "<5. quit>                    Ter Set 21 02:17:26 -03 2021\n"
     ]
    }
   ],
   "source": [
    "%%bash\n",
    "cat /scratch${PWD#\"/prj\"}/slurm-1357090.out\n",
    "cat /scratch${PWD#\"/prj\"}/slurm-1357091.out\n",
    "cat /scratch${PWD#\"/prj\"}/slurm-1357092.out"
   ]
  },
  {
   "cell_type": "markdown",
   "metadata": {},
   "source": [
    "### 4 of (1, 4, 16, 24, 48, 72, 96)"
   ]
  },
  {
   "cell_type": "code",
   "execution_count": 16,
   "metadata": {
    "scrolled": true
   },
   "outputs": [
    {
     "name": "stdout",
     "output_type": "stream",
     "text": [
      "Submitted batch job 1357095\n",
      "Submitted batch job 1357096\n",
      "Submitted batch job 1357097\n"
     ]
    }
   ],
   "source": [
    "%%bash\n",
    "sbatch --ntasks=4 rfam6.srm\n",
    "sbatch --ntasks=4 rfam6.srm\n",
    "sbatch --ntasks=4 rfam6.srm"
   ]
  },
  {
   "cell_type": "code",
   "execution_count": 3,
   "metadata": {},
   "outputs": [
    {
     "name": "stdout",
     "output_type": "stream",
     "text": [
      "========================================\n",
      "- Job ID: 1357095\n",
      "- # of nodes in the job: 1\n",
      "- # of tasks: 4\n",
      "- Dir from which sbatch was invoked: rf\n",
      "- Nodes allocated to the job: sdumont1471\n",
      "<1. starting ipython>        Ter Set 21 02:16:07 -03 2021\n",
      "<2. starting ipcontroller>   Ter Set 21 02:16:13 -03 2021\n",
      "<3. starting srun ipengine>  Ter Set 21 02:16:23 -03 2021\n",
      "<4. starting python script > Ter Set 21 02:16:48 -03 2021\n",
      "-- output -----------------------------\n",
      "Trainset classification error is 0.00%  of 66000 (kappa: 1.0000)\n",
      " Testset classification error is 0.00%  of 34000 (kappa: 0.9997)\n",
      "T: 16.4930  |  N: 4\n",
      "-- end --------------------------------\n",
      "<5. quit>                    Ter Set 21 02:17:13 -03 2021\n",
      "========================================\n",
      "- Job ID: 1357096\n",
      "- # of nodes in the job: 1\n",
      "- # of tasks: 4\n",
      "- Dir from which sbatch was invoked: rf\n",
      "- Nodes allocated to the job: sdumont1472\n",
      "<1. starting ipython>        Ter Set 21 02:16:07 -03 2021\n",
      "<2. starting ipcontroller>   Ter Set 21 02:16:13 -03 2021\n",
      "<3. starting srun ipengine>  Ter Set 21 02:16:23 -03 2021\n",
      "<4. starting python script > Ter Set 21 02:16:48 -03 2021\n",
      "-- output -----------------------------\n",
      "Trainset classification error is 0.00%  of 66000 (kappa: 1.0000)\n",
      " Testset classification error is 0.00%  of 34000 (kappa: 0.9997)\n",
      "T: 16.6999  |  N: 4\n",
      "-- end --------------------------------\n",
      "<5. quit>                    Ter Set 21 02:17:13 -03 2021\n",
      "srun: Job step aborted: Waiting up to 302 seconds for job step to finish.\n",
      "slurmstepd: error: *** STEP 1357096.0 ON sdumont1472 CANCELLED AT 2021-09-21T02:17:13 ***\n",
      "========================================\n",
      "- Job ID: 1357097\n",
      "- # of nodes in the job: 1\n",
      "- # of tasks: 4\n",
      "- Dir from which sbatch was invoked: rf\n",
      "- Nodes allocated to the job: sdumont1478\n",
      "<1. starting ipython>        Ter Set 21 02:16:07 -03 2021\n",
      "<2. starting ipcontroller>   Ter Set 21 02:16:13 -03 2021\n",
      "<3. starting srun ipengine>  Ter Set 21 02:16:23 -03 2021\n",
      "<4. starting python script > Ter Set 21 02:16:48 -03 2021\n",
      "-- output -----------------------------\n",
      "Trainset classification error is 0.00%  of 66000 (kappa: 1.0000)\n",
      " Testset classification error is 0.00%  of 34000 (kappa: 0.9997)\n",
      "T: 16.7050  |  N: 4\n",
      "-- end --------------------------------\n",
      "<5. quit>                    Ter Set 21 02:17:13 -03 2021\n",
      "srun: Job step aborted: Waiting up to 302 seconds for job step to finish.\n",
      "slurmstepd: error: *** STEP 1357097.0 ON sdumont1478 CANCELLED AT 2021-09-21T02:17:13 ***\n"
     ]
    }
   ],
   "source": [
    "%%bash\n",
    "cat /scratch${PWD#\"/prj\"}/slurm-1357095.out\n",
    "cat /scratch${PWD#\"/prj\"}/slurm-1357096.out\n",
    "cat /scratch${PWD#\"/prj\"}/slurm-1357097.out"
   ]
  },
  {
   "cell_type": "markdown",
   "metadata": {},
   "source": [
    "### 16 of (1, 4, 16, 24, 48, 72, 96)"
   ]
  },
  {
   "cell_type": "code",
   "execution_count": 17,
   "metadata": {
    "scrolled": true
   },
   "outputs": [
    {
     "name": "stdout",
     "output_type": "stream",
     "text": [
      "Submitted batch job 1357098\n",
      "Submitted batch job 1357099\n",
      "Submitted batch job 1357100\n"
     ]
    }
   ],
   "source": [
    "%%bash\n",
    "sbatch --ntasks=16 rfam6.srm\n",
    "sbatch --ntasks=16 rfam6.srm\n",
    "sbatch --ntasks=16 rfam6.srm"
   ]
  },
  {
   "cell_type": "code",
   "execution_count": 4,
   "metadata": {},
   "outputs": [
    {
     "name": "stdout",
     "output_type": "stream",
     "text": [
      "========================================\n",
      "- Job ID: 1357098\n",
      "- # of nodes in the job: 1\n",
      "- # of tasks: 16\n",
      "- Dir from which sbatch was invoked: rf\n",
      "- Nodes allocated to the job: sdumont1479\n",
      "<1. starting ipython>        Ter Set 21 02:16:07 -03 2021\n",
      "<2. starting ipcontroller>   Ter Set 21 02:16:13 -03 2021\n",
      "<3. starting srun ipengine>  Ter Set 21 02:16:23 -03 2021\n",
      "<4. starting python script > Ter Set 21 02:16:48 -03 2021\n",
      "-- output -----------------------------\n",
      "Trainset classification error is 0.00%  of 66000 (kappa: 1.0000)\n",
      " Testset classification error is 0.00%  of 34000 (kappa: 0.9997)\n",
      "T: 13.4995  |  N: 16\n",
      "-- end --------------------------------\n",
      "<5. quit>                    Ter Set 21 02:17:10 -03 2021\n",
      "========================================\n",
      "- Job ID: 1357099\n",
      "- # of nodes in the job: 1\n",
      "- # of tasks: 16\n",
      "- Dir from which sbatch was invoked: rf\n",
      "- Nodes allocated to the job: sdumont1480\n",
      "<1. starting ipython>        Ter Set 21 02:16:07 -03 2021\n",
      "<2. starting ipcontroller>   Ter Set 21 02:16:13 -03 2021\n",
      "<3. starting srun ipengine>  Ter Set 21 02:16:23 -03 2021\n",
      "<4. starting python script > Ter Set 21 02:16:48 -03 2021\n",
      "-- output -----------------------------\n",
      "Trainset classification error is 0.00%  of 66000 (kappa: 1.0000)\n",
      " Testset classification error is 0.00%  of 34000 (kappa: 0.9997)\n",
      "T: 12.3190  |  N: 16\n",
      "-- end --------------------------------\n",
      "<5. quit>                    Ter Set 21 02:17:09 -03 2021\n",
      "srun: Job step aborted: Waiting up to 302 seconds for job step to finish.\n",
      "slurmstepd: error: *** STEP 1357099.0 ON sdumont1480 CANCELLED AT 2021-09-21T02:17:09 ***\n",
      "========================================\n",
      "- Job ID: 1357100\n",
      "- # of nodes in the job: 1\n",
      "- # of tasks: 16\n",
      "- Dir from which sbatch was invoked: rf\n",
      "- Nodes allocated to the job: sdumont1470\n",
      "<1. starting ipython>        Ter Set 21 02:17:48 -03 2021\n",
      "<2. starting ipcontroller>   Ter Set 21 02:17:52 -03 2021\n",
      "<3. starting srun ipengine>  Ter Set 21 02:18:02 -03 2021\n",
      "<4. starting python script > Ter Set 21 02:18:27 -03 2021\n",
      "-- output -----------------------------\n",
      "Trainset classification error is 0.00%  of 66000 (kappa: 1.0000)\n",
      " Testset classification error is 0.00%  of 34000 (kappa: 0.9997)\n",
      "T: 13.1998  |  N: 16\n",
      "-- end --------------------------------\n",
      "<5. quit>                    Ter Set 21 02:18:46 -03 2021\n",
      "srun: Job step aborted: Waiting up to 302 seconds for job step to finish.\n",
      "slurmstepd: error: *** STEP 1357100.0 ON sdumont1470 CANCELLED AT 2021-09-21T02:18:46 ***\n"
     ]
    }
   ],
   "source": [
    "%%bash\n",
    "cat /scratch${PWD#\"/prj\"}/slurm-1357098.out\n",
    "cat /scratch${PWD#\"/prj\"}/slurm-1357099.out\n",
    "cat /scratch${PWD#\"/prj\"}/slurm-1357100.out"
   ]
  },
  {
   "cell_type": "markdown",
   "metadata": {},
   "source": [
    "### 24 of (1, 4, 16, 24, 48, 72, 96)"
   ]
  },
  {
   "cell_type": "code",
   "execution_count": 18,
   "metadata": {
    "scrolled": true
   },
   "outputs": [
    {
     "name": "stdout",
     "output_type": "stream",
     "text": [
      "Submitted batch job 1357101\n",
      "Submitted batch job 1357102\n",
      "Submitted batch job 1357103\n"
     ]
    }
   ],
   "source": [
    "%%bash\n",
    "sbatch --ntasks=24 rfam6.srm\n",
    "sbatch --ntasks=24 rfam6.srm\n",
    "sbatch --ntasks=24 rfam6.srm"
   ]
  },
  {
   "cell_type": "code",
   "execution_count": 5,
   "metadata": {},
   "outputs": [
    {
     "name": "stdout",
     "output_type": "stream",
     "text": [
      "========================================\n",
      "- Job ID: 1357101\n",
      "- # of nodes in the job: 1\n",
      "- # of tasks: 24\n",
      "- Dir from which sbatch was invoked: rf\n",
      "- Nodes allocated to the job: sdumont1471\n",
      "<1. starting ipython>        Ter Set 21 02:17:48 -03 2021\n",
      "<2. starting ipcontroller>   Ter Set 21 02:17:52 -03 2021\n",
      "<3. starting srun ipengine>  Ter Set 21 02:18:02 -03 2021\n",
      "<4. starting python script > Ter Set 21 02:18:27 -03 2021\n",
      "-- output -----------------------------\n",
      "Trainset classification error is 0.00%  of 66000 (kappa: 1.0000)\n",
      " Testset classification error is 0.00%  of 34000 (kappa: 0.9997)\n",
      "T: 13.8960  |  N: 24\n",
      "-- end --------------------------------\n",
      "<5. quit>                    Ter Set 21 02:18:47 -03 2021\n",
      "srun: Job step aborted: Waiting up to 302 seconds for job step to finish.\n",
      "========================================\n",
      "- Job ID: 1357102\n",
      "- # of nodes in the job: 1\n",
      "- # of tasks: 24\n",
      "- Dir from which sbatch was invoked: rf\n",
      "- Nodes allocated to the job: sdumont1472\n",
      "<1. starting ipython>        Ter Set 21 02:17:48 -03 2021\n",
      "<2. starting ipcontroller>   Ter Set 21 02:17:52 -03 2021\n",
      "<3. starting srun ipengine>  Ter Set 21 02:18:02 -03 2021\n",
      "<4. starting python script > Ter Set 21 02:18:27 -03 2021\n",
      "-- output -----------------------------\n",
      "Trainset classification error is 0.00%  of 66000 (kappa: 1.0000)\n",
      " Testset classification error is 0.00%  of 34000 (kappa: 0.9997)\n",
      "T: 13.6253  |  N: 24\n",
      "-- end --------------------------------\n",
      "<5. quit>                    Ter Set 21 02:18:47 -03 2021\n",
      "========================================\n",
      "- Job ID: 1357103\n",
      "- # of nodes in the job: 1\n",
      "- # of tasks: 24\n",
      "- Dir from which sbatch was invoked: rf\n",
      "- Nodes allocated to the job: sdumont1478\n",
      "<1. starting ipython>        Ter Set 21 02:17:48 -03 2021\n",
      "<2. starting ipcontroller>   Ter Set 21 02:17:52 -03 2021\n",
      "<3. starting srun ipengine>  Ter Set 21 02:18:02 -03 2021\n",
      "<4. starting python script > Ter Set 21 02:18:27 -03 2021\n",
      "-- output -----------------------------\n",
      "Trainset classification error is 0.00%  of 66000 (kappa: 1.0000)\n",
      " Testset classification error is 0.00%  of 34000 (kappa: 0.9997)\n",
      "T: 13.8657  |  N: 24\n",
      "-- end --------------------------------\n",
      "<5. quit>                    Ter Set 21 02:18:48 -03 2021\n"
     ]
    }
   ],
   "source": [
    "%%bash\n",
    "cat /scratch${PWD#\"/prj\"}/slurm-1357101.out\n",
    "cat /scratch${PWD#\"/prj\"}/slurm-1357102.out\n",
    "cat /scratch${PWD#\"/prj\"}/slurm-1357103.out"
   ]
  },
  {
   "cell_type": "markdown",
   "metadata": {},
   "source": [
    "### 48 of (1, 4, 16, 24, 48, 72, 96)"
   ]
  },
  {
   "cell_type": "code",
   "execution_count": 19,
   "metadata": {
    "scrolled": true
   },
   "outputs": [
    {
     "name": "stdout",
     "output_type": "stream",
     "text": [
      "Submitted batch job 1357104\n",
      "Submitted batch job 1357105\n",
      "Submitted batch job 1357106\n"
     ]
    }
   ],
   "source": [
    "%%bash\n",
    "sbatch --ntasks=48 rfam6.srm\n",
    "sbatch --ntasks=48 rfam6.srm\n",
    "sbatch --ntasks=48 rfam6.srm"
   ]
  },
  {
   "cell_type": "code",
   "execution_count": 6,
   "metadata": {},
   "outputs": [
    {
     "name": "stdout",
     "output_type": "stream",
     "text": [
      "========================================\n",
      "- Job ID: 1357104\n",
      "- # of nodes in the job: 2\n",
      "- # of tasks: 48\n",
      "- Dir from which sbatch was invoked: rf\n",
      "- Nodes allocated to the job: sdumont1479 sdumont1480\n",
      "<1. starting ipython>        Ter Set 21 02:17:48 -03 2021\n",
      "<2. starting ipcontroller>   Ter Set 21 02:17:52 -03 2021\n",
      "<3. starting srun ipengine>  Ter Set 21 02:18:02 -03 2021\n",
      "<4. starting python script > Ter Set 21 02:18:27 -03 2021\n",
      "-- output -----------------------------\n",
      "Trainset classification error is 0.00%  of 66000 (kappa: 1.0000)\n",
      " Testset classification error is 0.01%  of 34000 (kappa: 0.9994)\n",
      "T: 14.5762  |  N: 48\n",
      "-- end --------------------------------\n",
      "<5. quit>                    Ter Set 21 02:18:48 -03 2021\n",
      "srun: Job step aborted: Waiting up to 302 seconds for job step to finish.\n",
      "========================================\n",
      "- Job ID: 1357105\n",
      "- # of nodes in the job: 2\n",
      "- # of tasks: 48\n",
      "- Dir from which sbatch was invoked: rf\n",
      "- Nodes allocated to the job: sdumont1470 sdumont1471\n",
      "<1. starting ipython>        Ter Set 21 02:19:03 -03 2021\n",
      "<2. starting ipcontroller>   Ter Set 21 02:19:07 -03 2021\n",
      "<3. starting srun ipengine>  Ter Set 21 02:19:17 -03 2021\n",
      "<4. starting python script > Ter Set 21 02:19:42 -03 2021\n",
      "-- output -----------------------------\n",
      "Trainset classification error is 0.00%  of 66000 (kappa: 1.0000)\n",
      " Testset classification error is 0.01%  of 34000 (kappa: 0.9994)\n",
      "T: 16.1509  |  N: 48\n",
      "-- end --------------------------------\n",
      "<5. quit>                    Ter Set 21 02:20:08 -03 2021\n",
      "srun: Job step aborted: Waiting up to 302 seconds for job step to finish.\n",
      "========================================\n",
      "- Job ID: 1357106\n",
      "- # of nodes in the job: 2\n",
      "- # of tasks: 48\n",
      "- Dir from which sbatch was invoked: rf\n",
      "- Nodes allocated to the job: sdumont1478 sdumont1479\n",
      "<1. starting ipython>        Ter Set 21 02:19:04 -03 2021\n",
      "<2. starting ipcontroller>   Ter Set 21 02:19:08 -03 2021\n",
      "<3. starting srun ipengine>  Ter Set 21 02:19:18 -03 2021\n",
      "<4. starting python script > Ter Set 21 02:19:43 -03 2021\n",
      "-- output -----------------------------\n",
      "Trainset classification error is 0.00%  of 66000 (kappa: 1.0000)\n",
      " Testset classification error is 0.00%  of 34000 (kappa: 0.9997)\n",
      "T: 16.2256  |  N: 48\n",
      "-- end --------------------------------\n",
      "<5. quit>                    Ter Set 21 02:20:08 -03 2021\n",
      "srun: Job step aborted: Waiting up to 302 seconds for job step to finish.\n"
     ]
    }
   ],
   "source": [
    "%%bash\n",
    "cat /scratch${PWD#\"/prj\"}/slurm-1357104.out\n",
    "cat /scratch${PWD#\"/prj\"}/slurm-1357105.out\n",
    "cat /scratch${PWD#\"/prj\"}/slurm-1357106.out"
   ]
  },
  {
   "cell_type": "markdown",
   "metadata": {},
   "source": [
    "### 72 of (1, 4, 16, 24, 48, 72, 96)"
   ]
  },
  {
   "cell_type": "code",
   "execution_count": 20,
   "metadata": {
    "scrolled": true
   },
   "outputs": [
    {
     "name": "stdout",
     "output_type": "stream",
     "text": [
      "Submitted batch job 1357107\n",
      "Submitted batch job 1357108\n",
      "Submitted batch job 1357109\n"
     ]
    }
   ],
   "source": [
    "%%bash\n",
    "sbatch --ntasks=72 rfam6.srm\n",
    "sbatch --ntasks=72 rfam6.srm\n",
    "sbatch --ntasks=72 rfam6.srm"
   ]
  },
  {
   "cell_type": "code",
   "execution_count": 7,
   "metadata": {},
   "outputs": [
    {
     "name": "stdout",
     "output_type": "stream",
     "text": [
      "========================================\n",
      "- Job ID: 1357107\n",
      "- # of nodes in the job: 3\n",
      "- # of tasks: 72\n",
      "- Dir from which sbatch was invoked: rf\n",
      "- Nodes allocated to the job: sdumont1472 sdumont1480 sdumont1503\n",
      "<1. starting ipython>        Ter Set 21 02:19:06 -03 2021\n",
      "<2. starting ipcontroller>   Ter Set 21 02:19:09 -03 2021\n",
      "<3. starting srun ipengine>  Ter Set 21 02:19:19 -03 2021\n",
      "<4. starting python script > Ter Set 21 02:19:44 -03 2021\n",
      "-- output -----------------------------\n",
      "Trainset classification error is 0.00%  of 66000 (kappa: 1.0000)\n",
      " Testset classification error is 0.01%  of 34000 (kappa: 0.9991)\n",
      "T: 16.1404  |  N: 72\n",
      "-- end --------------------------------\n",
      "<5. quit>                    Ter Set 21 02:20:08 -03 2021\n",
      "srun: Job step aborted: Waiting up to 302 seconds for job step to finish.\n",
      "========================================\n",
      "- Job ID: 1357108\n",
      "- # of nodes in the job: 3\n",
      "- # of tasks: 72\n",
      "- Dir from which sbatch was invoked: rf\n",
      "- Nodes allocated to the job: sdumont1470 sdumont1471 sdumont1472\n",
      "<1. starting ipython>        Ter Set 21 02:20:18 -03 2021\n",
      "<2. starting ipcontroller>   Ter Set 21 02:20:24 -03 2021\n",
      "<3. starting srun ipengine>  Ter Set 21 02:20:34 -03 2021\n",
      "<4. starting python script > Ter Set 21 02:20:59 -03 2021\n",
      "-- output -----------------------------\n",
      "Trainset classification error is 0.00%  of 66000 (kappa: 1.0000)\n",
      " Testset classification error is 0.00%  of 34000 (kappa: 0.9997)\n",
      "T: 15.1184  |  N: 72\n",
      "-- end --------------------------------\n",
      "<5. quit>                    Ter Set 21 02:21:23 -03 2021\n",
      "========================================\n",
      "- Job ID: 1357109\n",
      "- # of nodes in the job: 3\n",
      "- # of tasks: 72\n",
      "- Dir from which sbatch was invoked: rf\n",
      "- Nodes allocated to the job: sdumont1478 sdumont1479 sdumont1480\n",
      "<1. starting ipython>        Ter Set 21 02:20:18 -03 2021\n",
      "<2. starting ipcontroller>   Ter Set 21 02:20:24 -03 2021\n",
      "<3. starting srun ipengine>  Ter Set 21 02:20:34 -03 2021\n",
      "<4. starting python script > Ter Set 21 02:20:59 -03 2021\n",
      "-- output -----------------------------\n",
      "Trainset classification error is 0.00%  of 66000 (kappa: 1.0000)\n",
      " Testset classification error is 0.01%  of 34000 (kappa: 0.9991)\n",
      "T: 15.2672  |  N: 72\n",
      "-- end --------------------------------\n",
      "<5. quit>                    Ter Set 21 02:21:23 -03 2021\n"
     ]
    }
   ],
   "source": [
    "%%bash\n",
    "cat /scratch${PWD#\"/prj\"}/slurm-1357107.out\n",
    "cat /scratch${PWD#\"/prj\"}/slurm-1357108.out\n",
    "cat /scratch${PWD#\"/prj\"}/slurm-1357109.out"
   ]
  },
  {
   "cell_type": "markdown",
   "metadata": {},
   "source": [
    "### 96 of (1, 4, 16, 24, 48, 72, 96)"
   ]
  },
  {
   "cell_type": "code",
   "execution_count": 21,
   "metadata": {
    "scrolled": true
   },
   "outputs": [
    {
     "name": "stdout",
     "output_type": "stream",
     "text": [
      "Submitted batch job 1357110\n",
      "Submitted batch job 1357111\n",
      "Submitted batch job 1357112\n"
     ]
    }
   ],
   "source": [
    "%%bash\n",
    "sbatch --ntasks=96 rfam6.srm\n",
    "sbatch --ntasks=96 rfam6.srm\n",
    "sbatch --ntasks=96 rfam6.srm"
   ]
  },
  {
   "cell_type": "code",
   "execution_count": 8,
   "metadata": {},
   "outputs": [
    {
     "name": "stdout",
     "output_type": "stream",
     "text": [
      "========================================\n",
      "- Job ID: 1357110\n",
      "- # of nodes in the job: 4\n",
      "- # of tasks: 96\n",
      "- Dir from which sbatch was invoked: rf\n",
      "- Nodes allocated to the job: sdumont1470 sdumont1471 sdumont1472 sdumont1503\n",
      "<1. starting ipython>        Ter Set 21 02:23:08 -03 2021\n",
      "<2. starting ipcontroller>   Ter Set 21 02:23:16 -03 2021\n",
      "<3. starting srun ipengine>  Ter Set 21 02:23:26 -03 2021\n",
      "<4. starting python script > Ter Set 21 02:23:51 -03 2021\n",
      "-- output -----------------------------\n",
      "Trainset classification error is 0.00%  of 66000 (kappa: 1.0000)\n",
      " Testset classification error is 0.00%  of 34000 (kappa: 0.9997)\n",
      "T: 15.4500  |  N: 96\n",
      "-- end --------------------------------\n",
      "<5. quit>                    Ter Set 21 02:24:22 -03 2021\n",
      "========================================\n",
      "- Job ID: 1357111\n",
      "- # of nodes in the job: 4\n",
      "- # of tasks: 96\n",
      "- Dir from which sbatch was invoked: rf\n",
      "- Nodes allocated to the job: sdumont1470 sdumont1471 sdumont1472 sdumont1503\n",
      "<1. starting ipython>        Ter Set 21 02:24:54 -03 2021\n",
      "<2. starting ipcontroller>   Ter Set 21 02:24:59 -03 2021\n",
      "<3. starting srun ipengine>  Ter Set 21 02:25:09 -03 2021\n",
      "<4. starting python script > Ter Set 21 02:25:34 -03 2021\n",
      "-- output -----------------------------\n",
      "Trainset classification error is 0.00%  of 66000 (kappa: 1.0000)\n",
      " Testset classification error is 0.00%  of 34000 (kappa: 0.9997)\n",
      "T: 17.1764  |  N: 96\n",
      "-- end --------------------------------\n",
      "<5. quit>                    Ter Set 21 02:26:02 -03 2021\n",
      "========================================\n",
      "- Job ID: 1357112\n",
      "- # of nodes in the job: 4\n",
      "- # of tasks: 96\n",
      "- Dir from which sbatch was invoked: rf\n",
      "- Nodes allocated to the job: sdumont1470 sdumont1471 sdumont1472 sdumont1503\n",
      "<1. starting ipython>        Ter Set 21 02:27:48 -03 2021\n",
      "<2. starting ipcontroller>   Ter Set 21 02:28:08 -03 2021\n",
      "<3. starting srun ipengine>  Ter Set 21 02:28:18 -03 2021\n",
      "<4. starting python script > Ter Set 21 02:28:43 -03 2021\n",
      "-- output -----------------------------\n",
      "Trainset classification error is 0.00%  of 66000 (kappa: 1.0000)\n",
      " Testset classification error is 0.00%  of 34000 (kappa: 0.9997)\n",
      "T: 17.4486  |  N: 96\n",
      "-- end --------------------------------\n",
      "<5. quit>                    Ter Set 21 02:29:30 -03 2021\n",
      "srun: Job step aborted: Waiting up to 302 seconds for job step to finish.\n"
     ]
    }
   ],
   "source": [
    "%%bash\n",
    "cat /scratch${PWD#\"/prj\"}/slurm-1357110.out\n",
    "cat /scratch${PWD#\"/prj\"}/slurm-1357111.out\n",
    "cat /scratch${PWD#\"/prj\"}/slurm-1357112.out"
   ]
  },
  {
   "cell_type": "code",
   "execution_count": null,
   "metadata": {},
   "outputs": [],
   "source": []
  },
  {
   "cell_type": "code",
   "execution_count": 11,
   "metadata": {},
   "outputs": [
    {
     "name": "stdout",
     "output_type": "stream",
     "text": [
      "64\n"
     ]
    }
   ],
   "source": [
    "! squeue -u $(whoami) -h -r | wc -l"
   ]
  },
  {
   "cell_type": "code",
   "execution_count": 12,
   "metadata": {},
   "outputs": [
    {
     "name": "stdout",
     "output_type": "stream",
     "text": [
      "279\n"
     ]
    }
   ],
   "source": [
    "! squeue --partition=cpu_small -h -r | wc -l"
   ]
  },
  {
   "cell_type": "code",
   "execution_count": 22,
   "metadata": {},
   "outputs": [
    {
     "name": "stdout",
     "output_type": "stream",
     "text": [
      "             JOBID  PARTITION  ST  TIME NODES CPUS\n",
      "           1357107  cpu_small  PD  0:00     3   72\n",
      "           1357108  cpu_small  PD  0:00     3   72\n",
      "           1357109  cpu_small  PD  0:00     3   72\n",
      "           1357110  cpu_small  PD  0:00     4   96\n",
      "           1357111  cpu_small  PD  0:00     4   96\n",
      "           1357112  cpu_small  PD  0:00     4   96\n",
      "           1357104  cpu_small  PD  0:00     2   48\n",
      "           1357105  cpu_small  PD  0:00     2   48\n",
      "           1357106  cpu_small  PD  0:00     2   48\n",
      "           1357103  cpu_small  PD  0:00     1   24\n",
      "           1357102  cpu_small  PD  0:00     1   24\n",
      "           1357100  cpu_small  PD  0:00     1   16\n",
      "           1357101  cpu_small  PD  0:00     1   24\n",
      "           1357098  cpu_small  PD  0:00     1   16\n",
      "           1357099  cpu_small  PD  0:00     1   16\n",
      "           1357096  cpu_small  PD  0:00     1    4\n",
      "           1357097  cpu_small  PD  0:00     1    4\n",
      "           1357095  cpu_small  PD  0:00     1    4\n",
      "           1357092  cpu_small  PD  0:00     1    1\n",
      "           1357091  cpu_small  PD  0:00     1    1\n",
      "           1357090  cpu_small  PD  0:00     1    1\n"
     ]
    }
   ],
   "source": [
    "! squeue -n rfam6 -o \"%.18i  %.9P  %.2t %.5M %.5D %.4C\""
   ]
  },
  {
   "cell_type": "code",
   "execution_count": 1,
   "metadata": {},
   "outputs": [
    {
     "name": "stdout",
     "output_type": "stream",
     "text": [
      "             JOBID  PARTITION  ST  TIME NODES CPUS\n"
     ]
    }
   ],
   "source": [
    "! squeue -n rfam6 -o \"%.18i  %.9P  %.2t %.5M %.5D %.4C\""
   ]
  },
  {
   "cell_type": "code",
   "execution_count": null,
   "metadata": {},
   "outputs": [],
   "source": []
  },
  {
   "cell_type": "code",
   "execution_count": null,
   "metadata": {},
   "outputs": [],
   "source": []
  },
  {
   "cell_type": "code",
   "execution_count": 17,
   "metadata": {},
   "outputs": [
    {
     "name": "stdout",
     "output_type": "stream",
     "text": [
      "64\n"
     ]
    }
   ],
   "source": [
    "! squeue -u $(whoami) -h -r | wc -l"
   ]
  },
  {
   "cell_type": "code",
   "execution_count": 20,
   "metadata": {},
   "outputs": [
    {
     "name": "stdout",
     "output_type": "stream",
     "text": [
      "START_TIME     JOBID  PARTITION  ST  TIME NODES CPUS\n",
      "N/A   1345073        cpu  PD  0:00    21   96\n",
      "N/A   1345074        cpu  PD  0:00    21   96\n",
      "N/A   1345075        cpu  PD  0:00    21   96\n",
      "N/A   1345081        cpu  PD  0:00    21   72\n",
      "N/A   1346988  cpu_small  PD  0:00     1   24\n",
      "N/A   1346989  cpu_small  PD  0:00     1   24\n",
      "N/A   1346990  cpu_small  PD  0:00     1   24\n",
      "N/A   1346994   cpu_long  PD  0:00     3   72\n",
      "N/A   1346995   cpu_long  PD  0:00     3   72\n",
      "N/A   1346996   cpu_long  PD  0:00     3   72\n",
      "N/A   1346997  cpu_small  PD  0:00     2   48\n",
      "N/A   1346998  cpu_small  PD  0:00     2   48\n",
      "N/A   1346999  cpu_small  PD  0:00     2   48\n",
      "N/A   1347001  cpu_small  PD  0:00     1   16\n",
      "N/A   1347002  cpu_small  PD  0:00     1   16\n",
      "N/A   1347003  cpu_small  PD  0:00     1   16\n",
      "N/A   1347004  cpu_small  PD  0:00     1    4\n",
      "N/A   1347005  cpu_small  PD  0:00     1    4\n",
      "N/A   1347006  cpu_small  PD  0:00     1    4\n",
      "N/A   1347007  cpu_small  PD  0:00     1    1\n",
      "N/A   1347008  cpu_small  PD  0:00     1    1\n",
      "N/A   1347009  cpu_small  PD  0:00     1    1\n",
      "N/A   1347015  cpu_small  PD  0:00     3   72\n",
      "N/A   1347016  cpu_small  PD  0:00     3   72\n",
      "N/A   1347017  cpu_small  PD  0:00     3   72\n",
      "N/A   1347018  cpu_small  PD  0:00     2   48\n",
      "N/A   1347019  cpu_small  PD  0:00     2   48\n",
      "N/A   1347020  cpu_small  PD  0:00     2   48\n",
      "N/A   1347021  cpu_small  PD  0:00     1   16\n",
      "N/A   1347022  cpu_small  PD  0:00     1   16\n",
      "N/A   1347023  cpu_small  PD  0:00     1   16\n",
      "N/A   1347024  cpu_small  PD  0:00     1    4\n",
      "N/A   1347025  cpu_small  PD  0:00     1    4\n",
      "N/A   1347026  cpu_small  PD  0:00     1    4\n",
      "N/A   1347028  cpu_small  PD  0:00     1    1\n",
      "N/A   1347029  cpu_small  PD  0:00     1    1\n",
      "N/A   1347030  cpu_small  PD  0:00     1    1\n",
      "N/A   1347031  cpu_small  PD  0:00     1    1\n",
      "N/A   1347032  cpu_small  PD  0:00     1    1\n",
      "N/A   1347033  cpu_small  PD  0:00     1    1\n",
      "N/A   1347039  cpu_small  PD  0:00     1    1\n",
      "N/A   1347040  cpu_small  PD  0:00     1    1\n",
      "N/A   1347041  cpu_small  PD  0:00     1    1\n",
      "N/A   1347045  cpu_small  PD  0:00     1    1\n",
      "N/A   1347046  cpu_small  PD  0:00     1    1\n",
      "N/A   1347047  cpu_small  PD  0:00     1    1\n",
      "N/A   1347048  cpu_small  PD  0:00     1    4\n",
      "N/A   1347049  cpu_small  PD  0:00     1    4\n",
      "N/A   1347050  cpu_small  PD  0:00     1    4\n",
      "N/A   1347051  cpu_small  PD  0:00     1   16\n",
      "N/A   1347052  cpu_small  PD  0:00     1   16\n",
      "N/A   1347053  cpu_small  PD  0:00     1   16\n",
      "N/A   1347055  cpu_small  PD  0:00     1   24\n",
      "N/A   1347056  cpu_small  PD  0:00     1   24\n",
      "N/A   1347057  cpu_small  PD  0:00     1   24\n",
      "N/A   1347058  cpu_small  PD  0:00     2   48\n",
      "N/A   1347059  cpu_small  PD  0:00     2   48\n",
      "N/A   1347060  cpu_small  PD  0:00     2   48\n",
      "N/A   1347061  cpu_small  PD  0:00     3   72\n",
      "N/A   1347062  cpu_small  PD  0:00     3   72\n",
      "N/A   1347063  cpu_small  PD  0:00     3   72\n",
      "N/A   1347064  cpu_small  PD  0:00     4   96\n",
      "N/A   1347065  cpu_small  PD  0:00     4   96\n",
      "N/A   1347066  cpu_small  PD  0:00     4   96\n"
     ]
    }
   ],
   "source": [
    "! squeue --start --user=$(whoami) -o \"%S  %.8i  %.9P  %.2t %.5M %.5D %.4C\" --sort \"i\""
   ]
  },
  {
   "cell_type": "code",
   "execution_count": null,
   "metadata": {},
   "outputs": [],
   "source": []
  }
 ],
 "metadata": {
  "kernelspec": {
   "display_name": "Python 3 (ipykernel)",
   "language": "python",
   "name": "python3"
  },
  "language_info": {
   "codemirror_mode": {
    "name": "ipython",
    "version": 3
   },
   "file_extension": ".py",
   "mimetype": "text/x-python",
   "name": "python",
   "nbconvert_exporter": "python",
   "pygments_lexer": "ipython3",
   "version": "3.8.13"
  }
 },
 "nbformat": 4,
 "nbformat_minor": 4
}
