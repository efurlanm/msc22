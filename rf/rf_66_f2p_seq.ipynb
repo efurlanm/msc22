{
 "cells": [
  {
   "cell_type": "markdown",
   "metadata": {},
   "source": [
    "# RF F2PY SEQ 66 k"
   ]
  },
  {
   "cell_type": "code",
   "execution_count": 3,
   "metadata": {},
   "outputs": [
    {
     "name": "stdout",
     "output_type": "stream",
     "text": [
      "Overwriting rfns6.py\n"
     ]
    }
   ],
   "source": [
    "%%writefile rfns6.py\n",
    "import time as tm, parf003ser\n",
    "\n",
    "t0 = tm.time()    # time measurement\n",
    "\n",
    "resu = parf003ser.random_forest(\n",
    "    \"datasets/asteroid-train-66k.arff\",\n",
    "    \"datasets/asteroid-test-34k.arff\"\n",
    ")\n",
    "p_error_count = resu[0]\n",
    "p_oob_count = resu[1]\n",
    "p_kappa_value = resu[2]\n",
    "p_instance_count = resu[3]\n",
    "p_error = resu[4]\n",
    "p_testset_kappa_value = resu[5]\n",
    "p_time = resu[6]\n",
    "p_rank = resu[7]\n",
    "p_size = resu[8]\n",
    "\n",
    "t1 = tm.time()    # time measurement\n",
    "\n",
    "if p_rank == 0 :\n",
    "    print(f'Trainset classification error is',\n",
    "          f'{p_error_count * 100 / p_oob_count :.2f}%',\n",
    "          f'of {p_oob_count} (kappa: {p_kappa_value :.4f})')\n",
    "    print(f' Testset classification error is {p_error * 100 :.2f}%',\n",
    "          f'of {p_instance_count} (kappa: {p_testset_kappa_value :.4f})')\n",
    "    print(f'T: {p_time :.4f}  |  N: {p_size :0g}')"
   ]
  },
  {
   "cell_type": "markdown",
   "metadata": {
    "tags": []
   },
   "source": [
    "## Copy files to /scratch"
   ]
  },
  {
   "cell_type": "code",
   "execution_count": 4,
   "metadata": {},
   "outputs": [],
   "source": [
    "! cp rfns6.py /scratch${PWD#\"/prj\"}"
   ]
  },
  {
   "cell_type": "markdown",
   "metadata": {},
   "source": [
    "## Slurm batch script"
   ]
  },
  {
   "cell_type": "code",
   "execution_count": 10,
   "metadata": {},
   "outputs": [
    {
     "name": "stdout",
     "output_type": "stream",
     "text": [
      "Overwriting rfns6.srm\n"
     ]
    }
   ],
   "source": [
    "%%writefile rfns6.srm\n",
    "#!/bin/bash\n",
    "#SBATCH --job-name rfns6       # Job name\n",
    "#SBATCH --partition cpu_small  # Select partition\n",
    "#SBATCH --ntasks=1             # Total tasks\n",
    "#SBATCH --time=00:05:00        # Limit execution time\n",
    "#SBATCH --exclusive            # Exclusive acccess to nodes\n",
    "\n",
    "echo '========================================'\n",
    "echo '- Job ID:' $SLURM_JOB_ID\n",
    "echo '- Tasks per node:' $SLURM_NTASKS_PER_NODE\n",
    "echo '- # of nodes in the job:' $SLURM_JOB_NUM_NODES\n",
    "echo '- # of tasks:' $SLURM_NTASKS\n",
    "echo '- Dir from which sbatch was invoked:' ${SLURM_SUBMIT_DIR##*/}\n",
    "cd $SLURM_SUBMIT_DIR\n",
    "echo -n '- List of nodes allocated to the job: '\n",
    "nodeset -e $SLURM_JOB_NODELIST\n",
    "\n",
    "# Environment\n",
    "echo '-- modules ----------------------------'\n",
    "module load intel_psxe\n",
    "source /opt/intel/parallel_studio_xe_2020/intelpython3/etc/profile.d/conda.sh\n",
    "cd                                              \n",
    "SCR=/scratch${PWD#/prj}\n",
    "conda activate --stack $SCR/env4\n",
    "export I_MPI_VAR_CHECK_SPELLING=0\n",
    "cd $SCR/rf\n",
    "\n",
    "# Executable config\n",
    "EXEC=\"python rfns6.py\"\n",
    "\n",
    "# Start\n",
    "echo '-- run --------------------------------'\n",
    "echo '$ srun -n' $SLURM_NTASKS ${EXEC##*/}\n",
    "echo '-- output -----------------------------'\n",
    "srun -n $SLURM_NTASKS $EXEC\n",
    "echo '~~ end ~~~~~~~~~~~~~~~~~~~~~~~~~~~~~~~~'"
   ]
  },
  {
   "cell_type": "markdown",
   "metadata": {},
   "source": [
    "## Check"
   ]
  },
  {
   "cell_type": "code",
   "execution_count": 11,
   "metadata": {},
   "outputs": [
    {
     "name": "stdout",
     "output_type": "stream",
     "text": [
      "Submitted batch job 1349198\n"
     ]
    }
   ],
   "source": [
    "! sbatch --partition cpu_dev --ntasks=1 rfns6.srm"
   ]
  },
  {
   "cell_type": "code",
   "execution_count": 12,
   "metadata": {},
   "outputs": [
    {
     "name": "stdout",
     "output_type": "stream",
     "text": [
      "   JOBID  PARTITION  NAME ST  TIME NODES CPUS\n",
      " 1349198    cpu_dev rfns6 PD  0:00     1    1\n"
     ]
    }
   ],
   "source": [
    "! squeue --name=rfns6 --partition=cpu_dev --format=\"%.8i  %.9P %.5j %.2t %.5M %.5D %.4C\""
   ]
  },
  {
   "cell_type": "code",
   "execution_count": 17,
   "metadata": {},
   "outputs": [
    {
     "name": "stdout",
     "output_type": "stream",
     "text": [
      "   JOBID  PARTITION  NAME ST  TIME NODES CPUS\n"
     ]
    }
   ],
   "source": [
    "! squeue --name=rfns6 --partition=cpu_dev --format=\"%.8i  %.9P %.5j %.2t %.5M %.5D %.4C\""
   ]
  },
  {
   "cell_type": "code",
   "execution_count": 18,
   "metadata": {},
   "outputs": [
    {
     "name": "stdout",
     "output_type": "stream",
     "text": [
      "========================================\n",
      "- Job ID: 1349198\n",
      "- Tasks per node:\n",
      "- # of nodes in the job: 1\n",
      "- # of tasks: 1\n",
      "- Dir from which sbatch was invoked: rf\n",
      "- List of nodes allocated to the job: sdumont1254\n",
      "-- modules ----------------------------\n",
      "-- run --------------------------------\n",
      "$ srun -n 1 python rfns6.py\n",
      "-- output -----------------------------\n",
      "Trainset classification error is 0.05% of 66000 (kappa: 0.9917)\n",
      " Testset classification error is 0.47% of 34000 (kappa: 0.9283)\n",
      "T: 136.7781  |  N: 1\n",
      "~~ end ~~~~~~~~~~~~~~~~~~~~~~~~~~~~~~~~\n"
     ]
    }
   ],
   "source": [
    "! cat /scratch${PWD#\"/prj\"}/slurm-1349198.out"
   ]
  },
  {
   "cell_type": "markdown",
   "metadata": {},
   "source": [
    "## Run"
   ]
  },
  {
   "cell_type": "code",
   "execution_count": 19,
   "metadata": {},
   "outputs": [
    {
     "name": "stdout",
     "output_type": "stream",
     "text": [
      "Submitted batch job 1349210\n",
      "Submitted batch job 1349211\n",
      "Submitted batch job 1349212\n"
     ]
    }
   ],
   "source": [
    "%%bash\n",
    "sbatch rfns6.srm\n",
    "sbatch rfns6.srm\n",
    "sbatch rfns6.srm"
   ]
  },
  {
   "cell_type": "code",
   "execution_count": 2,
   "metadata": {},
   "outputs": [
    {
     "name": "stdout",
     "output_type": "stream",
     "text": [
      "========================================\n",
      "- Job ID: 1349210\n",
      "- Tasks per node:\n",
      "- # of nodes in the job: 1\n",
      "- # of tasks: 1\n",
      "- Dir from which sbatch was invoked: rf\n",
      "- List of nodes allocated to the job: sdumont1286\n",
      "-- modules ----------------------------\n",
      "-- run --------------------------------\n",
      "$ srun -n 1 python rfns6.py\n",
      "-- output -----------------------------\n",
      "Trainset classification error is 0.06% of 66000 (kappa: 0.9908)\n",
      " Testset classification error is 0.51% of 34000 (kappa: 0.9234)\n",
      "T: 135.3215  |  N: 1\n",
      "~~ end ~~~~~~~~~~~~~~~~~~~~~~~~~~~~~~~~\n",
      "========================================\n",
      "- Job ID: 1349211\n",
      "- Tasks per node:\n",
      "- # of nodes in the job: 1\n",
      "- # of tasks: 1\n",
      "- Dir from which sbatch was invoked: rf\n",
      "- List of nodes allocated to the job: sdumont1286\n",
      "-- modules ----------------------------\n",
      "-- run --------------------------------\n",
      "$ srun -n 1 python rfns6.py\n",
      "-- output -----------------------------\n",
      "Trainset classification error is 0.06% of 66000 (kappa: 0.9906)\n",
      " Testset classification error is 0.65% of 34000 (kappa: 0.9020)\n",
      "T: 134.1588  |  N: 1\n",
      "~~ end ~~~~~~~~~~~~~~~~~~~~~~~~~~~~~~~~\n",
      "========================================\n",
      "- Job ID: 1349212\n",
      "- Tasks per node:\n",
      "- # of nodes in the job: 1\n",
      "- # of tasks: 1\n",
      "- Dir from which sbatch was invoked: rf\n",
      "- List of nodes allocated to the job: sdumont1286\n",
      "-- modules ----------------------------\n",
      "-- run --------------------------------\n",
      "$ srun -n 1 python rfns6.py\n",
      "-- output -----------------------------\n",
      "Trainset classification error is 0.06% of 66000 (kappa: 0.9906)\n",
      " Testset classification error is 0.48% of 34000 (kappa: 0.9274)\n",
      "T: 135.8139  |  N: 1\n",
      "~~ end ~~~~~~~~~~~~~~~~~~~~~~~~~~~~~~~~\n"
     ]
    }
   ],
   "source": [
    "%%bash\n",
    "cat /scratch${PWD#/prj}/slurm-1349210.out\n",
    "cat /scratch${PWD#/prj}/slurm-1349211.out\n",
    "cat /scratch${PWD#/prj}/slurm-1349212.out"
   ]
  },
  {
   "cell_type": "code",
   "execution_count": null,
   "metadata": {},
   "outputs": [],
   "source": []
  },
  {
   "cell_type": "code",
   "execution_count": 21,
   "metadata": {},
   "outputs": [
    {
     "name": "stdout",
     "output_type": "stream",
     "text": [
      "48\n"
     ]
    }
   ],
   "source": [
    "! squeue -u $(whoami) -h -t pending,running -r | wc -l"
   ]
  },
  {
   "cell_type": "code",
   "execution_count": 22,
   "metadata": {},
   "outputs": [
    {
     "name": "stdout",
     "output_type": "stream",
     "text": [
      "315\n"
     ]
    }
   ],
   "source": [
    "! squeue --partition=cpu_small -h -t pending,running -r | wc -l"
   ]
  },
  {
   "cell_type": "code",
   "execution_count": 24,
   "metadata": {},
   "outputs": [
    {
     "name": "stdout",
     "output_type": "stream",
     "text": [
      "START_TIME     JOBID  PARTITION  NAME ST  TIME NODES CPUS\n",
      "N/A   1349210  cpu_small rfns6 PD  0:00     1    1\n",
      "N/A   1349211  cpu_small rfns6 PD  0:00     1    1\n",
      "N/A   1349212  cpu_small rfns6 PD  0:00     1    1\n"
     ]
    }
   ],
   "source": [
    "! squeue --start --name=rfns6 -o \"%S  %.8i  %.9P %.5j %.2t %.5M %.5D %.4C\" --sort \"i\""
   ]
  },
  {
   "cell_type": "code",
   "execution_count": 1,
   "metadata": {},
   "outputs": [
    {
     "name": "stdout",
     "output_type": "stream",
     "text": [
      "START_TIME     JOBID  PARTITION  NAME ST  TIME NODES CPUS\n"
     ]
    }
   ],
   "source": [
    "! squeue --start --name=rfns6 -o \"%S  %.8i  %.9P %.5j %.2t %.5M %.5D %.4C\" --sort \"i\""
   ]
  },
  {
   "cell_type": "code",
   "execution_count": null,
   "metadata": {},
   "outputs": [],
   "source": []
  }
 ],
 "metadata": {
  "kernelspec": {
   "display_name": "Python 3",
   "language": "python",
   "name": "python3"
  },
  "language_info": {
   "codemirror_mode": {
    "name": "ipython",
    "version": 3
   },
   "file_extension": ".py",
   "mimetype": "text/x-python",
   "name": "python",
   "nbconvert_exporter": "python",
   "pygments_lexer": "ipython3",
   "version": "3.8.5"
  }
 },
 "nbformat": 4,
 "nbformat_minor": 5
}
