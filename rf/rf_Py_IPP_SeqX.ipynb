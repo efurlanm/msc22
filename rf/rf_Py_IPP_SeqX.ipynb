{
 "cells": [
  {
   "cell_type": "markdown",
   "metadata": {},
   "source": [
    "# RF_P PYTHON SEQUANA X serial e IPP"
   ]
  },
  {
   "cell_type": "markdown",
   "metadata": {},
   "source": [
    "## Rodando no nó de login"
   ]
  },
  {
   "cell_type": "markdown",
   "metadata": {},
   "source": [
    "* o \"n_jobs\" do Scikit-learn usa por padrão o backend \"loky\" que por sua vez usa o \"fork+exec\" do sistema operacional e só funciona em um único nó\n",
    "* para poder usar processamento distribuido, tem dois backends: Dask e IPP (IPython Parallel)\n",
    "* tem um exemplo de IPP com SLURM em: [[ULHPC]](https://ulhpc-tutorials.readthedocs.io/en/latest/python/advanced/scikit-learn/)"
   ]
  },
  {
   "cell_type": "markdown",
   "metadata": {},
   "source": [
    "* ambiente carregado antes do JupyterLab:\n",
    "```\n",
    "source $SCR/env2/etc/profile.d/conda.sh\n",
    "conda activate $SCR/env2\n",
    "module load openmpi/gnu/4.0.1\n",
    "```"
   ]
  },
  {
   "cell_type": "markdown",
   "metadata": {},
   "source": [
    "* de 2022-01-31 até 2022-02-04 os jobs estão parados.\n",
    "* não dá para rodar no nó de login B710 pois o Intel Turboboost está ligado.\n",
    "* não dá para rodar no SD18 pois o Intel Hyperthreading está ligado."
   ]
  },
  {
   "cell_type": "markdown",
   "metadata": {},
   "source": [
    "### Baixando o dataset"
   ]
  },
  {
   "cell_type": "code",
   "execution_count": 9,
   "metadata": {},
   "outputs": [
    {
     "name": "stdout",
     "output_type": "stream",
     "text": [
      "Collecting gdown\n",
      "  Downloading gdown-4.2.1.tar.gz (13 kB)\n",
      "  Installing build dependencies ... \u001b[?25ldone\n",
      "\u001b[?25h  Getting requirements to build wheel ... \u001b[?25ldone\n",
      "\u001b[?25h    Preparing wheel metadata ... \u001b[?25ldone\n",
      "\u001b[?25hRequirement already satisfied: filelock in /scratch/ampemi/eduardo.miranda2/env2/lib/python3.8/site-packages (from gdown) (3.0.12)\n",
      "Requirement already satisfied: six in /scratch/ampemi/eduardo.miranda2/env2/lib/python3.8/site-packages (from gdown) (1.15.0)\n",
      "Requirement already satisfied: beautifulsoup4 in /scratch/ampemi/eduardo.miranda2/env2/lib/python3.8/site-packages (from gdown) (4.9.3)\n",
      "Requirement already satisfied: requests[socks] in /scratch/ampemi/eduardo.miranda2/env2/lib/python3.8/site-packages (from gdown) (2.24.0)\n",
      "Requirement already satisfied: tqdm in /scratch/ampemi/eduardo.miranda2/env2/lib/python3.8/site-packages (from gdown) (4.50.2)\n",
      "Requirement already satisfied: soupsieve>1.2; python_version >= \"3.0\" in /scratch/ampemi/eduardo.miranda2/env2/lib/python3.8/site-packages (from beautifulsoup4->gdown) (2.0.1)\n",
      "Requirement already satisfied: certifi>=2017.4.17 in /scratch/ampemi/eduardo.miranda2/env2/lib/python3.8/site-packages (from requests[socks]->gdown) (2020.6.20)\n",
      "Requirement already satisfied: urllib3!=1.25.0,!=1.25.1,<1.26,>=1.21.1 in /scratch/ampemi/eduardo.miranda2/env2/lib/python3.8/site-packages (from requests[socks]->gdown) (1.25.11)\n",
      "Requirement already satisfied: chardet<4,>=3.0.2 in /scratch/ampemi/eduardo.miranda2/env2/lib/python3.8/site-packages (from requests[socks]->gdown) (3.0.4)\n",
      "Requirement already satisfied: idna<3,>=2.5 in /scratch/ampemi/eduardo.miranda2/env2/lib/python3.8/site-packages (from requests[socks]->gdown) (2.10)\n",
      "Requirement already satisfied: PySocks!=1.5.7,>=1.5.6; extra == \"socks\" in /scratch/ampemi/eduardo.miranda2/env2/lib/python3.8/site-packages (from requests[socks]->gdown) (1.7.1)\n",
      "Building wheels for collected packages: gdown\n",
      "  Building wheel for gdown (PEP 517) ... \u001b[?25ldone\n",
      "\u001b[?25h  Created wheel for gdown: filename=gdown-4.2.1-py3-none-any.whl size=14429 sha256=75495f524bf8a1603b76ec180939c5978193c86a440a7de8f42f3e05e0e26725\n",
      "  Stored in directory: /prj/ampemi/eduardo.miranda2/.cache/pip/wheels/29/0c/4a/58330447f4c918159f819cd72e1fe7d4d2832585a164929f18\n",
      "Successfully built gdown\n",
      "Installing collected packages: gdown\n",
      "Successfully installed gdown-4.2.1\n"
     ]
    }
   ],
   "source": [
    "! pip install gdown"
   ]
  },
  {
   "cell_type": "code",
   "execution_count": 10,
   "metadata": {},
   "outputs": [
    {
     "name": "stdout",
     "output_type": "stream",
     "text": [
      "Downloading...\n",
      "From: https://drive.google.com/uc?id=1bfCngu075EjLwQnODqLfTxJDq70-mZtd\n",
      "To: /prj/ampemi/eduardo.miranda2/rf_p/av_rf_perfomance.zip\n",
      "100%|████████████████████████████████████████| 655M/655M [00:11<00:00, 55.4MB/s]\n"
     ]
    }
   ],
   "source": [
    "! gdown --id 1bfCngu075EjLwQnODqLfTxJDq70-mZtd"
   ]
  },
  {
   "cell_type": "code",
   "execution_count": 12,
   "metadata": {},
   "outputs": [
    {
     "name": "stdout",
     "output_type": "stream",
     "text": [
      "Archive:  av_rf_perfomance.zip\n",
      "   creating: av_rf_perfomance/\n",
      "  inflating: av_rf_perfomance/X_train.npy  \n",
      "  inflating: av_rf_perfomance/avaliate_speedup_rf_model.py  \n",
      "  inflating: av_rf_perfomance/y_train.npy  \n"
     ]
    }
   ],
   "source": [
    "! unzip av_rf_perfomance.zip"
   ]
  },
  {
   "cell_type": "code",
   "execution_count": 13,
   "metadata": {},
   "outputs": [],
   "source": [
    "! mv av_rf_perfomance/*.npy ."
   ]
  },
  {
   "cell_type": "markdown",
   "metadata": {},
   "source": [
    "copia o dataset para SCRATCH:"
   ]
  },
  {
   "cell_type": "code",
   "execution_count": 15,
   "metadata": {},
   "outputs": [],
   "source": [
    "! cp *.npy /scratch${PWD#/prj}/"
   ]
  },
  {
   "cell_type": "code",
   "execution_count": 16,
   "metadata": {},
   "outputs": [
    {
     "name": "stdout",
     "output_type": "stream",
     "text": [
      "X_train.npy  y_train.npy\n"
     ]
    }
   ],
   "source": [
    "! ls /scratch${PWD#/prj}/"
   ]
  },
  {
   "cell_type": "markdown",
   "metadata": {},
   "source": [
    "mostra algumas informações do dataset:"
   ]
  },
  {
   "cell_type": "code",
   "execution_count": 47,
   "metadata": {},
   "outputs": [],
   "source": [
    "XTRA = \"X_train.npy\"\n",
    "YTRA = \"y_train.npy\"\n",
    "x = np.load(XTRA)\n",
    "y = np.load(YTRA)"
   ]
  },
  {
   "cell_type": "code",
   "execution_count": 38,
   "metadata": {},
   "outputs": [
    {
     "data": {
      "text/plain": [
       "(10626, 17341)"
      ]
     },
     "execution_count": 38,
     "metadata": {},
     "output_type": "execute_result"
    }
   ],
   "source": [
    "x.shape"
   ]
  },
  {
   "cell_type": "code",
   "execution_count": 39,
   "metadata": {},
   "outputs": [
    {
     "data": {
      "text/plain": [
       "dtype('float32')"
      ]
     },
     "execution_count": 39,
     "metadata": {},
     "output_type": "execute_result"
    }
   ],
   "source": [
    "x.dtype"
   ]
  },
  {
   "cell_type": "code",
   "execution_count": 40,
   "metadata": {},
   "outputs": [
    {
     "data": {
      "text/plain": [
       "(10626,)"
      ]
     },
     "execution_count": 40,
     "metadata": {},
     "output_type": "execute_result"
    }
   ],
   "source": [
    "y.shape"
   ]
  },
  {
   "cell_type": "code",
   "execution_count": 48,
   "metadata": {},
   "outputs": [
    {
     "data": {
      "text/plain": [
       "dtype('int64')"
      ]
     },
     "execution_count": 48,
     "metadata": {},
     "output_type": "execute_result"
    }
   ],
   "source": [
    "y.dtype"
   ]
  },
  {
   "cell_type": "markdown",
   "metadata": {},
   "source": [
    "<hr style=\"height:10px;border-width:0;background-color:red\">"
   ]
  },
  {
   "cell_type": "markdown",
   "metadata": {},
   "source": [
    "### Usando o backend default\n",
    "\n",
    "backend default = (\"loky\")"
   ]
  },
  {
   "cell_type": "code",
   "execution_count": 2,
   "metadata": {
    "colab": {
     "background_save": true,
     "base_uri": "https://localhost:8080/"
    },
    "id": "opdrzgtc6JpH",
    "outputId": "53400f0c-ceb4-403a-81a7-c484dd33a8b1"
   },
   "outputs": [],
   "source": [
    "def rf(num_cores):\n",
    "    import numpy as np\n",
    "    from sklearn.ensemble import RandomForestClassifier\n",
    "\n",
    "    #carrega os arquivos de treinamento utilizados para avaliar o \n",
    "    #desempenho paralelo do modelo de floresta aleatória\n",
    "    X_train = np.load(\"X_train.npy\")\n",
    "    y_train = np.load(\"y_train.npy\").astype(int)\n",
    "\n",
    "    #número de árvores utilizados no algoritmo de floresta aleatória quanto \n",
    "    #maior o número de árvores maior o número de tarefas que poderia ser \n",
    "    #executado de maneira paralela \n",
    "    n_estimators = 50\n",
    "\n",
    "    #configurações/número de processos avaliados 1, 2, 4, 8, 12, 24\n",
    "    #num_cores = (argumento da função principal)\n",
    "\n",
    "    #inicialização do objeto que contém o modelo as árvores somente \n",
    "    #serão construídas quando for executado o método fit deste objeto\n",
    "    model = RandomForestClassifier(random_state=0, \n",
    "                                   n_estimators=n_estimators, \n",
    "                                   n_jobs=num_cores)\n",
    "\n",
    "    #Constroi as árvores (treina o modelo)\n",
    "    model.fit(X_train, y_train)"
   ]
  },
  {
   "cell_type": "markdown",
   "metadata": {},
   "source": [
    "#### Testes rodando no nó de login"
   ]
  },
  {
   "cell_type": "code",
   "execution_count": 15,
   "metadata": {
    "id": "BTLZm4jf9a5L"
   },
   "outputs": [
    {
     "name": "stdout",
     "output_type": "stream",
     "text": [
      "1min 8s ± 10.9 s per loop (mean ± std. dev. of 3 runs, 1 loop each)\n"
     ]
    }
   ],
   "source": [
    "%%timeit -n 1 -r 3\n",
    "rf(1)"
   ]
  },
  {
   "cell_type": "code",
   "execution_count": 16,
   "metadata": {
    "id": "BTLZm4jf9a5L"
   },
   "outputs": [
    {
     "name": "stdout",
     "output_type": "stream",
     "text": [
      "32.1 s ± 223 ms per loop (mean ± std. dev. of 3 runs, 1 loop each)\n"
     ]
    }
   ],
   "source": [
    "%%timeit -n 1 -r 3\n",
    "rf(2)"
   ]
  },
  {
   "cell_type": "code",
   "execution_count": 17,
   "metadata": {
    "id": "BTLZm4jf9a5L"
   },
   "outputs": [
    {
     "name": "stdout",
     "output_type": "stream",
     "text": [
      "17.3 s ± 119 ms per loop (mean ± std. dev. of 3 runs, 1 loop each)\n"
     ]
    }
   ],
   "source": [
    "%%timeit -n 1 -r 3\n",
    "rf(4)"
   ]
  },
  {
   "cell_type": "code",
   "execution_count": 18,
   "metadata": {
    "id": "BTLZm4jf9a5L"
   },
   "outputs": [
    {
     "name": "stdout",
     "output_type": "stream",
     "text": [
      "9.88 s ± 52.1 ms per loop (mean ± std. dev. of 3 runs, 1 loop each)\n"
     ]
    }
   ],
   "source": [
    "%%timeit -n 1 -r 3\n",
    "rf(8)"
   ]
  },
  {
   "cell_type": "code",
   "execution_count": 3,
   "metadata": {
    "id": "BTLZm4jf9a5L"
   },
   "outputs": [
    {
     "name": "stdout",
     "output_type": "stream",
     "text": [
      "7.61 s ± 571 ms per loop (mean ± std. dev. of 3 runs, 1 loop each)\n"
     ]
    }
   ],
   "source": [
    "%%timeit -n 1 -r 3\n",
    "rf(12)"
   ]
  },
  {
   "cell_type": "code",
   "execution_count": 4,
   "metadata": {
    "id": "BTLZm4jf9a5L"
   },
   "outputs": [
    {
     "name": "stdout",
     "output_type": "stream",
     "text": [
      "4.58 s ± 65.5 ms per loop (mean ± std. dev. of 3 runs, 1 loop each)\n"
     ]
    }
   ],
   "source": [
    "%%timeit -n 1 -r 3\n",
    "rf(24)"
   ]
  },
  {
   "cell_type": "markdown",
   "metadata": {},
   "source": [
    "<hr style=\"height:10px;border-width:0;background-color:red\">"
   ]
  },
  {
   "cell_type": "markdown",
   "metadata": {},
   "source": [
    "### Versão sequencial"
   ]
  },
  {
   "cell_type": "code",
   "execution_count": 142,
   "metadata": {},
   "outputs": [
    {
     "name": "stdout",
     "output_type": "stream",
     "text": [
      "Overwriting rf02.py\n"
     ]
    }
   ],
   "source": [
    "%%writefile rf02.py\n",
    "from sklearn.ensemble import RandomForestClassifier\n",
    "from sklearn import metrics\n",
    "import numpy as np\n",
    "import sys\n",
    "from time import time\n",
    "t = -time()\n",
    "\n",
    "# XTRA = sys.argv[2]\n",
    "# YTRA = sys.argv[3]\n",
    "XTRA = \"X_train.npy\"\n",
    "YTRA = \"y_train.npy\"\n",
    "\n",
    "#carrega os arquivos de treinamento utilizados para avaliar o \n",
    "#desempenho paralelo do modelo de floresta aleatória\n",
    "X_train = np.load(XTRA)\n",
    "y_train = np.load(YTRA)\n",
    "\n",
    "#subconjunto para teste (20% de 10626 = ~ 2000)\n",
    "X_test = X_train[:1999, :]\n",
    "y_test = y_train[:1999, ]\n",
    "\n",
    "#número de árvores utilizados no algoritmo de floresta aleatória quanto \n",
    "#maior o número de árvores maior o número de tarefas que poderia ser \n",
    "#executado de maneira paralela \n",
    "n_estimators = 50\n",
    "\n",
    "#inicialização do objeto que contém o modelo as árvores somente \n",
    "#serão construídas quando for executado o método fit deste objeto\n",
    "model = RandomForestClassifier(random_state=0, \n",
    "                               n_estimators=n_estimators)\n",
    "\n",
    "#Constroi as árvores (treina o modelo)\n",
    "model.fit(X_train, y_train)\n",
    "\n",
    "#faz a predição\n",
    "y_pred_test  = model.predict(X_test)\n",
    "y_pred_train = model.predict(X_train)\n",
    "\n",
    "#encontra o erro de classificação para test\n",
    "accu = metrics.accuracy_score(y_test, y_pred_test, normalize = False)\n",
    "trsi = y_test.size\n",
    "etes = ((trsi - accu) / (trsi)) * 100\n",
    "\n",
    "#encontra o erro de classificação para train\n",
    "accu = metrics.accuracy_score(y_train, y_pred_train, normalize = False)\n",
    "trsi = y_train.size\n",
    "etra = ((trsi - accu) / (trsi)) * 100\n",
    "\n",
    "#mostra o resultado\n",
    "t += time()\n",
    "print(f' Testset classification error is {etra:.2f}% ')\n",
    "print(f'Trainset classification error is {etes:.2f}% ')\n",
    "print(f\"Elapsed Time: {t:.4f} s\")"
   ]
  },
  {
   "cell_type": "markdown",
   "metadata": {},
   "source": [
    "<hr style=\"height:10px;border-width:0;background-color:red\">"
   ]
  },
  {
   "cell_type": "markdown",
   "metadata": {
    "tags": []
   },
   "source": [
    "### Usando o backend IPP"
   ]
  },
  {
   "attachments": {
    "ab924dba-81aa-4a46-a1fe-37c610bdd4ee.png": {
     "image/png": "[encoded data removed]"
    }
   },
   "cell_type": "markdown",
   "metadata": {},
   "source": [
    "![IPP512x341.png](attachment:ab924dba-81aa-4a46-a1fe-37c610bdd4ee.png)"
   ]
  },
  {
   "cell_type": "markdown",
   "metadata": {},
   "source": [
    "* o Controller roda em um processo\n",
    "* as Engines rodam em vários processos\n",
    "* o Controller e as Engines precisam ser carragedas primeiro, antes de executar o programa principal, e ficam rodando em plano de fundo aguardando comandos do Client\n",
    "* no final precisa terminar explicitamente o Controller e Engines"
   ]
  },
  {
   "cell_type": "code",
   "execution_count": 3,
   "metadata": {},
   "outputs": [
    {
     "name": "stdout",
     "output_type": "stream",
     "text": [
      "Overwriting rf01.py\n"
     ]
    }
   ],
   "source": [
    "%%writefile rf01.py\n",
    "#rf01.py\n",
    "#número de processos avaliados: 1, 4, 16, 24, 48, 72, 96\n",
    "\n",
    "#--importa o backend---------------------\n",
    "from joblib import parallel_backend, register_parallel_backend\n",
    "from ipyparallel.joblib import IPythonParallelBackend\n",
    "import ipyparallel as ipp\n",
    "#----------------------------------------\n",
    "\n",
    "from sklearn.ensemble import RandomForestClassifier\n",
    "from sklearn import metrics\n",
    "import numpy as np\n",
    "import sys\n",
    "from time import time\n",
    "t = -time()\n",
    "\n",
    "PROF = sys.argv[1]\n",
    "XTRA = sys.argv[2]\n",
    "YTRA = sys.argv[3]\n",
    "\n",
    "#--carrega as Engines-------------------\n",
    "icli = ipp.Client(profile = PROF)  #nome do ipp profile\n",
    "ncli = len(icli.ids)               #pega a qtde de motores\n",
    "bview = icli.load_balanced_view()  #balanceamento de carga\n",
    "#----------------------------------------\n",
    "\n",
    "#--define o scikit-learn backend---------\n",
    "register_parallel_backend('ipyparallel',\n",
    "    lambda : IPythonParallelBackend(view = bview))\n",
    "#----------------------------------------\n",
    "\n",
    "#carrega os arquivos de treinamento utilizados para avaliar o \n",
    "#desempenho paralelo do modelo de floresta aleatória\n",
    "X_train = np.load(XTRA)\n",
    "y_train = np.load(YTRA)\n",
    "\n",
    "#subconjunto para teste (20% de 10626 = ~ 2000)\n",
    "X_test = X_train[:1999, :]\n",
    "y_test = y_train[:1999, ]\n",
    "\n",
    "#número de árvores utilizados no algoritmo de floresta aleatória\n",
    "#quanto maior o número de árvores maior o número de tarefas que\n",
    "#poderia ser executado de maneira paralela \n",
    "n_estimators = 50\n",
    "\n",
    "#inicialização do objeto que contém o modelo as árvores somente \n",
    "#serão construídas quando for executado o método fit deste objeto\n",
    "model = RandomForestClassifier(random_state=0, \n",
    "                               n_estimators=n_estimators)\n",
    "\n",
    "#--usa o backend-------------------------\n",
    "with parallel_backend('ipyparallel') :\n",
    "#----------------------------------------\n",
    "    #constrói as árvores (treina o modelo)\n",
    "    model.fit(X_train, y_train)\n",
    "    #faz a predição\n",
    "    y_pred_test  = model.predict(X_test)\n",
    "    y_pred_train = model.predict(X_train)\n",
    "\n",
    "#encontra o erro de classificação para test\n",
    "accu = metrics.accuracy_score(y_test, y_pred_test, normalize = False)\n",
    "trsi = y_test.size\n",
    "etes = ((trsi - accu) / (trsi)) * 100\n",
    "\n",
    "#encontra o erro de classificação para train\n",
    "accu = metrics.accuracy_score(y_train, y_pred_train, normalize = False)\n",
    "trsi = y_train.size\n",
    "etra = ((trsi - accu) / (trsi)) * 100\n",
    "\n",
    "#mostra o resultado\n",
    "t += time()\n",
    "print(f' Testset classification error is {etra:.2f}% ')\n",
    "print(f'Trainset classification error is {etes:.2f}% ')\n",
    "print(f\"Elapsed Time: {t:.4f} s  |  Number of Parallel Tasks: {ncli:0g}\")\n",
    "\n",
    "#--encerra-------------------------------\n",
    "icli.shutdown(hub=True)\n",
    "#----------------------------------------"
   ]
  },
  {
   "cell_type": "markdown",
   "metadata": {},
   "source": [
    "copia para SCRATCH:"
   ]
  },
  {
   "cell_type": "code",
   "execution_count": 143,
   "metadata": {},
   "outputs": [],
   "source": [
    "! cp *.py /scratch${PWD#/prj}/"
   ]
  },
  {
   "cell_type": "markdown",
   "metadata": {},
   "source": [
    "<hr style=\"height:10px;border-width:0;background-color:red\">"
   ]
  },
  {
   "cell_type": "markdown",
   "metadata": {},
   "source": [
    "## Rodando no SDumont"
   ]
  },
  {
   "cell_type": "markdown",
   "metadata": {
    "tags": []
   },
   "source": [
    "### Slurm script versão sequencial"
   ]
  },
  {
   "cell_type": "code",
   "execution_count": 144,
   "metadata": {},
   "outputs": [
    {
     "name": "stdout",
     "output_type": "stream",
     "text": [
      "Overwriting rfp2.srm\n"
     ]
    }
   ],
   "source": [
    "%%writefile rfp2.srm\n",
    "#!/bin/bash\n",
    "#SBATCH --job-name rfp2              # Job name\n",
    "#SBATCH --partition sequana_cpu_dev  # Select partition\n",
    "#SBATCH --ntasks=1                   # Total tasks(CPUs)\n",
    "# #SBATCH --nodes=1                    # Number of nodes\n",
    "# #SBATCH --ntasks-per-node=4          # Number of tasks per node\n",
    "#SBATCH --time=00:05:00              # Limit execution time\n",
    "#SBATCH --exclusive                  # Exclusive acccess to nodes\n",
    "\n",
    "echo '========================================'\n",
    "echo '- Job ID:' $SLURM_JOB_ID\n",
    "echo '- # of nodes in the job:' $SLURM_JOB_NUM_NODES\n",
    "echo '- # of tasks:' $SLURM_NTASKS\n",
    "echo '- Dir from which sbatch was invoked:' ${SLURM_SUBMIT_DIR##*/}\n",
    "cd $SLURM_SUBMIT_DIR\n",
    "echo -n '- Nodes allocated to the job: '\n",
    "nodeset -e $SLURM_JOB_NODELIST\n",
    "\n",
    "# get path\n",
    "BASE=/scratch${HOME#/prj}\n",
    "RF=/scratch${PWD#/prj}\n",
    "cd $RF\n",
    "# path to a directory which IPython will use for user data\n",
    "export IPYTHONDIR=$RF/.ipython            \n",
    "# load Python environment and MPI module\n",
    "source $BASE/env2/etc/profile.d/conda.sh\n",
    "conda activate $BASE/env2\n",
    "module load openmpi/gnu/4.0.1\n",
    "\n",
    "# Datasets\n",
    "DS1=X_train.npy\n",
    "DS2=y_train.npy\n",
    "\n",
    "# run\n",
    "echo -n '<1. starting python script > ' && date\n",
    "echo '-- output -----------------------------'\n",
    "python rf02.py ${PROFILE} ${DS1} ${DS2}\n",
    "echo '-- end --------------------------------'\n",
    "echo -n '<2. quit>                    ' && date"
   ]
  },
  {
   "cell_type": "markdown",
   "metadata": {
    "tags": []
   },
   "source": [
    "### Slurm script versão paralela"
   ]
  },
  {
   "cell_type": "code",
   "execution_count": 149,
   "metadata": {},
   "outputs": [
    {
     "name": "stdout",
     "output_type": "stream",
     "text": [
      "Overwriting rfp1.srm\n"
     ]
    }
   ],
   "source": [
    "%%writefile rfp1.srm\n",
    "#!/bin/bash\n",
    "#SBATCH --job-name rfp2              # Job name\n",
    "#SBATCH --partition sequana_cpu_dev  # Select partition\n",
    "#SBATCH --ntasks=1                   # Total tasks(CPUs)\n",
    "# #SBATCH --nodes=1                    # Number of nodes\n",
    "# #SBATCH --ntasks-per-node=4          # Number of tasks per node\n",
    "#SBATCH --time=00:05:00              # Limit execution time\n",
    "#SBATCH --exclusive                  # Exclusive acccess to nodes\n",
    "\n",
    "echo '========================================'\n",
    "echo '- Job ID:' $SLURM_JOB_ID\n",
    "echo '- # of nodes in the job:' $SLURM_JOB_NUM_NODES\n",
    "echo '- # of tasks:' $SLURM_NTASKS\n",
    "echo '- Dir from which sbatch was invoked:' ${SLURM_SUBMIT_DIR##*/}\n",
    "cd $SLURM_SUBMIT_DIR\n",
    "echo -n '- Nodes allocated to the job: '\n",
    "nodeset -e $SLURM_JOB_NODELIST\n",
    "\n",
    "# get path\n",
    "BASE=/scratch${HOME#/prj}\n",
    "RF=/scratch${PWD#/prj}\n",
    "cd $RF\n",
    "# path to a directory which IPython will use for user data\n",
    "export IPYTHONDIR=$RF/.ipython            \n",
    "# load Python environment and MPI module\n",
    "source $BASE/env2/etc/profile.d/conda.sh\n",
    "conda activate $BASE/env2\n",
    "module load openmpi/gnu/4.0.1\n",
    "\n",
    "echo -n '<1. starting ipython>        ' && date\n",
    "# create a new ipython profile appended with the job id number\n",
    "PROFILE=job_${SLURM_JOB_ID}\n",
    "ipython profile create ${PROFILE} --parallel --quiet\n",
    "\n",
    "echo -n '<2. starting ipcontroller>   ' && date\n",
    "# run ipcontroler on one core\n",
    "ipcontroller --ip=\"*\" --profile=${PROFILE} --quiet &\n",
    "sleep 10\n",
    "\n",
    "echo -n '<3. starting srun ipengines>  ' && date\n",
    "# run ipengine on each available core\n",
    "srun --mpi=pmi2 -n $SLURM_NTASKS \\\n",
    "    ipengine --location=$(hostname) --profile=${PROFILE} --quiet &\n",
    "sleep 25\n",
    "\n",
    "# Datasets\n",
    "DS1=X_train.npy\n",
    "DS2=y_train.npy\n",
    "\n",
    "# run\n",
    "echo -n '<4. starting python script > ' && date\n",
    "echo '-- output -----------------------------'\n",
    "python rf01.py ${PROFILE} ${DS1} ${DS2}\n",
    "echo '-- end --------------------------------'\n",
    "echo -n '<5. quit>                    ' && date\n",
    "sleep 25"
   ]
  },
  {
   "cell_type": "markdown",
   "metadata": {},
   "source": [
    "<hr style=\"height:10px;border-width:0;background-color:SteelBlue\">"
   ]
  },
  {
   "cell_type": "markdown",
   "metadata": {
    "tags": []
   },
   "source": [
    "## Versão sequencial"
   ]
  },
  {
   "cell_type": "code",
   "execution_count": 152,
   "metadata": {},
   "outputs": [
    {
     "name": "stdout",
     "output_type": "stream",
     "text": [
      "Submitted batch job 10412974\n"
     ]
    }
   ],
   "source": [
    "! sbatch rfp2.srm"
   ]
  },
  {
   "cell_type": "code",
   "execution_count": 153,
   "metadata": {},
   "outputs": [
    {
     "name": "stdout",
     "output_type": "stream",
     "text": [
      "        SUBMIT_TIME          START_TIME    JOBID          PARTITION NODES CPUS\n",
      "2022-02-05T20:07:19                 N/A 10412974    sequana_cpu_dev     1    1\n"
     ]
    }
   ],
   "source": [
    "! squeue --name=rfp2 --format=\"%.19V %.19S %.8i %.18P %.5D %.4C\""
   ]
  },
  {
   "cell_type": "code",
   "execution_count": 155,
   "metadata": {},
   "outputs": [
    {
     "name": "stdout",
     "output_type": "stream",
     "text": [
      "        SUBMIT_TIME          START_TIME    JOBID          PARTITION NODES CPUS\n"
     ]
    }
   ],
   "source": [
    "! squeue --name=rfp2 --format=\"%.19V %.19S %.8i %.18P %.5D %.4C\""
   ]
  },
  {
   "cell_type": "code",
   "execution_count": 156,
   "metadata": {},
   "outputs": [
    {
     "name": "stdout",
     "output_type": "stream",
     "text": [
      "========================================\n",
      "- Job ID: 10412974\n",
      "- # of nodes in the job: 1\n",
      "- # of tasks: 1\n",
      "- Dir from which sbatch was invoked: rf_p\n",
      "- Nodes allocated to the job: sdumont6259\n",
      "<1. starting python script > Sáb Fev  5 20:07:23 -03 2022\n",
      "-- output -----------------------------\n",
      " Testset classification error is 0.00% \n",
      "Trainset classification error is 0.00% \n",
      "Elapsed Time: 50.0818 s\n",
      "-- end --------------------------------\n",
      "<2. quit>                    Sáb Fev  5 20:08:23 -03 2022\n"
     ]
    }
   ],
   "source": [
    "! cat /scratch${PWD#/prj}/slurm-10412974.out"
   ]
  },
  {
   "cell_type": "code",
   "execution_count": null,
   "metadata": {},
   "outputs": [],
   "source": []
  },
  {
   "cell_type": "code",
   "execution_count": 145,
   "metadata": {},
   "outputs": [
    {
     "name": "stdout",
     "output_type": "stream",
     "text": [
      "Submitted batch job 10412973\n"
     ]
    }
   ],
   "source": [
    "! sbatch rfp2.srm"
   ]
  },
  {
   "cell_type": "code",
   "execution_count": 146,
   "metadata": {},
   "outputs": [
    {
     "name": "stdout",
     "output_type": "stream",
     "text": [
      "        SUBMIT_TIME          START_TIME    JOBID          PARTITION NODES CPUS\n",
      "2022-02-05T19:59:02 2022-02-05T19:59:02 10412973    sequana_cpu_dev     1   48\n"
     ]
    }
   ],
   "source": [
    "! squeue --name=rfp2 --format=\"%.19V %.19S %.8i %.18P %.5D %.4C\""
   ]
  },
  {
   "cell_type": "code",
   "execution_count": 150,
   "metadata": {},
   "outputs": [
    {
     "name": "stdout",
     "output_type": "stream",
     "text": [
      "        SUBMIT_TIME          START_TIME    JOBID          PARTITION NODES CPUS\n"
     ]
    }
   ],
   "source": [
    "! squeue --name=rfp2 --format=\"%.19V %.19S %.8i %.18P %.5D %.4C\""
   ]
  },
  {
   "cell_type": "code",
   "execution_count": 151,
   "metadata": {},
   "outputs": [
    {
     "name": "stdout",
     "output_type": "stream",
     "text": [
      "========================================\n",
      "- Job ID: 10412973\n",
      "- # of nodes in the job: 1\n",
      "- # of tasks: 1\n",
      "- Dir from which sbatch was invoked: rf_p\n",
      "- Nodes allocated to the job: sdumont6070\n",
      "<1. starting python script > Sáb Fev  5 19:59:04 -03 2022\n",
      "-- output -----------------------------\n",
      " Testset classification error is 0.00% \n",
      "Trainset classification error is 0.00% \n",
      "Elapsed Time: 50.6482 s\n",
      "-- end --------------------------------\n",
      "<2. quit>                    Sáb Fev  5 20:00:02 -03 2022\n"
     ]
    }
   ],
   "source": [
    "! cat /scratch${PWD#/prj}/slurm-10412973.out"
   ]
  },
  {
   "cell_type": "code",
   "execution_count": null,
   "metadata": {},
   "outputs": [],
   "source": []
  },
  {
   "cell_type": "code",
   "execution_count": 157,
   "metadata": {},
   "outputs": [
    {
     "name": "stdout",
     "output_type": "stream",
     "text": [
      "Submitted batch job 10412976\n"
     ]
    }
   ],
   "source": [
    "! sbatch rfp2.srm"
   ]
  },
  {
   "cell_type": "code",
   "execution_count": 158,
   "metadata": {},
   "outputs": [
    {
     "name": "stdout",
     "output_type": "stream",
     "text": [
      "        SUBMIT_TIME          START_TIME    JOBID          PARTITION NODES CPUS\n",
      "2022-02-05T20:12:33 2022-02-05T20:12:33 10412976    sequana_cpu_dev     1   48\n"
     ]
    }
   ],
   "source": [
    "! squeue --name=rfp2 --format=\"%.19V %.19S %.8i %.18P %.5D %.4C\""
   ]
  },
  {
   "cell_type": "code",
   "execution_count": 160,
   "metadata": {},
   "outputs": [
    {
     "name": "stdout",
     "output_type": "stream",
     "text": [
      "        SUBMIT_TIME          START_TIME    JOBID          PARTITION NODES CPUS\n"
     ]
    }
   ],
   "source": [
    "! squeue --name=rfp2 --format=\"%.19V %.19S %.8i %.18P %.5D %.4C\""
   ]
  },
  {
   "cell_type": "code",
   "execution_count": 161,
   "metadata": {},
   "outputs": [
    {
     "name": "stdout",
     "output_type": "stream",
     "text": [
      "========================================\n",
      "- Job ID: 10412976\n",
      "- # of nodes in the job: 1\n",
      "- # of tasks: 1\n",
      "- Dir from which sbatch was invoked: rf_p\n",
      "- Nodes allocated to the job: sdumont6259\n",
      "<1. starting python script > Sáb Fev  5 20:12:36 -03 2022\n",
      "-- output -----------------------------\n",
      " Testset classification error is 0.00% \n",
      "Trainset classification error is 0.00% \n",
      "Elapsed Time: 50.4262 s\n",
      "-- end --------------------------------\n",
      "<2. quit>                    Sáb Fev  5 20:13:31 -03 2022\n"
     ]
    }
   ],
   "source": [
    "! cat /scratch${PWD#/prj}/slurm-10412976.out"
   ]
  },
  {
   "cell_type": "code",
   "execution_count": null,
   "metadata": {},
   "outputs": [],
   "source": []
  },
  {
   "cell_type": "markdown",
   "metadata": {},
   "source": [
    "<hr style=\"height:10px;border-width:0;background-color:SteelBlue\">"
   ]
  },
  {
   "cell_type": "markdown",
   "metadata": {},
   "source": [
    "## Versão paralela"
   ]
  },
  {
   "cell_type": "markdown",
   "metadata": {},
   "source": [
    "verificando as partições que estão funcionando:"
   ]
  },
  {
   "cell_type": "code",
   "execution_count": 1,
   "metadata": {},
   "outputs": [
    {
     "name": "stdout",
     "output_type": "stream",
     "text": [
      "Submitted batch job 10412891\n"
     ]
    }
   ],
   "source": [
    "! sbatch  --partition=sequana_cpu_dev  rfp1.srm"
   ]
  },
  {
   "cell_type": "code",
   "execution_count": 2,
   "metadata": {},
   "outputs": [
    {
     "name": "stdout",
     "output_type": "stream",
     "text": [
      "        SUBMIT_TIME          START_TIME    JOBID PARTITION NODES CPUS\n",
      "2022-01-31T12:04:10                 N/A 10408361   cpu_dev     1    1\n",
      "2022-01-31T16:50:25                 N/A 10408686 cpu_small     1    1\n",
      "2022-02-05T15:20:58                 N/A 10412883 cpu_small     1    4\n",
      "2022-02-05T15:39:00 2022-02-05T15:39:01 10412891 sequana_c     1   48\n"
     ]
    }
   ],
   "source": [
    "! squeue --name=rfp1 --format=\"%.19V %.19S %.8i %.9P %.5D %.4C\""
   ]
  },
  {
   "cell_type": "code",
   "execution_count": 3,
   "metadata": {},
   "outputs": [
    {
     "name": "stdout",
     "output_type": "stream",
     "text": [
      "sbatch: error: Batch job submission failed: Invalid account or account/partition combination specified\n"
     ]
    }
   ],
   "source": [
    "! sbatch  --partition=sequana_cpu  rfp1.srm"
   ]
  },
  {
   "cell_type": "code",
   "execution_count": 4,
   "metadata": {},
   "outputs": [
    {
     "name": "stdout",
     "output_type": "stream",
     "text": [
      "Submitted batch job 10412893\n"
     ]
    }
   ],
   "source": [
    "! sbatch  --partition=sequana_cpu_shared  rfp1.srm"
   ]
  },
  {
   "cell_type": "code",
   "execution_count": 5,
   "metadata": {},
   "outputs": [
    {
     "name": "stdout",
     "output_type": "stream",
     "text": [
      "sbatch: error: Batch job submission failed: Invalid account or account/partition combination specified\n"
     ]
    }
   ],
   "source": [
    "! sbatch  --partition=sequana_gpu  rfp1.srm"
   ]
  },
  {
   "cell_type": "code",
   "execution_count": 6,
   "metadata": {},
   "outputs": [
    {
     "name": "stdout",
     "output_type": "stream",
     "text": [
      "sbatch: error: Batch job submission failed: Invalid account or account/partition combination specified\n"
     ]
    }
   ],
   "source": [
    "! sbatch  --partition=sequana_gpu_dev  rfp1.srm"
   ]
  },
  {
   "cell_type": "code",
   "execution_count": 7,
   "metadata": {},
   "outputs": [
    {
     "name": "stdout",
     "output_type": "stream",
     "text": [
      "Submitted batch job 10412894\n"
     ]
    }
   ],
   "source": [
    "! sbatch  --partition=sequana_gpu_shared  rfp1.srm"
   ]
  },
  {
   "cell_type": "code",
   "execution_count": 8,
   "metadata": {},
   "outputs": [
    {
     "name": "stdout",
     "output_type": "stream",
     "text": [
      "        SUBMIT_TIME          START_TIME    JOBID PARTITION NODES CPUS\n",
      "2022-01-31T12:04:10                 N/A 10408361   cpu_dev     1    1\n",
      "2022-01-31T16:50:25                 N/A 10408686 cpu_small     1    1\n",
      "2022-02-05T15:20:58                 N/A 10412883 cpu_small     1    4\n",
      "2022-02-05T15:43:17 2022-02-05T15:46:26 10412893 sequana_c     1    4\n",
      "2022-02-05T15:43:48                 N/A 10412894 sequana_g     1    4\n"
     ]
    }
   ],
   "source": [
    "! squeue --name=rfp1 --format=\"%.19V %.19S %.8i %.9P %.5D %.4C\""
   ]
  },
  {
   "cell_type": "code",
   "execution_count": 10,
   "metadata": {},
   "outputs": [
    {
     "name": "stdout",
     "output_type": "stream",
     "text": [
      "        SUBMIT_TIME          START_TIME    JOBID          PARTITION NODES CPUS\n",
      "2022-01-31T12:04:10                 N/A 10408361            cpu_dev     1    1\n",
      "2022-01-31T16:50:25                 N/A 10408686          cpu_small     1    1\n",
      "2022-02-05T15:20:58                 N/A 10412883          cpu_small     1    4\n"
     ]
    }
   ],
   "source": [
    "! squeue --name=rfp1 --format=\"%.19V %.19S %.8i %.18P %.5D %.4C\""
   ]
  },
  {
   "cell_type": "markdown",
   "metadata": {},
   "source": [
    "    partições que funcionam:\n",
    "    sequana_cpu_dev\n",
    "    sequana_cpu_shared\n",
    "    sequana_gpu_shared\n",
    "\n",
    "    246 nós computacionais Bull Sequana X1120 (CPU)\n",
    "    2x Intel Xeon Cascade Lake Gold 6252\n",
    "    48 núcleos (24c por CPU)\n",
    "    384Gb de memória RAM"
   ]
  },
  {
   "cell_type": "markdown",
   "metadata": {},
   "source": [
    "<hr style=\"height:10px;border-width:0;background-color:green\">"
   ]
  },
  {
   "cell_type": "markdown",
   "metadata": {},
   "source": [
    "# Run\n",
    "(sequana)"
   ]
  },
  {
   "cell_type": "markdown",
   "metadata": {},
   "source": [
    "### Run (1, 4, 8,16, 24, 32, 40, 48, 72, 96, 144, 192)"
   ]
  },
  {
   "cell_type": "code",
   "execution_count": 5,
   "metadata": {},
   "outputs": [
    {
     "name": "stdout",
     "output_type": "stream",
     "text": [
      "Submitted batch job 10412929\n"
     ]
    }
   ],
   "source": [
    "! sbatch rfp1.srm"
   ]
  },
  {
   "cell_type": "code",
   "execution_count": 6,
   "metadata": {},
   "outputs": [
    {
     "name": "stdout",
     "output_type": "stream",
     "text": [
      "        SUBMIT_TIME          START_TIME    JOBID          PARTITION NODES CPUS\n",
      "2022-02-05T17:47:18 2022-02-05T17:47:19 10412929    sequana_cpu_dev     1   48\n"
     ]
    }
   ],
   "source": [
    "! squeue --name=rfp2 --format=\"%.19V %.19S %.8i %.18P %.5D %.4C\""
   ]
  },
  {
   "cell_type": "code",
   "execution_count": 13,
   "metadata": {},
   "outputs": [
    {
     "name": "stdout",
     "output_type": "stream",
     "text": [
      "        SUBMIT_TIME          START_TIME    JOBID          PARTITION NODES CPUS\n"
     ]
    }
   ],
   "source": [
    "! squeue --name=rfp2 --format=\"%.19V %.19S %.8i %.18P %.5D %.4C\""
   ]
  },
  {
   "cell_type": "code",
   "execution_count": 14,
   "metadata": {},
   "outputs": [
    {
     "name": "stdout",
     "output_type": "stream",
     "text": [
      "========================================\n",
      "- Job ID: 10412929\n",
      "- # of nodes in the job: 1\n",
      "- # of tasks: 1\n",
      "- Dir from which sbatch was invoked: rf_p\n",
      "- Nodes allocated to the job: sdumont6258\n",
      "<1. starting ipython>        Sáb Fev  5 17:47:22 -03 2022\n",
      "<2. starting ipcontroller>   Sáb Fev  5 17:47:34 -03 2022\n",
      "<3. starting srun ipengines>  Sáb Fev  5 17:47:44 -03 2022\n",
      "<4. starting python script > Sáb Fev  5 17:48:09 -03 2022\n",
      "-- output -----------------------------\n",
      " Testset classification error is 0.00% \n",
      "Trainset classification error is 0.00% \n",
      "Elapsed Time: 94.3207 s  |  Number of Parallel Tasks: 1\n",
      "-- end --------------------------------\n",
      "<5. quit>                    Sáb Fev  5 17:50:04 -03 2022\n"
     ]
    }
   ],
   "source": [
    "! cat /scratch${PWD#/prj}/slurm-10412929.out"
   ]
  },
  {
   "cell_type": "markdown",
   "metadata": {},
   "source": [
    "---"
   ]
  },
  {
   "cell_type": "code",
   "execution_count": 15,
   "metadata": {},
   "outputs": [
    {
     "name": "stdout",
     "output_type": "stream",
     "text": [
      "Submitted batch job 10412933\n"
     ]
    }
   ],
   "source": [
    "! sbatch rfp1.srm"
   ]
  },
  {
   "cell_type": "code",
   "execution_count": null,
   "metadata": {},
   "outputs": [],
   "source": [
    "! squeue --name=rfp2 --format=\"%.19V %.19S %.8i %.18P %.5D %.4C\""
   ]
  },
  {
   "cell_type": "code",
   "execution_count": 17,
   "metadata": {},
   "outputs": [
    {
     "name": "stdout",
     "output_type": "stream",
     "text": [
      "        SUBMIT_TIME          START_TIME    JOBID          PARTITION NODES CPUS\n"
     ]
    }
   ],
   "source": [
    "! squeue --name=rfp2 --format=\"%.19V %.19S %.8i %.18P %.5D %.4C\""
   ]
  },
  {
   "cell_type": "code",
   "execution_count": 18,
   "metadata": {},
   "outputs": [
    {
     "name": "stdout",
     "output_type": "stream",
     "text": [
      "========================================\n",
      "- Job ID: 10412933\n",
      "- # of nodes in the job: 1\n",
      "- # of tasks: 1\n",
      "- Dir from which sbatch was invoked: rf_p\n",
      "- Nodes allocated to the job: sdumont6258\n",
      "<1. starting ipython>        Sáb Fev  5 17:54:21 -03 2022\n",
      "<2. starting ipcontroller>   Sáb Fev  5 17:54:33 -03 2022\n",
      "<3. starting srun ipengines>  Sáb Fev  5 17:54:43 -03 2022\n",
      "<4. starting python script > Sáb Fev  5 17:55:08 -03 2022\n",
      "-- output -----------------------------\n",
      " Testset classification error is 0.00% \n",
      "Trainset classification error is 0.00% \n",
      "Elapsed Time: 87.6599 s  |  Number of Parallel Tasks: 1\n",
      "-- end --------------------------------\n",
      "<5. quit>                    Sáb Fev  5 17:56:51 -03 2022\n"
     ]
    }
   ],
   "source": [
    "! cat /scratch${PWD#/prj}/slurm-10412933.out"
   ]
  },
  {
   "cell_type": "markdown",
   "metadata": {},
   "source": [
    "---"
   ]
  },
  {
   "cell_type": "code",
   "execution_count": 19,
   "metadata": {},
   "outputs": [
    {
     "name": "stdout",
     "output_type": "stream",
     "text": [
      "Submitted batch job 10412935\n"
     ]
    }
   ],
   "source": [
    "! sbatch rfp1.srm"
   ]
  },
  {
   "cell_type": "code",
   "execution_count": 20,
   "metadata": {},
   "outputs": [
    {
     "name": "stdout",
     "output_type": "stream",
     "text": [
      "        SUBMIT_TIME          START_TIME    JOBID          PARTITION NODES CPUS\n",
      "2022-02-05T18:01:13 2022-02-05T18:01:13 10412935    sequana_cpu_dev     1   48\n"
     ]
    }
   ],
   "source": [
    "! squeue --name=rfp2 --format=\"%.19V %.19S %.8i %.18P %.5D %.4C\""
   ]
  },
  {
   "cell_type": "code",
   "execution_count": 22,
   "metadata": {},
   "outputs": [
    {
     "name": "stdout",
     "output_type": "stream",
     "text": [
      "        SUBMIT_TIME          START_TIME    JOBID          PARTITION NODES CPUS\n"
     ]
    }
   ],
   "source": [
    "! squeue --name=rfp2 --format=\"%.19V %.19S %.8i %.18P %.5D %.4C\""
   ]
  },
  {
   "cell_type": "code",
   "execution_count": 23,
   "metadata": {},
   "outputs": [
    {
     "name": "stdout",
     "output_type": "stream",
     "text": [
      "========================================\n",
      "- Job ID: 10412935\n",
      "- # of nodes in the job: 1\n",
      "- # of tasks: 1\n",
      "- Dir from which sbatch was invoked: rf_p\n",
      "- Nodes allocated to the job: sdumont6259\n",
      "<1. starting ipython>        Sáb Fev  5 18:01:15 -03 2022\n",
      "<2. starting ipcontroller>   Sáb Fev  5 18:01:19 -03 2022\n",
      "<3. starting srun ipengines>  Sáb Fev  5 18:01:29 -03 2022\n",
      "<4. starting python script > Sáb Fev  5 18:01:54 -03 2022\n",
      "-- output -----------------------------\n",
      " Testset classification error is 0.00% \n",
      "Trainset classification error is 0.00% \n",
      "Elapsed Time: 87.7232 s  |  Number of Parallel Tasks: 1\n",
      "-- end --------------------------------\n",
      "<5. quit>                    Sáb Fev  5 18:03:24 -03 2022\n"
     ]
    }
   ],
   "source": [
    "! cat /scratch${PWD#/prj}/slurm-10412935.out"
   ]
  },
  {
   "cell_type": "markdown",
   "metadata": {},
   "source": [
    "<hr style=\"height:10px;border-width:0;background-color:green\">"
   ]
  },
  {
   "cell_type": "markdown",
   "metadata": {},
   "source": [
    "#### 4 processos"
   ]
  },
  {
   "cell_type": "code",
   "execution_count": 24,
   "metadata": {},
   "outputs": [
    {
     "name": "stdout",
     "output_type": "stream",
     "text": [
      "Submitted batch job 10412939\n"
     ]
    }
   ],
   "source": [
    "! sbatch --ntasks=4 rfp1.srm"
   ]
  },
  {
   "cell_type": "code",
   "execution_count": 25,
   "metadata": {},
   "outputs": [
    {
     "name": "stdout",
     "output_type": "stream",
     "text": [
      "        SUBMIT_TIME          START_TIME    JOBID          PARTITION NODES CPUS\n",
      "2022-02-05T18:06:41 2022-02-05T18:06:42 10412939    sequana_cpu_dev     1   48\n"
     ]
    }
   ],
   "source": [
    "! squeue --name=rfp2 --format=\"%.19V %.19S %.8i %.18P %.5D %.4C\""
   ]
  },
  {
   "cell_type": "code",
   "execution_count": 30,
   "metadata": {},
   "outputs": [
    {
     "name": "stdout",
     "output_type": "stream",
     "text": [
      "        SUBMIT_TIME          START_TIME    JOBID          PARTITION NODES CPUS\n"
     ]
    }
   ],
   "source": [
    "! squeue --name=rfp2 --format=\"%.19V %.19S %.8i %.18P %.5D %.4C\""
   ]
  },
  {
   "cell_type": "code",
   "execution_count": 31,
   "metadata": {},
   "outputs": [
    {
     "name": "stdout",
     "output_type": "stream",
     "text": [
      "========================================\n",
      "- Job ID: 10412939\n",
      "- # of nodes in the job: 1\n",
      "- # of tasks: 4\n",
      "- Dir from which sbatch was invoked: rf_p\n",
      "- Nodes allocated to the job: sdumont6165\n",
      "<1. starting ipython>        Sáb Fev  5 18:06:45 -03 2022\n",
      "<2. starting ipcontroller>   Sáb Fev  5 18:06:52 -03 2022\n",
      "<3. starting srun ipengines>  Sáb Fev  5 18:07:02 -03 2022\n",
      "<4. starting python script > Sáb Fev  5 18:07:27 -03 2022\n",
      "-- output -----------------------------\n",
      " Testset classification error is 0.00% \n",
      "Trainset classification error is 0.00% \n",
      "Elapsed Time: 39.1162 s  |  Number of Parallel Tasks: 4\n",
      "-- end --------------------------------\n",
      "<5. quit>                    Sáb Fev  5 18:08:14 -03 2022\n"
     ]
    }
   ],
   "source": [
    "! cat /scratch${PWD#/prj}/slurm-10412939.out"
   ]
  },
  {
   "cell_type": "markdown",
   "metadata": {},
   "source": [
    "---"
   ]
  },
  {
   "cell_type": "code",
   "execution_count": 32,
   "metadata": {},
   "outputs": [
    {
     "name": "stdout",
     "output_type": "stream",
     "text": [
      "Submitted batch job 10412941\n"
     ]
    }
   ],
   "source": [
    "! sbatch --ntasks=4 rfp1.srm"
   ]
  },
  {
   "cell_type": "code",
   "execution_count": 33,
   "metadata": {},
   "outputs": [
    {
     "name": "stdout",
     "output_type": "stream",
     "text": [
      "        SUBMIT_TIME          START_TIME    JOBID          PARTITION NODES CPUS\n",
      "2022-02-05T18:11:25 2022-02-05T18:11:26 10412941    sequana_cpu_dev     1   48\n"
     ]
    }
   ],
   "source": [
    "! squeue --name=rfp2 --format=\"%.19V %.19S %.8i %.18P %.5D %.4C\""
   ]
  },
  {
   "cell_type": "code",
   "execution_count": 36,
   "metadata": {},
   "outputs": [
    {
     "name": "stdout",
     "output_type": "stream",
     "text": [
      "        SUBMIT_TIME          START_TIME    JOBID          PARTITION NODES CPUS\n"
     ]
    }
   ],
   "source": [
    "! squeue --name=rfp2 --format=\"%.19V %.19S %.8i %.18P %.5D %.4C\""
   ]
  },
  {
   "cell_type": "code",
   "execution_count": 37,
   "metadata": {},
   "outputs": [
    {
     "name": "stdout",
     "output_type": "stream",
     "text": [
      "========================================\n",
      "- Job ID: 10412941\n",
      "- # of nodes in the job: 1\n",
      "- # of tasks: 4\n",
      "- Dir from which sbatch was invoked: rf_p\n",
      "- Nodes allocated to the job: sdumont6258\n",
      "<1. starting ipython>        Sáb Fev  5 18:11:28 -03 2022\n",
      "<2. starting ipcontroller>   Sáb Fev  5 18:11:34 -03 2022\n",
      "<3. starting srun ipengines>  Sáb Fev  5 18:11:44 -03 2022\n",
      "<4. starting python script > Sáb Fev  5 18:12:09 -03 2022\n",
      "-- output -----------------------------\n",
      " Testset classification error is 0.00% \n",
      "Trainset classification error is 0.00% \n",
      "Elapsed Time: 39.2560 s  |  Number of Parallel Tasks: 4\n",
      "-- end --------------------------------\n",
      "<5. quit>                    Sáb Fev  5 18:12:52 -03 2022\n"
     ]
    }
   ],
   "source": [
    "! cat /scratch${PWD#/prj}/slurm-10412941.out"
   ]
  },
  {
   "cell_type": "markdown",
   "metadata": {},
   "source": [
    "---"
   ]
  },
  {
   "cell_type": "code",
   "execution_count": 38,
   "metadata": {},
   "outputs": [
    {
     "name": "stdout",
     "output_type": "stream",
     "text": [
      "Submitted batch job 10412942\n"
     ]
    }
   ],
   "source": [
    "! sbatch --ntasks=4 rfp1.srm"
   ]
  },
  {
   "cell_type": "code",
   "execution_count": 39,
   "metadata": {},
   "outputs": [
    {
     "name": "stdout",
     "output_type": "stream",
     "text": [
      "        SUBMIT_TIME          START_TIME    JOBID          PARTITION NODES CPUS\n",
      "2022-02-05T18:15:39 2022-02-05T18:15:40 10412942    sequana_cpu_dev     1   48\n"
     ]
    }
   ],
   "source": [
    "! squeue --name=rfp2 --format=\"%.19V %.19S %.8i %.18P %.5D %.4C\""
   ]
  },
  {
   "cell_type": "code",
   "execution_count": 41,
   "metadata": {},
   "outputs": [
    {
     "name": "stdout",
     "output_type": "stream",
     "text": [
      "        SUBMIT_TIME          START_TIME    JOBID          PARTITION NODES CPUS\n"
     ]
    }
   ],
   "source": [
    "! squeue --name=rfp2 --format=\"%.19V %.19S %.8i %.18P %.5D %.4C\""
   ]
  },
  {
   "cell_type": "code",
   "execution_count": 42,
   "metadata": {},
   "outputs": [
    {
     "name": "stdout",
     "output_type": "stream",
     "text": [
      "========================================\n",
      "- Job ID: 10412942\n",
      "- # of nodes in the job: 1\n",
      "- # of tasks: 4\n",
      "- Dir from which sbatch was invoked: rf_p\n",
      "- Nodes allocated to the job: sdumont6258\n",
      "<1. starting ipython>        Sáb Fev  5 18:15:43 -03 2022\n",
      "<2. starting ipcontroller>   Sáb Fev  5 18:15:49 -03 2022\n",
      "<3. starting srun ipengines>  Sáb Fev  5 18:15:59 -03 2022\n",
      "<4. starting python script > Sáb Fev  5 18:16:24 -03 2022\n",
      "-- output -----------------------------\n",
      " Testset classification error is 0.00% \n",
      "Trainset classification error is 0.00% \n",
      "Elapsed Time: 37.5844 s  |  Number of Parallel Tasks: 4\n",
      "-- end --------------------------------\n",
      "<5. quit>                    Sáb Fev  5 18:17:08 -03 2022\n"
     ]
    }
   ],
   "source": [
    "! cat /scratch${PWD#/prj}/slurm-10412942.out"
   ]
  },
  {
   "cell_type": "markdown",
   "metadata": {},
   "source": [
    "<hr style=\"height:10px;border-width:0;background-color:green\">"
   ]
  },
  {
   "cell_type": "markdown",
   "metadata": {},
   "source": [
    "#### 8 processos"
   ]
  },
  {
   "cell_type": "code",
   "execution_count": 1,
   "metadata": {},
   "outputs": [
    {
     "name": "stdout",
     "output_type": "stream",
     "text": [
      "Submitted batch job 10413323\n"
     ]
    }
   ],
   "source": [
    "! sbatch --ntasks=8 rfp1.srm"
   ]
  },
  {
   "cell_type": "code",
   "execution_count": 2,
   "metadata": {},
   "outputs": [
    {
     "name": "stdout",
     "output_type": "stream",
     "text": [
      "        SUBMIT_TIME          START_TIME    JOBID          PARTITION NODES CPUS\n",
      "2022-02-06T20:39:26 2022-02-06T20:39:27 10413323    sequana_cpu_dev     1   48\n"
     ]
    }
   ],
   "source": [
    "! squeue --name=rfp2 --format=\"%.19V %.19S %.8i %.18P %.5D %.4C\""
   ]
  },
  {
   "cell_type": "code",
   "execution_count": 6,
   "metadata": {},
   "outputs": [
    {
     "name": "stdout",
     "output_type": "stream",
     "text": [
      "        SUBMIT_TIME          START_TIME    JOBID          PARTITION NODES CPUS\n",
      "2022-02-06T20:39:26 2022-02-06T20:39:27 10413323    sequana_cpu_dev     1   48\n"
     ]
    }
   ],
   "source": [
    "! squeue --name=rfp2 --format=\"%.19V %.19S %.8i %.18P %.5D %.4C\""
   ]
  },
  {
   "cell_type": "code",
   "execution_count": 28,
   "metadata": {},
   "outputs": [
    {
     "name": "stdout",
     "output_type": "stream",
     "text": [
      "========================================\n",
      "- Job ID: 10413323\n",
      "- # of nodes in the job: 1\n",
      "- # of tasks: 8\n",
      "- Dir from which sbatch was invoked: rf_p\n",
      "- Nodes allocated to the job: sdumont6194\n",
      "<1. starting ipython>        Dom Fev  6 20:39:29 -03 2022\n",
      "<2. starting ipcontroller>   Dom Fev  6 20:39:32 -03 2022\n",
      "<3. starting srun ipengines>  Dom Fev  6 20:39:42 -03 2022\n",
      "<4. starting python script > Dom Fev  6 20:40:07 -03 2022\n",
      "-- output -----------------------------\n",
      " Testset classification error is 0.00% \n",
      "Trainset classification error is 0.00% \n",
      "Elapsed Time: 40.8039 s  |  Number of Parallel Tasks: 8\n",
      "-- end --------------------------------\n",
      "<5. quit>                    Dom Fev  6 20:40:52 -03 2022\n"
     ]
    }
   ],
   "source": [
    "! cat /scratch${PWD#/prj}/slurm-10413323.out"
   ]
  },
  {
   "cell_type": "markdown",
   "metadata": {},
   "source": [
    "---"
   ]
  },
  {
   "cell_type": "code",
   "execution_count": 7,
   "metadata": {},
   "outputs": [
    {
     "name": "stdout",
     "output_type": "stream",
     "text": [
      "Submitted batch job 10413324\n"
     ]
    }
   ],
   "source": [
    "! sbatch --ntasks=8 rfp1.srm"
   ]
  },
  {
   "cell_type": "code",
   "execution_count": 8,
   "metadata": {},
   "outputs": [
    {
     "name": "stdout",
     "output_type": "stream",
     "text": [
      "        SUBMIT_TIME          START_TIME    JOBID          PARTITION NODES CPUS\n",
      "2022-02-06T20:39:26 2022-02-06T20:39:27 10413323    sequana_cpu_dev     1   48\n",
      "2022-02-06T20:41:48 2022-02-06T20:41:49 10413324    sequana_cpu_dev     1   48\n"
     ]
    }
   ],
   "source": [
    "! squeue --name=rfp2 --format=\"%.19V %.19S %.8i %.18P %.5D %.4C\""
   ]
  },
  {
   "cell_type": "code",
   "execution_count": 11,
   "metadata": {},
   "outputs": [
    {
     "name": "stdout",
     "output_type": "stream",
     "text": [
      "        SUBMIT_TIME          START_TIME    JOBID          PARTITION NODES CPUS\n",
      "2022-02-06T20:41:48 2022-02-06T20:41:49 10413324    sequana_cpu_dev     1   48\n",
      "2022-02-06T20:44:19 2022-02-06T20:44:19 10413325    sequana_cpu_dev     1   48\n"
     ]
    }
   ],
   "source": [
    "! squeue --name=rfp2 --format=\"%.19V %.19S %.8i %.18P %.5D %.4C\""
   ]
  },
  {
   "cell_type": "code",
   "execution_count": 12,
   "metadata": {},
   "outputs": [
    {
     "name": "stdout",
     "output_type": "stream",
     "text": [
      "========================================\n",
      "- Job ID: 10413324\n",
      "- # of nodes in the job: 1\n",
      "- # of tasks: 8\n",
      "- Dir from which sbatch was invoked: rf_p\n",
      "- Nodes allocated to the job: sdumont6078\n",
      "<1. starting ipython>        Dom Fev  6 20:41:51 -03 2022\n",
      "<2. starting ipcontroller>   Dom Fev  6 20:41:53 -03 2022\n",
      "<3. starting srun ipengines>  Dom Fev  6 20:42:03 -03 2022\n",
      "<4. starting python script > Dom Fev  6 20:42:28 -03 2022\n",
      "-- output -----------------------------\n",
      " Testset classification error is 0.00% \n",
      "Trainset classification error is 0.00% \n",
      "Elapsed Time: 40.3390 s  |  Number of Parallel Tasks: 8\n",
      "-- end --------------------------------\n",
      "<5. quit>                    Dom Fev  6 20:43:12 -03 2022\n"
     ]
    }
   ],
   "source": [
    "! cat /scratch${PWD#/prj}/slurm-10413324.out"
   ]
  },
  {
   "cell_type": "markdown",
   "metadata": {},
   "source": [
    "---"
   ]
  },
  {
   "cell_type": "code",
   "execution_count": 10,
   "metadata": {},
   "outputs": [
    {
     "name": "stdout",
     "output_type": "stream",
     "text": [
      "Submitted batch job 10413325\n"
     ]
    }
   ],
   "source": [
    "! sbatch --ntasks=8 rfp1.srm"
   ]
  },
  {
   "cell_type": "code",
   "execution_count": 14,
   "metadata": {},
   "outputs": [
    {
     "name": "stdout",
     "output_type": "stream",
     "text": [
      "        SUBMIT_TIME          START_TIME    JOBID          PARTITION NODES CPUS\n",
      "2022-02-06T20:44:19 2022-02-06T20:44:19 10413325    sequana_cpu_dev     1   48\n",
      "2022-02-06T20:46:44 2022-02-06T20:46:45 10413326    sequana_cpu_dev     3  144\n"
     ]
    }
   ],
   "source": [
    "! squeue --name=rfp2 --format=\"%.19V %.19S %.8i %.18P %.5D %.4C\""
   ]
  },
  {
   "cell_type": "code",
   "execution_count": 15,
   "metadata": {},
   "outputs": [
    {
     "name": "stdout",
     "output_type": "stream",
     "text": [
      "        SUBMIT_TIME          START_TIME    JOBID          PARTITION NODES CPUS\n",
      "2022-02-06T20:44:19 2022-02-06T20:44:19 10413325    sequana_cpu_dev     1   48\n",
      "2022-02-06T20:46:44 2022-02-06T20:46:45 10413326    sequana_cpu_dev     3  144\n"
     ]
    }
   ],
   "source": [
    "! squeue --name=rfp2 --format=\"%.19V %.19S %.8i %.18P %.5D %.4C\""
   ]
  },
  {
   "cell_type": "code",
   "execution_count": 16,
   "metadata": {},
   "outputs": [
    {
     "name": "stdout",
     "output_type": "stream",
     "text": [
      "========================================\n",
      "- Job ID: 10413325\n",
      "- # of nodes in the job: 1\n",
      "- # of tasks: 8\n",
      "- Dir from which sbatch was invoked: rf_p\n",
      "- Nodes allocated to the job: sdumont6194\n",
      "<1. starting ipython>        Dom Fev  6 20:44:23 -03 2022\n",
      "<2. starting ipcontroller>   Dom Fev  6 20:44:26 -03 2022\n",
      "<3. starting srun ipengines>  Dom Fev  6 20:44:36 -03 2022\n",
      "<4. starting python script > Dom Fev  6 20:45:01 -03 2022\n",
      "-- output -----------------------------\n",
      " Testset classification error is 0.00% \n",
      "Trainset classification error is 0.00% \n",
      "Elapsed Time: 40.8775 s  |  Number of Parallel Tasks: 8\n",
      "-- end --------------------------------\n",
      "<5. quit>                    Dom Fev  6 20:45:46 -03 2022\n"
     ]
    }
   ],
   "source": [
    "! cat /scratch${PWD#/prj}/slurm-10413325.out"
   ]
  },
  {
   "cell_type": "markdown",
   "metadata": {},
   "source": [
    "<hr style=\"height:10px;border-width:0;background-color:green\">"
   ]
  },
  {
   "cell_type": "markdown",
   "metadata": {},
   "source": [
    "#### 16 processos"
   ]
  },
  {
   "cell_type": "code",
   "execution_count": 43,
   "metadata": {},
   "outputs": [
    {
     "name": "stdout",
     "output_type": "stream",
     "text": [
      "Submitted batch job 10412944\n"
     ]
    }
   ],
   "source": [
    "! sbatch --ntasks=16 rfp1.srm"
   ]
  },
  {
   "cell_type": "code",
   "execution_count": 44,
   "metadata": {},
   "outputs": [
    {
     "name": "stdout",
     "output_type": "stream",
     "text": [
      "        SUBMIT_TIME          START_TIME    JOBID          PARTITION NODES CPUS\n",
      "2022-02-05T18:26:40 2022-02-05T18:26:40 10412944    sequana_cpu_dev     1   48\n"
     ]
    }
   ],
   "source": [
    "! squeue --name=rfp2 --format=\"%.19V %.19S %.8i %.18P %.5D %.4C\""
   ]
  },
  {
   "cell_type": "code",
   "execution_count": 48,
   "metadata": {},
   "outputs": [
    {
     "name": "stdout",
     "output_type": "stream",
     "text": [
      "        SUBMIT_TIME          START_TIME    JOBID          PARTITION NODES CPUS\n"
     ]
    }
   ],
   "source": [
    "! squeue --name=rfp2 --format=\"%.19V %.19S %.8i %.18P %.5D %.4C\""
   ]
  },
  {
   "cell_type": "code",
   "execution_count": 49,
   "metadata": {},
   "outputs": [
    {
     "name": "stdout",
     "output_type": "stream",
     "text": [
      "========================================\n",
      "- Job ID: 10412944\n",
      "- # of nodes in the job: 1\n",
      "- # of tasks: 16\n",
      "- Dir from which sbatch was invoked: rf_p\n",
      "- Nodes allocated to the job: sdumont6258\n",
      "<1. starting ipython>        Sáb Fev  5 18:26:44 -03 2022\n",
      "<2. starting ipcontroller>   Sáb Fev  5 18:26:54 -03 2022\n",
      "<3. starting srun ipengines>  Sáb Fev  5 18:27:04 -03 2022\n",
      "<4. starting python script > Sáb Fev  5 18:27:29 -03 2022\n",
      "-- output -----------------------------\n",
      " Testset classification error is 0.00% \n",
      "Trainset classification error is 0.00% \n",
      "Elapsed Time: 46.3013 s  |  Number of Parallel Tasks: 16\n",
      "-- end --------------------------------\n",
      "<5. quit>                    Sáb Fev  5 18:28:25 -03 2022\n"
     ]
    }
   ],
   "source": [
    "! cat /scratch${PWD#/prj}/slurm-10412944.out"
   ]
  },
  {
   "cell_type": "markdown",
   "metadata": {},
   "source": [
    "---"
   ]
  },
  {
   "cell_type": "code",
   "execution_count": 50,
   "metadata": {},
   "outputs": [
    {
     "name": "stdout",
     "output_type": "stream",
     "text": [
      "Submitted batch job 10412946\n"
     ]
    }
   ],
   "source": [
    "! sbatch --ntasks=16 rfp1.srm"
   ]
  },
  {
   "cell_type": "code",
   "execution_count": 51,
   "metadata": {},
   "outputs": [
    {
     "name": "stdout",
     "output_type": "stream",
     "text": [
      "        SUBMIT_TIME          START_TIME    JOBID          PARTITION NODES CPUS\n",
      "2022-02-05T18:30:10 2022-02-05T18:30:10 10412946    sequana_cpu_dev     1   48\n"
     ]
    }
   ],
   "source": [
    "! squeue --name=rfp2 --format=\"%.19V %.19S %.8i %.18P %.5D %.4C\""
   ]
  },
  {
   "cell_type": "code",
   "execution_count": 53,
   "metadata": {},
   "outputs": [
    {
     "name": "stdout",
     "output_type": "stream",
     "text": [
      "        SUBMIT_TIME          START_TIME    JOBID          PARTITION NODES CPUS\n"
     ]
    }
   ],
   "source": [
    "! squeue --name=rfp2 --format=\"%.19V %.19S %.8i %.18P %.5D %.4C\""
   ]
  },
  {
   "cell_type": "code",
   "execution_count": 54,
   "metadata": {},
   "outputs": [
    {
     "name": "stdout",
     "output_type": "stream",
     "text": [
      "========================================\n",
      "- Job ID: 10412946\n",
      "- # of nodes in the job: 1\n",
      "- # of tasks: 16\n",
      "- Dir from which sbatch was invoked: rf_p\n",
      "- Nodes allocated to the job: sdumont6258\n",
      "<1. starting ipython>        Sáb Fev  5 18:30:12 -03 2022\n",
      "<2. starting ipcontroller>   Sáb Fev  5 18:30:15 -03 2022\n",
      "<3. starting srun ipengines>  Sáb Fev  5 18:30:25 -03 2022\n",
      "<4. starting python script > Sáb Fev  5 18:30:50 -03 2022\n",
      "-- output -----------------------------\n",
      " Testset classification error is 0.00% \n",
      "Trainset classification error is 0.00% \n",
      "Elapsed Time: 45.8331 s  |  Number of Parallel Tasks: 16\n",
      "-- end --------------------------------\n",
      "<5. quit>                    Sáb Fev  5 18:31:39 -03 2022\n"
     ]
    }
   ],
   "source": [
    "! cat /scratch${PWD#/prj}/slurm-10412946.out"
   ]
  },
  {
   "cell_type": "markdown",
   "metadata": {},
   "source": [
    "---"
   ]
  },
  {
   "cell_type": "code",
   "execution_count": 55,
   "metadata": {},
   "outputs": [
    {
     "name": "stdout",
     "output_type": "stream",
     "text": [
      "Submitted batch job 10412947\n"
     ]
    }
   ],
   "source": [
    "! sbatch --ntasks=16 rfp1.srm"
   ]
  },
  {
   "cell_type": "code",
   "execution_count": 56,
   "metadata": {},
   "outputs": [
    {
     "name": "stdout",
     "output_type": "stream",
     "text": [
      "        SUBMIT_TIME          START_TIME    JOBID          PARTITION NODES CPUS\n",
      "2022-02-05T18:33:58 2022-02-05T18:33:58 10412947    sequana_cpu_dev     1   48\n"
     ]
    }
   ],
   "source": [
    "! squeue --name=rfp2 --format=\"%.19V %.19S %.8i %.18P %.5D %.4C\""
   ]
  },
  {
   "cell_type": "code",
   "execution_count": 59,
   "metadata": {},
   "outputs": [
    {
     "name": "stdout",
     "output_type": "stream",
     "text": [
      "        SUBMIT_TIME          START_TIME    JOBID          PARTITION NODES CPUS\n"
     ]
    }
   ],
   "source": [
    "! squeue --name=rfp2 --format=\"%.19V %.19S %.8i %.18P %.5D %.4C\""
   ]
  },
  {
   "cell_type": "code",
   "execution_count": 60,
   "metadata": {},
   "outputs": [
    {
     "name": "stdout",
     "output_type": "stream",
     "text": [
      "========================================\n",
      "- Job ID: 10412947\n",
      "- # of nodes in the job: 1\n",
      "- # of tasks: 16\n",
      "- Dir from which sbatch was invoked: rf_p\n",
      "- Nodes allocated to the job: sdumont6071\n",
      "<1. starting ipython>        Sáb Fev  5 18:34:02 -03 2022\n",
      "<2. starting ipcontroller>   Sáb Fev  5 18:34:09 -03 2022\n",
      "<3. starting srun ipengines>  Sáb Fev  5 18:34:19 -03 2022\n",
      "<4. starting python script > Sáb Fev  5 18:34:44 -03 2022\n",
      "-- output -----------------------------\n",
      " Testset classification error is 0.00% \n",
      "Trainset classification error is 0.00% \n",
      "Elapsed Time: 49.6915 s  |  Number of Parallel Tasks: 16\n",
      "-- end --------------------------------\n",
      "<5. quit>                    Sáb Fev  5 18:35:41 -03 2022\n"
     ]
    }
   ],
   "source": [
    "! cat /scratch${PWD#/prj}/slurm-10412947.out"
   ]
  },
  {
   "cell_type": "markdown",
   "metadata": {},
   "source": [
    "<hr style=\"height:10px;border-width:0;background-color:green\">"
   ]
  },
  {
   "cell_type": "markdown",
   "metadata": {},
   "source": [
    "#### 24 processos"
   ]
  },
  {
   "cell_type": "code",
   "execution_count": 61,
   "metadata": {},
   "outputs": [
    {
     "name": "stdout",
     "output_type": "stream",
     "text": [
      "Submitted batch job 10412948\n"
     ]
    }
   ],
   "source": [
    "! sbatch --ntasks=24 rfp1.srm"
   ]
  },
  {
   "cell_type": "code",
   "execution_count": 62,
   "metadata": {},
   "outputs": [
    {
     "name": "stdout",
     "output_type": "stream",
     "text": [
      "        SUBMIT_TIME          START_TIME    JOBID          PARTITION NODES CPUS\n",
      "2022-02-05T18:37:19 2022-02-05T18:37:20 10412948    sequana_cpu_dev     1   48\n"
     ]
    }
   ],
   "source": [
    "! squeue --name=rfp2 --format=\"%.19V %.19S %.8i %.18P %.5D %.4C\""
   ]
  },
  {
   "cell_type": "code",
   "execution_count": 65,
   "metadata": {},
   "outputs": [
    {
     "name": "stdout",
     "output_type": "stream",
     "text": [
      "        SUBMIT_TIME          START_TIME    JOBID          PARTITION NODES CPUS\n"
     ]
    }
   ],
   "source": [
    "! squeue --name=rfp2 --format=\"%.19V %.19S %.8i %.18P %.5D %.4C\""
   ]
  },
  {
   "cell_type": "code",
   "execution_count": 66,
   "metadata": {},
   "outputs": [
    {
     "name": "stdout",
     "output_type": "stream",
     "text": [
      "========================================\n",
      "- Job ID: 10412948\n",
      "- # of nodes in the job: 1\n",
      "- # of tasks: 24\n",
      "- Dir from which sbatch was invoked: rf_p\n",
      "- Nodes allocated to the job: sdumont6071\n",
      "<1. starting ipython>        Sáb Fev  5 18:37:22 -03 2022\n",
      "<2. starting ipcontroller>   Sáb Fev  5 18:37:26 -03 2022\n",
      "<3. starting srun ipengines>  Sáb Fev  5 18:37:36 -03 2022\n",
      "<4. starting python script > Sáb Fev  5 18:38:01 -03 2022\n",
      "-- output -----------------------------\n",
      " Testset classification error is 0.00% \n",
      "Trainset classification error is 0.00% \n",
      "Elapsed Time: 51.7565 s  |  Number of Parallel Tasks: 24\n",
      "-- end --------------------------------\n",
      "<5. quit>                    Sáb Fev  5 18:38:57 -03 2022\n"
     ]
    }
   ],
   "source": [
    "! cat /scratch${PWD#/prj}/slurm-10412948.out"
   ]
  },
  {
   "cell_type": "markdown",
   "metadata": {},
   "source": [
    "---"
   ]
  },
  {
   "cell_type": "code",
   "execution_count": 67,
   "metadata": {},
   "outputs": [
    {
     "name": "stdout",
     "output_type": "stream",
     "text": [
      "Submitted batch job 10412950\n"
     ]
    }
   ],
   "source": [
    "! sbatch --ntasks=24 rfp1.srm"
   ]
  },
  {
   "cell_type": "code",
   "execution_count": 68,
   "metadata": {},
   "outputs": [
    {
     "name": "stdout",
     "output_type": "stream",
     "text": [
      "        SUBMIT_TIME          START_TIME    JOBID          PARTITION NODES CPUS\n",
      "2022-02-05T18:43:23 2022-02-05T18:43:23 10412950    sequana_cpu_dev     1   48\n"
     ]
    }
   ],
   "source": [
    "! squeue --name=rfp2 --format=\"%.19V %.19S %.8i %.18P %.5D %.4C\""
   ]
  },
  {
   "cell_type": "code",
   "execution_count": 70,
   "metadata": {},
   "outputs": [
    {
     "name": "stdout",
     "output_type": "stream",
     "text": [
      "        SUBMIT_TIME          START_TIME    JOBID          PARTITION NODES CPUS\n"
     ]
    }
   ],
   "source": [
    "! squeue --name=rfp2 --format=\"%.19V %.19S %.8i %.18P %.5D %.4C\""
   ]
  },
  {
   "cell_type": "code",
   "execution_count": 71,
   "metadata": {},
   "outputs": [
    {
     "name": "stdout",
     "output_type": "stream",
     "text": [
      "========================================\n",
      "- Job ID: 10412950\n",
      "- # of nodes in the job: 1\n",
      "- # of tasks: 24\n",
      "- Dir from which sbatch was invoked: rf_p\n",
      "- Nodes allocated to the job: sdumont6227\n",
      "<1. starting ipython>        Sáb Fev  5 18:43:27 -03 2022\n",
      "<2. starting ipcontroller>   Sáb Fev  5 18:43:34 -03 2022\n",
      "<3. starting srun ipengines>  Sáb Fev  5 18:43:44 -03 2022\n",
      "<4. starting python script > Sáb Fev  5 18:44:09 -03 2022\n",
      "-- output -----------------------------\n",
      " Testset classification error is 0.00% \n",
      "Trainset classification error is 0.00% \n",
      "Elapsed Time: 53.5082 s  |  Number of Parallel Tasks: 24\n",
      "-- end --------------------------------\n",
      "<5. quit>                    Sáb Fev  5 18:45:08 -03 2022\n"
     ]
    }
   ],
   "source": [
    "! cat /scratch${PWD#/prj}/slurm-10412950.out"
   ]
  },
  {
   "cell_type": "markdown",
   "metadata": {},
   "source": [
    "---"
   ]
  },
  {
   "cell_type": "code",
   "execution_count": 72,
   "metadata": {},
   "outputs": [
    {
     "name": "stdout",
     "output_type": "stream",
     "text": [
      "Submitted batch job 10412951\n"
     ]
    }
   ],
   "source": [
    "! sbatch --ntasks=24 rfp1.srm"
   ]
  },
  {
   "cell_type": "code",
   "execution_count": 73,
   "metadata": {},
   "outputs": [
    {
     "name": "stdout",
     "output_type": "stream",
     "text": [
      "        SUBMIT_TIME          START_TIME    JOBID          PARTITION NODES CPUS\n",
      "2022-02-05T18:47:55 2022-02-05T18:47:55 10412951    sequana_cpu_dev     1   48\n"
     ]
    }
   ],
   "source": [
    "! squeue --name=rfp2 --format=\"%.19V %.19S %.8i %.18P %.5D %.4C\""
   ]
  },
  {
   "cell_type": "code",
   "execution_count": 77,
   "metadata": {},
   "outputs": [
    {
     "name": "stdout",
     "output_type": "stream",
     "text": [
      "        SUBMIT_TIME          START_TIME    JOBID          PARTITION NODES CPUS\n"
     ]
    }
   ],
   "source": [
    "! squeue --name=rfp2 --format=\"%.19V %.19S %.8i %.18P %.5D %.4C\""
   ]
  },
  {
   "cell_type": "code",
   "execution_count": 78,
   "metadata": {},
   "outputs": [
    {
     "name": "stdout",
     "output_type": "stream",
     "text": [
      "========================================\n",
      "- Job ID: 10412951\n",
      "- # of nodes in the job: 1\n",
      "- # of tasks: 24\n",
      "- Dir from which sbatch was invoked: rf_p\n",
      "- Nodes allocated to the job: sdumont6259\n",
      "<1. starting ipython>        Sáb Fev  5 18:47:57 -03 2022\n",
      "<2. starting ipcontroller>   Sáb Fev  5 18:48:01 -03 2022\n",
      "<3. starting srun ipengines>  Sáb Fev  5 18:48:11 -03 2022\n",
      "<4. starting python script > Sáb Fev  5 18:48:36 -03 2022\n",
      "-- output -----------------------------\n",
      " Testset classification error is 0.00% \n",
      "Trainset classification error is 0.00% \n",
      "Elapsed Time: 51.5409 s  |  Number of Parallel Tasks: 24\n",
      "-- end --------------------------------\n",
      "<5. quit>                    Sáb Fev  5 18:49:30 -03 2022\n"
     ]
    }
   ],
   "source": [
    "! cat /scratch${PWD#/prj}/slurm-10412951.out"
   ]
  },
  {
   "cell_type": "markdown",
   "metadata": {},
   "source": [
    "<hr style=\"height:10px;border-width:0;background-color:green\">"
   ]
  },
  {
   "cell_type": "markdown",
   "metadata": {},
   "source": [
    "#### 32 processos"
   ]
  },
  {
   "cell_type": "code",
   "execution_count": 47,
   "metadata": {},
   "outputs": [
    {
     "name": "stdout",
     "output_type": "stream",
     "text": [
      "Submitted batch job 10413335\n"
     ]
    }
   ],
   "source": [
    "! sbatch --ntasks=32 rfp1.srm"
   ]
  },
  {
   "cell_type": "code",
   "execution_count": 48,
   "metadata": {},
   "outputs": [
    {
     "name": "stdout",
     "output_type": "stream",
     "text": [
      "        SUBMIT_TIME          START_TIME    JOBID          PARTITION NODES CPUS\n",
      "2022-02-06T20:59:09 2022-02-06T20:59:10 10413333    sequana_cpu_dev     4  192\n",
      "2022-02-06T21:02:04 2022-02-06T21:02:05 10413335    sequana_cpu_dev     1   48\n"
     ]
    }
   ],
   "source": [
    "! squeue --name=rfp2 --format=\"%.19V %.19S %.8i %.18P %.5D %.4C\""
   ]
  },
  {
   "cell_type": "code",
   "execution_count": 56,
   "metadata": {},
   "outputs": [
    {
     "name": "stdout",
     "output_type": "stream",
     "text": [
      "        SUBMIT_TIME          START_TIME    JOBID          PARTITION NODES CPUS\n",
      "2022-02-06T21:02:04 2022-02-06T21:02:05 10413335    sequana_cpu_dev     1   48\n",
      "2022-02-06T21:04:26 2022-02-06T21:04:27 10413337    sequana_cpu_dev     1   48\n"
     ]
    }
   ],
   "source": [
    "! squeue --name=rfp2 --format=\"%.19V %.19S %.8i %.18P %.5D %.4C\""
   ]
  },
  {
   "cell_type": "code",
   "execution_count": 57,
   "metadata": {},
   "outputs": [
    {
     "name": "stdout",
     "output_type": "stream",
     "text": [
      "========================================\n",
      "- Job ID: 10413335\n",
      "- # of nodes in the job: 1\n",
      "- # of tasks: 32\n",
      "- Dir from which sbatch was invoked: rf_p\n",
      "- Nodes allocated to the job: sdumont6078\n",
      "<1. starting ipython>        Dom Fev  6 21:02:07 -03 2022\n",
      "<2. starting ipcontroller>   Dom Fev  6 21:02:11 -03 2022\n",
      "<3. starting srun ipengines>  Dom Fev  6 21:02:21 -03 2022\n",
      "<4. starting python script > Dom Fev  6 21:02:46 -03 2022\n",
      "-- output -----------------------------\n",
      " Testset classification error is 0.00% \n",
      "Trainset classification error is 0.00% \n",
      "Elapsed Time: 54.7904 s  |  Number of Parallel Tasks: 32\n",
      "-- end --------------------------------\n",
      "<5. quit>                    Dom Fev  6 21:03:44 -03 2022\n"
     ]
    }
   ],
   "source": [
    "! cat /scratch${PWD#/prj}/slurm-10413335.out"
   ]
  },
  {
   "cell_type": "markdown",
   "metadata": {},
   "source": [
    "---"
   ]
  },
  {
   "cell_type": "code",
   "execution_count": 52,
   "metadata": {},
   "outputs": [
    {
     "name": "stdout",
     "output_type": "stream",
     "text": [
      "Submitted batch job 10413337\n"
     ]
    }
   ],
   "source": [
    "! sbatch --ntasks=32 rfp1.srm"
   ]
  },
  {
   "cell_type": "code",
   "execution_count": 53,
   "metadata": {},
   "outputs": [
    {
     "name": "stdout",
     "output_type": "stream",
     "text": [
      "        SUBMIT_TIME          START_TIME    JOBID          PARTITION NODES CPUS\n",
      "2022-02-06T21:02:04 2022-02-06T21:02:05 10413335    sequana_cpu_dev     1   48\n",
      "2022-02-06T21:04:26 2022-02-06T21:04:27 10413337    sequana_cpu_dev     1   48\n"
     ]
    }
   ],
   "source": [
    "! squeue --name=rfp2 --format=\"%.19V %.19S %.8i %.18P %.5D %.4C\""
   ]
  },
  {
   "cell_type": "code",
   "execution_count": 61,
   "metadata": {},
   "outputs": [
    {
     "name": "stdout",
     "output_type": "stream",
     "text": [
      "        SUBMIT_TIME          START_TIME    JOBID          PARTITION NODES CPUS\n",
      "2022-02-06T21:07:21 2022-02-06T21:07:22 10413339    sequana_cpu_dev     1   48\n"
     ]
    }
   ],
   "source": [
    "! squeue --name=rfp2 --format=\"%.19V %.19S %.8i %.18P %.5D %.4C\""
   ]
  },
  {
   "cell_type": "code",
   "execution_count": 62,
   "metadata": {},
   "outputs": [
    {
     "name": "stdout",
     "output_type": "stream",
     "text": [
      "========================================\n",
      "- Job ID: 10413337\n",
      "- # of nodes in the job: 1\n",
      "- # of tasks: 32\n",
      "- Dir from which sbatch was invoked: rf_p\n",
      "- Nodes allocated to the job: sdumont6079\n",
      "<1. starting ipython>        Dom Fev  6 21:04:30 -03 2022\n",
      "<2. starting ipcontroller>   Dom Fev  6 21:04:33 -03 2022\n",
      "<3. starting srun ipengines>  Dom Fev  6 21:04:43 -03 2022\n",
      "<4. starting python script > Dom Fev  6 21:05:08 -03 2022\n",
      "-- output -----------------------------\n",
      " Testset classification error is 0.00% \n",
      "Trainset classification error is 0.00% \n",
      "Elapsed Time: 53.1173 s  |  Number of Parallel Tasks: 32\n",
      "-- end --------------------------------\n",
      "<5. quit>                    Dom Fev  6 21:06:05 -03 2022\n"
     ]
    }
   ],
   "source": [
    "! cat /scratch${PWD#/prj}/slurm-10413337.out"
   ]
  },
  {
   "cell_type": "markdown",
   "metadata": {},
   "source": [
    "---"
   ]
  },
  {
   "cell_type": "code",
   "execution_count": 58,
   "metadata": {},
   "outputs": [
    {
     "name": "stdout",
     "output_type": "stream",
     "text": [
      "Submitted batch job 10413339\n"
     ]
    }
   ],
   "source": [
    "! sbatch --ntasks=32 rfp1.srm"
   ]
  },
  {
   "cell_type": "code",
   "execution_count": 59,
   "metadata": {},
   "outputs": [
    {
     "name": "stdout",
     "output_type": "stream",
     "text": [
      "        SUBMIT_TIME          START_TIME    JOBID          PARTITION NODES CPUS\n",
      "2022-02-06T21:04:26 2022-02-06T21:04:27 10413337    sequana_cpu_dev     1   48\n",
      "2022-02-06T21:07:21 2022-02-06T21:07:22 10413339    sequana_cpu_dev     1   48\n"
     ]
    }
   ],
   "source": [
    "! squeue --name=rfp2 --format=\"%.19V %.19S %.8i %.18P %.5D %.4C\""
   ]
  },
  {
   "cell_type": "code",
   "execution_count": 66,
   "metadata": {},
   "outputs": [
    {
     "name": "stdout",
     "output_type": "stream",
     "text": [
      "        SUBMIT_TIME          START_TIME    JOBID          PARTITION NODES CPUS\n",
      "2022-02-06T21:10:15 2022-02-06T21:10:16 10413341    sequana_cpu_dev     1   48\n"
     ]
    }
   ],
   "source": [
    "! squeue --name=rfp2 --format=\"%.19V %.19S %.8i %.18P %.5D %.4C\""
   ]
  },
  {
   "cell_type": "code",
   "execution_count": 67,
   "metadata": {},
   "outputs": [
    {
     "name": "stdout",
     "output_type": "stream",
     "text": [
      "========================================\n",
      "- Job ID: 10413339\n",
      "- # of nodes in the job: 1\n",
      "- # of tasks: 32\n",
      "- Dir from which sbatch was invoked: rf_p\n",
      "- Nodes allocated to the job: sdumont6078\n",
      "<1. starting ipython>        Dom Fev  6 21:07:24 -03 2022\n",
      "<2. starting ipcontroller>   Dom Fev  6 21:07:26 -03 2022\n",
      "<3. starting srun ipengines>  Dom Fev  6 21:07:36 -03 2022\n",
      "<4. starting python script > Dom Fev  6 21:08:01 -03 2022\n",
      "-- output -----------------------------\n",
      " Testset classification error is 0.00% \n",
      "Trainset classification error is 0.00% \n",
      "Elapsed Time: 53.3153 s  |  Number of Parallel Tasks: 32\n",
      "-- end --------------------------------\n",
      "<5. quit>                    Dom Fev  6 21:08:57 -03 2022\n"
     ]
    }
   ],
   "source": [
    "! cat /scratch${PWD#/prj}/slurm-10413339.out"
   ]
  },
  {
   "cell_type": "markdown",
   "metadata": {},
   "source": [
    "<hr style=\"height:10px;border-width:0;background-color:green\">"
   ]
  },
  {
   "cell_type": "markdown",
   "metadata": {},
   "source": [
    "#### 40 processos"
   ]
  },
  {
   "cell_type": "code",
   "execution_count": 63,
   "metadata": {},
   "outputs": [
    {
     "name": "stdout",
     "output_type": "stream",
     "text": [
      "Submitted batch job 10413341\n"
     ]
    }
   ],
   "source": [
    "! sbatch --ntasks=40 rfp1.srm"
   ]
  },
  {
   "cell_type": "code",
   "execution_count": 64,
   "metadata": {},
   "outputs": [
    {
     "name": "stdout",
     "output_type": "stream",
     "text": [
      "        SUBMIT_TIME          START_TIME    JOBID          PARTITION NODES CPUS\n",
      "2022-02-06T21:07:21 2022-02-06T21:07:22 10413339    sequana_cpu_dev     1   48\n",
      "2022-02-06T21:10:15 2022-02-06T21:10:16 10413341    sequana_cpu_dev     1   48\n"
     ]
    }
   ],
   "source": [
    "! squeue --name=rfp2 --format=\"%.19V %.19S %.8i %.18P %.5D %.4C\""
   ]
  },
  {
   "cell_type": "code",
   "execution_count": 71,
   "metadata": {},
   "outputs": [
    {
     "name": "stdout",
     "output_type": "stream",
     "text": [
      "        SUBMIT_TIME          START_TIME    JOBID          PARTITION NODES CPUS\n",
      "2022-02-06T21:10:15 2022-02-06T21:10:16 10413341    sequana_cpu_dev     1   48\n",
      "2022-02-06T21:12:18 2022-02-06T21:12:18 10413343    sequana_cpu_dev     1   48\n"
     ]
    }
   ],
   "source": [
    "! squeue --name=rfp2 --format=\"%.19V %.19S %.8i %.18P %.5D %.4C\""
   ]
  },
  {
   "cell_type": "code",
   "execution_count": 72,
   "metadata": {},
   "outputs": [
    {
     "name": "stdout",
     "output_type": "stream",
     "text": [
      "========================================\n",
      "- Job ID: 10413341\n",
      "- # of nodes in the job: 1\n",
      "- # of tasks: 40\n",
      "- Dir from which sbatch was invoked: rf_p\n",
      "- Nodes allocated to the job: sdumont6258\n",
      "<1. starting ipython>        Dom Fev  6 21:10:18 -03 2022\n",
      "<2. starting ipcontroller>   Dom Fev  6 21:10:21 -03 2022\n",
      "<3. starting srun ipengines>  Dom Fev  6 21:10:31 -03 2022\n",
      "<4. starting python script > Dom Fev  6 21:10:56 -03 2022\n",
      "-- output -----------------------------\n",
      " Testset classification error is 0.00% \n",
      "Trainset classification error is 0.00% \n",
      "Elapsed Time: 52.1409 s  |  Number of Parallel Tasks: 40\n",
      "-- end --------------------------------\n",
      "<5. quit>                    Dom Fev  6 21:11:51 -03 2022\n"
     ]
    }
   ],
   "source": [
    "! cat /scratch${PWD#/prj}/slurm-10413341.out"
   ]
  },
  {
   "cell_type": "markdown",
   "metadata": {},
   "source": [
    "---"
   ]
  },
  {
   "cell_type": "code",
   "execution_count": 68,
   "metadata": {},
   "outputs": [
    {
     "name": "stdout",
     "output_type": "stream",
     "text": [
      "Submitted batch job 10413343\n"
     ]
    }
   ],
   "source": [
    "! sbatch --ntasks=40 rfp1.srm"
   ]
  },
  {
   "cell_type": "code",
   "execution_count": 69,
   "metadata": {},
   "outputs": [
    {
     "name": "stdout",
     "output_type": "stream",
     "text": [
      "        SUBMIT_TIME          START_TIME    JOBID          PARTITION NODES CPUS\n",
      "2022-02-06T21:10:15 2022-02-06T21:10:16 10413341    sequana_cpu_dev     1   48\n",
      "2022-02-06T21:12:18 2022-02-06T21:12:18 10413343    sequana_cpu_dev     1   48\n"
     ]
    }
   ],
   "source": [
    "! squeue --name=rfp2 --format=\"%.19V %.19S %.8i %.18P %.5D %.4C\""
   ]
  },
  {
   "cell_type": "code",
   "execution_count": 76,
   "metadata": {},
   "outputs": [
    {
     "name": "stdout",
     "output_type": "stream",
     "text": [
      "        SUBMIT_TIME          START_TIME    JOBID          PARTITION NODES CPUS\n",
      "2022-02-06T21:15:59 2022-02-06T21:15:59 10413345    sequana_cpu_dev     1   48\n"
     ]
    }
   ],
   "source": [
    "! squeue --name=rfp2 --format=\"%.19V %.19S %.8i %.18P %.5D %.4C\""
   ]
  },
  {
   "cell_type": "code",
   "execution_count": 77,
   "metadata": {},
   "outputs": [
    {
     "name": "stdout",
     "output_type": "stream",
     "text": [
      "========================================\n",
      "- Job ID: 10413343\n",
      "- # of nodes in the job: 1\n",
      "- # of tasks: 40\n",
      "- Dir from which sbatch was invoked: rf_p\n",
      "- Nodes allocated to the job: sdumont6259\n",
      "<1. starting ipython>        Dom Fev  6 21:12:21 -03 2022\n",
      "<2. starting ipcontroller>   Dom Fev  6 21:12:24 -03 2022\n",
      "<3. starting srun ipengines>  Dom Fev  6 21:12:35 -03 2022\n",
      "<4. starting python script > Dom Fev  6 21:13:00 -03 2022\n",
      "-- output -----------------------------\n",
      " Testset classification error is 0.00% \n",
      "Trainset classification error is 0.00% \n",
      "Elapsed Time: 55.0613 s  |  Number of Parallel Tasks: 40\n",
      "-- end --------------------------------\n",
      "<5. quit>                    Dom Fev  6 21:13:57 -03 2022\n"
     ]
    }
   ],
   "source": [
    "! cat /scratch${PWD#/prj}/slurm-10413343.out"
   ]
  },
  {
   "cell_type": "markdown",
   "metadata": {},
   "source": [
    "---"
   ]
  },
  {
   "cell_type": "code",
   "execution_count": 73,
   "metadata": {},
   "outputs": [
    {
     "name": "stdout",
     "output_type": "stream",
     "text": [
      "Submitted batch job 10413345\n"
     ]
    }
   ],
   "source": [
    "! sbatch --ntasks=40 rfp1.srm"
   ]
  },
  {
   "cell_type": "code",
   "execution_count": 74,
   "metadata": {},
   "outputs": [
    {
     "name": "stdout",
     "output_type": "stream",
     "text": [
      "        SUBMIT_TIME          START_TIME    JOBID          PARTITION NODES CPUS\n",
      "2022-02-06T21:15:59 2022-02-06T21:15:59 10413345    sequana_cpu_dev     1   48\n"
     ]
    }
   ],
   "source": [
    "! squeue --name=rfp2 --format=\"%.19V %.19S %.8i %.18P %.5D %.4C\""
   ]
  },
  {
   "cell_type": "code",
   "execution_count": 78,
   "metadata": {},
   "outputs": [
    {
     "name": "stdout",
     "output_type": "stream",
     "text": [
      "        SUBMIT_TIME          START_TIME    JOBID          PARTITION NODES CPUS\n",
      "2022-02-06T21:15:59 2022-02-06T21:15:59 10413345    sequana_cpu_dev     1   48\n"
     ]
    }
   ],
   "source": [
    "! squeue --name=rfp2 --format=\"%.19V %.19S %.8i %.18P %.5D %.4C\""
   ]
  },
  {
   "cell_type": "code",
   "execution_count": 79,
   "metadata": {},
   "outputs": [
    {
     "name": "stdout",
     "output_type": "stream",
     "text": [
      "========================================\n",
      "- Job ID: 10413345\n",
      "- # of nodes in the job: 1\n",
      "- # of tasks: 40\n",
      "- Dir from which sbatch was invoked: rf_p\n",
      "- Nodes allocated to the job: sdumont6258\n",
      "<1. starting ipython>        Dom Fev  6 21:16:01 -03 2022\n",
      "<2. starting ipcontroller>   Dom Fev  6 21:16:07 -03 2022\n",
      "<3. starting srun ipengines>  Dom Fev  6 21:16:17 -03 2022\n",
      "<4. starting python script > Dom Fev  6 21:16:42 -03 2022\n",
      "-- output -----------------------------\n",
      " Testset classification error is 0.00% \n",
      "Trainset classification error is 0.00% \n",
      "Elapsed Time: 56.5285 s  |  Number of Parallel Tasks: 40\n",
      "-- end --------------------------------\n",
      "<5. quit>                    Dom Fev  6 21:17:42 -03 2022\n"
     ]
    }
   ],
   "source": [
    "! cat /scratch${PWD#/prj}/slurm-10413345.out"
   ]
  },
  {
   "cell_type": "markdown",
   "metadata": {},
   "source": [
    "<hr style=\"height:10px;border-width:0;background-color:green\">"
   ]
  },
  {
   "cell_type": "markdown",
   "metadata": {},
   "source": [
    "#### 48 processos"
   ]
  },
  {
   "cell_type": "code",
   "execution_count": 79,
   "metadata": {},
   "outputs": [
    {
     "name": "stdout",
     "output_type": "stream",
     "text": [
      "Submitted batch job 10412955\n"
     ]
    }
   ],
   "source": [
    "! sbatch --ntasks=48 rfp1.srm"
   ]
  },
  {
   "cell_type": "code",
   "execution_count": 80,
   "metadata": {},
   "outputs": [
    {
     "name": "stdout",
     "output_type": "stream",
     "text": [
      "        SUBMIT_TIME          START_TIME    JOBID          PARTITION NODES CPUS\n",
      "2022-02-05T18:51:05 2022-02-05T18:51:05 10412955    sequana_cpu_dev     1   48\n"
     ]
    }
   ],
   "source": [
    "! squeue --name=rfp2 --format=\"%.19V %.19S %.8i %.18P %.5D %.4C\""
   ]
  },
  {
   "cell_type": "code",
   "execution_count": 82,
   "metadata": {},
   "outputs": [
    {
     "name": "stdout",
     "output_type": "stream",
     "text": [
      "        SUBMIT_TIME          START_TIME    JOBID          PARTITION NODES CPUS\n"
     ]
    }
   ],
   "source": [
    "! squeue --name=rfp2 --format=\"%.19V %.19S %.8i %.18P %.5D %.4C\""
   ]
  },
  {
   "cell_type": "code",
   "execution_count": 83,
   "metadata": {},
   "outputs": [
    {
     "name": "stdout",
     "output_type": "stream",
     "text": [
      "========================================\n",
      "- Job ID: 10412955\n",
      "- # of nodes in the job: 1\n",
      "- # of tasks: 48\n",
      "- Dir from which sbatch was invoked: rf_p\n",
      "- Nodes allocated to the job: sdumont6219\n",
      "<1. starting ipython>        Sáb Fev  5 18:51:08 -03 2022\n",
      "<2. starting ipcontroller>   Sáb Fev  5 18:51:16 -03 2022\n",
      "<3. starting srun ipengines>  Sáb Fev  5 18:51:26 -03 2022\n",
      "<4. starting python script > Sáb Fev  5 18:51:51 -03 2022\n",
      "-- output -----------------------------\n",
      " Testset classification error is 0.00% \n",
      "Trainset classification error is 0.00% \n",
      "Elapsed Time: 56.6844 s  |  Number of Parallel Tasks: 48\n",
      "-- end --------------------------------\n",
      "<5. quit>                    Sáb Fev  5 18:52:53 -03 2022\n"
     ]
    }
   ],
   "source": [
    "! cat /scratch${PWD#/prj}/slurm-10412955.out"
   ]
  },
  {
   "cell_type": "markdown",
   "metadata": {},
   "source": [
    "---"
   ]
  },
  {
   "cell_type": "code",
   "execution_count": 84,
   "metadata": {},
   "outputs": [
    {
     "name": "stdout",
     "output_type": "stream",
     "text": [
      "Submitted batch job 10412956\n"
     ]
    }
   ],
   "source": [
    "! sbatch --ntasks=48 rfp1.srm"
   ]
  },
  {
   "cell_type": "code",
   "execution_count": 85,
   "metadata": {},
   "outputs": [
    {
     "name": "stdout",
     "output_type": "stream",
     "text": [
      "        SUBMIT_TIME          START_TIME    JOBID          PARTITION NODES CPUS\n",
      "2022-02-05T18:55:43 2022-02-05T18:55:43 10412956    sequana_cpu_dev     1   48\n"
     ]
    }
   ],
   "source": [
    "! squeue --name=rfp2 --format=\"%.19V %.19S %.8i %.18P %.5D %.4C\""
   ]
  },
  {
   "cell_type": "code",
   "execution_count": 87,
   "metadata": {},
   "outputs": [
    {
     "name": "stdout",
     "output_type": "stream",
     "text": [
      "        SUBMIT_TIME          START_TIME    JOBID          PARTITION NODES CPUS\n"
     ]
    }
   ],
   "source": [
    "! squeue --name=rfp2 --format=\"%.19V %.19S %.8i %.18P %.5D %.4C\""
   ]
  },
  {
   "cell_type": "code",
   "execution_count": 88,
   "metadata": {},
   "outputs": [
    {
     "name": "stdout",
     "output_type": "stream",
     "text": [
      "========================================\n",
      "- Job ID: 10412956\n",
      "- # of nodes in the job: 1\n",
      "- # of tasks: 48\n",
      "- Dir from which sbatch was invoked: rf_p\n",
      "- Nodes allocated to the job: sdumont6259\n",
      "<1. starting ipython>        Sáb Fev  5 18:55:46 -03 2022\n",
      "<2. starting ipcontroller>   Sáb Fev  5 18:55:49 -03 2022\n",
      "<3. starting srun ipengines>  Sáb Fev  5 18:55:59 -03 2022\n",
      "<4. starting python script > Sáb Fev  5 18:56:24 -03 2022\n",
      "-- output -----------------------------\n",
      " Testset classification error is 0.00% \n",
      "Trainset classification error is 0.00% \n",
      "Elapsed Time: 53.4375 s  |  Number of Parallel Tasks: 48\n",
      "-- end --------------------------------\n",
      "<5. quit>                    Sáb Fev  5 18:57:21 -03 2022\n"
     ]
    }
   ],
   "source": [
    "! cat /scratch${PWD#/prj}/slurm-10412956.out"
   ]
  },
  {
   "cell_type": "markdown",
   "metadata": {},
   "source": [
    "---"
   ]
  },
  {
   "cell_type": "code",
   "execution_count": 89,
   "metadata": {},
   "outputs": [
    {
     "name": "stdout",
     "output_type": "stream",
     "text": [
      "Submitted batch job 10412957\n"
     ]
    }
   ],
   "source": [
    "! sbatch --ntasks=48 rfp1.srm"
   ]
  },
  {
   "cell_type": "code",
   "execution_count": 90,
   "metadata": {},
   "outputs": [
    {
     "name": "stdout",
     "output_type": "stream",
     "text": [
      "        SUBMIT_TIME          START_TIME    JOBID          PARTITION NODES CPUS\n",
      "2022-02-05T18:59:45 2022-02-05T18:59:46 10412957    sequana_cpu_dev     1   48\n"
     ]
    }
   ],
   "source": [
    "! squeue --name=rfp2 --format=\"%.19V %.19S %.8i %.18P %.5D %.4C\""
   ]
  },
  {
   "cell_type": "code",
   "execution_count": 92,
   "metadata": {},
   "outputs": [
    {
     "name": "stdout",
     "output_type": "stream",
     "text": [
      "        SUBMIT_TIME          START_TIME    JOBID          PARTITION NODES CPUS\n"
     ]
    }
   ],
   "source": [
    "! squeue --name=rfp2 --format=\"%.19V %.19S %.8i %.18P %.5D %.4C\""
   ]
  },
  {
   "cell_type": "code",
   "execution_count": 93,
   "metadata": {},
   "outputs": [
    {
     "name": "stdout",
     "output_type": "stream",
     "text": [
      "========================================\n",
      "- Job ID: 10412957\n",
      "- # of nodes in the job: 1\n",
      "- # of tasks: 48\n",
      "- Dir from which sbatch was invoked: rf_p\n",
      "- Nodes allocated to the job: sdumont6259\n",
      "<1. starting ipython>        Sáb Fev  5 18:59:49 -03 2022\n",
      "<2. starting ipcontroller>   Sáb Fev  5 18:59:56 -03 2022\n",
      "<3. starting srun ipengines>  Sáb Fev  5 19:00:06 -03 2022\n",
      "<4. starting python script > Sáb Fev  5 19:00:31 -03 2022\n",
      "-- output -----------------------------\n",
      " Testset classification error is 0.00% \n",
      "Trainset classification error is 0.00% \n",
      "Elapsed Time: 54.5202 s  |  Number of Parallel Tasks: 48\n",
      "-- end --------------------------------\n",
      "<5. quit>                    Sáb Fev  5 19:01:31 -03 2022\n"
     ]
    }
   ],
   "source": [
    "! cat /scratch${PWD#/prj}/slurm-10412957.out"
   ]
  },
  {
   "cell_type": "markdown",
   "metadata": {},
   "source": [
    "<hr style=\"height:10px;border-width:0;background-color:green\">"
   ]
  },
  {
   "cell_type": "markdown",
   "metadata": {},
   "source": [
    "#### 72 processos"
   ]
  },
  {
   "cell_type": "code",
   "execution_count": 94,
   "metadata": {},
   "outputs": [
    {
     "name": "stdout",
     "output_type": "stream",
     "text": [
      "Submitted batch job 10412960\n"
     ]
    }
   ],
   "source": [
    "! sbatch --ntasks=72 rfp1.srm"
   ]
  },
  {
   "cell_type": "code",
   "execution_count": 95,
   "metadata": {},
   "outputs": [
    {
     "name": "stdout",
     "output_type": "stream",
     "text": [
      "        SUBMIT_TIME          START_TIME    JOBID          PARTITION NODES CPUS\n",
      "2022-02-05T19:09:43 2022-02-05T19:09:44 10412960    sequana_cpu_dev     2   96\n"
     ]
    }
   ],
   "source": [
    "! squeue --name=rfp2 --format=\"%.19V %.19S %.8i %.18P %.5D %.4C\""
   ]
  },
  {
   "cell_type": "code",
   "execution_count": 97,
   "metadata": {},
   "outputs": [
    {
     "name": "stdout",
     "output_type": "stream",
     "text": [
      "        SUBMIT_TIME          START_TIME    JOBID          PARTITION NODES CPUS\n"
     ]
    }
   ],
   "source": [
    "! squeue --name=rfp2 --format=\"%.19V %.19S %.8i %.18P %.5D %.4C\""
   ]
  },
  {
   "cell_type": "code",
   "execution_count": 98,
   "metadata": {},
   "outputs": [
    {
     "name": "stdout",
     "output_type": "stream",
     "text": [
      "========================================\n",
      "- Job ID: 10412960\n",
      "- # of nodes in the job: 2\n",
      "- # of tasks: 72\n",
      "- Dir from which sbatch was invoked: rf_p\n",
      "- Nodes allocated to the job: sdumont6070 sdumont6071\n",
      "<1. starting ipython>        Sáb Fev  5 19:09:48 -03 2022\n",
      "<2. starting ipcontroller>   Sáb Fev  5 19:09:59 -03 2022\n",
      "<3. starting srun ipengines>  Sáb Fev  5 19:10:09 -03 2022\n",
      "<4. starting python script > Sáb Fev  5 19:10:34 -03 2022\n",
      "-- output -----------------------------\n",
      " Testset classification error is 0.00% \n",
      "Trainset classification error is 0.00% \n",
      "Elapsed Time: 50.8793 s  |  Number of Parallel Tasks: 72\n",
      "-- end --------------------------------\n",
      "<5. quit>                    Sáb Fev  5 19:11:33 -03 2022\n"
     ]
    }
   ],
   "source": [
    "! cat /scratch${PWD#/prj}/slurm-10412960.out"
   ]
  },
  {
   "cell_type": "markdown",
   "metadata": {},
   "source": [
    "---"
   ]
  },
  {
   "cell_type": "code",
   "execution_count": 99,
   "metadata": {},
   "outputs": [
    {
     "name": "stdout",
     "output_type": "stream",
     "text": [
      "Submitted batch job 10412962\n"
     ]
    }
   ],
   "source": [
    "! sbatch --ntasks=72 rfp1.srm"
   ]
  },
  {
   "cell_type": "code",
   "execution_count": 100,
   "metadata": {},
   "outputs": [
    {
     "name": "stdout",
     "output_type": "stream",
     "text": [
      "        SUBMIT_TIME          START_TIME    JOBID          PARTITION NODES CPUS\n",
      "2022-02-05T19:17:51 2022-02-05T19:17:51 10412962    sequana_cpu_dev     2   96\n"
     ]
    }
   ],
   "source": [
    "! squeue --name=rfp2 --format=\"%.19V %.19S %.8i %.18P %.5D %.4C\""
   ]
  },
  {
   "cell_type": "code",
   "execution_count": 102,
   "metadata": {},
   "outputs": [
    {
     "name": "stdout",
     "output_type": "stream",
     "text": [
      "        SUBMIT_TIME          START_TIME    JOBID          PARTITION NODES CPUS\n"
     ]
    }
   ],
   "source": [
    "! squeue --name=rfp2 --format=\"%.19V %.19S %.8i %.18P %.5D %.4C\""
   ]
  },
  {
   "cell_type": "code",
   "execution_count": 103,
   "metadata": {},
   "outputs": [
    {
     "name": "stdout",
     "output_type": "stream",
     "text": [
      "========================================\n",
      "- Job ID: 10412962\n",
      "- # of nodes in the job: 2\n",
      "- # of tasks: 72\n",
      "- Dir from which sbatch was invoked: rf_p\n",
      "- Nodes allocated to the job: sdumont6070 sdumont6071\n",
      "<1. starting ipython>        Sáb Fev  5 19:17:56 -03 2022\n",
      "<2. starting ipcontroller>   Sáb Fev  5 19:18:04 -03 2022\n",
      "<3. starting srun ipengines>  Sáb Fev  5 19:18:14 -03 2022\n",
      "<4. starting python script > Sáb Fev  5 19:18:39 -03 2022\n",
      "-- output -----------------------------\n",
      " Testset classification error is 0.00% \n",
      "Trainset classification error is 0.00% \n",
      "Elapsed Time: 53.2167 s  |  Number of Parallel Tasks: 72\n",
      "-- end --------------------------------\n",
      "<5. quit>                    Sáb Fev  5 19:19:38 -03 2022\n"
     ]
    }
   ],
   "source": [
    "! cat /scratch${PWD#/prj}/slurm-10412962.out"
   ]
  },
  {
   "cell_type": "markdown",
   "metadata": {},
   "source": [
    "---"
   ]
  },
  {
   "cell_type": "code",
   "execution_count": 104,
   "metadata": {},
   "outputs": [
    {
     "name": "stdout",
     "output_type": "stream",
     "text": [
      "Submitted batch job 10412963\n"
     ]
    }
   ],
   "source": [
    "! sbatch --ntasks=72 rfp1.srm"
   ]
  },
  {
   "cell_type": "code",
   "execution_count": 105,
   "metadata": {},
   "outputs": [
    {
     "name": "stdout",
     "output_type": "stream",
     "text": [
      "        SUBMIT_TIME          START_TIME    JOBID          PARTITION NODES CPUS\n",
      "2022-02-05T19:22:11 2022-02-05T19:22:11 10412963    sequana_cpu_dev     2   96\n"
     ]
    }
   ],
   "source": [
    "! squeue --name=rfp2 --format=\"%.19V %.19S %.8i %.18P %.5D %.4C\""
   ]
  },
  {
   "cell_type": "code",
   "execution_count": 107,
   "metadata": {},
   "outputs": [
    {
     "name": "stdout",
     "output_type": "stream",
     "text": [
      "        SUBMIT_TIME          START_TIME    JOBID          PARTITION NODES CPUS\n"
     ]
    }
   ],
   "source": [
    "! squeue --name=rfp2 --format=\"%.19V %.19S %.8i %.18P %.5D %.4C\""
   ]
  },
  {
   "cell_type": "code",
   "execution_count": 108,
   "metadata": {},
   "outputs": [
    {
     "name": "stdout",
     "output_type": "stream",
     "text": [
      "========================================\n",
      "- Job ID: 10412963\n",
      "- # of nodes in the job: 2\n",
      "- # of tasks: 72\n",
      "- Dir from which sbatch was invoked: rf_p\n",
      "- Nodes allocated to the job: sdumont6070 sdumont6071\n",
      "<1. starting ipython>        Sáb Fev  5 19:22:14 -03 2022\n",
      "<2. starting ipcontroller>   Sáb Fev  5 19:22:17 -03 2022\n",
      "<3. starting srun ipengines>  Sáb Fev  5 19:22:27 -03 2022\n",
      "<4. starting python script > Sáb Fev  5 19:22:52 -03 2022\n",
      "-- output -----------------------------\n",
      " Testset classification error is 0.00% \n",
      "Trainset classification error is 0.00% \n",
      "Elapsed Time: 54.8606 s  |  Number of Parallel Tasks: 72\n",
      "-- end --------------------------------\n",
      "<5. quit>                    Sáb Fev  5 19:23:49 -03 2022\n"
     ]
    }
   ],
   "source": [
    "! cat /scratch${PWD#/prj}/slurm-10412963.out"
   ]
  },
  {
   "cell_type": "markdown",
   "metadata": {},
   "source": [
    "<hr style=\"height:10px;border-width:0;background-color:green\">"
   ]
  },
  {
   "cell_type": "markdown",
   "metadata": {},
   "source": [
    "#### 96 processos"
   ]
  },
  {
   "cell_type": "code",
   "execution_count": 109,
   "metadata": {},
   "outputs": [
    {
     "name": "stdout",
     "output_type": "stream",
     "text": [
      "Submitted batch job 10412964\n"
     ]
    }
   ],
   "source": [
    "! sbatch --ntasks=96 rfp1.srm"
   ]
  },
  {
   "cell_type": "code",
   "execution_count": 110,
   "metadata": {},
   "outputs": [
    {
     "name": "stdout",
     "output_type": "stream",
     "text": [
      "        SUBMIT_TIME          START_TIME    JOBID          PARTITION NODES CPUS\n",
      "2022-02-05T19:26:43 2022-02-05T19:26:44 10412964    sequana_cpu_dev     2   96\n"
     ]
    }
   ],
   "source": [
    "! squeue --name=rfp2 --format=\"%.19V %.19S %.8i %.18P %.5D %.4C\""
   ]
  },
  {
   "cell_type": "code",
   "execution_count": 112,
   "metadata": {},
   "outputs": [
    {
     "name": "stdout",
     "output_type": "stream",
     "text": [
      "        SUBMIT_TIME          START_TIME    JOBID          PARTITION NODES CPUS\n"
     ]
    }
   ],
   "source": [
    "! squeue --name=rfp2 --format=\"%.19V %.19S %.8i %.18P %.5D %.4C\""
   ]
  },
  {
   "cell_type": "code",
   "execution_count": 113,
   "metadata": {},
   "outputs": [
    {
     "name": "stdout",
     "output_type": "stream",
     "text": [
      "========================================\n",
      "- Job ID: 10412964\n",
      "- # of nodes in the job: 2\n",
      "- # of tasks: 96\n",
      "- Dir from which sbatch was invoked: rf_p\n",
      "- Nodes allocated to the job: sdumont6070 sdumont6071\n",
      "<1. starting ipython>        Sáb Fev  5 19:26:48 -03 2022\n",
      "<2. starting ipcontroller>   Sáb Fev  5 19:26:57 -03 2022\n",
      "<3. starting srun ipengines>  Sáb Fev  5 19:27:07 -03 2022\n",
      "<4. starting python script > Sáb Fev  5 19:27:32 -03 2022\n",
      "-- output -----------------------------\n",
      " Testset classification error is 0.00% \n",
      "Trainset classification error is 0.00% \n",
      "Elapsed Time: 55.5443 s  |  Number of Parallel Tasks: 96\n",
      "-- end --------------------------------\n",
      "<5. quit>                    Sáb Fev  5 19:28:33 -03 2022\n"
     ]
    }
   ],
   "source": [
    "! cat /scratch${PWD#/prj}/slurm-10412964.out"
   ]
  },
  {
   "cell_type": "markdown",
   "metadata": {},
   "source": [
    "---"
   ]
  },
  {
   "cell_type": "code",
   "execution_count": 114,
   "metadata": {},
   "outputs": [
    {
     "name": "stdout",
     "output_type": "stream",
     "text": [
      "Submitted batch job 10412965\n"
     ]
    }
   ],
   "source": [
    "! sbatch --ntasks=96 rfp1.srm"
   ]
  },
  {
   "cell_type": "code",
   "execution_count": 115,
   "metadata": {},
   "outputs": [
    {
     "name": "stdout",
     "output_type": "stream",
     "text": [
      "        SUBMIT_TIME          START_TIME    JOBID          PARTITION NODES CPUS\n",
      "2022-02-05T19:30:50 2022-02-05T19:30:51 10412965    sequana_cpu_dev     2   96\n"
     ]
    }
   ],
   "source": [
    "! squeue --name=rfp2 --format=\"%.19V %.19S %.8i %.18P %.5D %.4C\""
   ]
  },
  {
   "cell_type": "code",
   "execution_count": 120,
   "metadata": {},
   "outputs": [
    {
     "name": "stdout",
     "output_type": "stream",
     "text": [
      "        SUBMIT_TIME          START_TIME    JOBID          PARTITION NODES CPUS\n"
     ]
    }
   ],
   "source": [
    "! squeue --name=rfp2 --format=\"%.19V %.19S %.8i %.18P %.5D %.4C\""
   ]
  },
  {
   "cell_type": "code",
   "execution_count": 121,
   "metadata": {},
   "outputs": [
    {
     "name": "stdout",
     "output_type": "stream",
     "text": [
      "========================================\n",
      "- Job ID: 10412965\n",
      "- # of nodes in the job: 2\n",
      "- # of tasks: 96\n",
      "- Dir from which sbatch was invoked: rf_p\n",
      "- Nodes allocated to the job: sdumont6070 sdumont6071\n",
      "<1. starting ipython>        Sáb Fev  5 19:30:53 -03 2022\n",
      "<2. starting ipcontroller>   Sáb Fev  5 19:30:57 -03 2022\n",
      "<3. starting srun ipengines>  Sáb Fev  5 19:31:07 -03 2022\n",
      "<4. starting python script > Sáb Fev  5 19:31:32 -03 2022\n",
      "-- output -----------------------------\n",
      " Testset classification error is 0.00% \n",
      "Trainset classification error is 0.00% \n",
      "Elapsed Time: 46.5548 s  |  Number of Parallel Tasks: 96\n",
      "-- end --------------------------------\n",
      "<5. quit>                    Sáb Fev  5 19:32:21 -03 2022\n"
     ]
    }
   ],
   "source": [
    "! cat /scratch${PWD#/prj}/slurm-10412965.out"
   ]
  },
  {
   "cell_type": "markdown",
   "metadata": {},
   "source": [
    "---"
   ]
  },
  {
   "cell_type": "code",
   "execution_count": 122,
   "metadata": {},
   "outputs": [
    {
     "name": "stdout",
     "output_type": "stream",
     "text": [
      "Submitted batch job 10412966\n"
     ]
    }
   ],
   "source": [
    "! sbatch --ntasks=96 rfp1.srm"
   ]
  },
  {
   "cell_type": "code",
   "execution_count": 123,
   "metadata": {},
   "outputs": [
    {
     "name": "stdout",
     "output_type": "stream",
     "text": [
      "        SUBMIT_TIME          START_TIME    JOBID          PARTITION NODES CPUS\n",
      "2022-02-05T19:37:20                 N/A 10412966    sequana_cpu_dev     2   96\n"
     ]
    }
   ],
   "source": [
    "! squeue --name=rfp2 --format=\"%.19V %.19S %.8i %.18P %.5D %.4C\""
   ]
  },
  {
   "cell_type": "code",
   "execution_count": 126,
   "metadata": {},
   "outputs": [
    {
     "name": "stdout",
     "output_type": "stream",
     "text": [
      "        SUBMIT_TIME          START_TIME    JOBID          PARTITION NODES CPUS\n"
     ]
    }
   ],
   "source": [
    "! squeue --name=rfp2 --format=\"%.19V %.19S %.8i %.18P %.5D %.4C\""
   ]
  },
  {
   "cell_type": "code",
   "execution_count": 127,
   "metadata": {},
   "outputs": [
    {
     "name": "stdout",
     "output_type": "stream",
     "text": [
      "========================================\n",
      "- Job ID: 10412966\n",
      "- # of nodes in the job: 2\n",
      "- # of tasks: 96\n",
      "- Dir from which sbatch was invoked: rf_p\n",
      "- Nodes allocated to the job: sdumont6070 sdumont6071\n",
      "<1. starting ipython>        Sáb Fev  5 19:37:25 -03 2022\n",
      "<2. starting ipcontroller>   Sáb Fev  5 19:37:33 -03 2022\n",
      "<3. starting srun ipengines>  Sáb Fev  5 19:37:43 -03 2022\n",
      "<4. starting python script > Sáb Fev  5 19:38:08 -03 2022\n",
      "-- output -----------------------------\n",
      " Testset classification error is 0.00% \n",
      "Trainset classification error is 0.00% \n",
      "Elapsed Time: 52.4524 s  |  Number of Parallel Tasks: 96\n",
      "-- end --------------------------------\n",
      "<5. quit>                    Sáb Fev  5 19:39:06 -03 2022\n"
     ]
    }
   ],
   "source": [
    "! cat /scratch${PWD#/prj}/slurm-10412966.out"
   ]
  },
  {
   "cell_type": "markdown",
   "metadata": {},
   "source": [
    "<hr style=\"height:10px;border-width:0;background-color:green\">"
   ]
  },
  {
   "cell_type": "markdown",
   "metadata": {},
   "source": [
    "#### 144 processos"
   ]
  },
  {
   "cell_type": "code",
   "execution_count": 13,
   "metadata": {},
   "outputs": [
    {
     "name": "stdout",
     "output_type": "stream",
     "text": [
      "Submitted batch job 10413326\n"
     ]
    }
   ],
   "source": [
    "! sbatch --ntasks=144 rfp1.srm"
   ]
  },
  {
   "cell_type": "code",
   "execution_count": 17,
   "metadata": {},
   "outputs": [
    {
     "name": "stdout",
     "output_type": "stream",
     "text": [
      "        SUBMIT_TIME          START_TIME    JOBID          PARTITION NODES CPUS\n",
      "2022-02-06T20:46:44 2022-02-06T20:46:45 10413326    sequana_cpu_dev     3  144\n"
     ]
    }
   ],
   "source": [
    "! squeue --name=rfp2 --format=\"%.19V %.19S %.8i %.18P %.5D %.4C\""
   ]
  },
  {
   "cell_type": "code",
   "execution_count": 20,
   "metadata": {},
   "outputs": [
    {
     "name": "stdout",
     "output_type": "stream",
     "text": [
      "        SUBMIT_TIME          START_TIME    JOBID          PARTITION NODES CPUS\n",
      "2022-02-06T20:46:44 2022-02-06T20:46:45 10413326    sequana_cpu_dev     3  144\n",
      "2022-02-06T20:48:54 2022-02-06T20:48:55 10413327    sequana_cpu_dev     3  144\n"
     ]
    }
   ],
   "source": [
    "! squeue --name=rfp2 --format=\"%.19V %.19S %.8i %.18P %.5D %.4C\""
   ]
  },
  {
   "cell_type": "code",
   "execution_count": 21,
   "metadata": {},
   "outputs": [
    {
     "name": "stdout",
     "output_type": "stream",
     "text": [
      "========================================\n",
      "- Job ID: 10413326\n",
      "- # of nodes in the job: 3\n",
      "- # of tasks: 144\n",
      "- Dir from which sbatch was invoked: rf_p\n",
      "- Nodes allocated to the job: sdumont6078 sdumont6079 sdumont6080\n",
      "<1. starting ipython>        Dom Fev  6 20:46:48 -03 2022\n",
      "<2. starting ipcontroller>   Dom Fev  6 20:46:53 -03 2022\n",
      "<3. starting srun ipengines>  Dom Fev  6 20:47:03 -03 2022\n",
      "<4. starting python script > Dom Fev  6 20:47:28 -03 2022\n",
      "-- output -----------------------------\n",
      " Testset classification error is 0.00% \n",
      "Trainset classification error is 0.00% \n",
      "Elapsed Time: 54.9976 s  |  Number of Parallel Tasks: 144\n",
      "-- end --------------------------------\n",
      "<5. quit>                    Dom Fev  6 20:48:26 -03 2022\n"
     ]
    }
   ],
   "source": [
    "! cat /scratch${PWD#/prj}/slurm-10413326.out"
   ]
  },
  {
   "cell_type": "markdown",
   "metadata": {},
   "source": [
    "---"
   ]
  },
  {
   "cell_type": "code",
   "execution_count": 19,
   "metadata": {},
   "outputs": [
    {
     "name": "stdout",
     "output_type": "stream",
     "text": [
      "Submitted batch job 10413327\n"
     ]
    }
   ],
   "source": [
    "! sbatch --ntasks=144 rfp1.srm"
   ]
  },
  {
   "cell_type": "code",
   "execution_count": 22,
   "metadata": {},
   "outputs": [
    {
     "name": "stdout",
     "output_type": "stream",
     "text": [
      "        SUBMIT_TIME          START_TIME    JOBID          PARTITION NODES CPUS\n",
      "2022-02-06T20:46:44 2022-02-06T20:46:45 10413326    sequana_cpu_dev     3  144\n",
      "2022-02-06T20:48:54 2022-02-06T20:48:55 10413327    sequana_cpu_dev     3  144\n"
     ]
    }
   ],
   "source": [
    "! squeue --name=rfp2 --format=\"%.19V %.19S %.8i %.18P %.5D %.4C\""
   ]
  },
  {
   "cell_type": "code",
   "execution_count": 26,
   "metadata": {},
   "outputs": [
    {
     "name": "stdout",
     "output_type": "stream",
     "text": [
      "        SUBMIT_TIME          START_TIME    JOBID          PARTITION NODES CPUS\n",
      "2022-02-06T20:48:54 2022-02-06T20:48:55 10413327    sequana_cpu_dev     3  144\n",
      "2022-02-06T20:51:07 2022-02-06T20:51:08 10413330    sequana_cpu_dev     3  144\n"
     ]
    }
   ],
   "source": [
    "! squeue --name=rfp2 --format=\"%.19V %.19S %.8i %.18P %.5D %.4C\""
   ]
  },
  {
   "cell_type": "code",
   "execution_count": 27,
   "metadata": {},
   "outputs": [
    {
     "name": "stdout",
     "output_type": "stream",
     "text": [
      "========================================\n",
      "- Job ID: 10413327\n",
      "- # of nodes in the job: 3\n",
      "- # of tasks: 144\n",
      "- Dir from which sbatch was invoked: rf_p\n",
      "- Nodes allocated to the job: sdumont6165 sdumont6166 sdumont6167\n",
      "<1. starting ipython>        Dom Fev  6 20:48:57 -03 2022\n",
      "<2. starting ipcontroller>   Dom Fev  6 20:49:00 -03 2022\n",
      "<3. starting srun ipengines>  Dom Fev  6 20:49:10 -03 2022\n",
      "<4. starting python script > Dom Fev  6 20:49:35 -03 2022\n",
      "-- output -----------------------------\n",
      " Testset classification error is 0.00% \n",
      "Trainset classification error is 0.00% \n",
      "Elapsed Time: 53.4333 s  |  Number of Parallel Tasks: 144\n",
      "-- end --------------------------------\n",
      "<5. quit>                    Dom Fev  6 20:50:31 -03 2022\n"
     ]
    }
   ],
   "source": [
    "! cat /scratch${PWD#/prj}/slurm-10413327.out"
   ]
  },
  {
   "cell_type": "markdown",
   "metadata": {},
   "source": [
    "---"
   ]
  },
  {
   "cell_type": "code",
   "execution_count": 24,
   "metadata": {},
   "outputs": [
    {
     "name": "stdout",
     "output_type": "stream",
     "text": [
      "Submitted batch job 10413330\n"
     ]
    }
   ],
   "source": [
    "! sbatch --ntasks=144 rfp1.srm"
   ]
  },
  {
   "cell_type": "code",
   "execution_count": 25,
   "metadata": {},
   "outputs": [
    {
     "name": "stdout",
     "output_type": "stream",
     "text": [
      "        SUBMIT_TIME          START_TIME    JOBID          PARTITION NODES CPUS\n",
      "2022-02-06T20:48:54 2022-02-06T20:48:55 10413327    sequana_cpu_dev     3  144\n",
      "2022-02-06T20:51:07 2022-02-06T20:51:08 10413330    sequana_cpu_dev     3  144\n"
     ]
    }
   ],
   "source": [
    "! squeue --name=rfp2 --format=\"%.19V %.19S %.8i %.18P %.5D %.4C\""
   ]
  },
  {
   "cell_type": "code",
   "execution_count": null,
   "metadata": {},
   "outputs": [],
   "source": [
    "! squeue --name=rfp2 --format=\"%.19V %.19S %.8i %.18P %.5D %.4C\""
   ]
  },
  {
   "cell_type": "code",
   "execution_count": 32,
   "metadata": {},
   "outputs": [
    {
     "name": "stdout",
     "output_type": "stream",
     "text": [
      "========================================\n",
      "- Job ID: 10413330\n",
      "- # of nodes in the job: 3\n",
      "- # of tasks: 144\n",
      "- Dir from which sbatch was invoked: rf_p\n",
      "- Nodes allocated to the job: sdumont6078 sdumont6079 sdumont6080\n",
      "<1. starting ipython>        Dom Fev  6 20:51:10 -03 2022\n",
      "<2. starting ipcontroller>   Dom Fev  6 20:51:15 -03 2022\n",
      "<3. starting srun ipengines>  Dom Fev  6 20:51:25 -03 2022\n",
      "<4. starting python script > Dom Fev  6 20:51:50 -03 2022\n",
      "-- output -----------------------------\n",
      " Testset classification error is 0.00% \n",
      "Trainset classification error is 0.00% \n",
      "Elapsed Time: 53.4492 s  |  Number of Parallel Tasks: 144\n",
      "-- end --------------------------------\n",
      "<5. quit>                    Dom Fev  6 20:52:47 -03 2022\n"
     ]
    }
   ],
   "source": [
    "! cat /scratch${PWD#/prj}/slurm-10413330.out"
   ]
  },
  {
   "cell_type": "markdown",
   "metadata": {},
   "source": [
    "<hr style=\"height:10px;border-width:0;background-color:green\">"
   ]
  },
  {
   "cell_type": "markdown",
   "metadata": {},
   "source": [
    "#### 192 processos"
   ]
  },
  {
   "cell_type": "code",
   "execution_count": 29,
   "metadata": {},
   "outputs": [
    {
     "name": "stdout",
     "output_type": "stream",
     "text": [
      "Submitted batch job 10413331\n"
     ]
    }
   ],
   "source": [
    "! sbatch --ntasks=192 rfp1.srm"
   ]
  },
  {
   "cell_type": "code",
   "execution_count": 30,
   "metadata": {},
   "outputs": [
    {
     "name": "stdout",
     "output_type": "stream",
     "text": [
      "        SUBMIT_TIME          START_TIME    JOBID          PARTITION NODES CPUS\n",
      "2022-02-06T20:51:07 2022-02-06T20:51:08 10413330    sequana_cpu_dev     3  144\n",
      "2022-02-06T20:53:40 2022-02-06T20:53:40 10413331    sequana_cpu_dev     4  192\n"
     ]
    }
   ],
   "source": [
    "! squeue --name=rfp2 --format=\"%.19V %.19S %.8i %.18P %.5D %.4C\""
   ]
  },
  {
   "cell_type": "code",
   "execution_count": 37,
   "metadata": {},
   "outputs": [
    {
     "name": "stdout",
     "output_type": "stream",
     "text": [
      "        SUBMIT_TIME          START_TIME    JOBID          PARTITION NODES CPUS\n",
      "2022-02-06T20:53:40 2022-02-06T20:53:40 10413331    sequana_cpu_dev     4  192\n",
      "2022-02-06T20:56:30 2022-02-06T20:56:30 10413332    sequana_cpu_dev     4  192\n"
     ]
    }
   ],
   "source": [
    "! squeue --name=rfp2 --format=\"%.19V %.19S %.8i %.18P %.5D %.4C\""
   ]
  },
  {
   "cell_type": "code",
   "execution_count": 38,
   "metadata": {},
   "outputs": [
    {
     "name": "stdout",
     "output_type": "stream",
     "text": [
      "========================================\n",
      "- Job ID: 10413331\n",
      "- # of nodes in the job: 4\n",
      "- # of tasks: 192\n",
      "- Dir from which sbatch was invoked: rf_p\n",
      "- Nodes allocated to the job: sdumont6165 sdumont6166 sdumont6167 sdumont6168\n",
      "<1. starting ipython>        Dom Fev  6 20:53:44 -03 2022\n",
      "<2. starting ipcontroller>   Dom Fev  6 20:53:49 -03 2022\n",
      "<3. starting srun ipengines>  Dom Fev  6 20:53:59 -03 2022\n",
      "<4. starting python script > Dom Fev  6 20:54:24 -03 2022\n",
      "-- output -----------------------------\n",
      " Testset classification error is 0.00% \n",
      "Trainset classification error is 0.00% \n",
      "Elapsed Time: 51.8143 s  |  Number of Parallel Tasks: 192\n",
      "-- end --------------------------------\n",
      "<5. quit>                    Dom Fev  6 20:55:20 -03 2022\n"
     ]
    }
   ],
   "source": [
    "! cat /scratch${PWD#/prj}/slurm-10413331.out"
   ]
  },
  {
   "cell_type": "markdown",
   "metadata": {},
   "source": [
    "---"
   ]
  },
  {
   "cell_type": "code",
   "execution_count": 34,
   "metadata": {},
   "outputs": [
    {
     "name": "stdout",
     "output_type": "stream",
     "text": [
      "Submitted batch job 10413332\n"
     ]
    }
   ],
   "source": [
    "! sbatch --ntasks=192 rfp1.srm"
   ]
  },
  {
   "cell_type": "code",
   "execution_count": 35,
   "metadata": {},
   "outputs": [
    {
     "name": "stdout",
     "output_type": "stream",
     "text": [
      "        SUBMIT_TIME          START_TIME    JOBID          PARTITION NODES CPUS\n",
      "2022-02-06T20:53:40 2022-02-06T20:53:40 10413331    sequana_cpu_dev     4  192\n",
      "2022-02-06T20:56:30 2022-02-06T20:56:30 10413332    sequana_cpu_dev     4  192\n"
     ]
    }
   ],
   "source": [
    "! squeue --name=rfp2 --format=\"%.19V %.19S %.8i %.18P %.5D %.4C\""
   ]
  },
  {
   "cell_type": "code",
   "execution_count": 43,
   "metadata": {},
   "outputs": [
    {
     "name": "stdout",
     "output_type": "stream",
     "text": [
      "        SUBMIT_TIME          START_TIME    JOBID          PARTITION NODES CPUS\n",
      "2022-02-06T20:56:30 2022-02-06T20:56:30 10413332    sequana_cpu_dev     4  192\n",
      "2022-02-06T20:59:09 2022-02-06T20:59:10 10413333    sequana_cpu_dev     4  192\n"
     ]
    }
   ],
   "source": [
    "! squeue --name=rfp2 --format=\"%.19V %.19S %.8i %.18P %.5D %.4C\""
   ]
  },
  {
   "cell_type": "code",
   "execution_count": 44,
   "metadata": {},
   "outputs": [
    {
     "name": "stdout",
     "output_type": "stream",
     "text": [
      "========================================\n",
      "- Job ID: 10413332\n",
      "- # of nodes in the job: 4\n",
      "- # of tasks: 192\n",
      "- Dir from which sbatch was invoked: rf_p\n",
      "- Nodes allocated to the job: sdumont6078 sdumont6079 sdumont6080 sdumont6081\n",
      "<1. starting ipython>        Dom Fev  6 20:56:32 -03 2022\n",
      "<2. starting ipcontroller>   Dom Fev  6 20:56:35 -03 2022\n",
      "<3. starting srun ipengines>  Dom Fev  6 20:56:45 -03 2022\n",
      "<4. starting python script > Dom Fev  6 20:57:10 -03 2022\n",
      "-- output -----------------------------\n",
      " Testset classification error is 0.00% \n",
      "Trainset classification error is 0.00% \n",
      "Elapsed Time: 51.2338 s  |  Number of Parallel Tasks: 192\n",
      "-- end --------------------------------\n",
      "<5. quit>                    Dom Fev  6 20:58:04 -03 2022\n"
     ]
    }
   ],
   "source": [
    "! cat /scratch${PWD#/prj}/slurm-10413332.out"
   ]
  },
  {
   "cell_type": "markdown",
   "metadata": {},
   "source": [
    "---"
   ]
  },
  {
   "cell_type": "code",
   "execution_count": 40,
   "metadata": {},
   "outputs": [
    {
     "name": "stdout",
     "output_type": "stream",
     "text": [
      "Submitted batch job 10413333\n"
     ]
    }
   ],
   "source": [
    "! sbatch --ntasks=192 rfp1.srm"
   ]
  },
  {
   "cell_type": "code",
   "execution_count": 41,
   "metadata": {},
   "outputs": [
    {
     "name": "stdout",
     "output_type": "stream",
     "text": [
      "        SUBMIT_TIME          START_TIME    JOBID          PARTITION NODES CPUS\n",
      "2022-02-06T20:56:30 2022-02-06T20:56:30 10413332    sequana_cpu_dev     4  192\n",
      "2022-02-06T20:59:09 2022-02-06T20:59:10 10413333    sequana_cpu_dev     4  192\n"
     ]
    }
   ],
   "source": [
    "! squeue --name=rfp2 --format=\"%.19V %.19S %.8i %.18P %.5D %.4C\""
   ]
  },
  {
   "cell_type": "code",
   "execution_count": 50,
   "metadata": {},
   "outputs": [
    {
     "name": "stdout",
     "output_type": "stream",
     "text": [
      "        SUBMIT_TIME          START_TIME    JOBID          PARTITION NODES CPUS\n",
      "2022-02-06T21:02:04 2022-02-06T21:02:05 10413335    sequana_cpu_dev     1   48\n"
     ]
    }
   ],
   "source": [
    "! squeue --name=rfp2 --format=\"%.19V %.19S %.8i %.18P %.5D %.4C\""
   ]
  },
  {
   "cell_type": "code",
   "execution_count": 51,
   "metadata": {},
   "outputs": [
    {
     "name": "stdout",
     "output_type": "stream",
     "text": [
      "========================================\n",
      "- Job ID: 10413333\n",
      "- # of nodes in the job: 4\n",
      "- # of tasks: 192\n",
      "- Dir from which sbatch was invoked: rf_p\n",
      "- Nodes allocated to the job: sdumont6165 sdumont6166 sdumont6167 sdumont6168\n",
      "<1. starting ipython>        Dom Fev  6 20:59:12 -03 2022\n",
      "<2. starting ipcontroller>   Dom Fev  6 20:59:16 -03 2022\n",
      "<3. starting srun ipengines>  Dom Fev  6 20:59:26 -03 2022\n",
      "<4. starting python script > Dom Fev  6 20:59:51 -03 2022\n",
      "-- output -----------------------------\n",
      " Testset classification error is 0.00% \n",
      "Trainset classification error is 0.00% \n",
      "Elapsed Time: 51.9483 s  |  Number of Parallel Tasks: 192\n",
      "-- end --------------------------------\n",
      "<5. quit>                    Dom Fev  6 21:00:47 -03 2022\n"
     ]
    }
   ],
   "source": [
    "! cat /scratch${PWD#/prj}/slurm-10413333.out"
   ]
  },
  {
   "cell_type": "code",
   "execution_count": null,
   "metadata": {},
   "outputs": [],
   "source": []
  }
 ],
 "metadata": {
  "colab": {
   "collapsed_sections": [],
   "name": "avaliate_speedup_rf_model.ipynb",
   "provenance": []
  },
  "kernelspec": {
   "display_name": "Python 3",
   "language": "python",
   "name": "python3"
  },
  "language_info": {
   "codemirror_mode": {
    "name": "ipython",
    "version": 3
   },
   "file_extension": ".py",
   "mimetype": "text/x-python",
   "name": "python",
   "nbconvert_exporter": "python",
   "pygments_lexer": "ipython3",
   "version": "3.8.5"
  },
  "toc-showtags": false
 },
 "nbformat": 4,
 "nbformat_minor": 4
}
