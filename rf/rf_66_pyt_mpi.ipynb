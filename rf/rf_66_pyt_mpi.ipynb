{
 "cells": [
  {
   "cell_type": "markdown",
   "metadata": {},
   "source": [
    "# RF PYTHON MPI 66 k"
   ]
  },
  {
   "cell_type": "code",
   "execution_count": 1,
   "metadata": {},
   "outputs": [
    {
     "name": "stdout",
     "output_type": "stream",
     "text": [
      "Overwriting rfpm6.py\n"
     ]
    }
   ],
   "source": [
    "%%writefile rfpm6.py\n",
    "import argparse, logging, os, sys, datetime, pandas as pd, numpy as np\n",
    "from joblib import Parallel, parallel_backend, register_parallel_backend\n",
    "from joblib import delayed, cpu_count\n",
    "from sklearn.impute import SimpleImputer\n",
    "from sklearn.ensemble import RandomForestClassifier\n",
    "from sklearn import metrics\n",
    "from scipy.io import arff\n",
    "import ipyparallel as ipp\n",
    "from ipyparallel.joblib import IPythonParallelBackend\n",
    "from time import time\n",
    "t = time()\n",
    "\n",
    "# Prepare the engines\n",
    "c = ipp.Client(profile = sys.argv[3])\n",
    "ncli = len(c.ids)\n",
    "bview = c.load_balanced_view()\n",
    "register_parallel_backend(\n",
    "    'ipyparallel',\n",
    "    lambda : IPythonParallelBackend(view = bview))\n",
    "\n",
    "# Get & prepare data\n",
    "data = arff.loadarff(sys.argv[1])\n",
    "df = pd.DataFrame(data[0])\n",
    "df = df.replace(b'N', 0)\n",
    "df = df.replace(b'Y', 1)\n",
    "df['class'] = df['class'].str.decode('utf-8').fillna(df['class'])\n",
    "y_train = df['class']\n",
    "X_train = df.drop(columns=['class'])\n",
    "imp = SimpleImputer(missing_values = np.nan, strategy = 'mean')\n",
    "df2 = pd.DataFrame(imp.fit_transform(X_train))\n",
    "df2.columns = X_train.columns\n",
    "df2.index = X_train.index\n",
    "X_train = df2\n",
    "\n",
    "datat = arff.loadarff(sys.argv[2])\n",
    "df = pd.DataFrame(datat[0])\n",
    "df = df.replace(b'N', 0)\n",
    "df = df.replace(b'Y', 1)\n",
    "df['class'] = df['class'].str.decode('utf-8').fillna(df['class'])\n",
    "y_test = df['class']\n",
    "X_test = df.drop(columns = ['class'])\n",
    "imp = SimpleImputer(missing_values = np.nan, strategy = 'mean')\n",
    "df2 = pd.DataFrame(imp.fit_transform(X_test))\n",
    "df2.columns = X_test.columns\n",
    "df2.index = X_test.index\n",
    "X_test = df2\n",
    "\n",
    "clf = RandomForestClassifier(n_estimators = 100)\n",
    "with parallel_backend('ipyparallel') :\n",
    "    clf.fit(X_train, y_train)\n",
    "\n",
    "y_pred_test  = clf.predict(X_test)\n",
    "y_pred_train = clf.predict(X_train)\n",
    "accu = metrics.accuracy_score(y_train, y_pred_train, normalize = False)\n",
    "trsi = y_train.size\n",
    "perr = ((trsi - accu) / (trsi)) * 100\n",
    "kapp = metrics.cohen_kappa_score(y_train, y_pred_train)\n",
    "print(f'Trainset classification error is {perr:.2f}% ',\n",
    "      f'of {trsi} (kappa: {kapp:.4f})')\n",
    "accu = metrics.accuracy_score(y_test, y_pred_test, normalize = False)\n",
    "trsi = y_test.size\n",
    "perr = ((trsi - accu) / (trsi)) * 100\n",
    "kapp = metrics.cohen_kappa_score(y_test, y_pred_test)\n",
    "print(f' Testset classification error is {perr:.2f}% ',\n",
    "      f'of {trsi} (kappa: {kapp:.4f})')\n",
    "\n",
    "t = time() - t\n",
    "print(f\"T: {t:.4f}  |  N: {ncli:0g}\")\n",
    "\n",
    "c.shutdown(hub=True, block=False)"
   ]
  },
  {
   "cell_type": "markdown",
   "metadata": {},
   "source": [
    "## Copy to /scratch"
   ]
  },
  {
   "cell_type": "code",
   "execution_count": 2,
   "metadata": {},
   "outputs": [],
   "source": [
    "! cp rfpm6.py /scratch${PWD#/prj}"
   ]
  },
  {
   "cell_type": "markdown",
   "metadata": {},
   "source": [
    "## Slurm script"
   ]
  },
  {
   "cell_type": "code",
   "execution_count": 3,
   "metadata": {},
   "outputs": [
    {
     "name": "stdout",
     "output_type": "stream",
     "text": [
      "Overwriting rfpm6.srm\n"
     ]
    }
   ],
   "source": [
    "%%writefile rfpm6.srm\n",
    "#!/bin/bash\n",
    "#SBATCH --job-name rfpm6       # Job name\n",
    "#SBATCH --partition cpu_small  # Select partition\n",
    "#SBATCH --ntasks=1             # Total tasks(CPUs)\n",
    "#SBATCH --time=00:10:00        # Limit execution time\n",
    "#SBATCH --exclusive            # Exclusive acccess to nodes\n",
    "\n",
    "echo '========================================'\n",
    "echo '- Job ID:' $SLURM_JOB_ID\n",
    "echo '- # of nodes in the job:' $SLURM_JOB_NUM_NODES\n",
    "echo '- # of tasks:' $SLURM_NTASKS\n",
    "echo '- Dir from which sbatch was invoked:' ${SLURM_SUBMIT_DIR##*/}\n",
    "cd $SLURM_SUBMIT_DIR\n",
    "echo -n '- Nodes allocated to the job: '\n",
    "nodeset -e $SLURM_JOB_NODELIST\n",
    "\n",
    "# get path\n",
    "RF=/scratch${PWD#/prj}\n",
    "SCR=${RF%/rf}\n",
    "cd $RF\n",
    "# path to a directory which IPython will use for user data\n",
    "export IPYTHONDIR=$SCR/.ipython\n",
    "              \n",
    "# load Python environment and MPI module\n",
    "source $SCR/env2/etc/profile.d/conda.sh\n",
    "conda activate $SCR/env2\n",
    "module load openmpi/gnu/4.0.1\n",
    "\n",
    "echo -n '<1. starting ipython>        ' && date\n",
    "# create a new ipython profile appended with the job id number\n",
    "PROFILE=job_${SLURM_JOB_ID}\n",
    "ipython profile create ${PROFILE} --parallel --quiet\n",
    "\n",
    "echo -n '<2. starting ipcontroller>   ' && date\n",
    "# run ipcontroler on one core\n",
    "ipcontroller --ip=\"*\" --profile=${PROFILE} --quiet &\n",
    "sleep 10\n",
    "\n",
    "echo -n '<3. starting srun ipengine>  ' && date\n",
    "# run ipengine on each available core\n",
    "srun --mpi=pmi2 -n $SLURM_NTASKS \\\n",
    "    ipengine --location=$(hostname) --profile=${PROFILE} --quiet &\n",
    "sleep 25\n",
    "\n",
    "# Executable\n",
    "DT1=\"datasets/asteroid-train-66k.arff\"\n",
    "DT2=\"datasets/asteroid-test-34k.arff\"\n",
    "EXEC=\"rfpm6.py ${DT1} ${DT2} ${PROFILE}\"\n",
    "\n",
    "# run\n",
    "echo -n '<4. starting python script > ' && date\n",
    "echo '-- output -----------------------------'\n",
    "python ${EXEC}\n",
    "echo '-- end --------------------------------'\n",
    "echo -n '<5. quit>                    ' && date\n",
    "sleep 25"
   ]
  },
  {
   "cell_type": "markdown",
   "metadata": {},
   "source": [
    "## Check"
   ]
  },
  {
   "cell_type": "code",
   "execution_count": 4,
   "metadata": {},
   "outputs": [
    {
     "name": "stdout",
     "output_type": "stream",
     "text": [
      "Submitted batch job 1377056\n"
     ]
    }
   ],
   "source": [
    "! sbatch --partition cpu_dev --ntasks=96 rfpm6.srm"
   ]
  },
  {
   "cell_type": "code",
   "execution_count": 5,
   "metadata": {},
   "outputs": [
    {
     "name": "stdout",
     "output_type": "stream",
     "text": [
      "        SUBMIT_TIME          START_TIME    JOBID PARTITION NODES CPUS\n",
      "2021-10-05T19:56:31 2021-10-05T19:56:32  1377056   cpu_dev     4   96\n"
     ]
    }
   ],
   "source": [
    "! squeue --name=rfpm6 --partition=cpu_dev --format=\"%.19V %.19S %.8i %.9P %.5D %.4C\""
   ]
  },
  {
   "cell_type": "code",
   "execution_count": 8,
   "metadata": {},
   "outputs": [
    {
     "name": "stdout",
     "output_type": "stream",
     "text": [
      "        SUBMIT_TIME          START_TIME    JOBID PARTITION NODES CPUS\n"
     ]
    }
   ],
   "source": [
    "! squeue --name=rfpm6 --partition=cpu_dev --format=\"%.19V %.19S %.8i %.9P %.5D %.4C\""
   ]
  },
  {
   "cell_type": "code",
   "execution_count": 9,
   "metadata": {},
   "outputs": [
    {
     "name": "stdout",
     "output_type": "stream",
     "text": [
      "========================================\n",
      "- Job ID: 1377056\n",
      "- # of nodes in the job: 4\n",
      "- # of tasks: 96\n",
      "- Dir from which sbatch was invoked: rf\n",
      "- Nodes allocated to the job: sdumont1244 sdumont1245 sdumont1246 sdumont1247\n",
      "<1. starting ipython>        Ter Out  5 19:56:48 -03 2021\n",
      "<2. starting ipcontroller>   Ter Out  5 19:57:43 -03 2021\n",
      "<3. starting srun ipengine>  Ter Out  5 19:57:53 -03 2021\n",
      "<4. starting python script > Ter Out  5 19:58:18 -03 2021\n",
      "-- output -----------------------------\n",
      "Trainset classification error is 0.00%  of 66000 (kappa: 1.0000)\n",
      " Testset classification error is 0.00%  of 34000 (kappa: 0.9997)\n",
      "T: 38.8848  |  N: 96\n",
      "-- end --------------------------------\n",
      "<5. quit>                    Ter Out  5 20:00:32 -03 2021\n"
     ]
    }
   ],
   "source": [
    "! cat /scratch${PWD#/prj}/slurm-1377056.out"
   ]
  },
  {
   "cell_type": "code",
   "execution_count": 29,
   "metadata": {},
   "outputs": [
    {
     "name": "stdout",
     "output_type": "stream",
     "text": [
      "   JobName NCPUS NNodes     MaxRSS    MaxRSSNode              Submit               Start    Elapsed    CPUTime \n",
      "---------- ----- ------ ---------- ------------- ------------------- ------------------- ---------- ---------- \n",
      "     rfpm6    96      4                          2021-10-05T19:56:31 2021-10-05T19:56:32   00:04:25   07:04:00 \n",
      "     batch    24      1   2219516K   sdumont1244 2021-10-05T19:56:32 2021-10-05T19:56:32   00:04:25   01:46:00 \n",
      "  ipengine    96      4    128284K   sdumont1244 2021-10-05T19:57:53 2021-10-05T19:57:53   00:02:40   04:16:00 \n"
     ]
    }
   ],
   "source": [
    "! sacct --jobs=1377056 --format=jobname,ncpus%5,nnodes%6,maxrss,maxrssnode%13,submit,start,elapsed,cputime"
   ]
  },
  {
   "cell_type": "code",
   "execution_count": null,
   "metadata": {},
   "outputs": [],
   "source": []
  },
  {
   "cell_type": "code",
   "execution_count": 10,
   "metadata": {},
   "outputs": [
    {
     "name": "stdout",
     "output_type": "stream",
     "text": [
      "Submitted batch job 1377058\n"
     ]
    }
   ],
   "source": [
    "! sbatch --partition cpu_dev --ntasks=1 rfpm6.srm"
   ]
  },
  {
   "cell_type": "code",
   "execution_count": 11,
   "metadata": {},
   "outputs": [
    {
     "name": "stdout",
     "output_type": "stream",
     "text": [
      "        SUBMIT_TIME          START_TIME    JOBID PARTITION NODES CPUS\n",
      "2021-10-05T20:01:33 2021-10-05T20:01:34  1377058   cpu_dev     1   24\n"
     ]
    }
   ],
   "source": [
    "! squeue --name=rfpm6 --partition=cpu_dev --format=\"%.19V %.19S %.8i %.9P %.5D %.4C\""
   ]
  },
  {
   "cell_type": "code",
   "execution_count": 16,
   "metadata": {},
   "outputs": [
    {
     "name": "stdout",
     "output_type": "stream",
     "text": [
      "        SUBMIT_TIME          START_TIME    JOBID PARTITION NODES CPUS\n"
     ]
    }
   ],
   "source": [
    "! squeue --name=rfpm6 --partition=cpu_dev --format=\"%.19V %.19S %.8i %.9P %.5D %.4C\""
   ]
  },
  {
   "cell_type": "code",
   "execution_count": 17,
   "metadata": {},
   "outputs": [
    {
     "name": "stdout",
     "output_type": "stream",
     "text": [
      "========================================\n",
      "- Job ID: 1377058\n",
      "- # of nodes in the job: 1\n",
      "- # of tasks: 1\n",
      "- Dir from which sbatch was invoked: rf\n",
      "- Nodes allocated to the job: sdumont1244\n",
      "<1. starting ipython>        Ter Out  5 20:01:42 -03 2021\n",
      "<2. starting ipcontroller>   Ter Out  5 20:02:16 -03 2021\n",
      "<3. starting srun ipengine>  Ter Out  5 20:02:26 -03 2021\n",
      "<4. starting python script > Ter Out  5 20:02:51 -03 2021\n",
      "-- output -----------------------------\n",
      "Trainset classification error is 0.00%  of 66000 (kappa: 1.0000)\n",
      " Testset classification error is 0.00%  of 34000 (kappa: 0.9997)\n",
      "T: 28.1289  |  N: 1\n",
      "-- end --------------------------------\n",
      "<5. quit>                    Ter Out  5 20:04:09 -03 2021\n"
     ]
    }
   ],
   "source": [
    "! cat /scratch${PWD#/prj}/slurm-1377058.out"
   ]
  },
  {
   "cell_type": "code",
   "execution_count": 18,
   "metadata": {},
   "outputs": [
    {
     "name": "stdout",
     "output_type": "stream",
     "text": [
      "   JobName      NCPUS   NNodes     MaxRSS    MaxRSSNode               Start    Elapsed    CPUTime \n",
      "---------- ---------- -------- ---------- ------------- ------------------- ---------- ---------- \n",
      "     rfpm6         24        1                          2021-10-05T20:01:34   00:03:00   01:12:00 \n",
      "     batch         24        1   1682044K   sdumont1244 2021-10-05T20:01:34   00:03:00   01:12:00 \n",
      "  ipengine          1        1    334804K   sdumont1244 2021-10-05T20:02:27   00:01:42   00:01:42 \n"
     ]
    }
   ],
   "source": [
    "! sacct --jobs=1377058 --format=jobname,ncpus,nnodes,maxrss,maxrssnode%13,start,elapsed,cputime"
   ]
  },
  {
   "cell_type": "code",
   "execution_count": null,
   "metadata": {},
   "outputs": [],
   "source": []
  },
  {
   "cell_type": "markdown",
   "metadata": {},
   "source": [
    "## Run"
   ]
  },
  {
   "cell_type": "markdown",
   "metadata": {},
   "source": [
    "### 1 of (1, 4, 16, 24, 48, 72, 96)"
   ]
  },
  {
   "cell_type": "code",
   "execution_count": 19,
   "metadata": {
    "scrolled": true
   },
   "outputs": [
    {
     "name": "stdout",
     "output_type": "stream",
     "text": [
      "Submitted batch job 1377061\n",
      "Submitted batch job 1377062\n",
      "Submitted batch job 1377063\n",
      "Submitted batch job 1377064\n"
     ]
    }
   ],
   "source": [
    "%%bash\n",
    "sbatch --ntasks=1 rfpm6.srm\n",
    "sbatch --ntasks=1 rfpm6.srm\n",
    "sbatch --ntasks=1 rfpm6.srm\n",
    "sbatch --ntasks=1 rfpm6.srm"
   ]
  },
  {
   "cell_type": "code",
   "execution_count": null,
   "metadata": {},
   "outputs": [],
   "source": [
    "%%bash\n",
    "cat /scratch${PWD#/prj}/slurm-xxx.out\n",
    "cat /scratch${PWD#/prj}/slurm-XXXX.out\n",
    "cat /scratch${PWD#/prj}/slurm-XXXX.out\n",
    "cat /scratch${PWD#/prj}/slurm-XXXX.out"
   ]
  },
  {
   "cell_type": "markdown",
   "metadata": {},
   "source": [
    "### 4 of (1, 4, 16, 24, 48, 72, 96)"
   ]
  },
  {
   "cell_type": "code",
   "execution_count": 20,
   "metadata": {
    "scrolled": true
   },
   "outputs": [
    {
     "name": "stdout",
     "output_type": "stream",
     "text": [
      "Submitted batch job 1377065\n",
      "Submitted batch job 1377066\n",
      "Submitted batch job 1377067\n",
      "Submitted batch job 1377068\n"
     ]
    }
   ],
   "source": [
    "%%bash\n",
    "sbatch --ntasks=4 rfpm6.srm\n",
    "sbatch --ntasks=4 rfpm6.srm\n",
    "sbatch --ntasks=4 rfpm6.srm\n",
    "sbatch --ntasks=4 rfpm6.srm"
   ]
  },
  {
   "cell_type": "code",
   "execution_count": null,
   "metadata": {},
   "outputs": [],
   "source": [
    "%%bash\n",
    "cat /scratch${PWD#/prj}/slurm-XXXX.out\n",
    "cat /scratch${PWD#/prj}/slurm-XXXX.out\n",
    "cat /scratch${PWD#/prj}/slurm-XXXX.out\n",
    "cat /scratch${PWD#/prj}/slurm-XXXX.out"
   ]
  },
  {
   "cell_type": "markdown",
   "metadata": {},
   "source": [
    "### 16 of (1, 4, 16, 24, 48, 72, 96)"
   ]
  },
  {
   "cell_type": "code",
   "execution_count": 21,
   "metadata": {
    "scrolled": true
   },
   "outputs": [
    {
     "name": "stdout",
     "output_type": "stream",
     "text": [
      "Submitted batch job 1377069\n",
      "Submitted batch job 1377070\n",
      "Submitted batch job 1377071\n",
      "Submitted batch job 1377072\n"
     ]
    }
   ],
   "source": [
    "%%bash\n",
    "sbatch --ntasks=16 rfpm6.srm\n",
    "sbatch --ntasks=16 rfpm6.srm\n",
    "sbatch --ntasks=16 rfpm6.srm\n",
    "sbatch --ntasks=16 rfpm6.srm"
   ]
  },
  {
   "cell_type": "code",
   "execution_count": null,
   "metadata": {},
   "outputs": [],
   "source": [
    "%%bash\n",
    "cat /scratch${PWD#/prj}/slurm-XXXX.out\n",
    "cat /scratch${PWD#/prj}/slurm-XXXX.out\n",
    "cat /scratch${PWD#/prj}/slurm-XXXX.out\n",
    "cat /scratch${PWD#/prj}/slurm-XXXX.out"
   ]
  },
  {
   "cell_type": "markdown",
   "metadata": {},
   "source": [
    "### 24 of (1, 4, 16, 24, 48, 72, 96)"
   ]
  },
  {
   "cell_type": "code",
   "execution_count": 22,
   "metadata": {
    "scrolled": true
   },
   "outputs": [
    {
     "name": "stdout",
     "output_type": "stream",
     "text": [
      "Submitted batch job 1377073\n",
      "Submitted batch job 1377074\n",
      "Submitted batch job 1377075\n",
      "Submitted batch job 1377076\n"
     ]
    }
   ],
   "source": [
    "%%bash\n",
    "sbatch --ntasks=24 rfpm6.srm\n",
    "sbatch --ntasks=24 rfpm6.srm\n",
    "sbatch --ntasks=24 rfpm6.srm\n",
    "sbatch --ntasks=24 rfpm6.srm"
   ]
  },
  {
   "cell_type": "code",
   "execution_count": null,
   "metadata": {},
   "outputs": [],
   "source": [
    "%%bash\n",
    "cat /scratch${PWD#/prj}/slurm-XXXX.out\n",
    "cat /scratch${PWD#/prj}/slurm-XXXX.out\n",
    "cat /scratch${PWD#/prj}/slurm-XXXX.out\n",
    "cat /scratch${PWD#/prj}/slurm-XXXX.out"
   ]
  },
  {
   "cell_type": "markdown",
   "metadata": {},
   "source": [
    "### 48 of (1, 4, 16, 24, 48, 72, 96)"
   ]
  },
  {
   "cell_type": "code",
   "execution_count": 23,
   "metadata": {
    "scrolled": true
   },
   "outputs": [
    {
     "name": "stdout",
     "output_type": "stream",
     "text": [
      "Submitted batch job 1377077\n",
      "Submitted batch job 1377078\n",
      "Submitted batch job 1377079\n",
      "Submitted batch job 1377080\n"
     ]
    }
   ],
   "source": [
    "%%bash\n",
    "sbatch --ntasks=48 rfpm6.srm\n",
    "sbatch --ntasks=48 rfpm6.srm\n",
    "sbatch --ntasks=48 rfpm6.srm\n",
    "sbatch --ntasks=48 rfpm6.srm"
   ]
  },
  {
   "cell_type": "code",
   "execution_count": null,
   "metadata": {},
   "outputs": [],
   "source": [
    "%%bash\n",
    "cat /scratch${PWD#/prj}/slurm-XXXX.out\n",
    "cat /scratch${PWD#/prj}/slurm-XXXX.out\n",
    "cat /scratch${PWD#/prj}/slurm-XXXX.out\n",
    "cat /scratch${PWD#/prj}/slurm-XXXX.out"
   ]
  },
  {
   "cell_type": "markdown",
   "metadata": {},
   "source": [
    "### 72 of (1, 4, 16, 24, 48, 72, 96)"
   ]
  },
  {
   "cell_type": "code",
   "execution_count": 24,
   "metadata": {
    "scrolled": true
   },
   "outputs": [
    {
     "name": "stdout",
     "output_type": "stream",
     "text": [
      "Submitted batch job 1377081\n",
      "Submitted batch job 1377082\n",
      "Submitted batch job 1377083\n",
      "Submitted batch job 1377084\n"
     ]
    }
   ],
   "source": [
    "%%bash\n",
    "sbatch --ntasks=72 rfpm6.srm\n",
    "sbatch --ntasks=72 rfpm6.srm\n",
    "sbatch --ntasks=72 rfpm6.srm\n",
    "sbatch --ntasks=72 rfpm6.srm"
   ]
  },
  {
   "cell_type": "code",
   "execution_count": null,
   "metadata": {},
   "outputs": [],
   "source": [
    "%%bash\n",
    "cat /scratch${PWD#/prj}/slurm-XXXX.out\n",
    "cat /scratch${PWD#/prj}/slurm-XXXX.out\n",
    "cat /scratch${PWD#/prj}/slurm-XXXX.out\n",
    "cat /scratch${PWD#/prj}/slurm-XXXX.out"
   ]
  },
  {
   "cell_type": "markdown",
   "metadata": {},
   "source": [
    "### 96 of (1, 4, 16, 24, 48, 72, 96)"
   ]
  },
  {
   "cell_type": "code",
   "execution_count": 25,
   "metadata": {
    "scrolled": true
   },
   "outputs": [
    {
     "name": "stdout",
     "output_type": "stream",
     "text": [
      "Submitted batch job 1377085\n",
      "Submitted batch job 1377086\n",
      "Submitted batch job 1377087\n",
      "Submitted batch job 1377088\n"
     ]
    }
   ],
   "source": [
    "%%bash\n",
    "sbatch --ntasks=96 rfpm6.srm\n",
    "sbatch --ntasks=96 rfpm6.srm\n",
    "sbatch --ntasks=96 rfpm6.srm\n",
    "sbatch --ntasks=96 rfpm6.srm"
   ]
  },
  {
   "cell_type": "code",
   "execution_count": null,
   "metadata": {},
   "outputs": [],
   "source": [
    "%%bash\n",
    "cat /scratch${PWD#/prj}/slurm-XXXX.out\n",
    "cat /scratch${PWD#/prj}/slurm-XXXX.out\n",
    "cat /scratch${PWD#/prj}/slurm-XXXX.out\n",
    "cat /scratch${PWD#/prj}/slurm-XXXX.out"
   ]
  },
  {
   "cell_type": "code",
   "execution_count": null,
   "metadata": {},
   "outputs": [],
   "source": []
  },
  {
   "cell_type": "code",
   "execution_count": 26,
   "metadata": {},
   "outputs": [
    {
     "name": "stdout",
     "output_type": "stream",
     "text": [
      "28\n"
     ]
    }
   ],
   "source": [
    "! squeue -u $(whoami) -h -r | wc -l"
   ]
  },
  {
   "cell_type": "code",
   "execution_count": 27,
   "metadata": {},
   "outputs": [
    {
     "name": "stdout",
     "output_type": "stream",
     "text": [
      "394\n"
     ]
    }
   ],
   "source": [
    "! squeue --partition=cpu_small -h -r | wc -l"
   ]
  },
  {
   "cell_type": "code",
   "execution_count": 28,
   "metadata": {},
   "outputs": [
    {
     "name": "stdout",
     "output_type": "stream",
     "text": [
      "        SUBMIT_TIME          START_TIME    JOBID PARTITION NODES CPUS\n",
      "2021-10-05T20:05:38 2021-10-07T04:44:38  1377081 cpu_small     3   72\n",
      "2021-10-05T20:05:38 2021-10-07T04:44:38  1377082 cpu_small     3   72\n",
      "2021-10-05T20:05:38 2021-10-07T04:44:38  1377083 cpu_small     3   72\n",
      "2021-10-05T20:05:39 2021-10-07T04:44:38  1377084 cpu_small     3   72\n",
      "2021-10-05T20:05:42 2021-10-07T04:44:38  1377085 cpu_small     4   96\n",
      "2021-10-05T20:05:42 2021-10-07T04:44:38  1377086 cpu_small     4   96\n",
      "2021-10-05T20:05:42 2021-10-07T04:44:38  1377087 cpu_small     4   96\n",
      "2021-10-05T20:05:42 2021-10-07T04:44:38  1377088 cpu_small     4   96\n",
      "2021-10-05T20:05:35 2021-10-06T23:55:02  1377077 cpu_small     2   48\n",
      "2021-10-05T20:05:35 2021-10-06T23:55:02  1377078 cpu_small     2   48\n",
      "2021-10-05T20:05:35 2021-10-06T23:55:02  1377079 cpu_small     2   48\n",
      "2021-10-05T20:05:35 2021-10-06T23:55:02  1377080 cpu_small     2   48\n",
      "2021-10-05T20:05:22 2021-10-06T23:35:24  1377061 cpu_small     1    1\n",
      "2021-10-05T20:05:22 2021-10-06T23:35:24  1377062 cpu_small     1    1\n",
      "2021-10-05T20:05:22 2021-10-06T23:35:24  1377063 cpu_small     1    1\n",
      "2021-10-05T20:05:22 2021-10-06T23:35:24  1377064 cpu_small     1    1\n",
      "2021-10-05T20:05:25 2021-10-06T23:35:24  1377065 cpu_small     1    4\n",
      "2021-10-05T20:05:25 2021-10-06T23:35:24  1377066 cpu_small     1    4\n",
      "2021-10-05T20:05:25 2021-10-06T23:35:24  1377067 cpu_small     1    4\n",
      "2021-10-05T20:05:25 2021-10-06T23:35:24  1377068 cpu_small     1    4\n",
      "2021-10-05T20:05:28 2021-10-06T23:35:24  1377069 cpu_small     1   16\n",
      "2021-10-05T20:05:28 2021-10-06T23:35:24  1377070 cpu_small     1   16\n",
      "2021-10-05T20:05:28 2021-10-06T23:35:24  1377071 cpu_small     1   16\n",
      "2021-10-05T20:05:28 2021-10-06T23:35:24  1377072 cpu_small     1   16\n",
      "2021-10-05T20:05:32 2021-10-06T23:35:24  1377073 cpu_small     1   24\n",
      "2021-10-05T20:05:32 2021-10-06T23:35:24  1377074 cpu_small     1   24\n",
      "2021-10-05T20:05:32 2021-10-06T23:35:24  1377075 cpu_small     1   24\n",
      "2021-10-05T20:05:32 2021-10-06T23:35:24  1377076 cpu_small     1   24\n"
     ]
    }
   ],
   "source": [
    "! squeue --name=rfpm6 --format=\"%.19V %.19S %.8i %.9P %.5D %.4C\""
   ]
  },
  {
   "cell_type": "code",
   "execution_count": null,
   "metadata": {},
   "outputs": [],
   "source": [
    "! squeue --name=rfpm6 --format=\"%.19V %.19S %.8i %.9P %.5D %.4C\""
   ]
  },
  {
   "cell_type": "code",
   "execution_count": null,
   "metadata": {},
   "outputs": [],
   "source": []
  },
  {
   "cell_type": "code",
   "execution_count": null,
   "metadata": {},
   "outputs": [],
   "source": []
  },
  {
   "cell_type": "code",
   "execution_count": null,
   "metadata": {},
   "outputs": [],
   "source": [
    "! sacct --jobs=xxxx --format=jobname,ncpus,nnodes,maxrss,maxrssnode%13,start,elapsed,cputime"
   ]
  }
 ],
 "metadata": {
  "kernelspec": {
   "display_name": "Python 3 (ipykernel)",
   "language": "python",
   "name": "python3"
  },
  "language_info": {
   "codemirror_mode": {
    "name": "ipython",
    "version": 3
   },
   "file_extension": ".py",
   "mimetype": "text/x-python",
   "name": "python",
   "nbconvert_exporter": "python",
   "pygments_lexer": "ipython3",
   "version": "3.8.13"
  }
 },
 "nbformat": 4,
 "nbformat_minor": 4
}
