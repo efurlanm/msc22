{
 "cells": [
  {
   "cell_type": "markdown",
   "metadata": {},
   "source": [
    "# RF F90 MPI 66 k"
   ]
  },
  {
   "cell_type": "markdown",
   "metadata": {},
   "source": [
    "#### Slurm batch script"
   ]
  },
  {
   "cell_type": "code",
   "execution_count": 10,
   "metadata": {},
   "outputs": [
    {
     "name": "stdout",
     "output_type": "stream",
     "text": [
      "Overwriting rffm6.srm\n"
     ]
    }
   ],
   "source": [
    "%%writefile rffm6.srm\n",
    "#!/bin/bash\n",
    "#SBATCH --job-name rffm6       # Job name\n",
    "#SBATCH --partition cpu_small  # Select partition\n",
    "#SBATCH --ntasks=1             # Total tasks\n",
    "#SBATCH --time=00:05:00        # Limit execution time\n",
    "#SBATCH --exclusive            # Exclusive acccess to nodes\n",
    "\n",
    "echo '========================================'\n",
    "echo '- Job ID:' $SLURM_JOB_ID\n",
    "echo '- Tasks per node:' $SLURM_NTASKS_PER_NODE\n",
    "echo '- # of nodes in the job:' $SLURM_JOB_NUM_NODES\n",
    "echo '- # of tasks:' $SLURM_NTASKS\n",
    "echo '- Dir from which sbatch was invoked:' ${SLURM_SUBMIT_DIR##*/}\n",
    "cd $SLURM_SUBMIT_DIR\n",
    "echo -n '- List of nodes allocated to the job: '\n",
    "nodeset -e $SLURM_JOB_NODELIST\n",
    "\n",
    "# Environment\n",
    "echo '-- modules ----------------------------'\n",
    "module load intel_psxe/2020\n",
    "SCR=/scratch${PWD#\"/prj\"}\n",
    "DT1=datasets/asteroid-train-66k.arff\n",
    "DT2=datasets/asteroid-test-34k.arff\n",
    "EXEC=\"parf -t \"$DT1\" -a \"$DT2\n",
    "\n",
    "# Start\n",
    "echo '-- run --------------------------------'\n",
    "echo '$ srun -n' $SLURM_NTASKS $e\n",
    "echo '-- output -----------------------------'\n",
    "srun -n $SLURM_NTASKS $EXEC\n",
    "echo '~~ end ~~~~~~~~~~~~~~~~~~~~~~~~~~~~~~~~'"
   ]
  },
  {
   "cell_type": "markdown",
   "metadata": {},
   "source": [
    "## Check"
   ]
  },
  {
   "cell_type": "code",
   "execution_count": 11,
   "metadata": {},
   "outputs": [
    {
     "name": "stdout",
     "output_type": "stream",
     "text": [
      "Submitted batch job 1344918\n"
     ]
    }
   ],
   "source": [
    "! sbatch --partition=cpu_dev --ntasks=24 rffm6.srm"
   ]
  },
  {
   "cell_type": "code",
   "execution_count": 12,
   "metadata": {},
   "outputs": [
    {
     "name": "stdout",
     "output_type": "stream",
     "text": [
      "             JOBID  PARTITION  ST  TIME NODES CPUS\n"
     ]
    }
   ],
   "source": [
    "! squeue -n rfm -o \"%.18i  %.9P  %.2t %.5M %.5D %.4C\" --partition=cpu_dev"
   ]
  },
  {
   "cell_type": "code",
   "execution_count": 13,
   "metadata": {},
   "outputs": [
    {
     "name": "stdout",
     "output_type": "stream",
     "text": [
      "1\n"
     ]
    }
   ],
   "source": [
    "! squeue --partition=cpu_dev -h -r | wc -l"
   ]
  },
  {
   "cell_type": "code",
   "execution_count": 17,
   "metadata": {},
   "outputs": [
    {
     "name": "stdout",
     "output_type": "stream",
     "text": [
      "             JOBID  PARTITION  ST  TIME NODES CPUS\n"
     ]
    }
   ],
   "source": [
    "! squeue -n rfm -o \"%.18i  %.9P  %.2t %.5M %.5D %.4C\" --partition=cpu_dev"
   ]
  },
  {
   "cell_type": "code",
   "execution_count": 18,
   "metadata": {},
   "outputs": [
    {
     "name": "stdout",
     "output_type": "stream",
     "text": [
      "========================================\n",
      "- Job ID: 1344918\n",
      "- Tasks per node:\n",
      "- # of nodes in the job: 1\n",
      "- # of tasks: 24\n",
      "- Dir from which sbatch was invoked: rf\n",
      "- List of nodes allocated to the job: sdumont1243\n",
      "-- modules ----------------------------\n",
      "-- run --------------------------------\n",
      "$ srun -n 24\n",
      "-- output -----------------------------\n",
      "Trainset classification error is   0.07% of   66000 (kappa: 0.9901 )\n",
      " Testset classification error is   0.56% of   34000 (kappa: 0.9158 )\n",
      "T: 17.4673  |  N: 24\n",
      "~~ end ~~~~~~~~~~~~~~~~~~~~~~~~~~~~~~~~\n"
     ]
    }
   ],
   "source": [
    "! cat /scratch${PWD#\"/prj\"}/slurm-1344918.out"
   ]
  },
  {
   "cell_type": "markdown",
   "metadata": {},
   "source": []
  },
  {
   "cell_type": "markdown",
   "metadata": {},
   "source": [
    "# Run"
   ]
  },
  {
   "cell_type": "markdown",
   "metadata": {},
   "source": [
    "### 1 of (1, 4, 16, 24, 48, 72, 96)"
   ]
  },
  {
   "cell_type": "code",
   "execution_count": 19,
   "metadata": {
    "scrolled": true
   },
   "outputs": [
    {
     "name": "stdout",
     "output_type": "stream",
     "text": [
      "Submitted batch job 1344919\n",
      "Submitted batch job 1344920\n",
      "Submitted batch job 1344921\n"
     ]
    }
   ],
   "source": [
    "%%bash\n",
    "sbatch --ntasks=1 rffm6.srm\n",
    "sbatch --ntasks=1 rffm6.srm\n",
    "sbatch --ntasks=1 rffm6.srm"
   ]
  },
  {
   "cell_type": "code",
   "execution_count": 8,
   "metadata": {},
   "outputs": [
    {
     "name": "stdout",
     "output_type": "stream",
     "text": [
      "========================================\n",
      "- Job ID: 1344919\n",
      "- Tasks per node:\n",
      "- # of nodes in the job: 1\n",
      "- # of tasks: 1\n",
      "- Dir from which sbatch was invoked: rf\n",
      "- List of nodes allocated to the job: sdumont1450\n",
      "-- modules ----------------------------\n",
      "-- run --------------------------------\n",
      "$ srun -n 1\n",
      "-- output -----------------------------\n",
      "Trainset classification error is   0.06% of   66000 (kappa: 0.9913 )\n",
      " Testset classification error is   0.75% of   34000 (kappa: 0.8864 )\n",
      "T: 142.4932  |  N: 1\n",
      "~~ end ~~~~~~~~~~~~~~~~~~~~~~~~~~~~~~~~\n",
      "========================================\n",
      "- Job ID: 1344920\n",
      "- Tasks per node:\n",
      "- # of nodes in the job: 1\n",
      "- # of tasks: 1\n",
      "- Dir from which sbatch was invoked: rf\n",
      "- List of nodes allocated to the job: sdumont1450\n",
      "-- modules ----------------------------\n",
      "-- run --------------------------------\n",
      "$ srun -n 1\n",
      "-- output -----------------------------\n",
      "Trainset classification error is   0.05% of   66000 (kappa: 0.9931 )\n",
      " Testset classification error is   0.45% of   34000 (kappa: 0.9314 )\n",
      "T: 138.0251  |  N: 1\n",
      "~~ end ~~~~~~~~~~~~~~~~~~~~~~~~~~~~~~~~\n",
      "========================================\n",
      "- Job ID: 1344921\n",
      "- Tasks per node:\n",
      "- # of nodes in the job: 1\n",
      "- # of tasks: 1\n",
      "- Dir from which sbatch was invoked: rf\n",
      "- List of nodes allocated to the job: sdumont1450\n",
      "-- modules ----------------------------\n",
      "-- run --------------------------------\n",
      "$ srun -n 1\n",
      "-- output -----------------------------\n",
      "Trainset classification error is   0.04% of   66000 (kappa: 0.9940 )\n",
      " Testset classification error is   1.43% of   34000 (kappa: 0.7835 )\n",
      "T: 136.2597  |  N: 1\n",
      "~~ end ~~~~~~~~~~~~~~~~~~~~~~~~~~~~~~~~\n"
     ]
    }
   ],
   "source": [
    "%%bash\n",
    "cat /scratch${PWD#\"/prj\"}/slurm-1344919.out\n",
    "cat /scratch${PWD#\"/prj\"}/slurm-1344920.out\n",
    "cat /scratch${PWD#\"/prj\"}/slurm-1344921.out"
   ]
  },
  {
   "cell_type": "markdown",
   "metadata": {},
   "source": [
    "### 4 of (1, 4, 16, 24, 48, 72, 96)"
   ]
  },
  {
   "cell_type": "code",
   "execution_count": 20,
   "metadata": {
    "scrolled": true
   },
   "outputs": [
    {
     "name": "stdout",
     "output_type": "stream",
     "text": [
      "Submitted batch job 1344922\n",
      "Submitted batch job 1344923\n",
      "Submitted batch job 1344924\n"
     ]
    }
   ],
   "source": [
    "%%bash\n",
    "sbatch --ntasks=4 rffm6.srm\n",
    "sbatch --ntasks=4 rffm6.srm\n",
    "sbatch --ntasks=4 rffm6.srm"
   ]
  },
  {
   "cell_type": "code",
   "execution_count": 1,
   "metadata": {},
   "outputs": [
    {
     "name": "stdout",
     "output_type": "stream",
     "text": [
      "========================================\n",
      "- Job ID: 1344922\n",
      "- Tasks per node:\n",
      "- # of nodes in the job: 1\n",
      "- # of tasks: 4\n",
      "- Dir from which sbatch was invoked: rf\n",
      "- List of nodes allocated to the job: sdumont1450\n",
      "-- modules ----------------------------\n",
      "-- run --------------------------------\n",
      "$ srun -n 4\n",
      "-- output -----------------------------\n",
      "Trainset classification error is   0.06% of   66000 (kappa: 0.9915 )\n",
      " Testset classification error is   0.65% of   34000 (kappa: 0.9015 )\n",
      "T: 46.7112  |  N: 4\n",
      "~~ end ~~~~~~~~~~~~~~~~~~~~~~~~~~~~~~~~\n",
      "========================================\n",
      "- Job ID: 1344923\n",
      "- Tasks per node:\n",
      "- # of nodes in the job: 1\n",
      "- # of tasks: 4\n",
      "- Dir from which sbatch was invoked: rf\n",
      "- List of nodes allocated to the job: sdumont1450\n",
      "-- modules ----------------------------\n",
      "-- run --------------------------------\n",
      "$ srun -n 4\n",
      "-- output -----------------------------\n",
      "Trainset classification error is   0.06% of   66000 (kappa: 0.9913 )\n",
      " Testset classification error is   0.45% of   34000 (kappa: 0.9323 )\n",
      "T: 44.1341  |  N: 4\n",
      "~~ end ~~~~~~~~~~~~~~~~~~~~~~~~~~~~~~~~\n",
      "========================================\n",
      "- Job ID: 1344924\n",
      "- Tasks per node:\n",
      "- # of nodes in the job: 1\n",
      "- # of tasks: 4\n",
      "- Dir from which sbatch was invoked: rf\n",
      "- List of nodes allocated to the job: sdumont1450\n",
      "-- modules ----------------------------\n",
      "-- run --------------------------------\n",
      "$ srun -n 4\n",
      "-- output -----------------------------\n",
      "Trainset classification error is   0.06% of   66000 (kappa: 0.9913 )\n",
      " Testset classification error is   0.45% of   34000 (kappa: 0.9314 )\n",
      "T: 45.2001  |  N: 4\n",
      "~~ end ~~~~~~~~~~~~~~~~~~~~~~~~~~~~~~~~\n"
     ]
    }
   ],
   "source": [
    "%%bash\n",
    "cat /scratch${PWD#\"/prj\"}/slurm-1344922.out\n",
    "cat /scratch${PWD#\"/prj\"}/slurm-1344923.out\n",
    "cat /scratch${PWD#\"/prj\"}/slurm-1344924.out"
   ]
  },
  {
   "cell_type": "markdown",
   "metadata": {},
   "source": [
    "### 16 of (1, 4, 16, 24, 48, 72, 96)"
   ]
  },
  {
   "cell_type": "code",
   "execution_count": 21,
   "metadata": {
    "scrolled": true
   },
   "outputs": [
    {
     "name": "stdout",
     "output_type": "stream",
     "text": [
      "Submitted batch job 1344926\n",
      "Submitted batch job 1344927\n",
      "Submitted batch job 1344928\n"
     ]
    }
   ],
   "source": [
    "%%bash\n",
    "sbatch --ntasks=16 rffm6.srm\n",
    "sbatch --ntasks=16 rffm6.srm\n",
    "sbatch --ntasks=16 rffm6.srm"
   ]
  },
  {
   "cell_type": "code",
   "execution_count": 7,
   "metadata": {},
   "outputs": [
    {
     "name": "stdout",
     "output_type": "stream",
     "text": [
      "========================================\n",
      "- Job ID: 1344926\n",
      "- Tasks per node:\n",
      "- # of nodes in the job: 1\n",
      "- # of tasks: 16\n",
      "- Dir from which sbatch was invoked: rf\n",
      "- List of nodes allocated to the job: sdumont1450\n",
      "-- modules ----------------------------\n",
      "-- run --------------------------------\n",
      "$ srun -n 16\n",
      "-- output -----------------------------\n",
      "Trainset classification error is   0.07% of   66000 (kappa: 0.9894 )\n",
      " Testset classification error is   0.82% of   34000 (kappa: 0.8753 )\n",
      "T: 21.0287  |  N: 16\n",
      "~~ end ~~~~~~~~~~~~~~~~~~~~~~~~~~~~~~~~\n",
      "========================================\n",
      "- Job ID: 1344927\n",
      "- Tasks per node:\n",
      "- # of nodes in the job: 1\n",
      "- # of tasks: 16\n",
      "- Dir from which sbatch was invoked: rf\n",
      "- List of nodes allocated to the job: sdumont1450\n",
      "-- modules ----------------------------\n",
      "-- run --------------------------------\n",
      "$ srun -n 16\n",
      "-- output -----------------------------\n",
      "Trainset classification error is   0.06% of   66000 (kappa: 0.9908 )\n",
      " Testset classification error is   0.51% of   34000 (kappa: 0.9220 )\n",
      "T: 20.8398  |  N: 16\n",
      "~~ end ~~~~~~~~~~~~~~~~~~~~~~~~~~~~~~~~\n",
      "========================================\n",
      "- Job ID: 1344928\n",
      "- Tasks per node:\n",
      "- # of nodes in the job: 1\n",
      "- # of tasks: 16\n",
      "- Dir from which sbatch was invoked: rf\n",
      "- List of nodes allocated to the job: sdumont1450\n",
      "-- modules ----------------------------\n",
      "-- run --------------------------------\n",
      "$ srun -n 16\n",
      "-- output -----------------------------\n",
      "Trainset classification error is   0.06% of   66000 (kappa: 0.9904 )\n",
      " Testset classification error is   0.45% of   34000 (kappa: 0.9314 )\n",
      "T: 20.6234  |  N: 16\n",
      "~~ end ~~~~~~~~~~~~~~~~~~~~~~~~~~~~~~~~\n"
     ]
    }
   ],
   "source": [
    "%%bash\n",
    "cat /scratch${PWD#\"/prj\"}/slurm-1344926.out\n",
    "cat /scratch${PWD#\"/prj\"}/slurm-1344927.out\n",
    "cat /scratch${PWD#\"/prj\"}/slurm-1344928.out"
   ]
  },
  {
   "cell_type": "markdown",
   "metadata": {},
   "source": [
    "### 24 of (1, 4, 16, 24, 48, 72, 96)"
   ]
  },
  {
   "cell_type": "code",
   "execution_count": 22,
   "metadata": {
    "scrolled": true
   },
   "outputs": [
    {
     "name": "stdout",
     "output_type": "stream",
     "text": [
      "Submitted batch job 1344929\n",
      "Submitted batch job 1344930\n",
      "Submitted batch job 1344931\n"
     ]
    }
   ],
   "source": [
    "%%bash\n",
    "sbatch --ntasks=24 rffm6.srm\n",
    "sbatch --ntasks=24 rffm6.srm\n",
    "sbatch --ntasks=24 rffm6.srm"
   ]
  },
  {
   "cell_type": "code",
   "execution_count": 6,
   "metadata": {},
   "outputs": [
    {
     "name": "stdout",
     "output_type": "stream",
     "text": [
      "========================================\n",
      "- Job ID: 1344929\n",
      "- Tasks per node:\n",
      "- # of nodes in the job: 1\n",
      "- # of tasks: 24\n",
      "- Dir from which sbatch was invoked: rf\n",
      "- List of nodes allocated to the job: sdumont1450\n",
      "-- modules ----------------------------\n",
      "-- run --------------------------------\n",
      "$ srun -n 24\n",
      "-- output -----------------------------\n",
      "Trainset classification error is   0.05% of   66000 (kappa: 0.9929 )\n",
      " Testset classification error is   0.48% of   34000 (kappa: 0.9269 )\n",
      "T: 18.2953  |  N: 24\n",
      "~~ end ~~~~~~~~~~~~~~~~~~~~~~~~~~~~~~~~\n",
      "========================================\n",
      "- Job ID: 1344930\n",
      "- Tasks per node:\n",
      "- # of nodes in the job: 1\n",
      "- # of tasks: 24\n",
      "- Dir from which sbatch was invoked: rf\n",
      "- List of nodes allocated to the job: sdumont1450\n",
      "-- modules ----------------------------\n",
      "-- run --------------------------------\n",
      "$ srun -n 24\n",
      "-- output -----------------------------\n",
      "Trainset classification error is   0.05% of   66000 (kappa: 0.9927 )\n",
      " Testset classification error is   0.45% of   34000 (kappa: 0.9314 )\n",
      "T: 20.4035  |  N: 24\n",
      "~~ end ~~~~~~~~~~~~~~~~~~~~~~~~~~~~~~~~\n",
      "========================================\n",
      "- Job ID: 1344931\n",
      "- Tasks per node:\n",
      "- # of nodes in the job: 1\n",
      "- # of tasks: 24\n",
      "- Dir from which sbatch was invoked: rf\n",
      "- List of nodes allocated to the job: sdumont1450\n",
      "-- modules ----------------------------\n",
      "-- run --------------------------------\n",
      "$ srun -n 24\n",
      "-- output -----------------------------\n",
      "Trainset classification error is   0.06% of   66000 (kappa: 0.9908 )\n",
      " Testset classification error is   0.46% of   34000 (kappa: 0.9309 )\n",
      "T: 18.7362  |  N: 24\n",
      "~~ end ~~~~~~~~~~~~~~~~~~~~~~~~~~~~~~~~\n"
     ]
    }
   ],
   "source": [
    "%%bash\n",
    "cat /scratch${PWD#\"/prj\"}/slurm-1344929.out\n",
    "cat /scratch${PWD#\"/prj\"}/slurm-1344930.out\n",
    "cat /scratch${PWD#\"/prj\"}/slurm-1344931.out"
   ]
  },
  {
   "cell_type": "markdown",
   "metadata": {},
   "source": [
    "### 48 of (1, 4, 16, 24, 48, 72, 96)"
   ]
  },
  {
   "cell_type": "code",
   "execution_count": 23,
   "metadata": {
    "scrolled": true
   },
   "outputs": [
    {
     "name": "stdout",
     "output_type": "stream",
     "text": [
      "Submitted batch job 1344932\n",
      "Submitted batch job 1344933\n",
      "Submitted batch job 1344934\n"
     ]
    }
   ],
   "source": [
    "%%bash\n",
    "sbatch --ntasks=48 rffm6.srm\n",
    "sbatch --ntasks=48 rffm6.srm\n",
    "sbatch --ntasks=48 rffm6.srm"
   ]
  },
  {
   "cell_type": "code",
   "execution_count": 5,
   "metadata": {},
   "outputs": [
    {
     "name": "stdout",
     "output_type": "stream",
     "text": [
      "========================================\n",
      "- Job ID: 1344932\n",
      "- Tasks per node:\n",
      "- # of nodes in the job: 2\n",
      "- # of tasks: 48\n",
      "- Dir from which sbatch was invoked: rf\n",
      "- List of nodes allocated to the job: sdumont1449 sdumont1451\n",
      "-- modules ----------------------------\n",
      "-- run --------------------------------\n",
      "$ srun -n 48\n",
      "-- output -----------------------------\n",
      "Trainset classification error is   0.06% of   66000 (kappa: 0.9908 )\n",
      " Testset classification error is   0.47% of   34000 (kappa: 0.9287 )\n",
      "T: 14.7529  |  N: 48\n",
      "~~ end ~~~~~~~~~~~~~~~~~~~~~~~~~~~~~~~~\n",
      "========================================\n",
      "- Job ID: 1344933\n",
      "- Tasks per node:\n",
      "- # of nodes in the job: 2\n",
      "- # of tasks: 48\n",
      "- Dir from which sbatch was invoked: rf\n",
      "- List of nodes allocated to the job: sdumont1449 sdumont1451\n",
      "-- modules ----------------------------\n",
      "-- run --------------------------------\n",
      "$ srun -n 48\n",
      "-- output -----------------------------\n",
      "Trainset classification error is   0.06% of   66000 (kappa: 0.9915 )\n",
      " Testset classification error is   0.75% of   34000 (kappa: 0.8864 )\n",
      "T: 14.7901  |  N: 48\n",
      "~~ end ~~~~~~~~~~~~~~~~~~~~~~~~~~~~~~~~\n",
      "========================================\n",
      "- Job ID: 1344934\n",
      "- Tasks per node:\n",
      "- # of nodes in the job: 2\n",
      "- # of tasks: 48\n",
      "- Dir from which sbatch was invoked: rf\n",
      "- List of nodes allocated to the job: sdumont1449 sdumont1451\n",
      "-- modules ----------------------------\n",
      "-- run --------------------------------\n",
      "$ srun -n 48\n",
      "-- output -----------------------------\n",
      "Trainset classification error is   0.06% of   66000 (kappa: 0.9910 )\n",
      " Testset classification error is   0.53% of   34000 (kappa: 0.9194 )\n",
      "T: 14.1072  |  N: 48\n",
      "~~ end ~~~~~~~~~~~~~~~~~~~~~~~~~~~~~~~~\n"
     ]
    }
   ],
   "source": [
    "%%bash\n",
    "cat /scratch${PWD#\"/prj\"}/slurm-1344932.out\n",
    "cat /scratch${PWD#\"/prj\"}/slurm-1344933.out\n",
    "cat /scratch${PWD#\"/prj\"}/slurm-1344934.out"
   ]
  },
  {
   "cell_type": "markdown",
   "metadata": {},
   "source": [
    "### 72 of (1, 4, 16, 24, 48, 72, 96)"
   ]
  },
  {
   "cell_type": "code",
   "execution_count": 24,
   "metadata": {
    "scrolled": true
   },
   "outputs": [
    {
     "name": "stdout",
     "output_type": "stream",
     "text": [
      "Submitted batch job 1344935\n",
      "Submitted batch job 1344936\n",
      "Submitted batch job 1344937\n"
     ]
    }
   ],
   "source": [
    "%%bash\n",
    "sbatch --ntasks=72 rffm6.srm\n",
    "sbatch --ntasks=72 rffm6.srm\n",
    "sbatch --ntasks=72 rffm6.srm"
   ]
  },
  {
   "cell_type": "code",
   "execution_count": 4,
   "metadata": {},
   "outputs": [
    {
     "name": "stdout",
     "output_type": "stream",
     "text": [
      "========================================\n",
      "- Job ID: 1344935\n",
      "- Tasks per node:\n",
      "- # of nodes in the job: 3\n",
      "- # of tasks: 72\n",
      "- Dir from which sbatch was invoked: rf\n",
      "- List of nodes allocated to the job: sdumont1437 sdumont1438 sdumont1439\n",
      "-- modules ----------------------------\n",
      "-- run --------------------------------\n",
      "$ srun -n 72\n",
      "-- output -----------------------------\n",
      "Trainset classification error is   0.05% of   66000 (kappa: 0.9922 )\n",
      " Testset classification error is   1.29% of   34000 (kappa: 0.8049 )\n",
      "T: 16.1033  |  N: 72\n",
      "~~ end ~~~~~~~~~~~~~~~~~~~~~~~~~~~~~~~~\n",
      "========================================\n",
      "- Job ID: 1344936\n",
      "- Tasks per node:\n",
      "- # of nodes in the job: 3\n",
      "- # of tasks: 72\n",
      "- Dir from which sbatch was invoked: rf\n",
      "- List of nodes allocated to the job: sdumont1440 sdumont1441 sdumont1442\n",
      "-- modules ----------------------------\n",
      "-- run --------------------------------\n",
      "$ srun -n 72\n",
      "-- output -----------------------------\n",
      "Trainset classification error is   0.07% of   66000 (kappa: 0.9901 )\n",
      " Testset classification error is   1.39% of   34000 (kappa: 0.7893 )\n",
      "T: 14.3438  |  N: 72\n",
      "~~ end ~~~~~~~~~~~~~~~~~~~~~~~~~~~~~~~~\n",
      "========================================\n",
      "- Job ID: 1344937\n",
      "- Tasks per node:\n",
      "- # of nodes in the job: 3\n",
      "- # of tasks: 72\n",
      "- Dir from which sbatch was invoked: rf\n",
      "- List of nodes allocated to the job: sdumont1443 sdumont1444 sdumont1445\n",
      "-- modules ----------------------------\n",
      "-- run --------------------------------\n",
      "$ srun -n 72\n",
      "-- output -----------------------------\n",
      "Trainset classification error is   0.06% of   66000 (kappa: 0.9906 )\n",
      " Testset classification error is   1.48% of   34000 (kappa: 0.7763 )\n",
      "T: 13.4052  |  N: 72\n",
      "~~ end ~~~~~~~~~~~~~~~~~~~~~~~~~~~~~~~~\n"
     ]
    }
   ],
   "source": [
    "%%bash\n",
    "cat /scratch${PWD#\"/prj\"}/slurm-1344935.out\n",
    "cat /scratch${PWD#\"/prj\"}/slurm-1344936.out\n",
    "cat /scratch${PWD#\"/prj\"}/slurm-1344937.out"
   ]
  },
  {
   "cell_type": "markdown",
   "metadata": {},
   "source": [
    "### 96 of (1, 4, 16, 24, 48, 72, 96)"
   ]
  },
  {
   "cell_type": "code",
   "execution_count": 25,
   "metadata": {
    "scrolled": true
   },
   "outputs": [
    {
     "name": "stdout",
     "output_type": "stream",
     "text": [
      "Submitted batch job 1344938\n",
      "Submitted batch job 1344939\n",
      "Submitted batch job 1344940\n"
     ]
    }
   ],
   "source": [
    "%%bash\n",
    "sbatch --ntasks=96 rffm6.srm\n",
    "sbatch --ntasks=96 rffm6.srm\n",
    "sbatch --ntasks=96 rffm6.srm"
   ]
  },
  {
   "cell_type": "code",
   "execution_count": 3,
   "metadata": {},
   "outputs": [
    {
     "name": "stdout",
     "output_type": "stream",
     "text": [
      "========================================\n",
      "- Job ID: 1344938\n",
      "- Tasks per node:\n",
      "- # of nodes in the job: 4\n",
      "- # of tasks: 96\n",
      "- Dir from which sbatch was invoked: rf\n",
      "- List of nodes allocated to the job: sdumont1446 sdumont1447 sdumont1448 sdumont1449\n",
      "-- modules ----------------------------\n",
      "-- run --------------------------------\n",
      "$ srun -n 96\n",
      "-- output -----------------------------\n",
      "Trainset classification error is   0.07% of   66000 (kappa: 0.9892 )\n",
      " Testset classification error is   0.47% of   34000 (kappa: 0.9287 )\n",
      "T: 17.3701  |  N: 96\n",
      "~~ end ~~~~~~~~~~~~~~~~~~~~~~~~~~~~~~~~\n",
      "========================================\n",
      "- Job ID: 1344939\n",
      "- Tasks per node:\n",
      "- # of nodes in the job: 4\n",
      "- # of tasks: 96\n",
      "- Dir from which sbatch was invoked: rf\n",
      "- List of nodes allocated to the job: sdumont1450 sdumont1451 sdumont1452 sdumont1453\n",
      "-- modules ----------------------------\n",
      "-- run --------------------------------\n",
      "$ srun -n 96\n",
      "-- output -----------------------------\n",
      "Trainset classification error is   0.04% of   66000 (kappa: 0.9938 )\n",
      " Testset classification error is   1.48% of   34000 (kappa: 0.7755 )\n",
      "T: 16.6954  |  N: 96\n",
      "~~ end ~~~~~~~~~~~~~~~~~~~~~~~~~~~~~~~~\n",
      "========================================\n",
      "- Job ID: 1344940\n",
      "- Tasks per node:\n",
      "- # of nodes in the job: 4\n",
      "- # of tasks: 96\n",
      "- Dir from which sbatch was invoked: rf\n",
      "- List of nodes allocated to the job: sdumont1474 sdumont1475 sdumont1476 sdumont1477\n",
      "-- modules ----------------------------\n",
      "-- run --------------------------------\n",
      "$ srun -n 96\n",
      "-- output -----------------------------\n",
      "Trainset classification error is   0.05% of   66000 (kappa: 0.9917 )\n",
      " Testset classification error is   0.50% of   34000 (kappa: 0.9247 )\n",
      "T: 14.0552  |  N: 96\n",
      "~~ end ~~~~~~~~~~~~~~~~~~~~~~~~~~~~~~~~\n"
     ]
    }
   ],
   "source": [
    "%%bash\n",
    "cat /scratch${PWD#\"/prj\"}/slurm-1344938.out\n",
    "cat /scratch${PWD#\"/prj\"}/slurm-1344939.out\n",
    "cat /scratch${PWD#\"/prj\"}/slurm-1344940.out"
   ]
  },
  {
   "cell_type": "code",
   "execution_count": null,
   "metadata": {},
   "outputs": [],
   "source": []
  },
  {
   "cell_type": "code",
   "execution_count": 9,
   "metadata": {},
   "outputs": [
    {
     "name": "stdout",
     "output_type": "stream",
     "text": [
      "69\n"
     ]
    }
   ],
   "source": [
    "! squeue -u $(whoami) -h -t pending,running -r | wc -l"
   ]
  },
  {
   "cell_type": "code",
   "execution_count": 10,
   "metadata": {},
   "outputs": [
    {
     "name": "stdout",
     "output_type": "stream",
     "text": [
      "339\n"
     ]
    }
   ],
   "source": [
    "! squeue --partition=cpu_small -h -t pending,running -r | wc -l"
   ]
  },
  {
   "cell_type": "code",
   "execution_count": 27,
   "metadata": {},
   "outputs": [
    {
     "name": "stdout",
     "output_type": "stream",
     "text": [
      "             JOBID  PARTITION  ST  TIME NODES CPUS\n",
      "           1344919  cpu_small  PD  0:00     1    1\n",
      "           1344920  cpu_small  PD  0:00     1    1\n",
      "           1344921  cpu_small  PD  0:00     1    1\n",
      "           1344922  cpu_small  PD  0:00     1    4\n",
      "           1344923  cpu_small  PD  0:00     1    4\n",
      "           1344924  cpu_small  PD  0:00     1    4\n",
      "           1344926  cpu_small  PD  0:00     1   16\n",
      "           1344927  cpu_small  PD  0:00     1   16\n",
      "           1344928  cpu_small  PD  0:00     1   16\n",
      "           1344929  cpu_small  PD  0:00     1   24\n",
      "           1344930  cpu_small  PD  0:00     1   24\n",
      "           1344931  cpu_small  PD  0:00     1   24\n",
      "           1344932  cpu_small  PD  0:00     2   48\n",
      "           1344933  cpu_small  PD  0:00     2   48\n",
      "           1344934  cpu_small  PD  0:00     2   48\n",
      "           1344935  cpu_small  PD  0:00     3   72\n",
      "           1344936  cpu_small  PD  0:00     3   72\n",
      "           1344937  cpu_small  PD  0:00     3   72\n",
      "           1344938  cpu_small  PD  0:00     4   96\n",
      "           1344939  cpu_small  PD  0:00     4   96\n",
      "           1344940  cpu_small  PD  0:00     4   96\n"
     ]
    }
   ],
   "source": [
    "! squeue -n rffm6 -o \"%.18i  %.9P  %.2t %.5M %.5D %.4C\""
   ]
  },
  {
   "cell_type": "code",
   "execution_count": 11,
   "metadata": {},
   "outputs": [
    {
     "name": "stdout",
     "output_type": "stream",
     "text": [
      "START_TIME     JOBID  PARTITION  NAME ST  TIME NODES CPUS\n"
     ]
    }
   ],
   "source": [
    "! squeue --start --name=rffm6 --format \"%S  %.8i  %.9P %.5j %.2t %.5M %.5D %.4C\" --sort \"i\""
   ]
  },
  {
   "cell_type": "code",
   "execution_count": null,
   "metadata": {},
   "outputs": [],
   "source": []
  },
  {
   "cell_type": "code",
   "execution_count": null,
   "metadata": {},
   "outputs": [],
   "source": []
  }
 ],
 "metadata": {
  "kernelspec": {
   "display_name": "Python 3",
   "language": "python",
   "name": "python3"
  },
  "language_info": {
   "codemirror_mode": {
    "name": "ipython",
    "version": 3
   },
   "file_extension": ".py",
   "mimetype": "text/x-python",
   "name": "python",
   "nbconvert_exporter": "python",
   "pygments_lexer": "ipython3",
   "version": "3.8.5"
  }
 },
 "nbformat": 4,
 "nbformat_minor": 4
}
