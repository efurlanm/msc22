{
 "cells": [
  {
   "cell_type": "markdown",
   "metadata": {},
   "source": [
    "# RF F2PY MPI 66 k"
   ]
  },
  {
   "cell_type": "code",
   "execution_count": 1,
   "metadata": {},
   "outputs": [
    {
     "name": "stdout",
     "output_type": "stream",
     "text": [
      "Overwriting rfnm6.py\n"
     ]
    }
   ],
   "source": [
    "%%writefile rfnm6.py\n",
    "import time as tm, parf003mpi\n",
    "\n",
    "t0 = tm.time()    # time measurement\n",
    "\n",
    "resu = parf003mpi.random_forest(\n",
    "    \"datasets/asteroid-train-66k.arff\",\n",
    "    \"datasets/asteroid-test-34k.arff\"\n",
    ")\n",
    "p_error_count = resu[0]\n",
    "p_oob_count = resu[1]\n",
    "p_kappa_value = resu[2]\n",
    "p_instance_count = resu[3]\n",
    "p_error = resu[4]\n",
    "p_testset_kappa_value = resu[5]\n",
    "p_time = resu[6]\n",
    "p_rank = resu[7]\n",
    "p_size = resu[8]\n",
    "\n",
    "t1 = tm.time()    # time measurement\n",
    "\n",
    "if p_rank == 0 :\n",
    "    print(f'Trainset classification error is',\n",
    "          f'{p_error_count * 100 / p_oob_count :.2f}%',\n",
    "          f'of {p_oob_count} (kappa: {p_kappa_value :.4f})')\n",
    "    print(f' Testset classification error is {p_error * 100 :.2f}%',\n",
    "          f'of {p_instance_count} (kappa: {p_testset_kappa_value :.4f})')\n",
    "    print(f'T: {p_time :.4f}  |  N: {p_size :0g}')"
   ]
  },
  {
   "cell_type": "markdown",
   "metadata": {
    "tags": []
   },
   "source": [
    "## Copy files to /scratch"
   ]
  },
  {
   "cell_type": "code",
   "execution_count": 2,
   "metadata": {},
   "outputs": [],
   "source": [
    "! cp rfnm6.py /scratch${PWD#\"/prj\"}"
   ]
  },
  {
   "cell_type": "markdown",
   "metadata": {},
   "source": [
    "## Slurm batch script"
   ]
  },
  {
   "cell_type": "code",
   "execution_count": 3,
   "metadata": {},
   "outputs": [
    {
     "name": "stdout",
     "output_type": "stream",
     "text": [
      "Overwriting rfnm6.srm\n"
     ]
    }
   ],
   "source": [
    "%%writefile rfnm6.srm\n",
    "#!/bin/bash\n",
    "#SBATCH --job-name rfnm6       # Job name\n",
    "#SBATCH --partition cpu_small  # Select partition\n",
    "#SBATCH --ntasks=1             # Total tasks\n",
    "#SBATCH --time=00:05:00        # Limit execution time\n",
    "#SBATCH --exclusive            # Exclusive acccess to nodes\n",
    "\n",
    "echo '========================================'\n",
    "echo '- Job ID:' $SLURM_JOB_ID\n",
    "echo '- Tasks per node:' $SLURM_NTASKS_PER_NODE\n",
    "echo '- # of nodes in the job:' $SLURM_JOB_NUM_NODES\n",
    "echo '- # of tasks:' $SLURM_NTASKS\n",
    "echo '- Dir from which sbatch was invoked:' ${SLURM_SUBMIT_DIR##*/}\n",
    "cd $SLURM_SUBMIT_DIR\n",
    "echo -n '- List of nodes allocated to the job: '\n",
    "nodeset -e $SLURM_JOB_NODELIST\n",
    "\n",
    "# Environment\n",
    "echo '-- modules ----------------------------'\n",
    "module load intel_psxe\n",
    "source /opt/intel/parallel_studio_xe_2020/intelpython3/etc/profile.d/conda.sh\n",
    "cd                                              \n",
    "SCR=/scratch${PWD#/prj}\n",
    "conda activate --stack $SCR/env4\n",
    "export I_MPI_VAR_CHECK_SPELLING=0\n",
    "cd $SCR/rf\n",
    "\n",
    "# Executable config\n",
    "EXEC=\"python rfnm6.py\"\n",
    "\n",
    "# Start\n",
    "echo '-- run --------------------------------'\n",
    "echo '$ srun --mpi=pmi2 -n' $SLURM_NTASKS ${EXEC##*/}\n",
    "echo '-- output -----------------------------'\n",
    "srun --mpi=pmi2 -n $SLURM_NTASKS $EXEC\n",
    "echo '~~ end ~~~~~~~~~~~~~~~~~~~~~~~~~~~~~~~~'"
   ]
  },
  {
   "cell_type": "markdown",
   "metadata": {},
   "source": [
    "## Check"
   ]
  },
  {
   "cell_type": "code",
   "execution_count": 4,
   "metadata": {},
   "outputs": [
    {
     "name": "stdout",
     "output_type": "stream",
     "text": [
      "Submitted batch job 1349256\n"
     ]
    }
   ],
   "source": [
    "! sbatch --partition cpu_dev --ntasks=1 rfnm6.srm"
   ]
  },
  {
   "cell_type": "code",
   "execution_count": 5,
   "metadata": {},
   "outputs": [
    {
     "name": "stdout",
     "output_type": "stream",
     "text": [
      "   JOBID  PARTITION  NAME ST  TIME NODES CPUS\n",
      " 1349256    cpu_dev rfnm6  R  0:06     1   24\n"
     ]
    }
   ],
   "source": [
    "! squeue --name=rfnm6 --partition=cpu_dev --format=\"%.8i  %.9P %.5j %.2t %.5M %.5D %.4C\""
   ]
  },
  {
   "cell_type": "code",
   "execution_count": 7,
   "metadata": {},
   "outputs": [
    {
     "name": "stdout",
     "output_type": "stream",
     "text": [
      "   JOBID  PARTITION  NAME ST  TIME NODES CPUS\n"
     ]
    }
   ],
   "source": [
    "! squeue --name=rfnm6 --partition=cpu_dev --format=\"%.8i  %.9P %.5j %.2t %.5M %.5D %.4C\""
   ]
  },
  {
   "cell_type": "code",
   "execution_count": 8,
   "metadata": {},
   "outputs": [
    {
     "name": "stdout",
     "output_type": "stream",
     "text": [
      "========================================\n",
      "- Job ID: 1349256\n",
      "- Tasks per node:\n",
      "- # of nodes in the job: 1\n",
      "- # of tasks: 1\n",
      "- Dir from which sbatch was invoked: rf\n",
      "- List of nodes allocated to the job: sdumont1264\n",
      "-- modules ----------------------------\n",
      "-- run --------------------------------\n",
      "$ srun --mpi=pmi2 -n 1 python rfnm6.py\n",
      "-- output -----------------------------\n",
      "Trainset classification error is 0.07% of 66000 (kappa: 0.9901)\n",
      " Testset classification error is 0.44% of 34000 (kappa: 0.9332)\n",
      "T: 144.0629  |  N: 1\n",
      "~~ end ~~~~~~~~~~~~~~~~~~~~~~~~~~~~~~~~\n"
     ]
    }
   ],
   "source": [
    "! cat /scratch${PWD#\"/prj\"}/slurm-1349256.out"
   ]
  },
  {
   "cell_type": "markdown",
   "metadata": {},
   "source": [
    "# Run"
   ]
  },
  {
   "cell_type": "markdown",
   "metadata": {},
   "source": [
    "### 1 of (1, 4, 16, 24, 48, 72, 96)"
   ]
  },
  {
   "cell_type": "code",
   "execution_count": 11,
   "metadata": {
    "scrolled": true
   },
   "outputs": [
    {
     "name": "stdout",
     "output_type": "stream",
     "text": [
      "Submitted batch job 1349296\n",
      "Submitted batch job 1349297\n",
      "Submitted batch job 1349298\n"
     ]
    }
   ],
   "source": [
    "%%bash\n",
    "sbatch --ntasks=1 rfnm6.srm\n",
    "sbatch --ntasks=1 rfnm6.srm\n",
    "sbatch --ntasks=1 rfnm6.srm"
   ]
  },
  {
   "cell_type": "code",
   "execution_count": 2,
   "metadata": {},
   "outputs": [
    {
     "name": "stdout",
     "output_type": "stream",
     "text": [
      "========================================\n",
      "- Job ID: 1349296\n",
      "- Tasks per node:\n",
      "- # of nodes in the job: 1\n",
      "- # of tasks: 1\n",
      "- Dir from which sbatch was invoked: rf\n",
      "- List of nodes allocated to the job: sdumont1286\n",
      "-- modules ----------------------------\n",
      "-- run --------------------------------\n",
      "$ srun --mpi=pmi2 -n 1 python rfnm6.py\n",
      "-- output -----------------------------\n",
      "Trainset classification error is 0.05% of 66000 (kappa: 0.9917)\n",
      " Testset classification error is 0.63% of 34000 (kappa: 0.9051)\n",
      "T: 144.4652  |  N: 1\n",
      "~~ end ~~~~~~~~~~~~~~~~~~~~~~~~~~~~~~~~\n",
      "========================================\n",
      "- Job ID: 1349297\n",
      "- Tasks per node:\n",
      "- # of nodes in the job: 1\n",
      "- # of tasks: 1\n",
      "- Dir from which sbatch was invoked: rf\n",
      "- List of nodes allocated to the job: sdumont1286\n",
      "-- modules ----------------------------\n",
      "-- run --------------------------------\n",
      "$ srun --mpi=pmi2 -n 1 python rfnm6.py\n",
      "-- output -----------------------------\n",
      "Trainset classification error is 0.07% of 66000 (kappa: 0.9888)\n",
      " Testset classification error is 0.48% of 34000 (kappa: 0.9269)\n",
      "T: 140.4211  |  N: 1\n",
      "~~ end ~~~~~~~~~~~~~~~~~~~~~~~~~~~~~~~~\n",
      "========================================\n",
      "- Job ID: 1349298\n",
      "- Tasks per node:\n",
      "- # of nodes in the job: 1\n",
      "- # of tasks: 1\n",
      "- Dir from which sbatch was invoked: rf\n",
      "- List of nodes allocated to the job: sdumont1286\n",
      "-- modules ----------------------------\n",
      "-- run --------------------------------\n",
      "$ srun --mpi=pmi2 -n 1 python rfnm6.py\n",
      "-- output -----------------------------\n",
      "Trainset classification error is 0.06% of 66000 (kappa: 0.9913)\n",
      " Testset classification error is 0.45% of 34000 (kappa: 0.9323)\n",
      "T: 140.2477  |  N: 1\n",
      "~~ end ~~~~~~~~~~~~~~~~~~~~~~~~~~~~~~~~\n"
     ]
    }
   ],
   "source": [
    "%%bash\n",
    "cat /scratch${PWD#\"/prj\"}/slurm-1349296.out\n",
    "cat /scratch${PWD#\"/prj\"}/slurm-1349297.out\n",
    "cat /scratch${PWD#\"/prj\"}/slurm-1349298.out"
   ]
  },
  {
   "cell_type": "markdown",
   "metadata": {},
   "source": [
    "### 4 of (1, 4, 16, 24, 48, 72, 96)"
   ]
  },
  {
   "cell_type": "code",
   "execution_count": 12,
   "metadata": {
    "scrolled": true
   },
   "outputs": [
    {
     "name": "stdout",
     "output_type": "stream",
     "text": [
      "Submitted batch job 1349299\n",
      "Submitted batch job 1349300\n",
      "Submitted batch job 1349301\n"
     ]
    }
   ],
   "source": [
    "%%bash\n",
    "sbatch --ntasks=4 rfnm6.srm\n",
    "sbatch --ntasks=4 rfnm6.srm\n",
    "sbatch --ntasks=4 rfnm6.srm"
   ]
  },
  {
   "cell_type": "code",
   "execution_count": 3,
   "metadata": {},
   "outputs": [
    {
     "name": "stdout",
     "output_type": "stream",
     "text": [
      "========================================\n",
      "- Job ID: 1349299\n",
      "- Tasks per node:\n",
      "- # of nodes in the job: 1\n",
      "- # of tasks: 4\n",
      "- Dir from which sbatch was invoked: rf\n",
      "- List of nodes allocated to the job: sdumont1286\n",
      "-- modules ----------------------------\n",
      "-- run --------------------------------\n",
      "$ srun --mpi=pmi2 -n 4 python rfnm6.py\n",
      "-- output -----------------------------\n",
      "Trainset classification error is 0.05% of 66000 (kappa: 0.9917)\n",
      " Testset classification error is 0.63% of 34000 (kappa: 0.9042)\n",
      "T: 46.2226  |  N: 4\n",
      "~~ end ~~~~~~~~~~~~~~~~~~~~~~~~~~~~~~~~\n",
      "========================================\n",
      "- Job ID: 1349300\n",
      "- Tasks per node:\n",
      "- # of nodes in the job: 1\n",
      "- # of tasks: 4\n",
      "- Dir from which sbatch was invoked: rf\n",
      "- List of nodes allocated to the job: sdumont1489\n",
      "-- modules ----------------------------\n",
      "-- run --------------------------------\n",
      "$ srun --mpi=pmi2 -n 4 python rfnm6.py\n",
      "-- output -----------------------------\n",
      "Trainset classification error is 0.06% of 66000 (kappa: 0.9906)\n",
      " Testset classification error is 0.51% of 34000 (kappa: 0.9234)\n",
      "T: 48.3499  |  N: 4\n",
      "~~ end ~~~~~~~~~~~~~~~~~~~~~~~~~~~~~~~~\n",
      "========================================\n",
      "- Job ID: 1349301\n",
      "- Tasks per node:\n",
      "- # of nodes in the job: 1\n",
      "- # of tasks: 4\n",
      "- Dir from which sbatch was invoked: rf\n",
      "- List of nodes allocated to the job: sdumont1286\n",
      "-- modules ----------------------------\n",
      "-- run --------------------------------\n",
      "$ srun --mpi=pmi2 -n 4 python rfnm6.py\n",
      "-- output -----------------------------\n",
      "Trainset classification error is 0.06% of 66000 (kappa: 0.9904)\n",
      " Testset classification error is 0.54% of 34000 (kappa: 0.9185)\n",
      "T: 50.3122  |  N: 4\n",
      "~~ end ~~~~~~~~~~~~~~~~~~~~~~~~~~~~~~~~\n"
     ]
    }
   ],
   "source": [
    "%%bash\n",
    "cat /scratch${PWD#\"/prj\"}/slurm-1349299.out\n",
    "cat /scratch${PWD#\"/prj\"}/slurm-1349300.out\n",
    "cat /scratch${PWD#\"/prj\"}/slurm-1349301.out"
   ]
  },
  {
   "cell_type": "markdown",
   "metadata": {},
   "source": [
    "### 16 of (1, 4, 16, 24, 48, 72, 96)"
   ]
  },
  {
   "cell_type": "code",
   "execution_count": 13,
   "metadata": {
    "scrolled": true
   },
   "outputs": [
    {
     "name": "stdout",
     "output_type": "stream",
     "text": [
      "Submitted batch job 1349302\n",
      "Submitted batch job 1349303\n",
      "Submitted batch job 1349304\n"
     ]
    }
   ],
   "source": [
    "%%bash\n",
    "sbatch --ntasks=16 rfnm6.srm\n",
    "sbatch --ntasks=16 rfnm6.srm\n",
    "sbatch --ntasks=16 rfnm6.srm"
   ]
  },
  {
   "cell_type": "code",
   "execution_count": 1,
   "metadata": {},
   "outputs": [
    {
     "name": "stdout",
     "output_type": "stream",
     "text": [
      "========================================\n",
      "- Job ID: 1349302\n",
      "- Tasks per node:\n",
      "- # of nodes in the job: 1\n",
      "- # of tasks: 16\n",
      "- Dir from which sbatch was invoked: rf\n",
      "- List of nodes allocated to the job: sdumont1489\n",
      "-- modules ----------------------------\n",
      "-- run --------------------------------\n",
      "$ srun --mpi=pmi2 -n 16 python rfnm6.py\n",
      "-- output -----------------------------\n",
      "Trainset classification error is 0.06% of 66000 (kappa: 0.9915)\n",
      " Testset classification error is 0.88% of 34000 (kappa: 0.8672)\n",
      "T: 22.8765  |  N: 16\n",
      "~~ end ~~~~~~~~~~~~~~~~~~~~~~~~~~~~~~~~\n",
      "========================================\n",
      "- Job ID: 1349303\n",
      "- Tasks per node:\n",
      "- # of nodes in the job: 1\n",
      "- # of tasks: 16\n",
      "- Dir from which sbatch was invoked: rf\n",
      "- List of nodes allocated to the job: sdumont1286\n",
      "-- modules ----------------------------\n",
      "-- run --------------------------------\n",
      "$ srun --mpi=pmi2 -n 16 python rfnm6.py\n",
      "-- output -----------------------------\n",
      "Trainset classification error is 0.06% of 66000 (kappa: 0.9908)\n",
      " Testset classification error is 0.69% of 34000 (kappa: 0.8949)\n",
      "T: 23.0209  |  N: 16\n",
      "~~ end ~~~~~~~~~~~~~~~~~~~~~~~~~~~~~~~~\n",
      "========================================\n",
      "- Job ID: 1349304\n",
      "- Tasks per node:\n",
      "- # of nodes in the job: 1\n",
      "- # of tasks: 16\n",
      "- Dir from which sbatch was invoked: rf\n",
      "- List of nodes allocated to the job: sdumont1489\n",
      "-- modules ----------------------------\n",
      "-- run --------------------------------\n",
      "$ srun --mpi=pmi2 -n 16 python rfnm6.py\n",
      "-- output -----------------------------\n",
      "Trainset classification error is 0.06% of 66000 (kappa: 0.9915)\n",
      " Testset classification error is 0.46% of 34000 (kappa: 0.9301)\n",
      "T: 23.1010  |  N: 16\n",
      "~~ end ~~~~~~~~~~~~~~~~~~~~~~~~~~~~~~~~\n"
     ]
    }
   ],
   "source": [
    "%%bash\n",
    "cat /scratch${PWD#\"/prj\"}/slurm-1349302.out\n",
    "cat /scratch${PWD#\"/prj\"}/slurm-1349303.out\n",
    "cat /scratch${PWD#\"/prj\"}/slurm-1349304.out"
   ]
  },
  {
   "cell_type": "markdown",
   "metadata": {},
   "source": [
    "### 24 of (1, 4, 16, 24, 48, 72, 96)"
   ]
  },
  {
   "cell_type": "code",
   "execution_count": 14,
   "metadata": {
    "scrolled": true
   },
   "outputs": [
    {
     "name": "stdout",
     "output_type": "stream",
     "text": [
      "Submitted batch job 1349305\n",
      "Submitted batch job 1349306\n",
      "Submitted batch job 1349307\n"
     ]
    }
   ],
   "source": [
    "%%bash\n",
    "sbatch --ntasks=24 rfnm6.srm\n",
    "sbatch --ntasks=24 rfnm6.srm\n",
    "sbatch --ntasks=24 rfnm6.srm"
   ]
  },
  {
   "cell_type": "code",
   "execution_count": 5,
   "metadata": {},
   "outputs": [
    {
     "name": "stdout",
     "output_type": "stream",
     "text": [
      "========================================\n",
      "- Job ID: 1349305\n",
      "- Tasks per node:\n",
      "- # of nodes in the job: 1\n",
      "- # of tasks: 24\n",
      "- Dir from which sbatch was invoked: rf\n",
      "- List of nodes allocated to the job: sdumont1482\n",
      "-- modules ----------------------------\n",
      "-- run --------------------------------\n",
      "$ srun --mpi=pmi2 -n 24 python rfnm6.py\n",
      "-- output -----------------------------\n",
      "Trainset classification error is 0.05% of 66000 (kappa: 0.9917)\n",
      " Testset classification error is 0.44% of 34000 (kappa: 0.9336)\n",
      "T: 20.4023  |  N: 24\n",
      "~~ end ~~~~~~~~~~~~~~~~~~~~~~~~~~~~~~~~\n",
      "========================================\n",
      "- Job ID: 1349306\n",
      "- Tasks per node:\n",
      "- # of nodes in the job: 1\n",
      "- # of tasks: 24\n",
      "- Dir from which sbatch was invoked: rf\n",
      "- List of nodes allocated to the job: sdumont1483\n",
      "-- modules ----------------------------\n",
      "-- run --------------------------------\n",
      "$ srun --mpi=pmi2 -n 24 python rfnm6.py\n",
      "-- output -----------------------------\n",
      "Trainset classification error is 0.07% of 66000 (kappa: 0.9901)\n",
      " Testset classification error is 0.66% of 34000 (kappa: 0.8998)\n",
      "T: 17.3848  |  N: 24\n",
      "~~ end ~~~~~~~~~~~~~~~~~~~~~~~~~~~~~~~~\n",
      "========================================\n",
      "- Job ID: 1349307\n",
      "- Tasks per node:\n",
      "- # of nodes in the job: 1\n",
      "- # of tasks: 24\n",
      "- Dir from which sbatch was invoked: rf\n",
      "- List of nodes allocated to the job: sdumont1286\n",
      "-- modules ----------------------------\n",
      "-- run --------------------------------\n",
      "$ srun --mpi=pmi2 -n 24 python rfnm6.py\n",
      "-- output -----------------------------\n",
      "Trainset classification error is 0.05% of 66000 (kappa: 0.9929)\n",
      " Testset classification error is 0.59% of 34000 (kappa: 0.9109)\n",
      "T: 19.6962  |  N: 24\n",
      "~~ end ~~~~~~~~~~~~~~~~~~~~~~~~~~~~~~~~\n"
     ]
    }
   ],
   "source": [
    "%%bash\n",
    "cat /scratch${PWD#\"/prj\"}/slurm-1349305.out\n",
    "cat /scratch${PWD#\"/prj\"}/slurm-1349306.out\n",
    "cat /scratch${PWD#\"/prj\"}/slurm-1349307.out"
   ]
  },
  {
   "cell_type": "markdown",
   "metadata": {},
   "source": [
    "### 48 of (1, 4, 16, 24, 48, 72, 96)"
   ]
  },
  {
   "cell_type": "code",
   "execution_count": 15,
   "metadata": {
    "scrolled": true
   },
   "outputs": [
    {
     "name": "stdout",
     "output_type": "stream",
     "text": [
      "Submitted batch job 1349308\n",
      "Submitted batch job 1349309\n",
      "Submitted batch job 1349310\n"
     ]
    }
   ],
   "source": [
    "%%bash\n",
    "sbatch --ntasks=48 rfnm6.srm\n",
    "sbatch --ntasks=48 rfnm6.srm\n",
    "sbatch --ntasks=48 rfnm6.srm"
   ]
  },
  {
   "cell_type": "code",
   "execution_count": 4,
   "metadata": {},
   "outputs": [
    {
     "name": "stdout",
     "output_type": "stream",
     "text": [
      "========================================\n",
      "- Job ID: 1349308\n",
      "- Tasks per node:\n",
      "- # of nodes in the job: 2\n",
      "- # of tasks: 48\n",
      "- Dir from which sbatch was invoked: rf\n",
      "- List of nodes allocated to the job: sdumont1482 sdumont1483\n",
      "-- modules ----------------------------\n",
      "-- run --------------------------------\n",
      "$ srun --mpi=pmi2 -n 48 python rfnm6.py\n",
      "-- output -----------------------------\n",
      "Trainset classification error is 0.08% of 66000 (kappa: 0.9885)\n",
      " Testset classification error is 0.61% of 34000 (kappa: 0.9082)\n",
      "T: 17.0600  |  N: 48\n",
      "~~ end ~~~~~~~~~~~~~~~~~~~~~~~~~~~~~~~~\n",
      "========================================\n",
      "- Job ID: 1349309\n",
      "- Tasks per node:\n",
      "- # of nodes in the job: 2\n",
      "- # of tasks: 48\n",
      "- Dir from which sbatch was invoked: rf\n",
      "- List of nodes allocated to the job: sdumont1478 sdumont1479\n",
      "-- modules ----------------------------\n",
      "-- run --------------------------------\n",
      "$ srun --mpi=pmi2 -n 48 python rfnm6.py\n",
      "-- output -----------------------------\n",
      "Trainset classification error is 0.05% of 66000 (kappa: 0.9931)\n",
      " Testset classification error is 0.51% of 34000 (kappa: 0.9234)\n",
      "T: 18.0561  |  N: 48\n",
      "~~ end ~~~~~~~~~~~~~~~~~~~~~~~~~~~~~~~~\n",
      "========================================\n",
      "- Job ID: 1349310\n",
      "- Tasks per node:\n",
      "- # of nodes in the job: 2\n",
      "- # of tasks: 48\n",
      "- Dir from which sbatch was invoked: rf\n",
      "- List of nodes allocated to the job: sdumont1480 sdumont1481\n",
      "-- modules ----------------------------\n",
      "-- run --------------------------------\n",
      "$ srun --mpi=pmi2 -n 48 python rfnm6.py\n",
      "-- output -----------------------------\n",
      "Trainset classification error is 0.07% of 66000 (kappa: 0.9899)\n",
      " Testset classification error is 0.44% of 34000 (kappa: 0.9336)\n",
      "T: 16.3035  |  N: 48\n",
      "~~ end ~~~~~~~~~~~~~~~~~~~~~~~~~~~~~~~~\n"
     ]
    }
   ],
   "source": [
    "%%bash\n",
    "cat /scratch${PWD#\"/prj\"}/slurm-1349308.out\n",
    "cat /scratch${PWD#\"/prj\"}/slurm-1349309.out\n",
    "cat /scratch${PWD#\"/prj\"}/slurm-1349310.out"
   ]
  },
  {
   "cell_type": "markdown",
   "metadata": {},
   "source": [
    "### 72 of (1, 4, 16, 24, 48, 72, 96)"
   ]
  },
  {
   "cell_type": "code",
   "execution_count": 16,
   "metadata": {
    "scrolled": true
   },
   "outputs": [
    {
     "name": "stdout",
     "output_type": "stream",
     "text": [
      "Submitted batch job 1349311\n",
      "Submitted batch job 1349312\n",
      "Submitted batch job 1349313\n"
     ]
    }
   ],
   "source": [
    "%%bash\n",
    "sbatch --ntasks=72 rfnm6.srm\n",
    "sbatch --ntasks=72 rfnm6.srm\n",
    "sbatch --ntasks=72 rfnm6.srm"
   ]
  },
  {
   "cell_type": "code",
   "execution_count": 3,
   "metadata": {},
   "outputs": [
    {
     "name": "stdout",
     "output_type": "stream",
     "text": [
      "========================================\n",
      "- Job ID: 1349311\n",
      "- Tasks per node:\n",
      "- # of nodes in the job: 3\n",
      "- # of tasks: 72\n",
      "- Dir from which sbatch was invoked: rf\n",
      "- List of nodes allocated to the job: sdumont1286 sdumont1482 sdumont1483\n",
      "-- modules ----------------------------\n",
      "-- run --------------------------------\n",
      "$ srun --mpi=pmi2 -n 72 python rfnm6.py\n",
      "-- output -----------------------------\n",
      "Trainset classification error is 0.06% of 66000 (kappa: 0.9913)\n",
      " Testset classification error is 1.13% of 34000 (kappa: 0.8294)\n",
      "T: 18.3066  |  N: 72\n",
      "~~ end ~~~~~~~~~~~~~~~~~~~~~~~~~~~~~~~~\n",
      "========================================\n",
      "- Job ID: 1349312\n",
      "- Tasks per node:\n",
      "- # of nodes in the job: 3\n",
      "- # of tasks: 72\n",
      "- Dir from which sbatch was invoked: rf\n",
      "- List of nodes allocated to the job: sdumont1478 sdumont1479 sdumont1480\n",
      "-- modules ----------------------------\n",
      "-- run --------------------------------\n",
      "$ srun --mpi=pmi2 -n 72 python rfnm6.py\n",
      "-- output -----------------------------\n",
      "Trainset classification error is 0.05% of 66000 (kappa: 0.9929)\n",
      " Testset classification error is 0.51% of 34000 (kappa: 0.9225)\n",
      "T: 17.8333  |  N: 72\n",
      "~~ end ~~~~~~~~~~~~~~~~~~~~~~~~~~~~~~~~\n",
      "========================================\n",
      "- Job ID: 1349313\n",
      "- Tasks per node:\n",
      "- # of nodes in the job: 3\n",
      "- # of tasks: 72\n",
      "- Dir from which sbatch was invoked: rf\n",
      "- List of nodes allocated to the job: sdumont1481 sdumont1482 sdumont1483\n",
      "-- modules ----------------------------\n",
      "-- run --------------------------------\n",
      "$ srun --mpi=pmi2 -n 72 python rfnm6.py\n",
      "-- output -----------------------------\n",
      "Trainset classification error is 0.07% of 66000 (kappa: 0.9899)\n",
      " Testset classification error is 0.41% of 34000 (kappa: 0.9372)\n",
      "T: 16.2328  |  N: 72\n",
      "~~ end ~~~~~~~~~~~~~~~~~~~~~~~~~~~~~~~~\n"
     ]
    }
   ],
   "source": [
    "%%bash\n",
    "cat /scratch${PWD#\"/prj\"}/slurm-1349311.out\n",
    "cat /scratch${PWD#\"/prj\"}/slurm-1349312.out\n",
    "cat /scratch${PWD#\"/prj\"}/slurm-1349313.out"
   ]
  },
  {
   "cell_type": "markdown",
   "metadata": {},
   "source": [
    "### 96 of (1, 4, 16, 24, 48, 72, 96)"
   ]
  },
  {
   "cell_type": "code",
   "execution_count": 17,
   "metadata": {
    "scrolled": true
   },
   "outputs": [
    {
     "name": "stdout",
     "output_type": "stream",
     "text": [
      "Submitted batch job 1349314\n",
      "Submitted batch job 1349315\n",
      "Submitted batch job 1349316\n"
     ]
    }
   ],
   "source": [
    "%%bash\n",
    "sbatch --ntasks=96 rfnm6.srm\n",
    "sbatch --ntasks=96 rfnm6.srm\n",
    "sbatch --ntasks=96 rfnm6.srm"
   ]
  },
  {
   "cell_type": "code",
   "execution_count": 2,
   "metadata": {},
   "outputs": [
    {
     "name": "stdout",
     "output_type": "stream",
     "text": [
      "========================================\n",
      "- Job ID: 1349314\n",
      "- Tasks per node:\n",
      "- # of nodes in the job: 4\n",
      "- # of tasks: 96\n",
      "- Dir from which sbatch was invoked: rf\n",
      "- List of nodes allocated to the job: sdumont1478 sdumont1479 sdumont1480 sdumont1481\n",
      "-- modules ----------------------------\n",
      "-- run --------------------------------\n",
      "$ srun --mpi=pmi2 -n 96 python rfnm6.py\n",
      "-- output -----------------------------\n",
      "Trainset classification error is 0.06% of 66000 (kappa: 0.9910)\n",
      " Testset classification error is 0.56% of 34000 (kappa: 0.9158)\n",
      "T: 18.5568  |  N: 96\n",
      "~~ end ~~~~~~~~~~~~~~~~~~~~~~~~~~~~~~~~\n",
      "========================================\n",
      "- Job ID: 1349315\n",
      "- Tasks per node:\n",
      "- # of nodes in the job: 4\n",
      "- # of tasks: 96\n",
      "- Dir from which sbatch was invoked: rf\n",
      "- List of nodes allocated to the job: sdumont1278 sdumont1286 sdumont1482 sdumont1483\n",
      "-- modules ----------------------------\n",
      "-- run --------------------------------\n",
      "$ srun --mpi=pmi2 -n 96 python rfnm6.py\n",
      "-- output -----------------------------\n",
      "Trainset classification error is 0.05% of 66000 (kappa: 0.9924)\n",
      " Testset classification error is 0.57% of 34000 (kappa: 0.9140)\n",
      "T: 15.9096  |  N: 96\n",
      "~~ end ~~~~~~~~~~~~~~~~~~~~~~~~~~~~~~~~\n",
      "========================================\n",
      "- Job ID: 1349316\n",
      "- Tasks per node:\n",
      "- # of nodes in the job: 4\n",
      "- # of tasks: 96\n",
      "- Dir from which sbatch was invoked: rf\n",
      "- List of nodes allocated to the job: sdumont1478 sdumont1479 sdumont1480 sdumont1481\n",
      "-- modules ----------------------------\n",
      "-- run --------------------------------\n",
      "$ srun --mpi=pmi2 -n 96 python rfnm6.py\n",
      "-- output -----------------------------\n",
      "Trainset classification error is 0.06% of 66000 (kappa: 0.9913)\n",
      " Testset classification error is 1.44% of 34000 (kappa: 0.7826)\n",
      "T: 19.4270  |  N: 96\n",
      "~~ end ~~~~~~~~~~~~~~~~~~~~~~~~~~~~~~~~\n"
     ]
    }
   ],
   "source": [
    "%%bash\n",
    "cat /scratch${PWD#\"/prj\"}/slurm-1349314.out\n",
    "cat /scratch${PWD#\"/prj\"}/slurm-1349315.out\n",
    "cat /scratch${PWD#\"/prj\"}/slurm-1349316.out"
   ]
  },
  {
   "cell_type": "code",
   "execution_count": null,
   "metadata": {},
   "outputs": [],
   "source": []
  },
  {
   "cell_type": "code",
   "execution_count": 12,
   "metadata": {},
   "outputs": [
    {
     "name": "stdout",
     "output_type": "stream",
     "text": [
      "78\n"
     ]
    }
   ],
   "source": [
    "! squeue -u $(whoami) -h -r | wc -l"
   ]
  },
  {
   "cell_type": "code",
   "execution_count": 13,
   "metadata": {},
   "outputs": [
    {
     "name": "stdout",
     "output_type": "stream",
     "text": [
      "430\n"
     ]
    }
   ],
   "source": [
    "! squeue --partition=cpu_small -h -r | wc -l"
   ]
  },
  {
   "cell_type": "code",
   "execution_count": 9,
   "metadata": {},
   "outputs": [
    {
     "name": "stdout",
     "output_type": "stream",
     "text": [
      "START_TIME     JOBID  PARTITION  NAME ST  TIME NODES CPUS\n"
     ]
    }
   ],
   "source": [
    "! squeue --start --name=rfnm6 -o \"%S  %.8i  %.9P %.5j %.2t %.5M %.5D %.4C\" --sort \"i\""
   ]
  },
  {
   "cell_type": "code",
   "execution_count": 1,
   "metadata": {},
   "outputs": [
    {
     "name": "stdout",
     "output_type": "stream",
     "text": [
      "START_TIME     JOBID  PARTITION  NAME ST  TIME NODES CPUS\n"
     ]
    }
   ],
   "source": [
    "! squeue --start --name=rfnm6 -o \"%S  %.8i  %.9P %.5j %.2t %.5M %.5D %.4C\" --sort \"i\""
   ]
  },
  {
   "cell_type": "code",
   "execution_count": null,
   "metadata": {},
   "outputs": [],
   "source": []
  },
  {
   "cell_type": "code",
   "execution_count": null,
   "metadata": {},
   "outputs": [],
   "source": []
  }
 ],
 "metadata": {
  "kernelspec": {
   "display_name": "Python 3",
   "language": "python",
   "name": "python3"
  },
  "language_info": {
   "codemirror_mode": {
    "name": "ipython",
    "version": 3
   },
   "file_extension": ".py",
   "mimetype": "text/x-python",
   "name": "python",
   "nbconvert_exporter": "python",
   "pygments_lexer": "ipython3",
   "version": "3.8.5"
  }
 },
 "nbformat": 4,
 "nbformat_minor": 5
}
