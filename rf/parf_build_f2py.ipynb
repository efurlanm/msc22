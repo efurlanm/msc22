{
 "cells": [
  {
   "cell_type": "markdown",
   "metadata": {},
   "source": [
    "# PARF F2PY BUILD\n",
    "\n",
    "Compiling PARF sources using Intel Fortran Compiler, on the SDumont."
   ]
  },
  {
   "cell_type": "markdown",
   "metadata": {},
   "source": [
    "Preloaded:\n",
    "\n",
    "    module load intel_psxe\n",
    "    source /opt/intel/parallel_studio_xe_2020/intelpython3/etc/profile.d/conda.sh\n",
    "    conda activate --stack /scratch/xxxx/yyyy/env4\n",
    "    unset I_MPI_PMI_LIBRARY\n",
    "    export I_MPI_VAR_CHECK_SPELLING=0\n",
    "    jupyter-lab --no-browser --port=9000 --ip=0.0.0.0\n",
    "    \n",
    "References: \n",
    "\n",
    "- https://community.intel.com/t5/Intel-Distribution-for-Python/How-to-install-use-the-Intel-distribution-of-Python-from-my/m-p/1138999\n",
    "- https://community.intel.com/t5/Intel-oneAPI-HPC-Toolkit/mpiexec-hydra-legacy-suppress-variable-is-not-supported/td-p/1162351"
   ]
  },
  {
   "cell_type": "code",
   "execution_count": 1,
   "metadata": {},
   "outputs": [
    {
     "name": "stdout",
     "output_type": "stream",
     "text": [
      "Python 3.7.11 :: Intel Corporation\n"
     ]
    }
   ],
   "source": [
    "! python --version"
   ]
  },
  {
   "cell_type": "code",
   "execution_count": 12,
   "metadata": {},
   "outputs": [
    {
     "name": "stdout",
     "output_type": "stream",
     "text": [
      "Intel(R) MPI Library for Linux* OS, Version 2021.3 Build 20210601 (id: 6f90181f1)\n",
      "Copyright 2003-2021, Intel Corporation.\n"
     ]
    }
   ],
   "source": [
    "! mpiexec --version"
   ]
  },
  {
   "cell_type": "code",
   "execution_count": 2,
   "metadata": {},
   "outputs": [
    {
     "name": "stdout",
     "output_type": "stream",
     "text": [
      "parf003/main.f90\n"
     ]
    }
   ],
   "source": [
    "! ls parf003/main.f90"
   ]
  },
  {
   "cell_type": "code",
   "execution_count": 7,
   "metadata": {},
   "outputs": [
    {
     "name": "stdout",
     "output_type": "stream",
     "text": [
      "Overwriting parf003/main.f90\n"
     ]
    }
   ],
   "source": [
    "%%writefile parf003/main.f90\n",
    "!-[ changed ]----------------------------\n",
    "! PROGRAM random_forest\n",
    "SUBROUTINE random_forest(p_trainset, p_testset, &\n",
    "                p_error_count, p_oob_count, p_kappa_value, &\n",
    "                p_instance_count, p_error, p_testset_kappa_value, &\n",
    "                p_time, p_rank, p_size)\n",
    "!---------------------------------------\n",
    "\n",
    "\n",
    "  USE options\n",
    "  USE instancesets\n",
    "  USE bootstraps\n",
    "  USE utilities\n",
    "  USE forests\n",
    "  USE prototypes\n",
    "  USE parallel\n",
    "  IMPLICIT NONE\n",
    "\n",
    "  TYPE (datadescription), POINTER :: datadesc\n",
    "  TYPE (forest), POINTER :: rfptr\n",
    "  INTEGER :: fill_pass\n",
    "  LOGICAL :: last_pass\n",
    "\n",
    "  \n",
    "!-[ changed ]----------------------------\n",
    "\n",
    "! files\n",
    "character(len=256), intent(in) :: p_trainset, p_testset\n",
    "\n",
    "! Trainset\n",
    "integer, intent(out) :: p_error_count, p_oob_count\n",
    "real,    intent(out) :: p_kappa_value\n",
    "\n",
    "! Testset\n",
    "integer, intent(out) :: p_instance_count\n",
    "real,    intent(out) :: p_error, p_testset_kappa_value\n",
    "\n",
    "! Proc, time\n",
    "integer, intent(out) :: p_rank, p_size\n",
    "real,    intent(out) :: p_time\n",
    "\n",
    "real :: t0, t1\n",
    "\n",
    "p_error_count = 0\n",
    "p_oob_count = 0\n",
    "p_instance_count = 0\n",
    "p_kappa_value = 0\n",
    "p_error = 0 \n",
    "p_testset_kappa_value = 0\n",
    "\n",
    "call cpu_time(t0)  ! time measurement\n",
    "!----------------------------------------\n",
    "\n",
    "\n",
    "  ! MPI ...\n",
    "  CALL par_init()\n",
    "\n",
    "  IF (parse_options(p_trainset, p_testset)) THEN\n",
    "    CALL init_graphics()\n",
    "    NULLIFY (testset, trainset, protoset, datadesc, rfptr)\n",
    "    trainset => new_instanceset(trainset_type)\n",
    "    IF (LEN_TRIM(opts%load_forest).GT.0) THEN\n",
    "      IF (opts%verbose) WRITE(6, af) \"Loading forest\"\n",
    "      CALL load_forest(rfptr, datadesc)\n",
    "      trainset%classes => trainset%estimated_class\n",
    "      CALL fix_num_prox(UBOUND(trainset%estimated_class, 1))\n",
    "      IF (LEN_TRIM(opts%testset).GT.0) THEN\n",
    "        IF (opts%verbose) WRITE(6, af) \"Loading test set\"\n",
    "        testset => new_instanceset(testset_type)\n",
    "        testset%dd => datadesc\n",
    "        IF (.NOT.parse_arff(testset, opts%testset)) GO TO 9999\n",
    "        IF (opts%verbose) WRITE(6, af) \"Classifying testing set\"\n",
    "\n",
    "        \n",
    "!-[ changed ]----------------------------\n",
    "        CALL classify_instanceset(testset, rfptr, p_error, &\n",
    "                    p_instance_count, p_testset_kappa_value)\n",
    "!---------------------------------------\n",
    "\n",
    "\n",
    "        testset%classes => testset%estimated_class\n",
    "      END IF\n",
    "      IF (opts%last_prox_required) THEN\n",
    "        IF (opts%verbose) WRITE(6, af) \"Calculating proximities\"\n",
    "        CALL calculate_proximities(rfptr, trainset)\n",
    "        IF (opts%calc_test_prox) THEN\n",
    "          CALL calculate_proximities(rfptr, testset)\n",
    "        END IF\n",
    "      END IF\n",
    "    ELSE\n",
    "      IF (opts%verbose .AND. par_processes.EQ.1) THEN\n",
    "        WRITE(6, af) \"Loading training set\"\n",
    "      ELSE IF (opts%verbose.AND.par_front) THEN\n",
    "        WRITE(6, af) \"Loading and distributing training set\"\n",
    "      END IF\n",
    "\n",
    "      IF (.NOT.parse_arff(trainset, opts%trainset)) GO TO 9999\n",
    "\n",
    "      CALL fix_num_prox(UBOUND(trainset%catvars, 1))\n",
    "      datadesc => trainset%dd\n",
    "      trainset%classes => trainset%catvars(:, &\n",
    "        & datadesc%attributes(opts%class_attribute_num)%mapping)\n",
    "      IF (LEN_TRIM(opts%testset).GT.0) THEN\n",
    "        IF (opts%verbose) WRITE(6, af) \"Loading test set\"\n",
    "        testset => new_instanceset(testset_type)\n",
    "        testset%dd => datadesc\n",
    "        IF (.NOT.parse_arff(testset, opts%testset)) GO TO 9999\n",
    "      END IF\n",
    "      IF (opts%verbose) THEN\n",
    "        WRITE(6, \"(A26, I6)\") \"Number of training cases: \", &\n",
    "          & UBOUND(trainset%catvars, 1)\n",
    "        WRITE(6, \"(A26, I6)\") \"Number of attributes:     \", &\n",
    "          & UBOUND(datadesc%attributes, 1)\n",
    "      END IF\n",
    "\n",
    "      ! Prelude\n",
    "      IF (opts%verbose) WRITE(6, af) \"Counting classes\"\n",
    "      CALL count_classes(trainset)\n",
    "      IF (opts%fill_passes.NE.0) THEN\n",
    "        IF (opts%verbose) WRITE(6, af) \"Calculating rough fills\"\n",
    "        CALL calculate_rough_fills(trainset)\n",
    "        IF (opts%verbose) WRITE(6, af) \"Filling missing values\"\n",
    "        CALL fill_missing_rough(trainset)\n",
    "      END IF\n",
    "      CALL allocate_importance_arrays(trainset)\n",
    "      CALL init_bootstraps(trainset)\n",
    "\n",
    "      ! Variations\n",
    "      DO\n",
    "        CALL get_num_split_variables(datadesc)\n",
    "        IF (opts%verbose) THEN\n",
    "          WRITE(6, \"(A26, I6)\") \"Number of used attributes:\", &\n",
    "            & UBOUND(datadesc%usedvars, 1)\n",
    "          WRITE(6, \"(A26, I6)\") \"Attributes to split on:   \", &\n",
    "            & opts%split_variables\n",
    "        END IF\n",
    "        CALL zero_importance_arrays()\n",
    "        fill_pass = 1\n",
    "        DO WHILE (fill_pass.LE.MAX(1, opts%fill_passes)) ! at least 1 pass\n",
    "          ! this is a while loop and not a for loop,\n",
    "          ! to allow early exit in case proximities can't be calculated\n",
    "\n",
    "          IF (opts%verbose.AND.opts%fill_passes.GT.1) &\n",
    "            & WRITE(6, \"(A6, I2)\") \"Pass #\", fill_pass\n",
    "          IF (opts%verbose) WRITE(6, af) \"Sorting and ranking\"\n",
    "          CALL sort_and_rank(trainset, fill_pass.GT.1)\n",
    "\n",
    "          IF (opts%verbose) WRITE(6, af) \"Growing forest\"\n",
    "          rfptr => new_forest(trainset)\n",
    "\n",
    "          last_pass = fill_pass.GE.opts%fill_passes &\n",
    "            & .AND.opts%redo_with_important_vars.EQ.0 &\n",
    "            & .AND.opts%redo_with_significant_vars.EQ.0\n",
    "\n",
    "          IF (last_pass) THEN\n",
    "\n",
    "          \n",
    "!-[ changed ]----------------------------\n",
    "            CALL calc_training_error(trainset, p_error_count, &\n",
    "                        p_oob_count, p_kappa_value)\n",
    "!----------------------------------------\n",
    "\n",
    "\n",
    "            IF (LEN_TRIM(opts%testset).NE.0) THEN\n",
    "              IF (opts%verbose) WRITE(6, af) \"Classifying testing set\"\n",
    "\n",
    "              \n",
    "!-[ changed ]----------------------------\n",
    "              CALL classify_instanceset(testset, rfptr, p_error, &\n",
    "                        p_instance_count, p_testset_kappa_value)\n",
    "!---------------------------------------\n",
    "\n",
    "\n",
    "              testset%classes => testset%estimated_class\n",
    "            END IF\n",
    "          END IF\n",
    "          IF (fill_pass.LT.opts%fill_passes.OR.opts%last_prox_required) THEN\n",
    "            IF (opts%verbose) WRITE(6, af) \"Calculating proximities\"\n",
    "            CALL calculate_proximities(rfptr, trainset)\n",
    "            IF (opts%calc_test_prox.AND.last_pass) THEN\n",
    "              ! test set proximities only on the very last pass\n",
    "              CALL calculate_proximities(rfptr, testset)\n",
    "            END IF\n",
    "          END IF\n",
    "\n",
    "          IF (fill_pass.NE.MAX(1, opts%fill_passes)) THEN ! each pass but last\n",
    "            IF (opts%verbose) WRITE(6, af) \"Filling missing values\"\n",
    "            CALL fill_missing_by_prox(trainset)\n",
    "            CALL free_forest(rfptr)\n",
    "          END IF\n",
    "\n",
    "          fill_pass = fill_pass + 1\n",
    "        END DO\n",
    "\n",
    "        ! redo with most important variables?\n",
    "        CALL finalize_importance_arrays(trainset)\n",
    "        IF (opts%redo_with_important_vars.NE.0) THEN\n",
    "          opts%redo_with_important_vars = 0 ! redo just once\n",
    "        ELSE\n",
    "          EXIT\n",
    "        END IF\n",
    "      END DO\n",
    "\n",
    "      IF (LEN_TRIM(opts%save_forest).NE.0) THEN\n",
    "        IF (opts%verbose) WRITE(6, af) \"Saving forest\"\n",
    "        CALL save_forest(rfptr)\n",
    "      END IF\n",
    "    END IF\n",
    "\n",
    "    ! Finale\n",
    "\n",
    "    IF (opts%num_prot.NE.0) THEN\n",
    "      IF (opts%verbose) WRITE(6, af) \"Calculating prototypes\"\n",
    "      CALL calculate_prototypes()\n",
    "    END IF\n",
    "    IF (opts%num_scale.NE.0) THEN\n",
    "      IF (opts%verbose) WRITE(6, af) \"Calculating scaling coordinates\"\n",
    "      IF (LEN_TRIM(opts%proto_scaling).NE.0) THEN\n",
    "\n",
    "      \n",
    "!-[ changed ]----------------------------\n",
    "        CALL classify_instanceset(protoset, rfptr, p_error, &\n",
    "                    p_instance_count, p_testset_kappa_value)\n",
    "!---------------------------------------\n",
    "\n",
    "\n",
    "        CALL calculate_proximities(rfptr, protoset)\n",
    "      END IF\n",
    "      CALL calc_scaling()\n",
    "    END IF\n",
    "\n",
    "    IF (par_front) THEN\n",
    "      IF (LEN_TRIM(opts%train_votes).NE.0) THEN\n",
    "        IF (opts%verbose) WRITE(6, af) \"Printing training set votes\"\n",
    "        CALL print_votes(trainset, opts%train_votes)\n",
    "      END IF\n",
    "      IF (LEN_TRIM(opts%train_confusion).NE.0 &\n",
    "          & .OR.LEN_TRIM(opts%positive_category).NE.0) THEN\n",
    "        IF (opts%verbose) WRITE(6, af) \"Processing training set confusion matrix\"\n",
    "        CALL process_confusion_matrix(trainset, opts%train_confusion)\n",
    "      END IF\n",
    "      IF (LEN_TRIM(opts%fast_importances).NE.0) THEN\n",
    "        IF (opts%verbose) WRITE(6, af) \"Printing fast variable importances\"\n",
    "        CALL print_fast_importances(rfptr%dgini, datadesc)\n",
    "      END IF\n",
    "      IF (LEN_TRIM(opts%importances).NE.0) THEN\n",
    "        IF (opts%verbose) WRITE(6, af) \"Printing variable importances\"\n",
    "        CALL print_importances(datadesc)\n",
    "      END IF\n",
    "      IF (LEN_TRIM(opts%case_importances).NE.0) THEN\n",
    "        IF (opts%verbose) &\n",
    "          & WRITE(6, af) \"Printing case-by-case variable importances\"\n",
    "        CALL print_case_importances(trainset)\n",
    "      END IF\n",
    "      IF (LEN_TRIM(opts%interaction).NE.0) THEN\n",
    "        IF (opts%verbose) WRITE(6, af) \"Printing variable interaction\"\n",
    "        CALL print_interaction(rfptr, datadesc)\n",
    "      END IF\n",
    "      IF (LEN_TRIM(opts%prototype_analysis).NE.0) THEN\n",
    "        IF (opts%verbose) WRITE(6, af) \"Printing prototype analysis\"\n",
    "        CALL print_prototype_analysis()\n",
    "      END IF\n",
    "      IF (LEN_TRIM(opts%prototypes).NE.0) THEN\n",
    "        IF (opts%verbose) WRITE(6, af) \"Printing prototypes\"\n",
    "        CALL print_arff(opts%prototypes, protoset)\n",
    "      END IF\n",
    "      IF (LEN_TRIM(opts%train_outliers).NE.0) THEN\n",
    "        IF (opts%verbose) WRITE(6, af) \"Printing training set outliers\"\n",
    "        CALL print_outliers(trainset)\n",
    "      END IF\n",
    "      IF (LEN_TRIM(opts%test_outliers).NE.0) THEN\n",
    "        IF (opts%verbose) WRITE(6, af) \"Printing test set outliers\"\n",
    "        CALL print_outliers(testset)\n",
    "      END IF\n",
    "      IF (LEN_TRIM(opts%test_votes).NE.0) THEN\n",
    "        IF (opts%verbose) WRITE(6, af) \"Printing test set votes\"\n",
    "        CALL print_votes(testset, opts%test_votes)\n",
    "      END IF\n",
    "      IF (LEN_TRIM(opts%test_arff).NE.0) THEN\n",
    "        IF (opts%verbose) WRITE(6, af) \"Printing test set ARFF\"\n",
    "        CALL print_arff(opts%test_arff, testset)\n",
    "      END IF\n",
    "      IF (LEN_TRIM(opts%train_test_arff).NE.0) THEN\n",
    "        IF (opts%verbose) WRITE(6, af) \"Printing train+test set ARFF\"\n",
    "        CALL print_arff(opts%train_test_arff, trainset, testset)\n",
    "      END IF\n",
    "      IF (LEN_TRIM(opts%test_confusion).NE.0 &\n",
    "          & .OR.(LEN_TRIM(opts%positive_category).NE.0 &\n",
    "          & .AND.LEN_TRIM(opts%testset).NE.0)) THEN\n",
    "        IF (opts%verbose) WRITE(6, af) \"Processing test set confusion matrix\"\n",
    "        CALL process_confusion_matrix(testset, opts%test_confusion)\n",
    "      END IF\n",
    "    END IF\n",
    "    IF (LEN_TRIM(opts%train_scaling).NE.0) THEN\n",
    "      IF (opts%verbose) WRITE(6, af) \"Printing training set scaling coordinates\"\n",
    "      CALL print_scaling(trainset)\n",
    "    END IF\n",
    "    IF (LEN_TRIM(opts%test_scaling).NE.0) THEN\n",
    "      IF (opts%verbose) WRITE(6, af) \"Printing test set scaling coordinates\"\n",
    "      CALL print_scaling(testset)\n",
    "    END IF\n",
    "    IF (LEN_TRIM(opts%proto_scaling).NE.0) THEN\n",
    "      IF (opts%verbose) WRITE(6, af) \"Printing prototype scaling coordinates\"\n",
    "      CALL print_scaling(protoset)\n",
    "    END IF\n",
    "    IF (LEN_TRIM(opts%dump_forest).NE.0) THEN\n",
    "      IF (opts%verbose) WRITE(6, af) \"Printing forest\"\n",
    "      CALL print_forest(rfptr, datadesc)\n",
    "    END IF\n",
    "\n",
    "    9999 CONTINUE\n",
    "    IF (par_front) CALL free_prototypes(datadesc)\n",
    "    CALL free_importance_arrays()\n",
    "    CALL free_forest(rfptr)\n",
    "    CALL free_instanceset(trainset)\n",
    "    CALL free_instanceset(testset)\n",
    "    CALL free_datadescription(datadesc)\n",
    "    CALL finish_bootstraps()\n",
    "    CALL finish_graphics()\n",
    "  END IF\n",
    "\n",
    "  ! MPI ...\n",
    "  IF (opts%verbose.AND.par_processes.GT.1) WRITE(6, af) \"Finalizing\"\n",
    "  CALL par_finalize()\n",
    "  IF (opts%verbose.AND.par_processes.GT.1) WRITE(6, af) \"Finished\"\n",
    "\n",
    "  \n",
    "!-[ changed ]----------------------------\n",
    "call cpu_time(t1)  ! time measurement\n",
    "p_size = par_processes\n",
    "p_rank = par_rank\n",
    "p_time = t1 - t0\n",
    "!---------------------------------------\n",
    "\n",
    "\n",
    "!-[ changed ]----------------------------\n",
    "! END PROGRAM random_forest\n",
    "END SUBROUTINE\n",
    "!---------------------------------------"
   ]
  },
  {
   "cell_type": "markdown",
   "metadata": {},
   "source": [
    "- files changed to transform from command line to subroutines with parameter passing: main.f90, options.f90, forests.f90"
   ]
  },
  {
   "cell_type": "code",
   "execution_count": 5,
   "metadata": {},
   "outputs": [
    {
     "name": "stdout",
     "output_type": "stream",
     "text": [
      "Overwriting parf003/Makefile\n"
     ]
    }
   ],
   "source": [
    "%%writefile parf003/Makefile\n",
    "##### Configuration section\n",
    "\n",
    "### Choose a Fortran 90 compiler and options\n",
    "## Intel Fortran 8.0 (PARF original compiler)\n",
    "##    -g          level of debugging information in the object file\n",
    "##    -pg         compiles and links for function profiling with gprof\n",
    "##    -CB         same as the /check:bounds option\n",
    "##    -traceback  extra information in the object file to provide\n",
    "##        source file traceback information when a severe error occurs\n",
    "##    --static    prevents linking with shared libraries\n",
    "# FC = /opt/intel_fc_80/bin/ifort\n",
    "# FFLAGS = -g -pg -CB -traceback --static\n",
    "## GNU\n",
    "# FC = gfortran\n",
    "# FFLAGS = -O3\n",
    "# debug: FFLAGS = -O0 -g -traceback -check all -CB \n",
    "## Intel 2021.2.0\n",
    "FC = ifort\n",
    "FFLAGS = -fPIC -diag-disable=8291 -O3\n",
    "\n",
    "### Choose a C compiler and options\n",
    "## GNU\n",
    "# CC = cc\n",
    "# CFLAGS = -Wall -g -pg --static\n",
    "## Intel\n",
    "CC = icc\n",
    "CFLAGS = -fPIC -O3\n",
    "\n",
    "### Choose parallelisation library, comment for no parallelisation\n",
    "PAR = mpi\n",
    "\n",
    "### For MPI: the MPI Fortran compilation command\n",
    "## GNU + OpenMPI\n",
    "# MPIFC = mpif90\n",
    "## Intel MPI\n",
    "MPIFC = mpiifort\n",
    "\n",
    "##### End of configuration section\n",
    "# \n",
    "# No changes should be necessary below this line\n",
    "#---------------------------------------\n",
    "\n",
    "\n",
    "PAR ?= none\n",
    "ifeq (${PAR},mpi)\n",
    "\tFC = ${MPIFC}\n",
    "endif\n",
    "MODSOURCES=trees.f90 bitvectors.f90 instancesets.f90 options.f90 \\\n",
    "\tutilities.f90 bootstraps.f90 forests.f90 importances.f90 \\\n",
    "\tprototypes.f90 graphics.f90\n",
    "CSOURCES=support.c\n",
    "COBJECTS=${CSOURCES:.c=.o}\n",
    "MODOBJECTS=${MODSOURCES:.f90=.o}\n",
    "ADDOBJECTS=${ADDSOURCES:.f=.o}\n",
    "PROJECT=parf\n",
    "DIR=$(notdir ${PWD})\n",
    "\n",
    "${PROJECT}: main.f90 parallel.o ${MODOBJECTS} ${ADDOBJECTS} ${COBJECTS}\n",
    "\t${FC} ${FFLAGS} -o ${PROJECT} $+\n",
    "\n",
    "parallel.o: parallel/${PAR}.f90\n",
    "\t${FC} ${FFLAGS} -c -o parallel.o $<\n",
    "\n",
    "%.o: %.f90\n",
    "\t${FC} ${FFLAGS} -c $<\n",
    "\n",
    "%.o: %.c\n",
    "\t${CC} ${CFLAGS} -c $<\n",
    "\n",
    "main.o: Makefile options.o instancesets.o utilities.o forests.o \\\n",
    "\timportances.o prototypes.o parallel.o\n",
    "forests.o: Makefile trees.o instancesets.o bootstraps.o bitvectors.o \\\n",
    "\timportances.o prototypes.o\n",
    "trees.o: Makefile bitvectors.o instancesets.o bootstraps.o utilities.o\n",
    "instancesets.o: Makefile utilities.o bitvectors.o \\\n",
    "\toptions.o parallel.o support.o\n",
    "importances.o: Makefile instancesets.o graphics.o\n",
    "bitvectors.o: Makefile utilities.o\n",
    "utilities.o: Makefile support.o\n",
    "options.o: Makefile support.o utilities.o parallel.o\n",
    "#compatibility.o: Makefile\n",
    "parallel.o: Makefile\n",
    "bootstraps.o: Makefile instancesets.o utilities.o\n",
    "prototypes.o: Makefile instancesets.o utilities.o options.o\n",
    "graphics.o: Makefile utilities.o options.o\n",
    "support.o: Makefile\n",
    "\n",
    "clean:\n",
    "\trm -f *.mod *.o\n",
    "\n",
    "#dist:\n",
    "#\trm -f ${PROJECT}.tgz\n",
    "#\tcd .. && \\\n",
    "#\t\ttar zcf ${DIR}/${PROJECT}.tgz ${DIR}/Makefile \\\n",
    "#\t\t${DIR}/*.f90 ${DIR}/*.c ${DIR}/farg ${DIR}/parallel \\\n",
    "#\t\t${DIR}/*.pl ${DIR}/LICENSE\n",
    "\n",
    ".PHONY: clean dist"
   ]
  },
  {
   "cell_type": "markdown",
   "metadata": {},
   "source": [
    "## Serial\n",
    "\n",
    "    # PAR = mpi  (commented)\n",
    "    compilers: icc, ifort"
   ]
  },
  {
   "cell_type": "code",
   "execution_count": 11,
   "metadata": {},
   "outputs": [
    {
     "name": "stdout",
     "output_type": "stream",
     "text": [
      "ifort -fPIC -diag-disable=8291 -O3 -c -o parallel.o parallel/none.f90\n",
      "icc -fPIC -O3 -c support.c\n",
      "ifort -fPIC -diag-disable=8291 -O3 -c utilities.f90\n",
      "ifort -fPIC -diag-disable=8291 -O3 -c bitvectors.f90\n",
      "ifort -fPIC -diag-disable=8291 -O3 -c options.f90\n",
      "ifort -fPIC -diag-disable=8291 -O3 -c instancesets.f90\n",
      "ifort -fPIC -diag-disable=8291 -O3 -c bootstraps.f90\n",
      "ifort -fPIC -diag-disable=8291 -O3 -c trees.f90\n",
      "ifort -fPIC -diag-disable=8291 -O3 -c graphics.f90\n",
      "ifort -fPIC -diag-disable=8291 -O3 -c importances.f90\n",
      "ifort -fPIC -diag-disable=8291 -O3 -c prototypes.f90\n",
      "ifort -fPIC -diag-disable=8291 -O3 -c forests.f90\n",
      "ifort -fPIC -diag-disable=8291 -O3 -o parf main.f90 parallel.o trees.o bitvectors.o instancesets.o options.o utilities.o bootstraps.o forests.o importances.o prototypes.o graphics.o support.o\n",
      "Reading fortran codes...\n",
      "\tReading file 'main.f90' (format:free)\n",
      "Post-processing...\n",
      "\tBlock: parf003ser\n",
      "\t\t\tBlock: random_forest\n",
      "In: :parf003ser:main.f90:random_forest\n",
      "get_useparameters: no module options info used by random_forest\n",
      "In: :parf003ser:main.f90:random_forest\n",
      "get_useparameters: no module instancesets info used by random_forest\n",
      "In: :parf003ser:main.f90:random_forest\n",
      "get_useparameters: no module bootstraps info used by random_forest\n",
      "In: :parf003ser:main.f90:random_forest\n",
      "get_useparameters: no module utilities info used by random_forest\n",
      "In: :parf003ser:main.f90:random_forest\n",
      "get_useparameters: no module forests info used by random_forest\n",
      "In: :parf003ser:main.f90:random_forest\n",
      "get_useparameters: no module prototypes info used by random_forest\n",
      "In: :parf003ser:main.f90:random_forest\n",
      "get_useparameters: no module parallel info used by random_forest\n",
      "Post-processing (stage 2)...\n",
      "Saving signatures to file \"./sgnFile.pyf\"\n"
     ]
    },
    {
     "name": "stderr",
     "output_type": "stream",
     "text": [
      "/opt/intel/parallel_studio_xe_2020/compilers_and_libraries_2020.2.254/linux/compiler/lib/intel64_lin/for_main.o: In function `main':\n",
      "for_main.c:(.text+0x2e): undefined reference to `MAIN__'\n",
      "make: ** [parf] Erro 1\n"
     ]
    }
   ],
   "source": [
    "%%bash\n",
    "cd parf003\n",
    "rm *.o *.mod\n",
    "make --always-make    # create object files (.o)\n",
    "f2py  -m parf003ser  --overwrite-signature  -h sgnFile.pyf  main.f90\n",
    "f2py  -c sgnFile.pyf  main.f90  --f90exec=ifort  --quiet  \\\n",
    "-DNPY_NO_DEPRECATED_API=NPY_1_7_API_VERSION  \\\n",
    "--fcompiler=intelem  --opt='-O3 -diag-disable=8291'  \\\n",
    "parallel.o trees.o bitvectors.o instancesets.o options.o utilities.o  \\\n",
    "bootstraps.o forests.o importances.o prototypes.o graphics.o support.o"
   ]
  },
  {
   "cell_type": "code",
   "execution_count": 12,
   "metadata": {},
   "outputs": [
    {
     "name": "stdout",
     "output_type": "stream",
     "text": [
      "-rwxr-xr-x 1 444552 Set 13 14:42 parf003/parf003ser.cpython-37m-x86_64-linux-gnu.so\n"
     ]
    }
   ],
   "source": [
    "! ls -gG parf003/parf003ser*"
   ]
  },
  {
   "cell_type": "code",
   "execution_count": 13,
   "metadata": {},
   "outputs": [],
   "source": [
    "! cp parf003/parf003ser* ."
   ]
  },
  {
   "cell_type": "code",
   "execution_count": 14,
   "metadata": {},
   "outputs": [],
   "source": [
    "import parf003ser"
   ]
  },
  {
   "cell_type": "code",
   "execution_count": 15,
   "metadata": {},
   "outputs": [
    {
     "name": "stdout",
     "output_type": "stream",
     "text": [
      "Help on module parf003ser:\n",
      "\n",
      "NAME\n",
      "    parf003ser\n",
      "\n",
      "DESCRIPTION\n",
      "    This module 'parf003ser' is auto-generated with f2py (version:1.20.3).\n",
      "    Functions:\n",
      "      p_error_count,p_oob_count,p_kappa_value,p_instance_count,p_error,p_testset_kappa_value,p_time,p_rank,p_size = random_forest(p_trainset,p_testset)\n",
      "    .\n",
      "\n",
      "DATA\n",
      "    __f2py_numpy_version__ = '1.20.3'\n",
      "    random_forest = <fortran object>\n",
      "\n",
      "VERSION\n",
      "    1.20.3\n",
      "\n",
      "FILE\n",
      "    /prj/ampemi/xxxx.xxxx/rf/parf003ser.cpython-37m-x86_64-linux-gnu.so\n",
      "\n",
      "\n"
     ]
    }
   ],
   "source": [
    "help(parf003ser)"
   ]
  },
  {
   "cell_type": "code",
   "execution_count": 1,
   "metadata": {},
   "outputs": [
    {
     "name": "stdout",
     "output_type": "stream",
     "text": [
      "Overwriting rfns.py\n"
     ]
    }
   ],
   "source": [
    "%%writefile rfns.py\n",
    "import time as tm, parf003ser\n",
    "\n",
    "t0 = tm.time()    # time measurement\n",
    "\n",
    "resu = parf003ser.random_forest(\n",
    "    \"datasets/asteroid-train-66k.arff\",\n",
    "    \"datasets/asteroid-test-34k.arff\"\n",
    ")\n",
    "p_error_count = resu[0]\n",
    "p_oob_count = resu[1]\n",
    "p_kappa_value = resu[2]\n",
    "p_instance_count = resu[3]\n",
    "p_error = resu[4]\n",
    "p_testset_kappa_value = resu[5]\n",
    "p_time = resu[6]\n",
    "p_rank = resu[7]\n",
    "p_size = resu[8]\n",
    "\n",
    "t1 = tm.time()    # time measurement\n",
    "\n",
    "if p_rank == 0 :\n",
    "    print(f'Trainset classification error is',\n",
    "          f'{p_error_count * 100 / p_oob_count :.2f}%',\n",
    "          f'of {p_oob_count} (kappa: {p_kappa_value :.4f})')\n",
    "    print(f' Testset classification error is {p_error * 100 :.2f}%',\n",
    "          f'of {p_instance_count} (kappa: {p_testset_kappa_value :.4f})')\n",
    "    print(f'T: {p_time :.4f}  |  N: {p_size :0g}')"
   ]
  },
  {
   "cell_type": "code",
   "execution_count": 2,
   "metadata": {},
   "outputs": [
    {
     "name": "stdout",
     "output_type": "stream",
     "text": [
      "Trainset classification error is 0.06% of 66000 (kappa: 0.9904)\n",
      " Testset classification error is 0.45% of 34000 (kappa: 0.9314)\n",
      "T: 111.9269  |  N: 1\n",
      "\n",
      "real\t1m52.677s\n",
      "user\t1m49.973s\n",
      "sys\t0m2.216s\n"
     ]
    }
   ],
   "source": [
    "! time python rfns.py"
   ]
  },
  {
   "cell_type": "markdown",
   "metadata": {},
   "source": [
    "---"
   ]
  },
  {
   "cell_type": "markdown",
   "metadata": {
    "tags": []
   },
   "source": [
    "## MPI\n",
    "\n",
    "Makefile must be changed to enable mpi option\n",
    "\n",
    "        PAR = mpi  (uncommented)"
   ]
  },
  {
   "cell_type": "code",
   "execution_count": 2,
   "metadata": {},
   "outputs": [
    {
     "name": "stdout",
     "output_type": "stream",
     "text": [
      "Currently Loaded Modulefiles:\n",
      "  1) intel_psxe/2020\n"
     ]
    }
   ],
   "source": [
    "! module list"
   ]
  },
  {
   "cell_type": "code",
   "execution_count": 3,
   "metadata": {},
   "outputs": [
    {
     "name": "stdout",
     "output_type": "stream",
     "text": [
      "Python 3.7.11 :: Intel Corporation\n",
      "ifort (IFORT) 19.1.2.254 20200623\n",
      "Copyright (C) 1985-2020 Intel Corporation.  All rights reserved.\n",
      "\n",
      "ifort (IFORT) 19.1.2.254 20200623\n",
      "Copyright (C) 1985-2020 Intel Corporation.  All rights reserved.\n",
      "\n",
      "icc (ICC) 19.1.2.254 20200623\n",
      "Copyright (C) 1985-2020 Intel Corporation.  All rights reserved.\n",
      "\n",
      "Intel(R) MPI Library for Linux* OS, Version 2021.3 Build 20210601 (id: 6f90181f1)\n",
      "Copyright 2003-2021, Intel Corporation.\n"
     ]
    }
   ],
   "source": [
    "%%bash\n",
    "python --version\n",
    "ifort --version\n",
    "mpiifort --version\n",
    "icc --version\n",
    "mpirun --version"
   ]
  },
  {
   "cell_type": "code",
   "execution_count": null,
   "metadata": {},
   "outputs": [],
   "source": [
    "%%bash\n",
    "module load intel_psxe/2020\n",
    "cd parf003\n",
    "rm -f *.o *.mod parf003mpi*.*\n",
    "make --always-make    # create object files (.o)"
   ]
  },
  {
   "cell_type": "code",
   "execution_count": 8,
   "metadata": {},
   "outputs": [
    {
     "name": "stdout",
     "output_type": "stream",
     "text": [
      "Reading fortran codes...\n",
      "\tReading file 'main.f90' (format:free)\n",
      "Post-processing...\n",
      "\tBlock: parf003mpi\n",
      "\t\t\tBlock: random_forest\n",
      "In: :parf003mpi:main.f90:random_forest\n",
      "get_useparameters: no module options info used by random_forest\n",
      "In: :parf003mpi:main.f90:random_forest\n",
      "get_useparameters: no module instancesets info used by random_forest\n",
      "In: :parf003mpi:main.f90:random_forest\n",
      "get_useparameters: no module bootstraps info used by random_forest\n",
      "In: :parf003mpi:main.f90:random_forest\n",
      "get_useparameters: no module utilities info used by random_forest\n",
      "In: :parf003mpi:main.f90:random_forest\n",
      "get_useparameters: no module forests info used by random_forest\n",
      "In: :parf003mpi:main.f90:random_forest\n",
      "get_useparameters: no module prototypes info used by random_forest\n",
      "In: :parf003mpi:main.f90:random_forest\n",
      "get_useparameters: no module parallel info used by random_forest\n",
      "Post-processing (stage 2)...\n",
      "Saving signatures to file \"./sgnFile.pyf\"\n"
     ]
    }
   ],
   "source": [
    "%%bash\n",
    "module load intel_psxe/2020\n",
    "source /opt/intel/parallel_studio_xe_2020/intelpython3/etc/profile.d/conda.sh\n",
    "SCR=/scratch${PWD#/prj}\n",
    "conda activate --stack ${SCR%/rf}/env4\n",
    "cd parf003\n",
    "f2py  -m parf003mpi  --overwrite-signature  -h sgnFile.pyf  main.f90"
   ]
  },
  {
   "cell_type": "code",
   "execution_count": null,
   "metadata": {},
   "outputs": [],
   "source": [
    "%%bash\n",
    "module load intel_psxe/2020\n",
    "source /opt/intel/parallel_studio_xe_2020/intelpython3/etc/profile.d/conda.sh\n",
    "SCR=/scratch${PWD#/prj}\n",
    "conda activate --stack ${SCR%/rf}/env4\n",
    "cd parf003\n",
    "f2py  -c sgnFile.pyf  main.f90  --f90exec=mpiifort  --quiet  \\\n",
    "-DNPY_NO_DEPRECATED_API=NPY_1_7_API_VERSION  \\\n",
    "--fcompiler=intelem  --opt='-O3 -diag-disable=8291'  \\\n",
    "parallel.o trees.o bitvectors.o instancesets.o options.o utilities.o  \\\n",
    "bootstraps.o forests.o importances.o prototypes.o graphics.o support.o"
   ]
  },
  {
   "cell_type": "raw",
   "metadata": {},
   "source": [
    "After error, compiled from command line using:\n",
    "mpiifort -shared /tmp/tmpoeoanjnb/tmp/tmpoeoanjnb/src.linux-x86_64-3.7/parf003mpimodule.o /tmp/tmpoeoanjnb/tmp/tmpoeoanjnb/src.linux-x86_64-3.7/fortranobject.o /tmp/tmpoeoanjnb/main.o parallel.o trees.o bitvectors.o instancesets.o options.o utilities.o bootstraps.o forests.o importances.o prototypes.o graphics.o support.o -o ./parf003mpi.cpython-37m-x86_64-linux-gnu.so"
   ]
  },
  {
   "cell_type": "code",
   "execution_count": 11,
   "metadata": {},
   "outputs": [
    {
     "name": "stdout",
     "output_type": "stream",
     "text": [
      "parf003/parf003mpi.cpython-37m-x86_64-linux-gnu.so\n"
     ]
    }
   ],
   "source": [
    "! ls parf003/parf003mpi*"
   ]
  },
  {
   "cell_type": "code",
   "execution_count": 12,
   "metadata": {},
   "outputs": [],
   "source": [
    "! cp parf003/parf003mpi* ."
   ]
  },
  {
   "cell_type": "code",
   "execution_count": 13,
   "metadata": {},
   "outputs": [],
   "source": [
    "import parf003mpi"
   ]
  },
  {
   "cell_type": "code",
   "execution_count": 14,
   "metadata": {},
   "outputs": [
    {
     "name": "stdout",
     "output_type": "stream",
     "text": [
      "Help on module parf003mpi:\n",
      "\n",
      "NAME\n",
      "    parf003mpi\n",
      "\n",
      "DESCRIPTION\n",
      "    This module 'parf003mpi' is auto-generated with f2py (version:1.20.3).\n",
      "    Functions:\n",
      "      p_error_count,p_oob_count,p_kappa_value,p_instance_count,p_error,p_testset_kappa_value,p_time,p_rank,p_size = random_forest(p_trainset,p_testset)\n",
      "    .\n",
      "\n",
      "DATA\n",
      "    __f2py_numpy_version__ = '1.20.3'\n",
      "    random_forest = <fortran object>\n",
      "\n",
      "VERSION\n",
      "    1.20.3\n",
      "\n",
      "FILE\n",
      "    /prj/ampemi/xxxx.xxxx/rf/parf003mpi.cpython-37m-x86_64-linux-gnu.so\n",
      "\n",
      "\n"
     ]
    }
   ],
   "source": [
    "help(parf003mpi)"
   ]
  },
  {
   "cell_type": "code",
   "execution_count": 17,
   "metadata": {},
   "outputs": [
    {
     "name": "stdout",
     "output_type": "stream",
     "text": [
      "Overwriting rfnm.py\n"
     ]
    }
   ],
   "source": [
    "%%writefile rfnm.py\n",
    "import time as tm, parf003mpi\n",
    "\n",
    "t0 = tm.time()    # time measurement\n",
    "\n",
    "resu = parf003mpi.random_forest(\n",
    "    \"datasets/asteroid-train-66k.arff\",\n",
    "    \"datasets/asteroid-test-34k.arff\"\n",
    ")\n",
    "p_error_count = resu[0]\n",
    "p_oob_count = resu[1]\n",
    "p_kappa_value = resu[2]\n",
    "p_instance_count = resu[3]\n",
    "p_error = resu[4]\n",
    "p_testset_kappa_value = resu[5]\n",
    "p_time = resu[6]\n",
    "p_rank = resu[7]\n",
    "p_size = resu[8]\n",
    "\n",
    "t1 = tm.time()    # time measurement\n",
    "\n",
    "if p_rank == 0 :\n",
    "    print(f'Trainset classification error is',\n",
    "          f'{p_error_count * 100 / p_oob_count :.2f}%',\n",
    "          f'of {p_oob_count} (kappa: {p_kappa_value :.4f})')\n",
    "    print(f' Testset classification error is {p_error * 100 :.2f}%',\n",
    "          f'of {p_instance_count} (kappa: {p_testset_kappa_value :.4f})')\n",
    "    print(f'T: {p_time :.4f}  |  N: {p_size :0g}')"
   ]
  },
  {
   "cell_type": "code",
   "execution_count": 18,
   "metadata": {},
   "outputs": [
    {
     "name": "stdout",
     "output_type": "stream",
     "text": [
      "Trainset classification error is 0.06% of 66000 (kappa: 0.9915)\n",
      " Testset classification error is 0.60% of 34000 (kappa: 0.9091)\n",
      "T: 106.1714  |  N: 1\n"
     ]
    },
    {
     "name": "stderr",
     "output_type": "stream",
     "text": [
      "\n",
      "real\t1m48.911s\n",
      "user\t1m44.437s\n",
      "sys\t0m2.066s\n"
     ]
    }
   ],
   "source": [
    "%%bash\n",
    "unset I_MPI_PMI_LIBRARY\n",
    "time mpiexec -n 1 python rfnm.py"
   ]
  },
  {
   "cell_type": "code",
   "execution_count": 19,
   "metadata": {},
   "outputs": [
    {
     "name": "stdout",
     "output_type": "stream",
     "text": [
      "Trainset classification error is 0.05% of 66000 (kappa: 0.9920)\n",
      " Testset classification error is 0.53% of 34000 (kappa: 0.9202)\n",
      "T: 64.6468  |  N: 2\n"
     ]
    },
    {
     "name": "stderr",
     "output_type": "stream",
     "text": [
      "\n",
      "real\t1m5.458s\n",
      "user\t2m8.761s\n",
      "sys\t0m1.069s\n"
     ]
    }
   ],
   "source": [
    "%%bash\n",
    "unset I_MPI_PMI_LIBRARY\n",
    "time mpiexec -n 2 python rfnm.py"
   ]
  },
  {
   "cell_type": "code",
   "execution_count": 20,
   "metadata": {},
   "outputs": [
    {
     "name": "stdout",
     "output_type": "stream",
     "text": [
      "Trainset classification error is 0.06% of 66000 (kappa: 0.9904)\n",
      " Testset classification error is 0.46% of 34000 (kappa: 0.9305)\n",
      "T: 40.2618  |  N: 4\n"
     ]
    },
    {
     "name": "stderr",
     "output_type": "stream",
     "text": [
      "\n",
      "real\t0m41.133s\n",
      "user\t2m40.354s\n",
      "sys\t0m1.721s\n"
     ]
    }
   ],
   "source": [
    "%%bash\n",
    "unset I_MPI_PMI_LIBRARY\n",
    "time mpiexec -n 4 python rfnm.py"
   ]
  },
  {
   "cell_type": "code",
   "execution_count": 21,
   "metadata": {},
   "outputs": [
    {
     "name": "stdout",
     "output_type": "stream",
     "text": [
      "Trainset classification error is 0.05% of 66000 (kappa: 0.9922)\n",
      " Testset classification error is 0.45% of 34000 (kappa: 0.9318)\n",
      "T: 18.5569  |  N: 16\n"
     ]
    },
    {
     "name": "stderr",
     "output_type": "stream",
     "text": [
      "\n",
      "real\t0m20.131s\n",
      "user\t4m53.772s\n",
      "sys\t0m7.123s\n"
     ]
    }
   ],
   "source": [
    "%%bash\n",
    "unset I_MPI_PMI_LIBRARY\n",
    "time mpiexec -n 16 python rfnm.py"
   ]
  },
  {
   "cell_type": "code",
   "execution_count": null,
   "metadata": {},
   "outputs": [],
   "source": []
  },
  {
   "cell_type": "code",
   "execution_count": null,
   "metadata": {},
   "outputs": [],
   "source": []
  }
 ],
 "metadata": {
  "kernelspec": {
   "display_name": "Python 3 (ipykernel)",
   "language": "python",
   "name": "python3"
  },
  "language_info": {
   "codemirror_mode": {
    "name": "ipython",
    "version": 3
   },
   "file_extension": ".py",
   "mimetype": "text/x-python",
   "name": "python",
   "nbconvert_exporter": "python",
   "pygments_lexer": "ipython3",
   "version": "3.8.13"
  }
 },
 "nbformat": 4,
 "nbformat_minor": 4
}
