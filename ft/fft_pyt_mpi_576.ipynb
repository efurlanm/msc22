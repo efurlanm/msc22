{
 "cells": [
  {
   "cell_type": "markdown",
   "metadata": {},
   "source": [
    "# FFTW C2C Python MPI 576\n",
    "\n",
    "- https://numpy.org/doc/stable/reference/routines.fft.html\n",
    "- https://mpi4py-fft.readthedocs.io/en/latest/parallel.html"
   ]
  },
  {
   "cell_type": "code",
   "execution_count": 41,
   "metadata": {},
   "outputs": [],
   "source": [
    "#-----------------------------------------------------------------------"
   ]
  },
  {
   "cell_type": "markdown",
   "metadata": {},
   "source": [
    "- module load  anaconda3/2020.11\n",
    "- module load  mathlibs/fftw/3.3.8_openmpi-3.1_gnu\n",
    "- conda activate /scratch/app/anaconda3/2020.11\n",
    "- conda activate $pwd/env2"
   ]
  },
  {
   "cell_type": "code",
   "execution_count": 1,
   "metadata": {},
   "outputs": [
    {
     "name": "stdout",
     "output_type": "stream",
     "text": [
      "Currently Loaded Modulefiles:\n",
      "  1) anaconda3/2020.11\n",
      "  2) openmpi/gnu/3.1.4\n",
      "  3) mathlibs/fftw/3.3.8_openmpi-3.1_gnu\n"
     ]
    }
   ],
   "source": [
    "! module list"
   ]
  },
  {
   "cell_type": "code",
   "execution_count": 4,
   "metadata": {},
   "outputs": [
    {
     "name": "stdout",
     "output_type": "stream",
     "text": [
      "Overwriting pc2cp.py\n"
     ]
    }
   ],
   "source": [
    "%%writefile pc2cp.py\n",
    "import numpy as np, time as tm\n",
    "from mpi4py_fft import PFFT, newDistArray\n",
    "from mpi4py import MPI\n",
    "comm = MPI.COMM_WORLD\n",
    "rank = comm.Get_rank()\n",
    "size = comm.Get_size()\n",
    "\n",
    "t0 = tm.time()    # time measurement\n",
    "\n",
    "# data\n",
    "L = M = N = 576\n",
    "NA = np.array([N, M, L], dtype=int)\n",
    "f = PFFT(comm, NA, dtype=np.complex128, backend='pyfftw')\n",
    "u = newDistArray(f, False)\n",
    "for k in range (u.shape[2]) :\n",
    "    for j in range(u.shape[1]) :\n",
    "        for i in range(u.shape[0]) :\n",
    "            u[i, j, k] = i + j + k + 3\n",
    "u.real = np.sin ( u.real )\n",
    "u.imag = 0\n",
    "\n",
    "t1 = tm.time()    # time measurement\n",
    "\n",
    "# FFT\n",
    "uf = f.forward(u, normalize=False)\n",
    "\n",
    "# checksum\n",
    "S  = np.array(0, dtype=np.complex128)\n",
    "Sn = np.array(np.sum(uf), dtype=np.complex128)\n",
    "comm.Reduce([Sn, MPI.DOUBLE_COMPLEX], [S, MPI.DOUBLE_COMPLEX],\n",
    "            op=MPI.SUM, root=0)\n",
    "\n",
    "t2 = tm.time()    # time measurement\n",
    "\n",
    "if rank == 0 :\n",
    "    print(f\"S: {S*1E-5:.0f}\", end='')\n",
    "    print(f\" | L: {L:0g}\", end='')\n",
    "    print(f\" | N: {size:0g}\", end='')\n",
    "    print(f\" | TS: {t1-t0:.4f}\", end='')\n",
    "    print(f\" | TP: {t2-t1:.4f}\", end='')\n",
    "    print(f\" | TT: {t2-t0:.4f}\")"
   ]
  },
  {
   "cell_type": "markdown",
   "metadata": {},
   "source": [
    "## Check"
   ]
  },
  {
   "cell_type": "code",
   "execution_count": 5,
   "metadata": {},
   "outputs": [
    {
     "name": "stdout",
     "output_type": "stream",
     "text": [
      "S: 270-0j | L: 576 | N: 4 | TS: 32.9811 | TP: 6.1715 | TT: 39.1526\n",
      "\n",
      "real\t0m40.213s\n",
      "user\t2m20.558s\n",
      "sys\t0m18.978s\n"
     ]
    }
   ],
   "source": [
    "! time mpiexec -n 4 python pc2cp.py"
   ]
  },
  {
   "cell_type": "code",
   "execution_count": 6,
   "metadata": {},
   "outputs": [
    {
     "name": "stdout",
     "output_type": "stream",
     "text": [
      "S: 270-0j | L: 576 | N: 16 | TS: 8.5875 | TP: 1.4231 | TT: 10.0105\n",
      "\n",
      "real\t0m13.470s\n",
      "user\t2m20.098s\n",
      "sys\t0m23.762s\n"
     ]
    }
   ],
   "source": [
    "! time mpiexec -n 16 python pc2cp.py"
   ]
  },
  {
   "cell_type": "markdown",
   "metadata": {},
   "source": [
    "## Copy to /scratch"
   ]
  },
  {
   "cell_type": "code",
   "execution_count": 7,
   "metadata": {},
   "outputs": [],
   "source": [
    "%%bash\n",
    "dst=/scratch${PWD#\"/prj\"}\n",
    "cp pc2cp.py $dst"
   ]
  },
  {
   "cell_type": "markdown",
   "metadata": {},
   "source": [
    "## Batch script"
   ]
  },
  {
   "cell_type": "code",
   "execution_count": 8,
   "metadata": {},
   "outputs": [
    {
     "name": "stdout",
     "output_type": "stream",
     "text": [
      "Overwriting pc2cp.srm\n"
     ]
    }
   ],
   "source": [
    "%%writefile pc2cp.srm\n",
    "#!/bin/bash\n",
    "#SBATCH --job-name pc2cp       # Job name\n",
    "#SBATCH --partition cpu_small  # Select partition\n",
    "#SBATCH --ntasks=1             # Total tasks\n",
    "#SBATCH --time=00:10:00        # Limit execution time\n",
    "#SBATCH --exclusive            # Exclusive acccess to nodes\n",
    "\n",
    "echo '========================================'\n",
    "echo '- Job ID:' $SLURM_JOB_ID\n",
    "echo '- Tasks per node:' $SLURM_NTASKS_PER_NODE\n",
    "echo '- # of nodes in the job:' $SLURM_JOB_NUM_NODES\n",
    "echo '- # of tasks:' $SLURM_NTASKS\n",
    "echo '- Dir from which sbatch was invoked:' ${SLURM_SUBMIT_DIR##*/}\n",
    "cd $SLURM_SUBMIT_DIR\n",
    "echo -n '- List of nodes allocated to the job: '\n",
    "nodeset -e $SLURM_JOB_NODELIST\n",
    "\n",
    "# Environment\n",
    "echo '-- modules ----------------------------'\n",
    "cd\n",
    "dir=/scratch${PWD#\"/prj\"}\n",
    "cd $dir\n",
    "source $dir/env2/etc/profile.d/conda.sh\n",
    "conda activate $dir/env2\n",
    "conda activate --stack $dir/env3\n",
    "cd $dir/fft\n",
    "                                              \n",
    "# Executable\n",
    "EXEC=\"python pc2cp.py\"\n",
    "\n",
    "# Start\n",
    "echo '-- run --------------------------------'\n",
    "echo '$ srun --mpi=pmi2 -n' $SLURM_NTASKS ${EXEC##*/}\n",
    "echo '-- output -----------------------------'\n",
    "srun --mpi=pmi2 -n $SLURM_NTASKS $EXEC\n",
    "echo '~~ end ~~~~~~~~~~~~~~~~~~~~~~~~~~~~~~~~'"
   ]
  },
  {
   "cell_type": "markdown",
   "metadata": {},
   "source": [
    "## Check"
   ]
  },
  {
   "cell_type": "code",
   "execution_count": 9,
   "metadata": {},
   "outputs": [
    {
     "name": "stdout",
     "output_type": "stream",
     "text": [
      "Submitted batch job 1332923\n"
     ]
    }
   ],
   "source": [
    "! sbatch --partition=cpu_dev --ntasks=96 pc2cp.srm"
   ]
  },
  {
   "cell_type": "code",
   "execution_count": 10,
   "metadata": {},
   "outputs": [
    {
     "name": "stdout",
     "output_type": "stream",
     "text": [
      "             JOBID  PARTITION  ST  TIME NODES CPUS\n",
      "           1332923    cpu_dev  PD  0:00     4   96\n"
     ]
    }
   ],
   "source": [
    "! squeue -n pc2cp -o \"%.18i  %.9P  %.2t %.5M %.5D %.4C\""
   ]
  },
  {
   "cell_type": "code",
   "execution_count": 13,
   "metadata": {},
   "outputs": [
    {
     "name": "stdout",
     "output_type": "stream",
     "text": [
      "             JOBID  PARTITION  ST  TIME NODES CPUS\n"
     ]
    }
   ],
   "source": [
    "! squeue -n pc2cp -o \"%.18i  %.9P  %.2t %.5M %.5D %.4C\""
   ]
  },
  {
   "cell_type": "code",
   "execution_count": 14,
   "metadata": {},
   "outputs": [
    {
     "name": "stdout",
     "output_type": "stream",
     "text": [
      "========================================\n",
      "- Job ID: 1332923\n",
      "- Tasks per node:\n",
      "- # of nodes in the job: 4\n",
      "- # of tasks: 96\n",
      "- Dir from which sbatch was invoked: fft\n",
      "- List of nodes allocated to the job: sdumont1247 sdumont1248 sdumont1249 sdumont1250\n",
      "-- modules ----------------------------\n",
      "-- run --------------------------------\n",
      "$ srun --mpi=pmi2 -n 96 python pc2cp.py\n",
      "-- output -----------------------------\n",
      "S: 270-0j | L: 576 | N: 96 | TS: 15.4266 | TP: 6.2516 | TT: 21.6782\n",
      "~~ end ~~~~~~~~~~~~~~~~~~~~~~~~~~~~~~~~\n"
     ]
    }
   ],
   "source": [
    "! cat /scratch${PWD#\"/prj\"}/slurm-1332923.out"
   ]
  },
  {
   "cell_type": "markdown",
   "metadata": {},
   "source": [
    "## Run"
   ]
  },
  {
   "cell_type": "markdown",
   "metadata": {},
   "source": [
    "### 1 of (1, 4, 16, 24, 48, 72, 96)"
   ]
  },
  {
   "cell_type": "code",
   "execution_count": 15,
   "metadata": {
    "scrolled": true
   },
   "outputs": [
    {
     "name": "stdout",
     "output_type": "stream",
     "text": [
      "Submitted batch job 1332941\n",
      "Submitted batch job 1332942\n",
      "Submitted batch job 1332943\n"
     ]
    }
   ],
   "source": [
    "! sbatch --ntasks=1 pc2cp.srm\n",
    "! sbatch --ntasks=1 pc2cp.srm\n",
    "! sbatch --ntasks=1 pc2cp.srm"
   ]
  },
  {
   "cell_type": "code",
   "execution_count": 8,
   "metadata": {},
   "outputs": [
    {
     "name": "stdout",
     "output_type": "stream",
     "text": [
      "========================================\n",
      "- Job ID: 1332941\n",
      "- Tasks per node:\n",
      "- # of nodes in the job: 1\n",
      "- # of tasks: 1\n",
      "- Dir from which sbatch was invoked: fft\n",
      "- List of nodes allocated to the job: sdumont1276\n",
      "-- modules ----------------------------\n",
      "-- run --------------------------------\n",
      "$ srun --mpi=pmi2 -n 1 python pc2cp.py\n",
      "-- output -----------------------------\n",
      "S: 270-0j | L: 576 | N: 1 | TS: 159.8739 | TP: 19.2747 | TT: 179.1486\n",
      "~~ end ~~~~~~~~~~~~~~~~~~~~~~~~~~~~~~~~\n",
      "========================================\n",
      "- Job ID: 1332942\n",
      "- Tasks per node:\n",
      "- # of nodes in the job: 1\n",
      "- # of tasks: 1\n",
      "- Dir from which sbatch was invoked: fft\n",
      "- List of nodes allocated to the job: sdumont1286\n",
      "-- modules ----------------------------\n",
      "-- run --------------------------------\n",
      "$ srun --mpi=pmi2 -n 1 python pc2cp.py\n",
      "-- output -----------------------------\n",
      "S: 270-0j | L: 576 | N: 1 | TS: 170.5870 | TP: 19.3180 | TT: 189.9049\n",
      "~~ end ~~~~~~~~~~~~~~~~~~~~~~~~~~~~~~~~\n",
      "========================================\n",
      "- Job ID: 1332943\n",
      "- Tasks per node:\n",
      "- # of nodes in the job: 1\n",
      "- # of tasks: 1\n",
      "- Dir from which sbatch was invoked: fft\n",
      "- List of nodes allocated to the job: sdumont1276\n",
      "-- modules ----------------------------\n",
      "-- run --------------------------------\n",
      "$ srun --mpi=pmi2 -n 1 python pc2cp.py\n",
      "-- output -----------------------------\n",
      "S: 270-0j | L: 576 | N: 1 | TS: 135.3904 | TP: 19.8935 | TT: 155.2839\n",
      "~~ end ~~~~~~~~~~~~~~~~~~~~~~~~~~~~~~~~\n"
     ]
    }
   ],
   "source": [
    "! cat /scratch${PWD#\"/prj\"}/slurm-1332941.out\n",
    "! cat /scratch${PWD#\"/prj\"}/slurm-1332942.out\n",
    "! cat /scratch${PWD#\"/prj\"}/slurm-1332943.out"
   ]
  },
  {
   "cell_type": "markdown",
   "metadata": {},
   "source": [
    "### 4 of (1, 4, 16, 24, 48, 72, 96)"
   ]
  },
  {
   "cell_type": "code",
   "execution_count": 16,
   "metadata": {
    "scrolled": true
   },
   "outputs": [
    {
     "name": "stdout",
     "output_type": "stream",
     "text": [
      "Submitted batch job 1332944\n",
      "Submitted batch job 1332945\n",
      "Submitted batch job 1332946\n"
     ]
    }
   ],
   "source": [
    "! sbatch --ntasks=4 pc2cp.srm\n",
    "! sbatch --ntasks=4 pc2cp.srm\n",
    "! sbatch --ntasks=4 pc2cp.srm"
   ]
  },
  {
   "cell_type": "code",
   "execution_count": 7,
   "metadata": {},
   "outputs": [
    {
     "name": "stdout",
     "output_type": "stream",
     "text": [
      "========================================\n",
      "- Job ID: 1332944\n",
      "- Tasks per node:\n",
      "- # of nodes in the job: 1\n",
      "- # of tasks: 4\n",
      "- Dir from which sbatch was invoked: fft\n",
      "- List of nodes allocated to the job: sdumont1286\n",
      "-- modules ----------------------------\n",
      "-- run --------------------------------\n",
      "$ srun --mpi=pmi2 -n 4 python pc2cp.py\n",
      "-- output -----------------------------\n",
      "S: 270-0j | L: 576 | N: 4 | TS: 37.8654 | TP: 3.9770 | TT: 41.8424\n",
      "~~ end ~~~~~~~~~~~~~~~~~~~~~~~~~~~~~~~~\n",
      "========================================\n",
      "- Job ID: 1332945\n",
      "- Tasks per node:\n",
      "- # of nodes in the job: 1\n",
      "- # of tasks: 4\n",
      "- Dir from which sbatch was invoked: fft\n",
      "- List of nodes allocated to the job: sdumont1276\n",
      "-- modules ----------------------------\n",
      "-- run --------------------------------\n",
      "$ srun --mpi=pmi2 -n 4 python pc2cp.py\n",
      "-- output -----------------------------\n",
      "S: 270-0j | L: 576 | N: 4 | TS: 40.2809 | TP: 8.7450 | TT: 49.0258\n",
      "~~ end ~~~~~~~~~~~~~~~~~~~~~~~~~~~~~~~~\n",
      "========================================\n",
      "- Job ID: 1332946\n",
      "- Tasks per node:\n",
      "- # of nodes in the job: 1\n",
      "- # of tasks: 4\n",
      "- Dir from which sbatch was invoked: fft\n",
      "- List of nodes allocated to the job: sdumont1276\n",
      "-- modules ----------------------------\n",
      "-- run --------------------------------\n",
      "$ srun --mpi=pmi2 -n 4 python pc2cp.py\n",
      "-- output -----------------------------\n",
      "S: 270-0j | L: 576 | N: 4 | TS: 36.6069 | TP: 7.1685 | TT: 43.7754\n",
      "~~ end ~~~~~~~~~~~~~~~~~~~~~~~~~~~~~~~~\n"
     ]
    }
   ],
   "source": [
    "! cat /scratch${PWD#\"/prj\"}/slurm-1332944.out\n",
    "! cat /scratch${PWD#\"/prj\"}/slurm-1332945.out\n",
    "! cat /scratch${PWD#\"/prj\"}/slurm-1332946.out"
   ]
  },
  {
   "cell_type": "markdown",
   "metadata": {},
   "source": [
    "### 16 of (1, 4, 16, 24, 48, 72, 96)"
   ]
  },
  {
   "cell_type": "code",
   "execution_count": 17,
   "metadata": {
    "scrolled": true
   },
   "outputs": [
    {
     "name": "stdout",
     "output_type": "stream",
     "text": [
      "Submitted batch job 1332947\n",
      "Submitted batch job 1332948\n",
      "Submitted batch job 1332949\n"
     ]
    }
   ],
   "source": [
    "! sbatch --ntasks=16 pc2cp.srm\n",
    "! sbatch --ntasks=16 pc2cp.srm\n",
    "! sbatch --ntasks=16 pc2cp.srm"
   ]
  },
  {
   "cell_type": "code",
   "execution_count": 6,
   "metadata": {},
   "outputs": [
    {
     "name": "stdout",
     "output_type": "stream",
     "text": [
      "========================================\n",
      "- Job ID: 1332947\n",
      "- Tasks per node:\n",
      "- # of nodes in the job: 1\n",
      "- # of tasks: 16\n",
      "- Dir from which sbatch was invoked: fft\n",
      "- List of nodes allocated to the job: sdumont1286\n",
      "-- modules ----------------------------\n",
      "-- run --------------------------------\n",
      "$ srun --mpi=pmi2 -n 16 python pc2cp.py\n",
      "-- output -----------------------------\n",
      "S: 270-0j | L: 576 | N: 16 | TS: 9.5749 | TP: 1.0548 | TT: 10.6297\n",
      "~~ end ~~~~~~~~~~~~~~~~~~~~~~~~~~~~~~~~\n",
      "========================================\n",
      "- Job ID: 1332948\n",
      "- Tasks per node:\n",
      "- # of nodes in the job: 1\n",
      "- # of tasks: 16\n",
      "- Dir from which sbatch was invoked: fft\n",
      "- List of nodes allocated to the job: sdumont1286\n",
      "-- modules ----------------------------\n",
      "-- run --------------------------------\n",
      "$ srun --mpi=pmi2 -n 16 python pc2cp.py\n",
      "-- output -----------------------------\n",
      "S: 270-0j | L: 576 | N: 16 | TS: 10.8813 | TP: 1.3761 | TT: 12.2574\n",
      "~~ end ~~~~~~~~~~~~~~~~~~~~~~~~~~~~~~~~\n",
      "========================================\n",
      "- Job ID: 1332949\n",
      "- Tasks per node:\n",
      "- # of nodes in the job: 1\n",
      "- # of tasks: 16\n",
      "- Dir from which sbatch was invoked: fft\n",
      "- List of nodes allocated to the job: sdumont1276\n",
      "-- modules ----------------------------\n",
      "-- run --------------------------------\n",
      "$ srun --mpi=pmi2 -n 16 python pc2cp.py\n",
      "-- output -----------------------------\n",
      "S: 270-0j | L: 576 | N: 16 | TS: 9.1398 | TP: 1.2296 | TT: 10.3694\n",
      "~~ end ~~~~~~~~~~~~~~~~~~~~~~~~~~~~~~~~\n"
     ]
    }
   ],
   "source": [
    "! cat /scratch${PWD#\"/prj\"}/slurm-1332947.out\n",
    "! cat /scratch${PWD#\"/prj\"}/slurm-1332948.out\n",
    "! cat /scratch${PWD#\"/prj\"}/slurm-1332949.out"
   ]
  },
  {
   "cell_type": "markdown",
   "metadata": {},
   "source": [
    "### 24 of (1, 4, 16, 24, 48, 72, 96)"
   ]
  },
  {
   "cell_type": "code",
   "execution_count": 18,
   "metadata": {
    "scrolled": true
   },
   "outputs": [
    {
     "name": "stdout",
     "output_type": "stream",
     "text": [
      "Submitted batch job 1332950\n",
      "Submitted batch job 1332951\n",
      "Submitted batch job 1332952\n"
     ]
    }
   ],
   "source": [
    "! sbatch --ntasks=24 pc2cp.srm\n",
    "! sbatch --ntasks=24 pc2cp.srm\n",
    "! sbatch --ntasks=24 pc2cp.srm"
   ]
  },
  {
   "cell_type": "code",
   "execution_count": 5,
   "metadata": {},
   "outputs": [
    {
     "name": "stdout",
     "output_type": "stream",
     "text": [
      "========================================\n",
      "- Job ID: 1332950\n",
      "- Tasks per node:\n",
      "- # of nodes in the job: 1\n",
      "- # of tasks: 24\n",
      "- Dir from which sbatch was invoked: fft\n",
      "- List of nodes allocated to the job: sdumont1286\n",
      "-- modules ----------------------------\n",
      "-- run --------------------------------\n",
      "$ srun --mpi=pmi2 -n 24 python pc2cp.py\n",
      "-- output -----------------------------\n",
      "S: 270-0j | L: 576 | N: 24 | TS: 6.1370 | TP: 1.1616 | TT: 7.2987\n",
      "~~ end ~~~~~~~~~~~~~~~~~~~~~~~~~~~~~~~~\n",
      "========================================\n",
      "- Job ID: 1332951\n",
      "- Tasks per node:\n",
      "- # of nodes in the job: 1\n",
      "- # of tasks: 24\n",
      "- Dir from which sbatch was invoked: fft\n",
      "- List of nodes allocated to the job: sdumont1276\n",
      "-- modules ----------------------------\n",
      "-- run --------------------------------\n",
      "$ srun --mpi=pmi2 -n 24 python pc2cp.py\n",
      "-- output -----------------------------\n",
      "S: 270-0j | L: 576 | N: 24 | TS: 6.7884 | TP: 0.8618 | TT: 7.6502\n",
      "~~ end ~~~~~~~~~~~~~~~~~~~~~~~~~~~~~~~~\n",
      "========================================\n",
      "- Job ID: 1332952\n",
      "- Tasks per node:\n",
      "- # of nodes in the job: 1\n",
      "- # of tasks: 24\n",
      "- Dir from which sbatch was invoked: fft\n",
      "- List of nodes allocated to the job: sdumont1286\n",
      "-- modules ----------------------------\n",
      "-- run --------------------------------\n",
      "$ srun --mpi=pmi2 -n 24 python pc2cp.py\n",
      "-- output -----------------------------\n",
      "S: 270-0j | L: 576 | N: 24 | TS: 5.6728 | TP: 1.7949 | TT: 7.4678\n",
      "~~ end ~~~~~~~~~~~~~~~~~~~~~~~~~~~~~~~~\n"
     ]
    }
   ],
   "source": [
    "! cat /scratch${PWD#\"/prj\"}/slurm-1332950.out\n",
    "! cat /scratch${PWD#\"/prj\"}/slurm-1332951.out\n",
    "! cat /scratch${PWD#\"/prj\"}/slurm-1332952.out"
   ]
  },
  {
   "cell_type": "markdown",
   "metadata": {},
   "source": [
    "### 48 of (1, 4, 16, 24, 48, 72, 96)"
   ]
  },
  {
   "cell_type": "code",
   "execution_count": 19,
   "metadata": {
    "scrolled": true
   },
   "outputs": [
    {
     "name": "stdout",
     "output_type": "stream",
     "text": [
      "Submitted batch job 1332953\n",
      "Submitted batch job 1332954\n",
      "Submitted batch job 1332955\n"
     ]
    }
   ],
   "source": [
    "! sbatch --ntasks=48 pc2cp.srm\n",
    "! sbatch --ntasks=48 pc2cp.srm\n",
    "! sbatch --ntasks=48 pc2cp.srm"
   ]
  },
  {
   "cell_type": "code",
   "execution_count": 4,
   "metadata": {},
   "outputs": [
    {
     "name": "stdout",
     "output_type": "stream",
     "text": [
      "========================================\n",
      "- Job ID: 1332953\n",
      "- Tasks per node:\n",
      "- # of nodes in the job: 2\n",
      "- # of tasks: 48\n",
      "- Dir from which sbatch was invoked: fft\n",
      "- List of nodes allocated to the job: sdumont1275 sdumont1276\n",
      "-- modules ----------------------------\n",
      "-- run --------------------------------\n",
      "$ srun --mpi=pmi2 -n 48 python pc2cp.py\n",
      "-- output -----------------------------\n",
      "S: 270+0j | L: 576 | N: 48 | TS: 5.4049 | TP: 8.1324 | TT: 13.5373\n",
      "~~ end ~~~~~~~~~~~~~~~~~~~~~~~~~~~~~~~~\n",
      "========================================\n",
      "- Job ID: 1332954\n",
      "- Tasks per node:\n",
      "- # of nodes in the job: 2\n",
      "- # of tasks: 48\n",
      "- Dir from which sbatch was invoked: fft\n",
      "- List of nodes allocated to the job: sdumont1278 sdumont1286\n",
      "-- modules ----------------------------\n",
      "-- run --------------------------------\n",
      "$ srun --mpi=pmi2 -n 48 python pc2cp.py\n",
      "-- output -----------------------------\n",
      "S: 270+0j | L: 576 | N: 48 | TS: 5.3402 | TP: 7.1480 | TT: 12.4882\n",
      "~~ end ~~~~~~~~~~~~~~~~~~~~~~~~~~~~~~~~\n",
      "========================================\n",
      "- Job ID: 1332955\n",
      "- Tasks per node:\n",
      "- # of nodes in the job: 2\n",
      "- # of tasks: 48\n",
      "- Dir from which sbatch was invoked: fft\n",
      "- List of nodes allocated to the job: sdumont1275 sdumont1276\n",
      "-- modules ----------------------------\n",
      "-- run --------------------------------\n",
      "$ srun --mpi=pmi2 -n 48 python pc2cp.py\n",
      "-- output -----------------------------\n",
      "S: 270+0j | L: 576 | N: 48 | TS: 2.6456 | TP: 8.2987 | TT: 10.9443\n",
      "~~ end ~~~~~~~~~~~~~~~~~~~~~~~~~~~~~~~~\n"
     ]
    }
   ],
   "source": [
    "! cat /scratch${PWD#\"/prj\"}/slurm-1332953.out\n",
    "! cat /scratch${PWD#\"/prj\"}/slurm-1332954.out\n",
    "! cat /scratch${PWD#\"/prj\"}/slurm-1332955.out"
   ]
  },
  {
   "cell_type": "markdown",
   "metadata": {},
   "source": [
    "### 72 of (1, 4, 16, 24, 48, 72, 96)"
   ]
  },
  {
   "cell_type": "code",
   "execution_count": 20,
   "metadata": {
    "scrolled": true
   },
   "outputs": [
    {
     "name": "stdout",
     "output_type": "stream",
     "text": [
      "Submitted batch job 1332956\n",
      "Submitted batch job 1332957\n",
      "Submitted batch job 1332958\n"
     ]
    }
   ],
   "source": [
    "! sbatch --ntasks=72 pc2cp.srm\n",
    "! sbatch --ntasks=72 pc2cp.srm\n",
    "! sbatch --ntasks=72 pc2cp.srm"
   ]
  },
  {
   "cell_type": "code",
   "execution_count": 3,
   "metadata": {},
   "outputs": [
    {
     "name": "stdout",
     "output_type": "stream",
     "text": [
      "========================================\n",
      "- Job ID: 1332956\n",
      "- Tasks per node:\n",
      "- # of nodes in the job: 3\n",
      "- # of tasks: 72\n",
      "- Dir from which sbatch was invoked: fft\n",
      "- List of nodes allocated to the job: sdumont1278 sdumont1286 sdumont1491\n",
      "-- modules ----------------------------\n",
      "-- run --------------------------------\n",
      "$ srun --mpi=pmi2 -n 72 python pc2cp.py\n",
      "-- output -----------------------------\n",
      "S: 270-0j | L: 576 | N: 72 | TS: 1.8776 | TP: 9.3624 | TT: 11.2400\n",
      "~~ end ~~~~~~~~~~~~~~~~~~~~~~~~~~~~~~~~\n",
      "========================================\n",
      "- Job ID: 1332957\n",
      "- Tasks per node:\n",
      "- # of nodes in the job: 3\n",
      "- # of tasks: 72\n",
      "- Dir from which sbatch was invoked: fft\n",
      "- List of nodes allocated to the job: sdumont1275 sdumont1276 sdumont1278\n",
      "-- modules ----------------------------\n",
      "-- run --------------------------------\n",
      "$ srun --mpi=pmi2 -n 72 python pc2cp.py\n",
      "-- output -----------------------------\n",
      "S: 270-0j | L: 576 | N: 72 | TS: 2.1981 | TP: 7.0923 | TT: 9.2903\n",
      "~~ end ~~~~~~~~~~~~~~~~~~~~~~~~~~~~~~~~\n",
      "========================================\n",
      "- Job ID: 1332958\n",
      "- Tasks per node:\n",
      "- # of nodes in the job: 3\n",
      "- # of tasks: 72\n",
      "- Dir from which sbatch was invoked: fft\n",
      "- List of nodes allocated to the job: sdumont1275 sdumont1276 sdumont1278\n",
      "-- modules ----------------------------\n",
      "-- run --------------------------------\n",
      "$ srun --mpi=pmi2 -n 72 python pc2cp.py\n",
      "-- output -----------------------------\n",
      "S: 270-0j | L: 576 | N: 72 | TS: 1.9169 | TP: 8.9774 | TT: 10.8944\n",
      "~~ end ~~~~~~~~~~~~~~~~~~~~~~~~~~~~~~~~\n"
     ]
    }
   ],
   "source": [
    "! cat /scratch${PWD#\"/prj\"}/slurm-1332956.out\n",
    "! cat /scratch${PWD#\"/prj\"}/slurm-1332957.out\n",
    "! cat /scratch${PWD#\"/prj\"}/slurm-1332958.out"
   ]
  },
  {
   "cell_type": "markdown",
   "metadata": {},
   "source": [
    "### 96 of (1, 4, 16, 24, 48, 72, 96)"
   ]
  },
  {
   "cell_type": "code",
   "execution_count": 21,
   "metadata": {
    "scrolled": true
   },
   "outputs": [
    {
     "name": "stdout",
     "output_type": "stream",
     "text": [
      "Submitted batch job 1332959\n",
      "Submitted batch job 1332960\n",
      "Submitted batch job 1332961\n"
     ]
    }
   ],
   "source": [
    "! sbatch --ntasks=96 pc2cp.srm\n",
    "! sbatch --ntasks=96 pc2cp.srm\n",
    "! sbatch --ntasks=96 pc2cp.srm"
   ]
  },
  {
   "cell_type": "code",
   "execution_count": 2,
   "metadata": {},
   "outputs": [
    {
     "name": "stdout",
     "output_type": "stream",
     "text": [
      "========================================\n",
      "- Job ID: 1332959\n",
      "- Tasks per node:\n",
      "- # of nodes in the job: 4\n",
      "- # of tasks: 96\n",
      "- Dir from which sbatch was invoked: fft\n",
      "- List of nodes allocated to the job: sdumont1275 sdumont1276 sdumont1278 sdumont1286\n",
      "-- modules ----------------------------\n",
      "-- run --------------------------------\n",
      "$ srun --mpi=pmi2 -n 96 python pc2cp.py\n",
      "-- output -----------------------------\n",
      "S: 270-0j | L: 576 | N: 96 | TS: 1.5857 | TP: 7.3273 | TT: 8.9130\n",
      "~~ end ~~~~~~~~~~~~~~~~~~~~~~~~~~~~~~~~\n",
      "========================================\n",
      "- Job ID: 1332960\n",
      "- Tasks per node:\n",
      "- # of nodes in the job: 4\n",
      "- # of tasks: 96\n",
      "- Dir from which sbatch was invoked: fft\n",
      "- List of nodes allocated to the job: sdumont1275 sdumont1276 sdumont1278 sdumont1286\n",
      "-- modules ----------------------------\n",
      "-- run --------------------------------\n",
      "$ srun --mpi=pmi2 -n 96 python pc2cp.py\n",
      "-- output -----------------------------\n",
      "S: 270-0j | L: 576 | N: 96 | TS: 1.6761 | TP: 7.2206 | TT: 8.8967\n",
      "~~ end ~~~~~~~~~~~~~~~~~~~~~~~~~~~~~~~~\n",
      "========================================\n",
      "- Job ID: 1332961\n",
      "- Tasks per node:\n",
      "- # of nodes in the job: 4\n",
      "- # of tasks: 96\n",
      "- Dir from which sbatch was invoked: fft\n",
      "- List of nodes allocated to the job: sdumont1275 sdumont1276 sdumont1278 sdumont1286\n",
      "-- modules ----------------------------\n",
      "-- run --------------------------------\n",
      "$ srun --mpi=pmi2 -n 96 python pc2cp.py\n",
      "-- output -----------------------------\n",
      "S: 270-0j | L: 576 | N: 96 | TS: 1.7867 | TP: 6.4549 | TT: 8.2416\n",
      "~~ end ~~~~~~~~~~~~~~~~~~~~~~~~~~~~~~~~\n"
     ]
    }
   ],
   "source": [
    "! cat /scratch${PWD#\"/prj\"}/slurm-1332959.out\n",
    "! cat /scratch${PWD#\"/prj\"}/slurm-1332960.out\n",
    "! cat /scratch${PWD#\"/prj\"}/slurm-1332961.out"
   ]
  },
  {
   "cell_type": "code",
   "execution_count": null,
   "metadata": {},
   "outputs": [],
   "source": []
  },
  {
   "cell_type": "code",
   "execution_count": 22,
   "metadata": {},
   "outputs": [
    {
     "name": "stdout",
     "output_type": "stream",
     "text": [
      "275\n"
     ]
    }
   ],
   "source": [
    "! squeue --partition=cpu_small -h -t pending,running -r | wc -l"
   ]
  },
  {
   "cell_type": "code",
   "execution_count": 23,
   "metadata": {},
   "outputs": [
    {
     "name": "stdout",
     "output_type": "stream",
     "text": [
      "21\n"
     ]
    }
   ],
   "source": [
    "! squeue -u $(whoami) -h -t pending,running -r | wc -l"
   ]
  },
  {
   "cell_type": "code",
   "execution_count": 24,
   "metadata": {},
   "outputs": [
    {
     "name": "stdout",
     "output_type": "stream",
     "text": [
      "             JOBID  PARTITION  ST  TIME NODES CPUS\n",
      "           1332941  cpu_small  PD  0:00     1    1\n",
      "           1332942  cpu_small  PD  0:00     1    1\n",
      "           1332943  cpu_small  PD  0:00     1    1\n",
      "           1332944  cpu_small  PD  0:00     1    4\n",
      "           1332945  cpu_small  PD  0:00     1    4\n",
      "           1332946  cpu_small  PD  0:00     1    4\n",
      "           1332947  cpu_small  PD  0:00     1   16\n",
      "           1332948  cpu_small  PD  0:00     1   16\n",
      "           1332949  cpu_small  PD  0:00     1   16\n",
      "           1332950  cpu_small  PD  0:00     1   24\n",
      "           1332951  cpu_small  PD  0:00     1   24\n",
      "           1332952  cpu_small  PD  0:00     1   24\n",
      "           1332953  cpu_small  PD  0:00     2   48\n",
      "           1332954  cpu_small  PD  0:00     2   48\n",
      "           1332955  cpu_small  PD  0:00     2   48\n",
      "           1332956  cpu_small  PD  0:00     3   72\n",
      "           1332957  cpu_small  PD  0:00     3   72\n",
      "           1332958  cpu_small  PD  0:00     3   72\n",
      "           1332959  cpu_small  PD  0:00     4   96\n",
      "           1332960  cpu_small  PD  0:00     4   96\n",
      "           1332961  cpu_small  PD  0:00     4   96\n"
     ]
    }
   ],
   "source": [
    "! squeue -n pc2cp -o \"%.18i  %.9P  %.2t %.5M %.5D %.4C\""
   ]
  },
  {
   "cell_type": "code",
   "execution_count": 1,
   "metadata": {},
   "outputs": [
    {
     "name": "stdout",
     "output_type": "stream",
     "text": [
      "             JOBID  PARTITION  ST  TIME NODES CPUS\n"
     ]
    }
   ],
   "source": [
    "! squeue -n pc2cp -o \"%.18i  %.9P  %.2t %.5M %.5D %.4C\""
   ]
  },
  {
   "cell_type": "code",
   "execution_count": null,
   "metadata": {},
   "outputs": [],
   "source": []
  },
  {
   "cell_type": "code",
   "execution_count": null,
   "metadata": {},
   "outputs": [],
   "source": []
  }
 ],
 "metadata": {
  "kernelspec": {
   "display_name": "Python 3",
   "language": "python",
   "name": "python3"
  },
  "language_info": {
   "codemirror_mode": {
    "name": "ipython",
    "version": 3
   },
   "file_extension": ".py",
   "mimetype": "text/x-python",
   "name": "python",
   "nbconvert_exporter": "python",
   "pygments_lexer": "ipython3",
   "version": "3.8.5"
  }
 },
 "nbformat": 4,
 "nbformat_minor": 4
}
