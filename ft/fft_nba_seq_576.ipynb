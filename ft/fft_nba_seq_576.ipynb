{
 "cells": [
  {
   "cell_type": "markdown",
   "metadata": {},
   "source": [
    "# FFTW C2C Numba Sequential 576\n",
    "\n",
    "- https://github.com/numba/numba/issues/5864\n",
    "- https://numba.pydata.org/numba-doc/latest/user/withobjmode.html\n",
    "- https://numba.pydata.org/numba-doc/dev/reference/types.html"
   ]
  },
  {
   "cell_type": "code",
   "execution_count": 41,
   "metadata": {},
   "outputs": [],
   "source": [
    "#=--------------------------------------------------------------------=#"
   ]
  },
  {
   "cell_type": "code",
   "execution_count": 10,
   "metadata": {},
   "outputs": [
    {
     "name": "stdout",
     "output_type": "stream",
     "text": [
      "Overwriting bc2cs.py\n"
     ]
    }
   ],
   "source": [
    "%%writefile bc2cs.py\n",
    "import numpy as np, pyfftw as pf, time as tm\n",
    "from numba import njit, objmode\n",
    "\n",
    "t3 = tm.time()    # time measurement\n",
    "\n",
    "@njit\n",
    "def ff() :\n",
    "    with objmode(t0 = 'f8') :\n",
    "        t0 = tm.time()    # time measurement\n",
    "    \n",
    "    # data\n",
    "    L = M = N = 576\n",
    "    with objmode(u = 'complex128[:,:,:]') :  # annotate return type\n",
    "        u = pf.empty_aligned( (N, M, L), dtype=np.complex128 )\n",
    "    for k in range (u.shape[2]) :\n",
    "        for j in range(u.shape[1]) :\n",
    "            for i in range(u.shape[0]) :\n",
    "                u[i, j, k] = complex( np.sin ( i + j + k + 3 ), 0 )\n",
    "    \n",
    "    with objmode(t1 = 'f8') :\n",
    "        t1 = tm.time()    # time measurement\n",
    "    \n",
    "    # FFT\n",
    "    with objmode(u = 'complex128[:,:,:]') :  # annotate return type\n",
    "        u = pf.interfaces.numpy_fft.fftn(u)\n",
    "    # checksum\n",
    "    s = np.sum(u)\n",
    "    \n",
    "    with objmode(t2 = 'f8') :\n",
    "        t2 = tm.time()    # time measurement\n",
    "    \n",
    "    return s, L, t0, t1, t2\n",
    "\n",
    "# main\n",
    "s, l, t0, t1, t2 = ff()\n",
    "\n",
    "t4 = tm.time()    # time measurement\n",
    "\n",
    "print(f\"S:{s*1E-5:.0f}\", end='')\n",
    "print(f\" | L:{l:0g}\", end='')\n",
    "print(f\" | T1:{t1-t0:.4f}\", end='')\n",
    "print(f\" | TF:{t2-t1:.4f}\", end='')\n",
    "print(f\" | TT:{t2-t0:.4f}\", end='')\n",
    "print(f\" | TO:{t4-t3:.4f}\")"
   ]
  },
  {
   "cell_type": "code",
   "execution_count": 11,
   "metadata": {},
   "outputs": [
    {
     "name": "stdout",
     "output_type": "stream",
     "text": [
      "S:270-0j | L:576 | T1:23.3098 | TF:27.2651 | TT:50.5749 | TO:52.0067\n",
      "\u001b[0m\n",
      "real\t0m54.142s\n",
      "user\t0m44.074s\n",
      "sys\t0m9.568s\n"
     ]
    }
   ],
   "source": [
    "! time python bc2cs.py"
   ]
  },
  {
   "cell_type": "code",
   "execution_count": 18,
   "metadata": {},
   "outputs": [],
   "source": [
    "! cp bc2cs.py /scratch${PWD#\"/prj\"}"
   ]
  },
  {
   "cell_type": "code",
   "execution_count": 19,
   "metadata": {},
   "outputs": [
    {
     "name": "stdout",
     "output_type": "stream",
     "text": [
      "Overwriting bc2cs.srm\n"
     ]
    }
   ],
   "source": [
    "%%writefile bc2cs.srm\n",
    "#!/bin/bash\n",
    "#SBATCH --job-name bc2cs       # Job name\n",
    "#SBATCH --partition cpu_small  # Select partition\n",
    "#SBATCH --ntasks=1             # Total tasks\n",
    "#SBATCH --time=00:03:00        # Limit execution time\n",
    "#SBATCH --exclusive            # Exclusive acccess to nodes\n",
    "\n",
    "echo '========================================'\n",
    "echo '- Job ID:' $SLURM_JOB_ID\n",
    "echo '- Tasks per node:' $SLURM_NTASKS_PER_NODE\n",
    "echo '- # of nodes in the job:' $SLURM_JOB_NUM_NODES\n",
    "echo '- # of tasks:' $SLURM_NTASKS\n",
    "echo '- Dir from which sbatch was invoked:' ${SLURM_SUBMIT_DIR##*/}\n",
    "cd $SLURM_SUBMIT_DIR\n",
    "echo -n '- List of nodes allocated to the job: '\n",
    "nodeset -e $SLURM_JOB_NODELIST\n",
    "\n",
    "# Environment\n",
    "echo '-- modules ----------------------------'\n",
    "cd\n",
    "dir=/scratch${PWD#\"/prj\"}\n",
    "cd $dir\n",
    "source $dir/env2/etc/profile.d/conda.sh\n",
    "conda activate $dir/env2\n",
    "cd $dir/fft\n",
    "                                              \n",
    "# Executable\n",
    "EXEC=\"python bc2cs.py\"\n",
    "\n",
    "# Start\n",
    "echo '-- run --------------------------------'\n",
    "echo '$ srun --mpi=pmi2 -n' $SLURM_NTASKS ${EXEC##*/}\n",
    "echo '-- output -----------------------------'\n",
    "srun --mpi=pmi2 -n $SLURM_NTASKS $EXEC\n",
    "echo '~~ end ~~~~~~~~~~~~~~~~~~~~~~~~~~~~~~~~'"
   ]
  },
  {
   "cell_type": "markdown",
   "metadata": {},
   "source": [
    "## Check"
   ]
  },
  {
   "cell_type": "code",
   "execution_count": 20,
   "metadata": {
    "scrolled": true
   },
   "outputs": [
    {
     "name": "stdout",
     "output_type": "stream",
     "text": [
      "Submitted batch job 1333525\n"
     ]
    }
   ],
   "source": [
    "! sbatch  --partition=cpu_dev  bc2cs.srm"
   ]
  },
  {
   "cell_type": "code",
   "execution_count": 21,
   "metadata": {},
   "outputs": [
    {
     "name": "stdout",
     "output_type": "stream",
     "text": [
      "             JOBID  PARTITION  ST  TIME NODES CPUS\n",
      "           1333525    cpu_dev   R  0:01     1   24\n"
     ]
    }
   ],
   "source": [
    "! squeue -n bc2cs -o \"%.18i  %.9P  %.2t %.5M %.5D %.4C\""
   ]
  },
  {
   "cell_type": "code",
   "execution_count": 22,
   "metadata": {},
   "outputs": [
    {
     "name": "stdout",
     "output_type": "stream",
     "text": [
      "             JOBID  PARTITION  ST  TIME NODES CPUS\n"
     ]
    }
   ],
   "source": [
    "! squeue -n bc2cs -o \"%.18i  %.9P  %.2t %.5M %.5D %.4C\""
   ]
  },
  {
   "cell_type": "code",
   "execution_count": 23,
   "metadata": {},
   "outputs": [
    {
     "name": "stdout",
     "output_type": "stream",
     "text": [
      "========================================\n",
      "- Job ID: 1333525\n",
      "- Tasks per node:\n",
      "- # of nodes in the job: 1\n",
      "- # of tasks: 1\n",
      "- Dir from which sbatch was invoked: fft\n",
      "- List of nodes allocated to the job: sdumont1243\n",
      "-- modules ----------------------------\n",
      "-- run --------------------------------\n",
      "$ srun --mpi=pmi2 -n 1 python bc2cs.py\n",
      "-- output -----------------------------\n",
      "S:270-0j | L:576 | T1:21.6482 | TF:22.2247 | TT:43.8729 | TO:46.0559\n",
      "~~ end ~~~~~~~~~~~~~~~~~~~~~~~~~~~~~~~~\n"
     ]
    }
   ],
   "source": [
    "! cat /scratch${PWD#\"/prj\"}/slurm-1333525.out"
   ]
  },
  {
   "cell_type": "markdown",
   "metadata": {},
   "source": [
    "## Run"
   ]
  },
  {
   "cell_type": "code",
   "execution_count": 24,
   "metadata": {
    "scrolled": true
   },
   "outputs": [
    {
     "name": "stdout",
     "output_type": "stream",
     "text": [
      "Submitted batch job 1333528\n",
      "Submitted batch job 1333529\n",
      "Submitted batch job 1333530\n"
     ]
    }
   ],
   "source": [
    "! sbatch bc2cs.srm\n",
    "! sbatch bc2cs.srm\n",
    "! sbatch bc2cs.srm"
   ]
  },
  {
   "cell_type": "code",
   "execution_count": 25,
   "metadata": {},
   "outputs": [
    {
     "name": "stdout",
     "output_type": "stream",
     "text": [
      "             JOBID  PARTITION  ST  TIME NODES CPUS\n",
      "           1333528  cpu_small  PD  0:00     1    1\n",
      "           1333529  cpu_small  PD  0:00     1    1\n",
      "           1333530  cpu_small  PD  0:00     1    1\n"
     ]
    }
   ],
   "source": [
    "! squeue -n bc2cs -o \"%.18i  %.9P  %.2t %.5M %.5D %.4C\""
   ]
  },
  {
   "cell_type": "code",
   "execution_count": 1,
   "metadata": {},
   "outputs": [
    {
     "name": "stdout",
     "output_type": "stream",
     "text": [
      "             JOBID  PARTITION  ST  TIME NODES CPUS\n"
     ]
    }
   ],
   "source": [
    "! squeue -n bc2cs -o \"%.18i  %.9P  %.2t %.5M %.5D %.4C\""
   ]
  },
  {
   "cell_type": "code",
   "execution_count": 2,
   "metadata": {},
   "outputs": [
    {
     "name": "stdout",
     "output_type": "stream",
     "text": [
      "========================================\n",
      "- Job ID: 1333528\n",
      "- Tasks per node:\n",
      "- # of nodes in the job: 1\n",
      "- # of tasks: 1\n",
      "- Dir from which sbatch was invoked: fft\n",
      "- List of nodes allocated to the job: sdumont1275\n",
      "-- modules ----------------------------\n",
      "-- run --------------------------------\n",
      "$ srun --mpi=pmi2 -n 1 python bc2cs.py\n",
      "-- output -----------------------------\n",
      "S:270-0j | L:576 | T1:21.6802 | TF:22.2530 | TT:43.9332 | TO:54.3123\n",
      "~~ end ~~~~~~~~~~~~~~~~~~~~~~~~~~~~~~~~\n",
      "========================================\n",
      "- Job ID: 1333529\n",
      "- Tasks per node:\n",
      "- # of nodes in the job: 1\n",
      "- # of tasks: 1\n",
      "- Dir from which sbatch was invoked: fft\n",
      "- List of nodes allocated to the job: sdumont1275\n",
      "-- modules ----------------------------\n",
      "-- run --------------------------------\n",
      "$ srun --mpi=pmi2 -n 1 python bc2cs.py\n",
      "-- output -----------------------------\n",
      "S:270-0j | L:576 | T1:21.6738 | TF:22.2261 | TT:43.8999 | TO:45.8127\n",
      "~~ end ~~~~~~~~~~~~~~~~~~~~~~~~~~~~~~~~\n",
      "========================================\n",
      "- Job ID: 1333530\n",
      "- Tasks per node:\n",
      "- # of nodes in the job: 1\n",
      "- # of tasks: 1\n",
      "- Dir from which sbatch was invoked: fft\n",
      "- List of nodes allocated to the job: sdumont1275\n",
      "-- modules ----------------------------\n",
      "-- run --------------------------------\n",
      "$ srun --mpi=pmi2 -n 1 python bc2cs.py\n",
      "-- output -----------------------------\n",
      "S:270-0j | L:576 | T1:21.6880 | TF:22.2508 | TT:43.9388 | TO:45.7903\n",
      "~~ end ~~~~~~~~~~~~~~~~~~~~~~~~~~~~~~~~\n"
     ]
    }
   ],
   "source": [
    "! cat /scratch${PWD#\"/prj\"}/slurm-1333528.out\n",
    "! cat /scratch${PWD#\"/prj\"}/slurm-1333529.out\n",
    "! cat /scratch${PWD#\"/prj\"}/slurm-1333530.out"
   ]
  },
  {
   "cell_type": "code",
   "execution_count": null,
   "metadata": {},
   "outputs": [],
   "source": []
  }
 ],
 "metadata": {
  "kernelspec": {
   "display_name": "Python 3",
   "language": "python",
   "name": "python3"
  },
  "language_info": {
   "codemirror_mode": {
    "name": "ipython",
    "version": 3
   },
   "file_extension": ".py",
   "mimetype": "text/x-python",
   "name": "python",
   "nbconvert_exporter": "python",
   "pygments_lexer": "ipython3",
   "version": "3.8.5"
  }
 },
 "nbformat": 4,
 "nbformat_minor": 4
}
