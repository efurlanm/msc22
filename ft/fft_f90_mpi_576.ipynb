{
 "cells": [
  {
   "cell_type": "markdown",
   "metadata": {},
   "source": [
    "# FFTW C2C F90 MPI 576\n",
    "\n",
    "- FFTW MPI F90 Interface http://fftw.org/doc/FFTW-MPI-Fortran-Interface.html#FFTW-MPI-Fortran-Interface"
   ]
  },
  {
   "cell_type": "code",
   "execution_count": 1,
   "metadata": {},
   "outputs": [],
   "source": [
    "#-----------------------------------------------------------------------"
   ]
  },
  {
   "cell_type": "code",
   "execution_count": 9,
   "metadata": {},
   "outputs": [
    {
     "name": "stdout",
     "output_type": "stream",
     "text": [
      "Overwriting fc2cp.f90\n"
     ]
    }
   ],
   "source": [
    "%%writefile fc2cp.f90\n",
    "program main\n",
    "    use, intrinsic :: iso_c_binding\n",
    "    use MPI\n",
    "    implicit none\n",
    "    include 'fftw3-mpi.f03'\n",
    "    integer :: mpirank, mpisize, mpierror, i, j, k\n",
    "    integer(C_INTPTR_T), parameter :: L = 576, M = 576, N = 576\n",
    "    type(C_PTR) :: plan, cdata\n",
    "    complex(C_DOUBLE_COMPLEX), pointer :: data(:,:,:)\n",
    "    integer(C_INTPTR_T) :: alloc_local, local_N, local_start\n",
    "    complex(C_DOUBLE_COMPLEX) :: s, rs\n",
    "    double precision :: t0, t1, t2\n",
    "\n",
    "    call cpu_time(t0)    ! time measurement\n",
    "\n",
    "    call MPI_Init(mpierror)\n",
    "    call MPI_Comm_rank(MPI_COMM_WORLD, mpirank, mpierror)\n",
    "    call MPI_Comm_size(MPI_COMM_WORLD, mpisize, mpierror)\n",
    "\n",
    "    ! init\n",
    "    call fftw_mpi_init()    \n",
    "\n",
    "    ! get local data size and allocate (note dimension reversal)\n",
    "    alloc_local = fftw_mpi_local_size_3d(N, M, L,  &\n",
    "                 MPI_COMM_WORLD, local_N, local_start)\n",
    "    cdata = fftw_alloc_complex(alloc_local)\n",
    "    call c_f_pointer(cdata, data, [L, M, local_N])\n",
    "\n",
    "    ! create MPI plan for in-place forward DFT (note dimension reversal)\n",
    "    plan = fftw_mpi_plan_dft_3d(N, M, L, data, data,  &\n",
    "                MPI_COMM_WORLD, FFTW_FORWARD, FFTW_ESTIMATE)\n",
    "\n",
    "    ! Fills the array with complex values\n",
    "    do k = 1, int(local_N)\n",
    "        do j = 1, M\n",
    "            do i = 1, L\n",
    "                data(i, j, k) = dcmplx( sin( real(i + j + (k + local_start)) ) , 0)\n",
    "            enddo\n",
    "        enddo\n",
    "    enddo\n",
    "\n",
    "    call cpu_time(t1)    ! time measurement\n",
    "\n",
    "    ! Compute transform (as many times as desired)\n",
    "    call fftw_mpi_execute_dft(plan, data, data)\n",
    "\n",
    "    ! Checksum\n",
    "    s = sum(data)\n",
    "    call MPI_Reduce(s,                   &! send data\n",
    "                    rs,                  &! recv data\n",
    "                    1,                   &! count\n",
    "                    MPI_DOUBLE_COMPLEX,  &! data type\n",
    "                    MPI_SUM,             &! operation\n",
    "                    0,                   &! rank of root process\n",
    "                    MPI_COMM_WORLD, mpierror)\n",
    "    \n",
    "    ! clean\n",
    "\n",
    "    call cpu_time(t2)    ! time measurement\n",
    "\n",
    "    call fftw_destroy_plan(plan)\n",
    "    call fftw_free(cdata)\n",
    "    call fftw_mpi_cleanup()\n",
    "    call mpi_finalize(mpierror)\n",
    "    \n",
    "    ! show the result\n",
    "    if (mpirank == 0) then\n",
    "        write(*, \"('S: 'spf0.0spf0.0'j')\", advance=\"no\") rs * 1e-5\n",
    "        write(*, \"(' | L: 'g0)\", advance=\"no\") L\n",
    "        write(*, \"(' | N: 'g0)\", advance=\"no\") mpisize\n",
    "        write(*, \"(' | T1: 'sf0.4)\", advance=\"no\") t1-t0\n",
    "        write(*, \"(' | TF: 'sf0.4)\", advance=\"no\") t2-t1\n",
    "        write(*, \"(' | TT: 'sf0.4)\") t2-t0\n",
    "    endif\n",
    "\n",
    "end"
   ]
  },
  {
   "cell_type": "code",
   "execution_count": 10,
   "metadata": {},
   "outputs": [],
   "source": [
    "%%bash\n",
    "module load  openmpi/gnu/4.0.4_ucx_1.6\n",
    "module load  mathlibs/fftw/3.3.8_openmpi-3.1_gnu\n",
    "dir=/scratch/app/mathlibs/fftw/3.3.8_openmpi-3.1_gnu\n",
    "mpifort  -O3  -o fc2cp  fc2cp.f90  \\\n",
    "         -L $dir/lib  -l fftw3_mpi  -l fftw3  -l m  -I $dir/include"
   ]
  },
  {
   "cell_type": "markdown",
   "metadata": {},
   "source": [
    "## Check imag = 0"
   ]
  },
  {
   "cell_type": "code",
   "execution_count": 31,
   "metadata": {},
   "outputs": [
    {
     "name": "stdout",
     "output_type": "stream",
     "text": [
      "S: +270.-0.j | L: 576 | N: 4 | T1: 2.1405 | TF: 5.3970 | TT: 7.5374\n"
     ]
    },
    {
     "name": "stderr",
     "output_type": "stream",
     "text": [
      "\n",
      "real\t0m10.428s\n",
      "user\t0m25.194s\n",
      "sys\t0m10.514s\n"
     ]
    }
   ],
   "source": [
    "%%bash\n",
    "module load  mathlibs/fftw/3.3.8_openmpi-3.1_gnu\n",
    "time mpiexec -n 4 ./fc2cp"
   ]
  },
  {
   "cell_type": "code",
   "execution_count": 14,
   "metadata": {},
   "outputs": [
    {
     "name": "stdout",
     "output_type": "stream",
     "text": [
      "S: +270.-0.j | L: 576 | N: 16 | T1: 2.8404 | TF: 1.5309 | TT: 4.3713\n"
     ]
    },
    {
     "name": "stderr",
     "output_type": "stream",
     "text": [
      "\n",
      "real\t0m12.166s\n",
      "user\t0m27.205s\n",
      "sys\t0m42.221s\n"
     ]
    }
   ],
   "source": [
    "%%bash\n",
    "module load  mathlibs/fftw/3.3.8_openmpi-3.1_gnu\n",
    "time mpiexec -n 16 ./fc2cp"
   ]
  },
  {
   "cell_type": "markdown",
   "metadata": {},
   "source": [
    "## Check imag = real"
   ]
  },
  {
   "cell_type": "code",
   "execution_count": 36,
   "metadata": {},
   "outputs": [
    {
     "name": "stdout",
     "output_type": "stream",
     "text": [
      "S: +270.+270.j | L: 576 | N: 4 | T1: 2.0767 | TF: 5.3662 | TT: 7.4429\n"
     ]
    },
    {
     "name": "stderr",
     "output_type": "stream",
     "text": [
      "\n",
      "real\t0m7.730s\n",
      "user\t0m24.625s\n",
      "sys\t0m5.398s\n"
     ]
    }
   ],
   "source": [
    "%%bash\n",
    "module load  mathlibs/fftw/3.3.8_openmpi-3.1_gnu\n",
    "time mpiexec -n 4 ./fc2cp"
   ]
  },
  {
   "cell_type": "code",
   "execution_count": 35,
   "metadata": {},
   "outputs": [
    {
     "name": "stdout",
     "output_type": "stream",
     "text": [
      "S: +270.+270.j | L: 576 | N: 16 | T1: 3.4871 | TF: 1.2839 | TT: 4.7710\n"
     ]
    },
    {
     "name": "stderr",
     "output_type": "stream",
     "text": [
      "\n",
      "real\t0m6.615s\n",
      "user\t0m25.867s\n",
      "sys\t0m36.066s\n"
     ]
    }
   ],
   "source": [
    "%%bash\n",
    "module load  mathlibs/fftw/3.3.8_openmpi-3.1_gnu\n",
    "time mpiexec -n 16 ./fc2cp"
   ]
  },
  {
   "cell_type": "markdown",
   "metadata": {},
   "source": [
    "## Copy to /scratch"
   ]
  },
  {
   "cell_type": "code",
   "execution_count": 15,
   "metadata": {},
   "outputs": [],
   "source": [
    "%%bash\n",
    "dst=/scratch${PWD#\"/prj\"}\n",
    "cp fc2cp $dst"
   ]
  },
  {
   "cell_type": "markdown",
   "metadata": {},
   "source": [
    "## Configures the batch script "
   ]
  },
  {
   "cell_type": "code",
   "execution_count": 16,
   "metadata": {},
   "outputs": [
    {
     "name": "stdout",
     "output_type": "stream",
     "text": [
      "Overwriting fc2cp.srm\n"
     ]
    }
   ],
   "source": [
    "%%writefile fc2cp.srm\n",
    "#!/bin/bash\n",
    "#SBATCH --job-name fc2cp       # Job name\n",
    "#SBATCH --partition cpu_small  # Select partition\n",
    "#SBATCH --ntasks=1             # Total tasks\n",
    "#SBATCH --time=00:05:00        # Limit execution time\n",
    "#SBATCH --exclusive            # Exclusive acccess to nodes\n",
    "\n",
    "echo '========================================'\n",
    "echo '- Job ID:' $SLURM_JOB_ID\n",
    "echo '- Tasks per node:' $SLURM_NTASKS_PER_NODE\n",
    "echo '- # of nodes in the job:' $SLURM_JOB_NUM_NODES\n",
    "echo '- # of tasks:' $SLURM_NTASKS\n",
    "echo '- Dir from which sbatch was invoked:' ${SLURM_SUBMIT_DIR##*/}\n",
    "cd $SLURM_SUBMIT_DIR\n",
    "echo -n '- List of nodes allocated to the job: '\n",
    "nodeset -e $SLURM_JOB_NODELIST\n",
    "\n",
    "# Modules config\n",
    "echo '-- modules ----------------------------'\n",
    "echo '$ module load mathlibs/fftw/3.3.8_openmpi-3.1_gnu'\n",
    "module load  mathlibs/fftw/3.3.8_openmpi-3.1_gnu\n",
    "\n",
    "# Executable config\n",
    "EXEC=$PWD/fc2cp\n",
    "\n",
    "# Start\n",
    "echo '-- run --------------------------------'\n",
    "echo '$ srun --mpi=pmi2 -n' $SLURM_NTASKS ${EXEC##*/}\n",
    "echo '-- output -----------------------------'\n",
    "srun --mpi=pmi2 -n $SLURM_NTASKS $EXEC\n",
    "echo '~~ end ~~~~~~~~~~~~~~~~~~~~~~~~~~~~~~~~'"
   ]
  },
  {
   "cell_type": "markdown",
   "metadata": {},
   "source": [
    "## Check"
   ]
  },
  {
   "cell_type": "code",
   "execution_count": 17,
   "metadata": {},
   "outputs": [
    {
     "name": "stdout",
     "output_type": "stream",
     "text": [
      "Submitted batch job 1337187\n"
     ]
    }
   ],
   "source": [
    "! sbatch --partition=cpu_dev --ntasks=96 fc2cp.srm"
   ]
  },
  {
   "cell_type": "code",
   "execution_count": 18,
   "metadata": {},
   "outputs": [
    {
     "name": "stdout",
     "output_type": "stream",
     "text": [
      "             JOBID  PARTITION  ST  TIME NODES CPUS\n",
      "           1337187    cpu_dev  PD  0:00     4   96\n"
     ]
    }
   ],
   "source": [
    "! squeue -n fc2cp -o \"%.18i  %.9P  %.2t %.5M %.5D %.4C\" --partition=cpu_dev"
   ]
  },
  {
   "cell_type": "code",
   "execution_count": 28,
   "metadata": {},
   "outputs": [
    {
     "name": "stdout",
     "output_type": "stream",
     "text": [
      "             JOBID  PARTITION  ST  TIME NODES CPUS\n"
     ]
    }
   ],
   "source": [
    "! squeue -n fc2cp -o \"%.18i  %.9P  %.2t %.5M %.5D %.4C\" --partition=cpu_dev"
   ]
  },
  {
   "cell_type": "code",
   "execution_count": 29,
   "metadata": {},
   "outputs": [
    {
     "name": "stdout",
     "output_type": "stream",
     "text": [
      "========================================\n",
      "- Job ID: 1337187\n",
      "- Tasks per node:\n",
      "- # of nodes in the job: 4\n",
      "- # of tasks: 96\n",
      "- Dir from which sbatch was invoked: fft\n",
      "- List of nodes allocated to the job: sdumont1243 sdumont1244 sdumont1245 sdumont1246\n",
      "-- modules ----------------------------\n",
      "$ module load mathlibs/fftw/3.3.8_openmpi-3.1_gnu\n",
      "-- run --------------------------------\n",
      "$ srun --mpi=pmi2 -n 96 fc2cp\n",
      "-- output -----------------------------\n",
      "S: +270.-0.j | L: 576 | N: 96 | T1: 1.3296 | TF: .9637 | TT: 2.2933\n",
      "~~ end ~~~~~~~~~~~~~~~~~~~~~~~~~~~~~~~~\n"
     ]
    }
   ],
   "source": [
    "! cat /scratch${PWD#\"/prj\"}/slurm-1337187.out"
   ]
  },
  {
   "cell_type": "markdown",
   "metadata": {},
   "source": [
    "## Run"
   ]
  },
  {
   "cell_type": "markdown",
   "metadata": {},
   "source": [
    "### 1 of (1, 4, 16, 24, 48, 72, 96)"
   ]
  },
  {
   "cell_type": "code",
   "execution_count": 19,
   "metadata": {
    "scrolled": true
   },
   "outputs": [
    {
     "name": "stdout",
     "output_type": "stream",
     "text": [
      "Submitted batch job 1337188\n",
      "Submitted batch job 1337189\n",
      "Submitted batch job 1337190\n"
     ]
    }
   ],
   "source": [
    "! sbatch --ntasks=1 fc2cp.srm\n",
    "! sbatch --ntasks=1 fc2cp.srm\n",
    "! sbatch --ntasks=1 fc2cp.srm"
   ]
  },
  {
   "cell_type": "code",
   "execution_count": 8,
   "metadata": {},
   "outputs": [
    {
     "name": "stdout",
     "output_type": "stream",
     "text": [
      "========================================\n",
      "- Job ID: 1337188\n",
      "- Tasks per node:\n",
      "- # of nodes in the job: 1\n",
      "- # of tasks: 1\n",
      "- Dir from which sbatch was invoked: fft\n",
      "- List of nodes allocated to the job: sdumont1457\n",
      "-- modules ----------------------------\n",
      "$ module load mathlibs/fftw/3.3.8_openmpi-3.1_gnu\n",
      "-- run --------------------------------\n",
      "$ srun --mpi=pmi2 -n 1 fc2cp\n",
      "-- output -----------------------------\n",
      "S: +270.+0.j | L: 576 | N: 1 | T1: 7.3483 | TF: 16.1846 | TT: 23.5329\n",
      "~~ end ~~~~~~~~~~~~~~~~~~~~~~~~~~~~~~~~\n",
      "========================================\n",
      "- Job ID: 1337189\n",
      "- Tasks per node:\n",
      "- # of nodes in the job: 1\n",
      "- # of tasks: 1\n",
      "- Dir from which sbatch was invoked: fft\n",
      "- List of nodes allocated to the job: sdumont1457\n",
      "-- modules ----------------------------\n",
      "$ module load mathlibs/fftw/3.3.8_openmpi-3.1_gnu\n",
      "-- run --------------------------------\n",
      "$ srun --mpi=pmi2 -n 1 fc2cp\n",
      "-- output -----------------------------\n",
      "S: +270.+0.j | L: 576 | N: 1 | T1: 7.3227 | TF: 16.1144 | TT: 23.4371\n",
      "~~ end ~~~~~~~~~~~~~~~~~~~~~~~~~~~~~~~~\n",
      "========================================\n",
      "- Job ID: 1337190\n",
      "- Tasks per node:\n",
      "- # of nodes in the job: 1\n",
      "- # of tasks: 1\n",
      "- Dir from which sbatch was invoked: fft\n",
      "- List of nodes allocated to the job: sdumont1457\n",
      "-- modules ----------------------------\n",
      "$ module load mathlibs/fftw/3.3.8_openmpi-3.1_gnu\n",
      "-- run --------------------------------\n",
      "$ srun --mpi=pmi2 -n 1 fc2cp\n",
      "-- output -----------------------------\n",
      "S: +270.+0.j | L: 576 | N: 1 | T1: 7.3304 | TF: 15.9807 | TT: 23.3111\n",
      "~~ end ~~~~~~~~~~~~~~~~~~~~~~~~~~~~~~~~\n"
     ]
    }
   ],
   "source": [
    "! cat /scratch${PWD#\"/prj\"}/slurm-1337188.out\n",
    "! cat /scratch${PWD#\"/prj\"}/slurm-1337189.out\n",
    "! cat /scratch${PWD#\"/prj\"}/slurm-1337190.out"
   ]
  },
  {
   "cell_type": "markdown",
   "metadata": {},
   "source": [
    "### 4 of (1, 4, 16, 24, 48, 72, 96)"
   ]
  },
  {
   "cell_type": "code",
   "execution_count": 20,
   "metadata": {
    "scrolled": true
   },
   "outputs": [
    {
     "name": "stdout",
     "output_type": "stream",
     "text": [
      "Submitted batch job 1337191\n",
      "Submitted batch job 1337192\n",
      "Submitted batch job 1337193\n"
     ]
    }
   ],
   "source": [
    "! sbatch --ntasks=4 fc2cp.srm\n",
    "! sbatch --ntasks=4 fc2cp.srm\n",
    "! sbatch --ntasks=4 fc2cp.srm"
   ]
  },
  {
   "cell_type": "code",
   "execution_count": 7,
   "metadata": {},
   "outputs": [
    {
     "name": "stdout",
     "output_type": "stream",
     "text": [
      "========================================\n",
      "- Job ID: 1337191\n",
      "- Tasks per node:\n",
      "- # of nodes in the job: 1\n",
      "- # of tasks: 4\n",
      "- Dir from which sbatch was invoked: fft\n",
      "- List of nodes allocated to the job: sdumont1490\n",
      "-- modules ----------------------------\n",
      "$ module load mathlibs/fftw/3.3.8_openmpi-3.1_gnu\n",
      "-- run --------------------------------\n",
      "$ srun --mpi=pmi2 -n 4 fc2cp\n",
      "-- output -----------------------------\n",
      "S: +270.-0.j | L: 576 | N: 4 | T1: 2.0473 | TF: 4.3915 | TT: 6.4388\n",
      "~~ end ~~~~~~~~~~~~~~~~~~~~~~~~~~~~~~~~\n",
      "========================================\n",
      "- Job ID: 1337192\n",
      "- Tasks per node:\n",
      "- # of nodes in the job: 1\n",
      "- # of tasks: 4\n",
      "- Dir from which sbatch was invoked: fft\n",
      "- List of nodes allocated to the job: sdumont1457\n",
      "-- modules ----------------------------\n",
      "$ module load mathlibs/fftw/3.3.8_openmpi-3.1_gnu\n",
      "-- run --------------------------------\n",
      "$ srun --mpi=pmi2 -n 4 fc2cp\n",
      "-- output -----------------------------\n",
      "S: +270.-0.j | L: 576 | N: 4 | T1: 2.0056 | TF: 4.3714 | TT: 6.3770\n",
      "~~ end ~~~~~~~~~~~~~~~~~~~~~~~~~~~~~~~~\n",
      "========================================\n",
      "- Job ID: 1337193\n",
      "- Tasks per node:\n",
      "- # of nodes in the job: 1\n",
      "- # of tasks: 4\n",
      "- Dir from which sbatch was invoked: fft\n",
      "- List of nodes allocated to the job: sdumont1490\n",
      "-- modules ----------------------------\n",
      "$ module load mathlibs/fftw/3.3.8_openmpi-3.1_gnu\n",
      "-- run --------------------------------\n",
      "$ srun --mpi=pmi2 -n 4 fc2cp\n",
      "-- output -----------------------------\n",
      "S: +270.-0.j | L: 576 | N: 4 | T1: 2.0452 | TF: 4.3979 | TT: 6.4430\n",
      "~~ end ~~~~~~~~~~~~~~~~~~~~~~~~~~~~~~~~\n"
     ]
    }
   ],
   "source": [
    "! cat /scratch${PWD#\"/prj\"}/slurm-1337191.out\n",
    "! cat /scratch${PWD#\"/prj\"}/slurm-1337192.out\n",
    "! cat /scratch${PWD#\"/prj\"}/slurm-1337193.out"
   ]
  },
  {
   "cell_type": "markdown",
   "metadata": {},
   "source": [
    "### 16 of (1, 4, 16, 24, 48, 72, 96)"
   ]
  },
  {
   "cell_type": "code",
   "execution_count": 21,
   "metadata": {
    "scrolled": true
   },
   "outputs": [
    {
     "name": "stdout",
     "output_type": "stream",
     "text": [
      "Submitted batch job 1337194\n",
      "Submitted batch job 1337195\n",
      "Submitted batch job 1337196\n"
     ]
    }
   ],
   "source": [
    "! sbatch --ntasks=16 fc2cp.srm\n",
    "! sbatch --ntasks=16 fc2cp.srm\n",
    "! sbatch --ntasks=16 fc2cp.srm"
   ]
  },
  {
   "cell_type": "code",
   "execution_count": 6,
   "metadata": {},
   "outputs": [
    {
     "name": "stdout",
     "output_type": "stream",
     "text": [
      "========================================\n",
      "- Job ID: 1337194\n",
      "- Tasks per node:\n",
      "- # of nodes in the job: 1\n",
      "- # of tasks: 16\n",
      "- Dir from which sbatch was invoked: fft\n",
      "- List of nodes allocated to the job: sdumont1457\n",
      "-- modules ----------------------------\n",
      "$ module load mathlibs/fftw/3.3.8_openmpi-3.1_gnu\n",
      "-- run --------------------------------\n",
      "$ srun --mpi=pmi2 -n 16 fc2cp\n",
      "-- output -----------------------------\n",
      "S: +270.-0.j | L: 576 | N: 16 | T1: 1.0949 | TF: 1.5387 | TT: 2.6336\n",
      "~~ end ~~~~~~~~~~~~~~~~~~~~~~~~~~~~~~~~\n",
      "========================================\n",
      "- Job ID: 1337195\n",
      "- Tasks per node:\n",
      "- # of nodes in the job: 1\n",
      "- # of tasks: 16\n",
      "- Dir from which sbatch was invoked: fft\n",
      "- List of nodes allocated to the job: sdumont1490\n",
      "-- modules ----------------------------\n",
      "$ module load mathlibs/fftw/3.3.8_openmpi-3.1_gnu\n",
      "-- run --------------------------------\n",
      "$ srun --mpi=pmi2 -n 16 fc2cp\n",
      "-- output -----------------------------\n",
      "S: +270.-0.j | L: 576 | N: 16 | T1: 1.1542 | TF: 1.5381 | TT: 2.6923\n",
      "~~ end ~~~~~~~~~~~~~~~~~~~~~~~~~~~~~~~~\n",
      "========================================\n",
      "- Job ID: 1337196\n",
      "- Tasks per node:\n",
      "- # of nodes in the job: 1\n",
      "- # of tasks: 16\n",
      "- Dir from which sbatch was invoked: fft\n",
      "- List of nodes allocated to the job: sdumont1457\n",
      "-- modules ----------------------------\n",
      "$ module load mathlibs/fftw/3.3.8_openmpi-3.1_gnu\n",
      "-- run --------------------------------\n",
      "$ srun --mpi=pmi2 -n 16 fc2cp\n",
      "-- output -----------------------------\n",
      "S: +270.-0.j | L: 576 | N: 16 | T1: 1.0860 | TF: 1.5358 | TT: 2.6218\n",
      "~~ end ~~~~~~~~~~~~~~~~~~~~~~~~~~~~~~~~\n"
     ]
    }
   ],
   "source": [
    "! cat /scratch${PWD#\"/prj\"}/slurm-1337194.out\n",
    "! cat /scratch${PWD#\"/prj\"}/slurm-1337195.out\n",
    "! cat /scratch${PWD#\"/prj\"}/slurm-1337196.out"
   ]
  },
  {
   "cell_type": "markdown",
   "metadata": {},
   "source": [
    "### 24 of (1, 4, 16, 24, 48, 72, 96)"
   ]
  },
  {
   "cell_type": "code",
   "execution_count": 22,
   "metadata": {
    "scrolled": true
   },
   "outputs": [
    {
     "name": "stdout",
     "output_type": "stream",
     "text": [
      "Submitted batch job 1337197\n",
      "Submitted batch job 1337198\n",
      "Submitted batch job 1337199\n"
     ]
    }
   ],
   "source": [
    "! sbatch --ntasks=24 fc2cp.srm\n",
    "! sbatch --ntasks=24 fc2cp.srm\n",
    "! sbatch --ntasks=24 fc2cp.srm"
   ]
  },
  {
   "cell_type": "code",
   "execution_count": 5,
   "metadata": {},
   "outputs": [
    {
     "name": "stdout",
     "output_type": "stream",
     "text": [
      "========================================\n",
      "- Job ID: 1337197\n",
      "- Tasks per node:\n",
      "- # of nodes in the job: 1\n",
      "- # of tasks: 24\n",
      "- Dir from which sbatch was invoked: fft\n",
      "- List of nodes allocated to the job: sdumont1490\n",
      "-- modules ----------------------------\n",
      "$ module load mathlibs/fftw/3.3.8_openmpi-3.1_gnu\n",
      "-- run --------------------------------\n",
      "$ srun --mpi=pmi2 -n 24 fc2cp\n",
      "-- output -----------------------------\n",
      "S: +270.+0.j | L: 576 | N: 24 | T1: 1.3397 | TF: 1.0351 | TT: 2.3748\n",
      "~~ end ~~~~~~~~~~~~~~~~~~~~~~~~~~~~~~~~\n",
      "========================================\n",
      "- Job ID: 1337198\n",
      "- Tasks per node:\n",
      "- # of nodes in the job: 1\n",
      "- # of tasks: 24\n",
      "- Dir from which sbatch was invoked: fft\n",
      "- List of nodes allocated to the job: sdumont1457\n",
      "-- modules ----------------------------\n",
      "$ module load mathlibs/fftw/3.3.8_openmpi-3.1_gnu\n",
      "-- run --------------------------------\n",
      "$ srun --mpi=pmi2 -n 24 fc2cp\n",
      "-- output -----------------------------\n",
      "S: +270.+0.j | L: 576 | N: 24 | T1: 1.2595 | TF: 1.0447 | TT: 2.3042\n",
      "~~ end ~~~~~~~~~~~~~~~~~~~~~~~~~~~~~~~~\n",
      "========================================\n",
      "- Job ID: 1337199\n",
      "- Tasks per node:\n",
      "- # of nodes in the job: 1\n",
      "- # of tasks: 24\n",
      "- Dir from which sbatch was invoked: fft\n",
      "- List of nodes allocated to the job: sdumont1490\n",
      "-- modules ----------------------------\n",
      "$ module load mathlibs/fftw/3.3.8_openmpi-3.1_gnu\n",
      "-- run --------------------------------\n",
      "$ srun --mpi=pmi2 -n 24 fc2cp\n",
      "-- output -----------------------------\n",
      "S: +270.+0.j | L: 576 | N: 24 | T1: 1.3593 | TF: 1.0389 | TT: 2.3982\n",
      "~~ end ~~~~~~~~~~~~~~~~~~~~~~~~~~~~~~~~\n"
     ]
    }
   ],
   "source": [
    "! cat /scratch${PWD#\"/prj\"}/slurm-1337197.out\n",
    "! cat /scratch${PWD#\"/prj\"}/slurm-1337198.out\n",
    "! cat /scratch${PWD#\"/prj\"}/slurm-1337199.out"
   ]
  },
  {
   "cell_type": "markdown",
   "metadata": {},
   "source": [
    "### 48 of (1, 4, 16, 24, 48, 72, 96)"
   ]
  },
  {
   "cell_type": "code",
   "execution_count": 23,
   "metadata": {
    "scrolled": true
   },
   "outputs": [
    {
     "name": "stdout",
     "output_type": "stream",
     "text": [
      "Submitted batch job 1337200\n",
      "Submitted batch job 1337201\n",
      "Submitted batch job 1337202\n"
     ]
    }
   ],
   "source": [
    "! sbatch --ntasks=48 fc2cp.srm\n",
    "! sbatch --ntasks=48 fc2cp.srm\n",
    "! sbatch --ntasks=48 fc2cp.srm"
   ]
  },
  {
   "cell_type": "code",
   "execution_count": 4,
   "metadata": {},
   "outputs": [
    {
     "name": "stdout",
     "output_type": "stream",
     "text": [
      "========================================\n",
      "- Job ID: 1337200\n",
      "- Tasks per node:\n",
      "- # of nodes in the job: 2\n",
      "- # of tasks: 48\n",
      "- Dir from which sbatch was invoked: fft\n",
      "- List of nodes allocated to the job: sdumont1457 sdumont1490\n",
      "-- modules ----------------------------\n",
      "$ module load mathlibs/fftw/3.3.8_openmpi-3.1_gnu\n",
      "-- run --------------------------------\n",
      "$ srun --mpi=pmi2 -n 48 fc2cp\n",
      "-- output -----------------------------\n",
      "S: +270.+0.j | L: 576 | N: 48 | T1: 1.5118 | TF: .7764 | TT: 2.2883\n",
      "~~ end ~~~~~~~~~~~~~~~~~~~~~~~~~~~~~~~~\n",
      "========================================\n",
      "- Job ID: 1337201\n",
      "- Tasks per node:\n",
      "- # of nodes in the job: 2\n",
      "- # of tasks: 48\n",
      "- Dir from which sbatch was invoked: fft\n",
      "- List of nodes allocated to the job: sdumont1457 sdumont1490\n",
      "-- modules ----------------------------\n",
      "$ module load mathlibs/fftw/3.3.8_openmpi-3.1_gnu\n",
      "-- run --------------------------------\n",
      "$ srun --mpi=pmi2 -n 48 fc2cp\n",
      "-- output -----------------------------\n",
      "S: +270.+0.j | L: 576 | N: 48 | T1: 1.3375 | TF: .7932 | TT: 2.1307\n",
      "~~ end ~~~~~~~~~~~~~~~~~~~~~~~~~~~~~~~~\n",
      "========================================\n",
      "- Job ID: 1337202\n",
      "- Tasks per node:\n",
      "- # of nodes in the job: 2\n",
      "- # of tasks: 48\n",
      "- Dir from which sbatch was invoked: fft\n",
      "- List of nodes allocated to the job: sdumont1457 sdumont1490\n",
      "-- modules ----------------------------\n",
      "$ module load mathlibs/fftw/3.3.8_openmpi-3.1_gnu\n",
      "-- run --------------------------------\n",
      "$ srun --mpi=pmi2 -n 48 fc2cp\n",
      "-- output -----------------------------\n",
      "S: +270.+0.j | L: 576 | N: 48 | T1: 1.3634 | TF: .8685 | TT: 2.2319\n",
      "~~ end ~~~~~~~~~~~~~~~~~~~~~~~~~~~~~~~~\n"
     ]
    }
   ],
   "source": [
    "! cat /scratch${PWD#\"/prj\"}/slurm-1337200.out\n",
    "! cat /scratch${PWD#\"/prj\"}/slurm-1337201.out\n",
    "! cat /scratch${PWD#\"/prj\"}/slurm-1337202.out"
   ]
  },
  {
   "cell_type": "markdown",
   "metadata": {},
   "source": [
    "### 72 of (1, 4, 16, 24, 48, 72, 96)"
   ]
  },
  {
   "cell_type": "code",
   "execution_count": 24,
   "metadata": {
    "scrolled": true
   },
   "outputs": [
    {
     "name": "stdout",
     "output_type": "stream",
     "text": [
      "Submitted batch job 1337203\n",
      "Submitted batch job 1337204\n",
      "Submitted batch job 1337205\n"
     ]
    }
   ],
   "source": [
    "! sbatch --ntasks=72 fc2cp.srm\n",
    "! sbatch --ntasks=72 fc2cp.srm\n",
    "! sbatch --ntasks=72 fc2cp.srm"
   ]
  },
  {
   "cell_type": "code",
   "execution_count": 3,
   "metadata": {},
   "outputs": [
    {
     "name": "stdout",
     "output_type": "stream",
     "text": [
      "========================================\n",
      "- Job ID: 1337203\n",
      "- Tasks per node:\n",
      "- # of nodes in the job: 3\n",
      "- # of tasks: 72\n",
      "- Dir from which sbatch was invoked: fft\n",
      "- List of nodes allocated to the job: sdumont1453 sdumont1457 sdumont1490\n",
      "-- modules ----------------------------\n",
      "$ module load mathlibs/fftw/3.3.8_openmpi-3.1_gnu\n",
      "-- run --------------------------------\n",
      "$ srun --mpi=pmi2 -n 72 fc2cp\n",
      "-- output -----------------------------\n",
      "S: +270.-0.j | L: 576 | N: 72 | T1: 1.5588 | TF: .8443 | TT: 2.4031\n",
      "~~ end ~~~~~~~~~~~~~~~~~~~~~~~~~~~~~~~~\n",
      "========================================\n",
      "- Job ID: 1337204\n",
      "- Tasks per node:\n",
      "- # of nodes in the job: 3\n",
      "- # of tasks: 72\n",
      "- Dir from which sbatch was invoked: fft\n",
      "- List of nodes allocated to the job: sdumont1453 sdumont1457 sdumont1490\n",
      "-- modules ----------------------------\n",
      "$ module load mathlibs/fftw/3.3.8_openmpi-3.1_gnu\n",
      "-- run --------------------------------\n",
      "$ srun --mpi=pmi2 -n 72 fc2cp\n",
      "-- output -----------------------------\n",
      "S: +270.-0.j | L: 576 | N: 72 | T1: 1.3025 | TF: .8825 | TT: 2.1850\n",
      "~~ end ~~~~~~~~~~~~~~~~~~~~~~~~~~~~~~~~\n",
      "========================================\n",
      "- Job ID: 1337205\n",
      "- Tasks per node:\n",
      "- # of nodes in the job: 3\n",
      "- # of tasks: 72\n",
      "- Dir from which sbatch was invoked: fft\n",
      "- List of nodes allocated to the job: sdumont1453 sdumont1457 sdumont1490\n",
      "-- modules ----------------------------\n",
      "$ module load mathlibs/fftw/3.3.8_openmpi-3.1_gnu\n",
      "-- run --------------------------------\n",
      "$ srun --mpi=pmi2 -n 72 fc2cp\n",
      "-- output -----------------------------\n",
      "S: +270.-0.j | L: 576 | N: 72 | T1: 1.2952 | TF: .8592 | TT: 2.1544\n",
      "~~ end ~~~~~~~~~~~~~~~~~~~~~~~~~~~~~~~~\n"
     ]
    }
   ],
   "source": [
    "! cat /scratch${PWD#\"/prj\"}/slurm-1337203.out\n",
    "! cat /scratch${PWD#\"/prj\"}/slurm-1337204.out\n",
    "! cat /scratch${PWD#\"/prj\"}/slurm-1337205.out"
   ]
  },
  {
   "cell_type": "markdown",
   "metadata": {},
   "source": [
    "### 96 of (1, 4, 16, 24, 48, 72, 96)"
   ]
  },
  {
   "cell_type": "code",
   "execution_count": 25,
   "metadata": {
    "scrolled": true
   },
   "outputs": [
    {
     "name": "stdout",
     "output_type": "stream",
     "text": [
      "Submitted batch job 1337206\n",
      "Submitted batch job 1337207\n",
      "Submitted batch job 1337208\n"
     ]
    }
   ],
   "source": [
    "! sbatch --ntasks=96 fc2cp.srm\n",
    "! sbatch --ntasks=96 fc2cp.srm\n",
    "! sbatch --ntasks=96 fc2cp.srm"
   ]
  },
  {
   "cell_type": "code",
   "execution_count": 2,
   "metadata": {},
   "outputs": [
    {
     "name": "stdout",
     "output_type": "stream",
     "text": [
      "========================================\n",
      "- Job ID: 1337206\n",
      "- Tasks per node:\n",
      "- # of nodes in the job: 4\n",
      "- # of tasks: 96\n",
      "- Dir from which sbatch was invoked: fft\n",
      "- List of nodes allocated to the job: sdumont1484 sdumont1492 sdumont1502 sdumont1503\n",
      "-- modules ----------------------------\n",
      "$ module load mathlibs/fftw/3.3.8_openmpi-3.1_gnu\n",
      "-- run --------------------------------\n",
      "$ srun --mpi=pmi2 -n 96 fc2cp\n",
      "-- output -----------------------------\n",
      "rank:76, cpu:4\n",
      "rank:19, cpu:19\n",
      "rank:35, cpu:11\n",
      "rank:53, cpu:5\n",
      "rank:26, cpu:2\n",
      "rank:59, cpu:11\n",
      "rank:80, cpu:8\n",
      "rank:56, cpu:8\n",
      "rank:39, cpu:15\n",
      "rank:23, cpu:23\n",
      "rank:79, cpu:7\n",
      "rank:14, cpu:14\n",
      "rank:47, cpu:23\n",
      "rank:87, cpu:15\n",
      "rank:85, cpu:13\n",
      "rank:50, cpu:2\n",
      "rank:86, cpu:14\n",
      "rank:63, cpu:15\n",
      "rank:52, cpu:4\n",
      "rank:00, cpu:0\n",
      "rank:27, cpu:3\n",
      "S: +270.-0.j | L: 576 | N: 96 | T1: 1.3269 | TF: 1.1039 | TT: 2.4308\n",
      "rank:18, cpu:18\n",
      "rank:77, cpu:5\n",
      "rank:07, cpu:7\n",
      "rank:12, cpu:12\n",
      "rank:02, cpu:2\n",
      "rank:74, cpu:2\n",
      "rank:73, cpu:1\n",
      "rank:20, cpu:20\n",
      "rank:51, cpu:3\n",
      "rank:29, cpu:5\n",
      "rank:04, cpu:4\n",
      "rank:46, cpu:22\n",
      "rank:32, cpu:8\n",
      "rank:06, cpu:6\n",
      "rank:82, cpu:10\n",
      "rank:94, cpu:22\n",
      "rank:61, cpu:13\n",
      "rank:90, cpu:18\n",
      "rank:71, cpu:23\n",
      "rank:62, cpu:14\n",
      "rank:92, cpu:20\n",
      "rank:49, cpu:1\n",
      "rank:05, cpu:5\n",
      "rank:83, cpu:11\n",
      "rank:25, cpu:1\n",
      "rank:81, cpu:9\n",
      "rank:15, cpu:15\n",
      "rank:65, cpu:17\n",
      "rank:17, cpu:17\n",
      "rank:31, cpu:7\n",
      "rank:48, cpu:0\n",
      "rank:95, cpu:23\n",
      "rank:16, cpu:16\n",
      "rank:66, cpu:18\n",
      "rank:88, cpu:16\n",
      "rank:33, cpu:9\n",
      "rank:44, cpu:20\n",
      "rank:57, cpu:9\n",
      "rank:11, cpu:11\n",
      "rank:45, cpu:21\n",
      "rank:72, cpu:0\n",
      "rank:22, cpu:22\n",
      "rank:36, cpu:12\n",
      "rank:09, cpu:9\n",
      "rank:60, cpu:12\n",
      "rank:10, cpu:10\n",
      "rank:43, cpu:19\n",
      "rank:01, cpu:1\n",
      "rank:84, cpu:12\n",
      "rank:55, cpu:7\n",
      "rank:21, cpu:21\n",
      "rank:75, cpu:3\n",
      "rank:37, cpu:13\n",
      "rank:68, cpu:20\n",
      "rank:69, cpu:21\n",
      "rank:93, cpu:21\n",
      "rank:03, cpu:3\n",
      "rank:38, cpu:14\n",
      "rank:91, cpu:19\n",
      "rank:78, cpu:6\n",
      "rank:58, cpu:10\n",
      "rank:28, cpu:4\n",
      "rank:30, cpu:6\n",
      "rank:70, cpu:22\n",
      "rank:13, cpu:13\n",
      "rank:54, cpu:6\n",
      "rank:42, cpu:18\n",
      "rank:41, cpu:17\n",
      "rank:67, cpu:19\n",
      "rank:34, cpu:10\n",
      "rank:24, cpu:0\n",
      "rank:89, cpu:17\n",
      "rank:64, cpu:16\n",
      "rank:08, cpu:8\n",
      "rank:40, cpu:16\n",
      "~~ end ~~~~~~~~~~~~~~~~~~~~~~~~~~~~~~~~\n",
      "========================================\n",
      "- Job ID: 1337207\n",
      "- Tasks per node:\n",
      "- # of nodes in the job: 4\n",
      "- # of tasks: 96\n",
      "- Dir from which sbatch was invoked: fft\n",
      "- List of nodes allocated to the job: sdumont1484 sdumont1492 sdumont1502 sdumont1503\n",
      "-- modules ----------------------------\n",
      "$ module load mathlibs/fftw/3.3.8_openmpi-3.1_gnu\n",
      "-- run --------------------------------\n",
      "$ srun --mpi=pmi2 -n 96 fc2cp\n",
      "-- output -----------------------------\n",
      "rank:71, cpu:23\n",
      "rank:44, cpu:20\n",
      "rank:07, cpu:7\n",
      "rank:78, cpu:6\n",
      "rank:56, cpu:8\n",
      "rank:00, cpu:0\n",
      "S: +270.-0.j | L: 576 | N: 96 | T1: 1.3393 | TF: .9387 | TT: 2.2781\n",
      "rank:35, cpu:11\n",
      "rank:24, cpu:0\n",
      "rank:30, cpu:6\n",
      "rank:86, cpu:14\n",
      "rank:19, cpu:19\n",
      "rank:25, cpu:1\n",
      "rank:80, cpu:8\n",
      "rank:53, cpu:5\n",
      "rank:14, cpu:14\n",
      "rank:31, cpu:7\n",
      "rank:63, cpu:15\n",
      "rank:18, cpu:18\n",
      "rank:68, cpu:20\n",
      "rank:81, cpu:9\n",
      "rank:28, cpu:4\n",
      "rank:27, cpu:3\n",
      "rank:29, cpu:5\n",
      "rank:61, cpu:13\n",
      "rank:12, cpu:12\n",
      "rank:33, cpu:9\n",
      "rank:43, cpu:19\n",
      "rank:84, cpu:12\n",
      "rank:50, cpu:2\n",
      "rank:52, cpu:4\n",
      "rank:48, cpu:0\n",
      "rank:46, cpu:22\n",
      "rank:11, cpu:11\n",
      "rank:23, cpu:23\n",
      "rank:65, cpu:17\n",
      "rank:82, cpu:10\n",
      "rank:10, cpu:10\n",
      "rank:34, cpu:10\n",
      "rank:13, cpu:13\n",
      "rank:60, cpu:12\n",
      "rank:76, cpu:4\n",
      "rank:17, cpu:17\n",
      "rank:41, cpu:17\n",
      "rank:87, cpu:15\n",
      "rank:06, cpu:6\n",
      "rank:02, cpu:2\n",
      "rank:16, cpu:16\n",
      "rank:94, cpu:22\n",
      "rank:72, cpu:0\n",
      "rank:93, cpu:21\n",
      "rank:15, cpu:15\n",
      "rank:55, cpu:7\n",
      "rank:58, cpu:10\n",
      "rank:66, cpu:18\n",
      "rank:47, cpu:23\n",
      "rank:37, cpu:13\n",
      "rank:92, cpu:20\n",
      "rank:20, cpu:20\n",
      "rank:49, cpu:1\n",
      "rank:79, cpu:7\n",
      "rank:91, cpu:19\n",
      "rank:32, cpu:8\n",
      "rank:51, cpu:3\n",
      "rank:22, cpu:22\n",
      "rank:04, cpu:4\n",
      "rank:36, cpu:12\n",
      "rank:05, cpu:5\n",
      "rank:59, cpu:11\n",
      "rank:69, cpu:21\n",
      "rank:40, cpu:16\n",
      "rank:64, cpu:16\n",
      "rank:45, cpu:21\n",
      "rank:70, cpu:22\n",
      "rank:95, cpu:23\n",
      "rank:39, cpu:15\n",
      "rank:26, cpu:2\n",
      "rank:42, cpu:18\n",
      "rank:21, cpu:21\n",
      "rank:54, cpu:6\n",
      "rank:62, cpu:14\n",
      "rank:57, cpu:9\n",
      "rank:03, cpu:3\n",
      "rank:09, cpu:9\n",
      "rank:77, cpu:5\n",
      "rank:83, cpu:11\n",
      "rank:01, cpu:1\n",
      "rank:85, cpu:13\n",
      "rank:38, cpu:14\n",
      "rank:73, cpu:1\n",
      "rank:67, cpu:19\n",
      "rank:74, cpu:2\n",
      "rank:08, cpu:8\n",
      "rank:90, cpu:18\n",
      "rank:89, cpu:17\n",
      "rank:75, cpu:3\n",
      "rank:88, cpu:16\n",
      "~~ end ~~~~~~~~~~~~~~~~~~~~~~~~~~~~~~~~\n",
      "========================================\n",
      "- Job ID: 1337208\n",
      "- Tasks per node:\n",
      "- # of nodes in the job: 4\n",
      "- # of tasks: 96\n",
      "- Dir from which sbatch was invoked: fft\n",
      "- List of nodes allocated to the job: sdumont1484 sdumont1492 sdumont1502 sdumont1503\n",
      "-- modules ----------------------------\n",
      "$ module load mathlibs/fftw/3.3.8_openmpi-3.1_gnu\n",
      "-- run --------------------------------\n",
      "$ srun --mpi=pmi2 -n 96 fc2cp\n",
      "-- output -----------------------------\n",
      "rank:34, cpu:10\n",
      "rank:14, cpu:14\n",
      "rank:59, cpu:11\n",
      "rank:89, cpu:17\n",
      "rank:01, cpu:1\n",
      "rank:23, cpu:23\n",
      "rank:13, cpu:13\n",
      "rank:44, cpu:20\n",
      "rank:48, cpu:0\n",
      "rank:22, cpu:22\n",
      "rank:39, cpu:15\n",
      "rank:76, cpu:4\n",
      "rank:50, cpu:2\n",
      "rank:30, cpu:6\n",
      "rank:19, cpu:19\n",
      "rank:94, cpu:22\n",
      "rank:60, cpu:12\n",
      "rank:35, cpu:11\n",
      "rank:12, cpu:12\n",
      "rank:31, cpu:7\n",
      "rank:24, cpu:0\n",
      "rank:74, cpu:2\n",
      "rank:77, cpu:5\n",
      "rank:65, cpu:17\n",
      "rank:21, cpu:21\n",
      "rank:79, cpu:7\n",
      "rank:16, cpu:16\n",
      "rank:18, cpu:18\n",
      "rank:38, cpu:14\n",
      "rank:06, cpu:6\n",
      "rank:20, cpu:20\n",
      "rank:33, cpu:9\n",
      "rank:85, cpu:13\n",
      "rank:25, cpu:1\n",
      "rank:71, cpu:23\n",
      "rank:26, cpu:2\n",
      "rank:69, cpu:21\n",
      "rank:09, cpu:9\n",
      "rank:64, cpu:16\n",
      "rank:36, cpu:12\n",
      "rank:63, cpu:15\n",
      "rank:10, cpu:10\n",
      "rank:92, cpu:20\n",
      "rank:86, cpu:14\n",
      "rank:32, cpu:8\n",
      "rank:42, cpu:18\n",
      "rank:37, cpu:13\n",
      "rank:75, cpu:3\n",
      "rank:57, cpu:9\n",
      "rank:53, cpu:5\n",
      "rank:45, cpu:21\n",
      "rank:43, cpu:19\n",
      "rank:15, cpu:15\n",
      "rank:88, cpu:16\n",
      "rank:95, cpu:23\n",
      "rank:02, cpu:2\n",
      "rank:47, cpu:23\n",
      "rank:61, cpu:13\n",
      "rank:41, cpu:17\n",
      "rank:27, cpu:3\n",
      "rank:62, cpu:14\n",
      "rank:93, cpu:21\n",
      "rank:54, cpu:6\n",
      "rank:29, cpu:5\n",
      "rank:58, cpu:10\n",
      "rank:08, cpu:8\n",
      "rank:11, cpu:11\n",
      "rank:87, cpu:15\n",
      "rank:17, cpu:17\n",
      "rank:78, cpu:6\n",
      "rank:46, cpu:22\n",
      "rank:67, cpu:19\n",
      "rank:28, cpu:4\n",
      "rank:51, cpu:3\n",
      "rank:80, cpu:8\n",
      "rank:55, cpu:7\n",
      "rank:03, cpu:3\n",
      "rank:70, cpu:22\n",
      "rank:04, cpu:4\n",
      "rank:00, cpu:0\n",
      "S: +270.-0.j | L: 576 | N: 96 | T1: 1.3327 | TF: .9480 | TT: 2.2808\n",
      "rank:07, cpu:7\n",
      "rank:40, cpu:16\n",
      "rank:81, cpu:9\n",
      "rank:82, cpu:10\n",
      "rank:91, cpu:19\n",
      "rank:05, cpu:5\n",
      "rank:68, cpu:20\n",
      "rank:66, cpu:18\n",
      "rank:49, cpu:1\n",
      "rank:52, cpu:4\n",
      "rank:84, cpu:12\n",
      "rank:90, cpu:18\n",
      "rank:83, cpu:11\n",
      "rank:73, cpu:1\n",
      "rank:56, cpu:8\n",
      "rank:72, cpu:0\n",
      "~~ end ~~~~~~~~~~~~~~~~~~~~~~~~~~~~~~~~\n"
     ]
    }
   ],
   "source": [
    "! cat /scratch${PWD#\"/prj\"}/slurm-1337206.out\n",
    "! cat /scratch${PWD#\"/prj\"}/slurm-1337207.out\n",
    "! cat /scratch${PWD#\"/prj\"}/slurm-1337208.out"
   ]
  },
  {
   "cell_type": "code",
   "execution_count": null,
   "metadata": {},
   "outputs": [],
   "source": []
  },
  {
   "cell_type": "code",
   "execution_count": null,
   "metadata": {},
   "outputs": [],
   "source": []
  },
  {
   "cell_type": "code",
   "execution_count": 26,
   "metadata": {},
   "outputs": [
    {
     "name": "stdout",
     "output_type": "stream",
     "text": [
      "270\n"
     ]
    }
   ],
   "source": [
    "! squeue --partition=cpu_small -h -t pending,running -r | wc -l"
   ]
  },
  {
   "cell_type": "code",
   "execution_count": 27,
   "metadata": {},
   "outputs": [
    {
     "name": "stdout",
     "output_type": "stream",
     "text": [
      "             JOBID  PARTITION  ST  TIME NODES CPUS\n",
      "           1337188  cpu_small  PD  0:00     1    1\n",
      "           1337189  cpu_small  PD  0:00     1    1\n",
      "           1337190  cpu_small  PD  0:00     1    1\n",
      "           1337191  cpu_small  PD  0:00     1    4\n",
      "           1337192  cpu_small  PD  0:00     1    4\n",
      "           1337193  cpu_small  PD  0:00     1    4\n",
      "           1337194  cpu_small  PD  0:00     1   16\n",
      "           1337195  cpu_small  PD  0:00     1   16\n",
      "           1337196  cpu_small  PD  0:00     1   16\n",
      "           1337197  cpu_small  PD  0:00     1   24\n",
      "           1337198  cpu_small  PD  0:00     1   24\n",
      "           1337199  cpu_small  PD  0:00     1   24\n",
      "           1337200  cpu_small  PD  0:00     2   48\n",
      "           1337201  cpu_small  PD  0:00     2   48\n",
      "           1337202  cpu_small  PD  0:00     2   48\n",
      "           1337203  cpu_small  PD  0:00     3   72\n",
      "           1337204  cpu_small  PD  0:00     3   72\n",
      "           1337205  cpu_small  PD  0:00     3   72\n",
      "           1337206  cpu_small  PD  0:00     4   96\n",
      "           1337207  cpu_small  PD  0:00     4   96\n",
      "           1337208  cpu_small  PD  0:00     4   96\n"
     ]
    }
   ],
   "source": [
    "! squeue -n fc2cp -o \"%.18i  %.9P  %.2t %.5M %.5D %.4C\""
   ]
  },
  {
   "cell_type": "code",
   "execution_count": 1,
   "metadata": {},
   "outputs": [
    {
     "name": "stdout",
     "output_type": "stream",
     "text": [
      "             JOBID  PARTITION  ST  TIME NODES CPUS\n"
     ]
    }
   ],
   "source": [
    "! squeue -n fc2cp -o \"%.18i  %.9P  %.2t %.5M %.5D %.4C\""
   ]
  },
  {
   "cell_type": "code",
   "execution_count": null,
   "metadata": {},
   "outputs": [],
   "source": []
  },
  {
   "cell_type": "code",
   "execution_count": null,
   "metadata": {},
   "outputs": [],
   "source": []
  },
  {
   "cell_type": "code",
   "execution_count": null,
   "metadata": {},
   "outputs": [],
   "source": []
  },
  {
   "cell_type": "markdown",
   "metadata": {},
   "source": [
    "## Version"
   ]
  },
  {
   "cell_type": "code",
   "execution_count": 11,
   "metadata": {},
   "outputs": [
    {
     "name": "stdout",
     "output_type": "stream",
     "text": [
      "GNU Fortran (GCC) 4.8.5 20150623 (Red Hat 4.8.5-36)\n",
      "Copyright (C) 2015 Free Software Foundation, Inc.\n",
      "\n",
      "GNU Fortran comes with NO WARRANTY, to the extent permitted by law.\n",
      "You may redistribute copies of GNU Fortran\n",
      "under the terms of the GNU General Public License.\n",
      "For more information about these matters, see the file named COPYING\n",
      "\n",
      "Open MPI v3.1.4\n",
      "\n",
      "http://www.open-mpi.org/community/help/\n"
     ]
    }
   ],
   "source": [
    "%%bash\n",
    "module load  mathlibs/fftw/3.3.8_openmpi-3.1_gnu\n",
    "mpifort --version\n",
    "ompi_info --version"
   ]
  },
  {
   "cell_type": "code",
   "execution_count": 2,
   "metadata": {},
   "outputs": [
    {
     "name": "stdout",
     "output_type": "stream",
     "text": [
      "mathlibs/fftw/3.3.8_intel\n",
      "mathlibs/fftw/3.3.8_openmpi-2.0_gnu\n",
      "mathlibs/fftw/3.3.8_openmpi-2.0_intel\n",
      "mathlibs/fftw/3.3.8_openmpi-3.1_gnu\n"
     ]
    }
   ],
   "source": [
    "! module avail 2>&1 | grep -i fftw"
   ]
  },
  {
   "cell_type": "code",
   "execution_count": 16,
   "metadata": {},
   "outputs": [
    {
     "name": "stdout",
     "output_type": "stream",
     "text": [
      "  Operating System: Red Hat Enterprise Linux Server 7.6 (Maipo)\n"
     ]
    }
   ],
   "source": [
    "! hostnamectl | grep Operating"
   ]
  },
  {
   "cell_type": "code",
   "execution_count": 15,
   "metadata": {},
   "outputs": [
    {
     "name": "stdout",
     "output_type": "stream",
     "text": [
      "Architecture:          x86_64\n",
      "CPU op-mode(s):        32-bit, 64-bit\n",
      "Byte Order:            Little Endian\n",
      "CPU(s):                24\n",
      "On-line CPU(s) list:   0-23\n",
      "Thread(s) per core:    1\n",
      "Core(s) per socket:    12\n",
      "Socket(s):             2\n",
      "NUMA node(s):          2\n",
      "Vendor ID:             GenuineIntel\n",
      "CPU family:            6\n",
      "Model:                 62\n",
      "Model name:            Intel(R) Xeon(R) CPU E5-2695 v2 @ 2.40GHz\n",
      "Stepping:              4\n",
      "CPU MHz:               2667.773\n",
      "CPU max MHz:           3200.0000\n",
      "CPU min MHz:           1200.0000\n",
      "BogoMIPS:              4799.91\n",
      "Virtualization:        VT-x\n",
      "L1d cache:             32K\n",
      "L1i cache:             32K\n",
      "L2 cache:              256K\n",
      "L3 cache:              30720K\n",
      "NUMA node0 CPU(s):     0-11\n",
      "NUMA node1 CPU(s):     12-23\n",
      "Flags:                 fpu vme de pse tsc msr pae mce cx8 apic sep mtrr pge mca cmov pat pse36 clflush dts acpi mmx fxsr sse sse2 ss ht tm pbe syscall nx pdpe1gb rdtscp lm constant_tsc arch_perfmon pebs bts rep_good nopl xtopology nonstop_tsc aperfmperf eagerfpu pni pclmulqdq dtes64 monitor ds_cpl vmx smx est tm2 ssse3 cx16 xtpr pdcm pcid dca sse4_1 sse4_2 x2apic popcnt tsc_deadline_timer aes xsave avx f16c rdrand lahf_lm epb ssbd ibrs ibpb stibp tpr_shadow vnmi flexpriority ept vpid fsgsbase smep erms xsaveopt dtherm ida arat pln pts spec_ctrl intel_stibp flush_l1d\n"
     ]
    }
   ],
   "source": [
    "! lscpu"
   ]
  }
 ],
 "metadata": {
  "kernelspec": {
   "display_name": "Python 3",
   "language": "python",
   "name": "python3"
  },
  "language_info": {
   "codemirror_mode": {
    "name": "ipython",
    "version": 3
   },
   "file_extension": ".py",
   "mimetype": "text/x-python",
   "name": "python",
   "nbconvert_exporter": "python",
   "pygments_lexer": "ipython3",
   "version": "3.8.5"
  }
 },
 "nbformat": 4,
 "nbformat_minor": 4
}
