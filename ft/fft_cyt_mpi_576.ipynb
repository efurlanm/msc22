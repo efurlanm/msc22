{
 "cells": [
  {
   "cell_type": "markdown",
   "metadata": {},
   "source": [
    "# FFTW C2C Cython MPI"
   ]
  },
  {
   "cell_type": "code",
   "execution_count": 41,
   "metadata": {},
   "outputs": [],
   "source": [
    "#=--------------------------------------------------------------------=#"
   ]
  },
  {
   "cell_type": "markdown",
   "metadata": {},
   "source": [
    "To avoid srun errors, it is necessary to create a stacked conda environment, containing some updated packages (.../env3 can have another name):\n",
    "\n",
    "    conda create --prefix .../env3 python=3.9\n",
    "\n",
    "Stack and install packages\n",
    "\n",
    "    conda activate --stack .../env3\n",
    "    conda install -c conda-forge cython pyfftw mpi4py mpi4py-fft\n",
    "\n",
    "Activate when using the environment\n",
    "\n",
    "    conda activate --stack .../env3"
   ]
  },
  {
   "cell_type": "code",
   "execution_count": 2,
   "metadata": {},
   "outputs": [
    {
     "name": "stdout",
     "output_type": "stream",
     "text": [
      "Python 3.9.4\n"
     ]
    }
   ],
   "source": [
    "! python --version"
   ]
  },
  {
   "cell_type": "code",
   "execution_count": 4,
   "metadata": {},
   "outputs": [
    {
     "name": "stdout",
     "output_type": "stream",
     "text": [
      "Cython version 0.29.23\n"
     ]
    }
   ],
   "source": [
    "! cython --version"
   ]
  },
  {
   "cell_type": "code",
   "execution_count": 11,
   "metadata": {},
   "outputs": [
    {
     "name": "stdout",
     "output_type": "stream",
     "text": [
      "Overwriting cc2cp.pyx\n"
     ]
    }
   ],
   "source": [
    "%%writefile cc2cp.pyx\n",
    "#cython: boundscheck=False, wraparound=False, cdivision=True\n",
    "#cython: initializedcheck=False, language_level=3, infer_types=True\n",
    "import numpy as np, time as tm\n",
    "from mpi4py_fft import PFFT, newDistArray\n",
    "from mpi4py import MPI\n",
    "\n",
    "def ffp():\n",
    "    comm = MPI.COMM_WORLD\n",
    "    rank = comm.Get_rank()\n",
    "    size = comm.Get_size()\n",
    "\n",
    "    t0 = tm.time()    # time measurement\n",
    "\n",
    "    # data\n",
    "    L = M = N = 576\n",
    "    NA = np.array([N, M, L], dtype=int)\n",
    "    f = PFFT(comm, NA, dtype=np.complex128, backend='pyfftw')\n",
    "    u = newDistArray(f, False)\n",
    "    for k in range (u.shape[2]) :\n",
    "        for j in range(u.shape[1]) :\n",
    "            for i in range(u.shape[0]) :\n",
    "                u[i, j, k] = i + j + k + 3\n",
    "    u.real = np.sin ( u.real )\n",
    "    u.imag = 0\n",
    "\n",
    "    t1 = tm.time()    # time measurement\n",
    "    \n",
    "    # FFT\n",
    "    u_hat = f.forward(u, normalize=False)\n",
    "    # checksum\n",
    "    rs = np.array(0, dtype=np.complex128)\n",
    "    s = np.array(np.sum(u_hat), dtype=np.complex128)\n",
    "    comm.Reduce([s, MPI.DOUBLE_COMPLEX], [rs, MPI.DOUBLE_COMPLEX],\n",
    "                op=MPI.SUM, root=0)\n",
    "    \n",
    "    t2 = tm.time()    # time measurement\n",
    "    \n",
    "    return rs, L, size, rank, t0, t1, t2"
   ]
  },
  {
   "cell_type": "code",
   "execution_count": 12,
   "metadata": {},
   "outputs": [
    {
     "name": "stdout",
     "output_type": "stream",
     "text": [
      "Overwriting setup.py\n"
     ]
    }
   ],
   "source": [
    "%%writefile setup.py\n",
    "from distutils.core import setup\n",
    "from distutils.extension import Extension\n",
    "from Cython.Distutils import build_ext\n",
    "setup(\n",
    "    name='cc2cp',\n",
    "    ext_modules=[\n",
    "        Extension('cc2cp',\n",
    "            sources=['cc2cp.pyx'],\n",
    "            extra_compile_args=['-O3']\n",
    "        )\n",
    "    ],\n",
    "    cmdclass = {'build_ext': build_ext}\n",
    ")"
   ]
  },
  {
   "cell_type": "code",
   "execution_count": 13,
   "metadata": {},
   "outputs": [
    {
     "name": "stdout",
     "output_type": "stream",
     "text": [
      "running build_ext\n",
      "cythoning cc2cp.pyx to cc2cp.c\n",
      "building 'cc2cp' extension\n",
      "creating build\n",
      "creating build/temp.linux-x86_64-3.9\n",
      "/scratch/ampemi/eduardo.miranda2/env2/bin/x86_64-conda_cos6-linux-gnu-cc -Wno-unused-result -Wsign-compare -DNDEBUG -O2 -Wall -march=nocona -mtune=haswell -ftree-vectorize -fPIC -fstack-protector-strong -fno-plt -O2 -ffunction-sections -pipe -isystem /scratch/ampemi/eduardo.miranda2/env3/include -fno-semantic-interposition -march=nocona -mtune=haswell -ftree-vectorize -fPIC -fstack-protector-strong -fno-plt -O2 -ffunction-sections -pipe -isystem /scratch/ampemi/eduardo.miranda2/env3/include -fno-semantic-interposition -march=nocona -mtune=haswell -ftree-vectorize -fPIC -fstack-protector-strong -fno-plt -O2 -ffunction-sections -pipe -isystem /scratch/ampemi/eduardo.miranda2/env2/include -DNDEBUG -D_FORTIFY_SOURCE=2 -O2 -isystem /scratch/ampemi/eduardo.miranda2/env2/include -fPIC -I/scratch/ampemi/eduardo.miranda2/env3/include/python3.9 -c cc2cp.c -o build/temp.linux-x86_64-3.9/cc2cp.o -O3\n",
      "x86_64-conda_cos6-linux-gnu-gcc -pthread -shared -Wl,-O2 -Wl,--sort-common -Wl,--as-needed -Wl,-z,relro -Wl,-z,now -Wl,--disable-new-dtags -Wl,--gc-sections -Wl,-rpath,/scratch/ampemi/eduardo.miranda2/env3/lib -Wl,-rpath-link,/scratch/ampemi/eduardo.miranda2/env3/lib -L/scratch/ampemi/eduardo.miranda2/env3/lib -Wl,-O2 -Wl,--sort-common -Wl,--as-needed -Wl,-z,relro -Wl,-z,now -Wl,--disable-new-dtags -Wl,--gc-sections -Wl,-rpath,/scratch/ampemi/eduardo.miranda2/env3/lib -Wl,-rpath-link,/scratch/ampemi/eduardo.miranda2/env3/lib -L/scratch/ampemi/eduardo.miranda2/env3/lib -Wl,-O2 -Wl,--sort-common -Wl,--as-needed -Wl,-z,relro -Wl,-z,now -Wl,--disable-new-dtags -Wl,--gc-sections -Wl,-rpath,/scratch/ampemi/eduardo.miranda2/env2/lib -Wl,-rpath-link,/scratch/ampemi/eduardo.miranda2/env2/lib -L/scratch/ampemi/eduardo.miranda2/env2/lib -march=nocona -mtune=haswell -ftree-vectorize -fPIC -fstack-protector-strong -fno-plt -O2 -ffunction-sections -pipe -isystem /scratch/ampemi/eduardo.miranda2/env2/include -DNDEBUG -D_FORTIFY_SOURCE=2 -O2 -isystem /scratch/ampemi/eduardo.miranda2/env2/include build/temp.linux-x86_64-3.9/cc2cp.o -o /prj/ampemi/eduardo.miranda2/fft/cc2cp.cpython-39-x86_64-linux-gnu.so\n"
     ]
    }
   ],
   "source": [
    "%%bash\n",
    "rm -rf cc2cp*.so build\n",
    "python setup.py build_ext --inplace"
   ]
  },
  {
   "cell_type": "code",
   "execution_count": 8,
   "metadata": {},
   "outputs": [
    {
     "name": "stdout",
     "output_type": "stream",
     "text": [
      "cc2cp.cpython-39-x86_64-linux-gnu.so\n"
     ]
    }
   ],
   "source": [
    "! ls cc2cp*.so"
   ]
  },
  {
   "cell_type": "code",
   "execution_count": 14,
   "metadata": {},
   "outputs": [
    {
     "name": "stdout",
     "output_type": "stream",
     "text": [
      "Overwriting cc2cp_c.py\n"
     ]
    }
   ],
   "source": [
    "%%writefile cc2cp_c.py\n",
    "import numpy as np\n",
    "import time as tm\n",
    "import cc2cp\n",
    "\n",
    "t3 = tm.time()    # time measurement\n",
    "\n",
    "s, l, n, r, t0, t1, t2 = cc2cp.ffp()\n",
    "\n",
    "t4 = tm.time()    # time measurement\n",
    "\n",
    "if r == 0 :\n",
    "    print(f\"S:{s*1E-5:.0f}\", end='')\n",
    "    print(f\", L:{l:0g}\", end='')\n",
    "    print(f\", N:{n:0g}\", end='')\n",
    "    print(f\", T1:{t1-t0:.4f}\", end='')\n",
    "    print(f\", TF:{t2-t1:.4f}\", end='')\n",
    "    print(f\", TT:{t2-t0:.4f}\", end='')\n",
    "    print(f\", TO:{t4-t3:.4f}\")"
   ]
  },
  {
   "cell_type": "code",
   "execution_count": 16,
   "metadata": {},
   "outputs": [
    {
     "name": "stdout",
     "output_type": "stream",
     "text": [
      "S:270-0j, L:576, N:16, T1:5.3873, TF:4.2265, TT:9.6138, TO:9.6292\n"
     ]
    }
   ],
   "source": [
    "! mpiexec -n 16 python cc2cp_c.py"
   ]
  },
  {
   "cell_type": "markdown",
   "metadata": {},
   "source": [
    "#### Copy files to /scratch"
   ]
  },
  {
   "cell_type": "code",
   "execution_count": 17,
   "metadata": {},
   "outputs": [],
   "source": [
    "! cp cc2cp_c.py cc2cp*.so /scratch${PWD#\"/prj\"}"
   ]
  },
  {
   "cell_type": "markdown",
   "metadata": {},
   "source": [
    "#### Slurm batch script"
   ]
  },
  {
   "cell_type": "code",
   "execution_count": 9,
   "metadata": {},
   "outputs": [
    {
     "name": "stdout",
     "output_type": "stream",
     "text": [
      "Overwriting cc2cp.srm\n"
     ]
    }
   ],
   "source": [
    "%%writefile cc2cp.srm\n",
    "#!/bin/bash\n",
    "#SBATCH --job-name cc2cp       # Job name\n",
    "#SBATCH --partition cpu_small  # Select partition\n",
    "#SBATCH --ntasks=1             # Total tasks\n",
    "#SBATCH --time=00:05:00        # Limit execution time\n",
    "#SBATCH --exclusive            # Exclusive acccess to nodes\n",
    "\n",
    "echo '========================================'\n",
    "echo '- Job ID:' $SLURM_JOB_ID\n",
    "echo '- Tasks per node:' $SLURM_NTASKS_PER_NODE\n",
    "echo '- # of nodes in the job:' $SLURM_JOB_NUM_NODES\n",
    "echo '- # of tasks:' $SLURM_NTASKS\n",
    "echo '- Dir from which sbatch was invoked:' ${SLURM_SUBMIT_DIR##*/}\n",
    "cd $SLURM_SUBMIT_DIR\n",
    "echo -n '- List of nodes allocated to the job: '\n",
    "nodeset -e $SLURM_JOB_NODELIST\n",
    "\n",
    "# Environment\n",
    "echo '-- modules ----------------------------'\n",
    "cd\n",
    "dir=/scratch${PWD#\"/prj\"}\n",
    "cd $dir\n",
    "source $dir/env2/etc/profile.d/conda.sh\n",
    "conda activate $dir/env2\n",
    "conda activate --stack $dir/env3\n",
    "cd $dir/fft\n",
    "              \n",
    "# Executable\n",
    "EXEC=\"python cc2cp_c.py\"\n",
    "\n",
    "# Start\n",
    "echo '-- run --------------------------------'\n",
    "echo '$ srun --mpi=pmi2 -n' $SLURM_NTASKS ${EXEC##*/}\n",
    "echo '-- output -----------------------------'\n",
    "srun --mpi=pmi2 -n $SLURM_NTASKS $EXEC\n",
    "echo '~~ end ~~~~~~~~~~~~~~~~~~~~~~~~~~~~~~~~'"
   ]
  },
  {
   "cell_type": "markdown",
   "metadata": {},
   "source": [
    "## Check"
   ]
  },
  {
   "cell_type": "code",
   "execution_count": 19,
   "metadata": {},
   "outputs": [
    {
     "name": "stdout",
     "output_type": "stream",
     "text": [
      "Submitted batch job 1333389\n"
     ]
    }
   ],
   "source": [
    "! sbatch --partition=cpu_dev --ntasks=96 cc2cp.srm"
   ]
  },
  {
   "cell_type": "code",
   "execution_count": 20,
   "metadata": {},
   "outputs": [
    {
     "name": "stdout",
     "output_type": "stream",
     "text": [
      "             JOBID  PARTITION  ST  TIME NODES CPUS\n",
      "           1333389    cpu_dev   R  0:02     4   96\n"
     ]
    }
   ],
   "source": [
    "! squeue -n cc2cp -o \"%.18i  %.9P  %.2t %.5M %.5D %.4C\""
   ]
  },
  {
   "cell_type": "code",
   "execution_count": 21,
   "metadata": {},
   "outputs": [
    {
     "name": "stdout",
     "output_type": "stream",
     "text": [
      "             JOBID  PARTITION  ST  TIME NODES CPUS\n"
     ]
    }
   ],
   "source": [
    "! squeue -n cc2cp -o \"%.18i  %.9P  %.2t %.5M %.5D %.4C\""
   ]
  },
  {
   "cell_type": "code",
   "execution_count": 22,
   "metadata": {},
   "outputs": [
    {
     "name": "stdout",
     "output_type": "stream",
     "text": [
      "========================================\n",
      "- Job ID: 1333389\n",
      "- Tasks per node:\n",
      "- # of nodes in the job: 4\n",
      "- # of tasks: 96\n",
      "- Dir from which sbatch was invoked: fft\n",
      "- List of nodes allocated to the job: sdumont1243 sdumont1244 sdumont1245 sdumont1246\n",
      "-- modules ----------------------------\n",
      "-- run --------------------------------\n",
      "$ srun --mpi=pmi2 -n 96 python cc2cp_c.py\n",
      "-- output -----------------------------\n",
      "S:270-0j, L:576, N:96, T1:4.5796, TF:6.7388, TT:11.3184, TO:11.3185\n",
      "~~ end ~~~~~~~~~~~~~~~~~~~~~~~~~~~~~~~~\n"
     ]
    }
   ],
   "source": [
    "! cat /scratch${PWD#\"/prj\"}/slurm-1333389.out"
   ]
  },
  {
   "cell_type": "markdown",
   "metadata": {},
   "source": [
    "## Run"
   ]
  },
  {
   "cell_type": "markdown",
   "metadata": {},
   "source": [
    "### 1 of (1, 4, 16, 24, 48, 72, 96)"
   ]
  },
  {
   "cell_type": "code",
   "execution_count": 10,
   "metadata": {
    "scrolled": true
   },
   "outputs": [
    {
     "name": "stdout",
     "output_type": "stream",
     "text": [
      "Submitted batch job 1337210\n",
      "Submitted batch job 1337211\n",
      "Submitted batch job 1337212\n"
     ]
    }
   ],
   "source": [
    "! sbatch --ntasks=1 cc2cp.srm\n",
    "! sbatch --ntasks=1 cc2cp.srm\n",
    "! sbatch --ntasks=1 cc2cp.srm"
   ]
  },
  {
   "cell_type": "code",
   "execution_count": 2,
   "metadata": {},
   "outputs": [
    {
     "name": "stdout",
     "output_type": "stream",
     "text": [
      "========================================\n",
      "- Job ID: 1337210\n",
      "- Tasks per node:\n",
      "- # of nodes in the job: 1\n",
      "- # of tasks: 1\n",
      "- Dir from which sbatch was invoked: fft\n",
      "- List of nodes allocated to the job: sdumont1457\n",
      "-- modules ----------------------------\n",
      "-- run --------------------------------\n",
      "$ srun --mpi=pmi2 -n 1 python cc2cp_c.py\n",
      "-- output -----------------------------\n",
      "S:270-0j, L:576, N:1, T1:108.3838, TF:19.1992, TT:127.5831, TO:127.5918\n",
      "~~ end ~~~~~~~~~~~~~~~~~~~~~~~~~~~~~~~~\n",
      "========================================\n",
      "- Job ID: 1337211\n",
      "- Tasks per node:\n",
      "- # of nodes in the job: 1\n",
      "- # of tasks: 1\n",
      "- Dir from which sbatch was invoked: fft\n",
      "- List of nodes allocated to the job: sdumont1490\n",
      "-- modules ----------------------------\n",
      "-- run --------------------------------\n",
      "$ srun --mpi=pmi2 -n 1 python cc2cp_c.py\n",
      "-- output -----------------------------\n",
      "S:270-0j, L:576, N:1, T1:107.9681, TF:23.5177, TT:131.4858, TO:131.6783\n",
      "~~ end ~~~~~~~~~~~~~~~~~~~~~~~~~~~~~~~~\n",
      "========================================\n",
      "- Job ID: 1337212\n",
      "- Tasks per node:\n",
      "- # of nodes in the job: 1\n",
      "- # of tasks: 1\n",
      "- Dir from which sbatch was invoked: fft\n",
      "- List of nodes allocated to the job: sdumont1457\n",
      "-- modules ----------------------------\n",
      "-- run --------------------------------\n",
      "$ srun --mpi=pmi2 -n 1 python cc2cp_c.py\n",
      "-- output -----------------------------\n",
      "S:270-0j, L:576, N:1, T1:94.0485, TF:19.1933, TT:113.2418, TO:113.2504\n",
      "~~ end ~~~~~~~~~~~~~~~~~~~~~~~~~~~~~~~~\n"
     ]
    }
   ],
   "source": [
    "! cat /scratch${PWD#\"/prj\"}/slurm-1337210.out\n",
    "! cat /scratch${PWD#\"/prj\"}/slurm-1337211.out\n",
    "! cat /scratch${PWD#\"/prj\"}/slurm-1337212.out"
   ]
  },
  {
   "cell_type": "markdown",
   "metadata": {},
   "source": [
    "### 4 of (1, 4, 16, 24, 48, 72, 96)"
   ]
  },
  {
   "cell_type": "code",
   "execution_count": 24,
   "metadata": {
    "scrolled": true
   },
   "outputs": [
    {
     "name": "stdout",
     "output_type": "stream",
     "text": [
      "Submitted batch job 1333396\n",
      "Submitted batch job 1333397\n",
      "Submitted batch job 1333398\n"
     ]
    }
   ],
   "source": [
    "! sbatch --ntasks=4 cc2cp.srm\n",
    "! sbatch --ntasks=4 cc2cp.srm\n",
    "! sbatch --ntasks=4 cc2cp.srm"
   ]
  },
  {
   "cell_type": "code",
   "execution_count": 4,
   "metadata": {},
   "outputs": [
    {
     "name": "stdout",
     "output_type": "stream",
     "text": [
      "========================================\n",
      "- Job ID: 1333396\n",
      "- Tasks per node:\n",
      "- # of nodes in the job: 1\n",
      "- # of tasks: 4\n",
      "- Dir from which sbatch was invoked: fft\n",
      "- List of nodes allocated to the job: sdumont1275\n",
      "-- modules ----------------------------\n",
      "-- run --------------------------------\n",
      "$ srun --mpi=pmi2 -n 4 python cc2cp_c.py\n",
      "-- output -----------------------------\n",
      "S:270-0j, L:576, N:4, T1:23.9835, TF:4.8481, TT:28.8316, TO:28.8419\n",
      "~~ end ~~~~~~~~~~~~~~~~~~~~~~~~~~~~~~~~\n",
      "========================================\n",
      "- Job ID: 1333397\n",
      "- Tasks per node:\n",
      "- # of nodes in the job: 1\n",
      "- # of tasks: 4\n",
      "- Dir from which sbatch was invoked: fft\n",
      "- List of nodes allocated to the job: sdumont1275\n",
      "-- modules ----------------------------\n",
      "-- run --------------------------------\n",
      "$ srun --mpi=pmi2 -n 4 python cc2cp_c.py\n",
      "-- output -----------------------------\n",
      "S:270-0j, L:576, N:4, T1:22.9127, TF:6.8095, TT:29.7222, TO:29.7320\n",
      "~~ end ~~~~~~~~~~~~~~~~~~~~~~~~~~~~~~~~\n",
      "========================================\n",
      "- Job ID: 1333398\n",
      "- Tasks per node:\n",
      "- # of nodes in the job: 1\n",
      "- # of tasks: 4\n",
      "- Dir from which sbatch was invoked: fft\n",
      "- List of nodes allocated to the job: sdumont1275\n",
      "-- modules ----------------------------\n",
      "-- run --------------------------------\n",
      "$ srun --mpi=pmi2 -n 4 python cc2cp_c.py\n",
      "-- output -----------------------------\n",
      "S:270-0j, L:576, N:4, T1:23.1314, TF:5.4628, TT:28.5942, TO:28.6047\n",
      "~~ end ~~~~~~~~~~~~~~~~~~~~~~~~~~~~~~~~\n"
     ]
    }
   ],
   "source": [
    "! cat /scratch${PWD#\"/prj\"}/slurm-1333396.out\n",
    "! cat /scratch${PWD#\"/prj\"}/slurm-1333397.out\n",
    "! cat /scratch${PWD#\"/prj\"}/slurm-1333398.out"
   ]
  },
  {
   "cell_type": "markdown",
   "metadata": {},
   "source": [
    "### 16 of (1, 4, 16, 24, 48, 72, 96)"
   ]
  },
  {
   "cell_type": "code",
   "execution_count": 25,
   "metadata": {
    "scrolled": true
   },
   "outputs": [
    {
     "name": "stdout",
     "output_type": "stream",
     "text": [
      "Submitted batch job 1333399\n",
      "Submitted batch job 1333400\n",
      "Submitted batch job 1333401\n"
     ]
    }
   ],
   "source": [
    "! sbatch --ntasks=16 cc2cp.srm\n",
    "! sbatch --ntasks=16 cc2cp.srm\n",
    "! sbatch --ntasks=16 cc2cp.srm"
   ]
  },
  {
   "cell_type": "code",
   "execution_count": 5,
   "metadata": {},
   "outputs": [
    {
     "name": "stdout",
     "output_type": "stream",
     "text": [
      "========================================\n",
      "- Job ID: 1333399\n",
      "- Tasks per node:\n",
      "- # of nodes in the job: 1\n",
      "- # of tasks: 16\n",
      "- Dir from which sbatch was invoked: fft\n",
      "- List of nodes allocated to the job: sdumont1275\n",
      "-- modules ----------------------------\n",
      "-- run --------------------------------\n",
      "$ srun --mpi=pmi2 -n 16 python cc2cp_c.py\n",
      "-- output -----------------------------\n",
      "S:270-0j, L:576, N:16, T1:6.2307, TF:1.3147, TT:7.5454, TO:7.5685\n",
      "~~ end ~~~~~~~~~~~~~~~~~~~~~~~~~~~~~~~~\n",
      "========================================\n",
      "- Job ID: 1333400\n",
      "- Tasks per node:\n",
      "- # of nodes in the job: 1\n",
      "- # of tasks: 16\n",
      "- Dir from which sbatch was invoked: fft\n",
      "- List of nodes allocated to the job: sdumont1275\n",
      "-- modules ----------------------------\n",
      "-- run --------------------------------\n",
      "$ srun --mpi=pmi2 -n 16 python cc2cp_c.py\n",
      "-- output -----------------------------\n",
      "S:270-0j, L:576, N:16, T1:6.7684, TF:1.4145, TT:8.1829, TO:8.1853\n",
      "~~ end ~~~~~~~~~~~~~~~~~~~~~~~~~~~~~~~~\n",
      "========================================\n",
      "- Job ID: 1333401\n",
      "- Tasks per node:\n",
      "- # of nodes in the job: 1\n",
      "- # of tasks: 16\n",
      "- Dir from which sbatch was invoked: fft\n",
      "- List of nodes allocated to the job: sdumont1275\n",
      "-- modules ----------------------------\n",
      "-- run --------------------------------\n",
      "$ srun --mpi=pmi2 -n 16 python cc2cp_c.py\n",
      "-- output -----------------------------\n",
      "S:270-0j, L:576, N:16, T1:5.8477, TF:2.1656, TT:8.0133, TO:8.0161\n",
      "~~ end ~~~~~~~~~~~~~~~~~~~~~~~~~~~~~~~~\n"
     ]
    }
   ],
   "source": [
    "! cat /scratch${PWD#\"/prj\"}/slurm-1333399.out\n",
    "! cat /scratch${PWD#\"/prj\"}/slurm-1333400.out\n",
    "! cat /scratch${PWD#\"/prj\"}/slurm-1333401.out"
   ]
  },
  {
   "cell_type": "markdown",
   "metadata": {},
   "source": [
    "### 24 of (1, 4, 16, 24, 48, 72, 96)"
   ]
  },
  {
   "cell_type": "code",
   "execution_count": 26,
   "metadata": {
    "scrolled": true
   },
   "outputs": [
    {
     "name": "stdout",
     "output_type": "stream",
     "text": [
      "Submitted batch job 1333402\n",
      "Submitted batch job 1333403\n",
      "Submitted batch job 1333404\n"
     ]
    }
   ],
   "source": [
    "! sbatch --ntasks=24 cc2cp.srm\n",
    "! sbatch --ntasks=24 cc2cp.srm\n",
    "! sbatch --ntasks=24 cc2cp.srm"
   ]
  },
  {
   "cell_type": "code",
   "execution_count": 6,
   "metadata": {},
   "outputs": [
    {
     "name": "stdout",
     "output_type": "stream",
     "text": [
      "========================================\n",
      "- Job ID: 1333402\n",
      "- Tasks per node:\n",
      "- # of nodes in the job: 1\n",
      "- # of tasks: 24\n",
      "- Dir from which sbatch was invoked: fft\n",
      "- List of nodes allocated to the job: sdumont1275\n",
      "-- modules ----------------------------\n",
      "-- run --------------------------------\n",
      "$ srun --mpi=pmi2 -n 24 python cc2cp_c.py\n",
      "-- output -----------------------------\n",
      "S:270-0j, L:576, N:24, T1:11.8080, TF:0.8497, TT:12.6577, TO:12.6596\n",
      "~~ end ~~~~~~~~~~~~~~~~~~~~~~~~~~~~~~~~\n",
      "========================================\n",
      "- Job ID: 1333403\n",
      "- Tasks per node:\n",
      "- # of nodes in the job: 1\n",
      "- # of tasks: 24\n",
      "- Dir from which sbatch was invoked: fft\n",
      "- List of nodes allocated to the job: sdumont1275\n",
      "-- modules ----------------------------\n",
      "-- run --------------------------------\n",
      "$ srun --mpi=pmi2 -n 24 python cc2cp_c.py\n",
      "-- output -----------------------------\n",
      "S:270-0j, L:576, N:24, T1:4.2911, TF:1.0600, TT:5.3510, TO:5.3528\n",
      "~~ end ~~~~~~~~~~~~~~~~~~~~~~~~~~~~~~~~\n",
      "========================================\n",
      "- Job ID: 1333404\n",
      "- Tasks per node:\n",
      "- # of nodes in the job: 1\n",
      "- # of tasks: 24\n",
      "- Dir from which sbatch was invoked: fft\n",
      "- List of nodes allocated to the job: sdumont1275\n",
      "-- modules ----------------------------\n",
      "-- run --------------------------------\n",
      "$ srun --mpi=pmi2 -n 24 python cc2cp_c.py\n",
      "-- output -----------------------------\n",
      "S:270-0j, L:576, N:24, T1:3.9332, TF:1.0339, TT:4.9670, TO:4.9702\n",
      "~~ end ~~~~~~~~~~~~~~~~~~~~~~~~~~~~~~~~\n"
     ]
    }
   ],
   "source": [
    "! cat /scratch${PWD#\"/prj\"}/slurm-1333402.out\n",
    "! cat /scratch${PWD#\"/prj\"}/slurm-1333403.out\n",
    "! cat /scratch${PWD#\"/prj\"}/slurm-1333404.out"
   ]
  },
  {
   "cell_type": "markdown",
   "metadata": {},
   "source": [
    "### 48 of (1, 4, 16, 24, 48, 72, 96)"
   ]
  },
  {
   "cell_type": "code",
   "execution_count": 27,
   "metadata": {
    "scrolled": true
   },
   "outputs": [
    {
     "name": "stdout",
     "output_type": "stream",
     "text": [
      "Submitted batch job 1333405\n",
      "Submitted batch job 1333406\n",
      "Submitted batch job 1333407\n"
     ]
    }
   ],
   "source": [
    "! sbatch --ntasks=48 cc2cp.srm\n",
    "! sbatch --ntasks=48 cc2cp.srm\n",
    "! sbatch --ntasks=48 cc2cp.srm"
   ]
  },
  {
   "cell_type": "code",
   "execution_count": 7,
   "metadata": {},
   "outputs": [
    {
     "name": "stdout",
     "output_type": "stream",
     "text": [
      "========================================\n",
      "- Job ID: 1333405\n",
      "- Tasks per node:\n",
      "- # of nodes in the job: 2\n",
      "- # of tasks: 48\n",
      "- Dir from which sbatch was invoked: fft\n",
      "- List of nodes allocated to the job: sdumont1286 sdumont1491\n",
      "-- modules ----------------------------\n",
      "-- run --------------------------------\n",
      "$ srun --mpi=pmi2 -n 48 python cc2cp_c.py\n",
      "-- output -----------------------------\n",
      "S:270+0j, L:576, N:48, T1:1.8594, TF:9.3098, TT:11.1692, TO:11.1981\n",
      "~~ end ~~~~~~~~~~~~~~~~~~~~~~~~~~~~~~~~\n",
      "========================================\n",
      "- Job ID: 1333406\n",
      "- Tasks per node:\n",
      "- # of nodes in the job: 2\n",
      "- # of tasks: 48\n",
      "- Dir from which sbatch was invoked: fft\n",
      "- List of nodes allocated to the job: sdumont1286 sdumont1491\n",
      "-- modules ----------------------------\n",
      "-- run --------------------------------\n",
      "$ srun --mpi=pmi2 -n 48 python cc2cp_c.py\n",
      "-- output -----------------------------\n",
      "S:270+0j, L:576, N:48, T1:1.8336, TF:7.4756, TT:9.3092, TO:9.3101\n",
      "~~ end ~~~~~~~~~~~~~~~~~~~~~~~~~~~~~~~~\n",
      "========================================\n",
      "- Job ID: 1333407\n",
      "- Tasks per node:\n",
      "- # of nodes in the job: 2\n",
      "- # of tasks: 48\n",
      "- Dir from which sbatch was invoked: fft\n",
      "- List of nodes allocated to the job: sdumont1275 sdumont1276\n",
      "-- modules ----------------------------\n",
      "-- run --------------------------------\n",
      "$ srun --mpi=pmi2 -n 48 python cc2cp_c.py\n",
      "-- output -----------------------------\n",
      "S:270+0j, L:576, N:48, T1:2.1500, TF:7.9849, TT:10.1349, TO:10.1363\n",
      "~~ end ~~~~~~~~~~~~~~~~~~~~~~~~~~~~~~~~\n"
     ]
    }
   ],
   "source": [
    "! cat /scratch${PWD#\"/prj\"}/slurm-1333405.out\n",
    "! cat /scratch${PWD#\"/prj\"}/slurm-1333406.out\n",
    "! cat /scratch${PWD#\"/prj\"}/slurm-1333407.out"
   ]
  },
  {
   "cell_type": "markdown",
   "metadata": {},
   "source": [
    "### 72 of (1, 4, 16, 24, 48, 72, 96)"
   ]
  },
  {
   "cell_type": "code",
   "execution_count": 28,
   "metadata": {
    "scrolled": true
   },
   "outputs": [
    {
     "name": "stdout",
     "output_type": "stream",
     "text": [
      "Submitted batch job 1333408\n",
      "Submitted batch job 1333409\n",
      "Submitted batch job 1333410\n"
     ]
    }
   ],
   "source": [
    "! sbatch --ntasks=72 cc2cp.srm\n",
    "! sbatch --ntasks=72 cc2cp.srm\n",
    "! sbatch --ntasks=72 cc2cp.srm"
   ]
  },
  {
   "cell_type": "code",
   "execution_count": 8,
   "metadata": {},
   "outputs": [
    {
     "name": "stdout",
     "output_type": "stream",
     "text": [
      "========================================\n",
      "- Job ID: 1333408\n",
      "- Tasks per node:\n",
      "- # of nodes in the job: 3\n",
      "- # of tasks: 72\n",
      "- Dir from which sbatch was invoked: fft\n",
      "- List of nodes allocated to the job: sdumont1278 sdumont1286 sdumont1491\n",
      "-- modules ----------------------------\n",
      "-- run --------------------------------\n",
      "$ srun --mpi=pmi2 -n 72 python cc2cp_c.py\n",
      "-- output -----------------------------\n",
      "S:270-0j, L:576, N:72, T1:1.4073, TF:9.8087, TT:11.2160, TO:11.2176\n",
      "~~ end ~~~~~~~~~~~~~~~~~~~~~~~~~~~~~~~~\n",
      "========================================\n",
      "- Job ID: 1333409\n",
      "- Tasks per node:\n",
      "- # of nodes in the job: 3\n",
      "- # of tasks: 72\n",
      "- Dir from which sbatch was invoked: fft\n",
      "- List of nodes allocated to the job: sdumont1275 sdumont1276 sdumont1278\n",
      "-- modules ----------------------------\n",
      "-- run --------------------------------\n",
      "$ srun --mpi=pmi2 -n 72 python cc2cp_c.py\n",
      "-- output -----------------------------\n",
      "S:270-0j, L:576, N:72, T1:1.4625, TF:9.6574, TT:11.1199, TO:11.1226\n",
      "~~ end ~~~~~~~~~~~~~~~~~~~~~~~~~~~~~~~~\n",
      "========================================\n",
      "- Job ID: 1333410\n",
      "- Tasks per node:\n",
      "- # of nodes in the job: 3\n",
      "- # of tasks: 72\n",
      "- Dir from which sbatch was invoked: fft\n",
      "- List of nodes allocated to the job: sdumont1275 sdumont1276 sdumont1278\n",
      "-- modules ----------------------------\n",
      "-- run --------------------------------\n",
      "$ srun --mpi=pmi2 -n 72 python cc2cp_c.py\n",
      "-- output -----------------------------\n",
      "S:270-0j, L:576, N:72, T1:1.5252, TF:7.9863, TT:9.5115, TO:9.5129\n",
      "~~ end ~~~~~~~~~~~~~~~~~~~~~~~~~~~~~~~~\n"
     ]
    }
   ],
   "source": [
    "! cat /scratch${PWD#\"/prj\"}/slurm-1333408.out\n",
    "! cat /scratch${PWD#\"/prj\"}/slurm-1333409.out\n",
    "! cat /scratch${PWD#\"/prj\"}/slurm-1333410.out"
   ]
  },
  {
   "cell_type": "markdown",
   "metadata": {},
   "source": [
    "### 96 of (1, 4, 16, 24, 48, 72, 96)"
   ]
  },
  {
   "cell_type": "code",
   "execution_count": 29,
   "metadata": {
    "scrolled": true
   },
   "outputs": [
    {
     "name": "stdout",
     "output_type": "stream",
     "text": [
      "Submitted batch job 1333411\n",
      "Submitted batch job 1333412\n",
      "Submitted batch job 1333413\n"
     ]
    }
   ],
   "source": [
    "! sbatch --ntasks=96 cc2cp.srm\n",
    "! sbatch --ntasks=96 cc2cp.srm\n",
    "! sbatch --ntasks=96 cc2cp.srm"
   ]
  },
  {
   "cell_type": "code",
   "execution_count": 2,
   "metadata": {},
   "outputs": [
    {
     "name": "stdout",
     "output_type": "stream",
     "text": [
      "========================================\n",
      "- Job ID: 1333411\n",
      "- Tasks per node:\n",
      "- # of nodes in the job: 4\n",
      "- # of tasks: 96\n",
      "- Dir from which sbatch was invoked: fft\n",
      "- List of nodes allocated to the job: sdumont1275 sdumont1276 sdumont1278 sdumont1286\n",
      "-- modules ----------------------------\n",
      "-- run --------------------------------\n",
      "$ srun --mpi=pmi2 -n 96 python cc2cp_c.py\n",
      "-- output -----------------------------\n",
      "S:270-0j, L:576, N:96, T1:0.9572, TF:7.6307, TT:8.5880, TO:8.5895\n",
      "~~ end ~~~~~~~~~~~~~~~~~~~~~~~~~~~~~~~~\n",
      "========================================\n",
      "- Job ID: 1333412\n",
      "- Tasks per node:\n",
      "- # of nodes in the job: 4\n",
      "- # of tasks: 96\n",
      "- Dir from which sbatch was invoked: fft\n",
      "- List of nodes allocated to the job: sdumont1275 sdumont1276 sdumont1278 sdumont1286\n",
      "-- modules ----------------------------\n",
      "-- run --------------------------------\n",
      "$ srun --mpi=pmi2 -n 96 python cc2cp_c.py\n",
      "-- output -----------------------------\n",
      "S:270-0j, L:576, N:96, T1:1.2002, TF:7.2525, TT:8.4527, TO:8.4538\n",
      "~~ end ~~~~~~~~~~~~~~~~~~~~~~~~~~~~~~~~\n",
      "========================================\n",
      "- Job ID: 1333413\n",
      "- Tasks per node:\n",
      "- # of nodes in the job: 4\n",
      "- # of tasks: 96\n",
      "- Dir from which sbatch was invoked: fft\n",
      "- List of nodes allocated to the job: sdumont1275 sdumont1276 sdumont1278 sdumont1286\n",
      "-- modules ----------------------------\n",
      "-- run --------------------------------\n",
      "$ srun --mpi=pmi2 -n 96 python cc2cp_c.py\n",
      "-- output -----------------------------\n",
      "S:270-0j, L:576, N:96, T1:1.0706, TF:7.5941, TT:8.6647, TO:8.6662\n",
      "~~ end ~~~~~~~~~~~~~~~~~~~~~~~~~~~~~~~~\n"
     ]
    }
   ],
   "source": [
    "! cat /scratch${PWD#\"/prj\"}/slurm-1333411.out\n",
    "! cat /scratch${PWD#\"/prj\"}/slurm-1333412.out\n",
    "! cat /scratch${PWD#\"/prj\"}/slurm-1333413.out"
   ]
  },
  {
   "cell_type": "code",
   "execution_count": null,
   "metadata": {},
   "outputs": [],
   "source": []
  },
  {
   "cell_type": "code",
   "execution_count": 30,
   "metadata": {},
   "outputs": [
    {
     "name": "stdout",
     "output_type": "stream",
     "text": [
      "33\n"
     ]
    }
   ],
   "source": [
    "! squeue -u $(whoami) -h -t pending,running -r | wc -l"
   ]
  },
  {
   "cell_type": "code",
   "execution_count": 31,
   "metadata": {},
   "outputs": [
    {
     "name": "stdout",
     "output_type": "stream",
     "text": [
      "             JOBID  PARTITION  ST  TIME NODES CPUS\n",
      "           1333411  cpu_small  PD  0:00     4   96\n",
      "           1333412  cpu_small  PD  0:00     4   96\n",
      "           1333413  cpu_small  PD  0:00     4   96\n",
      "           1333410  cpu_small  PD  0:00     3   72\n",
      "           1333409  cpu_small  PD  0:00     3   72\n",
      "           1333408  cpu_small  PD  0:00     3   72\n",
      "           1333407  cpu_small  PD  0:00     2   48\n",
      "           1333406  cpu_small  PD  0:00     2   48\n",
      "           1333405  cpu_small  PD  0:00     2   48\n",
      "           1333404  cpu_small  PD  0:00     1   24\n",
      "           1333403  cpu_small  PD  0:00     1   24\n",
      "           1333402  cpu_small  PD  0:00     1   24\n",
      "           1333401  cpu_small  PD  0:00     1   16\n",
      "           1333400  cpu_small  PD  0:00     1   16\n",
      "           1333399  cpu_small  PD  0:00     1   16\n",
      "           1333398  cpu_small  PD  0:00     1    4\n",
      "           1333397  cpu_small  PD  0:00     1    4\n",
      "           1333396  cpu_small  PD  0:00     1    4\n",
      "           1333395  cpu_small  PD  0:00     1    1\n",
      "           1333394  cpu_small  PD  0:00     1    1\n",
      "           1333393  cpu_small  PD  0:00     1    1\n"
     ]
    }
   ],
   "source": [
    "! squeue -n cc2cp -o \"%.18i  %.9P  %.2t %.5M %.5D %.4C\""
   ]
  },
  {
   "cell_type": "code",
   "execution_count": 1,
   "metadata": {},
   "outputs": [
    {
     "name": "stdout",
     "output_type": "stream",
     "text": [
      "             JOBID  PARTITION  ST  TIME NODES CPUS\n"
     ]
    }
   ],
   "source": [
    "! squeue -n cc2cp -o \"%.18i  %.9P  %.2t %.5M %.5D %.4C\""
   ]
  },
  {
   "cell_type": "code",
   "execution_count": null,
   "metadata": {},
   "outputs": [],
   "source": []
  }
 ],
 "metadata": {
  "kernelspec": {
   "display_name": "Python 3",
   "language": "python",
   "name": "python3"
  },
  "language_info": {
   "codemirror_mode": {
    "name": "ipython",
    "version": 3
   },
   "file_extension": ".py",
   "mimetype": "text/x-python",
   "name": "python",
   "nbconvert_exporter": "python",
   "pygments_lexer": "ipython3",
   "version": "3.8.5"
  }
 },
 "nbformat": 4,
 "nbformat_minor": 4
}
