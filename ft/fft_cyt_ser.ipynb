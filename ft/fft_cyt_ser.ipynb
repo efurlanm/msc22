{
 "cells": [
  {
   "cell_type": "markdown",
   "metadata": {},
   "source": [
    "# FFTW C2C Cython Sequential"
   ]
  },
  {
   "cell_type": "markdown",
   "metadata": {},
   "source": [
    "To avoid srun errors, it is necessary to create a stacked conda environment, containing some updated packages (.../env3 can have another name):\n",
    "\n",
    "    conda create --prefix .../env3 python=3.9\n",
    "\n",
    "Stack and install packages\n",
    "\n",
    "    conda activate --stack .../env3\n",
    "    conda install -c conda-forge cython pyfftw mpi4py mpi4py-fft\n",
    "\n",
    "Activate when using the environment\n",
    "\n",
    "    conda activate --stack .../env3"
   ]
  },
  {
   "cell_type": "markdown",
   "metadata": {},
   "source": []
  },
  {
   "cell_type": "code",
   "execution_count": 17,
   "metadata": {},
   "outputs": [
    {
     "name": "stdout",
     "output_type": "stream",
     "text": [
      "Overwriting cc2cs.pyx\n"
     ]
    }
   ],
   "source": [
    "%%writefile cc2cs.pyx\n",
    "#cython: boundscheck=False, wraparound=False, cdivision=True\n",
    "#cython: initializedcheck=False, language_level=3, infer_types=True\n",
    "def ff():\n",
    "    import numpy as np, pyfftw as pf, time as tm\n",
    "    \n",
    "    t0 = tm.time()    # time measurement\n",
    "\n",
    "    # data\n",
    "    L = M = N = 576\n",
    "    u = pf.empty_aligned( (N, M, L), dtype=np.complex128 )\n",
    "    for k in range (u.shape[2]) :\n",
    "        for j in range(u.shape[1]) :\n",
    "            for i in range(u.shape[0]) :\n",
    "                u[i, j, k] = i + j + k + 3\n",
    "    u.real = np.sin ( u.real )\n",
    "    u.imag = 0\n",
    "    \n",
    "    t1 = tm.time()    # time measurement\n",
    "\n",
    "    # FFT\n",
    "    uf = pf.interfaces.numpy_fft.fftn(u,\n",
    "            overwrite_input=True, auto_contiguous=False,\n",
    "            auto_align_input=False)\n",
    "    # checksum\n",
    "    s = np.sum(uf)\n",
    "    \n",
    "    t2 = tm.time()    # time measurement\n",
    "    \n",
    "    return s, L, t0, t1, t2"
   ]
  },
  {
   "cell_type": "code",
   "execution_count": 18,
   "metadata": {},
   "outputs": [
    {
     "name": "stdout",
     "output_type": "stream",
     "text": [
      "Overwriting setups.py\n"
     ]
    }
   ],
   "source": [
    "%%writefile setups.py\n",
    "from distutils.core import setup\n",
    "from distutils.extension import Extension\n",
    "from Cython.Distutils import build_ext\n",
    "setup(\n",
    "    name='cc2cs',\n",
    "    ext_modules=[\n",
    "        Extension('cc2cs',\n",
    "            sources=['cc2cs.pyx'],\n",
    "            extra_compile_args=['-O3']\n",
    "        )\n",
    "    ],\n",
    "    cmdclass = {'build_ext': build_ext}\n",
    ")"
   ]
  },
  {
   "cell_type": "code",
   "execution_count": 19,
   "metadata": {},
   "outputs": [
    {
     "name": "stdout",
     "output_type": "stream",
     "text": [
      "running build_ext\n",
      "cythoning cc2cs.pyx to cc2cs.c\n",
      "building 'cc2cs' extension\n",
      "/scratch/ampemi/xxxx.xxxx/env2/bin/x86_64-conda_cos6-linux-gnu-cc -Wno-unused-result -Wsign-compare -DNDEBUG -O2 -Wall -march=nocona -mtune=haswell -ftree-vectorize -fPIC -fstack-protector-strong -fno-plt -O2 -ffunction-sections -pipe -isystem /scratch/ampemi/xxxx.xxxx/env3/include -fno-semantic-interposition -march=nocona -mtune=haswell -ftree-vectorize -fPIC -fstack-protector-strong -fno-plt -O2 -ffunction-sections -pipe -isystem /scratch/ampemi/xxxx.xxxx/env3/include -fno-semantic-interposition -march=nocona -mtune=haswell -ftree-vectorize -fPIC -fstack-protector-strong -fno-plt -O2 -ffunction-sections -pipe -isystem /scratch/ampemi/xxxx.xxxx/env2/include -DNDEBUG -D_FORTIFY_SOURCE=2 -O2 -isystem /scratch/ampemi/xxxx.xxxx/env2/include -fPIC -I/scratch/ampemi/xxxx.xxxx/env3/include/python3.9 -c cc2cs.c -o build/temp.linux-x86_64-3.9/cc2cs.o -O3\n",
      "x86_64-conda_cos6-linux-gnu-gcc -pthread -shared -Wl,-O2 -Wl,--sort-common -Wl,--as-needed -Wl,-z,relro -Wl,-z,now -Wl,--disable-new-dtags -Wl,--gc-sections -Wl,-rpath,/scratch/ampemi/xxxx.xxxx/env3/lib -Wl,-rpath-link,/scratch/ampemi/xxxx.xxxx/env3/lib -L/scratch/ampemi/xxxx.xxxx/env3/lib -Wl,-O2 -Wl,--sort-common -Wl,--as-needed -Wl,-z,relro -Wl,-z,now -Wl,--disable-new-dtags -Wl,--gc-sections -Wl,-rpath,/scratch/ampemi/xxxx.xxxx/env3/lib -Wl,-rpath-link,/scratch/ampemi/xxxx.xxxx/env3/lib -L/scratch/ampemi/xxxx.xxxx/env3/lib -Wl,-O2 -Wl,--sort-common -Wl,--as-needed -Wl,-z,relro -Wl,-z,now -Wl,--disable-new-dtags -Wl,--gc-sections -Wl,-rpath,/scratch/ampemi/xxxx.xxxx/env2/lib -Wl,-rpath-link,/scratch/ampemi/xxxx.xxxx/env2/lib -L/scratch/ampemi/xxxx.xxxx/env2/lib -march=nocona -mtune=haswell -ftree-vectorize -fPIC -fstack-protector-strong -fno-plt -O2 -ffunction-sections -pipe -isystem /scratch/ampemi/xxxx.xxxx/env2/include -DNDEBUG -D_FORTIFY_SOURCE=2 -O2 -isystem /scratch/ampemi/xxxx.xxxx/env2/include build/temp.linux-x86_64-3.9/cc2cs.o -o /prj/ampemi/xxxx.xxxx/fft/cc2cs.cpython-39-x86_64-linux-gnu.so\n"
     ]
    },
    {
     "name": "stderr",
     "output_type": "stream",
     "text": [
      "\n",
      "CommandNotFoundError: Your shell has not been properly configured to use 'conda activate'.\n",
      "To initialize your shell, run\n",
      "\n",
      "    $ conda init <SHELL_NAME>\n",
      "\n",
      "Currently supported shells are:\n",
      "  - bash\n",
      "  - fish\n",
      "  - tcsh\n",
      "  - xonsh\n",
      "  - zsh\n",
      "  - powershell\n",
      "\n",
      "See 'conda init --help' for more information and options.\n",
      "\n",
      "IMPORTANT: You may need to close and restart your shell after running 'conda init'.\n",
      "\n",
      "\n"
     ]
    }
   ],
   "source": [
    "%%bash\n",
    "rm -f cc2cs*.so\n",
    "python setups.py build_ext --inplace"
   ]
  },
  {
   "cell_type": "code",
   "execution_count": 20,
   "metadata": {},
   "outputs": [
    {
     "name": "stdout",
     "output_type": "stream",
     "text": [
      "cc2cs.cpython-39-x86_64-linux-gnu.so\n"
     ]
    }
   ],
   "source": [
    "! ls cc2cs*.so"
   ]
  },
  {
   "cell_type": "code",
   "execution_count": 21,
   "metadata": {},
   "outputs": [
    {
     "name": "stdout",
     "output_type": "stream",
     "text": [
      "Overwriting cc2cs_c.py\n"
     ]
    }
   ],
   "source": [
    "%%writefile cc2cs_c.py\n",
    "import numpy as np\n",
    "import time as tm\n",
    "import cc2cs\n",
    "\n",
    "t3 = tm.time()    # time measurement\n",
    "\n",
    "s, L, t0, t1, t2 = cc2cs.ff()\n",
    "\n",
    "t4 = tm.time()    # time measurement\n",
    "\n",
    "print(f\"S:{s*1E-5:.0f}\", end='')\n",
    "print(f\" | L:{L:0g}\", end='')\n",
    "print(f\" | T1:{t1-t0:.4f}\", end='')\n",
    "print(f\" | TF:{t2-t1:.4f}\", end='')\n",
    "print(f\" | TT:{t2-t0:.4f}\", end='')\n",
    "print(f\" | TO:{t4-t3:.4f}\")"
   ]
  },
  {
   "cell_type": "code",
   "execution_count": 22,
   "metadata": {},
   "outputs": [
    {
     "name": "stdout",
     "output_type": "stream",
     "text": [
      "S:270-0j | L:576 | T1:93.1251 | TF:22.6156 | TT:115.7406 | TO:117.0237\n"
     ]
    }
   ],
   "source": [
    "! time python cc2cs_c.py"
   ]
  },
  {
   "cell_type": "markdown",
   "metadata": {},
   "source": [
    "## Copy to /scratch"
   ]
  },
  {
   "cell_type": "code",
   "execution_count": 23,
   "metadata": {},
   "outputs": [],
   "source": [
    "%%bash\n",
    "rm /scratch${PWD#\"/prj\"}/cc2cs*\n",
    "cp cc2cs* /scratch${PWD#\"/prj\"}"
   ]
  },
  {
   "cell_type": "code",
   "execution_count": 24,
   "metadata": {},
   "outputs": [
    {
     "name": "stdout",
     "output_type": "stream",
     "text": [
      "Overwriting cc2cs.srm\n"
     ]
    }
   ],
   "source": [
    "%%writefile cc2cs.srm\n",
    "#!/bin/bash\n",
    "#SBATCH --job-name cc2cs       # Job name\n",
    "#SBATCH --partition cpu_small  # Select partition\n",
    "#SBATCH --ntasks=1             # Total tasks\n",
    "#SBATCH --time=00:05:00        # Limit execution time\n",
    "#SBATCH --exclusive            # Exclusive acccess to nodes\n",
    "\n",
    "echo '========================================'\n",
    "echo '- Job ID:' $SLURM_JOB_ID\n",
    "echo '- Tasks per node:' $SLURM_NTASKS_PER_NODE\n",
    "echo '- # of nodes in the job:' $SLURM_JOB_NUM_NODES\n",
    "echo '- # of tasks:' $SLURM_NTASKS\n",
    "echo '- Dir from which sbatch was invoked:' ${SLURM_SUBMIT_DIR##*/}\n",
    "cd $SLURM_SUBMIT_DIR\n",
    "echo -n '- List of nodes allocated to the job: '\n",
    "nodeset -e $SLURM_JOB_NODELIST\n",
    "\n",
    "# Environment\n",
    "echo '-- modules ----------------------------'\n",
    "cd\n",
    "dir=/scratch${PWD#\"/prj\"}\n",
    "cd $dir\n",
    "source $dir/env2/etc/profile.d/conda.sh\n",
    "conda activate $dir/env2\n",
    "conda activate --stack $dir/env3\n",
    "cd $dir/fft\n",
    "                                              \n",
    "# Executable\n",
    "EXEC=\"python cc2cs_c.py\"\n",
    "\n",
    "# Start\n",
    "echo '-- run --------------------------------'\n",
    "echo '$ srun --mpi=pmi2 -n' $SLURM_NTASKS ${EXEC##*/}\n",
    "echo '-- output -----------------------------'\n",
    "srun --mpi=pmi2 -n $SLURM_NTASKS $EXEC\n",
    "echo '~~ end ~~~~~~~~~~~~~~~~~~~~~~~~~~~~~~~~'"
   ]
  },
  {
   "cell_type": "markdown",
   "metadata": {},
   "source": [
    "## Check"
   ]
  },
  {
   "cell_type": "code",
   "execution_count": 25,
   "metadata": {
    "scrolled": true
   },
   "outputs": [
    {
     "name": "stdout",
     "output_type": "stream",
     "text": [
      "Submitted batch job 1333365\n"
     ]
    }
   ],
   "source": [
    "! sbatch --partition=cpu_dev cc2cs.srm"
   ]
  },
  {
   "cell_type": "code",
   "execution_count": 28,
   "metadata": {},
   "outputs": [
    {
     "name": "stdout",
     "output_type": "stream",
     "text": [
      "             JOBID  PARTITION  ST  TIME NODES CPUS\n",
      "           1333365    cpu_dev   R  0:48     1   24\n"
     ]
    }
   ],
   "source": [
    "! squeue -n cc2cs -o \"%.18i  %.9P  %.2t %.5M %.5D %.4C\""
   ]
  },
  {
   "cell_type": "code",
   "execution_count": 29,
   "metadata": {},
   "outputs": [
    {
     "name": "stdout",
     "output_type": "stream",
     "text": [
      "             JOBID  PARTITION  ST  TIME NODES CPUS\n"
     ]
    }
   ],
   "source": [
    "! squeue -n cc2cs -o \"%.18i  %.9P  %.2t %.5M %.5D %.4C\""
   ]
  },
  {
   "cell_type": "code",
   "execution_count": 30,
   "metadata": {},
   "outputs": [
    {
     "name": "stdout",
     "output_type": "stream",
     "text": [
      "========================================\n",
      "- Job ID: 1333365\n",
      "- Tasks per node:\n",
      "- # of nodes in the job: 1\n",
      "- # of tasks: 1\n",
      "- Dir from which sbatch was invoked: fft\n",
      "- List of nodes allocated to the job: sdumont1243\n",
      "-- modules ----------------------------\n",
      "-- run --------------------------------\n",
      "$ srun --mpi=pmi2 -n 1 python cc2cs_c.py\n",
      "-- output -----------------------------\n",
      "S:270-0j | L:576 | T1:85.6123 | TF:19.5309 | TT:105.1432 | TO:106.0234\n",
      "~~ end ~~~~~~~~~~~~~~~~~~~~~~~~~~~~~~~~\n"
     ]
    }
   ],
   "source": [
    "! cat /scratch${PWD#\"/prj\"}/slurm-1333365.out"
   ]
  },
  {
   "cell_type": "markdown",
   "metadata": {},
   "source": [
    "## Run"
   ]
  },
  {
   "cell_type": "code",
   "execution_count": 31,
   "metadata": {
    "scrolled": true
   },
   "outputs": [
    {
     "name": "stdout",
     "output_type": "stream",
     "text": [
      "Submitted batch job 1333376\n",
      "Submitted batch job 1333377\n",
      "Submitted batch job 1333378\n"
     ]
    }
   ],
   "source": [
    "! sbatch cc2cs.srm\n",
    "! sbatch cc2cs.srm\n",
    "! sbatch cc2cs.srm"
   ]
  },
  {
   "cell_type": "code",
   "execution_count": 32,
   "metadata": {},
   "outputs": [
    {
     "name": "stdout",
     "output_type": "stream",
     "text": [
      "             JOBID  PARTITION  ST  TIME NODES CPUS\n",
      "           1333376  cpu_small  PD  0:00     1    1\n",
      "           1333377  cpu_small  PD  0:00     1    1\n",
      "           1333378  cpu_small  PD  0:00     1    1\n"
     ]
    }
   ],
   "source": [
    "! squeue -n cc2cs -o \"%.18i  %.9P  %.2t %.5M %.5D %.4C\""
   ]
  },
  {
   "cell_type": "code",
   "execution_count": 1,
   "metadata": {},
   "outputs": [
    {
     "name": "stdout",
     "output_type": "stream",
     "text": [
      "             JOBID  PARTITION  ST  TIME NODES CPUS\n"
     ]
    }
   ],
   "source": [
    "! squeue -n cc2cs -o \"%.18i  %.9P  %.2t %.5M %.5D %.4C\""
   ]
  },
  {
   "cell_type": "code",
   "execution_count": 2,
   "metadata": {},
   "outputs": [
    {
     "name": "stdout",
     "output_type": "stream",
     "text": [
      "========================================\n",
      "- Job ID: 1333376\n",
      "- Tasks per node:\n",
      "- # of nodes in the job: 1\n",
      "- # of tasks: 1\n",
      "- Dir from which sbatch was invoked: fft\n",
      "- List of nodes allocated to the job: sdumont1275\n",
      "-- modules ----------------------------\n",
      "-- run --------------------------------\n",
      "$ srun --mpi=pmi2 -n 1 python cc2cs_c.py\n",
      "-- output -----------------------------\n",
      "S:270-0j | L:576 | T1:92.2451 | TF:18.9971 | TT:111.2422 | TO:115.0666\n",
      "~~ end ~~~~~~~~~~~~~~~~~~~~~~~~~~~~~~~~\n",
      "========================================\n",
      "- Job ID: 1333377\n",
      "- Tasks per node:\n",
      "- # of nodes in the job: 1\n",
      "- # of tasks: 1\n",
      "- Dir from which sbatch was invoked: fft\n",
      "- List of nodes allocated to the job: sdumont1275\n",
      "-- modules ----------------------------\n",
      "-- run --------------------------------\n",
      "$ srun --mpi=pmi2 -n 1 python cc2cs_c.py\n",
      "-- output -----------------------------\n",
      "S:270-0j | L:576 | T1:87.9824 | TF:18.9791 | TT:106.9615 | TO:107.0620\n",
      "~~ end ~~~~~~~~~~~~~~~~~~~~~~~~~~~~~~~~\n",
      "========================================\n",
      "- Job ID: 1333378\n",
      "- Tasks per node:\n",
      "- # of nodes in the job: 1\n",
      "- # of tasks: 1\n",
      "- Dir from which sbatch was invoked: fft\n",
      "- List of nodes allocated to the job: sdumont1275\n",
      "-- modules ----------------------------\n",
      "-- run --------------------------------\n",
      "$ srun --mpi=pmi2 -n 1 python cc2cs_c.py\n",
      "-- output -----------------------------\n",
      "S:270-0j | L:576 | T1:85.9392 | TF:18.9102 | TT:104.8495 | TO:104.9495\n",
      "~~ end ~~~~~~~~~~~~~~~~~~~~~~~~~~~~~~~~\n"
     ]
    }
   ],
   "source": [
    "! cat /scratch${PWD#\"/prj\"}/slurm-1333376.out\n",
    "! cat /scratch${PWD#\"/prj\"}/slurm-1333377.out\n",
    "! cat /scratch${PWD#\"/prj\"}/slurm-1333378.out"
   ]
  },
  {
   "cell_type": "markdown",
   "metadata": {},
   "source": [
    "## Version"
   ]
  },
  {
   "cell_type": "code",
   "execution_count": 3,
   "metadata": {},
   "outputs": [
    {
     "name": "stdout",
     "output_type": "stream",
     "text": [
      "Cython version 0.29.21\n"
     ]
    }
   ],
   "source": [
    "! cython --version"
   ]
  },
  {
   "cell_type": "code",
   "execution_count": 7,
   "metadata": {},
   "outputs": [
    {
     "name": "stdout",
     "output_type": "stream",
     "text": [
      "Python 3.9.4\n"
     ]
    }
   ],
   "source": [
    "! python --version"
   ]
  }
 ],
 "metadata": {
  "kernelspec": {
   "display_name": "Python 3 (ipykernel)",
   "language": "python",
   "name": "python3"
  },
  "language_info": {
   "codemirror_mode": {
    "name": "ipython",
    "version": 3
   },
   "file_extension": ".py",
   "mimetype": "text/x-python",
   "name": "python",
   "nbconvert_exporter": "python",
   "pygments_lexer": "ipython3",
   "version": "3.8.13"
  }
 },
 "nbformat": 4,
 "nbformat_minor": 4
}
