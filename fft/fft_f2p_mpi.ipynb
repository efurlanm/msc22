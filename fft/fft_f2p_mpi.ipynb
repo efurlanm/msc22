{
 "cells": [
  {
   "cell_type": "markdown",
   "metadata": {},
   "source": [
    "# FF P2PY MPI"
   ]
  },
  {
   "cell_type": "code",
   "execution_count": 1,
   "metadata": {},
   "outputs": [
    {
     "name": "stdout",
     "output_type": "stream",
     "text": [
      "Overwriting nc2cp.f90\n"
     ]
    }
   ],
   "source": [
    "%%writefile nc2cp.f90\n",
    "subroutine fs(ss, ll, ts, tf, tt, mr, ms)\n",
    "    use, intrinsic :: iso_c_binding\n",
    "    use MPI\n",
    "    implicit none\n",
    "    include 'fftw3-mpi.f03'\n",
    "    integer, intent(out) :: mr, ms, ll\n",
    "    double complex, intent(out) :: ss\n",
    "    double precision, intent(out) :: ts, tf, tt\n",
    "    integer :: mpirank, mpisize, mpierror, i, j, k\n",
    "    integer(C_INTPTR_T), parameter :: L = 576, M = 576, N = 576\n",
    "    type(C_PTR) :: plan, cdata\n",
    "    complex(C_DOUBLE_COMPLEX), pointer :: data(:,:,:)\n",
    "    integer(C_INTPTR_T) :: alloc_local, local_N, local_start\n",
    "    complex(C_DOUBLE_COMPLEX) :: s, rs\n",
    "    real(C_DOUBLE) :: t0, t1, t2\n",
    "\n",
    "    call cpu_time(t0)    ! time measurement\n",
    "    \n",
    "    call MPI_Init(mpierror)\n",
    "    call MPI_Comm_rank(MPI_COMM_WORLD, mpirank, mpierror)\n",
    "    call MPI_Comm_size(MPI_COMM_WORLD, mpisize, mpierror)\n",
    "\n",
    "    ! init\n",
    "    call fftw_mpi_init()    \n",
    "\n",
    "    ! get local data size and allocate (note dimension reversal)\n",
    "    alloc_local = fftw_mpi_local_size_3d(N, M, L,  &\n",
    "                 MPI_COMM_WORLD, local_N, local_start)\n",
    "    cdata = fftw_alloc_complex(alloc_local)\n",
    "    call c_f_pointer(cdata, data, [L, M, local_N])\n",
    "\n",
    "    ! create MPI plan for in-place forward DFT (note dimension reversal)\n",
    "    plan = fftw_mpi_plan_dft_3d(N, M, L, data, data,  &\n",
    "                MPI_COMM_WORLD, FFTW_FORWARD, FFTW_ESTIMATE)\n",
    "\n",
    "    ! fill array with complex values\n",
    "    do k = 1, int(local_N)\n",
    "        do j = 1, M\n",
    "            do i = 1, L\n",
    "                data(i, j, k) = sin( real(i + j + (k + local_start)) )\n",
    "            enddo\n",
    "        enddo\n",
    "    enddo\n",
    "    data = dcmplx( real(data), 0 )\n",
    "    \n",
    "    call cpu_time(t1)    ! time measurement\n",
    "\n",
    "    ! compute transform (as many times as desired)\n",
    "    call fftw_mpi_execute_dft(plan, data, data)\n",
    "\n",
    "    ! compute the checksum of processes\n",
    "    s = sum(data)\n",
    "    call MPI_Reduce(s,                   &! send data\n",
    "                    rs,                  &! recv data\n",
    "                    1,                   &! count\n",
    "                    MPI_DOUBLE_COMPLEX,  &! data type\n",
    "                    MPI_SUM,             &! operation\n",
    "                    0,                   &! rank of root process\n",
    "                    MPI_COMM_WORLD, mpierror)\n",
    "    \n",
    "    ! clean\n",
    "    call fftw_destroy_plan(plan)\n",
    "    call fftw_free(cdata)\n",
    "    call fftw_mpi_cleanup()\n",
    "    call mpi_finalize(mpierror)\n",
    "       \n",
    "    call cpu_time(t2)    ! time measurement        \n",
    "    \n",
    "    ! result\n",
    "    ss = rs * 1e-5\n",
    "    ll = L\n",
    "    ts = t1 - t0\n",
    "    tf = t2 - t1   \n",
    "    tt = t2 - t0\n",
    "    mr = mpirank\n",
    "    ms = mpisize\n",
    "    \n",
    "end subroutine"
   ]
  },
  {
   "cell_type": "code",
   "execution_count": 2,
   "metadata": {},
   "outputs": [
    {
     "name": "stdout",
     "output_type": "stream",
     "text": [
      "{'before': '', 'this': 'use', 'after': ', intrinsic :: iso_c_binding '}\n"
     ]
    }
   ],
   "source": [
    "%%bash\n",
    "module load  openmpi/gnu/4.0.4_ucx_1.6  mathlibs/fftw/3.3.8_openmpi-3.1_gnu\n",
    "export FFTW_ROOT=/scratch/app/mathlibs/fftw/3.3.8_openmpi-3.1_gnu\n",
    "f2py  -c nc2cp.f90  -m nc2cp  --f90exec=mpif90  --opt='-O3'  --quiet  \\\n",
    "      -L$FFTW_ROOT/lib  -lfftw3_mpi  -lfftw3  -lm  -I$FFTW_ROOT/include  \\\n",
    "      -DNPY_NO_DEPRECATED_API=NPY_1_7_API_VERSION"
   ]
  },
  {
   "cell_type": "code",
   "execution_count": 3,
   "metadata": {},
   "outputs": [
    {
     "name": "stdout",
     "output_type": "stream",
     "text": [
      "Overwriting nc2cp_c.py\n"
     ]
    }
   ],
   "source": [
    "%%writefile nc2cp_c.py\n",
    "import nc2cp\n",
    "import time as tm\n",
    "t2 = tm.time()    # time measurement\n",
    "ss, ll, ts, tf, tt, mr, ms = nc2cp.fs()\n",
    "t3 = tm.time()    # time measurement\n",
    "if mr == 0 :\n",
    "    print(f\"S:{ss:.0f}\", end='')\n",
    "    print(f\", L:{ll:0g}\", end='')\n",
    "    print(f\", N:{ms:0g}\", end='')\n",
    "    print(f\", T1:{ts:.4f}\", end='')\n",
    "    print(f\", TF:{tf:.4f}\", end='')\n",
    "    print(f\", TT:{tt:.4f}\", end='')\n",
    "    print(f\", TO:{t3-t2:.4f}\")"
   ]
  },
  {
   "cell_type": "code",
   "execution_count": 6,
   "metadata": {},
   "outputs": [],
   "source": [
    "! cp nc2cp* /scratch${PWD#\"/prj\"}"
   ]
  },
  {
   "cell_type": "code",
   "execution_count": 7,
   "metadata": {},
   "outputs": [
    {
     "name": "stdout",
     "output_type": "stream",
     "text": [
      "Overwriting nc2cp.srm\n"
     ]
    }
   ],
   "source": [
    "%%writefile nc2cp.srm\n",
    "#!/bin/bash\n",
    "#SBATCH --job-name nc2cp       # Job name\n",
    "#SBATCH --partition cpu_small  # Select partition\n",
    "#SBATCH --ntasks=1             # Total tasks\n",
    "#SBATCH --time=00:06:00        # Limit execution time\n",
    "#SBATCH --exclusive            # Exclusive acccess to nodes\n",
    "\n",
    "echo '========================================'\n",
    "echo '- Job ID:' $SLURM_JOB_ID\n",
    "echo '- Tasks per node:' $SLURM_NTASKS_PER_NODE\n",
    "echo '- # of nodes in the job:' $SLURM_JOB_NUM_NODES\n",
    "echo '- # of tasks:' $SLURM_NTASKS\n",
    "echo '- Dir from which sbatch was invoked:' ${SLURM_SUBMIT_DIR##*/}\n",
    "cd $SLURM_SUBMIT_DIR\n",
    "echo -n '- List of nodes allocated to the job: '\n",
    "nodeset -e $SLURM_JOB_NODELIST\n",
    "\n",
    "# Environment\n",
    "echo '-- modules ----------------------------'\n",
    "cd /scratch${PWD#\"/prj\"}/\n",
    "module load mathlibs/fftw/3.3.8_openmpi-3.1_gnu\n",
    "                                              \n",
    "# Executable\n",
    "EXEC=\"python nc2cp_c.py\"\n",
    "\n",
    "# Start\n",
    "echo '-- run --------------------------------'\n",
    "echo '$ srun --mpi=pmi2 -n' $SLURM_NTASKS ${EXEC##*/}\n",
    "echo '-- output -----------------------------'\n",
    "srun --mpi=pmi2 -n $SLURM_NTASKS $EXEC\n",
    "echo '~~ end ~~~~~~~~~~~~~~~~~~~~~~~~~~~~~~~~'"
   ]
  },
  {
   "cell_type": "markdown",
   "metadata": {},
   "source": [
    "<hr style=\"height:10px;border-width:0;background-color:green\">"
   ]
  },
  {
   "cell_type": "markdown",
   "metadata": {},
   "source": [
    "### 1 of (1, 4, 16, 24, 48, 72, 96)"
   ]
  },
  {
   "cell_type": "code",
   "execution_count": 13,
   "metadata": {
    "scrolled": true
   },
   "outputs": [
    {
     "name": "stdout",
     "output_type": "stream",
     "text": [
      "Submitted batch job 1331069\n",
      "Submitted batch job 1331070\n",
      "Submitted batch job 1331071\n"
     ]
    }
   ],
   "source": [
    "! sbatch --ntasks=1 nc2cp.srm\n",
    "! sbatch --ntasks=1 nc2cp.srm\n",
    "! sbatch --ntasks=1 nc2cp.srm"
   ]
  },
  {
   "cell_type": "code",
   "execution_count": 8,
   "metadata": {},
   "outputs": [
    {
     "name": "stdout",
     "output_type": "stream",
     "text": [
      "========================================\n",
      "- Job ID: 1331069\n",
      "- Tasks per node:\n",
      "- # of nodes in the job: 1\n",
      "- # of tasks: 1\n",
      "- Dir from which sbatch was invoked: fft\n",
      "- List of nodes allocated to the job: sdumont1478\n",
      "-- modules ----------------------------\n",
      "-- run --------------------------------\n",
      "$ srun --mpi=pmi2 -n 1 python nc2cp_c.py\n",
      "-- output -----------------------------\n",
      "S:270+0j, L:576, N:1, T1:7.7512, TF:16.1642, TT:23.9155, TO:30.1821\n",
      "~~ end ~~~~~~~~~~~~~~~~~~~~~~~~~~~~~~~~\n",
      "========================================\n",
      "- Job ID: 1331070\n",
      "- Tasks per node:\n",
      "- # of nodes in the job: 1\n",
      "- # of tasks: 1\n",
      "- Dir from which sbatch was invoked: fft\n",
      "- List of nodes allocated to the job: sdumont1478\n",
      "-- modules ----------------------------\n",
      "-- run --------------------------------\n",
      "$ srun --mpi=pmi2 -n 1 python nc2cp_c.py\n",
      "-- output -----------------------------\n",
      "S:270+0j, L:576, N:1, T1:7.7365, TF:16.1256, TT:23.8621, TO:24.2596\n",
      "~~ end ~~~~~~~~~~~~~~~~~~~~~~~~~~~~~~~~\n",
      "========================================\n",
      "- Job ID: 1331071\n",
      "- Tasks per node:\n",
      "- # of nodes in the job: 1\n",
      "- # of tasks: 1\n",
      "- Dir from which sbatch was invoked: fft\n",
      "- List of nodes allocated to the job: sdumont1478\n",
      "-- modules ----------------------------\n",
      "-- run --------------------------------\n",
      "$ srun --mpi=pmi2 -n 1 python nc2cp_c.py\n",
      "-- output -----------------------------\n",
      "S:270+0j, L:576, N:1, T1:7.7392, TF:16.1964, TT:23.9356, TO:28.3813\n",
      "~~ end ~~~~~~~~~~~~~~~~~~~~~~~~~~~~~~~~\n"
     ]
    }
   ],
   "source": [
    "! cat /scratch${PWD#\"/prj\"}/slurm-1331069.out\n",
    "! cat /scratch${PWD#\"/prj\"}/slurm-1331070.out\n",
    "! cat /scratch${PWD#\"/prj\"}/slurm-1331071.out"
   ]
  },
  {
   "cell_type": "markdown",
   "metadata": {},
   "source": [
    "<hr style=\"height:10px;border-width:0;background-color:green\">"
   ]
  },
  {
   "cell_type": "markdown",
   "metadata": {},
   "source": [
    "### 4 of (1, 4, 16, 24, 48, 72, 96)"
   ]
  },
  {
   "cell_type": "code",
   "execution_count": 14,
   "metadata": {
    "scrolled": true
   },
   "outputs": [
    {
     "name": "stdout",
     "output_type": "stream",
     "text": [
      "Submitted batch job 1331073\n",
      "Submitted batch job 1331074\n",
      "Submitted batch job 1331075\n"
     ]
    }
   ],
   "source": [
    "! sbatch --ntasks=4 nc2cp.srm\n",
    "! sbatch --ntasks=4 nc2cp.srm\n",
    "! sbatch --ntasks=4 nc2cp.srm"
   ]
  },
  {
   "cell_type": "code",
   "execution_count": 7,
   "metadata": {},
   "outputs": [
    {
     "name": "stdout",
     "output_type": "stream",
     "text": [
      "========================================\n",
      "- Job ID: 1331073\n",
      "- Tasks per node:\n",
      "- # of nodes in the job: 1\n",
      "- # of tasks: 4\n",
      "- Dir from which sbatch was invoked: fft\n",
      "- List of nodes allocated to the job: sdumont1478\n",
      "-- modules ----------------------------\n",
      "-- run --------------------------------\n",
      "$ srun --mpi=pmi2 -n 4 python nc2cp_c.py\n",
      "-- output -----------------------------\n",
      "S:270-0j, L:576, N:4, T1:2.1918, TF:4.4423, TT:6.6341, TO:8.0733\n",
      "~~ end ~~~~~~~~~~~~~~~~~~~~~~~~~~~~~~~~\n",
      "========================================\n",
      "- Job ID: 1331074\n",
      "- Tasks per node:\n",
      "- # of nodes in the job: 1\n",
      "- # of tasks: 4\n",
      "- Dir from which sbatch was invoked: fft\n",
      "- List of nodes allocated to the job: sdumont1478\n",
      "-- modules ----------------------------\n",
      "-- run --------------------------------\n",
      "$ srun --mpi=pmi2 -n 4 python nc2cp_c.py\n",
      "-- output -----------------------------\n",
      "S:270-0j, L:576, N:4, T1:2.1849, TF:4.4276, TT:6.6126, TO:6.8889\n",
      "~~ end ~~~~~~~~~~~~~~~~~~~~~~~~~~~~~~~~\n",
      "========================================\n",
      "- Job ID: 1331075\n",
      "- Tasks per node:\n",
      "- # of nodes in the job: 1\n",
      "- # of tasks: 4\n",
      "- Dir from which sbatch was invoked: fft\n",
      "- List of nodes allocated to the job: sdumont1482\n",
      "-- modules ----------------------------\n",
      "-- run --------------------------------\n",
      "$ srun --mpi=pmi2 -n 4 python nc2cp_c.py\n",
      "-- output -----------------------------\n",
      "S:270-0j, L:576, N:4, T1:2.1809, TF:4.4461, TT:6.6270, TO:7.2838\n",
      "~~ end ~~~~~~~~~~~~~~~~~~~~~~~~~~~~~~~~\n"
     ]
    }
   ],
   "source": [
    "! cat /scratch${PWD#\"/prj\"}/slurm-1331073.out\n",
    "! cat /scratch${PWD#\"/prj\"}/slurm-1331074.out\n",
    "! cat /scratch${PWD#\"/prj\"}/slurm-1331075.out"
   ]
  },
  {
   "cell_type": "markdown",
   "metadata": {},
   "source": [
    "<hr style=\"height:10px;border-width:0;background-color:green\">"
   ]
  },
  {
   "cell_type": "markdown",
   "metadata": {},
   "source": [
    "### 16 of (1, 4, 16, 24, 48, 72, 96)"
   ]
  },
  {
   "cell_type": "code",
   "execution_count": 15,
   "metadata": {
    "scrolled": true
   },
   "outputs": [
    {
     "name": "stdout",
     "output_type": "stream",
     "text": [
      "Submitted batch job 1331076\n",
      "Submitted batch job 1331077\n",
      "Submitted batch job 1331078\n"
     ]
    }
   ],
   "source": [
    "! sbatch --ntasks=16 nc2cp.srm\n",
    "! sbatch --ntasks=16 nc2cp.srm\n",
    "! sbatch --ntasks=16 nc2cp.srm"
   ]
  },
  {
   "cell_type": "code",
   "execution_count": 6,
   "metadata": {},
   "outputs": [
    {
     "name": "stdout",
     "output_type": "stream",
     "text": [
      "========================================\n",
      "- Job ID: 1331076\n",
      "- Tasks per node:\n",
      "- # of nodes in the job: 1\n",
      "- # of tasks: 16\n",
      "- Dir from which sbatch was invoked: fft\n",
      "- List of nodes allocated to the job: sdumont1498\n",
      "-- modules ----------------------------\n",
      "-- run --------------------------------\n",
      "$ srun --mpi=pmi2 -n 16 python nc2cp_c.py\n",
      "-- output -----------------------------\n",
      "S:270-0j, L:576, N:16, T1:1.2169, TF:1.5892, TT:2.8060, TO:3.5611\n",
      "~~ end ~~~~~~~~~~~~~~~~~~~~~~~~~~~~~~~~\n",
      "========================================\n",
      "- Job ID: 1331077\n",
      "- Tasks per node:\n",
      "- # of nodes in the job: 1\n",
      "- # of tasks: 16\n",
      "- Dir from which sbatch was invoked: fft\n",
      "- List of nodes allocated to the job: sdumont1498\n",
      "-- modules ----------------------------\n",
      "-- run --------------------------------\n",
      "$ srun --mpi=pmi2 -n 16 python nc2cp_c.py\n",
      "-- output -----------------------------\n",
      "S:270-0j, L:576, N:16, T1:1.2295, TF:1.5784, TT:2.8080, TO:3.7301\n",
      "~~ end ~~~~~~~~~~~~~~~~~~~~~~~~~~~~~~~~\n",
      "========================================\n",
      "- Job ID: 1331078\n",
      "- Tasks per node:\n",
      "- # of nodes in the job: 1\n",
      "- # of tasks: 16\n",
      "- Dir from which sbatch was invoked: fft\n",
      "- List of nodes allocated to the job: sdumont1498\n",
      "-- modules ----------------------------\n",
      "-- run --------------------------------\n",
      "$ srun --mpi=pmi2 -n 16 python nc2cp_c.py\n",
      "-- output -----------------------------\n",
      "S:270-0j, L:576, N:16, T1:1.2414, TF:1.5679, TT:2.8093, TO:3.2927\n",
      "~~ end ~~~~~~~~~~~~~~~~~~~~~~~~~~~~~~~~\n"
     ]
    }
   ],
   "source": [
    "! cat /scratch${PWD#\"/prj\"}/slurm-1331076.out\n",
    "! cat /scratch${PWD#\"/prj\"}/slurm-1331077.out\n",
    "! cat /scratch${PWD#\"/prj\"}/slurm-1331078.out"
   ]
  },
  {
   "cell_type": "markdown",
   "metadata": {},
   "source": [
    "<hr style=\"height:10px;border-width:0;background-color:green\">"
   ]
  },
  {
   "cell_type": "markdown",
   "metadata": {},
   "source": [
    "### 24 of (1, 4, 16, 24, 48, 72, 96)"
   ]
  },
  {
   "cell_type": "code",
   "execution_count": 16,
   "metadata": {
    "scrolled": true
   },
   "outputs": [
    {
     "name": "stdout",
     "output_type": "stream",
     "text": [
      "Submitted batch job 1331079\n",
      "Submitted batch job 1331080\n",
      "Submitted batch job 1331081\n"
     ]
    }
   ],
   "source": [
    "! sbatch --ntasks=24 nc2cp.srm\n",
    "! sbatch --ntasks=24 nc2cp.srm\n",
    "! sbatch --ntasks=24 nc2cp.srm"
   ]
  },
  {
   "cell_type": "code",
   "execution_count": 5,
   "metadata": {},
   "outputs": [
    {
     "name": "stdout",
     "output_type": "stream",
     "text": [
      "========================================\n",
      "- Job ID: 1331079\n",
      "- Tasks per node:\n",
      "- # of nodes in the job: 1\n",
      "- # of tasks: 24\n",
      "- Dir from which sbatch was invoked: fft\n",
      "- List of nodes allocated to the job: sdumont1450\n",
      "-- modules ----------------------------\n",
      "-- run --------------------------------\n",
      "$ srun --mpi=pmi2 -n 24 python nc2cp_c.py\n",
      "-- output -----------------------------\n",
      "S:270+0j, L:576, N:24, T1:1.3558, TF:1.1128, TT:2.4686, TO:4.2907\n",
      "~~ end ~~~~~~~~~~~~~~~~~~~~~~~~~~~~~~~~\n",
      "========================================\n",
      "- Job ID: 1331080\n",
      "- Tasks per node:\n",
      "- # of nodes in the job: 1\n",
      "- # of tasks: 24\n",
      "- Dir from which sbatch was invoked: fft\n",
      "- List of nodes allocated to the job: sdumont1498\n",
      "-- modules ----------------------------\n",
      "-- run --------------------------------\n",
      "$ srun --mpi=pmi2 -n 24 python nc2cp_c.py\n",
      "-- output -----------------------------\n",
      "S:270+0j, L:576, N:24, T1:1.3925, TF:1.1246, TT:2.5172, TO:4.0417\n",
      "~~ end ~~~~~~~~~~~~~~~~~~~~~~~~~~~~~~~~\n",
      "========================================\n",
      "- Job ID: 1331081\n",
      "- Tasks per node:\n",
      "- # of nodes in the job: 1\n",
      "- # of tasks: 24\n",
      "- Dir from which sbatch was invoked: fft\n",
      "- List of nodes allocated to the job: sdumont1479\n",
      "-- modules ----------------------------\n",
      "-- run --------------------------------\n",
      "$ srun --mpi=pmi2 -n 24 python nc2cp_c.py\n",
      "-- output -----------------------------\n",
      "S:270+0j, L:576, N:24, T1:1.3446, TF:1.1238, TT:2.4684, TO:3.9349\n",
      "~~ end ~~~~~~~~~~~~~~~~~~~~~~~~~~~~~~~~\n"
     ]
    }
   ],
   "source": [
    "! cat /scratch${PWD#\"/prj\"}/slurm-1331079.out\n",
    "! cat /scratch${PWD#\"/prj\"}/slurm-1331080.out\n",
    "! cat /scratch${PWD#\"/prj\"}/slurm-1331081.out"
   ]
  },
  {
   "cell_type": "markdown",
   "metadata": {},
   "source": [
    "<hr style=\"height:10px;border-width:0;background-color:green\">"
   ]
  },
  {
   "cell_type": "markdown",
   "metadata": {},
   "source": [
    "### 48 of (1, 4, 16, 24, 48, 72, 96)"
   ]
  },
  {
   "cell_type": "code",
   "execution_count": 17,
   "metadata": {
    "scrolled": true
   },
   "outputs": [
    {
     "name": "stdout",
     "output_type": "stream",
     "text": [
      "Submitted batch job 1331082\n",
      "Submitted batch job 1331083\n",
      "Submitted batch job 1331084\n"
     ]
    }
   ],
   "source": [
    "! sbatch --ntasks=48 nc2cp.srm\n",
    "! sbatch --ntasks=48 nc2cp.srm\n",
    "! sbatch --ntasks=48 nc2cp.srm"
   ]
  },
  {
   "cell_type": "code",
   "execution_count": 4,
   "metadata": {},
   "outputs": [
    {
     "name": "stdout",
     "output_type": "stream",
     "text": [
      "========================================\n",
      "- Job ID: 1331082\n",
      "- Tasks per node:\n",
      "- # of nodes in the job: 2\n",
      "- # of tasks: 48\n",
      "- Dir from which sbatch was invoked: fft\n",
      "- List of nodes allocated to the job: sdumont1480 sdumont1481\n",
      "-- modules ----------------------------\n",
      "-- run --------------------------------\n",
      "$ srun --mpi=pmi2 -n 48 python nc2cp_c.py\n",
      "-- output -----------------------------\n",
      "S:270+0j, L:576, N:48, T1:1.4770, TF:0.9400, TT:2.4170, TO:4.4530\n",
      "~~ end ~~~~~~~~~~~~~~~~~~~~~~~~~~~~~~~~\n",
      "========================================\n",
      "- Job ID: 1331083\n",
      "- Tasks per node:\n",
      "- # of nodes in the job: 2\n",
      "- # of tasks: 48\n",
      "- Dir from which sbatch was invoked: fft\n",
      "- List of nodes allocated to the job: sdumont1443 sdumont1444\n",
      "-- modules ----------------------------\n",
      "-- run --------------------------------\n",
      "$ srun --mpi=pmi2 -n 48 python nc2cp_c.py\n",
      "-- output -----------------------------\n",
      "S:270+0j, L:576, N:48, T1:1.3645, TF:0.9260, TT:2.2905, TO:4.1233\n",
      "~~ end ~~~~~~~~~~~~~~~~~~~~~~~~~~~~~~~~\n",
      "========================================\n",
      "- Job ID: 1331084\n",
      "- Tasks per node:\n",
      "- # of nodes in the job: 2\n",
      "- # of tasks: 48\n",
      "- Dir from which sbatch was invoked: fft\n",
      "- List of nodes allocated to the job: sdumont1445 sdumont1446\n",
      "-- modules ----------------------------\n",
      "-- run --------------------------------\n",
      "$ srun --mpi=pmi2 -n 48 python nc2cp_c.py\n",
      "-- output -----------------------------\n",
      "S:270+0j, L:576, N:48, T1:1.5224, TF:1.0351, TT:2.5575, TO:4.2603\n",
      "~~ end ~~~~~~~~~~~~~~~~~~~~~~~~~~~~~~~~\n"
     ]
    }
   ],
   "source": [
    "! cat /scratch${PWD#\"/prj\"}/slurm-1331082.out\n",
    "! cat /scratch${PWD#\"/prj\"}/slurm-1331083.out\n",
    "! cat /scratch${PWD#\"/prj\"}/slurm-1331084.out"
   ]
  },
  {
   "cell_type": "markdown",
   "metadata": {},
   "source": [
    "<hr style=\"height:10px;border-width:0;background-color:green\">"
   ]
  },
  {
   "cell_type": "markdown",
   "metadata": {},
   "source": [
    "### 72 of (1, 4, 16, 24, 48, 72, 96)"
   ]
  },
  {
   "cell_type": "code",
   "execution_count": 18,
   "metadata": {
    "scrolled": true
   },
   "outputs": [
    {
     "name": "stdout",
     "output_type": "stream",
     "text": [
      "Submitted batch job 1331085\n",
      "Submitted batch job 1331086\n",
      "Submitted batch job 1331087\n"
     ]
    }
   ],
   "source": [
    "! sbatch --ntasks=72 nc2cp.srm\n",
    "! sbatch --ntasks=72 nc2cp.srm\n",
    "! sbatch --ntasks=72 nc2cp.srm"
   ]
  },
  {
   "cell_type": "code",
   "execution_count": 3,
   "metadata": {},
   "outputs": [
    {
     "name": "stdout",
     "output_type": "stream",
     "text": [
      "========================================\n",
      "- Job ID: 1331085\n",
      "- Tasks per node:\n",
      "- # of nodes in the job: 3\n",
      "- # of tasks: 72\n",
      "- Dir from which sbatch was invoked: fft\n",
      "- List of nodes allocated to the job: sdumont1447 sdumont1448 sdumont1482\n",
      "-- modules ----------------------------\n",
      "-- run --------------------------------\n",
      "$ srun --mpi=pmi2 -n 72 python nc2cp_c.py\n",
      "-- output -----------------------------\n",
      "S:270-0j, L:576, N:72, T1:1.3428, TF:0.9832, TT:2.3260, TO:4.5457\n",
      "~~ end ~~~~~~~~~~~~~~~~~~~~~~~~~~~~~~~~\n",
      "========================================\n",
      "- Job ID: 1331086\n",
      "- Tasks per node:\n",
      "- # of nodes in the job: 3\n",
      "- # of tasks: 72\n",
      "- Dir from which sbatch was invoked: fft\n",
      "- List of nodes allocated to the job: sdumont1479 sdumont1480 sdumont1481\n",
      "-- modules ----------------------------\n",
      "-- run --------------------------------\n",
      "$ srun --mpi=pmi2 -n 72 python nc2cp_c.py\n",
      "-- output -----------------------------\n",
      "S:270-0j, L:576, N:72, T1:1.3156, TF:0.9308, TT:2.2464, TO:2.9738\n",
      "~~ end ~~~~~~~~~~~~~~~~~~~~~~~~~~~~~~~~\n",
      "========================================\n",
      "- Job ID: 1331087\n",
      "- Tasks per node:\n",
      "- # of nodes in the job: 3\n",
      "- # of tasks: 72\n",
      "- Dir from which sbatch was invoked: fft\n",
      "- List of nodes allocated to the job: sdumont1443 sdumont1444 sdumont1445\n",
      "-- modules ----------------------------\n",
      "-- run --------------------------------\n",
      "$ srun --mpi=pmi2 -n 72 python nc2cp_c.py\n",
      "-- output -----------------------------\n",
      "S:270-0j, L:576, N:72, T1:1.4172, TF:0.9458, TT:2.3630, TO:3.2815\n",
      "~~ end ~~~~~~~~~~~~~~~~~~~~~~~~~~~~~~~~\n"
     ]
    }
   ],
   "source": [
    "! cat /scratch${PWD#\"/prj\"}/slurm-1331085.out\n",
    "! cat /scratch${PWD#\"/prj\"}/slurm-1331086.out\n",
    "! cat /scratch${PWD#\"/prj\"}/slurm-1331087.out"
   ]
  },
  {
   "cell_type": "markdown",
   "metadata": {},
   "source": [
    "<hr style=\"height:10px;border-width:0;background-color:green\">"
   ]
  },
  {
   "cell_type": "markdown",
   "metadata": {},
   "source": [
    "### 96 of (1, 4, 16, 24, 48, 72, 96)"
   ]
  },
  {
   "cell_type": "code",
   "execution_count": 19,
   "metadata": {
    "scrolled": true
   },
   "outputs": [
    {
     "name": "stdout",
     "output_type": "stream",
     "text": [
      "Submitted batch job 1331088\n",
      "Submitted batch job 1331089\n",
      "Submitted batch job 1331090\n"
     ]
    }
   ],
   "source": [
    "! sbatch --ntasks=96 nc2cp.srm\n",
    "! sbatch --ntasks=96 nc2cp.srm\n",
    "! sbatch --ntasks=96 nc2cp.srm"
   ]
  },
  {
   "cell_type": "code",
   "execution_count": 2,
   "metadata": {},
   "outputs": [
    {
     "name": "stdout",
     "output_type": "stream",
     "text": [
      "========================================\n",
      "- Job ID: 1331088\n",
      "- Tasks per node:\n",
      "- # of nodes in the job: 4\n",
      "- # of tasks: 96\n",
      "- Dir from which sbatch was invoked: fft\n",
      "- List of nodes allocated to the job: sdumont1446 sdumont1447 sdumont1448 sdumont1450\n",
      "-- modules ----------------------------\n",
      "-- run --------------------------------\n",
      "$ srun --mpi=pmi2 -n 96 python nc2cp_c.py\n",
      "-- output -----------------------------\n",
      "S:270-0j, L:576, N:96, T1:1.3494, TF:1.0494, TT:2.3988, TO:3.3963\n",
      "~~ end ~~~~~~~~~~~~~~~~~~~~~~~~~~~~~~~~\n",
      "========================================\n",
      "- Job ID: 1331089\n",
      "- Tasks per node:\n",
      "- # of nodes in the job: 4\n",
      "- # of tasks: 96\n",
      "- Dir from which sbatch was invoked: fft\n",
      "- List of nodes allocated to the job: sdumont1479 sdumont1480 sdumont1481 sdumont1482\n",
      "-- modules ----------------------------\n",
      "-- run --------------------------------\n",
      "$ srun --mpi=pmi2 -n 96 python nc2cp_c.py\n",
      "-- output -----------------------------\n",
      "S:270-0j, L:576, N:96, T1:1.2645, TF:1.0391, TT:2.3035, TO:6.0034\n",
      "~~ end ~~~~~~~~~~~~~~~~~~~~~~~~~~~~~~~~\n",
      "========================================\n",
      "- Job ID: 1331090\n",
      "- Tasks per node:\n",
      "- # of nodes in the job: 4\n",
      "- # of tasks: 96\n",
      "- Dir from which sbatch was invoked: fft\n",
      "- List of nodes allocated to the job: sdumont1443 sdumont1444 sdumont1445 sdumont1446\n",
      "-- modules ----------------------------\n",
      "-- run --------------------------------\n",
      "$ srun --mpi=pmi2 -n 96 python nc2cp_c.py\n",
      "-- output -----------------------------\n",
      "S:270-0j, L:576, N:96, T1:1.3800, TF:1.0873, TT:2.4673, TO:6.1682\n",
      "~~ end ~~~~~~~~~~~~~~~~~~~~~~~~~~~~~~~~\n"
     ]
    }
   ],
   "source": [
    "! cat /scratch${PWD#\"/prj\"}/slurm-1331088.out\n",
    "! cat /scratch${PWD#\"/prj\"}/slurm-1331089.out\n",
    "! cat /scratch${PWD#\"/prj\"}/slurm-1331090.out"
   ]
  },
  {
   "cell_type": "markdown",
   "metadata": {},
   "source": [
    "<hr style=\"height:10px;border-width:0;background-color:red\">"
   ]
  }
 ],
 "metadata": {
  "kernelspec": {
   "display_name": "Python 3 (ipykernel)",
   "language": "python",
   "name": "python3"
  },
  "language_info": {
   "codemirror_mode": {
    "name": "ipython",
    "version": 3
   },
   "file_extension": ".py",
   "mimetype": "text/x-python",
   "name": "python",
   "nbconvert_exporter": "python",
   "pygments_lexer": "ipython3",
   "version": "3.8.13"
  }
 },
 "nbformat": 4,
 "nbformat_minor": 4
}
