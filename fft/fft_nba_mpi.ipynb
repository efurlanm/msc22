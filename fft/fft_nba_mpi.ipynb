{
 "cells": [
  {
   "cell_type": "markdown",
   "metadata": {},
   "source": [
    "# FFT Numba MPI\n",
    "\n",
    "- https://numba.pydata.org/numba-doc/latest/user/withobjmode.html"
   ]
  },
  {
   "cell_type": "code",
   "execution_count": 11,
   "metadata": {},
   "outputs": [
    {
     "name": "stdout",
     "output_type": "stream",
     "text": [
      "Overwriting bc2cp.py\n"
     ]
    }
   ],
   "source": [
    "%%writefile bc2cp.py\n",
    "import numpy as np, time as tm\n",
    "from numba import njit, objmode\n",
    "from mpi4py_fft import PFFT, newDistArray\n",
    "from mpi4py import MPI\n",
    "\n",
    "t3 = tm.time()    # time measurement\n",
    "\n",
    "def uu() : \n",
    "    return newDistArray(f, False)\n",
    "def uf(u) :\n",
    "    return f.forward(u, normalize=False)    \n",
    "@njit\n",
    "def ff() :\n",
    "    with objmode(t0 = 'f8') :\n",
    "        t0 = tm.time()    # time measurement\n",
    "    \n",
    "    # data\n",
    "    with objmode(u = 'complex128[:,:,:]') :  # annotate return type\n",
    "        u = uu()\n",
    "    for k in range (u.shape[2]) :\n",
    "        for j in range(u.shape[1]) :\n",
    "            for i in range(u.shape[0]) :\n",
    "                u[i, j, k] = complex( np.sin ( i + j + k + 3 ), 0 )\n",
    "\n",
    "    with objmode(t1 = 'f8') :\n",
    "        t1 = tm.time()    # time measurement\n",
    "\n",
    "    # FFT\n",
    "    with objmode(u_hat = 'complex128[:,:,:]') :  # annotate return type\n",
    "        u_hat = uf(u)\n",
    "    # checksum\n",
    "    s = np.array(np.sum(u_hat), dtype=np.complex128)\n",
    "    rs = np.array(0, dtype=np.complex128)\n",
    "    with objmode() :\n",
    "        MPI.COMM_WORLD.Reduce([s, MPI.DOUBLE_COMPLEX],\n",
    "            [rs, MPI.DOUBLE_COMPLEX], op=MPI.SUM, root=0)\n",
    "\n",
    "    with objmode(t2 = 'f8') :\n",
    "        t2 = tm.time()    # time measurement\n",
    "\n",
    "    return rs, t0, t1, t2\n",
    "\n",
    "# main\n",
    "ms = MPI.COMM_WORLD.Get_size()\n",
    "mr = MPI.COMM_WORLD.Get_rank()\n",
    "L = M = N = 576\n",
    "# PFFT should be outside the numba function due to the \"class\" return\n",
    "f = PFFT(MPI.COMM_WORLD, [N, M, L], dtype=np.complex128,\n",
    "         backend='pyfftw')\n",
    "# numba function\n",
    "s, t0, t1, t2 = ff()\n",
    "\n",
    "t4 = tm.time()    # time measurement\n",
    "\n",
    "if not mr :\n",
    "    print(f\"S:{s*1E-5:.0f}\", end='')\n",
    "    print(f\", L:{L:0g}\", end='')\n",
    "    print(f\", N:{ms:0g}\", end='')\n",
    "    print(f\", T1:{t1-t0:.4f}\", end='')\n",
    "    print(f\", TF:{t2-t1:.4f}\", end='')\n",
    "    print(f\", TT:{t2-t0:.4f}\", end='')\n",
    "    print(f\", TO:{t4-t3:.4f}\")"
   ]
  },
  {
   "cell_type": "markdown",
   "metadata": {},
   "source": [
    "## copy to /scratch"
   ]
  },
  {
   "cell_type": "code",
   "execution_count": 23,
   "metadata": {},
   "outputs": [],
   "source": [
    "%%bash\n",
    "dir=/scratch${PWD#\"/prj\"}\n",
    "rm -f $dir/bc2cp.py\n",
    "cp bc2cp.py $dir/"
   ]
  },
  {
   "cell_type": "code",
   "execution_count": 24,
   "metadata": {},
   "outputs": [
    {
     "name": "stdout",
     "output_type": "stream",
     "text": [
      "Overwriting bc2cp.srm\n"
     ]
    }
   ],
   "source": [
    "%%writefile bc2cp.srm\n",
    "#!/bin/bash\n",
    "#SBATCH --job-name bc2cp       # Job name\n",
    "#SBATCH --partition cpu_small  # Select partition\n",
    "#SBATCH --ntasks=1             # Total tasks\n",
    "#SBATCH --time=00:02:00        # Limit execution time\n",
    "#SBATCH --exclusive            # Exclusive acccess to nodes\n",
    "\n",
    "echo '========================================'\n",
    "echo '- Job ID:' $SLURM_JOB_ID\n",
    "echo '- Tasks per node:' $SLURM_NTASKS_PER_NODE\n",
    "echo '- # of nodes in the job:' $SLURM_JOB_NUM_NODES\n",
    "echo '- # of tasks:' $SLURM_NTASKS\n",
    "echo '- Dir from which sbatch was invoked:' ${SLURM_SUBMIT_DIR##*/}\n",
    "cd $SLURM_SUBMIT_DIR\n",
    "echo -n '- List of nodes allocated to the job: '\n",
    "nodeset -e $SLURM_JOB_NODELIST\n",
    "\n",
    "# Environment\n",
    "echo '-- modules ----------------------------'\n",
    "cd\n",
    "dir=/scratch${PWD#\"/prj\"}\n",
    "cd $dir\n",
    "source $dir/env2/etc/profile.d/conda.sh\n",
    "conda activate $dir/env2\n",
    "conda activate --stack $dir/env3\n",
    "cd $dir/fft\n",
    "                                              \n",
    "# Executable\n",
    "EXEC=\"python bc2cp.py\"\n",
    "\n",
    "# Start\n",
    "echo '-- run --------------------------------'\n",
    "echo '$ srun  --mpi=pmi2  -n' $SLURM_NTASKS  ${EXEC##*/}\n",
    "echo '-- output -----------------------------'\n",
    "srun  --mpi=pmi2  -n $SLURM_NTASKS  $EXEC\n",
    "echo '~~ end ~~~~~~~~~~~~~~~~~~~~~~~~~~~~~~~~'"
   ]
  },
  {
   "cell_type": "markdown",
   "metadata": {},
   "source": [
    "<hr style=\"height:10px;border-width:0;background-color:green\">"
   ]
  },
  {
   "cell_type": "markdown",
   "metadata": {},
   "source": [
    "## Run"
   ]
  },
  {
   "cell_type": "markdown",
   "metadata": {},
   "source": [
    "### 1 of (1, 4, 16, 24, 48, 72, 96)"
   ]
  },
  {
   "cell_type": "code",
   "execution_count": 29,
   "metadata": {
    "scrolled": true
   },
   "outputs": [
    {
     "name": "stdout",
     "output_type": "stream",
     "text": [
      "Submitted batch job 1334404\n",
      "Submitted batch job 1334405\n",
      "Submitted batch job 1334406\n"
     ]
    }
   ],
   "source": [
    "! sbatch --ntasks=1 bc2cp.srm\n",
    "! sbatch --ntasks=1 bc2cp.srm\n",
    "! sbatch --ntasks=1 bc2cp.srm"
   ]
  },
  {
   "cell_type": "code",
   "execution_count": 2,
   "metadata": {
    "scrolled": true,
    "tags": []
   },
   "outputs": [
    {
     "name": "stdout",
     "output_type": "stream",
     "text": [
      "========================================\n",
      "- Job ID: 1334404\n",
      "- Tasks per node:\n",
      "- # of nodes in the job: 1\n",
      "- # of tasks: 1\n",
      "- Dir from which sbatch was invoked: fft\n",
      "- List of nodes allocated to the job: sdumont1495\n",
      "-- modules ----------------------------\n",
      "-- run --------------------------------\n",
      "$ srun  --mpi=pmi2  -n 1 python bc2cp.py\n",
      "-- output -----------------------------\n",
      "S:270-0j, L:576, N:1, T1:21.6676, TF:19.2685, TT:40.9361, TO:52.5499\n",
      "~~ end ~~~~~~~~~~~~~~~~~~~~~~~~~~~~~~~~\n",
      "========================================\n",
      "- Job ID: 1334405\n",
      "- Tasks per node:\n",
      "- # of nodes in the job: 1\n",
      "- # of tasks: 1\n",
      "- Dir from which sbatch was invoked: fft\n",
      "- List of nodes allocated to the job: sdumont1495\n",
      "-- modules ----------------------------\n",
      "-- run --------------------------------\n",
      "$ srun  --mpi=pmi2  -n 1 python bc2cp.py\n",
      "-- output -----------------------------\n",
      "S:270-0j, L:576, N:1, T1:21.6530, TF:19.1665, TT:40.8195, TO:48.2080\n",
      "~~ end ~~~~~~~~~~~~~~~~~~~~~~~~~~~~~~~~\n",
      "========================================\n",
      "- Job ID: 1334406\n",
      "- Tasks per node:\n",
      "- # of nodes in the job: 1\n",
      "- # of tasks: 1\n",
      "- Dir from which sbatch was invoked: fft\n",
      "- List of nodes allocated to the job: sdumont1495\n",
      "-- modules ----------------------------\n",
      "-- run --------------------------------\n",
      "$ srun  --mpi=pmi2  -n 1 python bc2cp.py\n",
      "-- output -----------------------------\n",
      "S:270-0j, L:576, N:1, T1:21.6613, TF:19.1464, TT:40.8077, TO:49.2694\n",
      "~~ end ~~~~~~~~~~~~~~~~~~~~~~~~~~~~~~~~\n"
     ]
    }
   ],
   "source": [
    "! cat /scratch${PWD#\"/prj\"}/slurm-1334404.out\n",
    "! cat /scratch${PWD#\"/prj\"}/slurm-1334405.out\n",
    "! cat /scratch${PWD#\"/prj\"}/slurm-1334406.out"
   ]
  },
  {
   "cell_type": "markdown",
   "metadata": {},
   "source": [
    "<hr style=\"height:10px;border-width:0;background-color:green\">"
   ]
  },
  {
   "cell_type": "markdown",
   "metadata": {},
   "source": [
    "### 4 of (1, 4, 16, 24, 48, 72, 96)"
   ]
  },
  {
   "cell_type": "code",
   "execution_count": 30,
   "metadata": {
    "scrolled": true
   },
   "outputs": [
    {
     "name": "stdout",
     "output_type": "stream",
     "text": [
      "Submitted batch job 1334407\n",
      "Submitted batch job 1334408\n",
      "Submitted batch job 1334409\n"
     ]
    }
   ],
   "source": [
    "! sbatch --ntasks=4 bc2cp.srm\n",
    "! sbatch --ntasks=4 bc2cp.srm\n",
    "! sbatch --ntasks=4 bc2cp.srm"
   ]
  },
  {
   "cell_type": "code",
   "execution_count": 3,
   "metadata": {
    "scrolled": true,
    "tags": []
   },
   "outputs": [
    {
     "name": "stdout",
     "output_type": "stream",
     "text": [
      "========================================\n",
      "- Job ID: 1334407\n",
      "- Tasks per node:\n",
      "- # of nodes in the job: 1\n",
      "- # of tasks: 4\n",
      "- Dir from which sbatch was invoked: fft\n",
      "- List of nodes allocated to the job: sdumont1495\n",
      "-- modules ----------------------------\n",
      "-- run --------------------------------\n",
      "$ srun  --mpi=pmi2  -n 4 python bc2cp.py\n",
      "-- output -----------------------------\n",
      "S:270+0j, L:576, N:4, T1:5.7041, TF:4.1165, TT:9.8206, TO:13.4497\n",
      "~~ end ~~~~~~~~~~~~~~~~~~~~~~~~~~~~~~~~\n",
      "========================================\n",
      "- Job ID: 1334408\n",
      "- Tasks per node:\n",
      "- # of nodes in the job: 1\n",
      "- # of tasks: 4\n",
      "- Dir from which sbatch was invoked: fft\n",
      "- List of nodes allocated to the job: sdumont1495\n",
      "-- modules ----------------------------\n",
      "-- run --------------------------------\n",
      "$ srun  --mpi=pmi2  -n 4 python bc2cp.py\n",
      "-- output -----------------------------\n",
      "S:270+0j, L:576, N:4, T1:5.6955, TF:4.1385, TT:9.8340, TO:13.4932\n",
      "~~ end ~~~~~~~~~~~~~~~~~~~~~~~~~~~~~~~~\n",
      "========================================\n",
      "- Job ID: 1334409\n",
      "- Tasks per node:\n",
      "- # of nodes in the job: 1\n",
      "- # of tasks: 4\n",
      "- Dir from which sbatch was invoked: fft\n",
      "- List of nodes allocated to the job: sdumont1495\n",
      "-- modules ----------------------------\n",
      "-- run --------------------------------\n",
      "$ srun  --mpi=pmi2  -n 4 python bc2cp.py\n",
      "-- output -----------------------------\n",
      "S:270+0j, L:576, N:4, T1:5.7054, TF:4.1273, TT:9.8327, TO:12.8200\n",
      "~~ end ~~~~~~~~~~~~~~~~~~~~~~~~~~~~~~~~\n"
     ]
    }
   ],
   "source": [
    "! cat /scratch${PWD#\"/prj\"}/slurm-1334407.out\n",
    "! cat /scratch${PWD#\"/prj\"}/slurm-1334408.out\n",
    "! cat /scratch${PWD#\"/prj\"}/slurm-1334409.out"
   ]
  },
  {
   "cell_type": "markdown",
   "metadata": {},
   "source": [
    "<hr style=\"height:10px;border-width:0;background-color:green\">"
   ]
  },
  {
   "cell_type": "markdown",
   "metadata": {},
   "source": [
    "### 16 of (1, 4, 16, 24, 48, 72, 96)"
   ]
  },
  {
   "cell_type": "code",
   "execution_count": 31,
   "metadata": {
    "scrolled": true
   },
   "outputs": [
    {
     "name": "stdout",
     "output_type": "stream",
     "text": [
      "Submitted batch job 1334410\n",
      "Submitted batch job 1334411\n",
      "Submitted batch job 1334412\n"
     ]
    }
   ],
   "source": [
    "! sbatch --ntasks=16 bc2cp.srm\n",
    "! sbatch --ntasks=16 bc2cp.srm\n",
    "! sbatch --ntasks=16 bc2cp.srm"
   ]
  },
  {
   "cell_type": "code",
   "execution_count": 4,
   "metadata": {
    "scrolled": true,
    "tags": []
   },
   "outputs": [
    {
     "name": "stdout",
     "output_type": "stream",
     "text": [
      "========================================\n",
      "- Job ID: 1334410\n",
      "- Tasks per node:\n",
      "- # of nodes in the job: 1\n",
      "- # of tasks: 16\n",
      "- Dir from which sbatch was invoked: fft\n",
      "- List of nodes allocated to the job: sdumont1495\n",
      "-- modules ----------------------------\n",
      "-- run --------------------------------\n",
      "$ srun  --mpi=pmi2  -n 16 python bc2cp.py\n",
      "-- output -----------------------------\n",
      "S:270-0j, L:576, N:16, T1:1.5066, TF:1.5461, TT:3.0527, TO:5.0028\n",
      "~~ end ~~~~~~~~~~~~~~~~~~~~~~~~~~~~~~~~\n",
      "========================================\n",
      "- Job ID: 1334411\n",
      "- Tasks per node:\n",
      "- # of nodes in the job: 1\n",
      "- # of tasks: 16\n",
      "- Dir from which sbatch was invoked: fft\n",
      "- List of nodes allocated to the job: sdumont1495\n",
      "-- modules ----------------------------\n",
      "-- run --------------------------------\n",
      "$ srun  --mpi=pmi2  -n 16 python bc2cp.py\n",
      "-- output -----------------------------\n",
      "S:270-0j, L:576, N:16, T1:1.5504, TF:1.3927, TT:2.9431, TO:5.6229\n",
      "~~ end ~~~~~~~~~~~~~~~~~~~~~~~~~~~~~~~~\n",
      "========================================\n",
      "- Job ID: 1334412\n",
      "- Tasks per node:\n",
      "- # of nodes in the job: 1\n",
      "- # of tasks: 16\n",
      "- Dir from which sbatch was invoked: fft\n",
      "- List of nodes allocated to the job: sdumont1495\n",
      "-- modules ----------------------------\n",
      "-- run --------------------------------\n",
      "$ srun  --mpi=pmi2  -n 16 python bc2cp.py\n",
      "-- output -----------------------------\n",
      "S:270-0j, L:576, N:16, T1:1.4098, TF:1.4148, TT:2.8247, TO:4.9782\n",
      "~~ end ~~~~~~~~~~~~~~~~~~~~~~~~~~~~~~~~\n"
     ]
    }
   ],
   "source": [
    "! cat /scratch${PWD#\"/prj\"}/slurm-1334410.out\n",
    "! cat /scratch${PWD#\"/prj\"}/slurm-1334411.out\n",
    "! cat /scratch${PWD#\"/prj\"}/slurm-1334412.out"
   ]
  },
  {
   "cell_type": "markdown",
   "metadata": {},
   "source": [
    "<hr style=\"height:10px;border-width:0;background-color:green\">"
   ]
  },
  {
   "cell_type": "code",
   "execution_count": null,
   "metadata": {},
   "outputs": [],
   "source": []
  },
  {
   "cell_type": "markdown",
   "metadata": {},
   "source": [
    "### 24 of (1, 4, 16, 24, 48, 72, 96)"
   ]
  },
  {
   "cell_type": "code",
   "execution_count": 32,
   "metadata": {
    "scrolled": true
   },
   "outputs": [
    {
     "name": "stdout",
     "output_type": "stream",
     "text": [
      "Submitted batch job 1334413\n",
      "Submitted batch job 1334414\n",
      "Submitted batch job 1334415\n"
     ]
    }
   ],
   "source": [
    "! sbatch --ntasks=24 bc2cp.srm\n",
    "! sbatch --ntasks=24 bc2cp.srm\n",
    "! sbatch --ntasks=24 bc2cp.srm"
   ]
  },
  {
   "cell_type": "code",
   "execution_count": 5,
   "metadata": {
    "scrolled": true,
    "tags": []
   },
   "outputs": [
    {
     "name": "stdout",
     "output_type": "stream",
     "text": [
      "========================================\n",
      "- Job ID: 1334413\n",
      "- Tasks per node:\n",
      "- # of nodes in the job: 1\n",
      "- # of tasks: 24\n",
      "- Dir from which sbatch was invoked: fft\n",
      "- List of nodes allocated to the job: sdumont1495\n",
      "-- modules ----------------------------\n",
      "-- run --------------------------------\n",
      "$ srun  --mpi=pmi2  -n 24 python bc2cp.py\n",
      "-- output -----------------------------\n",
      "S:270+0j, L:576, N:24, T1:0.9384, TF:1.0972, TT:2.0356, TO:4.0663\n",
      "~~ end ~~~~~~~~~~~~~~~~~~~~~~~~~~~~~~~~\n",
      "========================================\n",
      "- Job ID: 1334414\n",
      "- Tasks per node:\n",
      "- # of nodes in the job: 1\n",
      "- # of tasks: 24\n",
      "- Dir from which sbatch was invoked: fft\n",
      "- List of nodes allocated to the job: sdumont1495\n",
      "-- modules ----------------------------\n",
      "-- run --------------------------------\n",
      "$ srun  --mpi=pmi2  -n 24 python bc2cp.py\n",
      "-- output -----------------------------\n",
      "S:270+0j, L:576, N:24, T1:0.9281, TF:1.0725, TT:2.0006, TO:4.1078\n",
      "~~ end ~~~~~~~~~~~~~~~~~~~~~~~~~~~~~~~~\n",
      "========================================\n",
      "- Job ID: 1334415\n",
      "- Tasks per node:\n",
      "- # of nodes in the job: 1\n",
      "- # of tasks: 24\n",
      "- Dir from which sbatch was invoked: fft\n",
      "- List of nodes allocated to the job: sdumont1495\n",
      "-- modules ----------------------------\n",
      "-- run --------------------------------\n",
      "$ srun  --mpi=pmi2  -n 24 python bc2cp.py\n",
      "-- output -----------------------------\n",
      "S:270+0j, L:576, N:24, T1:0.9048, TF:1.1303, TT:2.0351, TO:4.8229\n",
      "~~ end ~~~~~~~~~~~~~~~~~~~~~~~~~~~~~~~~\n"
     ]
    }
   ],
   "source": [
    "! cat /scratch${PWD#\"/prj\"}/slurm-1334413.out\n",
    "! cat /scratch${PWD#\"/prj\"}/slurm-1334414.out\n",
    "! cat /scratch${PWD#\"/prj\"}/slurm-1334415.out"
   ]
  },
  {
   "cell_type": "markdown",
   "metadata": {},
   "source": [
    "<hr style=\"height:10px;border-width:0;background-color:green\">"
   ]
  },
  {
   "cell_type": "markdown",
   "metadata": {},
   "source": [
    "### 48 of (1, 4, 16, 24, 48, 72, 96)"
   ]
  },
  {
   "cell_type": "code",
   "execution_count": 33,
   "metadata": {
    "scrolled": true
   },
   "outputs": [
    {
     "name": "stdout",
     "output_type": "stream",
     "text": [
      "Submitted batch job 1334416\n",
      "Submitted batch job 1334417\n",
      "Submitted batch job 1334418\n"
     ]
    }
   ],
   "source": [
    "! sbatch --ntasks=48 bc2cp.srm\n",
    "! sbatch --ntasks=48 bc2cp.srm\n",
    "! sbatch --ntasks=48 bc2cp.srm"
   ]
  },
  {
   "cell_type": "code",
   "execution_count": 6,
   "metadata": {
    "scrolled": true,
    "tags": []
   },
   "outputs": [
    {
     "name": "stdout",
     "output_type": "stream",
     "text": [
      "========================================\n",
      "- Job ID: 1334416\n",
      "- Tasks per node:\n",
      "- # of nodes in the job: 2\n",
      "- # of tasks: 48\n",
      "- Dir from which sbatch was invoked: fft\n",
      "- List of nodes allocated to the job: sdumont1488 sdumont1489\n",
      "-- modules ----------------------------\n",
      "-- run --------------------------------\n",
      "$ srun  --mpi=pmi2  -n 48 python bc2cp.py\n",
      "-- output -----------------------------\n",
      "S:270+0j, L:576, N:48, T1:0.4478, TF:7.1442, TT:7.5920, TO:16.6838\n",
      "~~ end ~~~~~~~~~~~~~~~~~~~~~~~~~~~~~~~~\n",
      "========================================\n",
      "- Job ID: 1334417\n",
      "- Tasks per node:\n",
      "- # of nodes in the job: 2\n",
      "- # of tasks: 48\n",
      "- Dir from which sbatch was invoked: fft\n",
      "- List of nodes allocated to the job: sdumont1488 sdumont1489\n",
      "-- modules ----------------------------\n",
      "-- run --------------------------------\n",
      "$ srun  --mpi=pmi2  -n 48 python bc2cp.py\n",
      "-- output -----------------------------\n",
      "S:270+0j, L:576, N:48, T1:0.3993, TF:7.2215, TT:7.6208, TO:9.6902\n",
      "~~ end ~~~~~~~~~~~~~~~~~~~~~~~~~~~~~~~~\n",
      "========================================\n",
      "- Job ID: 1334418\n",
      "- Tasks per node:\n",
      "- # of nodes in the job: 2\n",
      "- # of tasks: 48\n",
      "- Dir from which sbatch was invoked: fft\n",
      "- List of nodes allocated to the job: sdumont1488 sdumont1489\n",
      "-- modules ----------------------------\n",
      "-- run --------------------------------\n",
      "$ srun  --mpi=pmi2  -n 48 python bc2cp.py\n",
      "-- output -----------------------------\n",
      "S:270+0j, L:576, N:48, T1:0.3592, TF:9.9191, TT:10.2783, TO:12.6199\n",
      "~~ end ~~~~~~~~~~~~~~~~~~~~~~~~~~~~~~~~\n"
     ]
    }
   ],
   "source": [
    "! cat /scratch${PWD#\"/prj\"}/slurm-1334416.out\n",
    "! cat /scratch${PWD#\"/prj\"}/slurm-1334417.out\n",
    "! cat /scratch${PWD#\"/prj\"}/slurm-1334418.out"
   ]
  },
  {
   "cell_type": "markdown",
   "metadata": {},
   "source": [
    "<hr style=\"height:10px;border-width:0;background-color:green\">"
   ]
  },
  {
   "cell_type": "markdown",
   "metadata": {},
   "source": [
    "### 72 of (1, 4, 16, 24, 48, 72, 96)"
   ]
  },
  {
   "cell_type": "code",
   "execution_count": 34,
   "metadata": {
    "scrolled": true
   },
   "outputs": [
    {
     "name": "stdout",
     "output_type": "stream",
     "text": [
      "Submitted batch job 1334419\n",
      "Submitted batch job 1334420\n",
      "Submitted batch job 1334421\n"
     ]
    }
   ],
   "source": [
    "! sbatch --ntasks=72 bc2cp.srm\n",
    "! sbatch --ntasks=72 bc2cp.srm\n",
    "! sbatch --ntasks=72 bc2cp.srm"
   ]
  },
  {
   "cell_type": "code",
   "execution_count": 7,
   "metadata": {
    "scrolled": true,
    "tags": []
   },
   "outputs": [
    {
     "name": "stdout",
     "output_type": "stream",
     "text": [
      "========================================\n",
      "- Job ID: 1334419\n",
      "- Tasks per node:\n",
      "- # of nodes in the job: 3\n",
      "- # of tasks: 72\n",
      "- Dir from which sbatch was invoked: fft\n",
      "- List of nodes allocated to the job: sdumont1488 sdumont1489 sdumont1494\n",
      "-- modules ----------------------------\n",
      "-- run --------------------------------\n",
      "$ srun  --mpi=pmi2  -n 72 python bc2cp.py\n",
      "-- output -----------------------------\n",
      "S:270+0j, L:576, N:72, T1:0.1744, TF:8.3119, TT:8.4863, TO:10.2912\n",
      "~~ end ~~~~~~~~~~~~~~~~~~~~~~~~~~~~~~~~\n",
      "========================================\n",
      "- Job ID: 1334420\n",
      "- Tasks per node:\n",
      "- # of nodes in the job: 3\n",
      "- # of tasks: 72\n",
      "- Dir from which sbatch was invoked: fft\n",
      "- List of nodes allocated to the job: sdumont1488 sdumont1489 sdumont1494\n",
      "-- modules ----------------------------\n",
      "-- run --------------------------------\n",
      "$ srun  --mpi=pmi2  -n 72 python bc2cp.py\n",
      "-- output -----------------------------\n",
      "S:270+0j, L:576, N:72, T1:0.1697, TF:9.7315, TT:9.9012, TO:11.7162\n",
      "~~ end ~~~~~~~~~~~~~~~~~~~~~~~~~~~~~~~~\n",
      "========================================\n",
      "- Job ID: 1334421\n",
      "- Tasks per node:\n",
      "- # of nodes in the job: 3\n",
      "- # of tasks: 72\n",
      "- Dir from which sbatch was invoked: fft\n",
      "- List of nodes allocated to the job: sdumont1488 sdumont1489 sdumont1494\n",
      "-- modules ----------------------------\n",
      "-- run --------------------------------\n",
      "$ srun  --mpi=pmi2  -n 72 python bc2cp.py\n",
      "-- output -----------------------------\n",
      "S:270+0j, L:576, N:72, T1:0.1978, TF:10.6585, TT:10.8564, TO:12.5896\n",
      "~~ end ~~~~~~~~~~~~~~~~~~~~~~~~~~~~~~~~\n"
     ]
    }
   ],
   "source": [
    "! cat /scratch${PWD#\"/prj\"}/slurm-1334419.out\n",
    "! cat /scratch${PWD#\"/prj\"}/slurm-1334420.out\n",
    "! cat /scratch${PWD#\"/prj\"}/slurm-1334421.out"
   ]
  },
  {
   "cell_type": "markdown",
   "metadata": {},
   "source": [
    "<hr style=\"height:10px;border-width:0;background-color:green\">"
   ]
  },
  {
   "cell_type": "markdown",
   "metadata": {},
   "source": [
    "### 96 of (1, 4, 16, 24, 48, 72, 96)"
   ]
  },
  {
   "cell_type": "code",
   "execution_count": 35,
   "metadata": {
    "scrolled": true
   },
   "outputs": [
    {
     "name": "stdout",
     "output_type": "stream",
     "text": [
      "Submitted batch job 1334422\n",
      "Submitted batch job 1334423\n",
      "Submitted batch job 1334424\n"
     ]
    }
   ],
   "source": [
    "! sbatch --ntasks=96 bc2cp.srm\n",
    "! sbatch --ntasks=96 bc2cp.srm\n",
    "! sbatch --ntasks=96 bc2cp.srm"
   ]
  },
  {
   "cell_type": "code",
   "execution_count": 8,
   "metadata": {
    "scrolled": true,
    "tags": []
   },
   "outputs": [
    {
     "name": "stdout",
     "output_type": "stream",
     "text": [
      "========================================\n",
      "- Job ID: 1334422\n",
      "- Tasks per node:\n",
      "- # of nodes in the job: 4\n",
      "- # of tasks: 96\n",
      "- Dir from which sbatch was invoked: fft\n",
      "- List of nodes allocated to the job: sdumont1488 sdumont1489 sdumont1494 sdumont1495\n",
      "-- modules ----------------------------\n",
      "-- run --------------------------------\n",
      "$ srun  --mpi=pmi2  -n 96 python bc2cp.py\n",
      "-- output -----------------------------\n",
      "S:270+0j, L:576, N:96, T1:0.1321, TF:5.6489, TT:5.7809, TO:8.7118\n",
      "~~ end ~~~~~~~~~~~~~~~~~~~~~~~~~~~~~~~~\n",
      "========================================\n",
      "- Job ID: 1334423\n",
      "- Tasks per node:\n",
      "- # of nodes in the job: 4\n",
      "- # of tasks: 96\n",
      "- Dir from which sbatch was invoked: fft\n",
      "- List of nodes allocated to the job: sdumont1488 sdumont1489 sdumont1494 sdumont1495\n",
      "-- modules ----------------------------\n",
      "-- run --------------------------------\n",
      "$ srun  --mpi=pmi2  -n 96 python bc2cp.py\n",
      "-- output -----------------------------\n",
      "S:270+0j, L:576, N:96, T1:0.1245, TF:7.2284, TT:7.3530, TO:10.6695\n",
      "~~ end ~~~~~~~~~~~~~~~~~~~~~~~~~~~~~~~~\n",
      "========================================\n",
      "- Job ID: 1334424\n",
      "- Tasks per node:\n",
      "- # of nodes in the job: 4\n",
      "- # of tasks: 96\n",
      "- Dir from which sbatch was invoked: fft\n",
      "- List of nodes allocated to the job: sdumont1488 sdumont1489 sdumont1494 sdumont1495\n",
      "-- modules ----------------------------\n",
      "-- run --------------------------------\n",
      "$ srun  --mpi=pmi2  -n 96 python bc2cp.py\n",
      "-- output -----------------------------\n",
      "S:270+0j, L:576, N:96, T1:0.1231, TF:5.7316, TT:5.8547, TO:7.7523\n",
      "~~ end ~~~~~~~~~~~~~~~~~~~~~~~~~~~~~~~~\n"
     ]
    }
   ],
   "source": [
    "! cat /scratch${PWD#\"/prj\"}/slurm-1334422.out\n",
    "! cat /scratch${PWD#\"/prj\"}/slurm-1334423.out\n",
    "! cat /scratch${PWD#\"/prj\"}/slurm-1334424.out"
   ]
  },
  {
   "cell_type": "markdown",
   "metadata": {},
   "source": [
    "<hr style=\"height:10px;border-width:0;background-color:red\">"
   ]
  },
  {
   "cell_type": "markdown",
   "metadata": {},
   "source": [
    "## Notes"
   ]
  },
  {
   "cell_type": "code",
   "execution_count": 22,
   "metadata": {},
   "outputs": [
    {
     "name": "stdout",
     "output_type": "stream",
     "text": [
      "srun: MPI types are...\n",
      "srun: mpi/mpich1_p4\n",
      "srun: mpi/mvapich\n",
      "srun: mpi/none\n",
      "srun: mpi/openmpi\n",
      "srun: mpi/pmi2\n",
      "srun: mpi/mpichgm\n",
      "srun: mpi/lam\n",
      "srun: mpi/mpich1_shmem\n",
      "srun: mpi/mpichmx\n"
     ]
    }
   ],
   "source": [
    "! srun --mpi=list"
   ]
  },
  {
   "cell_type": "markdown",
   "metadata": {},
   "source": [
    "* do not work: pmi2, openmpi, mpich1_p4, none, mpichmx"
   ]
  }
 ],
 "metadata": {
  "kernelspec": {
   "display_name": "Python 3 (ipykernel)",
   "language": "python",
   "name": "python3"
  },
  "language_info": {
   "codemirror_mode": {
    "name": "ipython",
    "version": 3
   },
   "file_extension": ".py",
   "mimetype": "text/x-python",
   "name": "python",
   "nbconvert_exporter": "python",
   "pygments_lexer": "ipython3",
   "version": "3.8.13"
  }
 },
 "nbformat": 4,
 "nbformat_minor": 4
}
