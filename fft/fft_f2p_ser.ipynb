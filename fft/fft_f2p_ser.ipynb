{
 "cells": [
  {
   "cell_type": "markdown",
   "metadata": {},
   "source": [
    "# FFT F2PY Serial"
   ]
  },
  {
   "cell_type": "code",
   "execution_count": 4,
   "metadata": {},
   "outputs": [
    {
     "name": "stdout",
     "output_type": "stream",
     "text": [
      "Overwriting nc2cs.f90\n"
     ]
    }
   ],
   "source": [
    "%%writefile nc2cs.f90\n",
    "subroutine fs(ss, ll, ts, tf, tt)\n",
    "    use, intrinsic :: iso_c_binding\n",
    "    include \"fftw3.f03\"\n",
    "    double complex, intent(out) :: ss\n",
    "    integer, intent(out) :: ll\n",
    "    double precision, intent(out) :: ts, tf, tt\n",
    "    integer, parameter :: L = 576, M = 576, N = 576\n",
    "    type(C_PTR) :: plan, cdata\n",
    "    complex(C_DOUBLE_COMPLEX), pointer :: data(:,:,:)\n",
    "    complex(C_DOUBLE_COMPLEX) :: s\n",
    "    integer :: i, j, k\n",
    "    double precision :: t0, t1, t2\n",
    "    \n",
    "    call cpu_time(t0)    ! time measurement\n",
    "           \n",
    "    ! in-place transform (note dimension reversal)\n",
    "    cdata = fftw_alloc_complex(int(L * M * N, C_SIZE_T))\n",
    "    call c_f_pointer(cdata, data, [L, M, N])\n",
    "\n",
    "    ! create plan for in-place forward DFT (note dimension reversal)   \n",
    "    plan = fftw_plan_dft_3d(N, M, L, data, data, &\n",
    "                            FFTW_FORWARD, FFTW_ESTIMATE)\n",
    "\n",
    "    ! fills the array with complex values\n",
    "    do k = 1, N\n",
    "        do j = 1, M\n",
    "            do i = 1, L\n",
    "                data(i, j, k) = sin( real(i + j + k) )\n",
    "            enddo\n",
    "        enddo\n",
    "    enddo\n",
    "    data = dcmplx( real(data), 0 )\n",
    "\n",
    "    call cpu_time(t1)    ! time measurement\n",
    "    \n",
    "    ! compute transform (as many times as desired)    \n",
    "    call fftw_execute_dft(plan, data, data)\n",
    "    ! checksum\n",
    "    s = sum(data)\n",
    "\n",
    "    call cpu_time(t2)    ! time measurement\n",
    "               \n",
    "    call fftw_destroy_plan(plan)\n",
    "    call fftw_free(cdata)\n",
    "     \n",
    "    ! result\n",
    "    ss = s * 1e-5\n",
    "    ll = L\n",
    "    ts = t1 - t0\n",
    "    tf = t2 - t1\n",
    "    tt = t2 - t0\n",
    "    \n",
    "end subroutine"
   ]
  },
  {
   "cell_type": "code",
   "execution_count": 5,
   "metadata": {},
   "outputs": [
    {
     "name": "stdout",
     "output_type": "stream",
     "text": [
      "{'before': '', 'this': 'use', 'after': ', intrinsic :: iso_c_binding '}\n"
     ]
    }
   ],
   "source": [
    "%%bash\n",
    "export FFTW_ROOT=/scratch/app/mathlibs/fftw/3.3.8_openmpi-3.1_gnu\n",
    "f2py  -c nc2cs.f90  -m nc2cs  --opt='-O3'  --quiet  \\\n",
    "      -L$FFTW_ROOT/lib  -lfftw3  -lm  -I$FFTW_ROOT/include  \\\n",
    "      -DNPY_NO_DEPRECATED_API=NPY_1_7_API_VERSION"
   ]
  },
  {
   "cell_type": "code",
   "execution_count": 6,
   "metadata": {},
   "outputs": [
    {
     "name": "stdout",
     "output_type": "stream",
     "text": [
      "Overwriting nc2cs_c.py\n"
     ]
    }
   ],
   "source": [
    "%%writefile nc2cs_c.py\n",
    "import nc2cs\n",
    "import time as tm\n",
    "t2 = tm.time()    # time measurement\n",
    "S, L, ts, tf, tt = nc2cs.fs()\n",
    "t3 = tm.time()    # time measurement\n",
    "print(f\"S:{S:.0f}\", end='')\n",
    "print(f\" | L:{L:0g}\", end='')\n",
    "print(f\" | T1:{ts:.4f}\", end='')\n",
    "print(f\" | TF:{tf:.4f}\", end='')\n",
    "print(f\" | TT:{tt:.4f}\", end='')\n",
    "print(f\" | TO:{t3-t2:.4f}\")"
   ]
  },
  {
   "cell_type": "markdown",
   "metadata": {},
   "source": [
    "## Check"
   ]
  },
  {
   "cell_type": "code",
   "execution_count": 7,
   "metadata": {},
   "outputs": [
    {
     "name": "stdout",
     "output_type": "stream",
     "text": [
      "S:270+0j | L:576 | T1:5.8999 | TF:13.5884 | TT:19.4883 | TO:19.4964\n"
     ]
    },
    {
     "name": "stderr",
     "output_type": "stream",
     "text": [
      "\n",
      "real\t0m19.778s\n",
      "user\t0m19.019s\n",
      "sys\t0m0.709s\n"
     ]
    }
   ],
   "source": [
    "%%bash\n",
    "module load  mathlibs/fftw/3.3.8_openmpi-3.1_gnu\n",
    "time python nc2cs_c.py"
   ]
  },
  {
   "cell_type": "markdown",
   "metadata": {},
   "source": [
    "## Copy to /scratch"
   ]
  },
  {
   "cell_type": "code",
   "execution_count": 8,
   "metadata": {},
   "outputs": [],
   "source": [
    "! cp nc2cs* /scratch${PWD#\"/prj\"}"
   ]
  },
  {
   "cell_type": "markdown",
   "metadata": {},
   "source": [
    "## Batch script"
   ]
  },
  {
   "cell_type": "code",
   "execution_count": 9,
   "metadata": {},
   "outputs": [
    {
     "name": "stdout",
     "output_type": "stream",
     "text": [
      "Overwriting nc2cs.srm\n"
     ]
    }
   ],
   "source": [
    "%%writefile nc2cs.srm\n",
    "#!/bin/bash\n",
    "#SBATCH --job-name nc2cs       # Job name\n",
    "#SBATCH --partition cpu_small  # Select partition\n",
    "#SBATCH --ntasks=1             # Total tasks\n",
    "#SBATCH --time=00:05:00        # Limit execution time\n",
    "#SBATCH --exclusive            # Exclusive acccess to nodes\n",
    "\n",
    "echo '========================================'\n",
    "echo '- Job ID:' $SLURM_JOB_ID\n",
    "echo '- Tasks per node:' $SLURM_NTASKS_PER_NODE\n",
    "echo '- # of nodes in the job:' $SLURM_JOB_NUM_NODES\n",
    "echo '- # of tasks:' $SLURM_NTASKS\n",
    "echo '- Dir from which sbatch was invoked:' ${SLURM_SUBMIT_DIR##*/}\n",
    "cd $SLURM_SUBMIT_DIR\n",
    "echo -n '- List of nodes allocated to the job: '\n",
    "nodeset -e $SLURM_JOB_NODELIST\n",
    "\n",
    "# Environment\n",
    "echo '-- modules ----------------------------'\n",
    "cd\n",
    "cd /scratch${PWD#\"/prj\"}/\n",
    "module load mathlibs/fftw/3.3.8_openmpi-3.1_gnu\n",
    "source /scratch/app/anaconda3/2020.11/etc/profile.d/conda.sh\n",
    "conda activate ./env2\n",
    "cd fft\n",
    "\n",
    "# Executable\n",
    "EXEC=\"python nc2cs_c.py\"\n",
    "\n",
    "# Start\n",
    "echo '-- run --------------------------------'\n",
    "echo '$ srun -n' $SLURM_NTASKS ${EXEC##*/}\n",
    "echo '-- output -----------------------------'\n",
    "srun -n $SLURM_NTASKS $EXEC\n",
    "echo '~~ end ~~~~~~~~~~~~~~~~~~~~~~~~~~~~~~~~'"
   ]
  },
  {
   "cell_type": "markdown",
   "metadata": {},
   "source": [
    "<hr style=\"height:10px;border-width:0;background-color:green\">"
   ]
  },
  {
   "cell_type": "markdown",
   "metadata": {},
   "source": [
    "## Submit batch script"
   ]
  },
  {
   "cell_type": "code",
   "execution_count": 10,
   "metadata": {
    "scrolled": true
   },
   "outputs": [
    {
     "name": "stdout",
     "output_type": "stream",
     "text": [
      "Submitted batch job 1331032\n",
      "Submitted batch job 1331033\n",
      "Submitted batch job 1331034\n"
     ]
    }
   ],
   "source": [
    "%%bash\n",
    "sbatch nc2cs.srm\n",
    "sbatch nc2cs.srm\n",
    "sbatch nc2cs.srm"
   ]
  },
  {
   "cell_type": "code",
   "execution_count": 2,
   "metadata": {},
   "outputs": [
    {
     "name": "stdout",
     "output_type": "stream",
     "text": [
      "========================================\n",
      "- Job ID: 1331032\n",
      "- Tasks per node:\n",
      "- # of nodes in the job: 1\n",
      "- # of tasks: 1\n",
      "- Dir from which sbatch was invoked: fft\n",
      "- List of nodes allocated to the job: sdumont1449\n",
      "-- modules ----------------------------\n",
      "-- run --------------------------------\n",
      "$ srun -n 1 python nc2cs_c.py\n",
      "-- output -----------------------------\n",
      "S:270+0j | L:576 | T1:7.6898 | TF:16.2453 | TT:23.9351 | TO:23.9457\n",
      "~~ end ~~~~~~~~~~~~~~~~~~~~~~~~~~~~~~~~\n",
      "========================================\n",
      "- Job ID: 1331033\n",
      "- Tasks per node:\n",
      "- # of nodes in the job: 1\n",
      "- # of tasks: 1\n",
      "- Dir from which sbatch was invoked: fft\n",
      "- List of nodes allocated to the job: sdumont1478\n",
      "-- modules ----------------------------\n",
      "-- run --------------------------------\n",
      "$ srun -n 1 python nc2cs_c.py\n",
      "-- output -----------------------------\n",
      "S:270+0j | L:576 | T1:7.6816 | TF:16.0376 | TT:23.7192 | TO:23.7272\n",
      "~~ end ~~~~~~~~~~~~~~~~~~~~~~~~~~~~~~~~\n",
      "========================================\n",
      "- Job ID: 1331034\n",
      "- Tasks per node:\n",
      "- # of nodes in the job: 1\n",
      "- # of tasks: 1\n",
      "- Dir from which sbatch was invoked: fft\n",
      "- List of nodes allocated to the job: sdumont1478\n",
      "-- modules ----------------------------\n",
      "-- run --------------------------------\n",
      "$ srun -n 1 python nc2cs_c.py\n",
      "-- output -----------------------------\n",
      "S:270+0j | L:576 | T1:7.6828 | TF:16.1372 | TT:23.8200 | TO:23.8278\n",
      "~~ end ~~~~~~~~~~~~~~~~~~~~~~~~~~~~~~~~\n"
     ]
    }
   ],
   "source": [
    "%%bash\n",
    "cat /scratch${PWD#\"/prj\"}/slurm-1331032.out\n",
    "cat /scratch${PWD#\"/prj\"}/slurm-1331033.out\n",
    "cat /scratch${PWD#\"/prj\"}/slurm-1331034.out"
   ]
  },
  {
   "cell_type": "code",
   "execution_count": 11,
   "metadata": {},
   "outputs": [
    {
     "name": "stdout",
     "output_type": "stream",
     "text": [
      "             JOBID  PARTITION  ST  TIME NODES CPUS\n",
      "           1331032  cpu_small  PD  0:00     1    1\n",
      "           1331033  cpu_small  PD  0:00     1    1\n",
      "           1331034  cpu_small  PD  0:00     1    1\n"
     ]
    }
   ],
   "source": [
    "! squeue -n nc2cs -o \"%.18i  %.9P  %.2t %.5M %.5D %.4C\""
   ]
  },
  {
   "cell_type": "markdown",
   "metadata": {},
   "source": [
    "<hr style=\"height:10px;border-width:0;background-color:red\">"
   ]
  },
  {
   "cell_type": "code",
   "execution_count": null,
   "metadata": {},
   "outputs": [],
   "source": []
  }
 ],
 "metadata": {
  "kernelspec": {
   "display_name": "Python 3 (ipykernel)",
   "language": "python",
   "name": "python3"
  },
  "language_info": {
   "codemirror_mode": {
    "name": "ipython",
    "version": 3
   },
   "file_extension": ".py",
   "mimetype": "text/x-python",
   "name": "python",
   "nbconvert_exporter": "python",
   "pygments_lexer": "ipython3",
   "version": "3.8.13"
  }
 },
 "nbformat": 4,
 "nbformat_minor": 4
}
