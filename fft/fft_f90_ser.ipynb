{
 "cells": [
  {
   "cell_type": "markdown",
   "metadata": {},
   "source": [
    "# FFTW C2C F90 Sequential 576\n",
    "\n",
    "(C2C = Complex to Complex)\n",
    "\n",
    "Complex Multi-Dimensional DFTs 3D\n",
    "\n",
    "    fftw_plan fftw_plan_dft_3d(int n0, int n1, int n2,\n",
    "                   fftw_complex *in, fftw_complex *out,\n",
    "                   int sign, unsigned flags);                          \n",
    "- http://www.fftw.org/fftw3_doc/Complex-Multi_002dDimensional-DFTs.html"
   ]
  },
  {
   "cell_type": "code",
   "execution_count": 39,
   "metadata": {},
   "outputs": [
    {
     "name": "stdout",
     "output_type": "stream",
     "text": [
      "Overwriting fc2cs.f90\n"
     ]
    }
   ],
   "source": [
    "%%writefile fc2cs.f90\n",
    "program main\n",
    "    use, intrinsic :: iso_c_binding\n",
    "    implicit none\n",
    "    include \"fftw3.f03\"\n",
    "    integer, parameter :: L = 576, M = 576, N = 576\n",
    "    type(C_PTR) :: plan, cdata\n",
    "    complex(C_DOUBLE_COMPLEX), pointer :: data(:,:,:)\n",
    "    complex(C_DOUBLE_COMPLEX) :: s\n",
    "    integer :: i, j, k\n",
    "    double precision :: t0, t1, t2\n",
    "    \n",
    "    call cpu_time(t0)    ! time measurement\n",
    "           \n",
    "    ! in-place transform (note dimension reversal)\n",
    "    cdata = fftw_alloc_complex(int(L * M * N, C_SIZE_T))\n",
    "    call c_f_pointer(cdata, data, [L, M, N])\n",
    "\n",
    "    ! create plan for in-place forward DFT (note dimension reversal)   \n",
    "    plan = fftw_plan_dft_3d(N, M, L, data, data, &\n",
    "                            FFTW_FORWARD, FFTW_ESTIMATE)\n",
    "\n",
    "    ! fills the array with complex values\n",
    "    do k = 1, N\n",
    "        do j = 1, M\n",
    "            do i = 1, L\n",
    "                data(i, j, k) = sin( real(i + j + k) )\n",
    "            enddo\n",
    "        enddo\n",
    "    enddo\n",
    "    data = dcmplx( real(data) , 0 )\n",
    "    \n",
    "    call cpu_time(t1)    ! time measurement\n",
    "\n",
    "    ! compute transform (as many times as desired)  \n",
    "    call fftw_execute_dft(plan, data, data)   \n",
    "    ! checksum\n",
    "    s = sum(data)\n",
    "    \n",
    "    call cpu_time(t2)    ! time measurement\n",
    "    \n",
    "    call fftw_destroy_plan(plan)\n",
    "    call fftw_free(cdata)\n",
    "    \n",
    "    ! result\n",
    "    write(*, \"('S: 'spf0.0spf0.0'j')\", advance=\"no\") s * 1e-5\n",
    "    write(*, \"(' | L: 'g0)\", advance=\"no\") L\n",
    "    write(*, \"(' | T1: 'sf0.4)\", advance=\"no\") t1-t0\n",
    "    write(*, \"(' | TF: 'sf0.4)\", advance=\"no\") t2-t1\n",
    "    write(*, \"(' | TT: 'sf0.4)\") t2-t0\n",
    "    \n",
    "end"
   ]
  },
  {
   "cell_type": "markdown",
   "metadata": {},
   "source": [
    "## Compile"
   ]
  },
  {
   "cell_type": "markdown",
   "metadata": {},
   "source": [
    "- Compile using -O3 and uses system libraries\n",
    "- Using: module load  mathlibs/fftw/3.3.8_openmpi-3.1_gnu"
   ]
  },
  {
   "cell_type": "code",
   "execution_count": 40,
   "metadata": {},
   "outputs": [
    {
     "name": "stdout",
     "output_type": "stream",
     "text": [
      "fc2cs\n"
     ]
    }
   ],
   "source": [
    "%%bash\n",
    "export FFTW_ROOT=/scratch/app/mathlibs/fftw/3.3.8_openmpi-3.1_gnu\n",
    "gfortran  -O3  -o fc2cs  fc2cs.f90  \\\n",
    "    -L $FFTW_ROOT/lib  -l fftw3  -l m  -I $FFTW_ROOT/include\n",
    "ls fc2cs"
   ]
  },
  {
   "cell_type": "markdown",
   "metadata": {},
   "source": [
    "## Check, imag = 0"
   ]
  },
  {
   "cell_type": "code",
   "execution_count": 41,
   "metadata": {},
   "outputs": [
    {
     "name": "stdout",
     "output_type": "stream",
     "text": [
      "S: +270.+0.j | L: 576 | T1: 7.8100 | TF: 16.6361 | TT: 24.4461\n",
      "\n",
      "real\t0m24.714s\n",
      "user\t0m21.812s\n",
      "sys\t0m2.896s\n"
     ]
    }
   ],
   "source": [
    "! time ./fc2cs"
   ]
  },
  {
   "cell_type": "markdown",
   "metadata": {},
   "source": [
    "## Check, imag = real\n",
    "\n",
    "(practically equal times)"
   ]
  },
  {
   "cell_type": "code",
   "execution_count": 38,
   "metadata": {},
   "outputs": [
    {
     "name": "stdout",
     "output_type": "stream",
     "text": [
      "S: +270.+270.j | L: 576 | T1: 7.8245 | TF: 16.4662 | TT: 24.2908\n",
      "\n",
      "real\t0m24.566s\n",
      "user\t0m21.517s\n",
      "sys\t0m3.042s\n"
     ]
    }
   ],
   "source": [
    "! time ./fc2cs"
   ]
  },
  {
   "cell_type": "markdown",
   "metadata": {},
   "source": [
    "## Copy to /scratch"
   ]
  },
  {
   "cell_type": "code",
   "execution_count": 42,
   "metadata": {},
   "outputs": [],
   "source": [
    "! cp fc2cs /scratch${PWD#\"/prj\"}"
   ]
  },
  {
   "cell_type": "markdown",
   "metadata": {},
   "source": [
    "## Batch script"
   ]
  },
  {
   "cell_type": "code",
   "execution_count": 43,
   "metadata": {},
   "outputs": [
    {
     "name": "stdout",
     "output_type": "stream",
     "text": [
      "Overwriting fc2cs.srm\n"
     ]
    }
   ],
   "source": [
    "%%writefile fc2cs.srm\n",
    "#!/bin/bash\n",
    "#SBATCH --job-name fc2cs       # Job name\n",
    "#SBATCH --partition cpu_small  # Select partition\n",
    "#SBATCH --ntasks=1             # Total tasks\n",
    "#SBATCH --time=00:05:00        # Limit execution time\n",
    "#SBATCH --exclusive            # Exclusive acccess to nodes\n",
    "\n",
    "echo '========================================'\n",
    "echo '- Job ID:' $SLURM_JOB_ID\n",
    "echo '- Tasks per node:' $SLURM_NTASKS_PER_NODE\n",
    "echo '- # of nodes in the job:' $SLURM_JOB_NUM_NODES\n",
    "echo '- # of tasks:' $SLURM_NTASKS\n",
    "echo '- Dir from which sbatch was invoked:' ${SLURM_SUBMIT_DIR##*/}\n",
    "cd $SLURM_SUBMIT_DIR\n",
    "echo -n '- List of nodes allocated to the job: '\n",
    "nodeset -e $SLURM_JOB_NODELIST\n",
    "\n",
    "# Executable config\n",
    "EXEC=$PWD/fc2cs\n",
    "\n",
    "# Start\n",
    "echo '-- run --------------------------------'\n",
    "echo '$ srun -n' $SLURM_NTASKS ${EXEC##*/}\n",
    "echo '-- output -----------------------------'\n",
    "srun -n $SLURM_NTASKS $EXEC\n",
    "echo '~~ end ~~~~~~~~~~~~~~~~~~~~~~~~~~~~~~~~'"
   ]
  },
  {
   "cell_type": "markdown",
   "metadata": {},
   "source": [
    "## Run"
   ]
  },
  {
   "cell_type": "code",
   "execution_count": 44,
   "metadata": {
    "scrolled": true
   },
   "outputs": [
    {
     "name": "stdout",
     "output_type": "stream",
     "text": [
      "Submitted batch job 1330918\n",
      "Submitted batch job 1330919\n",
      "Submitted batch job 1330920\n"
     ]
    }
   ],
   "source": [
    "! sbatch fc2cs.srm\n",
    "! sbatch fc2cs.srm\n",
    "! sbatch fc2cs.srm"
   ]
  },
  {
   "cell_type": "code",
   "execution_count": 45,
   "metadata": {},
   "outputs": [
    {
     "name": "stdout",
     "output_type": "stream",
     "text": [
      "             JOBID  PARTITION  ST  TIME NODES CPUS\n",
      "           1330918  cpu_small  PD  0:00     1    1\n",
      "           1330919  cpu_small  PD  0:00     1    1\n",
      "           1330920  cpu_small  PD  0:00     1    1\n"
     ]
    }
   ],
   "source": [
    "! squeue -n fc2cs -o \"%.18i  %.9P  %.2t %.5M %.5D %.4C\""
   ]
  },
  {
   "cell_type": "code",
   "execution_count": 2,
   "metadata": {},
   "outputs": [
    {
     "name": "stdout",
     "output_type": "stream",
     "text": [
      "             JOBID  PARTITION  ST  TIME NODES CPUS\n"
     ]
    }
   ],
   "source": [
    "! squeue -n fc2cs -o \"%.18i  %.9P  %.2t %.5M %.5D %.4C\""
   ]
  },
  {
   "cell_type": "code",
   "execution_count": 3,
   "metadata": {},
   "outputs": [
    {
     "name": "stdout",
     "output_type": "stream",
     "text": [
      "========================================\n",
      "- Job ID: 1330918\n",
      "- Tasks per node:\n",
      "- # of nodes in the job: 1\n",
      "- # of tasks: 1\n",
      "- Dir from which sbatch was invoked: fft\n",
      "- List of nodes allocated to the job: sdumont1483\n",
      "-- run --------------------------------\n",
      "$ srun -n 1 fc2cs\n",
      "-- output -----------------------------\n",
      "S: +270.+0.j | L: 576 | T1: 5.9494 | TF: 13.3335 | TT: 19.2829\n",
      "~~ end ~~~~~~~~~~~~~~~~~~~~~~~~~~~~~~~~\n",
      "========================================\n",
      "- Job ID: 1330919\n",
      "- Tasks per node:\n",
      "- # of nodes in the job: 1\n",
      "- # of tasks: 1\n",
      "- Dir from which sbatch was invoked: fft\n",
      "- List of nodes allocated to the job: sdumont1483\n",
      "-- run --------------------------------\n",
      "$ srun -n 1 fc2cs\n",
      "-- output -----------------------------\n",
      "S: +270.+0.j | L: 576 | T1: 5.9561 | TF: 13.3401 | TT: 19.2963\n",
      "~~ end ~~~~~~~~~~~~~~~~~~~~~~~~~~~~~~~~\n",
      "========================================\n",
      "- Job ID: 1330920\n",
      "- Tasks per node:\n",
      "- # of nodes in the job: 1\n",
      "- # of tasks: 1\n",
      "- Dir from which sbatch was invoked: fft\n",
      "- List of nodes allocated to the job: sdumont1483\n",
      "-- run --------------------------------\n",
      "$ srun -n 1 fc2cs\n",
      "-- output -----------------------------\n",
      "S: +270.+0.j | L: 576 | T1: 5.9281 | TF: 13.3605 | TT: 19.2886\n",
      "~~ end ~~~~~~~~~~~~~~~~~~~~~~~~~~~~~~~~\n"
     ]
    }
   ],
   "source": [
    "! cat /scratch${PWD#\"/prj\"}/slurm-1330918.out\n",
    "! cat /scratch${PWD#\"/prj\"}/slurm-1330919.out\n",
    "! cat /scratch${PWD#\"/prj\"}/slurm-1330920.out"
   ]
  },
  {
   "cell_type": "markdown",
   "metadata": {},
   "source": [
    "### Version"
   ]
  },
  {
   "cell_type": "code",
   "execution_count": 4,
   "metadata": {},
   "outputs": [
    {
     "name": "stdout",
     "output_type": "stream",
     "text": [
      "GNU Fortran (GCC) 4.8.5 20150623 (Red Hat 4.8.5-36)\n",
      "Copyright (C) 2015 Free Software Foundation, Inc.\n",
      "\n",
      "GNU Fortran comes with NO WARRANTY, to the extent permitted by law.\n",
      "You may redistribute copies of GNU Fortran\n",
      "under the terms of the GNU General Public License.\n",
      "For more information about these matters, see the file named COPYING\n",
      "\n"
     ]
    }
   ],
   "source": [
    "! gfortran --version"
   ]
  },
  {
   "cell_type": "code",
   "execution_count": 2,
   "metadata": {},
   "outputs": [
    {
     "name": "stdout",
     "output_type": "stream",
     "text": [
      "mathlibs/fftw/3.3.8_intel\n",
      "mathlibs/fftw/3.3.8_openmpi-2.0_gnu\n",
      "mathlibs/fftw/3.3.8_openmpi-2.0_intel\n",
      "mathlibs/fftw/3.3.8_openmpi-3.1_gnu\n"
     ]
    }
   ],
   "source": [
    "! module avail 2>&1 | grep -i fftw"
   ]
  },
  {
   "cell_type": "code",
   "execution_count": 5,
   "metadata": {},
   "outputs": [
    {
     "name": "stdout",
     "output_type": "stream",
     "text": [
      "  Operating System: Red Hat Enterprise Linux Server 7.6 (Maipo)\n"
     ]
    }
   ],
   "source": [
    "! hostnamectl | grep Operating"
   ]
  }
 ],
 "metadata": {
  "kernelspec": {
   "display_name": "Python 3 (ipykernel)",
   "language": "python",
   "name": "python3"
  },
  "language_info": {
   "codemirror_mode": {
    "name": "ipython",
    "version": 3
   },
   "file_extension": ".py",
   "mimetype": "text/x-python",
   "name": "python",
   "nbconvert_exporter": "python",
   "pygments_lexer": "ipython3",
   "version": "3.8.13"
  }
 },
 "nbformat": 4,
 "nbformat_minor": 4
}
