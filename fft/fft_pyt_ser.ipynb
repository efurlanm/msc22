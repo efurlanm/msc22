{
 "cells": [
  {
   "cell_type": "markdown",
   "metadata": {},
   "source": [
    "# FFT Python Serial\n",
    "\n",
    "- https://numpy.org/doc/stable/reference/routines.fft.html\n",
    "- https://hgomersall.github.io/pyFFTW/"
   ]
  },
  {
   "cell_type": "code",
   "execution_count": 1,
   "metadata": {},
   "outputs": [
    {
     "name": "stdout",
     "output_type": "stream",
     "text": [
      "Overwriting pc2cs.py\n"
     ]
    }
   ],
   "source": [
    "%%writefile pc2cs.py\n",
    "import numpy as np, pyfftw as pf, time as tm\n",
    "\n",
    "t0 = tm.time()    # time measurement\n",
    "\n",
    "# data\n",
    "L = M = N = 576\n",
    "u = pf.empty_aligned( (N, M, L), dtype=np.complex128 )\n",
    "for k in range (u.shape[2]) :\n",
    "    for j in range(u.shape[1]) :\n",
    "        for i in range(u.shape[0]) :\n",
    "            u[i, j, k] = i + j + k + 3\n",
    "u.real = np.sin ( u.real )\n",
    "u.imag = 0\n",
    "\n",
    "t1 = tm.time()    # time measurement\n",
    "\n",
    "# FFT\n",
    "uf = pf.interfaces.numpy_fft.fftn(u,\n",
    "        overwrite_input=True, auto_contiguous=False,\n",
    "        auto_align_input=False)\n",
    "# checksum\n",
    "S = np.sum(uf)\n",
    "\n",
    "t2 = tm.time()    # time measurement\n",
    "\n",
    "print(f\"S: {S*1E-5:.0f}\", end='')\n",
    "print(f\" | L: {L:0g}\", end='')\n",
    "print(f\" | T1: {t1-t0:.4f}\", end='')\n",
    "print(f\" | TF: {t2-t1:.4f}\", end='')\n",
    "print(f\" | TT: {t2-t0:.4f}\")"
   ]
  },
  {
   "cell_type": "markdown",
   "metadata": {},
   "source": [
    "## Copy to /scratch"
   ]
  },
  {
   "cell_type": "code",
   "execution_count": 3,
   "metadata": {},
   "outputs": [],
   "source": [
    "%%bash\n",
    "dst=/scratch${PWD#\"/prj\"}\n",
    "cp pc2cs.py $dst"
   ]
  },
  {
   "cell_type": "markdown",
   "metadata": {},
   "source": [
    "## Batch script"
   ]
  },
  {
   "cell_type": "code",
   "execution_count": 4,
   "metadata": {},
   "outputs": [
    {
     "name": "stdout",
     "output_type": "stream",
     "text": [
      "Overwriting pc2cs.srm\n"
     ]
    }
   ],
   "source": [
    "%%writefile pc2cs.srm\n",
    "#!/bin/bash\n",
    "#SBATCH --job-name pc2cs       # Job name\n",
    "#SBATCH --partition cpu_small  # Select partition\n",
    "#SBATCH --ntasks=1             # Total tasks\n",
    "#SBATCH --time=00:15:00        # Limit execution time\n",
    "#SBATCH --exclusive            # Exclusive acccess to nodes\n",
    "\n",
    "echo '========================================'\n",
    "echo '- Job ID:' $SLURM_JOB_ID\n",
    "echo '- Tasks per node:' $SLURM_NTASKS_PER_NODE\n",
    "echo '- # of nodes in the job:' $SLURM_JOB_NUM_NODES\n",
    "echo '- # of tasks:' $SLURM_NTASKS\n",
    "echo '- Dir from which sbatch was invoked:' ${SLURM_SUBMIT_DIR##*/}\n",
    "cd $SLURM_SUBMIT_DIR\n",
    "echo -n '- List of nodes allocated to the job: '\n",
    "nodeset -e $SLURM_JOB_NODELIST\n",
    "\n",
    "# Environment\n",
    "echo '-- modules ----------------------------'\n",
    "cd\n",
    "dir=/scratch${PWD#\"/prj\"}\n",
    "cd $dir\n",
    "source $dir/env2/etc/profile.d/conda.sh\n",
    "conda activate $dir/env2\n",
    "conda activate --stack $dir/env3\n",
    "cd $dir/fft\n",
    "                                              \n",
    "# Executable\n",
    "EXEC=\"python pc2cs.py\"\n",
    "\n",
    "# Start\n",
    "echo '-- run --------------------------------'\n",
    "echo '$ srun --mpi=pmi2 -n' $SLURM_NTASKS ${EXEC##*/}\n",
    "echo '-- output -----------------------------'\n",
    "srun --mpi=pmi2 -n $SLURM_NTASKS $EXEC\n",
    "echo '~~ end ~~~~~~~~~~~~~~~~~~~~~~~~~~~~~~~~'"
   ]
  },
  {
   "cell_type": "markdown",
   "metadata": {},
   "source": [
    "<hr style=\"height:10px;border-width:0;background-color:green\">"
   ]
  },
  {
   "cell_type": "markdown",
   "metadata": {},
   "source": [
    "## Run"
   ]
  },
  {
   "cell_type": "code",
   "execution_count": 5,
   "metadata": {
    "scrolled": true
   },
   "outputs": [
    {
     "name": "stdout",
     "output_type": "stream",
     "text": [
      "Submitted batch job 1331134\n",
      "Submitted batch job 1331135\n",
      "Submitted batch job 1331136\n"
     ]
    }
   ],
   "source": [
    "%%bash\n",
    "sbatch pc2cs.srm\n",
    "sbatch pc2cs.srm\n",
    "sbatch pc2cs.srm"
   ]
  },
  {
   "cell_type": "code",
   "execution_count": 6,
   "metadata": {},
   "outputs": [
    {
     "name": "stdout",
     "output_type": "stream",
     "text": [
      "             JOBID  PARTITION  ST  TIME NODES CPUS\n",
      "           1331134  cpu_small  PD  0:00     1    1\n",
      "           1331135  cpu_small  PD  0:00     1    1\n",
      "           1331136  cpu_small  PD  0:00     1    1\n"
     ]
    }
   ],
   "source": [
    "! squeue -n pc2cs -o \"%.18i  %.9P  %.2t %.5M %.5D %.4C\""
   ]
  },
  {
   "cell_type": "code",
   "execution_count": 2,
   "metadata": {},
   "outputs": [
    {
     "name": "stdout",
     "output_type": "stream",
     "text": [
      "========================================\n",
      "- Job ID: 1331134\n",
      "- Tasks per node:\n",
      "- # of nodes in the job: 1\n",
      "- # of tasks: 1\n",
      "- Dir from which sbatch was invoked: fft\n",
      "- List of nodes allocated to the job: sdumont1498\n",
      "-- modules ----------------------------\n",
      "-- run --------------------------------\n",
      "$ srun --mpi=pmi2 -n 1 python pc2cs.py\n",
      "-- output -----------------------------\n",
      "S: 270-0j | L: 576 | T1: 154.7522 | TF: 18.7891 | TT: 173.5413\n",
      "~~ end ~~~~~~~~~~~~~~~~~~~~~~~~~~~~~~~~\n",
      "========================================\n",
      "- Job ID: 1331135\n",
      "- Tasks per node:\n",
      "- # of nodes in the job: 1\n",
      "- # of tasks: 1\n",
      "- Dir from which sbatch was invoked: fft\n",
      "- List of nodes allocated to the job: sdumont1450\n",
      "-- modules ----------------------------\n",
      "-- run --------------------------------\n",
      "$ srun --mpi=pmi2 -n 1 python pc2cs.py\n",
      "-- output -----------------------------\n",
      "S: 270-0j | L: 576 | T1: 148.0629 | TF: 18.7748 | TT: 166.8378\n",
      "~~ end ~~~~~~~~~~~~~~~~~~~~~~~~~~~~~~~~\n",
      "========================================\n",
      "- Job ID: 1331136\n",
      "- Tasks per node:\n",
      "- # of nodes in the job: 1\n",
      "- # of tasks: 1\n",
      "- Dir from which sbatch was invoked: fft\n",
      "- List of nodes allocated to the job: sdumont1447\n",
      "-- modules ----------------------------\n",
      "-- run --------------------------------\n",
      "$ srun --mpi=pmi2 -n 1 python pc2cs.py\n",
      "-- output -----------------------------\n",
      "S: 270-0j | L: 576 | T1: 125.9192 | TF: 18.8110 | TT: 144.7302\n",
      "~~ end ~~~~~~~~~~~~~~~~~~~~~~~~~~~~~~~~\n"
     ]
    }
   ],
   "source": [
    "%%bash\n",
    "cat /scratch${PWD#\"/prj\"}/slurm-1331134.out\n",
    "cat /scratch${PWD#\"/prj\"}/slurm-1331135.out\n",
    "cat /scratch${PWD#\"/prj\"}/slurm-1331136.out"
   ]
  },
  {
   "cell_type": "markdown",
   "metadata": {},
   "source": [
    "<hr style=\"height:10px;border-width:0;background-color:red\">"
   ]
  }
 ],
 "metadata": {
  "kernelspec": {
   "display_name": "Python 3 (ipykernel)",
   "language": "python",
   "name": "python3"
  },
  "language_info": {
   "codemirror_mode": {
    "name": "ipython",
    "version": 3
   },
   "file_extension": ".py",
   "mimetype": "text/x-python",
   "name": "python",
   "nbconvert_exporter": "python",
   "pygments_lexer": "ipython3",
   "version": "3.8.13"
  }
 },
 "nbformat": 4,
 "nbformat_minor": 4
}
