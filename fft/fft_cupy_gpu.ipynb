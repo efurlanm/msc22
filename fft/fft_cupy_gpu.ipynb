{
 "cells": [
  {
   "cell_type": "markdown",
   "metadata": {},
   "source": [
    "# FFT Cupy GPU Seq-X & B715\n",
    "\n",
    "- https://github.com/cupy"
   ]
  },
  {
   "cell_type": "markdown",
   "metadata": {},
   "source": [
    "## On Sdumont18 (Sequana X)\n",
    "\n",
    "2x Xeon Gold 6152 (22 cores), total 44 cores (88 vcores), 754 G RAM, 4x Tesla V100\n",
    "\n",
    "Environment:\n",
    "\n",
    "    ssh sdumont18\n",
    "    module load sequana/current\n",
    "    module load sdbase\n",
    "    conda activate dir/env2\n",
    "    conda activate --stack dir/env3\n",
    "    export NUMBAPRO_NVVM=/usr/local/cuda-10.1/nvvm/lib64/libnvvm.so\n",
    "    export NUMBAPRO_LIBDEVICE=/usr/local/cuda-10.1/nvvm/libdevice/"
   ]
  },
  {
   "cell_type": "markdown",
   "metadata": {},
   "source": [
    "# Sequana-X"
   ]
  },
  {
   "cell_type": "code",
   "execution_count": 27,
   "metadata": {},
   "outputs": [],
   "source": [
    "import numpy as np, cupy as cp, time as tm\n",
    "def f() :\n",
    "    t0 = -tm.time()    # <--- time measurement\n",
    "    L = M = N = 576\n",
    "    a = np.fromfunction( lambda i, j, k:\n",
    "            np.sin ( i + j + k + 3 ), (N, M, L), dtype=cp.complex128 )\n",
    "    f = cp.asarray(a)\n",
    "    fft = cp.fft.fftn(f)\n",
    "    s = complex(cp.sum(fft))\n",
    "    t0 += tm.time()    # <--- time measurement\n",
    "    print(f\"S:{s*1e-5:.0f}\", end='')\n",
    "    print(f\" | T:{t0:.4f}\")"
   ]
  },
  {
   "cell_type": "code",
   "execution_count": 28,
   "metadata": {},
   "outputs": [
    {
     "name": "stdout",
     "output_type": "stream",
     "text": [
      "S:270-0j | T:19.7136\n"
     ]
    }
   ],
   "source": [
    "f()"
   ]
  },
  {
   "cell_type": "code",
   "execution_count": 29,
   "metadata": {},
   "outputs": [
    {
     "name": "stdout",
     "output_type": "stream",
     "text": [
      "S:270-0j | T:19.4425\n"
     ]
    }
   ],
   "source": [
    "f()"
   ]
  },
  {
   "cell_type": "code",
   "execution_count": 30,
   "metadata": {},
   "outputs": [
    {
     "name": "stdout",
     "output_type": "stream",
     "text": [
      "S:270-0j | T:19.7182\n"
     ]
    }
   ],
   "source": [
    "f()"
   ]
  },
  {
   "cell_type": "markdown",
   "metadata": {},
   "source": [
    "<hr style=\"height:10px;border-width:0;background-color:green\">"
   ]
  },
  {
   "cell_type": "markdown",
   "metadata": {},
   "source": [
    "# B715"
   ]
  },
  {
   "cell_type": "code",
   "execution_count": 40,
   "metadata": {},
   "outputs": [
    {
     "name": "stdout",
     "output_type": "stream",
     "text": [
      "Overwriting gnb715.py\n"
     ]
    }
   ],
   "source": [
    "%%writefile gnb715.py\n",
    "import numpy as np, cupy as cp, time as tm\n",
    "\n",
    "t0 = -tm.time()    # <--- time measurement\n",
    "L = M = N = 576\n",
    "a = np.fromfunction( lambda i, j, k:\n",
    "    np.sin ( i + j + k + 3 ), (N, M, L), dtype=cp.complex128 )\n",
    "f = cp.asarray(a)\n",
    "fft = cp.fft.fftn(f)\n",
    "s = complex(cp.sum(fft))\n",
    "t0 += tm.time()    # <--- time measurement\n",
    "print(f\"S:{s*1e-5:.0f}\", end='')\n",
    "print(f\" | T:{t0:.4f}\")"
   ]
  },
  {
   "cell_type": "code",
   "execution_count": 42,
   "metadata": {},
   "outputs": [],
   "source": [
    "! cp gnb715.py /scratch${PWD#/prj}"
   ]
  },
  {
   "cell_type": "code",
   "execution_count": 34,
   "metadata": {},
   "outputs": [
    {
     "name": "stdout",
     "output_type": "stream",
     "text": [
      "Overwriting gnb715.srm\n"
     ]
    }
   ],
   "source": [
    "%%writefile gnb715.srm\n",
    "#!/bin/bash\n",
    "#SBATCH --partition nvidia_dev # Select partition\n",
    "#SBATCH --ntasks=1             # Total tasks\n",
    "#SBATCH --job-name gnb715      # Job name\n",
    "#SBATCH --time=00:05:00        # Limit execution time\n",
    "#SBATCH --exclusive            # Exclusive acccess to nodes\n",
    "\n",
    "echo '========================================'\n",
    "echo '- Job ID:' $SLURM_JOB_ID\n",
    "echo '- Tasks per node:' $SLURM_NTASKS_PER_NODE\n",
    "echo '- # of nodes in the job:' $SLURM_JOB_NUM_NODES\n",
    "echo '- # of tasks:' $SLURM_NTASKS\n",
    "echo '- Dir from which sbatch was invoked:' ${SLURM_SUBMIT_DIR##*/}\n",
    "cd $SLURM_SUBMIT_DIR\n",
    "echo -n '- List of nodes allocated to the job: '\n",
    "nodeset -e $SLURM_JOB_NODELIST\n",
    "                                              \n",
    "# Environment\n",
    "cd\n",
    "dir=/scratch${PWD#\"/prj\"}\n",
    "cd $dir\n",
    "source $dir/env2/etc/profile.d/conda.sh\n",
    "conda activate $dir/env2\n",
    "conda activate --stack $dir/env3\n",
    "cd $dir/fft\n",
    "export NUMBAPRO_NVVM=/usr/local/cuda-10.1/nvvm/lib64/libnvvm.so\n",
    "export NUMBAPRO_LIBDEVICE=/usr/local/cuda-10.1/nvvm/libdevice/\n",
    "\n",
    "# Executable\n",
    "EXEC=\"python gnb715.py\"\n",
    "\n",
    "# Start\n",
    "echo '$ srun  --mpi=pmi2  -n' $SLURM_NTASKS  ${EXEC##*/}\n",
    "echo '-- output -----------------------------'\n",
    "srun  --mpi=pmi2  -n $SLURM_NTASKS  $EXEC\n",
    "echo '~~ end ~~~~~~~~~~~~~~~~~~~~~~~~~~~~~~~~'"
   ]
  },
  {
   "cell_type": "markdown",
   "metadata": {},
   "source": [
    "<hr style=\"height:10px;border-width:0;background-color:green\">"
   ]
  },
  {
   "cell_type": "code",
   "execution_count": 43,
   "metadata": {},
   "outputs": [
    {
     "name": "stdout",
     "output_type": "stream",
     "text": [
      "Submitted batch job 1493003\n"
     ]
    }
   ],
   "source": [
    "! sbatch gnb715.srm"
   ]
  },
  {
   "cell_type": "code",
   "execution_count": 44,
   "metadata": {},
   "outputs": [
    {
     "name": "stdout",
     "output_type": "stream",
     "text": [
      "             JOBID  PARTITION  ST  TIME NODES CPUS\n",
      "           1493003  nvidia_de   R  0:00     1   24\n"
     ]
    }
   ],
   "source": [
    "! squeue -n gnb715 -o \"%.18i  %.9P  %.2t %.5M %.5D %.4C\""
   ]
  },
  {
   "cell_type": "code",
   "execution_count": 1,
   "metadata": {},
   "outputs": [
    {
     "name": "stdout",
     "output_type": "stream",
     "text": [
      "             JOBID  PARTITION  ST  TIME NODES CPUS\n"
     ]
    }
   ],
   "source": [
    "! squeue -n gnb715 -o \"%.18i  %.9P  %.2t %.5M %.5D %.4C\""
   ]
  },
  {
   "cell_type": "code",
   "execution_count": 2,
   "metadata": {},
   "outputs": [
    {
     "name": "stdout",
     "output_type": "stream",
     "text": [
      "========================================\n",
      "- Job ID: 1493003\n",
      "- Tasks per node:\n",
      "- # of nodes in the job: 1\n",
      "- # of tasks: 1\n",
      "- Dir from which sbatch was invoked: fft\n",
      "- List of nodes allocated to the job: sdumont3173\n",
      "$ srun  --mpi=pmi2  -n 1 python gnb715.py\n",
      "-- output -----------------------------\n",
      "S:270-0j | T:39.5394\n",
      "~~ end ~~~~~~~~~~~~~~~~~~~~~~~~~~~~~~~~\n"
     ]
    }
   ],
   "source": [
    "! cat /scratch${PWD#/prj}/slurm-1493003.out"
   ]
  },
  {
   "cell_type": "markdown",
   "metadata": {},
   "source": [
    "<hr style=\"height:10px;border-width:0;background-color:green\">"
   ]
  },
  {
   "cell_type": "code",
   "execution_count": 3,
   "metadata": {},
   "outputs": [
    {
     "name": "stdout",
     "output_type": "stream",
     "text": [
      "Submitted batch job 1493644\n"
     ]
    }
   ],
   "source": [
    "! sbatch gnb715.srm"
   ]
  },
  {
   "cell_type": "code",
   "execution_count": 4,
   "metadata": {},
   "outputs": [
    {
     "name": "stdout",
     "output_type": "stream",
     "text": [
      "             JOBID  PARTITION  ST  TIME NODES CPUS\n",
      "           1493644  nvidia_de   R  0:01     1   24\n"
     ]
    }
   ],
   "source": [
    "! squeue -n gnb715 -o \"%.18i  %.9P  %.2t %.5M %.5D %.4C\""
   ]
  },
  {
   "cell_type": "code",
   "execution_count": 6,
   "metadata": {},
   "outputs": [
    {
     "name": "stdout",
     "output_type": "stream",
     "text": [
      "             JOBID  PARTITION  ST  TIME NODES CPUS\n"
     ]
    }
   ],
   "source": [
    "! squeue -n gnb715 -o \"%.18i  %.9P  %.2t %.5M %.5D %.4C\""
   ]
  },
  {
   "cell_type": "code",
   "execution_count": 7,
   "metadata": {},
   "outputs": [
    {
     "name": "stdout",
     "output_type": "stream",
     "text": [
      "========================================\n",
      "- Job ID: 1493644\n",
      "- Tasks per node:\n",
      "- # of nodes in the job: 1\n",
      "- # of tasks: 1\n",
      "- Dir from which sbatch was invoked: fft\n",
      "- List of nodes allocated to the job: sdumont3131\n",
      "$ srun  --mpi=pmi2  -n 1 python gnb715.py\n",
      "-- output -----------------------------\n",
      "S:270-0j | T:40.6159\n",
      "~~ end ~~~~~~~~~~~~~~~~~~~~~~~~~~~~~~~~\n"
     ]
    }
   ],
   "source": [
    "! cat /scratch${PWD#/prj}/slurm-1493644.out"
   ]
  },
  {
   "cell_type": "markdown",
   "metadata": {},
   "source": [
    "<hr style=\"height:10px;border-width:0;background-color:green\">"
   ]
  },
  {
   "cell_type": "code",
   "execution_count": 8,
   "metadata": {},
   "outputs": [
    {
     "name": "stdout",
     "output_type": "stream",
     "text": [
      "Submitted batch job 1493703\n"
     ]
    }
   ],
   "source": [
    "! sbatch gnb715.srm"
   ]
  },
  {
   "cell_type": "code",
   "execution_count": 9,
   "metadata": {},
   "outputs": [
    {
     "name": "stdout",
     "output_type": "stream",
     "text": [
      "             JOBID  PARTITION  ST  TIME NODES CPUS\n"
     ]
    }
   ],
   "source": [
    "! squeue -n gnb715 -o \"%.18i  %.9P  %.2t %.5M %.5D %.4C\""
   ]
  },
  {
   "cell_type": "code",
   "execution_count": null,
   "metadata": {},
   "outputs": [],
   "source": [
    "! squeue -n gnb715 -o \"%.18i  %.9P  %.2t %.5M %.5D %.4C\""
   ]
  },
  {
   "cell_type": "code",
   "execution_count": 10,
   "metadata": {},
   "outputs": [
    {
     "name": "stdout",
     "output_type": "stream",
     "text": [
      "========================================\n",
      "- Job ID: 1493703\n",
      "- Tasks per node:\n",
      "- # of nodes in the job: 1\n",
      "- # of tasks: 1\n",
      "- Dir from which sbatch was invoked: fft\n",
      "- List of nodes allocated to the job: sdumont3131\n",
      "$ srun  --mpi=pmi2  -n 1 python gnb715.py\n",
      "-- output -----------------------------\n",
      "S:270-0j | T:34.3320\n",
      "~~ end ~~~~~~~~~~~~~~~~~~~~~~~~~~~~~~~~\n"
     ]
    }
   ],
   "source": [
    "! cat /scratch${PWD#/prj}/slurm-1493703.out"
   ]
  },
  {
   "cell_type": "markdown",
   "metadata": {},
   "source": [
    "<hr style=\"height:10px;border-width:0;background-color:red\">"
   ]
  }
 ],
 "metadata": {
  "kernelspec": {
   "display_name": "Python 3 (ipykernel)",
   "language": "python",
   "name": "python3"
  },
  "language_info": {
   "codemirror_mode": {
    "name": "ipython",
    "version": 3
   },
   "file_extension": ".py",
   "mimetype": "text/x-python",
   "name": "python",
   "nbconvert_exporter": "python",
   "pygments_lexer": "ipython3",
   "version": "3.8.13"
  }
 },
 "nbformat": 4,
 "nbformat_minor": 4
}
