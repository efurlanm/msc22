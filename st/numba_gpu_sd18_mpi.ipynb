{
 "cells": [
  {
   "cell_type": "markdown",
   "metadata": {},
   "source": [
    "# Stencil Numba GPU SD18 MPI"
   ]
  },
  {
   "cell_type": "markdown",
   "metadata": {},
   "source": [
    "```\n",
    "source $SCR/env2/etc/profile.d/conda.sh\n",
    "conda activate $SCR/env2\n",
    "conda activate --stack $SCR/env3\n",
    "```"
   ]
  },
  {
   "cell_type": "code",
   "execution_count": 1,
   "metadata": {},
   "outputs": [
    {
     "name": "stdout",
     "output_type": "stream",
     "text": [
      "GNU Fortran (GCC) 4.8.5 20150623 (Red Hat 4.8.5-39)\n",
      "HYDRA build details:\n",
      "    Version:                                 3.3.2\n",
      "# packages in environment at /scratch/ampemi/xxxx.xxxx/env3:\n",
      "#\n",
      "# Name                    Version                   Build  Channel\n",
      "python                    3.9.4                hdb3f193_0  \n"
     ]
    }
   ],
   "source": [
    "%%bash\n",
    "gfortran --version | head -1\n",
    "mpiexec --version | head -2\n",
    "conda list '^(anaconda|python)$'"
   ]
  },
  {
   "cell_type": "code",
   "execution_count": 1,
   "metadata": {},
   "outputs": [
    {
     "name": "stdout",
     "output_type": "stream",
     "text": [
      "<Managed Device 0>, <Managed Device 1>, <Managed Device 2>, <Managed Device 3>\n"
     ]
    }
   ],
   "source": [
    "from numba import cuda\n",
    "print(cuda.gpus)"
   ]
  },
  {
   "cell_type": "code",
   "execution_count": 12,
   "metadata": {},
   "outputs": [
    {
     "name": "stdout",
     "output_type": "stream",
     "text": [
      "Overwriting ng.py\n"
     ]
    }
   ],
   "source": [
    "%%writefile ng.py\n",
    "import numpy as np, math\n",
    "from time import time\n",
    "from mpi4py import MPI\n",
    "from numba import cuda, njit, prange, config\n",
    "\n",
    "# parameters\n",
    "n            = 4800    # n x n grid\n",
    "energy       = 1.0     # energy to be injected per iteration\n",
    "niters       = 500     # number of iterations\n",
    "# initialize three heat sources\n",
    "nsources     = 3       # number of sources of energy\n",
    "sources      = np.zeros((nsources, 2), np.int16)\n",
    "sources[:,:] = [ [n//2, n//2], [n//3, n//3], [n*4//5, n*8//9] ]\n",
    "# initialize the data arrays\n",
    "anew         = np.zeros((n + 2, n + 2), np.float64)\n",
    "aold         = np.zeros((n + 2, n + 2), np.float64)\n",
    "\n",
    "# configure blocks & grids\n",
    "## set the number of threads in a block\n",
    "threads_per_block = (16, 16)    # based on trial and error\n",
    "## calculate the number of thread blocks in the grid\n",
    "blocks_per_grid_x = math.ceil(aold.shape[0] / threads_per_block[0])\n",
    "blocks_per_grid_y = math.ceil(aold.shape[1] / threads_per_block[1])\n",
    "blocks_per_grid   = (blocks_per_grid_x, blocks_per_grid_y)\n",
    "\n",
    "# computationally intensive core\n",
    "@cuda.jit\n",
    "def kernel(A, B):\n",
    "    n = A.shape[0] - 1\n",
    "    i, j = cuda.grid(2)\n",
    "    if (i > 0 and j > 0) and (i < n and j < n) :\n",
    "        A[i,j]=B[i,j]*.5+(B[i-1,j]+B[i+1,j]+B[i,j-1]+B[i,j+1])*.125\n",
    "\n",
    "# start of main routine\n",
    "\n",
    "###mpi4py###\n",
    "comm  = MPI.COMM_WORLD            # MPI default communicator\n",
    "size  = comm.Get_size()           # MPI size\n",
    "rank  = comm.Get_rank()           # MPI rank\n",
    "name  = MPI.Get_processor_name()  # core hostname (eg sdumont3170)\n",
    "\n",
    "#Only 2 processes per node are selected via Slurm. Within a node, color \n",
    "#rank 0 corresponds to the first process of this node, and color rank 1 \n",
    "#corresponds to the second process of this node, and the other nodes are \n",
    "#similar. Example:\n",
    "#  node      rank  color rank\n",
    "#----------- ----  ----------\n",
    "#sdumont3170   0        0\n",
    "#sdumont3170   1        1\n",
    "#sdumont3171   2        0\n",
    "#sdumont3171   3        1\n",
    "#sdumont3172   4        0\n",
    "#sdumont3172   5        1\n",
    "#sdumont3173   6        0\n",
    "#sdumont3173   7        1\n",
    "for i, c in enumerate(name) :     # find first digit in hostname\n",
    "    if c.isdigit() :\n",
    "        break\n",
    "mcol  = int(name[i:])             # extract number from hostname\n",
    "scomm = comm.Split(color = mcol)  # new communicator for the node\n",
    "crank = scomm.Get_rank()          # get the node color rank\n",
    "\n",
    "###numba.cuda###\n",
    "#In this implementation, Slurm is configured to run only 2 processes on \n",
    "#each node. For each of these processes (cores), a single GPU is \n",
    "#associated. Thus, within a node, color rank 0 is associated with GPU 0, \n",
    "#and color rank 1 is associated with GPU 1.\n",
    "#cuda.select_device(crank)         # 'color rank' 0 = 'gpu id' 0, etc.\n",
    "cuda.select_device(rank%4)         # for mpiexec run\n",
    "cid = cuda.current_context().device.id\n",
    "\n",
    "# time measurement for rank 0\n",
    "if not rank :\n",
    "    tt = -time()    # rank 0 time\n",
    "    tk = 0          # accumulate kernel time\n",
    "    tc = 0          # accumulate communication time\n",
    "    te = 0          # energy insertion time\n",
    "\n",
    "# determine my coordinates (x,y)\n",
    "pdims = MPI.Compute_dims(size, 2)\n",
    "px    = pdims[0]\n",
    "py    = pdims[1]\n",
    "rx    = rank % px\n",
    "ry    = rank // px\n",
    "\n",
    "# determine my four neighbors\n",
    "north = (ry - 1) * px + rx\n",
    "if (ry - 1) < 0 :\n",
    "    north = MPI.PROC_NULL\n",
    "south = (ry + 1) * px + rx\n",
    "if (ry + 1) >= py :\n",
    "    south = MPI.PROC_NULL\n",
    "west = ry * px + rx - 1\n",
    "if (rx - 1) < 0 :\n",
    "    west = MPI.PROC_NULL\n",
    "east = ry * px + rx + 1\n",
    "if (rx + 1) >= px :\n",
    "    east = MPI.PROC_NULL\n",
    "\n",
    "# decompose the domain\n",
    "bx   = n // px          # block size in x\n",
    "by   = n // py          # block size in y\n",
    "offx = rx * bx + 1      # offset in x\n",
    "offy = ry * by + 1      # offset in y\n",
    "\n",
    "# sources in my area, local to my rank\n",
    "locnsources = 0\n",
    "locsources  = np.empty((nsources, 2), np.int16)\n",
    "\n",
    "# determine which sources are in my patch\n",
    "for i in range(nsources) :\n",
    "    locx = sources[i, 0] - offx\n",
    "    locy = sources[i, 1] - offy\n",
    "    if(locx >= 0 and locx <= bx and locy >= 0 and locy <= by) :\n",
    "        locsources[locnsources, 0] = locx\n",
    "        locsources[locnsources, 1] = locy\n",
    "        locnsources += 1\n",
    "\n",
    "# working arrays with 1-wide halo zones\n",
    "anew = np.zeros((bx+2, by+2), np.float64)\n",
    "aold = np.zeros((bx+2, by+2), np.float64)\n",
    "\n",
    "# system total heat\n",
    "rheat = np.zeros(1, np.float64)\n",
    "bheat = np.zeros(1, np.float64)\n",
    "\n",
    "# copy the first arrays to the device\n",
    "if not rank : tc -= time()\n",
    "anew_global_mem    = cuda.to_device(anew)\n",
    "aold_global_mem    = cuda.to_device(aold)\n",
    "#sources_global_mem = cuda.to_device(sources)\n",
    "if not rank : tc += time()\n",
    "   \n",
    "# main loop\n",
    "for _ in range(0, niters, 2) :\n",
    "\n",
    "    # exchange data with neighbors\n",
    "    if north != MPI.PROC_NULL :\n",
    "        r1=comm.irecv(source=north, tag=1)\n",
    "        s1=comm.isend(aold[1, 1:bx+1], dest=north, tag=1)\n",
    "    if south != MPI.PROC_NULL :\n",
    "        r2=comm.irecv(source=south, tag=1)\n",
    "        s2=comm.isend(aold[bx, 1:bx+1], dest=south, tag=1)\n",
    "    if east != MPI.PROC_NULL :\n",
    "        r3 = comm.irecv(source=east, tag=1)\n",
    "        s3 = comm.isend(aold[1:bx+1, bx], dest=east, tag=1)\n",
    "    if west != MPI.PROC_NULL :\n",
    "        r4 = comm.irecv(source=west, tag=1)\n",
    "        s4 = comm.isend(aold[1:bx+1, 1], dest=west, tag=1)\n",
    "    # wait for the end of communication\n",
    "    if north != MPI.PROC_NULL :\n",
    "        s1.wait()\n",
    "        aold[0, 1:bx+1] = r1.wait()\n",
    "    if south != MPI.PROC_NULL :\n",
    "        s2.wait()\n",
    "        aold[bx+1, 1:bx+1] = r2.wait()\n",
    "    if east != MPI.PROC_NULL :\n",
    "        s3.wait()\n",
    "        aold[1:bx+1, bx+1] = r3.wait()\n",
    "    if west != MPI.PROC_NULL :\n",
    "        s4.wait\n",
    "        aold[1:bx+1, 0] = r4.wait()\n",
    "\n",
    "    # copy the received array to the device\n",
    "    if not rank : tc -= time()\n",
    "    aold_global_mem = cuda.to_device(aold)\n",
    "    if not rank : tc += time()\n",
    "\n",
    "    # update grid\n",
    "    if not rank : tk -= time()\n",
    "    kernel[blocks_per_grid, threads_per_block](\n",
    "        anew_global_mem, aold_global_mem)\n",
    "    if not rank : tk += time()\n",
    "\n",
    "    # copy the result back to the host\n",
    "    if not rank : tc -= time()\n",
    "    anew = anew_global_mem.copy_to_host()\n",
    "    if not rank : tc += time()\n",
    "\n",
    "    # refresh heat sources\n",
    "    if not rank : te -= time()\n",
    "    for i in range(locnsources) :\n",
    "        anew[locsources[i, 0]-1, locsources[i, 1]-1] += energy\n",
    "    if not rank : te += time()\n",
    "\n",
    "    # exchange data with neighbors\n",
    "    if north != MPI.PROC_NULL :\n",
    "        r1=comm.irecv(source=north, tag=1)\n",
    "        s1=comm.isend(anew[1, 1:bx+1], dest=north, tag=1)\n",
    "    if south != MPI.PROC_NULL :\n",
    "        r2=comm.irecv(source=south, tag=1)\n",
    "        s2=comm.isend(anew[bx, 1:bx+1], dest=south, tag=1)\n",
    "    if east != MPI.PROC_NULL :\n",
    "        r3 = comm.irecv(source=east, tag=1)\n",
    "        s3 = comm.isend(anew[1:bx+1, bx], dest=east, tag=1)\n",
    "    if west != MPI.PROC_NULL :\n",
    "        r4 = comm.irecv(source=west, tag=1)\n",
    "        s4 = comm.isend(anew[1:bx+1, 1], dest=west, tag=1)\n",
    "    # wait for the end of communication\n",
    "    if north != MPI.PROC_NULL :\n",
    "        s1.wait()\n",
    "        anew[0, 1:bx+1] = r1.wait()\n",
    "    if south != MPI.PROC_NULL :\n",
    "        s2.wait()\n",
    "        anew[bx+1, 1:bx+1] = r2.wait()\n",
    "    if east != MPI.PROC_NULL :\n",
    "        s3.wait()\n",
    "        anew[1:bx+1, bx+1] = r3.wait()\n",
    "    if west != MPI.PROC_NULL :\n",
    "        s4.wait\n",
    "        anew[1:bx+1, 0] = r4.wait()\n",
    "\n",
    "    # copy the received array to the device\n",
    "    if not rank : tc -= time()\n",
    "    anew_global_mem = cuda.to_device(anew)\n",
    "    if not rank : tc += time()\n",
    "\n",
    "    # update grid\n",
    "    if not rank : tk -= time()\n",
    "    kernel[blocks_per_grid, threads_per_block](\n",
    "        aold_global_mem, anew_global_mem)\n",
    "    if not rank : tk += time()\n",
    "\n",
    "    # copy the result back to the host\n",
    "    if not rank : tc -= time()\n",
    "    aold = aold_global_mem.copy_to_host()\n",
    "    if not rank : tc += time()\n",
    "        \n",
    "    # refresh heat sources\n",
    "    if not rank : te -= time()\n",
    "    for i in range(locnsources) :\n",
    "        aold[locsources[i, 0]-1, locsources[i, 1]-1] += energy\n",
    "    if not rank : te += time()\n",
    "\n",
    "# end for\n",
    "\n",
    "# get final heat in the system\n",
    "bheat[0] = np.sum(aold[1:-1, 1:-1])\n",
    "comm.Reduce(bheat, rheat)\n",
    "\n",
    "# show the result\n",
    "print(f\"3. {name:11s}   {rank:02d}    {crank:02d}   {cid:02d}\")\n",
    "if not rank :\n",
    "    tt += time()\n",
    "    print( \"1. hostname   rank crank  cid\")\n",
    "    print( \"2. ----------- ---- ----- ----\")\n",
    "    print( \"4. ---------------------------\")\n",
    "    print(f\"5. Heat:{rheat[0]:.4f}\", end=\", \")\n",
    "    print(f\"TT:{tt:.4f}\", end=\", \")\n",
    "    print(f\"TK:{tk:.4f}\", end=\", \")\n",
    "    print(f\"TC:{tc:.4f}\", end=\", \")\n",
    "    print(f\"TE:{te:.4f}\", end=\", \")\n",
    "    print(f\"MPI:{size}\")"
   ]
  },
  {
   "cell_type": "markdown",
   "metadata": {},
   "source": [
    "### Antigo, sem TE:"
   ]
  },
  {
   "cell_type": "code",
   "execution_count": 6,
   "metadata": {},
   "outputs": [
    {
     "name": "stdout",
     "output_type": "stream",
     "text": [
      "1. hostname   rank crank  cid\n",
      "2. ----------- ---- ----- ----\n",
      "3. sdumont18     00    00   00\n",
      "4. ---------------------------\n",
      "5. Heat:1500.0000, TT:53.6296, KT:0.2433, CT:53.3408, MPISize:1\n"
     ]
    }
   ],
   "source": [
    "! mpiexec -n 1 python ng.py | sort"
   ]
  },
  {
   "cell_type": "code",
   "execution_count": 8,
   "metadata": {},
   "outputs": [
    {
     "name": "stdout",
     "output_type": "stream",
     "text": [
      "1. hostname   rank crank  cid\n",
      "2. ----------- ---- ----- ----\n",
      "3. sdumont18     00    00   00\n",
      "4. ---------------------------\n",
      "5. Heat:1500.0000, TT:50.0480, KT:0.2392, CT:49.7663, MPISize:1\n"
     ]
    }
   ],
   "source": [
    "! mpiexec -n 1 python ng.py | sort"
   ]
  },
  {
   "cell_type": "code",
   "execution_count": 9,
   "metadata": {},
   "outputs": [
    {
     "name": "stdout",
     "output_type": "stream",
     "text": [
      "1. hostname   rank crank  cid\n",
      "2. ----------- ---- ----- ----\n",
      "3. sdumont18     00    00   00\n",
      "4. ---------------------------\n",
      "5. Heat:1500.0000, TT:50.7709, KT:0.2375, CT:50.4876, MPISize:1\n"
     ]
    }
   ],
   "source": [
    "! mpiexec -n 1 python ng.py | sort"
   ]
  },
  {
   "cell_type": "code",
   "execution_count": null,
   "metadata": {},
   "outputs": [],
   "source": []
  },
  {
   "cell_type": "code",
   "execution_count": 7,
   "metadata": {},
   "outputs": [
    {
     "name": "stdout",
     "output_type": "stream",
     "text": [
      "1. hostname   rank crank  cid\n",
      "2. ----------- ---- ----- ----\n",
      "3. sdumont18     00    00   00\n",
      "3. sdumont18     01    01   01\n",
      "3. sdumont18     02    02   02\n",
      "3. sdumont18     03    03   03\n",
      "4. ---------------------------\n",
      "5. Heat:1500.0000, TT:15.6257, KT:0.2501, CT:14.8573, MPISize:4\n"
     ]
    }
   ],
   "source": [
    "! mpiexec -n 4 python ng.py | sort"
   ]
  },
  {
   "cell_type": "code",
   "execution_count": 10,
   "metadata": {},
   "outputs": [
    {
     "name": "stdout",
     "output_type": "stream",
     "text": [
      "1. hostname   rank crank  cid\n",
      "2. ----------- ---- ----- ----\n",
      "3. sdumont18     00    00   00\n",
      "3. sdumont18     01    01   01\n",
      "3. sdumont18     02    02   02\n",
      "3. sdumont18     03    03   03\n",
      "4. ---------------------------\n",
      "5. Heat:1500.0000, TT:14.6767, KT:0.2524, CT:12.5157, MPISize:4\n"
     ]
    }
   ],
   "source": [
    "! mpiexec -n 4 python ng.py | sort"
   ]
  },
  {
   "cell_type": "code",
   "execution_count": 11,
   "metadata": {},
   "outputs": [
    {
     "name": "stdout",
     "output_type": "stream",
     "text": [
      "1. hostname   rank crank  cid\n",
      "2. ----------- ---- ----- ----\n",
      "3. sdumont18     00    00   00\n",
      "3. sdumont18     01    01   01\n",
      "3. sdumont18     02    02   02\n",
      "3. sdumont18     03    03   03\n",
      "4. ---------------------------\n",
      "5. Heat:1500.0000, TT:14.9962, KT:0.2638, CT:14.5452, MPISize:4\n"
     ]
    }
   ],
   "source": [
    "! mpiexec -n 4 python ng.py | sort"
   ]
  },
  {
   "cell_type": "code",
   "execution_count": null,
   "metadata": {},
   "outputs": [],
   "source": []
  },
  {
   "cell_type": "code",
   "execution_count": 5,
   "metadata": {},
   "outputs": [
    {
     "name": "stdout",
     "output_type": "stream",
     "text": [
      "1. hostname   rank crank  cid\n",
      "2. ----------- ---- ----- ----\n",
      "3. sdumont18     00    00   00\n",
      "3. sdumont18     01    01   01\n",
      "3. sdumont18     02    02   02\n",
      "3. sdumont18     03    03   03\n",
      "3. sdumont18     04    04   00\n",
      "3. sdumont18     05    05   01\n",
      "3. sdumont18     06    06   02\n",
      "3. sdumont18     07    07   03\n",
      "3. sdumont18     08    08   00\n",
      "4. ---------------------------\n",
      "5. Heat:1500.0000, TT:6.7512, KT:0.3051, CT:5.8022, MPISize:9\n"
     ]
    }
   ],
   "source": [
    "! mpiexec -n 9 python ng.py | sort"
   ]
  },
  {
   "cell_type": "code",
   "execution_count": 12,
   "metadata": {},
   "outputs": [
    {
     "name": "stdout",
     "output_type": "stream",
     "text": [
      "1. hostname   rank crank  cid\n",
      "2. ----------- ---- ----- ----\n",
      "3. sdumont18     00    00   00\n",
      "3. sdumont18     01    01   01\n",
      "3. sdumont18     02    02   02\n",
      "3. sdumont18     03    03   03\n",
      "3. sdumont18     04    04   00\n",
      "3. sdumont18     05    05   01\n",
      "3. sdumont18     06    06   02\n",
      "3. sdumont18     07    07   03\n",
      "3. sdumont18     08    08   00\n",
      "4. ---------------------------\n",
      "5. Heat:1500.0000, TT:6.9152, KT:0.3125, CT:6.1009, MPISize:9\n"
     ]
    }
   ],
   "source": [
    "! mpiexec -n 9 python ng.py | sort"
   ]
  },
  {
   "cell_type": "code",
   "execution_count": 13,
   "metadata": {},
   "outputs": [
    {
     "name": "stdout",
     "output_type": "stream",
     "text": [
      "1. hostname   rank crank  cid\n",
      "2. ----------- ---- ----- ----\n",
      "3. sdumont18     00    00   00\n",
      "3. sdumont18     01    01   01\n",
      "3. sdumont18     02    02   02\n",
      "3. sdumont18     03    03   03\n",
      "3. sdumont18     04    04   00\n",
      "3. sdumont18     05    05   01\n",
      "3. sdumont18     06    06   02\n",
      "3. sdumont18     07    07   03\n",
      "3. sdumont18     08    08   00\n",
      "4. ---------------------------\n",
      "5. Heat:1500.0000, TT:7.1948, KT:0.2750, CT:5.5385, MPISize:9\n"
     ]
    }
   ],
   "source": [
    "! mpiexec -n 9 python ng.py | sort"
   ]
  },
  {
   "cell_type": "code",
   "execution_count": null,
   "metadata": {},
   "outputs": [],
   "source": []
  },
  {
   "cell_type": "code",
   "execution_count": 14,
   "metadata": {
    "scrolled": true
   },
   "outputs": [
    {
     "name": "stdout",
     "output_type": "stream",
     "text": [
      "1. hostname   rank crank  cid\n",
      "2. ----------- ---- ----- ----\n",
      "3. sdumont18     00    00   00\n",
      "3. sdumont18     01    01   01\n",
      "3. sdumont18     02    02   02\n",
      "3. sdumont18     03    03   03\n",
      "3. sdumont18     04    04   00\n",
      "3. sdumont18     05    05   01\n",
      "3. sdumont18     06    06   02\n",
      "3. sdumont18     07    07   03\n",
      "3. sdumont18     08    08   00\n",
      "3. sdumont18     09    09   01\n",
      "3. sdumont18     10    10   02\n",
      "3. sdumont18     11    11   03\n",
      "3. sdumont18     12    12   00\n",
      "3. sdumont18     13    13   01\n",
      "3. sdumont18     14    14   02\n",
      "3. sdumont18     15    15   03\n",
      "4. ---------------------------\n",
      "5. Heat:1500.0000, TT:7.1660, KT:0.2903, CT:3.8720, MPISize:16\n"
     ]
    }
   ],
   "source": [
    "! mpiexec -n 16 python ng.py | sort"
   ]
  },
  {
   "cell_type": "code",
   "execution_count": 15,
   "metadata": {
    "scrolled": true
   },
   "outputs": [
    {
     "name": "stdout",
     "output_type": "stream",
     "text": [
      "1. hostname   rank crank  cid\n",
      "2. ----------- ---- ----- ----\n",
      "3. sdumont18     00    00   00\n",
      "3. sdumont18     01    01   01\n",
      "3. sdumont18     02    02   02\n",
      "3. sdumont18     03    03   03\n",
      "3. sdumont18     04    04   00\n",
      "3. sdumont18     05    05   01\n",
      "3. sdumont18     06    06   02\n",
      "3. sdumont18     07    07   03\n",
      "3. sdumont18     08    08   00\n",
      "3. sdumont18     09    09   01\n",
      "3. sdumont18     10    10   02\n",
      "3. sdumont18     11    11   03\n",
      "3. sdumont18     12    12   00\n",
      "3. sdumont18     13    13   01\n",
      "3. sdumont18     14    14   02\n",
      "3. sdumont18     15    15   03\n",
      "4. ---------------------------\n",
      "5. Heat:1500.0000, TT:6.2568, KT:0.2906, CT:4.4598, MPISize:16\n"
     ]
    }
   ],
   "source": [
    "! mpiexec -n 16 python ng.py | sort"
   ]
  },
  {
   "cell_type": "code",
   "execution_count": 16,
   "metadata": {
    "scrolled": true
   },
   "outputs": [
    {
     "name": "stdout",
     "output_type": "stream",
     "text": [
      "1. hostname   rank crank  cid\n",
      "2. ----------- ---- ----- ----\n",
      "3. sdumont18     00    00   00\n",
      "3. sdumont18     01    01   01\n",
      "3. sdumont18     02    02   02\n",
      "3. sdumont18     03    03   03\n",
      "3. sdumont18     04    04   00\n",
      "3. sdumont18     05    05   01\n",
      "3. sdumont18     06    06   02\n",
      "3. sdumont18     07    07   03\n",
      "3. sdumont18     08    08   00\n",
      "3. sdumont18     09    09   01\n",
      "3. sdumont18     10    10   02\n",
      "3. sdumont18     11    11   03\n",
      "3. sdumont18     12    12   00\n",
      "3. sdumont18     13    13   01\n",
      "3. sdumont18     14    14   02\n",
      "3. sdumont18     15    15   03\n",
      "4. ---------------------------\n",
      "5. Heat:1500.0000, TT:6.0522, KT:0.3049, CT:4.4625, MPISize:16\n"
     ]
    }
   ],
   "source": [
    "! mpiexec -n 16 python ng.py | sort"
   ]
  },
  {
   "cell_type": "code",
   "execution_count": null,
   "metadata": {},
   "outputs": [],
   "source": []
  },
  {
   "cell_type": "code",
   "execution_count": 17,
   "metadata": {
    "scrolled": true
   },
   "outputs": [
    {
     "name": "stdout",
     "output_type": "stream",
     "text": [
      "1. hostname   rank crank  cid\n",
      "2. ----------- ---- ----- ----\n",
      "3. sdumont18     00    00   00\n",
      "3. sdumont18     01    01   01\n",
      "3. sdumont18     02    02   02\n",
      "3. sdumont18     03    03   03\n",
      "3. sdumont18     04    04   00\n",
      "3. sdumont18     05    05   01\n",
      "3. sdumont18     06    06   02\n",
      "3. sdumont18     07    07   03\n",
      "3. sdumont18     08    08   00\n",
      "3. sdumont18     09    09   01\n",
      "3. sdumont18     10    10   02\n",
      "3. sdumont18     11    11   03\n",
      "3. sdumont18     12    12   00\n",
      "3. sdumont18     13    13   01\n",
      "3. sdumont18     14    14   02\n",
      "3. sdumont18     15    15   03\n",
      "3. sdumont18     16    16   00\n",
      "3. sdumont18     17    17   01\n",
      "3. sdumont18     18    18   02\n",
      "3. sdumont18     19    19   03\n",
      "3. sdumont18     20    20   00\n",
      "3. sdumont18     21    21   01\n",
      "3. sdumont18     22    22   02\n",
      "3. sdumont18     23    23   03\n",
      "3. sdumont18     24    24   00\n",
      "3. sdumont18     25    25   01\n",
      "3. sdumont18     26    26   02\n",
      "3. sdumont18     27    27   03\n",
      "3. sdumont18     28    28   00\n",
      "3. sdumont18     29    29   01\n",
      "3. sdumont18     30    30   02\n",
      "3. sdumont18     31    31   03\n",
      "3. sdumont18     32    32   00\n",
      "3. sdumont18     33    33   01\n",
      "3. sdumont18     34    34   02\n",
      "3. sdumont18     35    35   03\n",
      "4. ---------------------------\n",
      "5. Heat:1500.0000, TT:8.7763, KT:0.3278, CT:6.2070, MPISize:36\n"
     ]
    }
   ],
   "source": [
    "! mpiexec -n 36 python ng.py | sort"
   ]
  },
  {
   "cell_type": "code",
   "execution_count": 18,
   "metadata": {
    "scrolled": true
   },
   "outputs": [
    {
     "name": "stdout",
     "output_type": "stream",
     "text": [
      "1. hostname   rank crank  cid\n",
      "2. ----------- ---- ----- ----\n",
      "3. sdumont18     00    00   00\n",
      "3. sdumont18     01    01   01\n",
      "3. sdumont18     02    02   02\n",
      "3. sdumont18     03    03   03\n",
      "3. sdumont18     04    04   00\n",
      "3. sdumont18     05    05   01\n",
      "3. sdumont18     06    06   02\n",
      "3. sdumont18     07    07   03\n",
      "3. sdumont18     08    08   00\n",
      "3. sdumont18     09    09   01\n",
      "3. sdumont18     10    10   02\n",
      "3. sdumont18     11    11   03\n",
      "3. sdumont18     12    12   00\n",
      "3. sdumont18     13    13   01\n",
      "3. sdumont18     14    14   02\n",
      "3. sdumont18     15    15   03\n",
      "3. sdumont18     16    16   00\n",
      "3. sdumont18     17    17   01\n",
      "3. sdumont18     18    18   02\n",
      "3. sdumont18     19    19   03\n",
      "3. sdumont18     20    20   00\n",
      "3. sdumont18     21    21   01\n",
      "3. sdumont18     22    22   02\n",
      "3. sdumont18     23    23   03\n",
      "3. sdumont18     24    24   00\n",
      "3. sdumont18     25    25   01\n",
      "3. sdumont18     26    26   02\n",
      "3. sdumont18     27    27   03\n",
      "3. sdumont18     28    28   00\n",
      "3. sdumont18     29    29   01\n",
      "3. sdumont18     30    30   02\n",
      "3. sdumont18     31    31   03\n",
      "3. sdumont18     32    32   00\n",
      "3. sdumont18     33    33   01\n",
      "3. sdumont18     34    34   02\n",
      "3. sdumont18     35    35   03\n",
      "4. ---------------------------\n",
      "5. Heat:1500.0000, TT:8.5670, KT:0.3735, CT:6.2499, MPISize:36\n"
     ]
    }
   ],
   "source": [
    "! mpiexec -n 36 python ng.py | sort"
   ]
  },
  {
   "cell_type": "code",
   "execution_count": 19,
   "metadata": {
    "scrolled": true
   },
   "outputs": [
    {
     "name": "stdout",
     "output_type": "stream",
     "text": [
      "1. hostname   rank crank  cid\n",
      "2. ----------- ---- ----- ----\n",
      "3. sdumont18     00    00   00\n",
      "3. sdumont18     01    01   01\n",
      "3. sdumont18     02    02   02\n",
      "3. sdumont18     03    03   03\n",
      "3. sdumont18     04    04   00\n",
      "3. sdumont18     05    05   01\n",
      "3. sdumont18     06    06   02\n",
      "3. sdumont18     07    07   03\n",
      "3. sdumont18     08    08   00\n",
      "3. sdumont18     09    09   01\n",
      "3. sdumont18     10    10   02\n",
      "3. sdumont18     11    11   03\n",
      "3. sdumont18     12    12   00\n",
      "3. sdumont18     13    13   01\n",
      "3. sdumont18     14    14   02\n",
      "3. sdumont18     15    15   03\n",
      "3. sdumont18     16    16   00\n",
      "3. sdumont18     17    17   01\n",
      "3. sdumont18     18    18   02\n",
      "3. sdumont18     19    19   03\n",
      "3. sdumont18     20    20   00\n",
      "3. sdumont18     21    21   01\n",
      "3. sdumont18     22    22   02\n",
      "3. sdumont18     23    23   03\n",
      "3. sdumont18     24    24   00\n",
      "3. sdumont18     25    25   01\n",
      "3. sdumont18     26    26   02\n",
      "3. sdumont18     27    27   03\n",
      "3. sdumont18     28    28   00\n",
      "3. sdumont18     29    29   01\n",
      "3. sdumont18     30    30   02\n",
      "3. sdumont18     31    31   03\n",
      "3. sdumont18     32    32   00\n",
      "3. sdumont18     33    33   01\n",
      "3. sdumont18     34    34   02\n",
      "3. sdumont18     35    35   03\n",
      "4. ---------------------------\n",
      "5. Heat:1500.0000, TT:8.6983, KT:0.3630, CT:6.6110, MPISize:36\n"
     ]
    }
   ],
   "source": [
    "! mpiexec -n 36 python ng.py | sort"
   ]
  },
  {
   "cell_type": "code",
   "execution_count": null,
   "metadata": {},
   "outputs": [],
   "source": []
  },
  {
   "cell_type": "markdown",
   "metadata": {},
   "source": [
    "## Novo, com TE:"
   ]
  },
  {
   "cell_type": "code",
   "execution_count": 2,
   "metadata": {},
   "outputs": [
    {
     "name": "stdout",
     "output_type": "stream",
     "text": [
      "1. hostname   rank crank  cid\n",
      "2. ----------- ---- ----- ----\n",
      "3. sdumont18     00    00   00\n",
      "4. ---------------------------\n",
      "5. Heat:1500.0000, TT:48.3958, TK:1.9448, TC:46.4033, TE:0.0178, MPI:1\n"
     ]
    }
   ],
   "source": [
    "! mpiexec -n 1 python ng.py | sort"
   ]
  },
  {
   "cell_type": "code",
   "execution_count": 3,
   "metadata": {},
   "outputs": [
    {
     "name": "stdout",
     "output_type": "stream",
     "text": [
      "1. hostname   rank crank  cid\n",
      "2. ----------- ---- ----- ----\n",
      "3. sdumont18     00    00   00\n",
      "4. ---------------------------\n",
      "5. Heat:1500.0000, TT:46.7918, TK:0.2551, TC:46.4928, TE:0.0160, MPI:1\n"
     ]
    }
   ],
   "source": [
    "! mpiexec -n 1 python ng.py | sort"
   ]
  },
  {
   "cell_type": "code",
   "execution_count": 4,
   "metadata": {},
   "outputs": [
    {
     "name": "stdout",
     "output_type": "stream",
     "text": [
      "1. hostname   rank crank  cid\n",
      "2. ----------- ---- ----- ----\n",
      "3. sdumont18     00    00   00\n",
      "4. ---------------------------\n",
      "5. Heat:1500.0000, TT:53.4258, TK:0.3811, TC:52.9990, TE:0.0169, MPI:1\n"
     ]
    }
   ],
   "source": [
    "! mpiexec -n 1 python ng.py | sort"
   ]
  },
  {
   "cell_type": "markdown",
   "metadata": {},
   "source": [
    "## 4"
   ]
  },
  {
   "cell_type": "code",
   "execution_count": 13,
   "metadata": {},
   "outputs": [
    {
     "name": "stdout",
     "output_type": "stream",
     "text": [
      "1. hostname   rank crank  cid\n",
      "2. ----------- ---- ----- ----\n",
      "3. sdumont18     00    00   00\n",
      "3. sdumont18     01    01   01\n",
      "3. sdumont18     02    02   02\n",
      "3. sdumont18     03    03   03\n",
      "4. ---------------------------\n",
      "5. Heat:1500.0000, TT:15.1065, TK:0.2787, TC:14.5037, TE:0.0158, MPI:4\n"
     ]
    }
   ],
   "source": [
    "! mpiexec -n 4 python ng.py | sort"
   ]
  },
  {
   "cell_type": "code",
   "execution_count": 14,
   "metadata": {},
   "outputs": [
    {
     "name": "stdout",
     "output_type": "stream",
     "text": [
      "1. hostname   rank crank  cid\n",
      "2. ----------- ---- ----- ----\n",
      "3. sdumont18     00    00   00\n",
      "3. sdumont18     01    01   01\n",
      "3. sdumont18     02    02   02\n",
      "3. sdumont18     03    03   03\n",
      "4. ---------------------------\n",
      "5. Heat:1500.0000, TT:15.0891, TK:0.2742, TC:14.5493, TE:0.0167, MPI:4\n"
     ]
    }
   ],
   "source": [
    "! mpiexec -n 4 python ng.py | sort"
   ]
  },
  {
   "cell_type": "code",
   "execution_count": 15,
   "metadata": {},
   "outputs": [
    {
     "name": "stdout",
     "output_type": "stream",
     "text": [
      "1. hostname   rank crank  cid\n",
      "2. ----------- ---- ----- ----\n",
      "3. sdumont18     00    00   00\n",
      "3. sdumont18     01    01   01\n",
      "3. sdumont18     02    02   02\n",
      "3. sdumont18     03    03   03\n",
      "4. ---------------------------\n",
      "5. Heat:1500.0000, TT:15.2804, TK:0.2698, TC:14.6051, TE:0.0157, MPI:4\n"
     ]
    }
   ],
   "source": [
    "! mpiexec -n 4 python ng.py | sort"
   ]
  },
  {
   "cell_type": "markdown",
   "metadata": {},
   "source": [
    "## 9"
   ]
  },
  {
   "cell_type": "code",
   "execution_count": 16,
   "metadata": {},
   "outputs": [
    {
     "name": "stdout",
     "output_type": "stream",
     "text": [
      "1. hostname   rank crank  cid\n",
      "2. ----------- ---- ----- ----\n",
      "3. sdumont18     00    00   00\n",
      "3. sdumont18     01    01   01\n",
      "3. sdumont18     02    02   02\n",
      "3. sdumont18     03    03   03\n",
      "3. sdumont18     04    04   00\n",
      "3. sdumont18     05    05   01\n",
      "3. sdumont18     06    06   02\n",
      "3. sdumont18     07    07   03\n",
      "3. sdumont18     08    08   00\n",
      "4. ---------------------------\n",
      "5. Heat:1500.0000, TT:6.8329, TK:0.3227, TC:5.3998, TE:0.0125, MPI:9\n"
     ]
    }
   ],
   "source": [
    "! mpiexec -n 9 python ng.py | sort"
   ]
  },
  {
   "cell_type": "code",
   "execution_count": 17,
   "metadata": {},
   "outputs": [
    {
     "name": "stdout",
     "output_type": "stream",
     "text": [
      "1. hostname   rank crank  cid\n",
      "2. ----------- ---- ----- ----\n",
      "3. sdumont18     00    00   00\n",
      "3. sdumont18     01    01   01\n",
      "3. sdumont18     02    02   02\n",
      "3. sdumont18     03    03   03\n",
      "3. sdumont18     04    04   00\n",
      "3. sdumont18     05    05   01\n",
      "3. sdumont18     06    06   02\n",
      "3. sdumont18     07    07   03\n",
      "3. sdumont18     08    08   00\n",
      "4. ---------------------------\n",
      "5. Heat:1500.0000, TT:6.9153, TK:0.2889, TC:5.8396, TE:0.0116, MPI:9\n"
     ]
    }
   ],
   "source": [
    "! mpiexec -n 9 python ng.py | sort"
   ]
  },
  {
   "cell_type": "code",
   "execution_count": 18,
   "metadata": {},
   "outputs": [
    {
     "name": "stdout",
     "output_type": "stream",
     "text": [
      "1. hostname   rank crank  cid\n",
      "2. ----------- ---- ----- ----\n",
      "3. sdumont18     00    00   00\n",
      "3. sdumont18     01    01   01\n",
      "3. sdumont18     02    02   02\n",
      "3. sdumont18     03    03   03\n",
      "3. sdumont18     04    04   00\n",
      "3. sdumont18     05    05   01\n",
      "3. sdumont18     06    06   02\n",
      "3. sdumont18     07    07   03\n",
      "3. sdumont18     08    08   00\n",
      "4. ---------------------------\n",
      "5. Heat:1500.0000, TT:6.9853, TK:0.3086, TC:6.1032, TE:0.0132, MPI:9\n"
     ]
    }
   ],
   "source": [
    "! mpiexec -n 9 python ng.py | sort"
   ]
  },
  {
   "cell_type": "markdown",
   "metadata": {},
   "source": [
    "## 16"
   ]
  },
  {
   "cell_type": "code",
   "execution_count": 19,
   "metadata": {
    "scrolled": true
   },
   "outputs": [
    {
     "name": "stdout",
     "output_type": "stream",
     "text": [
      "1. hostname   rank crank  cid\n",
      "2. ----------- ---- ----- ----\n",
      "3. sdumont18     00    00   00\n",
      "3. sdumont18     01    01   01\n",
      "3. sdumont18     02    02   02\n",
      "3. sdumont18     03    03   03\n",
      "3. sdumont18     04    04   00\n",
      "3. sdumont18     05    05   01\n",
      "3. sdumont18     06    06   02\n",
      "3. sdumont18     07    07   03\n",
      "3. sdumont18     08    08   00\n",
      "3. sdumont18     09    09   01\n",
      "3. sdumont18     10    10   02\n",
      "3. sdumont18     11    11   03\n",
      "3. sdumont18     12    12   00\n",
      "3. sdumont18     13    13   01\n",
      "3. sdumont18     14    14   02\n",
      "3. sdumont18     15    15   03\n",
      "4. ---------------------------\n",
      "5. Heat:1500.0000, TT:6.6906, TK:0.3937, TC:3.6735, TE:0.0018, MPI:16\n"
     ]
    }
   ],
   "source": [
    "! mpiexec -n 16 python ng.py | sort"
   ]
  },
  {
   "cell_type": "code",
   "execution_count": 20,
   "metadata": {
    "scrolled": true
   },
   "outputs": [
    {
     "name": "stdout",
     "output_type": "stream",
     "text": [
      "1. hostname   rank crank  cid\n",
      "2. ----------- ---- ----- ----\n",
      "3. sdumont18     00    00   00\n",
      "3. sdumont18     01    01   01\n",
      "3. sdumont18     02    02   02\n",
      "3. sdumont18     03    03   03\n",
      "3. sdumont18     04    04   00\n",
      "3. sdumont18     05    05   01\n",
      "3. sdumont18     06    06   02\n",
      "3. sdumont18     07    07   03\n",
      "3. sdumont18     08    08   00\n",
      "3. sdumont18     09    09   01\n",
      "3. sdumont18     10    10   02\n",
      "3. sdumont18     11    11   03\n",
      "3. sdumont18     12    12   00\n",
      "3. sdumont18     13    13   01\n",
      "3. sdumont18     14    14   02\n",
      "3. sdumont18     15    15   03\n",
      "4. ---------------------------\n",
      "5. Heat:1500.0000, TT:6.8173, TK:0.4118, TC:4.0617, TE:0.0010, MPI:16\n"
     ]
    }
   ],
   "source": [
    "! mpiexec -n 16 python ng.py | sort"
   ]
  },
  {
   "cell_type": "code",
   "execution_count": 21,
   "metadata": {
    "scrolled": true
   },
   "outputs": [
    {
     "name": "stdout",
     "output_type": "stream",
     "text": [
      "1. hostname   rank crank  cid\n",
      "2. ----------- ---- ----- ----\n",
      "3. sdumont18     00    00   00\n",
      "3. sdumont18     01    01   01\n",
      "3. sdumont18     02    02   02\n",
      "3. sdumont18     03    03   03\n",
      "3. sdumont18     04    04   00\n",
      "3. sdumont18     05    05   01\n",
      "3. sdumont18     06    06   02\n",
      "3. sdumont18     07    07   03\n",
      "3. sdumont18     08    08   00\n",
      "3. sdumont18     09    09   01\n",
      "3. sdumont18     10    10   02\n",
      "3. sdumont18     11    11   03\n",
      "3. sdumont18     12    12   00\n",
      "3. sdumont18     13    13   01\n",
      "3. sdumont18     14    14   02\n",
      "3. sdumont18     15    15   03\n",
      "4. ---------------------------\n",
      "5. Heat:1500.0000, TT:6.6453, TK:0.4068, TC:4.8067, TE:0.0016, MPI:16\n"
     ]
    }
   ],
   "source": [
    "! mpiexec -n 16 python ng.py | sort"
   ]
  },
  {
   "cell_type": "markdown",
   "metadata": {},
   "source": [
    "## 36"
   ]
  },
  {
   "cell_type": "code",
   "execution_count": 22,
   "metadata": {
    "scrolled": true
   },
   "outputs": [
    {
     "name": "stdout",
     "output_type": "stream",
     "text": [
      "1. hostname   rank crank  cid\n",
      "2. ----------- ---- ----- ----\n",
      "3. sdumont18     00    00   00\n",
      "3. sdumont18     01    01   01\n",
      "3. sdumont18     02    02   02\n",
      "3. sdumont18     03    03   03\n",
      "3. sdumont18     04    04   00\n",
      "3. sdumont18     05    05   01\n",
      "3. sdumont18     06    06   02\n",
      "3. sdumont18     07    07   03\n",
      "3. sdumont18     08    08   00\n",
      "3. sdumont18     09    09   01\n",
      "3. sdumont18     10    10   02\n",
      "3. sdumont18     11    11   03\n",
      "3. sdumont18     12    12   00\n",
      "3. sdumont18     13    13   01\n",
      "3. sdumont18     14    14   02\n",
      "3. sdumont18     15    15   03\n",
      "3. sdumont18     16    16   00\n",
      "3. sdumont18     17    17   01\n",
      "3. sdumont18     18    18   02\n",
      "3. sdumont18     19    19   03\n",
      "3. sdumont18     20    20   00\n",
      "3. sdumont18     21    21   01\n",
      "3. sdumont18     22    22   02\n",
      "3. sdumont18     23    23   03\n",
      "3. sdumont18     24    24   00\n",
      "3. sdumont18     25    25   01\n",
      "3. sdumont18     26    26   02\n",
      "3. sdumont18     27    27   03\n",
      "3. sdumont18     28    28   00\n",
      "3. sdumont18     29    29   01\n",
      "3. sdumont18     30    30   02\n",
      "3. sdumont18     31    31   03\n",
      "3. sdumont18     32    32   00\n",
      "3. sdumont18     33    33   01\n",
      "3. sdumont18     34    34   02\n",
      "3. sdumont18     35    35   03\n",
      "4. ---------------------------\n",
      "5. Heat:1500.0000, TT:8.9344, TK:0.5118, TC:7.0322, TE:0.0017, MPI:36\n"
     ]
    }
   ],
   "source": [
    "! mpiexec -n 36 python ng.py | sort"
   ]
  },
  {
   "cell_type": "code",
   "execution_count": 23,
   "metadata": {
    "scrolled": true
   },
   "outputs": [
    {
     "name": "stdout",
     "output_type": "stream",
     "text": [
      "1. hostname   rank crank  cid\n",
      "2. ----------- ---- ----- ----\n",
      "3. sdumont18     00    00   00\n",
      "3. sdumont18     01    01   01\n",
      "3. sdumont18     02    02   02\n",
      "3. sdumont18     03    03   03\n",
      "3. sdumont18     04    04   00\n",
      "3. sdumont18     05    05   01\n",
      "3. sdumont18     06    06   02\n",
      "3. sdumont18     07    07   03\n",
      "3. sdumont18     08    08   00\n",
      "3. sdumont18     09    09   01\n",
      "3. sdumont18     10    10   02\n",
      "3. sdumont18     11    11   03\n",
      "3. sdumont18     12    12   00\n",
      "3. sdumont18     13    13   01\n",
      "3. sdumont18     14    14   02\n",
      "3. sdumont18     15    15   03\n",
      "3. sdumont18     16    16   00\n",
      "3. sdumont18     17    17   01\n",
      "3. sdumont18     18    18   02\n",
      "3. sdumont18     19    19   03\n",
      "3. sdumont18     20    20   00\n",
      "3. sdumont18     21    21   01\n",
      "3. sdumont18     22    22   02\n",
      "3. sdumont18     23    23   03\n",
      "3. sdumont18     24    24   00\n",
      "3. sdumont18     25    25   01\n",
      "3. sdumont18     26    26   02\n",
      "3. sdumont18     27    27   03\n",
      "3. sdumont18     28    28   00\n",
      "3. sdumont18     29    29   01\n",
      "3. sdumont18     30    30   02\n",
      "3. sdumont18     31    31   03\n",
      "3. sdumont18     32    32   00\n",
      "3. sdumont18     33    33   01\n",
      "3. sdumont18     34    34   02\n",
      "3. sdumont18     35    35   03\n",
      "4. ---------------------------\n",
      "5. Heat:1500.0000, TT:9.4557, TK:0.4379, TC:6.6791, TE:0.0017, MPI:36\n"
     ]
    }
   ],
   "source": [
    "! mpiexec -n 36 python ng.py | sort"
   ]
  },
  {
   "cell_type": "code",
   "execution_count": 24,
   "metadata": {
    "scrolled": true
   },
   "outputs": [
    {
     "name": "stdout",
     "output_type": "stream",
     "text": [
      "1. hostname   rank crank  cid\n",
      "2. ----------- ---- ----- ----\n",
      "3. sdumont18     00    00   00\n",
      "3. sdumont18     01    01   01\n",
      "3. sdumont18     02    02   02\n",
      "3. sdumont18     03    03   03\n",
      "3. sdumont18     04    04   00\n",
      "3. sdumont18     05    05   01\n",
      "3. sdumont18     06    06   02\n",
      "3. sdumont18     07    07   03\n",
      "3. sdumont18     08    08   00\n",
      "3. sdumont18     09    09   01\n",
      "3. sdumont18     10    10   02\n",
      "3. sdumont18     11    11   03\n",
      "3. sdumont18     12    12   00\n",
      "3. sdumont18     13    13   01\n",
      "3. sdumont18     14    14   02\n",
      "3. sdumont18     15    15   03\n",
      "3. sdumont18     16    16   00\n",
      "3. sdumont18     17    17   01\n",
      "3. sdumont18     18    18   02\n",
      "3. sdumont18     19    19   03\n",
      "3. sdumont18     20    20   00\n",
      "3. sdumont18     21    21   01\n",
      "3. sdumont18     22    22   02\n",
      "3. sdumont18     23    23   03\n",
      "3. sdumont18     24    24   00\n",
      "3. sdumont18     25    25   01\n",
      "3. sdumont18     26    26   02\n",
      "3. sdumont18     27    27   03\n",
      "3. sdumont18     28    28   00\n",
      "3. sdumont18     29    29   01\n",
      "3. sdumont18     30    30   02\n",
      "3. sdumont18     31    31   03\n",
      "3. sdumont18     32    32   00\n",
      "3. sdumont18     33    33   01\n",
      "3. sdumont18     34    34   02\n",
      "3. sdumont18     35    35   03\n",
      "4. ---------------------------\n",
      "5. Heat:1500.0000, TT:8.8934, TK:0.4393, TC:6.3558, TE:0.0014, MPI:36\n"
     ]
    }
   ],
   "source": [
    "! mpiexec -n 36 python ng.py | sort"
   ]
  },
  {
   "cell_type": "code",
   "execution_count": null,
   "metadata": {},
   "outputs": [],
   "source": []
  },
  {
   "cell_type": "code",
   "execution_count": null,
   "metadata": {},
   "outputs": [],
   "source": []
  }
 ],
 "metadata": {
  "kernelspec": {
   "display_name": "Python 3 (ipykernel)",
   "language": "python",
   "name": "python3"
  },
  "language_info": {
   "codemirror_mode": {
    "name": "ipython",
    "version": 3
   },
   "file_extension": ".py",
   "mimetype": "text/x-python",
   "name": "python",
   "nbconvert_exporter": "python",
   "pygments_lexer": "ipython3",
   "version": "3.8.13"
  }
 },
 "nbformat": 4,
 "nbformat_minor": 4
}
