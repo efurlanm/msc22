{
 "cells": [
  {
   "cell_type": "markdown",
   "metadata": {},
   "source": [
    "# Stencil Python Parallel"
   ]
  },
  {
   "cell_type": "code",
   "execution_count": 1,
   "metadata": {},
   "outputs": [
    {
     "name": "stdout",
     "output_type": "stream",
     "text": [
      "3.7.3 | packaged by conda-forge | (default, Jul  1 2019, 21:52:21) \n",
      "[GCC 7.3.0]\n",
      "sys.version_info(major=3, minor=7, micro=3, releaselevel='final', serial=0)\n"
     ]
    }
   ],
   "source": [
    "import sys\n",
    "print (sys.version)\n",
    "print (sys.version_info)"
   ]
  },
  {
   "cell_type": "code",
   "execution_count": 2,
   "metadata": {},
   "outputs": [
    {
     "name": "stdout",
     "output_type": "stream",
     "text": [
      "blas_mkl_info:\n",
      "    libraries = ['mkl_rt', 'pthread']\n",
      "    library_dirs = ['/scratch/app/anaconda3/2018.12/lib']\n",
      "    define_macros = [('SCIPY_MKL_H', None), ('HAVE_CBLAS', None)]\n",
      "    include_dirs = ['/scratch/app/anaconda3/2018.12/include']\n",
      "blas_opt_info:\n",
      "    libraries = ['mkl_rt', 'pthread']\n",
      "    library_dirs = ['/scratch/app/anaconda3/2018.12/lib']\n",
      "    define_macros = [('SCIPY_MKL_H', None), ('HAVE_CBLAS', None)]\n",
      "    include_dirs = ['/scratch/app/anaconda3/2018.12/include']\n",
      "lapack_mkl_info:\n",
      "    libraries = ['mkl_rt', 'pthread']\n",
      "    library_dirs = ['/scratch/app/anaconda3/2018.12/lib']\n",
      "    define_macros = [('SCIPY_MKL_H', None), ('HAVE_CBLAS', None)]\n",
      "    include_dirs = ['/scratch/app/anaconda3/2018.12/include']\n",
      "lapack_opt_info:\n",
      "    libraries = ['mkl_rt', 'pthread']\n",
      "    library_dirs = ['/scratch/app/anaconda3/2018.12/lib']\n",
      "    define_macros = [('SCIPY_MKL_H', None), ('HAVE_CBLAS', None)]\n",
      "    include_dirs = ['/scratch/app/anaconda3/2018.12/include']\n"
     ]
    }
   ],
   "source": [
    "import numpy\n",
    "numpy.show_config()"
   ]
  },
  {
   "cell_type": "code",
   "execution_count": 7,
   "metadata": {},
   "outputs": [
    {
     "name": "stdout",
     "output_type": "stream",
     "text": [
      "Overwriting spp.py\n"
     ]
    }
   ],
   "source": [
    "%%writefile spp.py\n",
    "from mpi4py import MPI\n",
    "import numpy as np\n",
    "\n",
    "n            = 4800    # nxn grid (4800,1,500)=1500\n",
    "energy       = 1.0     # energy to be injected per iteration\n",
    "niters       = 500     # number of iterations\n",
    "\n",
    "nsources     = 3       # sources of energy\n",
    "sources      = np.zeros((nsources, 2), np.int)\n",
    "sources[:,:] = [ [n//2, n//2], [n//3, n//3], [n*4//5, n*8//9] ]\n",
    "locnsources  = locx = locy = 0     # number of sources in my area\n",
    "locsources   = np.zeros((nsources, 2), np.int)  # local to my rank\n",
    "rheat        = np.zeros(1, np.float64)\n",
    "size         = n + 2\n",
    "sizeEnd      = n + 1\n",
    "\n",
    "comm = MPI.COMM_WORLD\n",
    "mpirank = comm.rank\n",
    "mpisize = comm.size\n",
    "if not mpirank : mpiwtime = -MPI.Wtime()\n",
    "\n",
    "# determine my coordinates (x,y)\n",
    "pdims = MPI.Compute_dims(mpisize, 2)\n",
    "px = pdims[0]\n",
    "py = pdims[1]\n",
    "rx = mpirank % px\n",
    "ry = mpirank // px\n",
    "\n",
    "# determine my four neighbors\n",
    "north = (ry - 1) * px + rx\n",
    "if (ry - 1) < 0 : north = MPI.PROC_NULL\n",
    "south = (ry + 1) * px + rx\n",
    "if (ry + 1) >= py : south = MPI.PROC_NULL\n",
    "west = ry * px + rx - 1\n",
    "if (rx - 1) < 0 : west = MPI.PROC_NULL\n",
    "east = ry * px + rx + 1\n",
    "if (rx + 1) >= px : east = MPI.PROC_NULL\n",
    "\n",
    "# decompose the domain   \n",
    "bx = n // px            # block size in x\n",
    "by = n // py            # block size in y\n",
    "offx = rx * bx + 1      # offset in x\n",
    "offy = ry * by + 1      # offset in y\n",
    "\n",
    "# determine which sources are in my patch\n",
    "for i in range(nsources) :\n",
    "    locx = sources[i, 0] - offx\n",
    "    locy = sources[i, 1] - offy\n",
    "    if(locx >= 0 and locx <= bx and locy >= 0 and locy <= by) :\n",
    "        locsources[locnsources, 0] = locx + 2\n",
    "        locsources[locnsources, 1] = locy + 2\n",
    "        locnsources += 1\n",
    "\n",
    "# working arrays with 1-wide halo zones\n",
    "anew = np.zeros((bx+2, by+2), np.float64)\n",
    "aold = np.zeros((bx+2, by+2), np.float64)\n",
    "\n",
    "# iterations\n",
    "niters = (niters + 1) // 2\n",
    "for iters in range(niters) :\n",
    "    # exchange data with neighbors\n",
    "    if north != MPI.PROC_NULL :\n",
    "        r1=comm.irecv(source=north, tag=1)\n",
    "        s1=comm.isend(aold[1, 1:bx+1], dest=north, tag=1)\n",
    "    if south != MPI.PROC_NULL :\n",
    "        r2=comm.irecv(source=south, tag=1)\n",
    "        s2=comm.isend(aold[bx, 1:bx+1], dest=south, tag=1)\n",
    "    if east != MPI.PROC_NULL :\n",
    "        r3 = comm.irecv(source=east, tag=1)\n",
    "        s3 = comm.isend(aold[1:bx+1, bx], dest=east, tag=1)\n",
    "    if west != MPI.PROC_NULL :\n",
    "        r4 = comm.irecv(source=west, tag=1)\n",
    "        s4 = comm.isend(aold[1:bx+1, 1], dest=west, tag=1)\n",
    "    # wait\n",
    "    if north != MPI.PROC_NULL :\n",
    "        s1.wait()\n",
    "        aold[0, 1:bx+1] = r1.wait()\n",
    "    if south != MPI.PROC_NULL :\n",
    "        s2.wait()\n",
    "        aold[bx+1, 1:bx+1] = r2.wait()\n",
    "    if east != MPI.PROC_NULL :\n",
    "        s3.wait()\n",
    "        aold[1:bx+1, bx+1] = r3.wait()\n",
    "    if west != MPI.PROC_NULL :\n",
    "        s4.wait\n",
    "        aold[1:bx+1, 0] = r4.wait()\n",
    "    # update grid\n",
    "    anew[1:-1, 1:-1] =  ( aold[1:-1, 1:-1] / 2.0 + \n",
    "                        ( aold[2:  , 1:-1] + aold[ :-2, 1:-1] +\n",
    "                          aold[1:-1, 2:  ] + aold[1:-1,  :-2] ) / 8.0 )\n",
    "    # refresh heat sources\n",
    "    anew[locsources[0:locnsources, 0]-1, locsources[0:locnsources, 1]-1] += energy \n",
    "\n",
    "    # exchange data with neighbors\n",
    "    if north != MPI.PROC_NULL :\n",
    "        r1=comm.irecv(source=north, tag=1)\n",
    "        s1=comm.isend(anew[1, 1:bx+1], dest=north, tag=1)\n",
    "    if south != MPI.PROC_NULL :\n",
    "        r2=comm.irecv(source=south, tag=1)\n",
    "        s2=comm.isend(anew[bx, 1:bx+1], dest=south, tag=1)\n",
    "    if east != MPI.PROC_NULL :\n",
    "        r3 = comm.irecv(source=east, tag=1)\n",
    "        s3 = comm.isend(anew[1:bx+1, bx], dest=east, tag=1)\n",
    "    if west != MPI.PROC_NULL :\n",
    "        r4 = comm.irecv(source=west, tag=1)\n",
    "        s4 = comm.isend(anew[1:bx+1, 1], dest=west, tag=1)\n",
    "    # wait\n",
    "    if north != MPI.PROC_NULL :\n",
    "        s1.wait()\n",
    "        anew[0, 1:bx+1] = r1.wait()\n",
    "    if south != MPI.PROC_NULL :\n",
    "        s2.wait()\n",
    "        anew[bx+1, 1:bx+1] = r2.wait()\n",
    "    if east != MPI.PROC_NULL :\n",
    "        s3.wait()\n",
    "        anew[1:bx+1, bx+1] = r3.wait()\n",
    "    if west != MPI.PROC_NULL :\n",
    "        s4.wait\n",
    "        anew[1:bx+1, 0] = r4.wait()\n",
    "    # update grid\n",
    "    aold[1:-1, 1:-1] =  ( anew[1:-1, 1:-1] / 2.0 + \n",
    "                        ( anew[2:  , 1:-1] + anew[ :-2, 1:-1] +\n",
    "                          anew[1:-1, 2:  ] + anew[1:-1,  :-2] ) / 8.0 )\n",
    "    # refresh heat sources\n",
    "    aold[locsources[0:locnsources, 0]-1, locsources[0:locnsources, 1]-1] += energy \n",
    "    \n",
    "# get final heat in the system\n",
    "comm.Reduce(np.sum(aold[1:bx+1, 1:by+1]), rheat)\n",
    "\n",
    "# show  \n",
    "if not mpirank :\n",
    "    print(\"Heat=%0.4f | Tempo=%0.4f | MPISize=%0s | Dim=%0s | bx,by=%0s,%0s\" \n",
    "          %(rheat, mpiwtime+MPI.Wtime(), mpisize, pdims, bx, by))"
   ]
  },
  {
   "cell_type": "code",
   "execution_count": 4,
   "metadata": {},
   "outputs": [
    {
     "name": "stdout",
     "output_type": "stream",
     "text": [
      "Heat=1500.0000 | Tempo=235.7366 | MPISize=1 | Dim=[1, 1] | bx,by=4800,4800\n"
     ]
    }
   ],
   "source": [
    "%%bash\n",
    "#2x2=4, 3x3=9, 4x4=16\n",
    "mpiexec -n 1 python spp.py"
   ]
  },
  {
   "cell_type": "code",
   "execution_count": 9,
   "metadata": {},
   "outputs": [
    {
     "name": "stdout",
     "output_type": "stream",
     "text": [
      "Heat=1500.0000 | Tempo=65.9396 | MPISize=4 | Dim=[2, 2] | bx,by=2400,2400\n"
     ]
    }
   ],
   "source": [
    "%%bash\n",
    "mpiexec -n 4 python spp.py"
   ]
  },
  {
   "cell_type": "code",
   "execution_count": 8,
   "metadata": {},
   "outputs": [
    {
     "name": "stdout",
     "output_type": "stream",
     "text": [
      "Heat=1500.0000 | Tempo=36.5017 | MPISize=9 | Dim=[3, 3] | bx,by=1600,1600\n"
     ]
    }
   ],
   "source": [
    "%%bash\n",
    "mpiexec -n 9 python spp.py"
   ]
  },
  {
   "cell_type": "code",
   "execution_count": 10,
   "metadata": {},
   "outputs": [
    {
     "name": "stdout",
     "output_type": "stream",
     "text": [
      "Heat=1500.0000 | Tempo=27.2404 | MPISize=16 | Dim=[4, 4] | bx,by=1200,1200\n"
     ]
    }
   ],
   "source": [
    "%%bash\n",
    "mpiexec -n 16 python spp.py"
   ]
  },
  {
   "cell_type": "markdown",
   "metadata": {},
   "source": [
    "---\n",
    "\n",
    "Heat=1500.0000 | Tempo=118.0057 | MPISize=4 | Dim=[2, 2] | bx,by=2400,2400\n",
    "\n",
    "\n",
    "Heat = 1500.0000 | Tempo = 237.5668 s\n",
    "CPU times: user 2min 27s, sys: 1min 29s, total: 3min 57s\n",
    "Wall time: 4min 2s\n"
   ]
  },
  {
   "cell_type": "markdown",
   "metadata": {},
   "source": [
    "### Gravando em um arquivo no disco"
   ]
  },
  {
   "cell_type": "code",
   "execution_count": 36,
   "metadata": {},
   "outputs": [
    {
     "name": "stdout",
     "output_type": "stream",
     "text": [
      "Overwriting stc_pyt_par.py\n"
     ]
    }
   ],
   "source": [
    "%%writefile stc_pyt_par.py\n",
    "from mpi4py import MPI\n",
    "import numpy as np\n",
    "\n",
    "n            = 4800    # nxn grid (4800,1,500)=1500\n",
    "energy       = 1.0     # energy to be injected per iteration\n",
    "niters       = 500     # number of iterations\n",
    "\n",
    "nsources     = 3       # sources of energy\n",
    "sources      = np.zeros((nsources, 2), np.int)\n",
    "sources[:,:] = [ [n//2, n//2], [n//3, n//3], [n*4//5, n*8//9] ]\n",
    "locnsources  = locx = locy = 0     # number of sources in my area\n",
    "locsources   = np.zeros((nsources, 2), np.int)  # local to my rank\n",
    "rheat        = np.zeros(1, np.float64)\n",
    "size         = n + 2\n",
    "sizeEnd      = n + 1\n",
    "\n",
    "comm = MPI.COMM_WORLD\n",
    "mpirank = comm.rank\n",
    "mpisize = comm.size\n",
    "if not mpirank : mpiwtime = -MPI.Wtime()\n",
    "\n",
    "# determine my coordinates (x,y)\n",
    "pdims = MPI.Compute_dims(mpisize, 2)\n",
    "px = pdims[0]\n",
    "py = pdims[1]\n",
    "rx = mpirank % px\n",
    "ry = mpirank // px\n",
    "\n",
    "# determine my four neighbors\n",
    "north = (ry - 1) * px + rx\n",
    "if (ry - 1) < 0 : north = MPI.PROC_NULL\n",
    "south = (ry + 1) * px + rx\n",
    "if (ry + 1) >= py : south = MPI.PROC_NULL\n",
    "west = ry * px + rx - 1\n",
    "if (rx - 1) < 0 : west = MPI.PROC_NULL\n",
    "east = ry * px + rx + 1\n",
    "if (rx + 1) >= px : east = MPI.PROC_NULL\n",
    "\n",
    "# decompose the domain   \n",
    "bx = n // px            # block size in x\n",
    "by = n // py            # block size in y\n",
    "offx = rx * bx + 1      # offset in x\n",
    "offy = ry * by + 1      # offset in y\n",
    "\n",
    "# determine which sources are in my patch\n",
    "for i in range(nsources) :\n",
    "    locx = sources[i, 0] - offx\n",
    "    locy = sources[i, 1] - offy\n",
    "#    if(locx >= 0 and locx <= bx and locy >= 0 and locy <= by) :\n",
    "    if(locx >= 0 and locx < bx and locy >= 0 and locy < by) :\n",
    "        locsources[locnsources, 0] = locx + 2\n",
    "        locsources[locnsources, 1] = locy + 2\n",
    "        locnsources += 1\n",
    "\n",
    "# working arrays with 1-wide halo zones\n",
    "anew = np.zeros((bx+2, by+2), np.float64)\n",
    "aold = np.zeros((bx+2, by+2), np.float64)\n",
    "\n",
    "# iterations\n",
    "niters = (niters + 1) // 2\n",
    "for iters in range(niters) :\n",
    "    # exchange data with neighbors\n",
    "    if north != MPI.PROC_NULL :\n",
    "        r1=comm.irecv(source=north, tag=1)\n",
    "        s1=comm.isend(aold[1, 1:bx+1], dest=north, tag=1)\n",
    "    if south != MPI.PROC_NULL :\n",
    "        r2=comm.irecv(source=south, tag=1)\n",
    "        s2=comm.isend(aold[bx, 1:bx+1], dest=south, tag=1)\n",
    "    if east != MPI.PROC_NULL :\n",
    "        r3 = comm.irecv(source=east, tag=1)\n",
    "        s3 = comm.isend(aold[1:bx+1, bx], dest=east, tag=1)\n",
    "    if west != MPI.PROC_NULL :\n",
    "        r4 = comm.irecv(source=west, tag=1)\n",
    "        s4 = comm.isend(aold[1:bx+1, 1], dest=west, tag=1)\n",
    "    # wait\n",
    "    if north != MPI.PROC_NULL :\n",
    "        s1.wait()\n",
    "        aold[0, 1:bx+1] = r1.wait()\n",
    "    if south != MPI.PROC_NULL :\n",
    "        s2.wait()\n",
    "        aold[bx+1, 1:bx+1] = r2.wait()\n",
    "    if east != MPI.PROC_NULL :\n",
    "        s3.wait()\n",
    "        aold[1:bx+1, bx+1] = r3.wait()\n",
    "    if west != MPI.PROC_NULL :\n",
    "        s4.wait\n",
    "        aold[1:bx+1, 0] = r4.wait()\n",
    "    # update grid\n",
    "    anew[1:-1, 1:-1] =  ( aold[1:-1, 1:-1] / 2.0 + \n",
    "                        ( aold[2:  , 1:-1] + aold[ :-2, 1:-1] +\n",
    "                          aold[1:-1, 2:  ] + aold[1:-1,  :-2] ) / 8.0 )\n",
    "    # refresh heat sources\n",
    "    anew[locsources[0:locnsources, 0]-1, locsources[0:locnsources, 1]-1] += energy \n",
    "\n",
    "    # exchange data with neighbors\n",
    "    if north != MPI.PROC_NULL :\n",
    "        r1=comm.irecv(source=north, tag=1)\n",
    "        s1=comm.isend(anew[1, 1:bx+1], dest=north, tag=1)\n",
    "    if south != MPI.PROC_NULL :\n",
    "        r2=comm.irecv(source=south, tag=1)\n",
    "        s2=comm.isend(anew[bx, 1:bx+1], dest=south, tag=1)\n",
    "    if east != MPI.PROC_NULL :\n",
    "        r3 = comm.irecv(source=east, tag=1)\n",
    "        s3 = comm.isend(anew[1:bx+1, bx], dest=east, tag=1)\n",
    "    if west != MPI.PROC_NULL :\n",
    "        r4 = comm.irecv(source=west, tag=1)\n",
    "        s4 = comm.isend(anew[1:bx+1, 1], dest=west, tag=1)\n",
    "    # wait\n",
    "    if north != MPI.PROC_NULL :\n",
    "        s1.wait()\n",
    "        anew[0, 1:bx+1] = r1.wait()\n",
    "    if south != MPI.PROC_NULL :\n",
    "        s2.wait()\n",
    "        anew[bx+1, 1:bx+1] = r2.wait()\n",
    "    if east != MPI.PROC_NULL :\n",
    "        s3.wait()\n",
    "        anew[1:bx+1, bx+1] = r3.wait()\n",
    "    if west != MPI.PROC_NULL :\n",
    "        s4.wait\n",
    "        anew[1:bx+1, 0] = r4.wait()\n",
    "    # update grid\n",
    "    aold[1:-1, 1:-1] =  ( anew[1:-1, 1:-1] / 2.0 + \n",
    "                        ( anew[2:  , 1:-1] + anew[ :-2, 1:-1] +\n",
    "                          anew[1:-1, 2:  ] + anew[1:-1,  :-2] ) / 8.0 )\n",
    "    # refresh heat sources\n",
    "    aold[locsources[0:locnsources, 0]-1, locsources[0:locnsources, 1]-1] += energy \n",
    "    \n",
    "# get final heat in the system\n",
    "comm.Reduce(np.sum(aold[1:bx+1, 1:by+1]), rheat)\n",
    "\n",
    "# show  \n",
    "if not mpirank :\n",
    "    print(\"Heat=%0.4f | Tempo=%0.4f | MPISize=%0s | Dim=%0s | bx,by=%0s,%0s\" \n",
    "          %(rheat, mpiwtime+MPI.Wtime(), mpisize, pdims, bx, by))"
   ]
  },
  {
   "cell_type": "code",
   "execution_count": 41,
   "metadata": {},
   "outputs": [
    {
     "name": "stdout",
     "output_type": "stream",
     "text": [
      "Overwriting calctemppar.sh\n"
     ]
    }
   ],
   "source": [
    "%%writefile calctemppar.sh\n",
    "#!/bin/sh\n",
    "python stc_pyt_par.py"
   ]
  },
  {
   "cell_type": "markdown",
   "metadata": {},
   "source": [
    "### Testando o funcionamento"
   ]
  },
  {
   "cell_type": "code",
   "execution_count": 13,
   "metadata": {},
   "outputs": [
    {
     "name": "stdout",
     "output_type": "stream",
     "text": [
      "Heat=1500.0000 | Tempo=273.2945 | MPISize=1 | Dim=[1, 1] | bx,by=4800,4800\n"
     ]
    },
    {
     "name": "stderr",
     "output_type": "stream",
     "text": [
      "\n",
      "real\t4m41.183s\n",
      "user\t2m40.427s\n",
      "sys\t1m53.247s\n"
     ]
    }
   ],
   "source": [
    "%%bash\n",
    "sh calctemppar.sh"
   ]
  },
  {
   "cell_type": "code",
   "execution_count": 42,
   "metadata": {},
   "outputs": [
    {
     "name": "stdout",
     "output_type": "stream",
     "text": [
      "Heat=1500.0000 | Tempo=22.3885 | MPISize=16 | Dim=[4, 4] | bx,by=1200,1200\n"
     ]
    }
   ],
   "source": [
    "%%bash\n",
    "mpiexec -n 16 python stc_pyt_par.py"
   ]
  },
  {
   "cell_type": "code",
   "execution_count": null,
   "metadata": {},
   "outputs": [],
   "source": [
    "%%bash\n",
    "mpiexec -n  python stc_pyt_par.py"
   ]
  },
  {
   "cell_type": "markdown",
   "metadata": {},
   "source": [
    "### Copia para scratch"
   ]
  },
  {
   "cell_type": "code",
   "execution_count": 37,
   "metadata": {},
   "outputs": [],
   "source": [
    "%%bash\n",
    "s='/prj/ampemi/eduardo.miranda2/stnc/Python'\n",
    "d='/scratch/ampemi/eduardo.miranda2/stnc/Python'\n",
    "cp  $s/stc_pyt_par.py $s/spp.py $s/calctemppar.sh $d"
   ]
  },
  {
   "cell_type": "markdown",
   "metadata": {},
   "source": [
    "### Arquivo de submissão"
   ]
  },
  {
   "cell_type": "code",
   "execution_count": 32,
   "metadata": {},
   "outputs": [
    {
     "name": "stdout",
     "output_type": "stream",
     "text": [
      "Overwriting stc_pyt_par_09.srm\n"
     ]
    }
   ],
   "source": [
    "%%writefile stc_pyt_par_09.srm\n",
    "#!/bin/bash\n",
    "# limites das filas (1,0 UA):\n",
    "#   cpu_dev  : 20 min.,  1-4  nós, 1/1   tarefas em exec/fila máximo\n",
    "#   cpu_small: 72 horas, 1-20 nós, 16/96 tarefas em exec/fila máximo\n",
    "# 1x1=1, 2x2=4, 3x3=9, 4x4=16, 6x6=36, 7x7=49, 8x8=64, 9x9=81\n",
    "# 5x5=25 não funciona porque 4800/5 não dá divisão inteira\n",
    "\n",
    "#SBATCH --ntasks=09            #Total de tarefas\n",
    "# #SBATCH --nodes=1              #Qtd de nós\n",
    "# #SBATCH --ntasks-per-node=1    #Qtd de tarefas por nó ($SLURM_NTASKS_PER_NODE)\n",
    "#SBATCH -J stpypar             #Nome do job, 8 caracteres\n",
    "#SBATCH -p cpu_small           #Fila (partition) a ser utilizada\n",
    "# #SBATCH --exclusive            #Utilização exclusiva dos nós\n",
    "#SBATCH --time=00:05:00        #Tempo max. de execução\n",
    "\n",
    "echo '========================================'\n",
    "echo '- Job ID:' $SLURM_JOB_ID\n",
    "echo '- Tarefas por no:' $SLURM_NTASKS_PER_NODE\n",
    "echo '- Qtd. de nos:' $SLURM_JOB_NUM_NODES\n",
    "echo '- Tot. de tarefas:' $SLURM_NTASKS\n",
    "echo '- Nos alocados:' $SLURM_JOB_NODELIST\n",
    "echo '- diretorio onde sbatch foi chamado ($SLURM_SUBMIT_DIR):'\n",
    "echo $SLURM_SUBMIT_DIR\n",
    "cd $SLURM_SUBMIT_DIR\n",
    "\n",
    "#Entra no diretório de trabalho\n",
    "cd /scratch/ampemi/eduardo.miranda2/stnc/Python\n",
    "\n",
    "#Executavel\n",
    "EXEC='python stc_pyt_par.py'\n",
    "\n",
    "#Dispara a execucao\n",
    "#=======================================#\n",
    "# ATENÇÃO! precisa do \"--mpi=pmi2\"      #\n",
    "#=======================================#\n",
    "echo '-- srun -------------------------------'\n",
    "echo '$ srun --mpi=pmi2 -n ' $SLURM_NTASKS $EXEC\n",
    "srun --mpi=pmi2 -n $SLURM_NTASKS $EXEC\n",
    "echo '-- FIM --------------------------------'"
   ]
  },
  {
   "cell_type": "markdown",
   "metadata": {},
   "source": [
    "## Envia para execução"
   ]
  },
  {
   "cell_type": "code",
   "execution_count": 38,
   "metadata": {},
   "outputs": [
    {
     "name": "stdout",
     "output_type": "stream",
     "text": [
      "Submitted batch job 774699\n",
      "Submitted batch job 774700\n",
      "Submitted batch job 774701\n"
     ]
    }
   ],
   "source": [
    "%%bash\n",
    "# sbatch stc_pyt_par_01.srm\n",
    "# sbatch stc_pyt_par_04.srm\n",
    "sbatch stc_pyt_par_09.srm\n",
    "sbatch stc_pyt_par_16.srm\n",
    "sbatch stc_pyt_par_25.srm\n",
    "# sbatch stc_pyt_par_36.srm\n",
    "# sbatch stc_pyt_par_49.srm\n",
    "# sbatch stc_pyt_par_64.srm\n",
    "# sbatch stc_pyt_par_81.srm"
   ]
  },
  {
   "cell_type": "markdown",
   "metadata": {},
   "source": [
    "    01: Submitted batch job 774517\n",
    "    04: Submitted batch job 774641\n",
    "    09: Submitted batch job 774683\n",
    "    16: Submitted batch job 774643\n",
    "    25: Submitted batch job 774644\n",
    "    36: Submitted batch job 774645\n",
    "    49: Submitted batch job 774646\n",
    "    64: Submitted batch job 774647\n",
    "    81: Submitted batch job 774648"
   ]
  },
  {
   "cell_type": "markdown",
   "metadata": {},
   "source": [
    "### Verifica se já terminou"
   ]
  },
  {
   "cell_type": "code",
   "execution_count": 39,
   "metadata": {},
   "outputs": [
    {
     "name": "stdout",
     "output_type": "stream",
     "text": [
      "             JOBID PARTITION     NAME     USER ST       TIME  NODES NODELIST(REASON)\n"
     ]
    }
   ],
   "source": [
    "%%bash\n",
    "squeue -n stpypar"
   ]
  },
  {
   "cell_type": "markdown",
   "metadata": {},
   "source": [
    "### Mostra os arquivos de saída"
   ]
  },
  {
   "cell_type": "code",
   "execution_count": 35,
   "metadata": {},
   "outputs": [
    {
     "name": "stdout",
     "output_type": "stream",
     "text": [
      "========================================\n",
      "- Job ID: 774517\n",
      "- Tarefas por no:\n",
      "- Qtd. de nos: 1\n",
      "- Tot. de tarefas: 1\n",
      "- Nos alocados: sdumont1106\n",
      "- diretorio onde sbatch foi chamado ($SLURM_SUBMIT_DIR):\n",
      "/prj/ampemi/eduardo.miranda2/stnc/Python\n",
      "-- srun -------------------------------\n",
      "$ srun -n  1 sh calctemppar.sh\n",
      "Heat=1500.0000 | Tempo=227.9713 | MPISize=1 | Dim=[1, 1] | bx,by=4800,4800\n",
      "\n",
      "real\t3m53.958s\n",
      "user\t2m59.150s\n",
      "sys\t0m49.200s\n",
      "-- FIM --------------------------------\n",
      "========================================\n",
      "- Job ID: 774641\n",
      "- Tarefas por no:\n",
      "- Qtd. de nos: 1\n",
      "- Tot. de tarefas: 4\n",
      "- Nos alocados: sdumont1064\n",
      "- diretorio onde sbatch foi chamado ($SLURM_SUBMIT_DIR):\n",
      "/prj/ampemi/eduardo.miranda2/stnc/Python\n",
      "-- srun -------------------------------\n",
      "$ srun -n  4 python stc_pyt_par.py\n",
      "Heat=1500.0000 | Tempo=64.1276 | MPISize=4 | Dim=[2, 2] | bx,by=2400,2400\n",
      "-- FIM --------------------------------\n",
      "========================================\n",
      "- Job ID: 774683\n",
      "- Tarefas por no:\n",
      "- Qtd. de nos: 1\n",
      "- Tot. de tarefas: 9\n",
      "- Nos alocados: sdumont1286\n",
      "- diretorio onde sbatch foi chamado ($SLURM_SUBMIT_DIR):\n",
      "/prj/ampemi/eduardo.miranda2/stnc/Python\n",
      "-- srun -------------------------------\n",
      "$ srun -n  9 python stc_pyt_par.py\n",
      "Heat=1500.0000 | Tempo=44.8346 | MPISize=9 | Dim=[3, 3] | bx,by=1600,1600\n",
      "-- FIM --------------------------------\n",
      "========================================\n",
      "- Job ID: 774643\n",
      "- Tarefas por no:\n",
      "- Qtd. de nos: 1\n",
      "- Tot. de tarefas: 16\n",
      "- Nos alocados: sdumont1465\n",
      "- diretorio onde sbatch foi chamado ($SLURM_SUBMIT_DIR):\n",
      "/prj/ampemi/eduardo.miranda2/stnc/Python\n",
      "-- srun -------------------------------\n",
      "$ srun -n  16 python stc_pyt_par.py\n",
      "Heat=1500.0000 | Tempo=33.6375 | MPISize=16 | Dim=[4, 4] | bx,by=1200,1200\n",
      "-- FIM --------------------------------\n",
      "========================================\n",
      "- Job ID: 774644\n",
      "- Tarefas por no:\n",
      "- Qtd. de nos: 2\n",
      "- Tot. de tarefas: 25\n",
      "- Nos alocados: sdumont[1466-1467]\n",
      "- diretorio onde sbatch foi chamado ($SLURM_SUBMIT_DIR):\n",
      "/prj/ampemi/eduardo.miranda2/stnc/Python\n",
      "-- srun -------------------------------\n",
      "$ srun -n  25 python stc_pyt_par.py\n",
      "Heat=1067.4542 | Tempo=21.8042 | MPISize=25 | Dim=[5, 5] | bx,by=960,960\n",
      "-- FIM --------------------------------\n",
      "========================================\n",
      "- Job ID: 774645\n",
      "- Tarefas por no:\n",
      "- Qtd. de nos: 2\n",
      "- Tot. de tarefas: 36\n",
      "- Nos alocados: sdumont[1468-1469]\n",
      "- diretorio onde sbatch foi chamado ($SLURM_SUBMIT_DIR):\n",
      "/prj/ampemi/eduardo.miranda2/stnc/Python\n",
      "-- srun -------------------------------\n",
      "$ srun -n  36 python stc_pyt_par.py\n",
      "Heat=1500.0000 | Tempo=15.1895 | MPISize=36 | Dim=[6, 6] | bx,by=800,800\n",
      "-- FIM --------------------------------\n",
      "========================================\n",
      "- Job ID: 774646\n",
      "- Tarefas por no:\n",
      "- Qtd. de nos: 3\n",
      "- Tot. de tarefas: 49\n",
      "- Nos alocados: sdumont[1466-1468]\n",
      "- diretorio onde sbatch foi chamado ($SLURM_SUBMIT_DIR):\n",
      "/prj/ampemi/eduardo.miranda2/stnc/Python\n",
      "-- srun -------------------------------\n",
      "$ srun -n  49 python stc_pyt_par.py\n",
      "Heat=1500.0000 | Tempo=10.4558 | MPISize=49 | Dim=[7, 7] | bx,by=685,685\n",
      "-- FIM --------------------------------\n",
      "========================================\n",
      "- Job ID: 774647\n",
      "- Tarefas por no:\n",
      "- Qtd. de nos: 3\n",
      "- Tot. de tarefas: 64\n",
      "- Nos alocados: sdumont[1465-1467]\n",
      "- diretorio onde sbatch foi chamado ($SLURM_SUBMIT_DIR):\n",
      "/prj/ampemi/eduardo.miranda2/stnc/Python\n",
      "-- srun -------------------------------\n",
      "$ srun -n  64 python stc_pyt_par.py\n",
      "Heat=1500.0000 | Tempo=7.8801 | MPISize=64 | Dim=[8, 8] | bx,by=600,600\n",
      "-- FIM --------------------------------\n",
      "========================================\n",
      "- Job ID: 774648\n",
      "- Tarefas por no:\n",
      "- Qtd. de nos: 4\n",
      "- Tot. de tarefas: 81\n",
      "- Nos alocados: sdumont[1464-1467]\n",
      "- diretorio onde sbatch foi chamado ($SLURM_SUBMIT_DIR):\n",
      "/prj/ampemi/eduardo.miranda2/stnc/Python\n",
      "-- srun -------------------------------\n",
      "$ srun -n  81 python stc_pyt_par.py\n",
      "Heat=1500.0000 | Tempo=6.3166 | MPISize=81 | Dim=[9, 9] | bx,by=533,533\n",
      "-- FIM --------------------------------\n"
     ]
    }
   ],
   "source": [
    "%%bash\n",
    "# 1x1=1, 2x2=4, 3x3=9, 4x4=16, 5x5=25, 6x6=36, 7x7=49, 8x8=64, 9x9=81\n",
    "d='/scratch/ampemi/eduardo.miranda2/stnc/Python'\n",
    "cat $d/slurm-774517.out    # 01\n",
    "cat $d/slurm-774641.out    # 04\n",
    "cat $d/slurm-774683.out    # 09\n",
    "cat $d/slurm-774643.out    # 16\n",
    "cat $d/slurm-774644.out    # 25\n",
    "cat $d/slurm-774645.out    # 36\n",
    "cat $d/slurm-774646.out    # 49\n",
    "cat $d/slurm-774647.out    # 64\n",
    "cat $d/slurm-774648.out    # 81"
   ]
  },
  {
   "cell_type": "code",
   "execution_count": 40,
   "metadata": {},
   "outputs": [
    {
     "name": "stdout",
     "output_type": "stream",
     "text": [
      "========================================\n",
      "- Job ID: 774699\n",
      "- Tarefas por no:\n",
      "- Qtd. de nos: 1\n",
      "- Tot. de tarefas: 9\n",
      "- Nos alocados: sdumont1101\n",
      "- diretorio onde sbatch foi chamado ($SLURM_SUBMIT_DIR):\n",
      "/prj/ampemi/eduardo.miranda2/stnc/Python\n",
      "-- srun -------------------------------\n",
      "$ srun -n  9 python stc_pyt_par.py\n",
      "Heat=1500.0000 | Tempo=43.2708 | MPISize=9 | Dim=[3, 3] | bx,by=1600,1600\n",
      "-- FIM --------------------------------\n",
      "========================================\n",
      "- Job ID: 774700\n",
      "- Tarefas por no:\n",
      "- Qtd. de nos: 1\n",
      "- Tot. de tarefas: 16\n",
      "- Nos alocados: sdumont1376\n",
      "- diretorio onde sbatch foi chamado ($SLURM_SUBMIT_DIR):\n",
      "/prj/ampemi/eduardo.miranda2/stnc/Python\n",
      "-- srun -------------------------------\n",
      "$ srun -n  16 python stc_pyt_par.py\n",
      "Heat=1500.0000 | Tempo=33.5772 | MPISize=16 | Dim=[4, 4] | bx,by=1200,1200\n",
      "-- FIM --------------------------------\n",
      "========================================\n",
      "- Job ID: 774701\n",
      "- Tarefas por no:\n",
      "- Qtd. de nos: 2\n",
      "- Tot. de tarefas: 25\n",
      "- Nos alocados: sdumont[1081-1082]\n",
      "- diretorio onde sbatch foi chamado ($SLURM_SUBMIT_DIR):\n",
      "/prj/ampemi/eduardo.miranda2/stnc/Python\n",
      "-- srun -------------------------------\n",
      "$ srun -n  25 python stc_pyt_par.py\n",
      "Heat=1067.4542 | Tempo=21.8474 | MPISize=25 | Dim=[5, 5] | bx,by=960,960\n",
      "-- FIM --------------------------------\n"
     ]
    }
   ],
   "source": [
    "%%bash\n",
    "# 1x1=1, 2x2=4, 3x3=9, 4x4=16, 5x5=25, 6x6=36, 7x7=49, 8x8=64, 9x9=81\n",
    "d='/scratch/ampemi/eduardo.miranda2/stnc/Python'\n",
    "cat $d/slurm-774699.out\n",
    "cat $d/slurm-774700.out\n",
    "cat $d/slurm-774701.out"
   ]
  },
  {
   "cell_type": "code",
   "execution_count": null,
   "metadata": {},
   "outputs": [],
   "source": []
  },
  {
   "cell_type": "markdown",
   "metadata": {},
   "source": [
    "# Segunda tomada de tempo"
   ]
  },
  {
   "cell_type": "code",
   "execution_count": 1,
   "metadata": {},
   "outputs": [
    {
     "name": "stdout",
     "output_type": "stream",
     "text": [
      "Submitted batch job 788064\n",
      "Submitted batch job 788065\n",
      "Submitted batch job 788066\n",
      "Submitted batch job 788067\n",
      "Submitted batch job 788068\n",
      "Submitted batch job 788069\n",
      "Submitted batch job 788070\n",
      "Submitted batch job 788071\n"
     ]
    }
   ],
   "source": [
    "%%bash\n",
    "sbatch stc_pyt_par_01.srm\n",
    "sbatch stc_pyt_par_04.srm\n",
    "sbatch stc_pyt_par_09.srm\n",
    "sbatch stc_pyt_par_16.srm\n",
    "sbatch stc_pyt_par_36.srm\n",
    "sbatch stc_pyt_par_49.srm\n",
    "sbatch stc_pyt_par_64.srm\n",
    "sbatch stc_pyt_par_81.srm"
   ]
  },
  {
   "cell_type": "code",
   "execution_count": 2,
   "metadata": {},
   "outputs": [
    {
     "name": "stdout",
     "output_type": "stream",
     "text": [
      "             JOBID PARTITION     NAME     USER ST       TIME  NODES NODELIST(REASON)\n",
      "            788064 cpu_small  stpypar eduardo. PD       0:00      1 (Priority)\n",
      "            788066 cpu_small  stpypar eduardo. PD       0:00      1 (Priority)\n",
      "            788067 cpu_small  stpypar eduardo. PD       0:00      1 (Priority)\n",
      "            788068 cpu_small  stpypar eduardo. PD       0:00      2 (Priority)\n",
      "            788069 cpu_small  stpypar eduardo. PD       0:00      3 (Priority)\n",
      "            788070 cpu_small  stpypar eduardo. PD       0:00      3 (Priority)\n",
      "            788071 cpu_small  stpypar eduardo. PD       0:00      4 (Priority)\n",
      "            788065   cpu_dev  stpypar eduardo.  R       0:04      1 sdumont1065\n"
     ]
    }
   ],
   "source": [
    "! squeue -n stpypar"
   ]
  },
  {
   "cell_type": "code",
   "execution_count": 3,
   "metadata": {},
   "outputs": [
    {
     "name": "stdout",
     "output_type": "stream",
     "text": [
      "             JOBID PARTITION     NAME     USER ST       TIME  NODES NODELIST(REASON)\n"
     ]
    }
   ],
   "source": [
    "! squeue -n stpypar"
   ]
  },
  {
   "cell_type": "code",
   "execution_count": 4,
   "metadata": {},
   "outputs": [
    {
     "name": "stdout",
     "output_type": "stream",
     "text": [
      "========================================\n",
      "- Job ID: 788064\n",
      "- Tarefas por no:\n",
      "- Qtd. de nos: 1\n",
      "- Tot. de tarefas: 1\n",
      "- Nos alocados: sdumont1149\n",
      "- diretorio onde sbatch foi chamado ($SLURM_SUBMIT_DIR):\n",
      "/prj/ampemi/eduardo.miranda2/stnc/Python\n",
      "-- srun -------------------------------\n",
      "$ srun -n  1 sh calctemppar.sh\n",
      "Heat=1500.0000 | Tempo=226.2890 | MPISize=1 | Dim=[1, 1] | bx,by=4800,4800\n",
      "-- FIM --------------------------------\n",
      "========================================\n",
      "- Job ID: 788065\n",
      "- Tarefas por no:\n",
      "- Qtd. de nos: 1\n",
      "- Tot. de tarefas: 4\n",
      "- Nos alocados: sdumont1065\n",
      "- diretorio onde sbatch foi chamado ($SLURM_SUBMIT_DIR):\n",
      "/prj/ampemi/eduardo.miranda2/stnc/Python\n",
      "-- srun -------------------------------\n",
      "$ srun -n  4 python stc_pyt_par.py\n",
      "Heat=1500.0000 | Tempo=66.1329 | MPISize=4 | Dim=[2, 2] | bx,by=2400,2400\n",
      "-- FIM --------------------------------\n",
      "========================================\n",
      "- Job ID: 788066\n",
      "- Tarefas por no:\n",
      "- Qtd. de nos: 1\n",
      "- Tot. de tarefas: 9\n",
      "- Nos alocados: sdumont1149\n",
      "- diretorio onde sbatch foi chamado ($SLURM_SUBMIT_DIR):\n",
      "/prj/ampemi/eduardo.miranda2/stnc/Python\n",
      "-- srun -------------------------------\n",
      "$ srun -n  9 python stc_pyt_par.py\n",
      "Heat=1500.0000 | Tempo=44.8523 | MPISize=9 | Dim=[3, 3] | bx,by=1600,1600\n",
      "-- FIM --------------------------------\n",
      "========================================\n",
      "- Job ID: 788067\n",
      "- Tarefas por no:\n",
      "- Qtd. de nos: 1\n",
      "- Tot. de tarefas: 16\n",
      "- Nos alocados: sdumont1149\n",
      "- diretorio onde sbatch foi chamado ($SLURM_SUBMIT_DIR):\n",
      "/prj/ampemi/eduardo.miranda2/stnc/Python\n",
      "-- srun -------------------------------\n",
      "$ srun -n  16 python stc_pyt_par.py\n",
      "Heat=1500.0000 | Tempo=33.5343 | MPISize=16 | Dim=[4, 4] | bx,by=1200,1200\n",
      "-- FIM --------------------------------\n",
      "========================================\n",
      "- Job ID: 788068\n",
      "- Tarefas por no:\n",
      "- Qtd. de nos: 2\n",
      "- Tot. de tarefas: 36\n",
      "- Nos alocados: sdumont[1083,1149]\n",
      "- diretorio onde sbatch foi chamado ($SLURM_SUBMIT_DIR):\n",
      "/prj/ampemi/eduardo.miranda2/stnc/Python\n",
      "-- srun -------------------------------\n",
      "$ srun -n  36 python stc_pyt_par.py\n",
      "Heat=1500.0000 | Tempo=15.3398 | MPISize=36 | Dim=[6, 6] | bx,by=800,800\n",
      "-- FIM --------------------------------\n",
      "========================================\n",
      "- Job ID: 788069\n",
      "- Tarefas por no:\n",
      "- Qtd. de nos: 3\n",
      "- Tot. de tarefas: 49\n",
      "- Nos alocados: sdumont[1083,1149,1272]\n",
      "- diretorio onde sbatch foi chamado ($SLURM_SUBMIT_DIR):\n",
      "/prj/ampemi/eduardo.miranda2/stnc/Python\n",
      "-- srun -------------------------------\n",
      "$ srun -n  49 python stc_pyt_par.py\n",
      "Heat=1500.0000 | Tempo=10.3632 | MPISize=49 | Dim=[7, 7] | bx,by=685,685\n",
      "-- FIM --------------------------------\n",
      "========================================\n",
      "- Job ID: 788070\n",
      "- Tarefas por no:\n",
      "- Qtd. de nos: 3\n",
      "- Tot. de tarefas: 64\n",
      "- Nos alocados: sdumont[1083,1149,1272]\n",
      "- diretorio onde sbatch foi chamado ($SLURM_SUBMIT_DIR):\n",
      "/prj/ampemi/eduardo.miranda2/stnc/Python\n",
      "-- srun -------------------------------\n",
      "$ srun -n  64 python stc_pyt_par.py\n",
      "Heat=1500.0000 | Tempo=7.7333 | MPISize=64 | Dim=[8, 8] | bx,by=600,600\n",
      "-- FIM --------------------------------\n",
      "========================================\n",
      "- Job ID: 788071\n",
      "- Tarefas por no:\n",
      "- Qtd. de nos: 4\n",
      "- Tot. de tarefas: 81\n",
      "- Nos alocados: sdumont[1083,1149,1272,1391]\n",
      "- diretorio onde sbatch foi chamado ($SLURM_SUBMIT_DIR):\n",
      "/prj/ampemi/eduardo.miranda2/stnc/Python\n",
      "-- srun -------------------------------\n",
      "$ srun -n  81 python stc_pyt_par.py\n",
      "Heat=1500.0000 | Tempo=7.0462 | MPISize=81 | Dim=[9, 9] | bx,by=533,533\n",
      "-- FIM --------------------------------\n"
     ]
    }
   ],
   "source": [
    "%%bash\n",
    "# 1x1=1, 2x2=4, 3x3=9, 4x4=16, 6x6=36, 7x7=49, 8x8=64, 9x9=81\n",
    "d='/scratch/ampemi/eduardo.miranda2/stnc/Python'\n",
    "cat $d/slurm-788064.out    # 01\n",
    "cat $d/slurm-788065.out    # 04\n",
    "cat $d/slurm-788066.out    # 09\n",
    "cat $d/slurm-788067.out    # 16\n",
    "cat $d/slurm-788068.out    # 36\n",
    "cat $d/slurm-788069.out    # 49\n",
    "cat $d/slurm-788070.out    # 64\n",
    "cat $d/slurm-788071.out    # 81"
   ]
  },
  {
   "cell_type": "markdown",
   "metadata": {},
   "source": [
    "# Terceira tomada de tempo"
   ]
  },
  {
   "cell_type": "code",
   "execution_count": 9,
   "metadata": {},
   "outputs": [
    {
     "name": "stdout",
     "output_type": "stream",
     "text": [
      "Submitted batch job 788075\n",
      "Submitted batch job 788076\n",
      "Submitted batch job 788077\n",
      "Submitted batch job 788078\n",
      "Submitted batch job 788079\n",
      "Submitted batch job 788080\n",
      "Submitted batch job 788081\n",
      "Submitted batch job 788082\n"
     ]
    }
   ],
   "source": [
    "%%bash\n",
    "sbatch stc_pyt_par_01.srm\n",
    "sbatch stc_pyt_par_04.srm\n",
    "sbatch stc_pyt_par_09.srm\n",
    "sbatch stc_pyt_par_16.srm\n",
    "sbatch stc_pyt_par_36.srm\n",
    "sbatch stc_pyt_par_49.srm\n",
    "sbatch stc_pyt_par_64.srm\n",
    "sbatch stc_pyt_par_81.srm"
   ]
  },
  {
   "cell_type": "code",
   "execution_count": 10,
   "metadata": {},
   "outputs": [
    {
     "name": "stdout",
     "output_type": "stream",
     "text": [
      "             JOBID PARTITION     NAME     USER ST       TIME  NODES NODELIST(REASON)\n",
      "            788070 cpu_small  stpypar eduardo. PD       0:00      3 (Resources)\n",
      "            788071 cpu_small  stpypar eduardo. PD       0:00      4 (Resources)\n",
      "            788068 cpu_small  stpypar eduardo. PD       0:00      2 (Resources)\n",
      "            788069 cpu_small  stpypar eduardo. PD       0:00      3 (Resources)\n",
      "            788067 cpu_small  stpypar eduardo. PD       0:00      1 (Resources)\n",
      "            788066 cpu_small  stpypar eduardo. PD       0:00      1 (Resources)\n",
      "            788064 cpu_small  stpypar eduardo. PD       0:00      1 (Resources)\n",
      "            788075 cpu_small  stpypar eduardo. PD       0:00      1 (Priority)\n",
      "            788077 cpu_small  stpypar eduardo. PD       0:00      1 (Priority)\n",
      "            788078 cpu_small  stpypar eduardo. PD       0:00      1 (Priority)\n",
      "            788079 cpu_small  stpypar eduardo. PD       0:00      2 (Priority)\n",
      "            788080 cpu_small  stpypar eduardo. PD       0:00      3 (Priority)\n",
      "            788081 cpu_small  stpypar eduardo. PD       0:00      3 (Priority)\n",
      "            788082 cpu_small  stpypar eduardo. PD       0:00      4 (Priority)\n",
      "            788076   cpu_dev  stpypar eduardo.  R       0:01      1 sdumont1064\n"
     ]
    }
   ],
   "source": [
    "! squeue -n stpypar"
   ]
  },
  {
   "cell_type": "code",
   "execution_count": 1,
   "metadata": {},
   "outputs": [
    {
     "name": "stdout",
     "output_type": "stream",
     "text": [
      "             JOBID PARTITION     NAME     USER ST       TIME  NODES NODELIST(REASON)\n"
     ]
    }
   ],
   "source": [
    "! squeue -n stpypar"
   ]
  },
  {
   "cell_type": "code",
   "execution_count": 2,
   "metadata": {},
   "outputs": [
    {
     "name": "stdout",
     "output_type": "stream",
     "text": [
      "========================================\n",
      "- Job ID: 788075\n",
      "- Tarefas por no:\n",
      "- Qtd. de nos: 1\n",
      "- Tot. de tarefas: 1\n",
      "- Nos alocados: sdumont1149\n",
      "- diretorio onde sbatch foi chamado ($SLURM_SUBMIT_DIR):\n",
      "/prj/ampemi/eduardo.miranda2/stnc/Python\n",
      "-- srun -------------------------------\n",
      "$ srun -n  1 sh calctemppar.sh\n",
      "Heat=1500.0000 | Tempo=227.2968 | MPISize=1 | Dim=[1, 1] | bx,by=4800,4800\n",
      "-- FIM --------------------------------\n",
      "========================================\n",
      "- Job ID: 788076\n",
      "- Tarefas por no:\n",
      "- Qtd. de nos: 1\n",
      "- Tot. de tarefas: 4\n",
      "- Nos alocados: sdumont1064\n",
      "- diretorio onde sbatch foi chamado ($SLURM_SUBMIT_DIR):\n",
      "/prj/ampemi/eduardo.miranda2/stnc/Python\n",
      "-- srun -------------------------------\n",
      "$ srun -n  4 python stc_pyt_par.py\n",
      "Heat=1500.0000 | Tempo=63.9705 | MPISize=4 | Dim=[2, 2] | bx,by=2400,2400\n",
      "-- FIM --------------------------------\n",
      "========================================\n",
      "- Job ID: 788077\n",
      "- Tarefas por no:\n",
      "- Qtd. de nos: 1\n",
      "- Tot. de tarefas: 9\n",
      "- Nos alocados: sdumont1149\n",
      "- diretorio onde sbatch foi chamado ($SLURM_SUBMIT_DIR):\n",
      "/prj/ampemi/eduardo.miranda2/stnc/Python\n",
      "-- srun -------------------------------\n",
      "$ srun -n  9 python stc_pyt_par.py\n",
      "Heat=1500.0000 | Tempo=44.6594 | MPISize=9 | Dim=[3, 3] | bx,by=1600,1600\n",
      "-- FIM --------------------------------\n",
      "========================================\n",
      "- Job ID: 788078\n",
      "- Tarefas por no:\n",
      "- Qtd. de nos: 1\n",
      "- Tot. de tarefas: 16\n",
      "- Nos alocados: sdumont1149\n",
      "- diretorio onde sbatch foi chamado ($SLURM_SUBMIT_DIR):\n",
      "/prj/ampemi/eduardo.miranda2/stnc/Python\n",
      "-- srun -------------------------------\n",
      "$ srun -n  16 python stc_pyt_par.py\n",
      "Heat=1500.0000 | Tempo=33.2159 | MPISize=16 | Dim=[4, 4] | bx,by=1200,1200\n",
      "-- FIM --------------------------------\n",
      "========================================\n",
      "- Job ID: 788079\n",
      "- Tarefas por no:\n",
      "- Qtd. de nos: 2\n",
      "- Tot. de tarefas: 36\n",
      "- Nos alocados: sdumont[1083,1149]\n",
      "- diretorio onde sbatch foi chamado ($SLURM_SUBMIT_DIR):\n",
      "/prj/ampemi/eduardo.miranda2/stnc/Python\n",
      "-- srun -------------------------------\n",
      "$ srun -n  36 python stc_pyt_par.py\n",
      "Heat=1500.0000 | Tempo=15.0927 | MPISize=36 | Dim=[6, 6] | bx,by=800,800\n",
      "-- FIM --------------------------------\n",
      "========================================\n",
      "- Job ID: 788080\n",
      "- Tarefas por no:\n",
      "- Qtd. de nos: 3\n",
      "- Tot. de tarefas: 49\n",
      "- Nos alocados: sdumont[1083,1149,1272]\n",
      "- diretorio onde sbatch foi chamado ($SLURM_SUBMIT_DIR):\n",
      "/prj/ampemi/eduardo.miranda2/stnc/Python\n",
      "-- srun -------------------------------\n",
      "$ srun -n  49 python stc_pyt_par.py\n",
      "Heat=1500.0000 | Tempo=10.4640 | MPISize=49 | Dim=[7, 7] | bx,by=685,685\n",
      "-- FIM --------------------------------\n",
      "========================================\n",
      "- Job ID: 788081\n",
      "- Tarefas por no:\n",
      "- Qtd. de nos: 3\n",
      "- Tot. de tarefas: 64\n",
      "- Nos alocados: sdumont[1083,1149,1272]\n",
      "- diretorio onde sbatch foi chamado ($SLURM_SUBMIT_DIR):\n",
      "/prj/ampemi/eduardo.miranda2/stnc/Python\n",
      "-- srun -------------------------------\n",
      "$ srun -n  64 python stc_pyt_par.py\n",
      "Heat=1500.0000 | Tempo=7.9329 | MPISize=64 | Dim=[8, 8] | bx,by=600,600\n",
      "-- FIM --------------------------------\n",
      "========================================\n",
      "- Job ID: 788082\n",
      "- Tarefas por no:\n",
      "- Qtd. de nos: 4\n",
      "- Tot. de tarefas: 81\n",
      "- Nos alocados: sdumont[1083,1149,1272,1391]\n",
      "- diretorio onde sbatch foi chamado ($SLURM_SUBMIT_DIR):\n",
      "/prj/ampemi/eduardo.miranda2/stnc/Python\n",
      "-- srun -------------------------------\n",
      "$ srun -n  81 python stc_pyt_par.py\n",
      "Heat=1500.0000 | Tempo=6.7310 | MPISize=81 | Dim=[9, 9] | bx,by=533,533\n",
      "-- FIM --------------------------------\n"
     ]
    }
   ],
   "source": [
    "%%bash\n",
    "# 1x1=1, 2x2=4, 3x3=9, 4x4=16, 6x6=36, 7x7=49, 8x8=64, 9x9=81\n",
    "d='/scratch/ampemi/eduardo.miranda2/stnc/Python'\n",
    "cat $d/slurm-788075.out    # 01\n",
    "cat $d/slurm-788076.out    # 04\n",
    "cat $d/slurm-788077.out    # 09\n",
    "cat $d/slurm-788078.out    # 16\n",
    "cat $d/slurm-788079.out    # 36\n",
    "cat $d/slurm-788080.out    # 49\n",
    "cat $d/slurm-788081.out    # 64\n",
    "cat $d/slurm-788082.out    # 81"
   ]
  },
  {
   "cell_type": "code",
   "execution_count": 11,
   "metadata": {},
   "outputs": [
    {
     "name": "stdout",
     "output_type": "stream",
     "text": [
      "48\n"
     ]
    }
   ],
   "source": [
    "! squeue -u eduardo.miranda2 | grep -c ^"
   ]
  },
  {
   "cell_type": "code",
   "execution_count": null,
   "metadata": {},
   "outputs": [],
   "source": []
  }
 ],
 "metadata": {
  "kernelspec": {
   "display_name": "Python 3 (ipykernel)",
   "language": "python",
   "name": "python3"
  },
  "language_info": {
   "codemirror_mode": {
    "name": "ipython",
    "version": 3
   },
   "file_extension": ".py",
   "mimetype": "text/x-python",
   "name": "python",
   "nbconvert_exporter": "python",
   "pygments_lexer": "ipython3",
   "version": "3.8.8"
  }
 },
 "nbformat": 4,
 "nbformat_minor": 4
}
