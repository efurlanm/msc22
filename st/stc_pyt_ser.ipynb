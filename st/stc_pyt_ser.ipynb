{
 "cells": [
  {
   "cell_type": "markdown",
   "metadata": {},
   "source": [
    "# Stencil Python Serial"
   ]
  },
  {
   "cell_type": "code",
   "execution_count": 1,
   "metadata": {},
   "outputs": [
    {
     "name": "stdout",
     "output_type": "stream",
     "text": [
      "3.7.3 | packaged by conda-forge | (default, Jul  1 2019, 21:52:21) \n",
      "[GCC 7.3.0]\n",
      "sys.version_info(major=3, minor=7, micro=3, releaselevel='final', serial=0)\n"
     ]
    }
   ],
   "source": [
    "import sys\n",
    "print (sys.version)\n",
    "print (sys.version_info)"
   ]
  },
  {
   "cell_type": "code",
   "execution_count": 2,
   "metadata": {},
   "outputs": [
    {
     "name": "stdout",
     "output_type": "stream",
     "text": [
      "blas_mkl_info:\n",
      "    libraries = ['mkl_rt', 'pthread']\n",
      "    library_dirs = ['/scratch/app/anaconda3/2018.12/lib']\n",
      "    define_macros = [('SCIPY_MKL_H', None), ('HAVE_CBLAS', None)]\n",
      "    include_dirs = ['/scratch/app/anaconda3/2018.12/include']\n",
      "blas_opt_info:\n",
      "    libraries = ['mkl_rt', 'pthread']\n",
      "    library_dirs = ['/scratch/app/anaconda3/2018.12/lib']\n",
      "    define_macros = [('SCIPY_MKL_H', None), ('HAVE_CBLAS', None)]\n",
      "    include_dirs = ['/scratch/app/anaconda3/2018.12/include']\n",
      "lapack_mkl_info:\n",
      "    libraries = ['mkl_rt', 'pthread']\n",
      "    library_dirs = ['/scratch/app/anaconda3/2018.12/lib']\n",
      "    define_macros = [('SCIPY_MKL_H', None), ('HAVE_CBLAS', None)]\n",
      "    include_dirs = ['/scratch/app/anaconda3/2018.12/include']\n",
      "lapack_opt_info:\n",
      "    libraries = ['mkl_rt', 'pthread']\n",
      "    library_dirs = ['/scratch/app/anaconda3/2018.12/lib']\n",
      "    define_macros = [('SCIPY_MKL_H', None), ('HAVE_CBLAS', None)]\n",
      "    include_dirs = ['/scratch/app/anaconda3/2018.12/include']\n"
     ]
    }
   ],
   "source": [
    "import numpy\n",
    "numpy.show_config()"
   ]
  },
  {
   "cell_type": "markdown",
   "metadata": {},
   "source": [
    "#### Versão sequencial"
   ]
  },
  {
   "cell_type": "code",
   "execution_count": 1,
   "metadata": {},
   "outputs": [
    {
     "name": "stdout",
     "output_type": "stream",
     "text": [
      "Heat = 1500.0000 | Tempo = 237.5668 s\n",
      "CPU times: user 2min 27s, sys: 1min 29s, total: 3min 57s\n",
      "Wall time: 4min 2s\n"
     ]
    }
   ],
   "source": [
    "%%time\n",
    "from time import time\n",
    "t = time()\n",
    "import numpy as np\n",
    "\n",
    "n            = 4800    # nxn grid (4800,1,500)=1500\n",
    "energy       = 1.0     # energy to be injected per iteration\n",
    "niters       = 500     # number of iterations\n",
    "\n",
    "size         = n + 2\n",
    "sizeEnd      = n + 1\n",
    "anew = aold  = np.zeros((size,  size), np.float64)\n",
    "nsources     = 3       # sources of energy\n",
    "sources      = np.empty((nsources, 2), np.int)\n",
    "sources[:,:] = [ [n//2, n//2], [n//3, n//3], [n*4//5, n*8//9] ]\n",
    "niters       = (niters+1) // 2\n",
    "\n",
    "for iters in range(niters):\n",
    "    anew[1:-1, 1:-1] =  ( aold[1:-1, 1:-1] / 2.0 + \n",
    "                        ( aold[2:  , 1:-1] + aold[ :-2, 1:-1] +\n",
    "                          aold[1:-1, 2:  ] + aold[1:-1,  :-2] ) / 8.0 )\n",
    "    anew[sources[0:nsources,0], sources[0:nsources,1]] += energy     \n",
    "    aold[1:-1, 1:-1] =  ( anew[1:-1, 1:-1] / 2.0 +\n",
    "                        ( anew[2:  , 1:-1] + anew[ :-2, 1:-1] +\n",
    "                          anew[1:-1, 2:  ] + anew[1:-1,  :-2] ) / 8.0 )\n",
    "    aold[sources[0:nsources,0], sources[0:nsources,1]] += energy   \n",
    "heat = np.sum( aold[1:sizeEnd, 1:sizeEnd] )  # system total heat\n",
    "\n",
    "t = time() - t\n",
    "print(\"Heat = %0.4f | Tempo = %0.4f s\" %(heat, t))"
   ]
  },
  {
   "cell_type": "markdown",
   "metadata": {},
   "source": [
    "### Gravando em um arquivo no disco"
   ]
  },
  {
   "cell_type": "code",
   "execution_count": 5,
   "metadata": {},
   "outputs": [
    {
     "name": "stdout",
     "output_type": "stream",
     "text": [
      "Overwriting stc_pyt_seq.py\n"
     ]
    }
   ],
   "source": [
    "%%writefile stc_pyt_seq.py\n",
    "from time import time\n",
    "t = time()\n",
    "import numpy as np\n",
    "\n",
    "n            = 4800    # nxn grid (4800,1,500)=1500\n",
    "energy       = 1.0     # energy to be injected per iteration\n",
    "niters       = 500     # number of iterations\n",
    "\n",
    "size         = n + 2\n",
    "sizeEnd      = n + 1\n",
    "anew = aold  = np.zeros((size,  size), np.float64)\n",
    "nsources     = 3       # sources of energy\n",
    "sources      = np.empty((nsources, 2), np.int)\n",
    "sources[:,:] = [ [n//2, n//2], [n//3, n//3], [n*4//5, n*8//9] ]\n",
    "niters       = (niters+1) // 2\n",
    "\n",
    "for iters in range(niters):\n",
    "    anew[1:-1, 1:-1] =  ( aold[1:-1, 1:-1] / 2.0 + \n",
    "                        ( aold[2:  , 1:-1] + aold[ :-2, 1:-1] +\n",
    "                          aold[1:-1, 2:  ] + aold[1:-1,  :-2] ) / 8.0 )\n",
    "    anew[sources[0:nsources,0], sources[0:nsources,1]] += energy     \n",
    "    aold[1:-1, 1:-1] =  ( anew[1:-1, 1:-1] / 2.0 +\n",
    "                        ( anew[2:  , 1:-1] + anew[ :-2, 1:-1] +\n",
    "                          anew[1:-1, 2:  ] + anew[1:-1,  :-2] ) / 8.0 )\n",
    "    aold[sources[0:nsources,0], sources[0:nsources,1]] += energy   \n",
    "heat = np.sum( aold[1:sizeEnd, 1:sizeEnd] )  # system total heat\n",
    "\n",
    "t = time() - t\n",
    "print(\"Heat = %0.4f | Tempo = %0.4f s\" %(heat, t))"
   ]
  },
  {
   "cell_type": "code",
   "execution_count": 1,
   "metadata": {},
   "outputs": [
    {
     "name": "stdout",
     "output_type": "stream",
     "text": [
      "Writing calctempo.sh\n"
     ]
    }
   ],
   "source": [
    "%%writefile calctempo.sh\n",
    "#!/bin/sh\n",
    "time python stc_pyt_seq.py"
   ]
  },
  {
   "cell_type": "markdown",
   "metadata": {},
   "source": [
    "### Testando o funcionamento"
   ]
  },
  {
   "cell_type": "code",
   "execution_count": 2,
   "metadata": {},
   "outputs": [
    {
     "name": "stdout",
     "output_type": "stream",
     "text": [
      "Heat = 1500.0000 | Tempo = 220.3673 s\n"
     ]
    },
    {
     "name": "stderr",
     "output_type": "stream",
     "text": [
      "\n",
      "real\t3m45.647s\n",
      "user\t2m21.746s\n",
      "sys\t1m18.986s\n"
     ]
    }
   ],
   "source": [
    "%%bash\n",
    "sh calctempo.sh"
   ]
  },
  {
   "cell_type": "markdown",
   "metadata": {},
   "source": [
    "### Copia para scratch"
   ]
  },
  {
   "cell_type": "code",
   "execution_count": 3,
   "metadata": {},
   "outputs": [],
   "source": [
    "%%bash\n",
    "s='/prj/ampemi/eduardo.miranda2/stnc/Python'\n",
    "d='/scratch/ampemi/eduardo.miranda2/stnc/Python'\n",
    "cp  $s/stc_pyt_seq.py $s/calctempo.sh $d"
   ]
  },
  {
   "cell_type": "markdown",
   "metadata": {},
   "source": [
    "### Arquivo de submissão"
   ]
  },
  {
   "cell_type": "code",
   "execution_count": 4,
   "metadata": {},
   "outputs": [
    {
     "name": "stdout",
     "output_type": "stream",
     "text": [
      "Overwriting stc_pyt_seq.srm\n"
     ]
    }
   ],
   "source": [
    "%%writefile stc_pyt_seq.srm\n",
    "#!/bin/bash\n",
    "# limites das filas (1,0 UA):\n",
    "#   cpu_dev  : 20 min.,  1-4  nós, 1/1   tarefas em exec/fila máximo\n",
    "#   cpu_small: 72 horas, 1-20 nós, 16/96 tarefas em exec/fila máximo\n",
    "#SBATCH -p cpu_small           #Fila (partition) a ser utilizada\n",
    "#SBATCH --ntasks=1             #Total de tarefas\n",
    "#SBATCH --nodes=1              #Qtd de nós\n",
    "#SBATCH --ntasks-per-node=1    #Qtd de tarefas por nó ($SLURM_NTASKS_PER_NODE)\n",
    "#SBATCH -J stpyseq             #Nome do job, 8 caracteres\n",
    "# #SBATCH --exclusive            #Utilização exclusiva dos nós\n",
    "#SBATCH --time=00:05:00        #Tempo max. de execução\n",
    "\n",
    "echo '========================================'\n",
    "echo '- Job ID:' $SLURM_JOB_ID\n",
    "echo '- Tarefas por no:' $SLURM_NTASKS_PER_NODE\n",
    "echo '- Qtd. de nos:' $SLURM_JOB_NUM_NODES\n",
    "echo '- Tot. de tarefas:' $SLURM_NTASKS\n",
    "echo '- Nos alocados:' $SLURM_JOB_NODELIST\n",
    "echo '- diretorio onde sbatch foi chamado ($SLURM_SUBMIT_DIR):'\n",
    "echo $SLURM_SUBMIT_DIR\n",
    "cd $SLURM_SUBMIT_DIR\n",
    "\n",
    "#Entra no diretório de trabalho\n",
    "cd /scratch/ampemi/eduardo.miranda2/stnc/Python\n",
    "\n",
    "#Executavel\n",
    "EXEC='sh calctempo.sh'\n",
    "\n",
    "#Dispara a execucao\n",
    "echo '-- srun -------------------------------'\n",
    "echo '$ srun -n ' $SLURM_NTASKS $EXEC\n",
    "srun -n $SLURM_NTASKS $EXEC\n",
    "echo '-- FIM --------------------------------'"
   ]
  },
  {
   "cell_type": "markdown",
   "metadata": {},
   "source": [
    "## Envia para execução"
   ]
  },
  {
   "cell_type": "code",
   "execution_count": 5,
   "metadata": {},
   "outputs": [
    {
     "name": "stdout",
     "output_type": "stream",
     "text": [
      "Submitted batch job 772572\n",
      "Submitted batch job 772573\n",
      "Submitted batch job 772574\n",
      "             JOBID PARTITION     NAME     USER ST       TIME  NODES NODELIST(REASON)\n",
      "            772572 cpu_small  stpyseq eduardo. PD       0:00      1 (Priority)\n",
      "            772573 cpu_small  stpyseq eduardo. PD       0:00      1 (Priority)\n",
      "            772574 cpu_small  stpyseq eduardo. PD       0:00      1 (Priority)\n"
     ]
    }
   ],
   "source": [
    "%%bash\n",
    "sbatch stc_pyt_seq.srm\n",
    "sbatch stc_pyt_seq.srm\n",
    "sbatch stc_pyt_seq.srm\n",
    "squeue -n stpyseq"
   ]
  },
  {
   "cell_type": "markdown",
   "metadata": {},
   "source": [
    "### Verifica se já terminou"
   ]
  },
  {
   "cell_type": "code",
   "execution_count": 7,
   "metadata": {},
   "outputs": [
    {
     "name": "stdout",
     "output_type": "stream",
     "text": [
      "             JOBID PARTITION     NAME     USER ST       TIME  NODES NODELIST(REASON)\n"
     ]
    }
   ],
   "source": [
    "%%bash\n",
    "squeue -n stpyseq"
   ]
  },
  {
   "cell_type": "markdown",
   "metadata": {},
   "source": [
    "### Mostra os arquivos de saída"
   ]
  },
  {
   "cell_type": "code",
   "execution_count": 8,
   "metadata": {},
   "outputs": [
    {
     "name": "stdout",
     "output_type": "stream",
     "text": [
      "========================================\n",
      "- Job ID: 772572\n",
      "- Tarefas por no: 1\n",
      "- Qtd. de nos: 1\n",
      "- Tot. de tarefas: 1\n",
      "- Nos alocados: sdumont1405\n",
      "- diretorio onde sbatch foi chamado ($SLURM_SUBMIT_DIR):\n",
      "/prj/ampemi/eduardo.miranda2/stnc/Python\n",
      "-- srun -------------------------------\n",
      "$ srun -n  1 sh calctempo.sh\n",
      "Heat = 1500.0000 | Tempo = 225.1292 s\n",
      "\n",
      "real\t3m46.153s\n",
      "user\t2m56.529s\n",
      "sys\t0m48.873s\n",
      "-- FIM --------------------------------\n",
      "========================================\n",
      "- Job ID: 772573\n",
      "- Tarefas por no: 1\n",
      "- Qtd. de nos: 1\n",
      "- Tot. de tarefas: 1\n",
      "- Nos alocados: sdumont1306\n",
      "- diretorio onde sbatch foi chamado ($SLURM_SUBMIT_DIR):\n",
      "/prj/ampemi/eduardo.miranda2/stnc/Python\n",
      "-- srun -------------------------------\n",
      "$ srun -n  1 sh calctempo.sh\n",
      "Heat = 1500.0000 | Tempo = 187.1582 s\n",
      "\n",
      "real\t3m7.998s\n",
      "user\t2m24.770s\n",
      "sys\t0m42.647s\n",
      "-- FIM --------------------------------\n",
      "========================================\n",
      "- Job ID: 772574\n",
      "- Tarefas por no: 1\n",
      "- Qtd. de nos: 1\n",
      "- Tot. de tarefas: 1\n",
      "- Nos alocados: sdumont1405\n",
      "- diretorio onde sbatch foi chamado ($SLURM_SUBMIT_DIR):\n",
      "/prj/ampemi/eduardo.miranda2/stnc/Python\n",
      "-- srun -------------------------------\n",
      "$ srun -n  1 sh calctempo.sh\n",
      "Heat = 1500.0000 | Tempo = 224.9971 s\n",
      "\n",
      "real\t3m45.835s\n",
      "user\t2m56.777s\n",
      "sys\t0m48.489s\n",
      "-- FIM --------------------------------\n"
     ]
    }
   ],
   "source": [
    "%%bash\n",
    "b='/stnc/Python'\n",
    "d='/scratch/ampemi/eduardo.miranda2/'$b\n",
    "cat $d/slurm-772572.out\n",
    "cat $d/slurm-772573.out\n",
    "cat $d/slurm-772574.out"
   ]
  },
  {
   "cell_type": "code",
   "execution_count": 1,
   "metadata": {},
   "outputs": [
    {
     "name": "stdout",
     "output_type": "stream",
     "text": [
      "Submitted batch job 772188\n",
      "Submitted batch job 772189\n",
      "             JOBID PARTITION     NAME     USER ST       TIME  NODES NODELIST(REASON)\n",
      "            772188 cpu_small  stpyseq eduardo. PD       0:00      1 (Priority)\n",
      "            772189 cpu_small  stpyseq eduardo. PD       0:00      1 (Priority)\n"
     ]
    }
   ],
   "source": [
    "%%bash\n",
    "sbatch stc_pyt_seq.srm\n",
    "sbatch stc_pyt_seq.srm\n",
    "squeue -n stpyseq"
   ]
  },
  {
   "cell_type": "code",
   "execution_count": 2,
   "metadata": {},
   "outputs": [
    {
     "name": "stdout",
     "output_type": "stream",
     "text": [
      "             JOBID PARTITION     NAME     USER ST       TIME  NODES NODELIST(REASON)\n",
      "            772188 cpu_small  stpyseq eduardo. PD       0:00      1 (Resources)\n",
      "            772189 cpu_small  stpyseq eduardo. PD       0:00      1 (Resources)\n"
     ]
    }
   ],
   "source": [
    "%%bash\n",
    "squeue -n stpyseq"
   ]
  }
 ],
 "metadata": {
  "kernelspec": {
   "display_name": "Python 3 (ipykernel)",
   "language": "python",
   "name": "python3"
  },
  "language_info": {
   "codemirror_mode": {
    "name": "ipython",
    "version": 3
   },
   "file_extension": ".py",
   "mimetype": "text/x-python",
   "name": "python",
   "nbconvert_exporter": "python",
   "pygments_lexer": "ipython3",
   "version": "3.8.8"
  }
 },
 "nbformat": 4,
 "nbformat_minor": 4
}
