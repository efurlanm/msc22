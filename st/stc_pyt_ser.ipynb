{
 "cells": [
  {
   "cell_type": "markdown",
   "metadata": {},
   "source": [
    "# Stencil Python Serial"
   ]
  },
  {
   "cell_type": "markdown",
   "metadata": {},
   "source": [
    "Write the code to a file on disk:"
   ]
  },
  {
   "cell_type": "code",
   "execution_count": 5,
   "metadata": {},
   "outputs": [
    {
     "name": "stdout",
     "output_type": "stream",
     "text": [
      "Overwriting stc_pyt_seq.py\n"
     ]
    }
   ],
   "source": [
    "%%writefile stc_pyt_seq.py\n",
    "from time import time\n",
    "t = time()\n",
    "import numpy as np\n",
    "\n",
    "n            = 4800    # nxn grid (4800,1,500)=1500\n",
    "energy       = 1.0     # energy to be injected per iteration\n",
    "niters       = 500     # number of iterations\n",
    "\n",
    "size         = n + 2\n",
    "sizeEnd      = n + 1\n",
    "anew = aold  = np.zeros((size,  size), np.float64)\n",
    "nsources     = 3       # sources of energy\n",
    "sources      = np.empty((nsources, 2), np.int)\n",
    "sources[:,:] = [ [n//2, n//2], [n//3, n//3], [n*4//5, n*8//9] ]\n",
    "niters       = (niters+1) // 2\n",
    "\n",
    "for iters in range(niters):\n",
    "    anew[1:-1, 1:-1] =  ( aold[1:-1, 1:-1] / 2.0 + \n",
    "                        ( aold[2:  , 1:-1] + aold[ :-2, 1:-1] +\n",
    "                          aold[1:-1, 2:  ] + aold[1:-1,  :-2] ) / 8.0 )\n",
    "    anew[sources[0:nsources,0], sources[0:nsources,1]] += energy     \n",
    "    aold[1:-1, 1:-1] =  ( anew[1:-1, 1:-1] / 2.0 +\n",
    "                        ( anew[2:  , 1:-1] + anew[ :-2, 1:-1] +\n",
    "                          anew[1:-1, 2:  ] + anew[1:-1,  :-2] ) / 8.0 )\n",
    "    aold[sources[0:nsources,0], sources[0:nsources,1]] += energy   \n",
    "heat = np.sum( aold[1:sizeEnd, 1:sizeEnd] )  # system total heat\n",
    "\n",
    "t = time() - t\n",
    "print(\"Heat = %0.4f | Tempo = %0.4f s\" %(heat, t))"
   ]
  },
  {
   "cell_type": "markdown",
   "metadata": {},
   "source": [
    "Shell script to run Python code and also measure time using operating system time command:"
   ]
  },
  {
   "cell_type": "code",
   "execution_count": 1,
   "metadata": {},
   "outputs": [
    {
     "name": "stdout",
     "output_type": "stream",
     "text": [
      "Writing scriptshell.sh\n"
     ]
    }
   ],
   "source": [
    "%%writefile scriptshell.sh\n",
    "#!/bin/sh\n",
    "time python stc_pyt_seq.py"
   ]
  },
  {
   "cell_type": "markdown",
   "metadata": {},
   "source": [
    "Check if it's running ok:"
   ]
  },
  {
   "cell_type": "code",
   "execution_count": 2,
   "metadata": {},
   "outputs": [
    {
     "name": "stdout",
     "output_type": "stream",
     "text": [
      "Heat = 1500.0000 | Tempo = 220.3673 s\n"
     ]
    },
    {
     "name": "stderr",
     "output_type": "stream",
     "text": [
      "\n",
      "real\t3m45.647s\n",
      "user\t2m21.746s\n",
      "sys\t1m18.986s\n"
     ]
    }
   ],
   "source": [
    "%%bash\n",
    "sh scriptshell.sh"
   ]
  },
  {
   "cell_type": "markdown",
   "metadata": {},
   "source": [
    "Copy to the scratch area the files that will be executed in the execution nodes:"
   ]
  },
  {
   "cell_type": "code",
   "execution_count": 3,
   "metadata": {},
   "outputs": [],
   "source": [
    "%%bash\n",
    "s='/prj/ampemi/xxxx.xxxx/stnc/Python'\n",
    "d='/scratch/ampemi/xxxx.xxxx/stnc/Python'\n",
    "cp  $s/stc_pyt_seq.py $s/scriptshell.sh $d"
   ]
  },
  {
   "cell_type": "markdown",
   "metadata": {},
   "source": [
    "Slurm batch script:"
   ]
  },
  {
   "cell_type": "code",
   "execution_count": 4,
   "metadata": {},
   "outputs": [
    {
     "name": "stdout",
     "output_type": "stream",
     "text": [
      "Overwriting stc_pyt_seq.srm\n"
     ]
    }
   ],
   "source": [
    "%%writefile stc_pyt_seq.srm\n",
    "#!/bin/bash\n",
    "#SBATCH -p cpu_small           # Select partition\n",
    "#SBATCH --ntasks=1             # Total tasks(CPUs)\n",
    "#SBATCH --nodes=1              # Number of nodes\n",
    "#SBATCH --ntasks-per-node=1    # Number of tasks per node\n",
    "#SBATCH -J stpyseq             # Job name\n",
    "# #SBATCH --exclusive            # Exclusive acccess to nodes\n",
    "#SBATCH --time=00:05:00        # Limit execution time\n",
    "\n",
    "echo '========================================'\n",
    "echo '- Job ID:' $SLURM_JOB_ID\n",
    "echo '- Tasks per node:' $SLURM_NTASKS_PER_NODE\n",
    "echo '- Number of nodes:' $SLURM_JOB_NUM_NODES\n",
    "echo '- Total tasks:' $SLURM_NTASKS\n",
    "echo '- Nodes alocated:' $SLURM_JOB_NODELIST\n",
    "echo '- Directory where sbatch was called ($SLURM_SUBMIT_DIR):'\n",
    "echo $SLURM_SUBMIT_DIR\n",
    "cd $SLURM_SUBMIT_DIR\n",
    "\n",
    "# Working dir\n",
    "cd /scratch/ampemi/xxxx.xxxx/stnc/Python\n",
    "\n",
    "# Executable\n",
    "EXEC='sh scriptshell.sh'\n",
    "\n",
    "# Run\n",
    "echo '-- srun -------------------------------'\n",
    "echo '$ srun -n ' $SLURM_NTASKS $EXEC\n",
    "srun -n $SLURM_NTASKS $EXEC\n",
    "echo '-- END --------------------------------'"
   ]
  },
  {
   "cell_type": "markdown",
   "metadata": {},
   "source": [
    "<hr style=\"height:10px;border-width:0;background-color:green\">"
   ]
  },
  {
   "cell_type": "markdown",
   "metadata": {},
   "source": [
    "Submit the batch script to Slurm, 3 times:"
   ]
  },
  {
   "cell_type": "code",
   "execution_count": 5,
   "metadata": {},
   "outputs": [
    {
     "name": "stdout",
     "output_type": "stream",
     "text": [
      "Submitted batch job 772572\n",
      "Submitted batch job 772573\n",
      "Submitted batch job 772574\n",
      "             JOBID PARTITION     NAME     USER ST       TIME  NODES NODELIST(REASON)\n",
      "            772572 cpu_small  stpyseq xxxx. PD       0:00      1 (Priority)\n",
      "            772573 cpu_small  stpyseq xxxx. PD       0:00      1 (Priority)\n",
      "            772574 cpu_small  stpyseq xxxx. PD       0:00      1 (Priority)\n"
     ]
    }
   ],
   "source": [
    "%%bash\n",
    "sbatch stc_pyt_seq.srm\n",
    "sbatch stc_pyt_seq.srm\n",
    "sbatch stc_pyt_seq.srm\n",
    "squeue -n stpyseq"
   ]
  },
  {
   "cell_type": "markdown",
   "metadata": {},
   "source": [
    "Check if it's finished:"
   ]
  },
  {
   "cell_type": "markdown",
   "metadata": {},
   "source": [
    "Shows the files containing the outputs:"
   ]
  },
  {
   "cell_type": "code",
   "execution_count": 8,
   "metadata": {},
   "outputs": [
    {
     "name": "stdout",
     "output_type": "stream",
     "text": [
      "========================================\n",
      "- Job ID: 772572\n",
      "- Tasks per node: 1\n",
      "- Number of nodes: 1\n",
      "- Total tasks: 1\n",
      "- Nodes alocated: sdumont1405\n",
      "- Directory where sbatch was called ($SLURM_SUBMIT_DIR):\n",
      "/prj/ampemi/xxxx.xxxx/stnc/Python\n",
      "-- srun -------------------------------\n",
      "$ srun -n  1 sh scriptshell.sh\n",
      "Heat = 1500.0000 | Tempo = 225.1292 s\n",
      "\n",
      "real\t3m46.153s\n",
      "user\t2m56.529s\n",
      "sys\t0m48.873s\n",
      "-- END --------------------------------\n",
      "========================================\n",
      "- Job ID: 772573\n",
      "- Tasks per node: 1\n",
      "- Number of nodes: 1\n",
      "- Total tasks: 1\n",
      "- Nodes alocated: sdumont1306\n",
      "- Directory where sbatch was called ($SLURM_SUBMIT_DIR):\n",
      "/prj/ampemi/xxxx.xxxx/stnc/Python\n",
      "-- srun -------------------------------\n",
      "$ srun -n  1 sh scriptshell.sh\n",
      "Heat = 1500.0000 | Tempo = 187.1582 s\n",
      "\n",
      "real\t3m7.998s\n",
      "user\t2m24.770s\n",
      "sys\t0m42.647s\n",
      "-- END --------------------------------\n",
      "========================================\n",
      "- Job ID: 772574\n",
      "- Tasks per node: 1\n",
      "- Number of nodes: 1\n",
      "- Total tasks: 1\n",
      "- Nodes alocated: sdumont1405\n",
      "- Directory where sbatch was called ($SLURM_SUBMIT_DIR):\n",
      "/prj/ampemi/xxxx.xxxx/stnc/Python\n",
      "-- srun -------------------------------\n",
      "$ srun -n  1 sh scriptshell.sh\n",
      "Heat = 1500.0000 | Tempo = 224.9971 s\n",
      "\n",
      "real\t3m45.835s\n",
      "user\t2m56.777s\n",
      "sys\t0m48.489s\n",
      "-- END --------------------------------\n"
     ]
    }
   ],
   "source": [
    "%%bash\n",
    "b='/stnc/Python'\n",
    "d='/scratch/ampemi/xxxx.xxxx/'$b\n",
    "cat $d/slurm-772572.out\n",
    "cat $d/slurm-772573.out\n",
    "cat $d/slurm-772574.out"
   ]
  },
  {
   "cell_type": "markdown",
   "metadata": {},
   "source": [
    "<hr style=\"height:10px;border-width:0;background-color:red\">"
   ]
  },
  {
   "cell_type": "markdown",
   "metadata": {
    "tags": []
   },
   "source": [
    "## Version"
   ]
  },
  {
   "cell_type": "code",
   "execution_count": 1,
   "metadata": {},
   "outputs": [
    {
     "name": "stdout",
     "output_type": "stream",
     "text": [
      "3.7.3 | packaged by conda-forge | (default, Jul  1 2019, 21:52:21) \n",
      "[GCC 7.3.0]\n",
      "sys.version_info(major=3, minor=7, micro=3, releaselevel='final', serial=0)\n"
     ]
    }
   ],
   "source": [
    "import sys\n",
    "print (sys.version)\n",
    "print (sys.version_info)"
   ]
  },
  {
   "cell_type": "code",
   "execution_count": 2,
   "metadata": {},
   "outputs": [
    {
     "name": "stdout",
     "output_type": "stream",
     "text": [
      "blas_mkl_info:\n",
      "    libraries = ['mkl_rt', 'pthread']\n",
      "    library_dirs = ['/scratch/app/anaconda3/2018.12/lib']\n",
      "    define_macros = [('SCIPY_MKL_H', None), ('HAVE_CBLAS', None)]\n",
      "    include_dirs = ['/scratch/app/anaconda3/2018.12/include']\n",
      "blas_opt_info:\n",
      "    libraries = ['mkl_rt', 'pthread']\n",
      "    library_dirs = ['/scratch/app/anaconda3/2018.12/lib']\n",
      "    define_macros = [('SCIPY_MKL_H', None), ('HAVE_CBLAS', None)]\n",
      "    include_dirs = ['/scratch/app/anaconda3/2018.12/include']\n",
      "lapack_mkl_info:\n",
      "    libraries = ['mkl_rt', 'pthread']\n",
      "    library_dirs = ['/scratch/app/anaconda3/2018.12/lib']\n",
      "    define_macros = [('SCIPY_MKL_H', None), ('HAVE_CBLAS', None)]\n",
      "    include_dirs = ['/scratch/app/anaconda3/2018.12/include']\n",
      "lapack_opt_info:\n",
      "    libraries = ['mkl_rt', 'pthread']\n",
      "    library_dirs = ['/scratch/app/anaconda3/2018.12/lib']\n",
      "    define_macros = [('SCIPY_MKL_H', None), ('HAVE_CBLAS', None)]\n",
      "    include_dirs = ['/scratch/app/anaconda3/2018.12/include']\n"
     ]
    }
   ],
   "source": [
    "import numpy\n",
    "numpy.show_config()"
   ]
  }
 ],
 "metadata": {
  "kernelspec": {
   "display_name": "Python 3 (ipykernel)",
   "language": "python",
   "name": "python3"
  },
  "language_info": {
   "codemirror_mode": {
    "name": "ipython",
    "version": 3
   },
   "file_extension": ".py",
   "mimetype": "text/x-python",
   "name": "python",
   "nbconvert_exporter": "python",
   "pygments_lexer": "ipython3",
   "version": "3.8.13"
  }
 },
 "nbformat": 4,
 "nbformat_minor": 4
}
