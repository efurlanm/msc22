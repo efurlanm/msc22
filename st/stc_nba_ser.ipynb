{
 "cells": [
  {
   "cell_type": "markdown",
   "metadata": {},
   "source": [
    "# Stencil Numba Serial"
   ]
  },
  {
   "cell_type": "code",
   "execution_count": 1,
   "metadata": {},
   "outputs": [
    {
     "name": "stdout",
     "output_type": "stream",
     "text": [
      "Overwriting st-nu-seq.py\n"
     ]
    }
   ],
   "source": [
    "%%writefile st-nu-seq.py\n",
    "import numpy as np\n",
    "from numba import jit, config, prange\n",
    "from time import time\n",
    "\n",
    "config.DUMP_ASSEMBLY = 0\n",
    "config.NUMBA_ENABLE_AVX = 1\n",
    "config.NUMBA_NUM_THREADS = 1\n",
    "\n",
    "@jit('(float64[:,:],float64[:,:])', nopython=True, parallel=True, nogil=True) \n",
    "def kernel_seq(anew, aold) :\n",
    "    anew[1:-1, 1:-1] = ( aold[1:-1, 1:-1] * 0.5 + \n",
    "                       ( aold[2:  , 1:-1] + aold[ :-2, 1:-1] +\n",
    "                         aold[1:-1, 2:  ] + aold[1:-1,  :-2] ) * 0.125 )\n",
    "\n",
    "n            = 4800    # nxn grid (4800,1,500)=1500; (4800,1,5)=12\n",
    "energy       = 1.0     # energy to be injected per iteration\n",
    "niters       = 500     # number of iterations\n",
    "nsources     = 3       # sources of energy\n",
    "size         = n + 2\n",
    "sizeEnd      = n + 1\n",
    "heat         = np.zeros((1), np.float64)     # system total heat\n",
    "anew         = np.zeros((size,  size), np.float64)\n",
    "aold         = np.zeros((size,  size), np.float64)\n",
    "sources      = np.empty((nsources, 2), np.int16)\n",
    "sources[:,:] = [ [n//2, n//2], [n//3, n//3], [n*4//5, n*8//9] ]\n",
    "niters       = (niters + 1) // 2\n",
    "\n",
    "t0 = time()\n",
    "for iters in range(niters) :\n",
    "    kernel_seq(anew, aold)\n",
    "    for i in range(nsources) :\n",
    "        anew[sources[i, 0], sources[i, 1]] += energy\n",
    "    kernel_seq(aold, anew)\n",
    "    for i in range(nsources) :\n",
    "        aold[sources[i, 0], sources[i, 1]] += energy\n",
    "\n",
    "heat[0] = np.sum( aold[1:-1, 1:-1] )  # system total heat\n",
    "t0 = time() - t0\n",
    "\n",
    "print(\"Heat = %0.4f | Tempo = %0.4f | Thread count = %s\" %\n",
    "      (heat[0], t0, config.NUMBA_NUM_THREADS))"
   ]
  },
  {
   "cell_type": "code",
   "execution_count": 2,
   "metadata": {},
   "outputs": [
    {
     "name": "stdout",
     "output_type": "stream",
     "text": [
      "-rw-r--r-- 1 xxxx.xxxx ampemi 1.5K Nov 24 20:24 /scratch/ampemi/xxxx.xxxx/stnc/Numba/st-nu-seq.py\n"
     ]
    }
   ],
   "source": [
    "%%bash\n",
    "a='st-nu-seq.py'\n",
    "s='/prj/ampemi/xxxx.xxxx/stnc/Numba'\n",
    "d='/scratch/ampemi/xxxx.xxxx/stnc/Numba'\n",
    "cp  $s/$a  $d\n",
    "ls -lh $d/$a"
   ]
  },
  {
   "cell_type": "code",
   "execution_count": 3,
   "metadata": {},
   "outputs": [
    {
     "name": "stdout",
     "output_type": "stream",
     "text": [
      "Overwriting st-nu-seq.srm\n"
     ]
    }
   ],
   "source": [
    "%%writefile st-nu-seq.srm\n",
    "#!/bin/bash\n",
    "#SBATCH --ntasks=1             # Total tasks(CPUs)\n",
    "#SBATCH -p cpu_small           # Select partition\n",
    "#SBATCH -J stnuseq             # Job name\n",
    "#SBATCH --time=00:05:00        # Limit execution time\n",
    "\n",
    "echo '========================================'\n",
    "echo '- Job ID:' $SLURM_JOB_ID\n",
    "echo '- Tasks per node:' $SLURM_NTASKS_PER_NODE\n",
    "echo '- Number of nodes:' $SLURM_JOB_NUM_NODES\n",
    "echo '- Total tasks:' $SLURM_NTASKS\n",
    "echo '- Nodes alocated:' $SLURM_JOB_NODELIST\n",
    "echo '- Directory where sbatch was called ($SLURM_SUBMIT_DIR):'\n",
    "echo $SLURM_SUBMIT_DIR\n",
    "cd $SLURM_SUBMIT_DIR\n",
    "nodeset -e $SLURM_JOB_NODELIST\n",
    "\n",
    "# Working dir\n",
    "cd /scratch/ampemi/xxxx.xxxx/stnc/Numba\n",
    "\n",
    "# Module\n",
    "module load anaconda3/2018.12\n",
    "\n",
    "# Executable\n",
    "EXEC='python st-nu-seq.py'\n",
    "\n",
    "# RUN\n",
    "echo '-- srun -------------------------------'\n",
    "echo '$ srun --mpi=pmi2 -n' $SLURM_NTASKS $EXEC\n",
    "srun --mpi=pmi2 -n $SLURM_NTASKS $EXEC\n",
    "echo '-- END --------------------------------'"
   ]
  },
  {
   "cell_type": "markdown",
   "metadata": {},
   "source": [
    "<hr style=\"height:10px;border-width:0;background-color:green\">"
   ]
  },
  {
   "cell_type": "code",
   "execution_count": 4,
   "metadata": {},
   "outputs": [
    {
     "name": "stdout",
     "output_type": "stream",
     "text": [
      "Submitted batch job 781495\n"
     ]
    }
   ],
   "source": [
    "%%bash\n",
    "sbatch st-nu-seq.srm"
   ]
  },
  {
   "cell_type": "code",
   "execution_count": 5,
   "metadata": {},
   "outputs": [
    {
     "name": "stdout",
     "output_type": "stream",
     "text": [
      "             JOBID PARTITION     NAME     USER ST       TIME  NODES NODELIST(REASON)\n",
      "            781495 cpu_small  stnuseq xxxx. PD       0:00      1 (Priority)\n"
     ]
    }
   ],
   "source": [
    "! squeue -n stnuseq"
   ]
  },
  {
   "cell_type": "code",
   "execution_count": 9,
   "metadata": {},
   "outputs": [
    {
     "name": "stdout",
     "output_type": "stream",
     "text": [
      "========================================\n",
      "- Job ID: 781495\n",
      "- Tasks per node:\n",
      "- Number of nodes: 1\n",
      "- Total tasks: 1\n",
      "- Nodes alocated: sdumont1279\n",
      "- Directory where sbatch was called ($SLURM_SUBMIT_DIR):\n",
      "/prj/ampemi/xxxx.xxxx/stnc/Numba\n",
      "sdumont1279\n",
      "-- srun -------------------------------\n",
      "$ srun --mpi=pmi2 -n 1 python st-nu-seq.py\n",
      "Heat = 1500.0000 | Tempo = 30.3982 | Thread count = 1\n",
      "-- END --------------------------------\n"
     ]
    }
   ],
   "source": [
    "%%bash\n",
    "d='/scratch/ampemi/xxxx.xxxx/stnc/Numba'\n",
    "cat $d/slurm-781495.out"
   ]
  },
  {
   "cell_type": "code",
   "execution_count": 1,
   "metadata": {},
   "outputs": [
    {
     "name": "stdout",
     "output_type": "stream",
     "text": [
      "Submitted batch job 788104\n",
      "Submitted batch job 788105\n"
     ]
    }
   ],
   "source": [
    "%%bash\n",
    "sbatch st-nu-seq.srm\n",
    "sbatch st-nu-seq.srm"
   ]
  },
  {
   "cell_type": "code",
   "execution_count": 2,
   "metadata": {},
   "outputs": [
    {
     "name": "stdout",
     "output_type": "stream",
     "text": [
      "             JOBID PARTITION     NAME     USER ST       TIME  NODES NODELIST(REASON)\n",
      "            788104 cpu_small  stnuseq xxxx. PD       0:00      1 (Priority)\n",
      "            788105 cpu_small  stnuseq xxxx. PD       0:00      1 (Priority)\n"
     ]
    }
   ],
   "source": [
    "! squeue -n stnuseq"
   ]
  },
  {
   "cell_type": "code",
   "execution_count": 2,
   "metadata": {},
   "outputs": [
    {
     "name": "stdout",
     "output_type": "stream",
     "text": [
      "========================================\n",
      "- Job ID: 788104\n",
      "- Tasks per node:\n",
      "- Number of nodes: 1\n",
      "- Total tasks: 1\n",
      "- Nodes alocated: sdumont1149\n",
      "- Directory where sbatch was called ($SLURM_SUBMIT_DIR):\n",
      "/prj/ampemi/xxxx.xxxx/stnc/Numba\n",
      "sdumont1149\n",
      "-- srun -------------------------------\n",
      "$ srun --mpi=pmi2 -n 1 python st-nu-seq.py\n",
      "Heat = 1500.0000 | Tempo = 30.5014 | Thread count = 1\n",
      "-- END --------------------------------\n",
      "========================================\n",
      "- Job ID: 788105\n",
      "- Tasks per node:\n",
      "- Number of nodes: 1\n",
      "- Total tasks: 1\n",
      "- Nodes alocated: sdumont1149\n",
      "- Directory where sbatch was called ($SLURM_SUBMIT_DIR):\n",
      "/prj/ampemi/xxxx.xxxx/stnc/Numba\n",
      "sdumont1149\n",
      "-- srun -------------------------------\n",
      "$ srun --mpi=pmi2 -n 1 python st-nu-seq.py\n",
      "Heat = 1500.0000 | Tempo = 30.5266 | Thread count = 1\n",
      "-- END --------------------------------\n"
     ]
    }
   ],
   "source": [
    "%%bash\n",
    "d='/scratch/ampemi/xxxx.xxxx/stnc/Numba'\n",
    "cat $d/slurm-788104.out\n",
    "cat $d/slurm-788105.out"
   ]
  },
  {
   "cell_type": "markdown",
   "metadata": {},
   "source": [
    "<hr style=\"height:10px;border-width:0;background-color:red\">"
   ]
  },
  {
   "cell_type": "markdown",
   "metadata": {},
   "source": [
    "## Version"
   ]
  },
  {
   "cell_type": "code",
   "execution_count": 1,
   "metadata": {},
   "outputs": [
    {
     "name": "stdout",
     "output_type": "stream",
     "text": [
      "Python 3.7.3\n"
     ]
    }
   ],
   "source": [
    "! python --version"
   ]
  },
  {
   "cell_type": "code",
   "execution_count": 2,
   "metadata": {},
   "outputs": [
    {
     "name": "stdout",
     "output_type": "stream",
     "text": [
      "0.41.0\n"
     ]
    }
   ],
   "source": [
    "import numba\n",
    "print(numba.__version__)"
   ]
  },
  {
   "cell_type": "code",
   "execution_count": 4,
   "metadata": {},
   "outputs": [
    {
     "name": "stdout",
     "output_type": "stream",
     "text": [
      "blas_mkl_info:\n",
      "    libraries = ['mkl_rt', 'pthread']\n",
      "    library_dirs = ['/scratch/app/anaconda3/2018.12/lib']\n",
      "    define_macros = [('SCIPY_MKL_H', None), ('HAVE_CBLAS', None)]\n",
      "    include_dirs = ['/scratch/app/anaconda3/2018.12/include']\n",
      "blas_opt_info:\n",
      "    libraries = ['mkl_rt', 'pthread']\n",
      "    library_dirs = ['/scratch/app/anaconda3/2018.12/lib']\n",
      "    define_macros = [('SCIPY_MKL_H', None), ('HAVE_CBLAS', None)]\n",
      "    include_dirs = ['/scratch/app/anaconda3/2018.12/include']\n",
      "lapack_mkl_info:\n",
      "    libraries = ['mkl_rt', 'pthread']\n",
      "    library_dirs = ['/scratch/app/anaconda3/2018.12/lib']\n",
      "    define_macros = [('SCIPY_MKL_H', None), ('HAVE_CBLAS', None)]\n",
      "    include_dirs = ['/scratch/app/anaconda3/2018.12/include']\n",
      "lapack_opt_info:\n",
      "    libraries = ['mkl_rt', 'pthread']\n",
      "    library_dirs = ['/scratch/app/anaconda3/2018.12/lib']\n",
      "    define_macros = [('SCIPY_MKL_H', None), ('HAVE_CBLAS', None)]\n",
      "    include_dirs = ['/scratch/app/anaconda3/2018.12/include']\n"
     ]
    }
   ],
   "source": [
    "import numpy\n",
    "numpy.show_config()"
   ]
  }
 ],
 "metadata": {
  "kernelspec": {
   "display_name": "Python 3 (ipykernel)",
   "language": "python",
   "name": "python3"
  },
  "language_info": {
   "codemirror_mode": {
    "name": "ipython",
    "version": 3
   },
   "file_extension": ".py",
   "mimetype": "text/x-python",
   "name": "python",
   "nbconvert_exporter": "python",
   "pygments_lexer": "ipython3",
   "version": "3.8.13"
  }
 },
 "nbformat": 4,
 "nbformat_minor": 4
}
