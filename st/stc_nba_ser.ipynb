{
 "cells": [
  {
   "cell_type": "markdown",
   "metadata": {},
   "source": [
    "# Stencil Numba Serial"
   ]
  },
  {
   "cell_type": "code",
   "execution_count": 1,
   "metadata": {},
   "outputs": [
    {
     "name": "stdout",
     "output_type": "stream",
     "text": [
      "Python 3.7.3\n"
     ]
    }
   ],
   "source": [
    "! python --version"
   ]
  },
  {
   "cell_type": "code",
   "execution_count": 2,
   "metadata": {},
   "outputs": [
    {
     "name": "stdout",
     "output_type": "stream",
     "text": [
      "0.41.0\n"
     ]
    }
   ],
   "source": [
    "import numba\n",
    "print(numba.__version__)"
   ]
  },
  {
   "cell_type": "code",
   "execution_count": 4,
   "metadata": {},
   "outputs": [
    {
     "name": "stdout",
     "output_type": "stream",
     "text": [
      "blas_mkl_info:\n",
      "    libraries = ['mkl_rt', 'pthread']\n",
      "    library_dirs = ['/scratch/app/anaconda3/2018.12/lib']\n",
      "    define_macros = [('SCIPY_MKL_H', None), ('HAVE_CBLAS', None)]\n",
      "    include_dirs = ['/scratch/app/anaconda3/2018.12/include']\n",
      "blas_opt_info:\n",
      "    libraries = ['mkl_rt', 'pthread']\n",
      "    library_dirs = ['/scratch/app/anaconda3/2018.12/lib']\n",
      "    define_macros = [('SCIPY_MKL_H', None), ('HAVE_CBLAS', None)]\n",
      "    include_dirs = ['/scratch/app/anaconda3/2018.12/include']\n",
      "lapack_mkl_info:\n",
      "    libraries = ['mkl_rt', 'pthread']\n",
      "    library_dirs = ['/scratch/app/anaconda3/2018.12/lib']\n",
      "    define_macros = [('SCIPY_MKL_H', None), ('HAVE_CBLAS', None)]\n",
      "    include_dirs = ['/scratch/app/anaconda3/2018.12/include']\n",
      "lapack_opt_info:\n",
      "    libraries = ['mkl_rt', 'pthread']\n",
      "    library_dirs = ['/scratch/app/anaconda3/2018.12/lib']\n",
      "    define_macros = [('SCIPY_MKL_H', None), ('HAVE_CBLAS', None)]\n",
      "    include_dirs = ['/scratch/app/anaconda3/2018.12/include']\n"
     ]
    }
   ],
   "source": [
    "import numpy\n",
    "numpy.show_config()"
   ]
  },
  {
   "cell_type": "markdown",
   "metadata": {},
   "source": [
    "## Código Python sequencial\n",
    " Somente para referência, conversão direta de Fortran"
   ]
  },
  {
   "cell_type": "markdown",
   "metadata": {},
   "source": [
    "### Testes"
   ]
  },
  {
   "cell_type": "code",
   "execution_count": 15,
   "metadata": {},
   "outputs": [],
   "source": [
    "import numpy as np\n",
    "import sys\n",
    "import time\n",
    "\n",
    "def seq_iters(anew, aold, sizeEnd, niters, nsources, sources, energy, heat):\n",
    "    for iters in range(0, niters, 2):\n",
    "        for j in range(1, sizeEnd):\n",
    "            for i in range(1, sizeEnd):\n",
    "                anew[i,j] = aold[i,j]/2.0+  \\\n",
    "                (aold[i-1,j]+aold[i+1,j]+aold[i,j-1]+aold[i,j+1])/8.0\n",
    "        for i in range(0, nsources) :\n",
    "            anew[sources[i,0], sources[i,1]] += energy\n",
    "        for j in range(1, sizeEnd):\n",
    "            for i in range(1, sizeEnd):\n",
    "                aold[i,j] = anew[i,j]/2.0+  \\\n",
    "                (anew[i-1,j]+anew[i+1,j]+anew[i,j-1]+anew[i,j+1])/8.0\n",
    "        for i in range(0, nsources):\n",
    "            aold[sources[i,0],sources[i,1]] += energy\n",
    "    for j in range(1, sizeEnd):\n",
    "        for i in range(1, sizeEnd):\n",
    "            heat[0] = heat[0] + aold[i,j]\n",
    "\n",
    "def seq():                 # 4800, 1, 500   \n",
    "    n            = 4800    # nxn grid (4800,1,500)=1500; (100,1,10)=30\n",
    "    energy       = 1       # energy to be injected per iteration\n",
    "    niters       = 500     # number of iterations\n",
    "    nsources     = 3       # sources of energy\n",
    "    size         = n + 2\n",
    "    sizeEnd      = n + 1\n",
    "    heat         = np.zeros((1), np.float64)     # system total heat\n",
    "    anew         = np.zeros((size, size), np.float64)\n",
    "    aold         = np.zeros((size, size), np.float64)\n",
    "    sources      = np.empty((3,2), np.int32)\n",
    "    sources[:,:] = [ [n//2, n//2], [n//3, n//3], [n*4//5, n*8//9] ]\n",
    "    \n",
    "    seq_iters(anew, aold, sizeEnd, niters, nsources, sources,  energy, heat)\n",
    "    print(\"heat = %11.5f\" %(heat[0]))"
   ]
  },
  {
   "cell_type": "code",
   "execution_count": 21,
   "metadata": {
    "scrolled": true
   },
   "outputs": [],
   "source": [
    "# t_seq = %timeit -n1 -r1 -o seq()\n",
    "#     testes anteriores levaram mais de 4h"
   ]
  },
  {
   "cell_type": "markdown",
   "metadata": {},
   "source": [
    "## Numba CPU Sequencial\n",
    "\n",
    "Sequencial porém usa instruções de vetorização do processador\n",
    "\n",
    "Testando o funcionamento no nó de login, antes de usar o arquivo de lote"
   ]
  },
  {
   "cell_type": "markdown",
   "metadata": {},
   "source": [
    "### Testes"
   ]
  },
  {
   "cell_type": "code",
   "execution_count": null,
   "metadata": {},
   "outputs": [
    {
     "name": "stdout",
     "output_type": "stream",
     "text": [
      "Heat = 1500.0000 | Tempo = 429.5704 | Thread count = 1\n"
     ]
    }
   ],
   "source": [
    "%%timeit -n3 -r3\n",
    "from numba import jit, config, prange\n",
    "import numpy as np\n",
    "import time\n",
    "\n",
    "@jit(nopython=True, parallel=True)\n",
    "def jit_iters_seq(anew,aold,sizeEnd,niters,nsources,sources,energy,heat):\n",
    "    for iters in prange(0, niters):\n",
    "        for j in prange(1, sizeEnd):\n",
    "            for i in prange(1, sizeEnd):\n",
    "                anew[i,j] = aold[i,j]/2.0+  \\\n",
    "                    (aold[i-1,j]+aold[i+1,j]+aold[i,j-1]+aold[i,j+1])/8.0\n",
    "        for i in prange(0, nsources) :\n",
    "            anew[sources[i,0], sources[i,1]] += energy\n",
    "        for j in prange(1, sizeEnd):\n",
    "            for i in prange(1, sizeEnd):\n",
    "                aold[i,j] = anew[i,j]/2.0+  \\\n",
    "                (anew[i-1,j]+anew[i+1,j]+anew[i,j-1]+anew[i,j+1])/8.0\n",
    "        for i in prange(0, nsources):\n",
    "            aold[sources[i,0],sources[i,1]] += energy\n",
    "    for j in prange(1, sizeEnd):\n",
    "        for i in prange(1, sizeEnd):\n",
    "            heat[0] = heat[0] + aold[i,j]\n",
    "\n",
    "# Main\n",
    "n            = 4800  # nxn grid (4800,1,500)=1500; (100,1,10)=30\n",
    "energy       = 1.0   # energy to be injected per iteration [1.0]\n",
    "niters       = 500   # number of iterations [500]\n",
    "nsources     = 3     # sources of energy\n",
    "size         = n + 2\n",
    "sizeEnd      = n + 1\n",
    "heat         = np.zeros((1), np.float64)     # system total heat\n",
    "anew         = np.zeros((size, size), np.float64)\n",
    "aold         = np.zeros((size, size), np.float64)\n",
    "sources      = np.empty((3,2), np.int)\n",
    "sources[:,:] = [ [n//2, n//2], [n//3, n//3], [n*4//5, n*8//9] ]\n",
    "niters       = niters//2\n",
    "\n",
    "t = time.time()\n",
    "config.NUMBA_ENABLE_AVX = 1\n",
    "config.NUMBA_NUM_THREADS = 1\n",
    "jit_iters_seq(anew, aold, sizeEnd, niters, nsources, sources, energy, heat)\n",
    "t = time.time() - t\n",
    "print(\"Heat = %9.4f | Tempo = %8.4f | Thread count = %s\" %  \\\n",
    "      (heat[0], t, config.NUMBA_NUM_THREADS))\n",
    "# jit_iters_seq.parallel_diagnostics(level=4)"
   ]
  },
  {
   "cell_type": "markdown",
   "metadata": {},
   "source": [
    "### Testes"
   ]
  },
  {
   "cell_type": "code",
   "execution_count": 2,
   "metadata": {},
   "outputs": [],
   "source": [
    "from numba import jit, config, prange\n",
    "import numpy as np\n",
    "import time\n",
    "\n",
    "@jit(nopython=True, parallel=True)\n",
    "def jit_iters_seq(anew, aold, sizeEnd, niters, nsources, sources, energy, heat):\n",
    "    for iters in range(0, niters, 2):\n",
    "        for j in prange(1, sizeEnd):\n",
    "            for i in prange(1, sizeEnd):\n",
    "                anew[i,j] = ( aold[i,j]/2.0 +\n",
    "                    (aold[i-1,j]+aold[i+1,j]+aold[i,j-1]+aold[i,j+1])/8.0 )\n",
    "        for i in prange(0, nsources) :\n",
    "            anew[sources[i,0], sources[i,1]] += energy\n",
    "        for j in prange(1, sizeEnd):\n",
    "            for i in prange(1, sizeEnd):\n",
    "                aold[i,j] = ( anew[i,j]/2.0 +\n",
    "                    (anew[i-1,j]+anew[i+1,j]+anew[i,j-1]+anew[i,j+1])/8.0 )\n",
    "        for i in prange(0, nsources):\n",
    "            aold[sources[i,0],sources[i,1]] += energy\n",
    "    for j in prange(1, sizeEnd):\n",
    "        for i in prange(1, sizeEnd):\n",
    "            heat[0] = heat[0] + aold[i,j]\n",
    "\n",
    "\n",
    "n            = 4800  # nxn grid (4800,1,500)=1500\n",
    "energy       = 1.0   # energy to be injected per iteration\n",
    "niters       = 5   # number of iterations\n",
    "nsources     = 3     # sources of energy\n",
    "size         = n + 2\n",
    "sizeEnd      = n + 1\n",
    "heat         = np.zeros((1), np.float64)     # system total heat\n",
    "anew         = np.zeros((size, size), np.float64)\n",
    "aold         = np.zeros((size, size), np.float64)\n",
    "sources      = np.empty((3,2), np.int)\n",
    "sources[:,:] = [ [n//2, n//2], [n//3, n//3], [n*4//5, n*8//9] ]\n",
    "\n",
    "config.NUMBA_ENABLE_AVX = 1\n",
    "config.DUMP_ASSEMBLY = 0\n",
    "jit_iters_seq(anew, aold, sizeEnd, niters, nsources, sources, energy, heat)"
   ]
  },
  {
   "cell_type": "markdown",
   "metadata": {},
   "source": [
    "### Testes"
   ]
  },
  {
   "cell_type": "code",
   "execution_count": 3,
   "metadata": {},
   "outputs": [
    {
     "name": "stdout",
     "output_type": "stream",
     "text": [
      "Heat = 1500.0000 | Tempo =  99.5317 | Thread count = 1\n"
     ]
    }
   ],
   "source": [
    "import numpy as np\n",
    "from numba import jit, config, prange\n",
    "from time import time\n",
    "t = time()\n",
    "config.DUMP_ASSEMBLY = 0\n",
    "config.NUMBA_ENABLE_AVX = 1\n",
    "config.NUMBA_NUM_THREADS = 1\n",
    "\n",
    "@jit(nopython=True, parallel=True)\n",
    "def jit_iters_seq(anew, aold, sizeEnd, niters, nsources, sources, energy, heat):\n",
    "    for iters in range(0, niters):\n",
    "        for j in prange(1, sizeEnd):\n",
    "            for i in prange(1, sizeEnd):\n",
    "                anew[i,j] = ( aold[i,j] * 0.5 + \n",
    "                     (aold[i-1,j]+aold[i+1,j]+aold[i,j-1]+aold[i,j+1]) * 0.125 )\n",
    "        for i in prange(0, nsources) :\n",
    "            anew[sources[i,0], sources[i,1]] += energy\n",
    "        for j in prange(1, sizeEnd):\n",
    "            for i in prange(1, sizeEnd):\n",
    "                aold[i,j] = ( anew[i,j] * 0.5 +\n",
    "                     (anew[i-1,j]+anew[i+1,j]+anew[i,j-1]+anew[i,j+1]) * 0.125 )\n",
    "        for i in prange(0, nsources):\n",
    "            aold[sources[i,0],sources[i,1]] += energy\n",
    "    for j in prange(1, sizeEnd):\n",
    "        for i in prange(1, sizeEnd):\n",
    "            heat[0] = heat[0] + aold[i,j]\n",
    "\n",
    "n            = 4800  # nxn grid (4800,1,500)=1500; (100,1,10)=30\n",
    "energy       = 1.0   # energy to be injected per iteration [1.0]\n",
    "niters       = 500   # number of iterations [500]\n",
    "nsources     = 3     # sources of energy\n",
    "size         = n + 2\n",
    "sizeEnd      = n + 1\n",
    "heat         = np.zeros((1), np.float64)     # system total heat\n",
    "anew = aold  = np.zeros((size, size), np.float64)\n",
    "sources      = np.empty((3,2), np.int)\n",
    "sources[:,:] = [ [n//2, n//2], [n//3, n//3], [n*4//5, n*8//9] ]\n",
    "niters       = niters // 2\n",
    "\n",
    "jit_iters_seq(anew, aold, sizeEnd, niters, nsources, sources,\n",
    "              energy, heat)\n",
    "t = time() - t\n",
    "print(\"Heat = %9.4f | Tempo = %8.4f | Thread count = %s\"\n",
    "      %(heat[0], t, config.NUMBA_NUM_THREADS))"
   ]
  },
  {
   "cell_type": "markdown",
   "metadata": {},
   "source": [
    "### Testes"
   ]
  },
  {
   "cell_type": "code",
   "execution_count": 8,
   "metadata": {},
   "outputs": [
    {
     "name": "stdout",
     "output_type": "stream",
     "text": [
      "Heat = 1500.0000 | Tempo = 23.2005 | Thread count = 1\n"
     ]
    }
   ],
   "source": [
    "from numba import jit, config, prange\n",
    "import numpy as np\n",
    "import time\n",
    "config.DUMP_ASSEMBLY = 0\n",
    "config.NUMBA_ENABLE_AVX = 1\n",
    "config.NUMBA_NUM_THREADS = 1\n",
    "\n",
    "@jit(nopython=True, parallel=True)\n",
    "def jit_iters_seq(anew, aold, sizeEnd, niters, nsources,\n",
    "                  sources, energy, heat):\n",
    "    for iters in prange(niters):\n",
    "        for i in prange(1, sizeEnd):\n",
    "            for j in prange(1, sizeEnd):\n",
    "                anew[i,j] = ( aold[i,j] * 0.5 + (aold[i-1,j] +\n",
    "                    aold[i+1,j] + aold[i,j-1] + aold[i,j+1]) * 0.125 )\n",
    "        for i in prange(nsources) :\n",
    "            anew[sources[i,0], sources[i,1]] += energy\n",
    "        for i in prange(1, sizeEnd):\n",
    "            for j in prange(1, sizeEnd):\n",
    "                aold[i,j] = ( anew[i,j] * 0.5 + (anew[i-1,j] +\n",
    "                    anew[i+1,j] + anew[i,j-1] + anew[i,j+1]) * 0.125 )\n",
    "        for i in prange(nsources):\n",
    "            aold[sources[i,0],sources[i,1]] += energy\n",
    "    for i in prange(1, sizeEnd):\n",
    "        for j in prange(1, sizeEnd):\n",
    "            heat[0] += aold[i,j]\n",
    "\n",
    "n            = 4800  # nxn grid (4800,1,500)=1500; (100,1,10)=30\n",
    "energy       = 1     # energy to be injected per iteration [1.0]\n",
    "niters       = 500   # number of iterations [500]\n",
    "nsources     = 3     # sources of energy\n",
    "size         = n + 2\n",
    "sizeEnd      = n + 1\n",
    "heat         = np.zeros((1), np.float64)     # system total heat\n",
    "anew         = np.zeros((size, size), np.float64)\n",
    "aold         = np.zeros((size, size), np.float64)\n",
    "sources      = np.empty((3,2), np.int32)\n",
    "sources[:,:] = [ [n//2, n//2], [n//3, n//3], [n*4//5, n*8//9] ]\n",
    "niters       = (niters+1) // 2\n",
    "\n",
    "t0 = time.time()\n",
    "jit_iters_seq(anew, aold, sizeEnd, niters, nsources,\n",
    "              sources, energy, heat)\n",
    "t0 = time.time() - t0\n",
    "print(\"Heat = %0.4f | Tempo = %0.4f | Thread count = %s\" %\n",
    "      (heat[0], t0, config.NUMBA_NUM_THREADS))"
   ]
  },
  {
   "cell_type": "markdown",
   "metadata": {},
   "source": [
    "### Testes"
   ]
  },
  {
   "cell_type": "code",
   "execution_count": 6,
   "metadata": {},
   "outputs": [
    {
     "name": "stdout",
     "output_type": "stream",
     "text": [
      "Heat = 0.0000 | Tempo = 70.0140 | TempoPyt = 70.0176 | Thread count = 1\n"
     ]
    }
   ],
   "source": [
    "from time import time\n",
    "tp = time()\n",
    "import numpy as np\n",
    "from numba import jit, config, prange\n",
    "\n",
    "config.DUMP_ASSEMBLY = 0\n",
    "config.NUMBA_ENABLE_AVX = 1\n",
    "config.NUMBA_NUM_THREADS = 1\n",
    "\n",
    "@jit(nopython=True, parallel=True)\n",
    "def jit_iters_seq(anew, aold, sizeEnd, niters, nsources, sources, energy, heat):\n",
    "    for iters in range(0, niters):\n",
    "        anew[1:-1, 1:-1] =  ( aold[1:-1, 1:-1] / 2.0 + \n",
    "                            ( aold[2:  , 1:-1] + aold[ :-2, 1:-1] +\n",
    "                              aold[1:-1, 2:  ] + aold[1:-1,  :-2] ) / 8.0 )\n",
    "        for i in range(0, nsources):\n",
    "            anew[sources[i, 0], sources[i, 1]] += energy\n",
    "        aold[1:-1, 1:-1] =  ( anew[1:-1, 1:-1] / 2.0 +\n",
    "                            ( anew[2:  , 1:-1] + anew[ :-2, 1:-1] +\n",
    "                              anew[1:-1, 2:  ] + anew[1:-1,  :-2] ) / 8.0 )\n",
    "        for i in range(0, nsources):\n",
    "            aold[sources[i,0],sources[i,1]] += energy\n",
    "#    heat[0] = np.sum( aold[1:sizeEnd, 1:sizeEnd] )  # system total heat\n",
    "\n",
    "n            = 4800    # nxn grid (4800,1,500)=1500; (4800,1,5)=12\n",
    "energy       = 1.0     # energy to be injected per iteration\n",
    "niters       = 500     # number of iterations\n",
    "nsources     = 3       # sources of energy\n",
    "size         = n + 2\n",
    "sizeEnd      = n + 1\n",
    "heat         = np.zeros((1), np.float64)     # system total heat\n",
    "anew = aold  = np.zeros((size,  size), np.float64)\n",
    "sources      = np.empty((nsources, 2), np.int)\n",
    "sources[:,:] = [ [n//2, n//2], [n//3, n//3], [n*4//5, n*8//9] ]\n",
    "niters       = niters // 2\n",
    "\n",
    "t = time()\n",
    "jit_iters_seq(anew, aold, sizeEnd, niters, nsources, sources, energy, heat)\n",
    "t = time() - t\n",
    "tp = time() - tp\n",
    "print(\"Heat = %0.4f | Tempo = %0.4f | TempoPyt = %0.4f | Thread count = %s\" %\n",
    "      (heat[0], t, tp, config.NUMBA_NUM_THREADS))"
   ]
  },
  {
   "cell_type": "markdown",
   "metadata": {},
   "source": [
    "# Rodando em um nó de execução\n",
    "Grava o arquivo fonte:"
   ]
  },
  {
   "cell_type": "markdown",
   "metadata": {},
   "source": [
    "### Testes"
   ]
  },
  {
   "cell_type": "code",
   "execution_count": 16,
   "metadata": {},
   "outputs": [
    {
     "name": "stdout",
     "output_type": "stream",
     "text": [
      "Overwriting st-nu-seq.py\n"
     ]
    }
   ],
   "source": [
    "%%writefile st-nu-seq.py\n",
    "from time import time\n",
    "tp = time()\n",
    "import numpy as np\n",
    "from numba import jit, config, prange\n",
    "\n",
    "config.DUMP_ASSEMBLY = 0\n",
    "config.NUMBA_ENABLE_AVX = 1\n",
    "config.NUMBA_NUM_THREADS = 1\n",
    "\n",
    "@jit(nopython=True, parallel=True)\n",
    "def jit_iters_seq(anew, aold, sizeEnd, niters, nsources, sources, energy, heat):\n",
    "    for iters in range(0, niters):\n",
    "        anew[1:-1, 1:-1] =  ( aold[1:-1, 1:-1] / 2.0 + \n",
    "                            ( aold[2:  , 1:-1] + aold[ :-2, 1:-1] +\n",
    "                              aold[1:-1, 2:  ] + aold[1:-1,  :-2] ) / 8.0 )\n",
    "        for i in range(0, nsources):\n",
    "            anew[sources[i, 0], sources[i, 1]] += energy\n",
    "        aold[1:-1, 1:-1] =  ( anew[1:-1, 1:-1] / 2.0 +\n",
    "                            ( anew[2:  , 1:-1] + anew[ :-2, 1:-1] +\n",
    "                              anew[1:-1, 2:  ] + anew[1:-1,  :-2] ) / 8.0 )\n",
    "        for i in range(0, nsources):\n",
    "            aold[sources[i,0],sources[i,1]] += energy\n",
    "    heat[0] = np.sum( aold[1:sizeEnd, 1:sizeEnd] )  # system total heat\n",
    "\n",
    "n            = 4800    # nxn grid (4800,1,500)=1500; (4800,1,5)=12\n",
    "energy       = 1.0     # energy to be injected per iteration\n",
    "niters       = 500     # number of iterations\n",
    "nsources     = 3       # sources of energy\n",
    "size         = n + 2\n",
    "sizeEnd      = n + 1\n",
    "heat         = np.zeros((1), np.float64)     # system total heat\n",
    "anew = aold  = np.zeros((size,  size), np.float64)\n",
    "sources      = np.empty((nsources, 2), np.int)\n",
    "sources[:,:] = [ [n//2, n//2], [n//3, n//3], [n*4//5, n*8//9] ]\n",
    "niters       = niters // 2\n",
    "\n",
    "t = time()\n",
    "jit_iters_seq(anew, aold, sizeEnd, niters, nsources, sources, energy, heat)\n",
    "t = time() - t\n",
    "tp = time() - tp\n",
    "print(\"Heat = %0.4f | Tempo = %0.4f | TempoPyt = %0.4f | Thread count = %s\" %\n",
    "      (heat[0], t, tp, config.NUMBA_NUM_THREADS))"
   ]
  },
  {
   "cell_type": "code",
   "execution_count": 17,
   "metadata": {
    "scrolled": true
   },
   "outputs": [
    {
     "name": "stdout",
     "output_type": "stream",
     "text": [
      "Overwriting calctempo.sh\n"
     ]
    }
   ],
   "source": [
    "%%writefile calctempo.sh\n",
    "#!/bin/sh\n",
    "time python st-nu-seq.py"
   ]
  },
  {
   "cell_type": "code",
   "execution_count": 18,
   "metadata": {},
   "outputs": [
    {
     "name": "stdout",
     "output_type": "stream",
     "text": [
      "Heat = 1500.0000 | Tempo = 68.2574 | TempoPyt = 68.7786 | Thread count = 1\n"
     ]
    },
    {
     "name": "stderr",
     "output_type": "stream",
     "text": [
      "\n",
      "real\t1m8.993s\n",
      "user\t1m8.251s\n",
      "sys\t0m0.569s\n"
     ]
    }
   ],
   "source": [
    "%%bash\n",
    "sh calctempo.sh"
   ]
  },
  {
   "cell_type": "markdown",
   "metadata": {},
   "source": [
    "### Copia o fonte para /scratch:"
   ]
  },
  {
   "cell_type": "code",
   "execution_count": 22,
   "metadata": {},
   "outputs": [
    {
     "name": "stdout",
     "output_type": "stream",
     "text": [
      "-rw-r--r-- 1 eduardo.miranda2 ampemi 1.8K Nov 11 17:41 /scratch/ampemi/eduardo.miranda2/stnc/Numba/st-nu-seq.py\n"
     ]
    }
   ],
   "source": [
    "%%bash\n",
    "a='st-nu-seq.py'\n",
    "# diretórios já devem existir\n",
    "s='/prj/ampemi/eduardo.miranda2/stnc/Numba'\n",
    "d='/scratch/ampemi/eduardo.miranda2/stnc/Numba'\n",
    "cp  $s/$a  $s/calctempo.sh  $d\n",
    "ls -lh $d/$a"
   ]
  },
  {
   "cell_type": "code",
   "execution_count": 23,
   "metadata": {},
   "outputs": [
    {
     "name": "stdout",
     "output_type": "stream",
     "text": [
      "Heat = 1500.0000 | Tempo = 68.5121 | TempoPyt = 68.9992 | Thread count = 1\n"
     ]
    },
    {
     "name": "stderr",
     "output_type": "stream",
     "text": [
      "\n",
      "real\t1m9.157s\n",
      "user\t1m8.506s\n",
      "sys\t0m0.560s\n"
     ]
    }
   ],
   "source": [
    "%%bash\n",
    "cd /scratch/ampemi/eduardo.miranda2/stnc/Numba\n",
    "sh calctempo.sh"
   ]
  },
  {
   "cell_type": "markdown",
   "metadata": {},
   "source": [
    "## Arquivo de submissão"
   ]
  },
  {
   "cell_type": "markdown",
   "metadata": {},
   "source": [
    "### Testes"
   ]
  },
  {
   "cell_type": "code",
   "execution_count": 3,
   "metadata": {},
   "outputs": [
    {
     "name": "stdout",
     "output_type": "stream",
     "text": [
      "Overwriting st-nu-seq.srm\n"
     ]
    }
   ],
   "source": [
    "%%writefile st-nu-seq.srm\n",
    "#!/bin/bash\n",
    "# limites das filas (1,0 UA):\n",
    "#   cpu_dev  : 20 min.,  1-4  nós, 1/1   tarefas em exec/fila máximo\n",
    "#   cpu_small: 72 horas, 1-20 nós, 16/96 tarefas em exec/fila máximo\n",
    "\n",
    "#SBATCH --ntasks=1             #Total de tarefas\n",
    "#SBATCH -p cpu_small           #Fila (partition) a ser utilizada\n",
    "#SBATCH -J stnuseq             #Nome do job, 8 caracteres\n",
    "#SBATCH --time=00:05:00        #Tempo max. de execução\n",
    "# #SBATCH --nodes=1              #Qtd de nós\n",
    "# #SBATCH --ntasks-per-node=1    #Qtd de tarefas por nó ($SLURM_NTASKS_PER_NODE)\n",
    "# #SBATCH --exclusive            #Utilização exclusiva dos nós\n",
    "\n",
    "echo '========================================'\n",
    "echo '- Job ID:' $SLURM_JOB_ID\n",
    "echo '- Tarefas por no:' $SLURM_NTASKS_PER_NODE\n",
    "echo '- Qtd. de nos:' $SLURM_JOB_NUM_NODES\n",
    "echo '- Tot. de tarefas:' $SLURM_NTASKS\n",
    "echo '- Nos alocados:' $SLURM_JOB_NODELIST\n",
    "echo '- diretorio onde sbatch foi chamado ($SLURM_SUBMIT_DIR):'\n",
    "echo $SLURM_SUBMIT_DIR\n",
    "cd $SLURM_SUBMIT_DIR\n",
    "nodeset -e $SLURM_JOB_NODELIST\n",
    "\n",
    "#Entra no diretório de trabalho\n",
    "cd /scratch/ampemi/eduardo.miranda2/stnc/Numba\n",
    "\n",
    "#Modulos\n",
    "module load anaconda3/2018.12\n",
    "\n",
    "#Executavel\n",
    "EXEC='python st-nu-seq.py'\n",
    "\n",
    "#Dispara a execucao\n",
    "echo '-- srun -------------------------------'\n",
    "echo '$ srun --mpi=pmi2 -n' $SLURM_NTASKS $EXEC\n",
    "srun --mpi=pmi2 -n $SLURM_NTASKS $EXEC\n",
    "echo '-- FIM --------------------------------'"
   ]
  },
  {
   "cell_type": "markdown",
   "metadata": {},
   "source": [
    "## Envia para execução 3 vezes"
   ]
  },
  {
   "cell_type": "code",
   "execution_count": 25,
   "metadata": {},
   "outputs": [
    {
     "name": "stdout",
     "output_type": "stream",
     "text": [
      "Submitted batch job 772763\n",
      "Submitted batch job 772764\n",
      "Submitted batch job 772765\n",
      "             JOBID PARTITION     NAME     USER ST       TIME  NODES NODELIST(REASON)\n"
     ]
    }
   ],
   "source": [
    "%%bash\n",
    "sbatch st-nu-seq.srm\n",
    "sbatch st-nu-seq.srm\n",
    "sbatch st-nu-seq.srm"
   ]
  },
  {
   "cell_type": "code",
   "execution_count": 27,
   "metadata": {},
   "outputs": [
    {
     "name": "stdout",
     "output_type": "stream",
     "text": [
      "             JOBID PARTITION     NAME     USER ST       TIME  NODES NODELIST(REASON)\n"
     ]
    }
   ],
   "source": [
    "# verifica se já terminou\n",
    "! squeue -n stf2seq"
   ]
  },
  {
   "cell_type": "markdown",
   "metadata": {},
   "source": [
    "## Mostra os arquivos de saída"
   ]
  },
  {
   "cell_type": "code",
   "execution_count": 28,
   "metadata": {},
   "outputs": [
    {
     "name": "stdout",
     "output_type": "stream",
     "text": [
      "========================================\n",
      "- Job ID: 772763\n",
      "- Tarefas por no:\n",
      "- Qtd. de nos: 1\n",
      "- Tot. de tarefas: 1\n",
      "- Nos alocados: sdumont1169\n",
      "- diretorio onde sbatch foi chamado ($SLURM_SUBMIT_DIR):\n",
      "/prj/ampemi/eduardo.miranda2/stnc/Numba\n",
      "-- srun -------------------------------\n",
      "$ srun -n  1 sh calctempo.sh\n",
      "Heat = 1500.0000 | Tempo = 70.7601 | TempoPyt = 82.7772 | Thread count = 1\n",
      "\n",
      "real\t1m23.517s\n",
      "user\t1m9.141s\n",
      "sys\t0m0.522s\n",
      "-- FIM --------------------------------\n",
      "========================================\n",
      "- Job ID: 772764\n",
      "- Tarefas por no:\n",
      "- Qtd. de nos: 1\n",
      "- Tot. de tarefas: 1\n",
      "- Nos alocados: sdumont1180\n",
      "- diretorio onde sbatch foi chamado ($SLURM_SUBMIT_DIR):\n",
      "/prj/ampemi/eduardo.miranda2/stnc/Numba\n",
      "-- srun -------------------------------\n",
      "$ srun -n  1 sh calctempo.sh\n",
      "Heat = 1500.0000 | Tempo = 92.8287 | TempoPyt = 104.8471 | Thread count = 1\n",
      "\n",
      "real\t1m45.488s\n",
      "user\t1m31.355s\n",
      "sys\t0m0.670s\n",
      "-- FIM --------------------------------\n",
      "========================================\n",
      "- Job ID: 772765\n",
      "- Tarefas por no:\n",
      "- Qtd. de nos: 1\n",
      "- Tot. de tarefas: 1\n",
      "- Nos alocados: sdumont1260\n",
      "- diretorio onde sbatch foi chamado ($SLURM_SUBMIT_DIR):\n",
      "/prj/ampemi/eduardo.miranda2/stnc/Numba\n",
      "-- srun -------------------------------\n",
      "$ srun -n  1 sh calctempo.sh\n",
      "Heat = 1500.0000 | Tempo = 92.8181 | TempoPyt = 104.8364 | Thread count = 1\n",
      "\n",
      "real\t1m45.470s\n",
      "user\t1m31.329s\n",
      "sys\t0m0.681s\n",
      "-- FIM --------------------------------\n"
     ]
    }
   ],
   "source": [
    "%%bash\n",
    "d='/scratch/ampemi/eduardo.miranda2/stnc/Numba'\n",
    "cat $d/slurm-772763.out\n",
    "cat $d/slurm-772764.out\n",
    "cat $d/slurm-772765.out"
   ]
  },
  {
   "cell_type": "markdown",
   "metadata": {},
   "source": [
    "## Versão final\n",
    "\n",
    "Obs.: O código anterior acabou ficando mais lento que a versão MPI.\n",
    "\n",
    "O código abaixo usa o mesmo kernel da versão MPI, para obter mais desempenho."
   ]
  },
  {
   "cell_type": "code",
   "execution_count": 1,
   "metadata": {},
   "outputs": [
    {
     "name": "stdout",
     "output_type": "stream",
     "text": [
      "Overwriting st-nu-seq.py\n"
     ]
    }
   ],
   "source": [
    "%%writefile st-nu-seq.py\n",
    "import numpy as np\n",
    "from numba import jit, config, prange\n",
    "from time import time\n",
    "\n",
    "config.DUMP_ASSEMBLY = 0\n",
    "config.NUMBA_ENABLE_AVX = 1\n",
    "config.NUMBA_NUM_THREADS = 1\n",
    "\n",
    "@jit('(float64[:,:],float64[:,:])', nopython=True, parallel=True, nogil=True) \n",
    "def kernel_seq(anew, aold) :\n",
    "    anew[1:-1, 1:-1] = ( aold[1:-1, 1:-1] * 0.5 + \n",
    "                       ( aold[2:  , 1:-1] + aold[ :-2, 1:-1] +\n",
    "                         aold[1:-1, 2:  ] + aold[1:-1,  :-2] ) * 0.125 )\n",
    "\n",
    "    \n",
    "n            = 4800    # nxn grid (4800,1,500)=1500; (4800,1,5)=12\n",
    "energy       = 1.0     # energy to be injected per iteration\n",
    "niters       = 500     # number of iterations\n",
    "nsources     = 3       # sources of energy\n",
    "size         = n + 2\n",
    "sizeEnd      = n + 1\n",
    "heat         = np.zeros((1), np.float64)     # system total heat\n",
    "anew         = np.zeros((size,  size), np.float64)\n",
    "aold         = np.zeros((size,  size), np.float64)\n",
    "sources      = np.empty((nsources, 2), np.int16)\n",
    "sources[:,:] = [ [n//2, n//2], [n//3, n//3], [n*4//5, n*8//9] ]\n",
    "niters       = (niters + 1) // 2\n",
    "\n",
    "t0 = time()\n",
    "for iters in range(niters) :\n",
    "    kernel_seq(anew, aold)\n",
    "    for i in range(nsources) :\n",
    "        anew[sources[i, 0], sources[i, 1]] += energy\n",
    "    kernel_seq(aold, anew)\n",
    "    for i in range(nsources) :\n",
    "        aold[sources[i, 0], sources[i, 1]] += energy\n",
    "\n",
    "heat[0] = np.sum( aold[1:-1, 1:-1] )  # system total heat\n",
    "t0 = time() - t0\n",
    "\n",
    "print(\"Heat = %0.4f | Tempo = %0.4f | Thread count = %s\" %\n",
    "      (heat[0], t0, config.NUMBA_NUM_THREADS))"
   ]
  },
  {
   "cell_type": "code",
   "execution_count": 38,
   "metadata": {},
   "outputs": [
    {
     "name": "stdout",
     "output_type": "stream",
     "text": [
      "Heat = 1500.0000 | Tempo = 23.3059 | Thread count = 1\n",
      "\u001b[0m"
     ]
    }
   ],
   "source": [
    "! python st-nu-seq-2.py"
   ]
  },
  {
   "cell_type": "code",
   "execution_count": 2,
   "metadata": {},
   "outputs": [
    {
     "name": "stdout",
     "output_type": "stream",
     "text": [
      "-rw-r--r-- 1 eduardo.miranda2 ampemi 1.5K Nov 24 20:24 /scratch/ampemi/eduardo.miranda2/stnc/Numba/st-nu-seq.py\n"
     ]
    }
   ],
   "source": [
    "%%bash\n",
    "a='st-nu-seq.py'\n",
    "# diretórios já devem existir\n",
    "s='/prj/ampemi/eduardo.miranda2/stnc/Numba'\n",
    "d='/scratch/ampemi/eduardo.miranda2/stnc/Numba'\n",
    "cp  $s/$a  $d\n",
    "ls -lh $d/$a"
   ]
  },
  {
   "cell_type": "code",
   "execution_count": 4,
   "metadata": {},
   "outputs": [
    {
     "name": "stdout",
     "output_type": "stream",
     "text": [
      "Submitted batch job 781495\n"
     ]
    }
   ],
   "source": [
    "%%bash\n",
    "sbatch st-nu-seq.srm"
   ]
  },
  {
   "cell_type": "code",
   "execution_count": 5,
   "metadata": {},
   "outputs": [
    {
     "name": "stdout",
     "output_type": "stream",
     "text": [
      "             JOBID PARTITION     NAME     USER ST       TIME  NODES NODELIST(REASON)\n",
      "            781495 cpu_small  stnuseq eduardo. PD       0:00      1 (Priority)\n"
     ]
    }
   ],
   "source": [
    "! squeue -n stnuseq"
   ]
  },
  {
   "cell_type": "code",
   "execution_count": 8,
   "metadata": {},
   "outputs": [
    {
     "name": "stdout",
     "output_type": "stream",
     "text": [
      "             JOBID PARTITION     NAME     USER ST       TIME  NODES NODELIST(REASON)\n"
     ]
    }
   ],
   "source": [
    "! squeue -n stnuseq"
   ]
  },
  {
   "cell_type": "code",
   "execution_count": 9,
   "metadata": {},
   "outputs": [
    {
     "name": "stdout",
     "output_type": "stream",
     "text": [
      "========================================\n",
      "- Job ID: 781495\n",
      "- Tarefas por no:\n",
      "- Qtd. de nos: 1\n",
      "- Tot. de tarefas: 1\n",
      "- Nos alocados: sdumont1279\n",
      "- diretorio onde sbatch foi chamado ($SLURM_SUBMIT_DIR):\n",
      "/prj/ampemi/eduardo.miranda2/stnc/Numba\n",
      "sdumont1279\n",
      "-- srun -------------------------------\n",
      "$ srun --mpi=pmi2 -n 1 python st-nu-seq.py\n",
      "Heat = 1500.0000 | Tempo = 30.3982 | Thread count = 1\n",
      "-- FIM --------------------------------\n"
     ]
    }
   ],
   "source": [
    "%%bash\n",
    "d='/scratch/ampemi/eduardo.miranda2/stnc/Numba'\n",
    "cat $d/slurm-781495.out"
   ]
  },
  {
   "cell_type": "code",
   "execution_count": 1,
   "metadata": {},
   "outputs": [
    {
     "name": "stdout",
     "output_type": "stream",
     "text": [
      "Submitted batch job 788104\n",
      "Submitted batch job 788105\n"
     ]
    }
   ],
   "source": [
    "%%bash\n",
    "sbatch st-nu-seq.srm\n",
    "sbatch st-nu-seq.srm"
   ]
  },
  {
   "cell_type": "code",
   "execution_count": 2,
   "metadata": {},
   "outputs": [
    {
     "name": "stdout",
     "output_type": "stream",
     "text": [
      "             JOBID PARTITION     NAME     USER ST       TIME  NODES NODELIST(REASON)\n",
      "            788104 cpu_small  stnuseq eduardo. PD       0:00      1 (Priority)\n",
      "            788105 cpu_small  stnuseq eduardo. PD       0:00      1 (Priority)\n"
     ]
    }
   ],
   "source": [
    "! squeue -n stnuseq"
   ]
  },
  {
   "cell_type": "code",
   "execution_count": 1,
   "metadata": {},
   "outputs": [
    {
     "name": "stdout",
     "output_type": "stream",
     "text": [
      "             JOBID PARTITION     NAME     USER ST       TIME  NODES NODELIST(REASON)\n"
     ]
    }
   ],
   "source": [
    "! squeue -n stnuseq"
   ]
  },
  {
   "cell_type": "code",
   "execution_count": 2,
   "metadata": {},
   "outputs": [
    {
     "name": "stdout",
     "output_type": "stream",
     "text": [
      "========================================\n",
      "- Job ID: 788104\n",
      "- Tarefas por no:\n",
      "- Qtd. de nos: 1\n",
      "- Tot. de tarefas: 1\n",
      "- Nos alocados: sdumont1149\n",
      "- diretorio onde sbatch foi chamado ($SLURM_SUBMIT_DIR):\n",
      "/prj/ampemi/eduardo.miranda2/stnc/Numba\n",
      "sdumont1149\n",
      "-- srun -------------------------------\n",
      "$ srun --mpi=pmi2 -n 1 python st-nu-seq.py\n",
      "Heat = 1500.0000 | Tempo = 30.5014 | Thread count = 1\n",
      "-- FIM --------------------------------\n",
      "========================================\n",
      "- Job ID: 788105\n",
      "- Tarefas por no:\n",
      "- Qtd. de nos: 1\n",
      "- Tot. de tarefas: 1\n",
      "- Nos alocados: sdumont1149\n",
      "- diretorio onde sbatch foi chamado ($SLURM_SUBMIT_DIR):\n",
      "/prj/ampemi/eduardo.miranda2/stnc/Numba\n",
      "sdumont1149\n",
      "-- srun -------------------------------\n",
      "$ srun --mpi=pmi2 -n 1 python st-nu-seq.py\n",
      "Heat = 1500.0000 | Tempo = 30.5266 | Thread count = 1\n",
      "-- FIM --------------------------------\n"
     ]
    }
   ],
   "source": [
    "%%bash\n",
    "d='/scratch/ampemi/eduardo.miranda2/stnc/Numba'\n",
    "cat $d/slurm-788104.out\n",
    "cat $d/slurm-788105.out"
   ]
  },
  {
   "cell_type": "code",
   "execution_count": null,
   "metadata": {},
   "outputs": [],
   "source": []
  }
 ],
 "metadata": {
  "kernelspec": {
   "display_name": "Python 3 (ipykernel)",
   "language": "python",
   "name": "python3"
  },
  "language_info": {
   "codemirror_mode": {
    "name": "ipython",
    "version": 3
   },
   "file_extension": ".py",
   "mimetype": "text/x-python",
   "name": "python",
   "nbconvert_exporter": "python",
   "pygments_lexer": "ipython3",
   "version": "3.8.8"
  }
 },
 "nbformat": 4,
 "nbformat_minor": 4
}
