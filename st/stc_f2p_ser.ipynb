{
 "cells": [
  {
   "cell_type": "markdown",
   "metadata": {},
   "source": [
    "# Stencil F2Py Serial\n",
    "\n",
    "- F2PY is a part of NumPy (numpy.f2py) and can also be used as a Python module.\n",
    "- Works by creating an extension module that can be imported in Python using the import keyword.\n",
    "- The module contains automatically generated wrapper functions that can be called from Python.\n",
    "- Act as an interface between Python and the compiled Fortran routines.\n",
    "- By wrapping a compiled code for Python, we can get the best of both worlds.\n",
    "- A good rule of thumb is to use when performing multiple computations within (nested) loops."
   ]
  },
  {
   "cell_type": "markdown",
   "metadata": {},
   "source": [
    "Para a execução deste Notebook, os ambientes já devem estar configurados:\n",
    "- source /scratch/app/modulos/intel-psxe-2019.sh\n",
    "- conda activate --stack ./envs"
   ]
  },
  {
   "cell_type": "markdown",
   "metadata": {},
   "source": [
    "O programa F90 pode ser compilado usando fortranmagic:\n",
    "\n",
    "    %load_ext fortranmagic\n",
    "    %%fortran -v --fcompiler=intelem --opt='-Ofast'     , ou\n",
    "    %%fortran -v --fcompiler=intelem --opt='-fcheck=all'\n",
    "    %%fortran -vvv --fcompiler=intelem --opt '-Ofast'\n",
    "\n",
    "ou gravando um arquivo em disco para usar o bash:\n",
    "\n",
    "    %%writefile stencil.f90"
   ]
  },
  {
   "cell_type": "code",
   "execution_count": 38,
   "metadata": {},
   "outputs": [
    {
     "name": "stdout",
     "output_type": "stream",
     "text": [
      "Overwriting stencil_f2py_seq.f90\n"
     ]
    }
   ],
   "source": [
    "%%writefile stencil_f2py_seq.f90\n",
    "subroutine st(n, energy, niters, heat, t)\n",
    "    integer, intent(in) :: n, energy, niters\n",
    "    double precision, intent(out) :: heat, t   \n",
    "    integer, parameter :: nsources=3\n",
    "    integer :: iters, i, j, x, y, size, sizeStart, sizeEnd\n",
    "    integer, dimension(3, 2) :: sources\n",
    "    double precision, allocatable :: aold(:,:), anew(:,:)\n",
    "    double precision :: t1=0.0, t2=0.0\n",
    "\n",
    "    call cpu_time(t1)\n",
    "\n",
    "    size = n + 2\n",
    "    sizeStart = 2\n",
    "    sizeEnd = n + 1\n",
    "\n",
    "    allocate(aold(size, size))\n",
    "    allocate(anew(size, size))\n",
    "    aold = 0.0\n",
    "    anew = 0.0\n",
    "    \n",
    "    sources(1,:) = (/ n/2,   n/2   /)\n",
    "    sources(2,:) = (/ n/3,   n/3   /)\n",
    "    sources(3,:) = (/ n*4/5, n*8/9 /)   ! 8/9 conforme Balaji\n",
    "    \n",
    "    do iters = 1, niters, 2\n",
    "        do j = sizeStart, sizeEnd\n",
    "            do i = sizeStart, sizeEnd\n",
    "                anew(i,j) = aold(i,j)/2.0 + (aold(i-1,j) + aold(i+1,j) +  &\n",
    "                            aold(i,j-1) + aold(i,j+1)) / 4.0 / 2.0\n",
    "            enddo\n",
    "        enddo\n",
    "        do i = 1, nsources\n",
    "            x = sources(i,1) + 1\n",
    "            y = sources(i,2) + 1\n",
    "            anew(x,y) =  anew(x,y) + energy\n",
    "        enddo\n",
    "        do j = sizeStart, sizeEnd\n",
    "            do i = sizeStart, sizeEnd\n",
    "                aold(i,j) = anew(i,j)/2.0 + (anew(i-1,j) + anew(i+1,j) +  &\n",
    "                            anew(i,j-1) + anew(i,j+1)) / 4.0 / 2.0\n",
    "            enddo\n",
    "        enddo\n",
    "        do i = 1, nsources\n",
    "            x = sources(i,1) + 1\n",
    "            y = sources(i,2) + 1\n",
    "            aold(x,y) = aold(x,y) + energy\n",
    "        enddo\n",
    "    enddo\n",
    "    heat = 0.0\n",
    "    do j = sizeStart, sizeEnd\n",
    "        do i = sizeStart, sizeEnd\n",
    "            heat = heat + aold(i,j)\n",
    "        end do\n",
    "    end do\n",
    "    deallocate(aold)\n",
    "    deallocate(anew)\n",
    "    call cpu_time(t2)\n",
    "    t = t2 - t1\n",
    "end subroutine"
   ]
  },
  {
   "cell_type": "markdown",
   "metadata": {},
   "source": [
    "Verificando os compiladores disponíveis\n",
    "\n",
    "    --fcompiler=gnu95    GNU Fortran 95 compiler (4.8.5)\n",
    "    --fcompiler=intelem  Intel Fortran Compiler for 64-bit apps (19.0.3.199)"
   ]
  },
  {
   "cell_type": "code",
   "execution_count": 3,
   "metadata": {},
   "outputs": [
    {
     "name": "stdout",
     "output_type": "stream",
     "text": [
      "Gnu95FCompiler instance properties:\n",
      "  archiver        = ['/usr/bin/gfortran', '-cr']\n",
      "  compile_switch  = '-c'\n",
      "  compiler_f77    = ['/usr/bin/gfortran', '-Wall', '-g', '-ffixed-form', '-\n",
      "                    fno-second-underscore', '-fPIC', '-O3', '-funroll-loops']\n",
      "  compiler_f90    = ['/usr/bin/gfortran', '-Wall', '-g', '-fno-second-\n",
      "                    underscore', '-fPIC', '-O3', '-funroll-loops']\n",
      "  compiler_fix    = ['/usr/bin/gfortran', '-Wall', '-g', '-ffixed-form', '-\n",
      "                    fno-second-underscore', '-Wall', '-g', '-fno-second-\n",
      "                    underscore', '-fPIC', '-O3', '-funroll-loops']\n",
      "  libraries       = ['gfortran']\n",
      "  library_dirs    = ['/usr/lib/gcc/x86_64-redhat-linux/4.8.5',\n",
      "                    '/usr/lib/gcc/x86_64-redhat-linux/4.8.5']\n",
      "  linker_exe      = ['/usr/bin/gfortran', '-Wall', '-Wall']\n",
      "  linker_so       = ['/usr/bin/gfortran', '-Wall', '-g', '-Wall', '-g', '-\n",
      "                    shared']\n",
      "  object_switch   = '-o '\n",
      "  ranlib          = ['/usr/bin/gfortran']\n",
      "  version         = LooseVersion ('4.8.5')\n",
      "  version_cmd     = ['/usr/bin/gfortran', '-dumpversion']\n",
      "IntelEM64TFCompiler instance properties:\n",
      "  archiver        =\n",
      "                    ['/opt/intel/parallel_studio_xe_2019/compilers_and_librari\n",
      "                    es_2019.3.199/linux/bin/intel64/ifort', '-cr']\n",
      "  compile_switch  = '-c'\n",
      "  compiler_f77    =\n",
      "                    ['/opt/intel/parallel_studio_xe_2019/compilers_and_librari\n",
      "                    es_2019.3.199/linux/bin/intel64/ifort', '-FI', '-fPIC', '-\n",
      "                    fp-model strict -O1 -qopenmp', '']\n",
      "  compiler_f90    =\n",
      "                    ['/opt/intel/parallel_studio_xe_2019/compilers_and_librari\n",
      "                    es_2019.3.199/linux/bin/intel64/ifort', '-FR', '-fPIC', '-\n",
      "                    fp-model strict -O1 -qopenmp', '']\n",
      "  compiler_fix    =\n",
      "                    ['/opt/intel/parallel_studio_xe_2019/compilers_and_librari\n",
      "                    es_2019.3.199/linux/bin/intel64/ifort', '-FI', '-fPIC', '-\n",
      "                    fp-model strict -O1 -qopenmp', '']\n",
      "  libraries       = []\n",
      "  library_dirs    = []\n",
      "  linker_exe      = None\n",
      "  linker_so       =\n",
      "                    ['/opt/intel/parallel_studio_xe_2019/compilers_and_librari\n",
      "                    es_2019.3.199/linux/bin/intel64/ifort', '-shared', '-\n",
      "                    shared', '-nofor_main']\n",
      "  object_switch   = '-o '\n",
      "  ranlib          =\n",
      "                    ['/opt/intel/parallel_studio_xe_2019/compilers_and_librari\n",
      "                    es_2019.3.199/linux/bin/intel64/ifort']\n",
      "  version         = LooseVersion ('19.0.3.199')\n",
      "  version_cmd     =\n",
      "                    ['/opt/intel/parallel_studio_xe_2019/compilers_and_librari\n",
      "                    es_2019.3.199/linux/bin/intel64/ifort', '-FI', '-V', '-c',\n",
      "                    '/tmp/tmp94y5yapr/kjqjb37k.f', '-o',\n",
      "                    '/tmp/tmp94y5yapr/kjqjb37k.o']\n",
      "Fortran compilers found:\n",
      "  --fcompiler=gnu95    GNU Fortran 95 compiler (4.8.5)\n",
      "  --fcompiler=intelem  Intel Fortran Compiler for 64-bit apps (19.0.3.199)\n",
      "Compilers available for this platform, but not found:\n",
      "  --fcompiler=absoft   Absoft Corp Fortran Compiler\n",
      "  --fcompiler=compaq   Compaq Fortran Compiler\n",
      "  --fcompiler=g95      G95 Fortran Compiler\n",
      "  --fcompiler=gnu      GNU Fortran 77 compiler\n",
      "  --fcompiler=intel    Intel Fortran Compiler for 32-bit apps\n",
      "  --fcompiler=intele   Intel Fortran Compiler for Itanium apps\n",
      "  --fcompiler=lahey    Lahey/Fujitsu Fortran 95 Compiler\n",
      "  --fcompiler=nag      NAGWare Fortran 95 Compiler\n",
      "  --fcompiler=nagfor   NAG Fortran Compiler\n",
      "  --fcompiler=pathf95  PathScale Fortran Compiler\n",
      "  --fcompiler=pg       Portland Group Fortran Compiler\n",
      "  --fcompiler=vast     Pacific-Sierra Research Fortran 90 Compiler\n",
      "Compilers not available on this platform:\n",
      "  --fcompiler=flang     Portland Group Fortran LLVM Compiler\n",
      "  --fcompiler=hpux      HP Fortran 90 Compiler\n",
      "  --fcompiler=ibm       IBM XL Fortran Compiler\n",
      "  --fcompiler=intelev   Intel Visual Fortran Compiler for Itanium apps\n",
      "  --fcompiler=intelv    Intel Visual Fortran Compiler for 32-bit apps\n",
      "  --fcompiler=intelvem  Intel Visual Fortran Compiler for 64-bit apps\n",
      "  --fcompiler=mips      MIPSpro Fortran Compiler\n",
      "  --fcompiler=none      Fake Fortran compiler\n",
      "  --fcompiler=sun       Sun or Forte Fortran 95 Compiler\n",
      "For compiler details, run 'config_fc --verbose' setup command.\n",
      "Removing build directory /tmp/tmpo0dfurkw\n"
     ]
    }
   ],
   "source": [
    "! f2py -c --help-fcompiler"
   ]
  },
  {
   "cell_type": "markdown",
   "metadata": {},
   "source": [
    "Vamos usar o compilador Intel"
   ]
  },
  {
   "cell_type": "code",
   "execution_count": 54,
   "metadata": {},
   "outputs": [
    {
     "name": "stdout",
     "output_type": "stream",
     "text": [
      "running build\n",
      "running config_cc\n",
      "unifing config_cc, config, build_clib, build_ext, build commands --compiler options\n",
      "running config_fc\n",
      "unifing config_fc, config, build_clib, build_ext, build commands --fcompiler options\n",
      "running build_src\n",
      "build_src\n",
      "building extension \"stencil_f2py_seq\" sources\n",
      "f2py options: []\n",
      "f2py:> /tmp/tmp5rqi4bv6/src.linux-x86_64-3.7/stencil_f2py_seqmodule.c\n",
      "creating /tmp/tmp5rqi4bv6/src.linux-x86_64-3.7\n",
      "Reading fortran codes...\n",
      "\tReading file 'stencil_f2py_seq.f90' (format:free)\n",
      "Post-processing...\n",
      "\tBlock: stencil_f2py_seq\n",
      "\t\t\tBlock: st\n",
      "Post-processing (stage 2)...\n",
      "Building modules...\n",
      "\tBuilding module \"stencil_f2py_seq\"...\n",
      "\t\tConstructing wrapper function \"st\"...\n",
      "\t\t  heat,t = st(n,energy,niters)\n",
      "\tWrote C/API module \"stencil_f2py_seq\" to file \"/tmp/tmp5rqi4bv6/src.linux-x86_64-3.7/stencil_f2py_seqmodule.c\"\n",
      "  adding '/tmp/tmp5rqi4bv6/src.linux-x86_64-3.7/fortranobject.c' to sources.\n",
      "  adding '/tmp/tmp5rqi4bv6/src.linux-x86_64-3.7' to include_dirs.\n",
      "copying /scratch/app/anaconda3/2018.12/lib/python3.7/site-packages/numpy/f2py/src/fortranobject.c -> /tmp/tmp5rqi4bv6/src.linux-x86_64-3.7\n",
      "copying /scratch/app/anaconda3/2018.12/lib/python3.7/site-packages/numpy/f2py/src/fortranobject.h -> /tmp/tmp5rqi4bv6/src.linux-x86_64-3.7\n",
      "build_src: building npy-pkg config files\n",
      "running build_ext\n",
      "customize UnixCCompiler\n",
      "customize UnixCCompiler using build_ext\n",
      "get_default_fcompiler: matching types: '['gnu95', 'intel', 'lahey', 'pg', 'absoft', 'nag', 'vast', 'compaq', 'intele', 'intelem', 'gnu', 'g95', 'pathf95', 'nagfor']'\n",
      "customize Gnu95FCompiler\n",
      "Found executable /usr/bin/gfortran\n",
      "customize Gnu95FCompiler\n",
      "customize Gnu95FCompiler using build_ext\n",
      "building 'stencil_f2py_seq' extension\n",
      "compiling C sources\n",
      "C compiler: gcc -pthread -B /scratch/app/anaconda3/2018.12/compiler_compat -Wl,--sysroot=/ -Wsign-compare -DNDEBUG -g -fwrapv -O3 -Wall -Wstrict-prototypes -fPIC\n",
      "\n",
      "creating /tmp/tmp5rqi4bv6/tmp\n",
      "creating /tmp/tmp5rqi4bv6/tmp/tmp5rqi4bv6\n",
      "creating /tmp/tmp5rqi4bv6/tmp/tmp5rqi4bv6/src.linux-x86_64-3.7\n",
      "compile options: '-I/tmp/tmp5rqi4bv6/src.linux-x86_64-3.7 -I/scratch/app/anaconda3/2018.12/lib/python3.7/site-packages/numpy/core/include -I/scratch/app/anaconda3/2018.12/include/python3.7m -c'\n",
      "gcc: /tmp/tmp5rqi4bv6/src.linux-x86_64-3.7/stencil_f2py_seqmodule.c\n",
      "gcc: /tmp/tmp5rqi4bv6/src.linux-x86_64-3.7/fortranobject.c\n",
      "compiling Fortran sources\n",
      "Fortran f77 compiler: /usr/bin/gfortran -Wall -g -ffixed-form -fno-second-underscore -fPIC -O3 -funroll-loops\n",
      "Fortran f90 compiler: /usr/bin/gfortran -Wall -g -fno-second-underscore -fPIC -O3 -funroll-loops\n",
      "Fortran fix compiler: /usr/bin/gfortran -Wall -g -ffixed-form -fno-second-underscore -Wall -g -fno-second-underscore -fPIC -O3 -funroll-loops\n",
      "compile options: '-I/tmp/tmp5rqi4bv6/src.linux-x86_64-3.7 -I/scratch/app/anaconda3/2018.12/lib/python3.7/site-packages/numpy/core/include -I/scratch/app/anaconda3/2018.12/include/python3.7m -c'\n",
      "gfortran:f90: stencil_f2py_seq.f90\n",
      "/usr/bin/gfortran -Wall -g -Wall -g -shared /tmp/tmp5rqi4bv6/tmp/tmp5rqi4bv6/src.linux-x86_64-3.7/stencil_f2py_seqmodule.o /tmp/tmp5rqi4bv6/tmp/tmp5rqi4bv6/src.linux-x86_64-3.7/fortranobject.o /tmp/tmp5rqi4bv6/stencil_f2py_seq.o -L/usr/lib/gcc/x86_64-redhat-linux/4.8.5 -L/usr/lib/gcc/x86_64-redhat-linux/4.8.5 -lgfortran -o ./stencil_f2py_seq.cpython-37m-x86_64-linux-gnu.so\n",
      "Removing build directory /tmp/tmp5rqi4bv6\n"
     ]
    },
    {
     "name": "stderr",
     "output_type": "stream",
     "text": [
      "In file included from /scratch/app/anaconda3/2018.12/lib/python3.7/site-packages/numpy/core/include/numpy/ndarraytypes.h:1832:0,\n",
      "                 from /scratch/app/anaconda3/2018.12/lib/python3.7/site-packages/numpy/core/include/numpy/ndarrayobject.h:12,\n",
      "                 from /scratch/app/anaconda3/2018.12/lib/python3.7/site-packages/numpy/core/include/numpy/arrayobject.h:4,\n",
      "                 from /tmp/tmp5rqi4bv6/src.linux-x86_64-3.7/fortranobject.h:13,\n",
      "                 from /tmp/tmp5rqi4bv6/src.linux-x86_64-3.7/fortranobject.c:2:\n",
      "/scratch/app/anaconda3/2018.12/lib/python3.7/site-packages/numpy/core/include/numpy/npy_1_7_deprecated_api.h:17:2: warning: #warning \"Using deprecated NumPy API, disable it with \" \"#define NPY_NO_DEPRECATED_API NPY_1_7_API_VERSION\" [-Wcpp]\n",
      " #warning \"Using deprecated NumPy API, disable it with \" \\\n",
      "  ^\n",
      "In file included from /scratch/app/anaconda3/2018.12/lib/python3.7/site-packages/numpy/core/include/numpy/ndarraytypes.h:1832:0,\n",
      "                 from /scratch/app/anaconda3/2018.12/lib/python3.7/site-packages/numpy/core/include/numpy/ndarrayobject.h:12,\n",
      "                 from /scratch/app/anaconda3/2018.12/lib/python3.7/site-packages/numpy/core/include/numpy/arrayobject.h:4,\n",
      "                 from /tmp/tmp5rqi4bv6/src.linux-x86_64-3.7/fortranobject.h:13,\n",
      "                 from /tmp/tmp5rqi4bv6/src.linux-x86_64-3.7/stencil_f2py_seqmodule.c:15:\n",
      "/scratch/app/anaconda3/2018.12/lib/python3.7/site-packages/numpy/core/include/numpy/npy_1_7_deprecated_api.h:17:2: warning: #warning \"Using deprecated NumPy API, disable it with \" \"#define NPY_NO_DEPRECATED_API NPY_1_7_API_VERSION\" [-Wcpp]\n",
      " #warning \"Using deprecated NumPy API, disable it with \" \\\n",
      "  ^\n",
      "rmbadname1: Replacing \"size\" with \"size_bn\".\n"
     ]
    }
   ],
   "source": [
    "%%bash\n",
    "rm stencil_f2py_seq.*.so\n",
    "\n",
    "# não compila:\n",
    "# source /scratch/app/modulos/intel-psxe-2019.sh\n",
    "# f2py -c stencil_f2py_seq.f90 -m stencil_f2py_seq --fcompiler=intelem\n",
    "\n",
    "# (demora para aparecer o \".so\" no diretório)\n",
    "f2py -c stencil_f2py_seq.f90 -m stencil_f2py_seq"
   ]
  },
  {
   "cell_type": "code",
   "execution_count": 55,
   "metadata": {},
   "outputs": [
    {
     "name": "stdout",
     "output_type": "stream",
     "text": [
      "This module 'stencil_f2py_seq' is auto-generated with f2py (version:2).\n",
      "Functions:\n",
      "  heat,t = st(n,energy,niters)\n",
      ".\n"
     ]
    }
   ],
   "source": [
    "%reload_ext autoreload\n",
    "%autoreload 2\n",
    "import stencil_f2py_seq\n",
    "print(stencil_f2py_seq.__doc__)"
   ]
  },
  {
   "cell_type": "markdown",
   "metadata": {},
   "source": [
    "Código principal que chama o módulo. Será gravado em disco:"
   ]
  },
  {
   "cell_type": "code",
   "execution_count": 56,
   "metadata": {},
   "outputs": [
    {
     "name": "stdout",
     "output_type": "stream",
     "text": [
      "Overwriting stencil_seq.py\n"
     ]
    }
   ],
   "source": [
    "%%writefile stencil_seq.py\n",
    "from time import time\n",
    "tp = time()\n",
    "import stencil_f2py_seq\n",
    "import numpy as np\n",
    "\n",
    "n            = 4800    # nxn grid; 4800,1,500→1500; 100,1,10→30; [4800]\n",
    "energy       = 1       # energy to be injected per iteration; [1]\n",
    "niters       = 500     # number of iterations; [500]\n",
    "\n",
    "heat, t = stencil_f2py_seq.st(n, energy, niters)\n",
    "tp = time() - tp\n",
    "print(\"Heat = %0.4f | Tempo = %0.4f | TempoPyt = %0.4f\" %(heat, t, tp))"
   ]
  },
  {
   "cell_type": "markdown",
   "metadata": {},
   "source": [
    "Rodando uma vez para testar o funcionamento:"
   ]
  },
  {
   "cell_type": "code",
   "execution_count": 57,
   "metadata": {
    "scrolled": true
   },
   "outputs": [
    {
     "name": "stdout",
     "output_type": "stream",
     "text": [
      "Overwriting calctempo.sh\n"
     ]
    }
   ],
   "source": [
    "%%writefile calctempo.sh\n",
    "#!/bin/sh\n",
    "time python stencil_seq.py"
   ]
  },
  {
   "cell_type": "code",
   "execution_count": 58,
   "metadata": {},
   "outputs": [
    {
     "name": "stdout",
     "output_type": "stream",
     "text": [
      "Heat = 1500.0000 | Tempo = 18.7115 | TempoPyt = 18.9060\n"
     ]
    },
    {
     "name": "stderr",
     "output_type": "stream",
     "text": [
      "\n",
      "real\t0m18.967s\n",
      "user\t0m18.399s\n",
      "sys\t0m0.528s\n"
     ]
    }
   ],
   "source": [
    "%%bash\n",
    "sh calctempo.sh"
   ]
  },
  {
   "cell_type": "markdown",
   "metadata": {},
   "source": [
    "## Rodando em um nó de execução"
   ]
  },
  {
   "cell_type": "markdown",
   "metadata": {},
   "source": [
    "Copia o executável para /scratch"
   ]
  },
  {
   "cell_type": "code",
   "execution_count": 59,
   "metadata": {},
   "outputs": [],
   "source": [
    "%%bash\n",
    "a='stencil_seq.py'\n",
    "b='/stnc/F2Py'\n",
    "s='/prj/ampemi/eduardo.miranda2'$b\n",
    "d='/scratch/ampemi/eduardo.miranda2'$b\n",
    "rm $d/stencil_f2py_seq.*.so\n",
    "cp  $s/stencil_f2py_seq.*.so  $s/stencil_seq.py  $s/calctempo.sh  $d"
   ]
  },
  {
   "cell_type": "markdown",
   "metadata": {},
   "source": [
    "Verificando o funcionamento em /scratch"
   ]
  },
  {
   "cell_type": "code",
   "execution_count": 60,
   "metadata": {},
   "outputs": [
    {
     "name": "stdout",
     "output_type": "stream",
     "text": [
      "Heat = 1500.0000 | Tempo = 18.5834 | TempoPyt = 18.7791\n"
     ]
    },
    {
     "name": "stderr",
     "output_type": "stream",
     "text": [
      "\n",
      "real\t0m18.838s\n",
      "user\t0m18.300s\n",
      "sys\t0m0.500s\n"
     ]
    }
   ],
   "source": [
    "%%bash\n",
    "cd /scratch/ampemi/eduardo.miranda2/stnc/F2Py\n",
    "sh calctempo.sh"
   ]
  },
  {
   "cell_type": "markdown",
   "metadata": {},
   "source": [
    "Arquivo de lote de submissão"
   ]
  },
  {
   "cell_type": "code",
   "execution_count": 61,
   "metadata": {},
   "outputs": [
    {
     "name": "stdout",
     "output_type": "stream",
     "text": [
      "Overwriting stencil_seq_f2py.srm\n"
     ]
    }
   ],
   "source": [
    "%%writefile stencil_seq_f2py.srm\n",
    "#!/bin/bash\n",
    "# limites das filas (1,0 UA):\n",
    "#   cpu_dev  : 20 min.,  1-4  nós, 1/1   tarefas em exec/fila máximo\n",
    "#   cpu_small: 72 horas, 1-20 nós, 16/96 tarefas em exec/fila máximo\n",
    "#SBATCH -p cpu_small           #Fila (partition) a ser utilizada\n",
    "#SBATCH --ntasks=1             #Total de tarefas\n",
    "# #SBATCH --nodes=1              #Qtd de nós\n",
    "# #SBATCH --ntasks-per-node=1    #Qtd de tarefas por nó ($SLURM_NTASKS_PER_NODE)\n",
    "# #SBATCH --exclusive            #Utilização exclusiva dos nós\n",
    "#SBATCH -J stf2seq             #Nome do job, 8 caracteres\n",
    "#SBATCH --time=00:02:00        #Tempo max. de execução\n",
    "\n",
    "echo '========================================'\n",
    "echo '- Job ID:' $SLURM_JOB_ID\n",
    "echo '- Tarefas por no:' $SLURM_NTASKS_PER_NODE\n",
    "echo '- Qtd. de nos:' $SLURM_JOB_NUM_NODES\n",
    "echo '- Tot. de tarefas:' $SLURM_NTASKS\n",
    "echo '- Nos alocados:' $SLURM_JOB_NODELIST\n",
    "echo '- diretorio onde sbatch foi chamado ($SLURM_SUBMIT_DIR):'\n",
    "echo $SLURM_SUBMIT_DIR\n",
    "cd $SLURM_SUBMIT_DIR\n",
    "\n",
    "#Entra no diretório de trabalho\n",
    "cd /scratch/ampemi/eduardo.miranda2/stnc/F2Py\n",
    "\n",
    "#Executavel\n",
    "EXEC='sh calctempo.sh'\n",
    "\n",
    "#Dispara a execucao\n",
    "echo '-- srun -------------------------------'\n",
    "echo '$ srun -n ' $SLURM_NTASKS $EXEC\n",
    "srun -n $SLURM_NTASKS $EXEC\n",
    "echo '-- FIM --------------------------------'"
   ]
  },
  {
   "cell_type": "code",
   "execution_count": 62,
   "metadata": {},
   "outputs": [
    {
     "name": "stdout",
     "output_type": "stream",
     "text": [
      "Submitted batch job 772671\n",
      "Submitted batch job 772672\n",
      "Submitted batch job 772673\n",
      "             JOBID PARTITION     NAME     USER ST       TIME  NODES NODELIST(REASON)\n",
      "            772671 cpu_small  stf2seq eduardo. PD       0:00      1 (Priority)\n",
      "            772672 cpu_small  stf2seq eduardo. PD       0:00      1 (Priority)\n",
      "            772673 cpu_small  stf2seq eduardo. PD       0:00      1 (Priority)\n"
     ]
    }
   ],
   "source": [
    "%%bash\n",
    "sbatch stencil_seq_f2py.srm\n",
    "sbatch stencil_seq_f2py.srm\n",
    "sbatch stencil_seq_f2py.srm\n",
    "squeue -n stf2seq"
   ]
  },
  {
   "cell_type": "code",
   "execution_count": 68,
   "metadata": {},
   "outputs": [
    {
     "name": "stdout",
     "output_type": "stream",
     "text": [
      "             JOBID PARTITION     NAME     USER ST       TIME  NODES NODELIST(REASON)\n"
     ]
    }
   ],
   "source": [
    "%%bash\n",
    "squeue -n stf2seq"
   ]
  },
  {
   "cell_type": "code",
   "execution_count": 69,
   "metadata": {},
   "outputs": [
    {
     "name": "stdout",
     "output_type": "stream",
     "text": [
      "========================================\n",
      "- Job ID: 772671\n",
      "- Tarefas por no:\n",
      "- Qtd. de nos: 1\n",
      "- Tot. de tarefas: 1\n",
      "- Nos alocados: sdumont1092\n",
      "- diretorio onde sbatch foi chamado ($SLURM_SUBMIT_DIR):\n",
      "/prj/ampemi/eduardo.miranda2/stnc/F2Py\n",
      "-- srun -------------------------------\n",
      "$ srun -n  1 sh calctempo.sh\n",
      "Heat = 1500.0000 | Tempo = 18.8829 | TempoPyt = 26.2095\n",
      "\n",
      "real\t0m27.363s\n",
      "user\t0m18.978s\n",
      "sys\t0m0.295s\n",
      "-- FIM --------------------------------\n",
      "========================================\n",
      "- Job ID: 772672\n",
      "- Tarefas por no:\n",
      "- Qtd. de nos: 1\n",
      "- Tot. de tarefas: 1\n",
      "- Nos alocados: sdumont1092\n",
      "- diretorio onde sbatch foi chamado ($SLURM_SUBMIT_DIR):\n",
      "/prj/ampemi/eduardo.miranda2/stnc/F2Py\n",
      "-- srun -------------------------------\n",
      "$ srun -n  1 sh calctempo.sh\n",
      "Heat = 1500.0000 | Tempo = 18.9576 | TempoPyt = 19.6272\n",
      "\n",
      "real\t0m19.747s\n",
      "user\t0m19.027s\n",
      "sys\t0m0.272s\n",
      "-- FIM --------------------------------\n",
      "========================================\n",
      "- Job ID: 772673\n",
      "- Tarefas por no:\n",
      "- Qtd. de nos: 1\n",
      "- Tot. de tarefas: 1\n",
      "- Nos alocados: sdumont1092\n",
      "- diretorio onde sbatch foi chamado ($SLURM_SUBMIT_DIR):\n",
      "/prj/ampemi/eduardo.miranda2/stnc/F2Py\n",
      "-- srun -------------------------------\n",
      "$ srun -n  1 sh calctempo.sh\n",
      "Heat = 1500.0000 | Tempo = 18.9646 | TempoPyt = 19.6352\n",
      "\n",
      "real\t0m19.758s\n",
      "user\t0m19.050s\n",
      "sys\t0m0.251s\n",
      "-- FIM --------------------------------\n"
     ]
    }
   ],
   "source": [
    "%%bash\n",
    "d='/scratch/ampemi/eduardo.miranda2/stnc/F2Py'\n",
    "cat $d/slurm-772671.out\n",
    "cat $d/slurm-772672.out\n",
    "cat $d/slurm-772673.out"
   ]
  },
  {
   "cell_type": "code",
   "execution_count": null,
   "metadata": {},
   "outputs": [],
   "source": []
  }
 ],
 "metadata": {
  "kernelspec": {
   "display_name": "Python 3 (ipykernel)",
   "language": "python",
   "name": "python3"
  },
  "language_info": {
   "codemirror_mode": {
    "name": "ipython",
    "version": 3
   },
   "file_extension": ".py",
   "mimetype": "text/x-python",
   "name": "python",
   "nbconvert_exporter": "python",
   "pygments_lexer": "ipython3",
   "version": "3.8.8"
  }
 },
 "nbformat": 4,
 "nbformat_minor": 4
}
