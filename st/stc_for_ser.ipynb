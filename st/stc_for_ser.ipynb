{
 "cells": [
  {
   "cell_type": "markdown",
   "metadata": {},
   "source": [
    "# Stencil F90 Serial"
   ]
  },
  {
   "cell_type": "code",
   "execution_count": 5,
   "metadata": {},
   "outputs": [
    {
     "name": "stdout",
     "output_type": "stream",
     "text": [
      "Intel(R) Parallel Studio XE 2019 Update 3 for Linux*\n",
      "Copyright (C) 2009-2019 Intel Corporation. All rights reserved.\n",
      "ifort (IFORT) 19.0.3.199 20190206\n",
      "Copyright (C) 1985-2019 Intel Corporation.  All rights reserved.\n",
      "\n"
     ]
    }
   ],
   "source": [
    "%%bash\n",
    "source /scratch/app/modulos/intel-psxe-2019.sh\n",
    "mpiifort --version"
   ]
  },
  {
   "cell_type": "code",
   "execution_count": 16,
   "metadata": {},
   "outputs": [
    {
     "name": "stdout",
     "output_type": "stream",
     "text": [
      "Linux sdumont14 3.10.0-957.el7.x86_64 #1 SMP Thu Oct 4 20:48:51 UTC 2018 x86_64 x86_64 x86_64 GNU/Linux\n"
     ]
    }
   ],
   "source": [
    "! uname -a"
   ]
  },
  {
   "cell_type": "code",
   "execution_count": 17,
   "metadata": {},
   "outputs": [
    {
     "name": "stdout",
     "output_type": "stream",
     "text": [
      "Red Hat Enterprise Linux Server release 7.6 (Maipo)\n"
     ]
    }
   ],
   "source": [
    "! cat /etc/redhat-release"
   ]
  },
  {
   "cell_type": "markdown",
   "metadata": {},
   "source": [
    "Grava em um arquivo no disco"
   ]
  },
  {
   "cell_type": "code",
   "execution_count": 1,
   "metadata": {},
   "outputs": [
    {
     "name": "stdout",
     "output_type": "stream",
     "text": [
      "Overwriting stencil_seq.f90\n"
     ]
    }
   ],
   "source": [
    "%%writefile stencil_seq.f90\n",
    "! === stencil_seq.f90 - stencil versão sequencial ===\n",
    "! Revisão 2020-08-11\n",
    "! Programa originalmente escrito por C. R. Souza\n",
    "! Adaptado por E. Furlan M.\n",
    "! Parâmetros de compilação para debugging e para produção:\n",
    "!   $ ifort -g -check all -fpe0 -warn -traceback -debug extended  \\\n",
    "!           -o stencil_seq  stencil_seq.f90\n",
    "!   $ ifort -O3 -o stencil_seq  stencil_seq.f90\n",
    "! Para rodar:\n",
    "!   $ ./stencil_mpi\n",
    "! HISTÓRICO:\n",
    "! - parâmetros de linha de comando substituidos por linhas de programa, uma\n",
    "!   vez que é mais fácil altera-los interativamente no Jupyter Notebook.\n",
    "! - eliminadas as referências à biblioteca mpi.\n",
    "! - \"aold(sources(i,1)+1, sources(i,2)+1)\": adicionado \"+1\" porque os índices\n",
    "!   em fortran iniciam em 1. Sem essa correção acontecem erros de runtime por\n",
    "!   violação dos limites da matriz.\n",
    "! - \"sources(3,:) = (/ n*4/5, n*8/9 /)\": alterado o \"n*8/9\" para ficar simi-\n",
    "!   lar à versão \"C\" do programa, escrita por Balaji.\n",
    "\n",
    "program stencil\n",
    "    implicit none\n",
    "    integer, parameter  :: nsources=3\n",
    "    integer             :: n=4800     ! nxn grid (4800)\n",
    "    integer             :: energy=1   ! energy to be injected per iteration (1)\n",
    "    integer             :: niters=500 ! number of iterations (500)\n",
    "    integer             :: iters, i, j, size, sizeStart, sizeEnd\n",
    "    integer, dimension(3, 2)        :: sources\n",
    "    double precision, allocatable   :: aold(:,:), anew(:,:)\n",
    "    double precision    :: t=0.0, t1=0.0, heat=0.0\n",
    "            \n",
    "    call cpu_time(t1)\n",
    "    t = -t1\n",
    "    \n",
    "    size = n + 2\n",
    "    sizeStart = 2\n",
    "    sizeEnd = n + 1\n",
    "\n",
    "    allocate(aold(size, size))\n",
    "    allocate(anew(size, size))\n",
    "    aold = 0.0\n",
    "    anew = 0.0\n",
    "\n",
    "    sources(1,:) = (/ n/2,   n/2   /)\n",
    "    sources(2,:) = (/ n/3,   n/3   /)\n",
    "    sources(3,:) = (/ n*4/5, n*8/9 /)   ! 8/9 conforme Balaji\n",
    "\n",
    "    do iters = 1, niters, 2\n",
    "        \n",
    "        ! iteracao impar: anew <- stencil(aold)\n",
    "\n",
    "        do j = sizeStart, sizeEnd\n",
    "            do i = sizeStart, sizeEnd\n",
    "                anew(i,j) = aold(i,j)/2.0 + (aold(i-1,j) + aold(i+1,j) +  &\n",
    "                            aold(i,j-1) + aold(i,j+1))/4.0/2.0\n",
    "            enddo\n",
    "        enddo\n",
    "\n",
    "        do i = 1, nsources\n",
    "            anew(sources(i,1)+1, sources(i,2)+1) =  &\n",
    "                anew(sources(i,1)+1, sources(i,2)+1) + energy\n",
    "        enddo\n",
    "\n",
    "\n",
    "        ! iteracao par: aold <- stencil(anew)\n",
    "\n",
    "        do j = sizeStart, sizeEnd\n",
    "            do i = sizeStart, sizeEnd\n",
    "                aold(i,j) = anew(i,j)/2.0 + (anew(i-1,j) + anew(i+1,j) +  &\n",
    "                            anew(i,j-1) + anew(i,j+1))/4.0/2.0\n",
    "            enddo\n",
    "        enddo\n",
    "        \n",
    "        do i = 1, nsources\n",
    "            aold(sources(i,1)+1, sources(i,2)+1) =  &\n",
    "                aold(sources(i,1)+1, sources(i,2)+1) + energy\n",
    "        enddo\n",
    "\n",
    "    enddo\n",
    "   \n",
    "    heat = 0.0\n",
    "    do j = sizeStart, sizeEnd\n",
    "        do i = sizeStart, sizeEnd\n",
    "            heat = heat + aold(i,j)\n",
    "        end do\n",
    "    end do\n",
    "\n",
    "    deallocate(aold)\n",
    "    deallocate(anew)\n",
    "\n",
    "    call cpu_time(t1)\n",
    "    t = t + t1\n",
    "\n",
    "    write(*, \"('Heat = ' f0.4' | ')\", advance=\"no\") heat\n",
    "    write(*, \"('Tempo = 'f0.4)\") t\n",
    "\n",
    "end"
   ]
  },
  {
   "cell_type": "markdown",
   "metadata": {},
   "source": [
    "# Compilador GNU 4.8.5 (default do sistema operacional do SD)"
   ]
  },
  {
   "cell_type": "code",
   "execution_count": 3,
   "metadata": {},
   "outputs": [
    {
     "name": "stdout",
     "output_type": "stream",
     "text": [
      "Currently Loaded Modulefiles:\n",
      "  1) anaconda3/2018.12\n"
     ]
    }
   ],
   "source": [
    "! module list"
   ]
  },
  {
   "cell_type": "code",
   "execution_count": 4,
   "metadata": {},
   "outputs": [
    {
     "name": "stdout",
     "output_type": "stream",
     "text": [
      "GNU Fortran (GCC) 4.8.5 20150623 (Red Hat 4.8.5-36)\n",
      "Copyright (C) 2015 Free Software Foundation, Inc.\n",
      "\n",
      "GNU Fortran comes with NO WARRANTY, to the extent permitted by law.\n",
      "You may redistribute copies of GNU Fortran\n",
      "under the terms of the GNU General Public License.\n",
      "For more information about these matters, see the file named COPYING\n",
      "\n"
     ]
    }
   ],
   "source": [
    "! gfortran --version"
   ]
  },
  {
   "cell_type": "code",
   "execution_count": 6,
   "metadata": {},
   "outputs": [
    {
     "name": "stdout",
     "output_type": "stream",
     "text": [
      "Driving: gfortran -v -O3 stencil_seq.f90 -o st_sq_gnu -l gfortran -l m -shared-libgcc\n",
      "Using built-in specs.\n",
      "COLLECT_GCC=gfortran\n",
      "COLLECT_LTO_WRAPPER=/usr/libexec/gcc/x86_64-redhat-linux/4.8.5/lto-wrapper\n",
      "Target: x86_64-redhat-linux\n",
      "Configured with: ../configure --prefix=/usr --mandir=/usr/share/man --infodir=/usr/share/info --with-bugurl=http://bugzilla.redhat.com/bugzilla --enable-bootstrap --enable-shared --enable-threads=posix --enable-checking=release --with-system-zlib --enable-__cxa_atexit --disable-libunwind-exceptions --enable-gnu-unique-object --enable-linker-build-id --with-linker-hash-style=gnu --enable-languages=c,c++,objc,obj-c++,java,fortran,ada,go,lto --enable-plugin --enable-initfini-array --disable-libgcj --with-isl=/builddir/build/BUILD/gcc-4.8.5-20150702/obj-x86_64-redhat-linux/isl-install --with-cloog=/builddir/build/BUILD/gcc-4.8.5-20150702/obj-x86_64-redhat-linux/cloog-install --enable-gnu-indirect-function --with-tune=generic --with-arch_32=x86-64 --build=x86_64-redhat-linux\n",
      "Thread model: posix\n",
      "gcc version 4.8.5 20150623 (Red Hat 4.8.5-36) (GCC) \n",
      "COLLECT_GCC_OPTIONS='-v' '-O3' '-o' 'st_sq_gnu' '-shared-libgcc' '-mtune=generic' '-march=x86-64'\n",
      " /usr/libexec/gcc/x86_64-redhat-linux/4.8.5/f951 stencil_seq.f90 -quiet -dumpbase stencil_seq.f90 -mtune=generic -march=x86-64 -auxbase stencil_seq -O3 -version -fintrinsic-modules-path /usr/lib/gcc/x86_64-redhat-linux/4.8.5/finclude -o /tmp/ccNBoxiB.s\n",
      "GNU Fortran (GCC) version 4.8.5 20150623 (Red Hat 4.8.5-36) (x86_64-redhat-linux)\n",
      "\tcompiled by GNU C version 4.8.5 20150623 (Red Hat 4.8.5-36), GMP version 6.0.0, MPFR version 3.1.1, MPC version 1.0.1\n",
      "warning: GMP header version 6.0.0 differs from library version 6.1.2.\n",
      "warning: MPC header version 1.0.1 differs from library version 1.1.0.\n",
      "GGC heuristics: --param ggc-min-expand=100 --param ggc-min-heapsize=131072\n",
      "GNU Fortran (GCC) version 4.8.5 20150623 (Red Hat 4.8.5-36) (x86_64-redhat-linux)\n",
      "\tcompiled by GNU C version 4.8.5 20150623 (Red Hat 4.8.5-36), GMP version 6.0.0, MPFR version 3.1.1, MPC version 1.0.1\n",
      "warning: GMP header version 6.0.0 differs from library version 6.1.2.\n",
      "warning: MPC header version 1.0.1 differs from library version 1.1.0.\n",
      "GGC heuristics: --param ggc-min-expand=100 --param ggc-min-heapsize=131072\n",
      "COLLECT_GCC_OPTIONS='-v' '-O3' '-o' 'st_sq_gnu' '-shared-libgcc' '-mtune=generic' '-march=x86-64'\n",
      " as -v --64 -o /tmp/cczCc76I.o /tmp/ccNBoxiB.s\n",
      "GNU assembler version 2.27 (x86_64-redhat-linux) using BFD version version 2.27-34.base.el7\n",
      "Reading specs from /usr/lib/gcc/x86_64-redhat-linux/4.8.5/libgfortran.spec\n",
      "rename spec lib to liborig\n",
      "COLLECT_GCC_OPTIONS='-v' '-O3' '-o' 'st_sq_gnu' '-shared-libgcc' '-mtune=generic' '-march=x86-64'\n",
      "COMPILER_PATH=/usr/libexec/gcc/x86_64-redhat-linux/4.8.5/:/usr/libexec/gcc/x86_64-redhat-linux/4.8.5/:/usr/libexec/gcc/x86_64-redhat-linux/:/usr/lib/gcc/x86_64-redhat-linux/4.8.5/:/usr/lib/gcc/x86_64-redhat-linux/\n",
      "LIBRARY_PATH=/usr/lib/gcc/x86_64-redhat-linux/4.8.5/:/usr/lib/gcc/x86_64-redhat-linux/4.8.5/../../../../lib64/:/lib/../lib64/:/usr/lib/../lib64/:/usr/lib/gcc/x86_64-redhat-linux/4.8.5/../../../:/lib/:/usr/lib/\n",
      "COLLECT_GCC_OPTIONS='-v' '-O3' '-o' 'st_sq_gnu' '-shared-libgcc' '-mtune=generic' '-march=x86-64'\n",
      " /usr/libexec/gcc/x86_64-redhat-linux/4.8.5/collect2 --build-id --no-add-needed --eh-frame-hdr --hash-style=gnu -m elf_x86_64 -dynamic-linker /lib64/ld-linux-x86-64.so.2 -o st_sq_gnu /usr/lib/gcc/x86_64-redhat-linux/4.8.5/../../../../lib64/crt1.o /usr/lib/gcc/x86_64-redhat-linux/4.8.5/../../../../lib64/crti.o /usr/lib/gcc/x86_64-redhat-linux/4.8.5/crtbegin.o -L/usr/lib/gcc/x86_64-redhat-linux/4.8.5 -L/usr/lib/gcc/x86_64-redhat-linux/4.8.5/../../../../lib64 -L/lib/../lib64 -L/usr/lib/../lib64 -L/usr/lib/gcc/x86_64-redhat-linux/4.8.5/../../.. /tmp/cczCc76I.o -lgfortran -lm -lgcc_s -lgcc -lquadmath -lm -lgcc_s -lgcc -lc -lgcc_s -lgcc /usr/lib/gcc/x86_64-redhat-linux/4.8.5/crtend.o /usr/lib/gcc/x86_64-redhat-linux/4.8.5/../../../../lib64/crtn.o\n"
     ]
    }
   ],
   "source": [
    "! gfortran -v -O3  stencil_seq.f90  -o st_sq_gnu"
   ]
  },
  {
   "cell_type": "code",
   "execution_count": 7,
   "metadata": {},
   "outputs": [
    {
     "name": "stdout",
     "output_type": "stream",
     "text": [
      "Heat = 1500.0000 | Tempo = 17.6792\n"
     ]
    }
   ],
   "source": [
    "! ./st_sq_gnu"
   ]
  },
  {
   "cell_type": "code",
   "execution_count": 1,
   "metadata": {},
   "outputs": [
    {
     "name": "stdout",
     "output_type": "stream",
     "text": [
      "-rwxr-xr-x 1 xxxx.xxxx ampemi 13K Dec  2 22:49 /scratch/ampemi/xxxx.xxxx/stnc/Fortran/st_sq_gnu\n"
     ]
    }
   ],
   "source": [
    "%%bash\n",
    "a='st_sq_gnu'\n",
    "b='/stnc/Fortran'\n",
    "s='/prj/ampemi/xxxx.xxxx'$b\n",
    "d='/scratch/ampemi/xxxx.xxxx'$b\n",
    "cp $s/$a $d\n",
    "ls -lh $d/$a"
   ]
  },
  {
   "cell_type": "code",
   "execution_count": 2,
   "metadata": {},
   "outputs": [
    {
     "name": "stdout",
     "output_type": "stream",
     "text": [
      "Overwriting st_sq_gnu.srm\n"
     ]
    }
   ],
   "source": [
    "%%writefile st_sq_gnu.srm\n",
    "#!/bin/bash\n",
    "# limites das filas (1,0 UA):\n",
    "#   cpu_dev  : 20 min.,  1-4  nós, 1/1   tarefas em exec/fila máximo\n",
    "#   cpu_small: 72 horas, 1-20 nós, 16/96 tarefas em exec/fila máximo\n",
    "#SBATCH --ntasks=01            #Total de tarefas\n",
    "#SBATCH -J stsq                #Nome do job, 8 caracteres\n",
    "#SBATCH -p cpu_dev             #Fila (partition) a ser utilizada\n",
    "#SBATCH --time=00:02:00        #Tempo max. de execução 5 minutos\n",
    "#SBATCH --exclusive            #Utilização exclusiva dos nós\n",
    "# #SBATCH --nodes=1              #Qtd de nós\n",
    "# #SBATCH --ntasks-per-node=1    #Qtd de tarefas por nó ($SLURM_NTASKS_PER_NODE)\n",
    "\n",
    "echo '========================================'\n",
    "echo '- Job ID:' $SLURM_JOB_ID\n",
    "echo '- Tarefas por no:' $SLURM_NTASKS_PER_NODE\n",
    "echo '- Qtd. de nos:' $SLURM_JOB_NUM_NODES\n",
    "echo '- Tot. de tarefas:' $SLURM_NTASKS\n",
    "echo '- Nos alocados:' $SLURM_JOB_NODELIST\n",
    "nodeset -e $SLURM_JOB_NODELIST\n",
    "echo '- diretorio onde sbatch foi chamado ($SLURM_SUBMIT_DIR):'\n",
    "echo $SLURM_SUBMIT_DIR\n",
    "cd $SLURM_SUBMIT_DIR\n",
    "\n",
    "#Entra no diretório de trabalho\n",
    "d='/scratch/ampemi/xxxx.xxxx/stnc/Fortran'\n",
    "cd $d\n",
    "\n",
    "#Configura o executavel\n",
    "echo '-- executavel -------------------------'\n",
    "a='st_sq_gnu'\n",
    "b='/stnc/Fortran'\n",
    "d='/scratch/ampemi/xxxx.xxxx'$b\n",
    "EXEC1=$d/$a\n",
    "echo 'Executavel: '$EXEC1\n",
    "\n",
    "#Dispara a execucao\n",
    "echo '-- srun -------------------------------'\n",
    "echo '$ srun -n ' $SLURM_NTASKS $EXEC1\n",
    "srun -n $SLURM_NTASKS $EXEC1\n",
    "echo '-- FIM --------------------------------'"
   ]
  },
  {
   "cell_type": "code",
   "execution_count": 3,
   "metadata": {},
   "outputs": [
    {
     "name": "stdout",
     "output_type": "stream",
     "text": [
      "Submitted batch job 788485\n"
     ]
    }
   ],
   "source": [
    "! sbatch st_sq_gnu.srm"
   ]
  },
  {
   "cell_type": "code",
   "execution_count": 4,
   "metadata": {},
   "outputs": [
    {
     "name": "stdout",
     "output_type": "stream",
     "text": [
      "             JOBID PARTITION     NAME     USER ST       TIME  NODES NODELIST(REASON)\n",
      "            788485   cpu_dev     stsq xxxx.  R       0:18      1 sdumont1090\n"
     ]
    }
   ],
   "source": [
    "! squeue -n stsq"
   ]
  },
  {
   "cell_type": "code",
   "execution_count": 5,
   "metadata": {},
   "outputs": [
    {
     "name": "stdout",
     "output_type": "stream",
     "text": [
      "             JOBID PARTITION     NAME     USER ST       TIME  NODES NODELIST(REASON)\n"
     ]
    }
   ],
   "source": [
    "! squeue -n stsq"
   ]
  },
  {
   "cell_type": "code",
   "execution_count": 6,
   "metadata": {},
   "outputs": [
    {
     "name": "stdout",
     "output_type": "stream",
     "text": [
      "========================================\n",
      "- Job ID: 788485\n",
      "- Tarefas por no:\n",
      "- Qtd. de nos: 1\n",
      "- Tot. de tarefas: 1\n",
      "- Nos alocados: sdumont1090\n",
      "sdumont1090\n",
      "- diretorio onde sbatch foi chamado ($SLURM_SUBMIT_DIR):\n",
      "/prj/ampemi/xxxx.xxxx/stnc/Fortran\n",
      "-- executavel -------------------------\n",
      "Executavel: /scratch/ampemi/xxxx.xxxx/stnc/Fortran/st_sq_gnu\n",
      "-- srun -------------------------------\n",
      "$ srun -n  1 /scratch/ampemi/xxxx.xxxx/stnc/Fortran/st_sq_gnu\n",
      "Heat = 1500.0000 | Tempo = 19.2428\n",
      "-- FIM --------------------------------\n"
     ]
    }
   ],
   "source": [
    "%%bash\n",
    "d='/scratch/ampemi/xxxx.xxxx/stnc/Fortran'\n",
    "cat $d/slurm-788485.out"
   ]
  },
  {
   "cell_type": "markdown",
   "metadata": {},
   "source": [
    "### Segunda tomada de tempo"
   ]
  },
  {
   "cell_type": "code",
   "execution_count": 7,
   "metadata": {
    "scrolled": true
   },
   "outputs": [
    {
     "name": "stdout",
     "output_type": "stream",
     "text": [
      "Submitted batch job 788486\n"
     ]
    }
   ],
   "source": [
    "! sbatch st_sq_gnu.srm"
   ]
  },
  {
   "cell_type": "code",
   "execution_count": 8,
   "metadata": {},
   "outputs": [
    {
     "name": "stdout",
     "output_type": "stream",
     "text": [
      "             JOBID PARTITION     NAME     USER ST       TIME  NODES NODELIST(REASON)\n",
      "            788486   cpu_dev     stsq xxxx. PD       0:00      1 (None)\n"
     ]
    }
   ],
   "source": [
    "! squeue -n stsq"
   ]
  },
  {
   "cell_type": "code",
   "execution_count": 13,
   "metadata": {},
   "outputs": [
    {
     "name": "stdout",
     "output_type": "stream",
     "text": [
      "             JOBID PARTITION     NAME     USER ST       TIME  NODES NODELIST(REASON)\n"
     ]
    }
   ],
   "source": [
    "! squeue -n stsq"
   ]
  },
  {
   "cell_type": "code",
   "execution_count": 14,
   "metadata": {},
   "outputs": [
    {
     "name": "stdout",
     "output_type": "stream",
     "text": [
      "========================================\n",
      "- Job ID: 788486\n",
      "- Tarefas por no:\n",
      "- Qtd. de nos: 1\n",
      "- Tot. de tarefas: 1\n",
      "- Nos alocados: sdumont1090\n",
      "sdumont1090\n",
      "- diretorio onde sbatch foi chamado ($SLURM_SUBMIT_DIR):\n",
      "/prj/ampemi/xxxx.xxxx/stnc/Fortran\n",
      "-- executavel -------------------------\n",
      "Executavel: /scratch/ampemi/xxxx.xxxx/stnc/Fortran/st_sq_gnu\n",
      "-- srun -------------------------------\n",
      "$ srun -n  1 /scratch/ampemi/xxxx.xxxx/stnc/Fortran/st_sq_gnu\n",
      "Heat = 1500.0000 | Tempo = 19.3187\n",
      "-- FIM --------------------------------\n"
     ]
    }
   ],
   "source": [
    "%%bash\n",
    "d='/scratch/ampemi/xxxx.xxxx/stnc/Fortran'\n",
    "cat $d/slurm-788486.out"
   ]
  },
  {
   "cell_type": "markdown",
   "metadata": {},
   "source": [
    "### Terceira tomada de tempo"
   ]
  },
  {
   "cell_type": "code",
   "execution_count": 10,
   "metadata": {
    "scrolled": true
   },
   "outputs": [
    {
     "name": "stdout",
     "output_type": "stream",
     "text": [
      "Submitted batch job 788487\n"
     ]
    }
   ],
   "source": [
    "! sbatch st_sq_gnu.srm"
   ]
  },
  {
   "cell_type": "code",
   "execution_count": 11,
   "metadata": {},
   "outputs": [
    {
     "name": "stdout",
     "output_type": "stream",
     "text": [
      "             JOBID PARTITION     NAME     USER ST       TIME  NODES NODELIST(REASON)\n",
      "            788487   cpu_dev     stsq xxxx.  R       0:04      1 sdumont1090\n"
     ]
    }
   ],
   "source": [
    "! squeue -n stsq"
   ]
  },
  {
   "cell_type": "code",
   "execution_count": 15,
   "metadata": {},
   "outputs": [
    {
     "name": "stdout",
     "output_type": "stream",
     "text": [
      "             JOBID PARTITION     NAME     USER ST       TIME  NODES NODELIST(REASON)\n"
     ]
    }
   ],
   "source": [
    "! squeue -n stsq"
   ]
  },
  {
   "cell_type": "code",
   "execution_count": 17,
   "metadata": {},
   "outputs": [
    {
     "name": "stdout",
     "output_type": "stream",
     "text": [
      "========================================\n",
      "- Job ID: 788487\n",
      "- Tarefas por no:\n",
      "- Qtd. de nos: 1\n",
      "- Tot. de tarefas: 1\n",
      "- Nos alocados: sdumont1090\n",
      "sdumont1090\n",
      "- diretorio onde sbatch foi chamado ($SLURM_SUBMIT_DIR):\n",
      "/prj/ampemi/xxxx.xxxx/stnc/Fortran\n",
      "-- executavel -------------------------\n",
      "Executavel: /scratch/ampemi/xxxx.xxxx/stnc/Fortran/st_sq_gnu\n",
      "-- srun -------------------------------\n",
      "$ srun -n  1 /scratch/ampemi/xxxx.xxxx/stnc/Fortran/st_sq_gnu\n",
      "Heat = 1500.0000 | Tempo = 19.1887\n",
      "-- FIM --------------------------------\n"
     ]
    }
   ],
   "source": [
    "%%bash\n",
    "d='/scratch/ampemi/xxxx.xxxx/stnc/Fortran'\n",
    "cat $d/slurm-788487.out"
   ]
  },
  {
   "cell_type": "code",
   "execution_count": null,
   "metadata": {},
   "outputs": [],
   "source": []
  }
 ],
 "metadata": {
  "kernelspec": {
   "display_name": "Python 3 (ipykernel)",
   "language": "python",
   "name": "python3"
  },
  "language_info": {
   "codemirror_mode": {
    "name": "ipython",
    "version": 3
   },
   "file_extension": ".py",
   "mimetype": "text/x-python",
   "name": "python",
   "nbconvert_exporter": "python",
   "pygments_lexer": "ipython3",
   "version": "3.8.13"
  }
 },
 "nbformat": 4,
 "nbformat_minor": 4
}
